{
 "cells": [
  {
   "cell_type": "markdown",
   "id": "5ea52034",
   "metadata": {
    "id": "TGdGqKXR81Da",
    "papermill": {
     "duration": 0.025925,
     "end_time": "2023-04-26T14:47:35.208245",
     "exception": false,
     "start_time": "2023-04-26T14:47:35.182320",
     "status": "completed"
    },
    "tags": []
   },
   "source": [
    "# **Import Libraries/Dataset**"
   ]
  },
  {
   "cell_type": "code",
   "execution_count": 1,
   "id": "c5a313a0",
   "metadata": {
    "execution": {
     "iopub.execute_input": "2023-04-26T14:47:35.261340Z",
     "iopub.status.busy": "2023-04-26T14:47:35.260485Z",
     "iopub.status.idle": "2023-04-26T14:47:47.860653Z",
     "shell.execute_reply": "2023-04-26T14:47:47.859274Z"
    },
    "id": "p6S6dSSB6p-n",
    "outputId": "d82362b7-6044-45ae-c1c0-46904bfca3da",
    "papermill": {
     "duration": 12.628946,
     "end_time": "2023-04-26T14:47:47.863544",
     "exception": false,
     "start_time": "2023-04-26T14:47:35.234598",
     "status": "completed"
    },
    "tags": []
   },
   "outputs": [
    {
     "name": "stdout",
     "output_type": "stream",
     "text": [
      "Collecting chart-studio\r\n",
      "  Downloading chart_studio-1.1.0-py3-none-any.whl (64 kB)\r\n",
      "\u001b[2K     \u001b[90m━━━━━━━━━━━━━━━━━━━━━━━━━━━━━━━━━━━━━━━━\u001b[0m \u001b[32m64.4/64.4 kB\u001b[0m \u001b[31m4.2 MB/s\u001b[0m eta \u001b[36m0:00:00\u001b[0m\r\n",
      "\u001b[?25hRequirement already satisfied: requests in /opt/conda/lib/python3.7/site-packages (from chart-studio) (2.27.1)\r\n",
      "Requirement already satisfied: retrying>=1.3.3 in /opt/conda/lib/python3.7/site-packages (from chart-studio) (1.3.3)\r\n",
      "Requirement already satisfied: plotly in /opt/conda/lib/python3.7/site-packages (from chart-studio) (5.8.0)\r\n",
      "Requirement already satisfied: six in /opt/conda/lib/python3.7/site-packages (from chart-studio) (1.16.0)\r\n",
      "Requirement already satisfied: tenacity>=6.2.0 in /opt/conda/lib/python3.7/site-packages (from plotly->chart-studio) (8.0.1)\r\n",
      "Requirement already satisfied: idna<4,>=2.5 in /opt/conda/lib/python3.7/site-packages (from requests->chart-studio) (3.3)\r\n",
      "Requirement already satisfied: charset-normalizer~=2.0.0 in /opt/conda/lib/python3.7/site-packages (from requests->chart-studio) (2.0.12)\r\n",
      "Requirement already satisfied: urllib3<1.27,>=1.21.1 in /opt/conda/lib/python3.7/site-packages (from requests->chart-studio) (1.26.9)\r\n",
      "Requirement already satisfied: certifi>=2017.4.17 in /opt/conda/lib/python3.7/site-packages (from requests->chart-studio) (2022.5.18.1)\r\n",
      "Installing collected packages: chart-studio\r\n",
      "Successfully installed chart-studio-1.1.0\r\n",
      "\u001b[33mWARNING: Running pip as the 'root' user can result in broken permissions and conflicting behaviour with the system package manager. It is recommended to use a virtual environment instead: https://pip.pypa.io/warnings/venv\u001b[0m\u001b[33m\r\n",
      "\u001b[0m"
     ]
    }
   ],
   "source": [
    "!pip install chart-studio"
   ]
  },
  {
   "cell_type": "code",
   "execution_count": 2,
   "id": "a68696ad",
   "metadata": {
    "execution": {
     "iopub.execute_input": "2023-04-26T14:47:47.917010Z",
     "iopub.status.busy": "2023-04-26T14:47:47.916547Z",
     "iopub.status.idle": "2023-04-26T14:47:54.939831Z",
     "shell.execute_reply": "2023-04-26T14:47:54.938560Z"
    },
    "id": "8DYBlfBI87G4",
    "papermill": {
     "duration": 7.053515,
     "end_time": "2023-04-26T14:47:54.942465",
     "exception": false,
     "start_time": "2023-04-26T14:47:47.888950",
     "status": "completed"
    },
    "tags": []
   },
   "outputs": [],
   "source": [
    "import pandas as pd\n",
    "from sklearn.model_selection import *\n",
    "from sklearn.feature_extraction.text import *\n",
    "import numpy as np\n",
    "import matplotlib.pyplot as plt\n",
    "import seaborn as sns\n",
    "from sklearn.preprocessing import MinMaxScaler\n",
    "from sklearn.tree import DecisionTreeClassifier\n",
    "from sklearn import tree\n",
    "from collections import Counter\n",
    "from sklearn.feature_extraction.text import CountVectorizer\n",
    "from sklearn.metrics import confusion_matrix\n",
    "from sklearn.feature_extraction.text import TfidfVectorizer\n",
    "from scipy.sparse import hstack\n",
    "from scipy.sparse import csr_matrix\n",
    "from sklearn.metrics import roc_curve, auc\n",
    "from sklearn.metrics import confusion_matrix\n",
    "from sklearn.model_selection import GridSearchCV\n",
    "from sklearn.tree import DecisionTreeClassifier\n",
    "from sklearn.preprocessing import *\n",
    "from tensorflow import keras\n",
    "import plotly.graph_objs as go\n",
    "import pandas as pd\n",
    "from chart_studio import plotly as py\n",
    "  \n",
    "# some more libraries to plot graph\n",
    "from plotly.offline import download_plotlyjs, init_notebook_mode, iplot, plot"
   ]
  },
  {
   "cell_type": "markdown",
   "id": "f86290b0",
   "metadata": {
    "id": "5qEgzCHbBB2H",
    "papermill": {
     "duration": 0.02444,
     "end_time": "2023-04-26T14:47:54.991930",
     "exception": false,
     "start_time": "2023-04-26T14:47:54.967490",
     "status": "completed"
    },
    "tags": []
   },
   "source": [
    "# **Data Visualization and Exploration**"
   ]
  },
  {
   "cell_type": "markdown",
   "id": "6b95aae6",
   "metadata": {
    "id": "q8Sk90XxBMB-",
    "papermill": {
     "duration": 0.024386,
     "end_time": "2023-04-26T14:47:55.041438",
     "exception": false,
     "start_time": "2023-04-26T14:47:55.017052",
     "status": "completed"
    },
    "tags": []
   },
   "source": [
    "### 10 rows printed for sanity check to identify all the features present in the dataset and to check if the target matches with them."
   ]
  },
  {
   "cell_type": "code",
   "execution_count": 3,
   "id": "7d8b7599",
   "metadata": {
    "execution": {
     "iopub.execute_input": "2023-04-26T14:47:55.092945Z",
     "iopub.status.busy": "2023-04-26T14:47:55.091966Z",
     "iopub.status.idle": "2023-04-26T14:47:58.746460Z",
     "shell.execute_reply": "2023-04-26T14:47:58.745596Z"
    },
    "id": "9qBgkLMsBXNO",
    "outputId": "19cb0db3-795a-4100-950a-48128d319af5",
    "papermill": {
     "duration": 3.683137,
     "end_time": "2023-04-26T14:47:58.749109",
     "exception": false,
     "start_time": "2023-04-26T14:47:55.065972",
     "status": "completed"
    },
    "tags": []
   },
   "outputs": [
    {
     "data": {
      "text/html": [
       "<div>\n",
       "<style scoped>\n",
       "    .dataframe tbody tr th:only-of-type {\n",
       "        vertical-align: middle;\n",
       "    }\n",
       "\n",
       "    .dataframe tbody tr th {\n",
       "        vertical-align: top;\n",
       "    }\n",
       "\n",
       "    .dataframe thead th {\n",
       "        text-align: right;\n",
       "    }\n",
       "</style>\n",
       "<table border=\"1\" class=\"dataframe\">\n",
       "  <thead>\n",
       "    <tr style=\"text-align: right;\">\n",
       "      <th></th>\n",
       "      <th>id</th>\n",
       "      <th>teacher_prefix</th>\n",
       "      <th>school_state</th>\n",
       "      <th>project_grade_category</th>\n",
       "      <th>project_subject_categories</th>\n",
       "      <th>project_subject_subcategories</th>\n",
       "      <th>teacher_number_of_previously_posted_projects</th>\n",
       "      <th>project_is_approved</th>\n",
       "      <th>price</th>\n",
       "      <th>quantity</th>\n",
       "      <th>cleaned_titles</th>\n",
       "      <th>cleaned_essays</th>\n",
       "      <th>cleaned_summary</th>\n",
       "      <th>isdigit_summary</th>\n",
       "    </tr>\n",
       "  </thead>\n",
       "  <tbody>\n",
       "    <tr>\n",
       "      <th>0</th>\n",
       "      <td>p253737</td>\n",
       "      <td>mrs</td>\n",
       "      <td>in</td>\n",
       "      <td>grades_prek_2</td>\n",
       "      <td>literacy_language</td>\n",
       "      <td>esl_literacy</td>\n",
       "      <td>0</td>\n",
       "      <td>0</td>\n",
       "      <td>154.60</td>\n",
       "      <td>23</td>\n",
       "      <td>educational support english learners home</td>\n",
       "      <td>students english learners working english seco...</td>\n",
       "      <td>students_need_opportunities_practice_beginning...</td>\n",
       "      <td>0</td>\n",
       "    </tr>\n",
       "    <tr>\n",
       "      <th>1</th>\n",
       "      <td>p258326</td>\n",
       "      <td>mr</td>\n",
       "      <td>fl</td>\n",
       "      <td>grades_6_8</td>\n",
       "      <td>history_civics_health_sports</td>\n",
       "      <td>civics_government_teamsports</td>\n",
       "      <td>7</td>\n",
       "      <td>1</td>\n",
       "      <td>299.00</td>\n",
       "      <td>1</td>\n",
       "      <td>wanted projector hungry learners</td>\n",
       "      <td>students arrive school eager learn polite gene...</td>\n",
       "      <td>students_need_projector_help_viewing_education...</td>\n",
       "      <td>0</td>\n",
       "    </tr>\n",
       "    <tr>\n",
       "      <th>2</th>\n",
       "      <td>p182444</td>\n",
       "      <td>ms</td>\n",
       "      <td>az</td>\n",
       "      <td>grades_6_8</td>\n",
       "      <td>health_sports</td>\n",
       "      <td>health_wellness_teamsports</td>\n",
       "      <td>1</td>\n",
       "      <td>0</td>\n",
       "      <td>516.85</td>\n",
       "      <td>22</td>\n",
       "      <td>soccer equipment awesome middle school students</td>\n",
       "      <td>true champions not always ones win guts mia ha...</td>\n",
       "      <td>students_need_shine_guards_athletic_socks_socc...</td>\n",
       "      <td>0</td>\n",
       "    </tr>\n",
       "    <tr>\n",
       "      <th>3</th>\n",
       "      <td>p246581</td>\n",
       "      <td>mrs</td>\n",
       "      <td>ky</td>\n",
       "      <td>grades_prek_2</td>\n",
       "      <td>literacy_language_math_science</td>\n",
       "      <td>literacy_mathematics</td>\n",
       "      <td>4</td>\n",
       "      <td>1</td>\n",
       "      <td>232.90</td>\n",
       "      <td>4</td>\n",
       "      <td>techie kindergarteners</td>\n",
       "      <td>work unique school filled esl english second l...</td>\n",
       "      <td>students_need_engage_reading_math_way_inspire_...</td>\n",
       "      <td>0</td>\n",
       "    </tr>\n",
       "    <tr>\n",
       "      <th>4</th>\n",
       "      <td>p104768</td>\n",
       "      <td>mrs</td>\n",
       "      <td>tx</td>\n",
       "      <td>grades_prek_2</td>\n",
       "      <td>math_science</td>\n",
       "      <td>mathematics</td>\n",
       "      <td>1</td>\n",
       "      <td>1</td>\n",
       "      <td>67.98</td>\n",
       "      <td>4</td>\n",
       "      <td>interactive math tools</td>\n",
       "      <td>second grade classroom next year made around 2...</td>\n",
       "      <td>students_need_hands_practice_mathematics_fun_p...</td>\n",
       "      <td>0</td>\n",
       "    </tr>\n",
       "    <tr>\n",
       "      <th>5</th>\n",
       "      <td>p154343</td>\n",
       "      <td>mrs</td>\n",
       "      <td>fl</td>\n",
       "      <td>grades_3_5</td>\n",
       "      <td>literacy_language_specialneeds</td>\n",
       "      <td>literature_writing_specialneeds</td>\n",
       "      <td>1</td>\n",
       "      <td>1</td>\n",
       "      <td>113.22</td>\n",
       "      <td>11</td>\n",
       "      <td>flexible seating mrs jarvis terrific third gra...</td>\n",
       "      <td>moving 2nd grade 3rd grade beginning next scho...</td>\n",
       "      <td>students_need_movement_successful_variety_stud...</td>\n",
       "      <td>0</td>\n",
       "    </tr>\n",
       "    <tr>\n",
       "      <th>6</th>\n",
       "      <td>p099819</td>\n",
       "      <td>mrs</td>\n",
       "      <td>ct</td>\n",
       "      <td>grades_6_8</td>\n",
       "      <td>literacy_language_specialneeds</td>\n",
       "      <td>literacy_specialneeds</td>\n",
       "      <td>1</td>\n",
       "      <td>1</td>\n",
       "      <td>159.99</td>\n",
       "      <td>3</td>\n",
       "      <td>chromebooks special education reading program</td>\n",
       "      <td>students dynamic energetic group middle school...</td>\n",
       "      <td>students_need_dependable_laptops_daily_classro...</td>\n",
       "      <td>0</td>\n",
       "    </tr>\n",
       "    <tr>\n",
       "      <th>7</th>\n",
       "      <td>p092424</td>\n",
       "      <td>ms</td>\n",
       "      <td>ga</td>\n",
       "      <td>grades_3_5</td>\n",
       "      <td>math_science</td>\n",
       "      <td>mathematics</td>\n",
       "      <td>7</td>\n",
       "      <td>1</td>\n",
       "      <td>229.00</td>\n",
       "      <td>4</td>\n",
       "      <td>21st century</td>\n",
       "      <td>not students struggle poverty also learning ma...</td>\n",
       "      <td>students_need_ipads_help_access_world_online_r...</td>\n",
       "      <td>0</td>\n",
       "    </tr>\n",
       "    <tr>\n",
       "      <th>8</th>\n",
       "      <td>p045029</td>\n",
       "      <td>mrs</td>\n",
       "      <td>sc</td>\n",
       "      <td>grades_prek_2</td>\n",
       "      <td>health_sports</td>\n",
       "      <td>health_wellness</td>\n",
       "      <td>28</td>\n",
       "      <td>1</td>\n",
       "      <td>241.98</td>\n",
       "      <td>6</td>\n",
       "      <td>targeting success class</td>\n",
       "      <td>students enthusiastic inquisitive learners k 6...</td>\n",
       "      <td>students_need_three_devices_three_management_l...</td>\n",
       "      <td>0</td>\n",
       "    </tr>\n",
       "    <tr>\n",
       "      <th>9</th>\n",
       "      <td>p001713</td>\n",
       "      <td>ms</td>\n",
       "      <td>nc</td>\n",
       "      <td>grades_prek_2</td>\n",
       "      <td>literacy_language</td>\n",
       "      <td>literacy_literature_writing</td>\n",
       "      <td>36</td>\n",
       "      <td>1</td>\n",
       "      <td>125.36</td>\n",
       "      <td>14</td>\n",
       "      <td>love reading pure pleasure</td>\n",
       "      <td>95 students free reduced lunch homeless despit...</td>\n",
       "      <td>students_need_great_books_use_independent_read...</td>\n",
       "      <td>0</td>\n",
       "    </tr>\n",
       "  </tbody>\n",
       "</table>\n",
       "</div>"
      ],
      "text/plain": [
       "        id teacher_prefix school_state project_grade_category  \\\n",
       "0  p253737            mrs           in          grades_prek_2   \n",
       "1  p258326             mr           fl             grades_6_8   \n",
       "2  p182444             ms           az             grades_6_8   \n",
       "3  p246581            mrs           ky          grades_prek_2   \n",
       "4  p104768            mrs           tx          grades_prek_2   \n",
       "5  p154343            mrs           fl             grades_3_5   \n",
       "6  p099819            mrs           ct             grades_6_8   \n",
       "7  p092424             ms           ga             grades_3_5   \n",
       "8  p045029            mrs           sc          grades_prek_2   \n",
       "9  p001713             ms           nc          grades_prek_2   \n",
       "\n",
       "       project_subject_categories    project_subject_subcategories  \\\n",
       "0               literacy_language                     esl_literacy   \n",
       "1    history_civics_health_sports     civics_government_teamsports   \n",
       "2                   health_sports       health_wellness_teamsports   \n",
       "3  literacy_language_math_science             literacy_mathematics   \n",
       "4                    math_science                      mathematics   \n",
       "5  literacy_language_specialneeds  literature_writing_specialneeds   \n",
       "6  literacy_language_specialneeds            literacy_specialneeds   \n",
       "7                    math_science                      mathematics   \n",
       "8                   health_sports                  health_wellness   \n",
       "9               literacy_language      literacy_literature_writing   \n",
       "\n",
       "   teacher_number_of_previously_posted_projects  project_is_approved   price  \\\n",
       "0                                             0                    0  154.60   \n",
       "1                                             7                    1  299.00   \n",
       "2                                             1                    0  516.85   \n",
       "3                                             4                    1  232.90   \n",
       "4                                             1                    1   67.98   \n",
       "5                                             1                    1  113.22   \n",
       "6                                             1                    1  159.99   \n",
       "7                                             7                    1  229.00   \n",
       "8                                            28                    1  241.98   \n",
       "9                                            36                    1  125.36   \n",
       "\n",
       "   quantity                                     cleaned_titles  \\\n",
       "0        23          educational support english learners home   \n",
       "1         1                   wanted projector hungry learners   \n",
       "2        22    soccer equipment awesome middle school students   \n",
       "3         4                             techie kindergarteners   \n",
       "4         4                             interactive math tools   \n",
       "5        11  flexible seating mrs jarvis terrific third gra...   \n",
       "6         3      chromebooks special education reading program   \n",
       "7         4                                       21st century   \n",
       "8         6                            targeting success class   \n",
       "9        14                         love reading pure pleasure   \n",
       "\n",
       "                                      cleaned_essays  \\\n",
       "0  students english learners working english seco...   \n",
       "1  students arrive school eager learn polite gene...   \n",
       "2  true champions not always ones win guts mia ha...   \n",
       "3  work unique school filled esl english second l...   \n",
       "4  second grade classroom next year made around 2...   \n",
       "5  moving 2nd grade 3rd grade beginning next scho...   \n",
       "6  students dynamic energetic group middle school...   \n",
       "7  not students struggle poverty also learning ma...   \n",
       "8  students enthusiastic inquisitive learners k 6...   \n",
       "9  95 students free reduced lunch homeless despit...   \n",
       "\n",
       "                                     cleaned_summary  isdigit_summary  \n",
       "0  students_need_opportunities_practice_beginning...                0  \n",
       "1  students_need_projector_help_viewing_education...                0  \n",
       "2  students_need_shine_guards_athletic_socks_socc...                0  \n",
       "3  students_need_engage_reading_math_way_inspire_...                0  \n",
       "4  students_need_hands_practice_mathematics_fun_p...                0  \n",
       "5  students_need_movement_successful_variety_stud...                0  \n",
       "6  students_need_dependable_laptops_daily_classro...                0  \n",
       "7  students_need_ipads_help_access_world_online_r...                0  \n",
       "8  students_need_three_devices_three_management_l...                0  \n",
       "9  students_need_great_books_use_independent_read...                0  "
      ]
     },
     "execution_count": 3,
     "metadata": {},
     "output_type": "execute_result"
    }
   ],
   "source": [
    "#To read data from data set \n",
    "\n",
    "donor_data = pd.read_csv(\"/kaggle/input/donors-choose-dataset/Preprocessed_DonorsChoose_dataset.csv\")\n",
    "donor_data.head(10)"
   ]
  },
  {
   "cell_type": "markdown",
   "id": "0d0be12e",
   "metadata": {
    "id": "wTFFyVlQCc2Z",
    "papermill": {
     "duration": 0.025502,
     "end_time": "2023-04-26T14:47:58.799841",
     "exception": false,
     "start_time": "2023-04-26T14:47:58.774339",
     "status": "completed"
    },
    "tags": []
   },
   "source": [
    "## Univariate analysis on teacher_prefix, Price, State, with target variable.\n",
    "(% of projects approved w.r.t teacher_prefix,price,state)"
   ]
  },
  {
   "cell_type": "markdown",
   "id": "1c5b3d87",
   "metadata": {
    "id": "_q-XuXwMpzFf",
    "papermill": {
     "duration": 0.024883,
     "end_time": "2023-04-26T14:47:58.850072",
     "exception": false,
     "start_time": "2023-04-26T14:47:58.825189",
     "status": "completed"
    },
    "tags": []
   },
   "source": [
    "### **% of projects approved w.r.t teacher_prefix**"
   ]
  },
  {
   "cell_type": "code",
   "execution_count": 4,
   "id": "d9ffbe81",
   "metadata": {
    "execution": {
     "iopub.execute_input": "2023-04-26T14:47:58.903061Z",
     "iopub.status.busy": "2023-04-26T14:47:58.902144Z",
     "iopub.status.idle": "2023-04-26T14:47:59.667010Z",
     "shell.execute_reply": "2023-04-26T14:47:59.666270Z"
    },
    "id": "7DOzt-nQCkd4",
    "outputId": "969dd698-9958-491d-88f3-04b66e8edfae",
    "papermill": {
     "duration": 0.793558,
     "end_time": "2023-04-26T14:47:59.668901",
     "exception": false,
     "start_time": "2023-04-26T14:47:58.875343",
     "status": "completed"
    },
    "tags": []
   },
   "outputs": [
    {
     "data": {
      "image/png": "[encoded data removed]",
      "text/plain": [
       "<Figure size 720x360 with 1 Axes>"
      ]
     },
     "metadata": {
      "needs_background": "light"
     },
     "output_type": "display_data"
    }
   ],
   "source": [
    "df = donor_data[donor_data.project_is_approved == 1].groupby('teacher_prefix').count()\n",
    "df = df.reset_index().copy()\n",
    "plt.figure(figsize=(10,5))\n",
    "plt.xticks(rotation=90)\n",
    "plt.ylabel('Count of projects approved')\n",
    "plt.bar(df['teacher_prefix'],df['project_is_approved'], log=True)\n",
    "\n",
    "for i in range(len(df['teacher_prefix'])):\n",
    "        plt.text(i,df['project_is_approved'][i],df['project_is_approved'][i], ha = 'center', bbox = dict(facecolor = 'red', alpha =.8))"
   ]
  },
  {
   "cell_type": "markdown",
   "id": "c6435157",
   "metadata": {
    "id": "ikm6Skbs2KyQ",
    "papermill": {
     "duration": 0.025551,
     "end_time": "2023-04-26T14:47:59.720067",
     "exception": false,
     "start_time": "2023-04-26T14:47:59.694516",
     "status": "completed"
    },
    "tags": []
   },
   "source": [
    "### **Distribution of Teachers Prefix**"
   ]
  },
  {
   "cell_type": "code",
   "execution_count": 5,
   "id": "7f3155d4",
   "metadata": {
    "execution": {
     "iopub.execute_input": "2023-04-26T14:47:59.772857Z",
     "iopub.status.busy": "2023-04-26T14:47:59.772440Z",
     "iopub.status.idle": "2023-04-26T14:47:59.926977Z",
     "shell.execute_reply": "2023-04-26T14:47:59.925510Z"
    },
    "id": "hEzY6fkn2Sro",
    "outputId": "45b8cb40-a9ab-42db-a6a2-0d796068b652",
    "papermill": {
     "duration": 0.185427,
     "end_time": "2023-04-26T14:47:59.931135",
     "exception": false,
     "start_time": "2023-04-26T14:47:59.745708",
     "status": "completed"
    },
    "tags": []
   },
   "outputs": [
    {
     "data": {
      "text/plain": [
       "([<matplotlib.patches.Wedge at 0x7128db5a4a90>,\n",
       "  <matplotlib.patches.Wedge at 0x7128db5ac3d0>,\n",
       "  <matplotlib.patches.Wedge at 0x7128db5acc10>,\n",
       "  <matplotlib.patches.Wedge at 0x7128db5ac910>,\n",
       "  <matplotlib.patches.Wedge at 0x7128db5b6c50>],\n",
       " [Text(2.1999998976797124, 0.0006709763453133982, 'dr'),\n",
       "  Text(2.098962322460949, 0.6590577887327796, 'mr'),\n",
       "  Text(-1.4131998433002866, 1.6860801294410792, 'mrs'),\n",
       "  Text(0.7129620949875407, -2.0812700572273117, 'ms'),\n",
       "  Text(2.195551054273338, -0.1398412245342397, 'teacher')],\n",
       " [Text(1.699999920934323, 0.0005184817213785349, '0.010%'),\n",
       "  Text(1.621925430992551, 0.5092719276571478, '9.665%'),\n",
       "  Text(-1.0920180607320396, 1.302880100022652, '52.855%'),\n",
       "  Text(0.550925255217645, -1.6082541351301953, '35.445%'),\n",
       "  Text(1.6965621783021245, -0.1080591280491852, '2.025%')])"
      ]
     },
     "execution_count": 5,
     "metadata": {},
     "output_type": "execute_result"
    },
    {
     "data": {
      "image/png": "[encoded data removed]",
      "text/plain": [
       "<Figure size 432x288 with 1 Axes>"
      ]
     },
     "metadata": {},
     "output_type": "display_data"
    }
   ],
   "source": [
    "# colors\n",
    "colors = ['#f7770f', '#1d74b4', '#d62728', '#2ca02c', '#9467bd']\n",
    "# Pie Chart\n",
    "plt.pie(df['project_is_approved'], colors=colors, labels=df['teacher_prefix'],\n",
    "        autopct='%1.3f%%', pctdistance=0.85, radius=2)"
   ]
  },
  {
   "cell_type": "markdown",
   "id": "d41da60b",
   "metadata": {
    "id": "MEoY8WLaFXqp",
    "papermill": {
     "duration": 0.027113,
     "end_time": "2023-04-26T14:48:00.017860",
     "exception": false,
     "start_time": "2023-04-26T14:47:59.990747",
     "status": "completed"
    },
    "tags": []
   },
   "source": [
    "### **% of projects approved w.r.t state**"
   ]
  },
  {
   "cell_type": "code",
   "execution_count": 6,
   "id": "52271aed",
   "metadata": {
    "execution": {
     "iopub.execute_input": "2023-04-26T14:48:00.071761Z",
     "iopub.status.busy": "2023-04-26T14:48:00.071293Z",
     "iopub.status.idle": "2023-04-26T14:48:00.181018Z",
     "shell.execute_reply": "2023-04-26T14:48:00.180226Z"
    },
    "id": "4kSn4rlWOwr1",
    "papermill": {
     "duration": 0.139515,
     "end_time": "2023-04-26T14:48:00.183479",
     "exception": false,
     "start_time": "2023-04-26T14:48:00.043964",
     "status": "completed"
    },
    "tags": []
   },
   "outputs": [],
   "source": [
    "df = donor_data[donor_data.project_is_approved == 1].groupby('school_state').count()\n",
    "df = df.reset_index().copy()\n",
    "df['school_state'] = df['school_state'].str.upper()\n",
    "locations = df['school_state'].tolist()"
   ]
  },
  {
   "cell_type": "code",
   "execution_count": 7,
   "id": "824057b0",
   "metadata": {
    "execution": {
     "iopub.execute_input": "2023-04-26T14:48:00.237600Z",
     "iopub.status.busy": "2023-04-26T14:48:00.237161Z",
     "iopub.status.idle": "2023-04-26T14:48:01.266690Z",
     "shell.execute_reply": "2023-04-26T14:48:01.265733Z"
    },
    "id": "5YX1CSibFbEM",
    "outputId": "77fc0a89-ae7b-4001-a294-29b0f3ac4f47",
    "papermill": {
     "duration": 1.05921,
     "end_time": "2023-04-26T14:48:01.268782",
     "exception": false,
     "start_time": "2023-04-26T14:48:00.209572",
     "status": "completed"
    },
    "tags": []
   },
   "outputs": [
    {
     "data": {
      "text/html": [
       "        <script type=\"text/javascript\">\n",
       "        window.PlotlyConfig = {MathJaxConfig: 'local'};\n",
       "        if (window.MathJax && window.MathJax.Hub && window.MathJax.Hub.Config) {window.MathJax.Hub.Config({SVG: {font: \"STIX-Web\"}});}\n",
       "        if (typeof require !== 'undefined') {\n",
       "        require.undef(\"plotly\");\n",
       "        requirejs.config({\n",
       "            paths: {\n",
       "                'plotly': ['https://cdn.plot.ly/plotly-2.12.1.min']\n",
       "            }\n",
       "        });\n",
       "        require(['plotly'], function(Plotly) {\n",
       "            window._Plotly = Plotly;\n",
       "        });\n",
       "        }\n",
       "        </script>\n",
       "        "
      ]
     },
     "metadata": {},
     "output_type": "display_data"
    },
    {
     "data": {
      "application/vnd.plotly.v1+json": {
       "config": {
        "linkText": "Export to plot.ly",
        "plotlyServerURL": "https://plot.ly",
        "showLink": false
       },
       "data": [
        {
         "colorbar": {
          "title": {
           "text": "Rate of projects approved"
          }
         },
         "colorscale": [
          [
           0.0,
           "rgb(36, 86, 104)"
          ],
          [
           0.16666666666666666,
           "rgb(15, 114, 121)"
          ],
          [
           0.3333333333333333,
           "rgb(13, 143, 129)"
          ],
          [
           0.5,
           "rgb(57, 171, 126)"
          ],
          [
           0.6666666666666666,
           "rgb(110, 197, 116)"
          ],
          [
           0.8333333333333334,
           "rgb(169, 220, 103)"
          ],
          [
           1.0,
           "rgb(237, 239, 93)"
          ]
         ],
         "locationmode": "USA-states",
         "locations": [
          "AK",
          "AL",
          "AR",
          "AZ",
          "CA",
          "CO",
          "CT",
          "DC",
          "DE",
          "FL",
          "GA",
          "HI",
          "IA",
          "ID",
          "IL",
          "IN",
          "KS",
          "KY",
          "LA",
          "MA",
          "MD",
          "ME",
          "MI",
          "MN",
          "MO",
          "MS",
          "MT",
          "NC",
          "ND",
          "NE",
          "NH",
          "NJ",
          "NM",
          "NV",
          "NY",
          "OH",
          "OK",
          "OR",
          "PA",
          "RI",
          "SC",
          "SD",
          "TN",
          "TX",
          "UT",
          "VA",
          "VT",
          "WA",
          "WI",
          "WV",
          "WY"
         ],
         "type": "choropleth",
         "z": [
          290,
          1506,
          872,
          1800,
          13205,
          935,
          1445,
          414,
          308,
          5144,
          3329,
          434,
          568,
          579,
          3710,
          2214,
          532,
          1126,
          1990,
          2055,
          1270,
          428,
          2672,
          1036,
          2202,
          1118,
          200,
          4353,
          127,
          260,
          304,
          1888,
          479,
          1167,
          6291,
          2159,
          1900,
          1056,
          2658,
          243,
          3385,
          252,
          1435,
          6014,
          1448,
          1739,
          64,
          2045,
          1545,
          430,
          82
         ]
        }
       ],
       "layout": {
        "geo": {
         "scope": "usa"
        },
        "height": 1000,
        "margin": {
         "b": 0,
         "l": 0,
         "r": 0,
         "t": 0
        },
        "template": {
         "data": {
          "bar": [
           {
            "error_x": {
             "color": "#2a3f5f"
            },
            "error_y": {
             "color": "#2a3f5f"
            },
            "marker": {
             "line": {
              "color": "#E5ECF6",
              "width": 0.5
             },
             "pattern": {
              "fillmode": "overlay",
              "size": 10,
              "solidity": 0.2
             }
            },
            "type": "bar"
           }
          ],
          "barpolar": [
           {
            "marker": {
             "line": {
              "color": "#E5ECF6",
              "width": 0.5
             },
             "pattern": {
              "fillmode": "overlay",
              "size": 10,
              "solidity": 0.2
             }
            },
            "type": "barpolar"
           }
          ],
          "carpet": [
           {
            "aaxis": {
             "endlinecolor": "#2a3f5f",
             "gridcolor": "white",
             "linecolor": "white",
             "minorgridcolor": "white",
             "startlinecolor": "#2a3f5f"
            },
            "baxis": {
             "endlinecolor": "#2a3f5f",
             "gridcolor": "white",
             "linecolor": "white",
             "minorgridcolor": "white",
             "startlinecolor": "#2a3f5f"
            },
            "type": "carpet"
           }
          ],
          "choropleth": [
           {
            "colorbar": {
             "outlinewidth": 0,
             "ticks": ""
            },
            "type": "choropleth"
           }
          ],
          "contour": [
           {
            "colorbar": {
             "outlinewidth": 0,
             "ticks": ""
            },
            "colorscale": [
             [
              0.0,
              "#0d0887"
             ],
             [
              0.1111111111111111,
              "#46039f"
             ],
             [
              0.2222222222222222,
              "#7201a8"
             ],
             [
              0.3333333333333333,
              "#9c179e"
             ],
             [
              0.4444444444444444,
              "#bd3786"
             ],
             [
              0.5555555555555556,
              "#d8576b"
             ],
             [
              0.6666666666666666,
              "#ed7953"
             ],
             [
              0.7777777777777778,
              "#fb9f3a"
             ],
             [
              0.8888888888888888,
              "#fdca26"
             ],
             [
              1.0,
              "#f0f921"
             ]
            ],
            "type": "contour"
           }
          ],
          "contourcarpet": [
           {
            "colorbar": {
             "outlinewidth": 0,
             "ticks": ""
            },
            "type": "contourcarpet"
           }
          ],
          "heatmap": [
           {
            "colorbar": {
             "outlinewidth": 0,
             "ticks": ""
            },
            "colorscale": [
             [
              0.0,
              "#0d0887"
             ],
             [
              0.1111111111111111,
              "#46039f"
             ],
             [
              0.2222222222222222,
              "#7201a8"
             ],
             [
              0.3333333333333333,
              "#9c179e"
             ],
             [
              0.4444444444444444,
              "#bd3786"
             ],
             [
              0.5555555555555556,
              "#d8576b"
             ],
             [
              0.6666666666666666,
              "#ed7953"
             ],
             [
              0.7777777777777778,
              "#fb9f3a"
             ],
             [
              0.8888888888888888,
              "#fdca26"
             ],
             [
              1.0,
              "#f0f921"
             ]
            ],
            "type": "heatmap"
           }
          ],
          "heatmapgl": [
           {
            "colorbar": {
             "outlinewidth": 0,
             "ticks": ""
            },
            "colorscale": [
             [
              0.0,
              "#0d0887"
             ],
             [
              0.1111111111111111,
              "#46039f"
             ],
             [
              0.2222222222222222,
              "#7201a8"
             ],
             [
              0.3333333333333333,
              "#9c179e"
             ],
             [
              0.4444444444444444,
              "#bd3786"
             ],
             [
              0.5555555555555556,
              "#d8576b"
             ],
             [
              0.6666666666666666,
              "#ed7953"
             ],
             [
              0.7777777777777778,
              "#fb9f3a"
             ],
             [
              0.8888888888888888,
              "#fdca26"
             ],
             [
              1.0,
              "#f0f921"
             ]
            ],
            "type": "heatmapgl"
           }
          ],
          "histogram": [
           {
            "marker": {
             "pattern": {
              "fillmode": "overlay",
              "size": 10,
              "solidity": 0.2
             }
            },
            "type": "histogram"
           }
          ],
          "histogram2d": [
           {
            "colorbar": {
             "outlinewidth": 0,
             "ticks": ""
            },
            "colorscale": [
             [
              0.0,
              "#0d0887"
             ],
             [
              0.1111111111111111,
              "#46039f"
             ],
             [
              0.2222222222222222,
              "#7201a8"
             ],
             [
              0.3333333333333333,
              "#9c179e"
             ],
             [
              0.4444444444444444,
              "#bd3786"
             ],
             [
              0.5555555555555556,
              "#d8576b"
             ],
             [
              0.6666666666666666,
              "#ed7953"
             ],
             [
              0.7777777777777778,
              "#fb9f3a"
             ],
             [
              0.8888888888888888,
              "#fdca26"
             ],
             [
              1.0,
              "#f0f921"
             ]
            ],
            "type": "histogram2d"
           }
          ],
          "histogram2dcontour": [
           {
            "colorbar": {
             "outlinewidth": 0,
             "ticks": ""
            },
            "colorscale": [
             [
              0.0,
              "#0d0887"
             ],
             [
              0.1111111111111111,
              "#46039f"
             ],
             [
              0.2222222222222222,
              "#7201a8"
             ],
             [
              0.3333333333333333,
              "#9c179e"
             ],
             [
              0.4444444444444444,
              "#bd3786"
             ],
             [
              0.5555555555555556,
              "#d8576b"
             ],
             [
              0.6666666666666666,
              "#ed7953"
             ],
             [
              0.7777777777777778,
              "#fb9f3a"
             ],
             [
              0.8888888888888888,
              "#fdca26"
             ],
             [
              1.0,
              "#f0f921"
             ]
            ],
            "type": "histogram2dcontour"
           }
          ],
          "mesh3d": [
           {
            "colorbar": {
             "outlinewidth": 0,
             "ticks": ""
            },
            "type": "mesh3d"
           }
          ],
          "parcoords": [
           {
            "line": {
             "colorbar": {
              "outlinewidth": 0,
              "ticks": ""
             }
            },
            "type": "parcoords"
           }
          ],
          "pie": [
           {
            "automargin": true,
            "type": "pie"
           }
          ],
          "scatter": [
           {
            "fillpattern": {
             "fillmode": "overlay",
             "size": 10,
             "solidity": 0.2
            },
            "type": "scatter"
           }
          ],
          "scatter3d": [
           {
            "line": {
             "colorbar": {
              "outlinewidth": 0,
              "ticks": ""
             }
            },
            "marker": {
             "colorbar": {
              "outlinewidth": 0,
              "ticks": ""
             }
            },
            "type": "scatter3d"
           }
          ],
          "scattercarpet": [
           {
            "marker": {
             "colorbar": {
              "outlinewidth": 0,
              "ticks": ""
             }
            },
            "type": "scattercarpet"
           }
          ],
          "scattergeo": [
           {
            "marker": {
             "colorbar": {
              "outlinewidth": 0,
              "ticks": ""
             }
            },
            "type": "scattergeo"
           }
          ],
          "scattergl": [
           {
            "marker": {
             "colorbar": {
              "outlinewidth": 0,
              "ticks": ""
             }
            },
            "type": "scattergl"
           }
          ],
          "scattermapbox": [
           {
            "marker": {
             "colorbar": {
              "outlinewidth": 0,
              "ticks": ""
             }
            },
            "type": "scattermapbox"
           }
          ],
          "scatterpolar": [
           {
            "marker": {
             "colorbar": {
              "outlinewidth": 0,
              "ticks": ""
             }
            },
            "type": "scatterpolar"
           }
          ],
          "scatterpolargl": [
           {
            "marker": {
             "colorbar": {
              "outlinewidth": 0,
              "ticks": ""
             }
            },
            "type": "scatterpolargl"
           }
          ],
          "scatterternary": [
           {
            "marker": {
             "colorbar": {
              "outlinewidth": 0,
              "ticks": ""
             }
            },
            "type": "scatterternary"
           }
          ],
          "surface": [
           {
            "colorbar": {
             "outlinewidth": 0,
             "ticks": ""
            },
            "colorscale": [
             [
              0.0,
              "#0d0887"
             ],
             [
              0.1111111111111111,
              "#46039f"
             ],
             [
              0.2222222222222222,
              "#7201a8"
             ],
             [
              0.3333333333333333,
              "#9c179e"
             ],
             [
              0.4444444444444444,
              "#bd3786"
             ],
             [
              0.5555555555555556,
              "#d8576b"
             ],
             [
              0.6666666666666666,
              "#ed7953"
             ],
             [
              0.7777777777777778,
              "#fb9f3a"
             ],
             [
              0.8888888888888888,
              "#fdca26"
             ],
             [
              1.0,
              "#f0f921"
             ]
            ],
            "type": "surface"
           }
          ],
          "table": [
           {
            "cells": {
             "fill": {
              "color": "#EBF0F8"
             },
             "line": {
              "color": "white"
             }
            },
            "header": {
             "fill": {
              "color": "#C8D4E3"
             },
             "line": {
              "color": "white"
             }
            },
            "type": "table"
           }
          ]
         },
         "layout": {
          "annotationdefaults": {
           "arrowcolor": "#2a3f5f",
           "arrowhead": 0,
           "arrowwidth": 1
          },
          "autotypenumbers": "strict",
          "coloraxis": {
           "colorbar": {
            "outlinewidth": 0,
            "ticks": ""
           }
          },
          "colorscale": {
           "diverging": [
            [
             0,
             "#8e0152"
            ],
            [
             0.1,
             "#c51b7d"
            ],
            [
             0.2,
             "#de77ae"
            ],
            [
             0.3,
             "#f1b6da"
            ],
            [
             0.4,
             "#fde0ef"
            ],
            [
             0.5,
             "#f7f7f7"
            ],
            [
             0.6,
             "#e6f5d0"
            ],
            [
             0.7,
             "#b8e186"
            ],
            [
             0.8,
             "#7fbc41"
            ],
            [
             0.9,
             "#4d9221"
            ],
            [
             1,
             "#276419"
            ]
           ],
           "sequential": [
            [
             0.0,
             "#0d0887"
            ],
            [
             0.1111111111111111,
             "#46039f"
            ],
            [
             0.2222222222222222,
             "#7201a8"
            ],
            [
             0.3333333333333333,
             "#9c179e"
            ],
            [
             0.4444444444444444,
             "#bd3786"
            ],
            [
             0.5555555555555556,
             "#d8576b"
            ],
            [
             0.6666666666666666,
             "#ed7953"
            ],
            [
             0.7777777777777778,
             "#fb9f3a"
            ],
            [
             0.8888888888888888,
             "#fdca26"
            ],
            [
             1.0,
             "#f0f921"
            ]
           ],
           "sequentialminus": [
            [
             0.0,
             "#0d0887"
            ],
            [
             0.1111111111111111,
             "#46039f"
            ],
            [
             0.2222222222222222,
             "#7201a8"
            ],
            [
             0.3333333333333333,
             "#9c179e"
            ],
            [
             0.4444444444444444,
             "#bd3786"
            ],
            [
             0.5555555555555556,
             "#d8576b"
            ],
            [
             0.6666666666666666,
             "#ed7953"
            ],
            [
             0.7777777777777778,
             "#fb9f3a"
            ],
            [
             0.8888888888888888,
             "#fdca26"
            ],
            [
             1.0,
             "#f0f921"
            ]
           ]
          },
          "colorway": [
           "#636efa",
           "#EF553B",
           "#00cc96",
           "#ab63fa",
           "#FFA15A",
           "#19d3f3",
           "#FF6692",
           "#B6E880",
           "#FF97FF",
           "#FECB52"
          ],
          "font": {
           "color": "#2a3f5f"
          },
          "geo": {
           "bgcolor": "white",
           "lakecolor": "white",
           "landcolor": "#E5ECF6",
           "showlakes": true,
           "showland": true,
           "subunitcolor": "white"
          },
          "hoverlabel": {
           "align": "left"
          },
          "hovermode": "closest",
          "mapbox": {
           "style": "light"
          },
          "paper_bgcolor": "white",
          "plot_bgcolor": "#E5ECF6",
          "polar": {
           "angularaxis": {
            "gridcolor": "white",
            "linecolor": "white",
            "ticks": ""
           },
           "bgcolor": "#E5ECF6",
           "radialaxis": {
            "gridcolor": "white",
            "linecolor": "white",
            "ticks": ""
           }
          },
          "scene": {
           "xaxis": {
            "backgroundcolor": "#E5ECF6",
            "gridcolor": "white",
            "gridwidth": 2,
            "linecolor": "white",
            "showbackground": true,
            "ticks": "",
            "zerolinecolor": "white"
           },
           "yaxis": {
            "backgroundcolor": "#E5ECF6",
            "gridcolor": "white",
            "gridwidth": 2,
            "linecolor": "white",
            "showbackground": true,
            "ticks": "",
            "zerolinecolor": "white"
           },
           "zaxis": {
            "backgroundcolor": "#E5ECF6",
            "gridcolor": "white",
            "gridwidth": 2,
            "linecolor": "white",
            "showbackground": true,
            "ticks": "",
            "zerolinecolor": "white"
           }
          },
          "shapedefaults": {
           "line": {
            "color": "#2a3f5f"
           }
          },
          "ternary": {
           "aaxis": {
            "gridcolor": "white",
            "linecolor": "white",
            "ticks": ""
           },
           "baxis": {
            "gridcolor": "white",
            "linecolor": "white",
            "ticks": ""
           },
           "bgcolor": "#E5ECF6",
           "caxis": {
            "gridcolor": "white",
            "linecolor": "white",
            "ticks": ""
           }
          },
          "title": {
           "x": 0.05
          },
          "xaxis": {
           "automargin": true,
           "gridcolor": "white",
           "linecolor": "white",
           "ticks": "",
           "title": {
            "standoff": 15
           },
           "zerolinecolor": "white",
           "zerolinewidth": 2
          },
          "yaxis": {
           "automargin": true,
           "gridcolor": "white",
           "linecolor": "white",
           "ticks": "",
           "title": {
            "standoff": 15
           },
           "zerolinecolor": "white",
           "zerolinewidth": 2
          }
         }
        }
       }
      },
      "text/html": [
       "<div>                            <div id=\"1757fcfc-91ff-48c4-ac5b-25fd6bba59c1\" class=\"plotly-graph-div\" style=\"height:1000px; width:100%;\"></div>            <script type=\"text/javascript\">                require([\"plotly\"], function(Plotly) {                    window.PLOTLYENV=window.PLOTLYENV || {};                                    if (document.getElementById(\"1757fcfc-91ff-48c4-ac5b-25fd6bba59c1\")) {                    Plotly.newPlot(                        \"1757fcfc-91ff-48c4-ac5b-25fd6bba59c1\",                        [{\"colorbar\":{\"title\":{\"text\":\"Rate of projects approved\"}},\"colorscale\":[[0.0,\"rgb(36, 86, 104)\"],[0.16666666666666666,\"rgb(15, 114, 121)\"],[0.3333333333333333,\"rgb(13, 143, 129)\"],[0.5,\"rgb(57, 171, 126)\"],[0.6666666666666666,\"rgb(110, 197, 116)\"],[0.8333333333333334,\"rgb(169, 220, 103)\"],[1.0,\"rgb(237, 239, 93)\"]],\"locationmode\":\"USA-states\",\"locations\":[\"AK\",\"AL\",\"AR\",\"AZ\",\"CA\",\"CO\",\"CT\",\"DC\",\"DE\",\"FL\",\"GA\",\"HI\",\"IA\",\"ID\",\"IL\",\"IN\",\"KS\",\"KY\",\"LA\",\"MA\",\"MD\",\"ME\",\"MI\",\"MN\",\"MO\",\"MS\",\"MT\",\"NC\",\"ND\",\"NE\",\"NH\",\"NJ\",\"NM\",\"NV\",\"NY\",\"OH\",\"OK\",\"OR\",\"PA\",\"RI\",\"SC\",\"SD\",\"TN\",\"TX\",\"UT\",\"VA\",\"VT\",\"WA\",\"WI\",\"WV\",\"WY\"],\"z\":[290,1506,872,1800,13205,935,1445,414,308,5144,3329,434,568,579,3710,2214,532,1126,1990,2055,1270,428,2672,1036,2202,1118,200,4353,127,260,304,1888,479,1167,6291,2159,1900,1056,2658,243,3385,252,1435,6014,1448,1739,64,2045,1545,430,82],\"type\":\"choropleth\"}],                        {\"geo\":{\"scope\":\"usa\"},\"height\":1000,\"margin\":{\"b\":0,\"l\":0,\"r\":0,\"t\":0},\"template\":{\"data\":{\"barpolar\":[{\"marker\":{\"line\":{\"color\":\"#E5ECF6\",\"width\":0.5},\"pattern\":{\"fillmode\":\"overlay\",\"size\":10,\"solidity\":0.2}},\"type\":\"barpolar\"}],\"bar\":[{\"error_x\":{\"color\":\"#2a3f5f\"},\"error_y\":{\"color\":\"#2a3f5f\"},\"marker\":{\"line\":{\"color\":\"#E5ECF6\",\"width\":0.5},\"pattern\":{\"fillmode\":\"overlay\",\"size\":10,\"solidity\":0.2}},\"type\":\"bar\"}],\"carpet\":[{\"aaxis\":{\"endlinecolor\":\"#2a3f5f\",\"gridcolor\":\"white\",\"linecolor\":\"white\",\"minorgridcolor\":\"white\",\"startlinecolor\":\"#2a3f5f\"},\"baxis\":{\"endlinecolor\":\"#2a3f5f\",\"gridcolor\":\"white\",\"linecolor\":\"white\",\"minorgridcolor\":\"white\",\"startlinecolor\":\"#2a3f5f\"},\"type\":\"carpet\"}],\"choropleth\":[{\"colorbar\":{\"outlinewidth\":0,\"ticks\":\"\"},\"type\":\"choropleth\"}],\"contourcarpet\":[{\"colorbar\":{\"outlinewidth\":0,\"ticks\":\"\"},\"type\":\"contourcarpet\"}],\"contour\":[{\"colorbar\":{\"outlinewidth\":0,\"ticks\":\"\"},\"colorscale\":[[0.0,\"#0d0887\"],[0.1111111111111111,\"#46039f\"],[0.2222222222222222,\"#7201a8\"],[0.3333333333333333,\"#9c179e\"],[0.4444444444444444,\"#bd3786\"],[0.5555555555555556,\"#d8576b\"],[0.6666666666666666,\"#ed7953\"],[0.7777777777777778,\"#fb9f3a\"],[0.8888888888888888,\"#fdca26\"],[1.0,\"#f0f921\"]],\"type\":\"contour\"}],\"heatmapgl\":[{\"colorbar\":{\"outlinewidth\":0,\"ticks\":\"\"},\"colorscale\":[[0.0,\"#0d0887\"],[0.1111111111111111,\"#46039f\"],[0.2222222222222222,\"#7201a8\"],[0.3333333333333333,\"#9c179e\"],[0.4444444444444444,\"#bd3786\"],[0.5555555555555556,\"#d8576b\"],[0.6666666666666666,\"#ed7953\"],[0.7777777777777778,\"#fb9f3a\"],[0.8888888888888888,\"#fdca26\"],[1.0,\"#f0f921\"]],\"type\":\"heatmapgl\"}],\"heatmap\":[{\"colorbar\":{\"outlinewidth\":0,\"ticks\":\"\"},\"colorscale\":[[0.0,\"#0d0887\"],[0.1111111111111111,\"#46039f\"],[0.2222222222222222,\"#7201a8\"],[0.3333333333333333,\"#9c179e\"],[0.4444444444444444,\"#bd3786\"],[0.5555555555555556,\"#d8576b\"],[0.6666666666666666,\"#ed7953\"],[0.7777777777777778,\"#fb9f3a\"],[0.8888888888888888,\"#fdca26\"],[1.0,\"#f0f921\"]],\"type\":\"heatmap\"}],\"histogram2dcontour\":[{\"colorbar\":{\"outlinewidth\":0,\"ticks\":\"\"},\"colorscale\":[[0.0,\"#0d0887\"],[0.1111111111111111,\"#46039f\"],[0.2222222222222222,\"#7201a8\"],[0.3333333333333333,\"#9c179e\"],[0.4444444444444444,\"#bd3786\"],[0.5555555555555556,\"#d8576b\"],[0.6666666666666666,\"#ed7953\"],[0.7777777777777778,\"#fb9f3a\"],[0.8888888888888888,\"#fdca26\"],[1.0,\"#f0f921\"]],\"type\":\"histogram2dcontour\"}],\"histogram2d\":[{\"colorbar\":{\"outlinewidth\":0,\"ticks\":\"\"},\"colorscale\":[[0.0,\"#0d0887\"],[0.1111111111111111,\"#46039f\"],[0.2222222222222222,\"#7201a8\"],[0.3333333333333333,\"#9c179e\"],[0.4444444444444444,\"#bd3786\"],[0.5555555555555556,\"#d8576b\"],[0.6666666666666666,\"#ed7953\"],[0.7777777777777778,\"#fb9f3a\"],[0.8888888888888888,\"#fdca26\"],[1.0,\"#f0f921\"]],\"type\":\"histogram2d\"}],\"histogram\":[{\"marker\":{\"pattern\":{\"fillmode\":\"overlay\",\"size\":10,\"solidity\":0.2}},\"type\":\"histogram\"}],\"mesh3d\":[{\"colorbar\":{\"outlinewidth\":0,\"ticks\":\"\"},\"type\":\"mesh3d\"}],\"parcoords\":[{\"line\":{\"colorbar\":{\"outlinewidth\":0,\"ticks\":\"\"}},\"type\":\"parcoords\"}],\"pie\":[{\"automargin\":true,\"type\":\"pie\"}],\"scatter3d\":[{\"line\":{\"colorbar\":{\"outlinewidth\":0,\"ticks\":\"\"}},\"marker\":{\"colorbar\":{\"outlinewidth\":0,\"ticks\":\"\"}},\"type\":\"scatter3d\"}],\"scattercarpet\":[{\"marker\":{\"colorbar\":{\"outlinewidth\":0,\"ticks\":\"\"}},\"type\":\"scattercarpet\"}],\"scattergeo\":[{\"marker\":{\"colorbar\":{\"outlinewidth\":0,\"ticks\":\"\"}},\"type\":\"scattergeo\"}],\"scattergl\":[{\"marker\":{\"colorbar\":{\"outlinewidth\":0,\"ticks\":\"\"}},\"type\":\"scattergl\"}],\"scattermapbox\":[{\"marker\":{\"colorbar\":{\"outlinewidth\":0,\"ticks\":\"\"}},\"type\":\"scattermapbox\"}],\"scatterpolargl\":[{\"marker\":{\"colorbar\":{\"outlinewidth\":0,\"ticks\":\"\"}},\"type\":\"scatterpolargl\"}],\"scatterpolar\":[{\"marker\":{\"colorbar\":{\"outlinewidth\":0,\"ticks\":\"\"}},\"type\":\"scatterpolar\"}],\"scatter\":[{\"fillpattern\":{\"fillmode\":\"overlay\",\"size\":10,\"solidity\":0.2},\"type\":\"scatter\"}],\"scatterternary\":[{\"marker\":{\"colorbar\":{\"outlinewidth\":0,\"ticks\":\"\"}},\"type\":\"scatterternary\"}],\"surface\":[{\"colorbar\":{\"outlinewidth\":0,\"ticks\":\"\"},\"colorscale\":[[0.0,\"#0d0887\"],[0.1111111111111111,\"#46039f\"],[0.2222222222222222,\"#7201a8\"],[0.3333333333333333,\"#9c179e\"],[0.4444444444444444,\"#bd3786\"],[0.5555555555555556,\"#d8576b\"],[0.6666666666666666,\"#ed7953\"],[0.7777777777777778,\"#fb9f3a\"],[0.8888888888888888,\"#fdca26\"],[1.0,\"#f0f921\"]],\"type\":\"surface\"}],\"table\":[{\"cells\":{\"fill\":{\"color\":\"#EBF0F8\"},\"line\":{\"color\":\"white\"}},\"header\":{\"fill\":{\"color\":\"#C8D4E3\"},\"line\":{\"color\":\"white\"}},\"type\":\"table\"}]},\"layout\":{\"annotationdefaults\":{\"arrowcolor\":\"#2a3f5f\",\"arrowhead\":0,\"arrowwidth\":1},\"autotypenumbers\":\"strict\",\"coloraxis\":{\"colorbar\":{\"outlinewidth\":0,\"ticks\":\"\"}},\"colorscale\":{\"diverging\":[[0,\"#8e0152\"],[0.1,\"#c51b7d\"],[0.2,\"#de77ae\"],[0.3,\"#f1b6da\"],[0.4,\"#fde0ef\"],[0.5,\"#f7f7f7\"],[0.6,\"#e6f5d0\"],[0.7,\"#b8e186\"],[0.8,\"#7fbc41\"],[0.9,\"#4d9221\"],[1,\"#276419\"]],\"sequential\":[[0.0,\"#0d0887\"],[0.1111111111111111,\"#46039f\"],[0.2222222222222222,\"#7201a8\"],[0.3333333333333333,\"#9c179e\"],[0.4444444444444444,\"#bd3786\"],[0.5555555555555556,\"#d8576b\"],[0.6666666666666666,\"#ed7953\"],[0.7777777777777778,\"#fb9f3a\"],[0.8888888888888888,\"#fdca26\"],[1.0,\"#f0f921\"]],\"sequentialminus\":[[0.0,\"#0d0887\"],[0.1111111111111111,\"#46039f\"],[0.2222222222222222,\"#7201a8\"],[0.3333333333333333,\"#9c179e\"],[0.4444444444444444,\"#bd3786\"],[0.5555555555555556,\"#d8576b\"],[0.6666666666666666,\"#ed7953\"],[0.7777777777777778,\"#fb9f3a\"],[0.8888888888888888,\"#fdca26\"],[1.0,\"#f0f921\"]]},\"colorway\":[\"#636efa\",\"#EF553B\",\"#00cc96\",\"#ab63fa\",\"#FFA15A\",\"#19d3f3\",\"#FF6692\",\"#B6E880\",\"#FF97FF\",\"#FECB52\"],\"font\":{\"color\":\"#2a3f5f\"},\"geo\":{\"bgcolor\":\"white\",\"lakecolor\":\"white\",\"landcolor\":\"#E5ECF6\",\"showlakes\":true,\"showland\":true,\"subunitcolor\":\"white\"},\"hoverlabel\":{\"align\":\"left\"},\"hovermode\":\"closest\",\"mapbox\":{\"style\":\"light\"},\"paper_bgcolor\":\"white\",\"plot_bgcolor\":\"#E5ECF6\",\"polar\":{\"angularaxis\":{\"gridcolor\":\"white\",\"linecolor\":\"white\",\"ticks\":\"\"},\"bgcolor\":\"#E5ECF6\",\"radialaxis\":{\"gridcolor\":\"white\",\"linecolor\":\"white\",\"ticks\":\"\"}},\"scene\":{\"xaxis\":{\"backgroundcolor\":\"#E5ECF6\",\"gridcolor\":\"white\",\"gridwidth\":2,\"linecolor\":\"white\",\"showbackground\":true,\"ticks\":\"\",\"zerolinecolor\":\"white\"},\"yaxis\":{\"backgroundcolor\":\"#E5ECF6\",\"gridcolor\":\"white\",\"gridwidth\":2,\"linecolor\":\"white\",\"showbackground\":true,\"ticks\":\"\",\"zerolinecolor\":\"white\"},\"zaxis\":{\"backgroundcolor\":\"#E5ECF6\",\"gridcolor\":\"white\",\"gridwidth\":2,\"linecolor\":\"white\",\"showbackground\":true,\"ticks\":\"\",\"zerolinecolor\":\"white\"}},\"shapedefaults\":{\"line\":{\"color\":\"#2a3f5f\"}},\"ternary\":{\"aaxis\":{\"gridcolor\":\"white\",\"linecolor\":\"white\",\"ticks\":\"\"},\"baxis\":{\"gridcolor\":\"white\",\"linecolor\":\"white\",\"ticks\":\"\"},\"bgcolor\":\"#E5ECF6\",\"caxis\":{\"gridcolor\":\"white\",\"linecolor\":\"white\",\"ticks\":\"\"}},\"title\":{\"x\":0.05},\"xaxis\":{\"automargin\":true,\"gridcolor\":\"white\",\"linecolor\":\"white\",\"ticks\":\"\",\"title\":{\"standoff\":15},\"zerolinecolor\":\"white\",\"zerolinewidth\":2},\"yaxis\":{\"automargin\":true,\"gridcolor\":\"white\",\"linecolor\":\"white\",\"ticks\":\"\",\"title\":{\"standoff\":15},\"zerolinecolor\":\"white\",\"zerolinewidth\":2}}}},                        {\"responsive\": true}                    ).then(function(){\n",
       "                            \n",
       "var gd = document.getElementById('1757fcfc-91ff-48c4-ac5b-25fd6bba59c1');\n",
       "var x = new MutationObserver(function (mutations, observer) {{\n",
       "        var display = window.getComputedStyle(gd).display;\n",
       "        if (!display || display === 'none') {{\n",
       "            console.log([gd, 'removed!']);\n",
       "            Plotly.purge(gd);\n",
       "            observer.disconnect();\n",
       "        }}\n",
       "}});\n",
       "\n",
       "// Listen for the removal of the full notebook cells\n",
       "var notebookContainer = gd.closest('#notebook-container');\n",
       "if (notebookContainer) {{\n",
       "    x.observe(notebookContainer, {childList: true});\n",
       "}}\n",
       "\n",
       "// Listen for the clearing of the current output cell\n",
       "var outputEl = gd.closest('.output');\n",
       "if (outputEl) {{\n",
       "    x.observe(outputEl, {childList: true});\n",
       "}}\n",
       "\n",
       "                        })                };                });            </script>        </div>"
      ]
     },
     "metadata": {},
     "output_type": "display_data"
    },
    {
     "data": {
      "text/html": [
       "<html>\n",
       "<head><meta charset=\"utf-8\" /></head>\n",
       "<body>\n",
       "    <div>            <script src=\"https://cdnjs.cloudflare.com/ajax/libs/mathjax/2.7.5/MathJax.js?config=TeX-AMS-MML_SVG\"></script><script type=\"text/javascript\">if (window.MathJax && window.MathJax.Hub && && window.MathJax.Hub.Config) {window.MathJax.Hub.Config({SVG: {font: \"STIX-Web\"}});}</script>                <script type=\"text/javascript\">window.PlotlyConfig = {MathJaxConfig: 'local'};</script>\n",
       "        <script src=\"https://cdn.plot.ly/plotly-2.12.1.min.js\"></script>                <div id=\"5b295710-3dac-45f2-bb98-0f121d31cbc9\" class=\"plotly-graph-div\" style=\"height:1000px; width:100%;\"></div>            <script type=\"text/javascript\">                                    window.PLOTLYENV=window.PLOTLYENV || {};                                    if (document.getElementById(\"5b295710-3dac-45f2-bb98-0f121d31cbc9\")) {                    Plotly.newPlot(                        \"5b295710-3dac-45f2-bb98-0f121d31cbc9\",                        [{\"colorbar\":{\"title\":{\"text\":\"Rate of projects approved\"}},\"colorscale\":[[0.0,\"rgb(36, 86, 104)\"],[0.16666666666666666,\"rgb(15, 114, 121)\"],[0.3333333333333333,\"rgb(13, 143, 129)\"],[0.5,\"rgb(57, 171, 126)\"],[0.6666666666666666,\"rgb(110, 197, 116)\"],[0.8333333333333334,\"rgb(169, 220, 103)\"],[1.0,\"rgb(237, 239, 93)\"]],\"locationmode\":\"USA-states\",\"locations\":[\"AK\",\"AL\",\"AR\",\"AZ\",\"CA\",\"CO\",\"CT\",\"DC\",\"DE\",\"FL\",\"GA\",\"HI\",\"IA\",\"ID\",\"IL\",\"IN\",\"KS\",\"KY\",\"LA\",\"MA\",\"MD\",\"ME\",\"MI\",\"MN\",\"MO\",\"MS\",\"MT\",\"NC\",\"ND\",\"NE\",\"NH\",\"NJ\",\"NM\",\"NV\",\"NY\",\"OH\",\"OK\",\"OR\",\"PA\",\"RI\",\"SC\",\"SD\",\"TN\",\"TX\",\"UT\",\"VA\",\"VT\",\"WA\",\"WI\",\"WV\",\"WY\"],\"z\":[290,1506,872,1800,13205,935,1445,414,308,5144,3329,434,568,579,3710,2214,532,1126,1990,2055,1270,428,2672,1036,2202,1118,200,4353,127,260,304,1888,479,1167,6291,2159,1900,1056,2658,243,3385,252,1435,6014,1448,1739,64,2045,1545,430,82],\"type\":\"choropleth\"}],                        {\"geo\":{\"scope\":\"usa\"},\"template\":{\"data\":{\"histogram2dcontour\":[{\"type\":\"histogram2dcontour\",\"colorbar\":{\"outlinewidth\":0,\"ticks\":\"\"},\"colorscale\":[[0.0,\"#0d0887\"],[0.1111111111111111,\"#46039f\"],[0.2222222222222222,\"#7201a8\"],[0.3333333333333333,\"#9c179e\"],[0.4444444444444444,\"#bd3786\"],[0.5555555555555556,\"#d8576b\"],[0.6666666666666666,\"#ed7953\"],[0.7777777777777778,\"#fb9f3a\"],[0.8888888888888888,\"#fdca26\"],[1.0,\"#f0f921\"]]}],\"choropleth\":[{\"type\":\"choropleth\",\"colorbar\":{\"outlinewidth\":0,\"ticks\":\"\"}}],\"histogram2d\":[{\"type\":\"histogram2d\",\"colorbar\":{\"outlinewidth\":0,\"ticks\":\"\"},\"colorscale\":[[0.0,\"#0d0887\"],[0.1111111111111111,\"#46039f\"],[0.2222222222222222,\"#7201a8\"],[0.3333333333333333,\"#9c179e\"],[0.4444444444444444,\"#bd3786\"],[0.5555555555555556,\"#d8576b\"],[0.6666666666666666,\"#ed7953\"],[0.7777777777777778,\"#fb9f3a\"],[0.8888888888888888,\"#fdca26\"],[1.0,\"#f0f921\"]]}],\"heatmap\":[{\"type\":\"heatmap\",\"colorbar\":{\"outlinewidth\":0,\"ticks\":\"\"},\"colorscale\":[[0.0,\"#0d0887\"],[0.1111111111111111,\"#46039f\"],[0.2222222222222222,\"#7201a8\"],[0.3333333333333333,\"#9c179e\"],[0.4444444444444444,\"#bd3786\"],[0.5555555555555556,\"#d8576b\"],[0.6666666666666666,\"#ed7953\"],[0.7777777777777778,\"#fb9f3a\"],[0.8888888888888888,\"#fdca26\"],[1.0,\"#f0f921\"]]}],\"heatmapgl\":[{\"type\":\"heatmapgl\",\"colorbar\":{\"outlinewidth\":0,\"ticks\":\"\"},\"colorscale\":[[0.0,\"#0d0887\"],[0.1111111111111111,\"#46039f\"],[0.2222222222222222,\"#7201a8\"],[0.3333333333333333,\"#9c179e\"],[0.4444444444444444,\"#bd3786\"],[0.5555555555555556,\"#d8576b\"],[0.6666666666666666,\"#ed7953\"],[0.7777777777777778,\"#fb9f3a\"],[0.8888888888888888,\"#fdca26\"],[1.0,\"#f0f921\"]]}],\"contourcarpet\":[{\"type\":\"contourcarpet\",\"colorbar\":{\"outlinewidth\":0,\"ticks\":\"\"}}],\"contour\":[{\"type\":\"contour\",\"colorbar\":{\"outlinewidth\":0,\"ticks\":\"\"},\"colorscale\":[[0.0,\"#0d0887\"],[0.1111111111111111,\"#46039f\"],[0.2222222222222222,\"#7201a8\"],[0.3333333333333333,\"#9c179e\"],[0.4444444444444444,\"#bd3786\"],[0.5555555555555556,\"#d8576b\"],[0.6666666666666666,\"#ed7953\"],[0.7777777777777778,\"#fb9f3a\"],[0.8888888888888888,\"#fdca26\"],[1.0,\"#f0f921\"]]}],\"surface\":[{\"type\":\"surface\",\"colorbar\":{\"outlinewidth\":0,\"ticks\":\"\"},\"colorscale\":[[0.0,\"#0d0887\"],[0.1111111111111111,\"#46039f\"],[0.2222222222222222,\"#7201a8\"],[0.3333333333333333,\"#9c179e\"],[0.4444444444444444,\"#bd3786\"],[0.5555555555555556,\"#d8576b\"],[0.6666666666666666,\"#ed7953\"],[0.7777777777777778,\"#fb9f3a\"],[0.8888888888888888,\"#fdca26\"],[1.0,\"#f0f921\"]]}],\"mesh3d\":[{\"type\":\"mesh3d\",\"colorbar\":{\"outlinewidth\":0,\"ticks\":\"\"}}],\"scatter\":[{\"fillpattern\":{\"fillmode\":\"overlay\",\"size\":10,\"solidity\":0.2},\"type\":\"scatter\"}],\"parcoords\":[{\"type\":\"parcoords\",\"line\":{\"colorbar\":{\"outlinewidth\":0,\"ticks\":\"\"}}}],\"scatterpolargl\":[{\"type\":\"scatterpolargl\",\"marker\":{\"colorbar\":{\"outlinewidth\":0,\"ticks\":\"\"}}}],\"bar\":[{\"error_x\":{\"color\":\"#2a3f5f\"},\"error_y\":{\"color\":\"#2a3f5f\"},\"marker\":{\"line\":{\"color\":\"#E5ECF6\",\"width\":0.5},\"pattern\":{\"fillmode\":\"overlay\",\"size\":10,\"solidity\":0.2}},\"type\":\"bar\"}],\"scattergeo\":[{\"type\":\"scattergeo\",\"marker\":{\"colorbar\":{\"outlinewidth\":0,\"ticks\":\"\"}}}],\"scatterpolar\":[{\"type\":\"scatterpolar\",\"marker\":{\"colorbar\":{\"outlinewidth\":0,\"ticks\":\"\"}}}],\"histogram\":[{\"marker\":{\"pattern\":{\"fillmode\":\"overlay\",\"size\":10,\"solidity\":0.2}},\"type\":\"histogram\"}],\"scattergl\":[{\"type\":\"scattergl\",\"marker\":{\"colorbar\":{\"outlinewidth\":0,\"ticks\":\"\"}}}],\"scatter3d\":[{\"type\":\"scatter3d\",\"line\":{\"colorbar\":{\"outlinewidth\":0,\"ticks\":\"\"}},\"marker\":{\"colorbar\":{\"outlinewidth\":0,\"ticks\":\"\"}}}],\"scattermapbox\":[{\"type\":\"scattermapbox\",\"marker\":{\"colorbar\":{\"outlinewidth\":0,\"ticks\":\"\"}}}],\"scatterternary\":[{\"type\":\"scatterternary\",\"marker\":{\"colorbar\":{\"outlinewidth\":0,\"ticks\":\"\"}}}],\"scattercarpet\":[{\"type\":\"scattercarpet\",\"marker\":{\"colorbar\":{\"outlinewidth\":0,\"ticks\":\"\"}}}],\"carpet\":[{\"aaxis\":{\"endlinecolor\":\"#2a3f5f\",\"gridcolor\":\"white\",\"linecolor\":\"white\",\"minorgridcolor\":\"white\",\"startlinecolor\":\"#2a3f5f\"},\"baxis\":{\"endlinecolor\":\"#2a3f5f\",\"gridcolor\":\"white\",\"linecolor\":\"white\",\"minorgridcolor\":\"white\",\"startlinecolor\":\"#2a3f5f\"},\"type\":\"carpet\"}],\"table\":[{\"cells\":{\"fill\":{\"color\":\"#EBF0F8\"},\"line\":{\"color\":\"white\"}},\"header\":{\"fill\":{\"color\":\"#C8D4E3\"},\"line\":{\"color\":\"white\"}},\"type\":\"table\"}],\"barpolar\":[{\"marker\":{\"line\":{\"color\":\"#E5ECF6\",\"width\":0.5},\"pattern\":{\"fillmode\":\"overlay\",\"size\":10,\"solidity\":0.2}},\"type\":\"barpolar\"}],\"pie\":[{\"automargin\":true,\"type\":\"pie\"}]},\"layout\":{\"autotypenumbers\":\"strict\",\"colorway\":[\"#636efa\",\"#EF553B\",\"#00cc96\",\"#ab63fa\",\"#FFA15A\",\"#19d3f3\",\"#FF6692\",\"#B6E880\",\"#FF97FF\",\"#FECB52\"],\"font\":{\"color\":\"#2a3f5f\"},\"hovermode\":\"closest\",\"hoverlabel\":{\"align\":\"left\"},\"paper_bgcolor\":\"white\",\"plot_bgcolor\":\"#E5ECF6\",\"polar\":{\"bgcolor\":\"#E5ECF6\",\"angularaxis\":{\"gridcolor\":\"white\",\"linecolor\":\"white\",\"ticks\":\"\"},\"radialaxis\":{\"gridcolor\":\"white\",\"linecolor\":\"white\",\"ticks\":\"\"}},\"ternary\":{\"bgcolor\":\"#E5ECF6\",\"aaxis\":{\"gridcolor\":\"white\",\"linecolor\":\"white\",\"ticks\":\"\"},\"baxis\":{\"gridcolor\":\"white\",\"linecolor\":\"white\",\"ticks\":\"\"},\"caxis\":{\"gridcolor\":\"white\",\"linecolor\":\"white\",\"ticks\":\"\"}},\"coloraxis\":{\"colorbar\":{\"outlinewidth\":0,\"ticks\":\"\"}},\"colorscale\":{\"sequential\":[[0.0,\"#0d0887\"],[0.1111111111111111,\"#46039f\"],[0.2222222222222222,\"#7201a8\"],[0.3333333333333333,\"#9c179e\"],[0.4444444444444444,\"#bd3786\"],[0.5555555555555556,\"#d8576b\"],[0.6666666666666666,\"#ed7953\"],[0.7777777777777778,\"#fb9f3a\"],[0.8888888888888888,\"#fdca26\"],[1.0,\"#f0f921\"]],\"sequentialminus\":[[0.0,\"#0d0887\"],[0.1111111111111111,\"#46039f\"],[0.2222222222222222,\"#7201a8\"],[0.3333333333333333,\"#9c179e\"],[0.4444444444444444,\"#bd3786\"],[0.5555555555555556,\"#d8576b\"],[0.6666666666666666,\"#ed7953\"],[0.7777777777777778,\"#fb9f3a\"],[0.8888888888888888,\"#fdca26\"],[1.0,\"#f0f921\"]],\"diverging\":[[0,\"#8e0152\"],[0.1,\"#c51b7d\"],[0.2,\"#de77ae\"],[0.3,\"#f1b6da\"],[0.4,\"#fde0ef\"],[0.5,\"#f7f7f7\"],[0.6,\"#e6f5d0\"],[0.7,\"#b8e186\"],[0.8,\"#7fbc41\"],[0.9,\"#4d9221\"],[1,\"#276419\"]]},\"xaxis\":{\"gridcolor\":\"white\",\"linecolor\":\"white\",\"ticks\":\"\",\"title\":{\"standoff\":15},\"zerolinecolor\":\"white\",\"automargin\":true,\"zerolinewidth\":2},\"yaxis\":{\"gridcolor\":\"white\",\"linecolor\":\"white\",\"ticks\":\"\",\"title\":{\"standoff\":15},\"zerolinecolor\":\"white\",\"automargin\":true,\"zerolinewidth\":2},\"scene\":{\"xaxis\":{\"backgroundcolor\":\"#E5ECF6\",\"gridcolor\":\"white\",\"linecolor\":\"white\",\"showbackground\":true,\"ticks\":\"\",\"zerolinecolor\":\"white\",\"gridwidth\":2},\"yaxis\":{\"backgroundcolor\":\"#E5ECF6\",\"gridcolor\":\"white\",\"linecolor\":\"white\",\"showbackground\":true,\"ticks\":\"\",\"zerolinecolor\":\"white\",\"gridwidth\":2},\"zaxis\":{\"backgroundcolor\":\"#E5ECF6\",\"gridcolor\":\"white\",\"linecolor\":\"white\",\"showbackground\":true,\"ticks\":\"\",\"zerolinecolor\":\"white\",\"gridwidth\":2}},\"shapedefaults\":{\"line\":{\"color\":\"#2a3f5f\"}},\"annotationdefaults\":{\"arrowcolor\":\"#2a3f5f\",\"arrowhead\":0,\"arrowwidth\":1},\"geo\":{\"bgcolor\":\"white\",\"landcolor\":\"#E5ECF6\",\"subunitcolor\":\"white\",\"showland\":true,\"showlakes\":true,\"lakecolor\":\"white\"},\"title\":{\"x\":0.05},\"mapbox\":{\"style\":\"light\"}}},\"margin\":{\"t\":0,\"r\":0,\"l\":0,\"b\":0},\"height\":1000},                        {\"responsive\": true}                    ).then(function(){\n",
       "                            \n",
       "var gd = document.getElementById('5b295710-3dac-45f2-bb98-0f121d31cbc9');\n",
       "var x = new MutationObserver(function (mutations, observer) {{\n",
       "        var display = window.getComputedStyle(gd).display;\n",
       "        if (!display || display === 'none') {{\n",
       "            console.log([gd, 'removed!']);\n",
       "            Plotly.purge(gd);\n",
       "            observer.disconnect();\n",
       "        }}\n",
       "}});\n",
       "\n",
       "// Listen for the removal of the full notebook cells\n",
       "var notebookContainer = gd.closest('#notebook-container');\n",
       "if (notebookContainer) {{\n",
       "    x.observe(notebookContainer, {childList: true});\n",
       "}}\n",
       "\n",
       "// Listen for the clearing of the current output cell\n",
       "var outputEl = gd.closest('.output');\n",
       "if (outputEl) {{\n",
       "    x.observe(outputEl, {childList: true});\n",
       "}}\n",
       "\n",
       "                        })                };                            </script>        </div>\n",
       "</body>\n",
       "</html>"
      ]
     },
     "metadata": {},
     "output_type": "display_data"
    }
   ],
   "source": [
    "df = donor_data[donor_data.project_is_approved == 1].groupby('school_state').count()\n",
    "df = df.reset_index().copy()\n",
    "\n",
    "# To establish connection\n",
    "init_notebook_mode(connected = True)\n",
    "  \n",
    "# type defined is choropleth to\n",
    "# plot geographical plots\n",
    "data = dict(type = 'choropleth',\n",
    "  \n",
    "            # locations\n",
    "            locations = locations,\n",
    "              \n",
    "            # States of USA\n",
    "            locationmode = 'USA-states',\n",
    "              \n",
    "            # colorscale can be added as per requirement\n",
    "            colorscale = 'aggrnyl',\n",
    "              \n",
    "            # text can be given anything you like\n",
    "            z = df['project_is_approved'].tolist(),\n",
    "            colorbar = {'title': 'Rate of projects approved'})\n",
    "              \n",
    "layout = dict(geo ={'scope': 'usa'})\n",
    "\n",
    "# passing data dictionary as a list \n",
    "choromap = go.Figure(data = [data], layout = layout)\n",
    "\n",
    "choromap.update_layout(height=1000, margin=dict(t=0, r=0, l=0, b=0))\n",
    "  \n",
    "# plotting graph\n",
    "iplot(choromap)\n",
    "\n",
    "choromap.show(renderer=\"colab\") "
   ]
  },
  {
   "cell_type": "markdown",
   "id": "97a425ba",
   "metadata": {
    "id": "I6y3I4qX1Qij",
    "papermill": {
     "duration": 0.031559,
     "end_time": "2023-04-26T14:48:01.332760",
     "exception": false,
     "start_time": "2023-04-26T14:48:01.301201",
     "status": "completed"
    },
    "tags": []
   },
   "source": [
    "### **% of projects approved w.r.t price**"
   ]
  },
  {
   "cell_type": "code",
   "execution_count": 8,
   "id": "a21d5955",
   "metadata": {
    "execution": {
     "iopub.execute_input": "2023-04-26T14:48:01.398731Z",
     "iopub.status.busy": "2023-04-26T14:48:01.398265Z",
     "iopub.status.idle": "2023-04-26T14:48:01.510110Z",
     "shell.execute_reply": "2023-04-26T14:48:01.509085Z"
    },
    "id": "ERD_4hzVSBlB",
    "papermill": {
     "duration": 0.14769,
     "end_time": "2023-04-26T14:48:01.512459",
     "exception": false,
     "start_time": "2023-04-26T14:48:01.364769",
     "status": "completed"
    },
    "tags": []
   },
   "outputs": [],
   "source": [
    "# Average amount of a single funded proposal in states\n",
    "\n",
    "mean_price = donor_data[donor_data.project_is_approved == 1].groupby('school_state').count()\n",
    "mean_price = mean_price.reset_index().copy()"
   ]
  },
  {
   "cell_type": "code",
   "execution_count": 9,
   "id": "f2e60cdb",
   "metadata": {
    "execution": {
     "iopub.execute_input": "2023-04-26T14:48:01.584165Z",
     "iopub.status.busy": "2023-04-26T14:48:01.583708Z",
     "iopub.status.idle": "2023-04-26T14:48:01.626502Z",
     "shell.execute_reply": "2023-04-26T14:48:01.625491Z"
    },
    "id": "bYebhwbrZMEm",
    "outputId": "b372ce4a-f6c9-428f-f44c-1244da2ebbb9",
    "papermill": {
     "duration": 0.082715,
     "end_time": "2023-04-26T14:48:01.629105",
     "exception": false,
     "start_time": "2023-04-26T14:48:01.546390",
     "status": "completed"
    },
    "tags": []
   },
   "outputs": [
    {
     "data": {
      "text/html": [
       "        <script type=\"text/javascript\">\n",
       "        window.PlotlyConfig = {MathJaxConfig: 'local'};\n",
       "        if (window.MathJax && window.MathJax.Hub && window.MathJax.Hub.Config) {window.MathJax.Hub.Config({SVG: {font: \"STIX-Web\"}});}\n",
       "        if (typeof require !== 'undefined') {\n",
       "        require.undef(\"plotly\");\n",
       "        requirejs.config({\n",
       "            paths: {\n",
       "                'plotly': ['https://cdn.plot.ly/plotly-2.12.1.min']\n",
       "            }\n",
       "        });\n",
       "        require(['plotly'], function(Plotly) {\n",
       "            window._Plotly = Plotly;\n",
       "        });\n",
       "        }\n",
       "        </script>\n",
       "        "
      ]
     },
     "metadata": {},
     "output_type": "display_data"
    },
    {
     "data": {
      "application/vnd.plotly.v1+json": {
       "config": {
        "linkText": "Export to plot.ly",
        "plotlyServerURL": "https://plot.ly",
        "showLink": false
       },
       "data": [
        {
         "colorbar": {
          "title": {
           "text": "USD"
          }
         },
         "colorscale": [
          [
           0.0,
           "rgb(246, 210, 169)"
          ],
          [
           0.16666666666666666,
           "rgb(245, 183, 142)"
          ],
          [
           0.3333333333333333,
           "rgb(241, 156, 124)"
          ],
          [
           0.5,
           "rgb(234, 129, 113)"
          ],
          [
           0.6666666666666666,
           "rgb(221, 104, 108)"
          ],
          [
           0.8333333333333334,
           "rgb(202, 82, 104)"
          ],
          [
           1.0,
           "rgb(177, 63, 100)"
          ]
         ],
         "locationmode": "USA-states",
         "locations": [
          "AK",
          "AL",
          "AR",
          "AZ",
          "CA",
          "CO",
          "CT",
          "DC",
          "DE",
          "FL",
          "GA",
          "HI",
          "IA",
          "ID",
          "IL",
          "IN",
          "KS",
          "KY",
          "LA",
          "MA",
          "MD",
          "ME",
          "MI",
          "MN",
          "MO",
          "MS",
          "MT",
          "NC",
          "ND",
          "NE",
          "NH",
          "NJ",
          "NM",
          "NV",
          "NY",
          "OH",
          "OK",
          "OR",
          "PA",
          "RI",
          "SC",
          "SD",
          "TN",
          "TX",
          "UT",
          "VA",
          "VT",
          "WA",
          "WI",
          "WV",
          "WY"
         ],
         "type": "choropleth",
         "z": [
          290,
          1506,
          872,
          1800,
          13205,
          935,
          1445,
          414,
          308,
          5144,
          3329,
          434,
          568,
          579,
          3710,
          2214,
          532,
          1126,
          1990,
          2055,
          1270,
          428,
          2672,
          1036,
          2202,
          1118,
          200,
          4353,
          127,
          260,
          304,
          1888,
          479,
          1167,
          6291,
          2159,
          1900,
          1056,
          2658,
          243,
          3385,
          252,
          1435,
          6014,
          1448,
          1739,
          64,
          2045,
          1545,
          430,
          82
         ]
        }
       ],
       "layout": {
        "geo": {
         "scope": "usa"
        },
        "height": 1000,
        "margin": {
         "l": 0,
         "r": 0,
         "t": 0
        },
        "template": {
         "data": {
          "bar": [
           {
            "error_x": {
             "color": "#2a3f5f"
            },
            "error_y": {
             "color": "#2a3f5f"
            },
            "marker": {
             "line": {
              "color": "#E5ECF6",
              "width": 0.5
             },
             "pattern": {
              "fillmode": "overlay",
              "size": 10,
              "solidity": 0.2
             }
            },
            "type": "bar"
           }
          ],
          "barpolar": [
           {
            "marker": {
             "line": {
              "color": "#E5ECF6",
              "width": 0.5
             },
             "pattern": {
              "fillmode": "overlay",
              "size": 10,
              "solidity": 0.2
             }
            },
            "type": "barpolar"
           }
          ],
          "carpet": [
           {
            "aaxis": {
             "endlinecolor": "#2a3f5f",
             "gridcolor": "white",
             "linecolor": "white",
             "minorgridcolor": "white",
             "startlinecolor": "#2a3f5f"
            },
            "baxis": {
             "endlinecolor": "#2a3f5f",
             "gridcolor": "white",
             "linecolor": "white",
             "minorgridcolor": "white",
             "startlinecolor": "#2a3f5f"
            },
            "type": "carpet"
           }
          ],
          "choropleth": [
           {
            "colorbar": {
             "outlinewidth": 0,
             "ticks": ""
            },
            "type": "choropleth"
           }
          ],
          "contour": [
           {
            "colorbar": {
             "outlinewidth": 0,
             "ticks": ""
            },
            "colorscale": [
             [
              0.0,
              "#0d0887"
             ],
             [
              0.1111111111111111,
              "#46039f"
             ],
             [
              0.2222222222222222,
              "#7201a8"
             ],
             [
              0.3333333333333333,
              "#9c179e"
             ],
             [
              0.4444444444444444,
              "#bd3786"
             ],
             [
              0.5555555555555556,
              "#d8576b"
             ],
             [
              0.6666666666666666,
              "#ed7953"
             ],
             [
              0.7777777777777778,
              "#fb9f3a"
             ],
             [
              0.8888888888888888,
              "#fdca26"
             ],
             [
              1.0,
              "#f0f921"
             ]
            ],
            "type": "contour"
           }
          ],
          "contourcarpet": [
           {
            "colorbar": {
             "outlinewidth": 0,
             "ticks": ""
            },
            "type": "contourcarpet"
           }
          ],
          "heatmap": [
           {
            "colorbar": {
             "outlinewidth": 0,
             "ticks": ""
            },
            "colorscale": [
             [
              0.0,
              "#0d0887"
             ],
             [
              0.1111111111111111,
              "#46039f"
             ],
             [
              0.2222222222222222,
              "#7201a8"
             ],
             [
              0.3333333333333333,
              "#9c179e"
             ],
             [
              0.4444444444444444,
              "#bd3786"
             ],
             [
              0.5555555555555556,
              "#d8576b"
             ],
             [
              0.6666666666666666,
              "#ed7953"
             ],
             [
              0.7777777777777778,
              "#fb9f3a"
             ],
             [
              0.8888888888888888,
              "#fdca26"
             ],
             [
              1.0,
              "#f0f921"
             ]
            ],
            "type": "heatmap"
           }
          ],
          "heatmapgl": [
           {
            "colorbar": {
             "outlinewidth": 0,
             "ticks": ""
            },
            "colorscale": [
             [
              0.0,
              "#0d0887"
             ],
             [
              0.1111111111111111,
              "#46039f"
             ],
             [
              0.2222222222222222,
              "#7201a8"
             ],
             [
              0.3333333333333333,
              "#9c179e"
             ],
             [
              0.4444444444444444,
              "#bd3786"
             ],
             [
              0.5555555555555556,
              "#d8576b"
             ],
             [
              0.6666666666666666,
              "#ed7953"
             ],
             [
              0.7777777777777778,
              "#fb9f3a"
             ],
             [
              0.8888888888888888,
              "#fdca26"
             ],
             [
              1.0,
              "#f0f921"
             ]
            ],
            "type": "heatmapgl"
           }
          ],
          "histogram": [
           {
            "marker": {
             "pattern": {
              "fillmode": "overlay",
              "size": 10,
              "solidity": 0.2
             }
            },
            "type": "histogram"
           }
          ],
          "histogram2d": [
           {
            "colorbar": {
             "outlinewidth": 0,
             "ticks": ""
            },
            "colorscale": [
             [
              0.0,
              "#0d0887"
             ],
             [
              0.1111111111111111,
              "#46039f"
             ],
             [
              0.2222222222222222,
              "#7201a8"
             ],
             [
              0.3333333333333333,
              "#9c179e"
             ],
             [
              0.4444444444444444,
              "#bd3786"
             ],
             [
              0.5555555555555556,
              "#d8576b"
             ],
             [
              0.6666666666666666,
              "#ed7953"
             ],
             [
              0.7777777777777778,
              "#fb9f3a"
             ],
             [
              0.8888888888888888,
              "#fdca26"
             ],
             [
              1.0,
              "#f0f921"
             ]
            ],
            "type": "histogram2d"
           }
          ],
          "histogram2dcontour": [
           {
            "colorbar": {
             "outlinewidth": 0,
             "ticks": ""
            },
            "colorscale": [
             [
              0.0,
              "#0d0887"
             ],
             [
              0.1111111111111111,
              "#46039f"
             ],
             [
              0.2222222222222222,
              "#7201a8"
             ],
             [
              0.3333333333333333,
              "#9c179e"
             ],
             [
              0.4444444444444444,
              "#bd3786"
             ],
             [
              0.5555555555555556,
              "#d8576b"
             ],
             [
              0.6666666666666666,
              "#ed7953"
             ],
             [
              0.7777777777777778,
              "#fb9f3a"
             ],
             [
              0.8888888888888888,
              "#fdca26"
             ],
             [
              1.0,
              "#f0f921"
             ]
            ],
            "type": "histogram2dcontour"
           }
          ],
          "mesh3d": [
           {
            "colorbar": {
             "outlinewidth": 0,
             "ticks": ""
            },
            "type": "mesh3d"
           }
          ],
          "parcoords": [
           {
            "line": {
             "colorbar": {
              "outlinewidth": 0,
              "ticks": ""
             }
            },
            "type": "parcoords"
           }
          ],
          "pie": [
           {
            "automargin": true,
            "type": "pie"
           }
          ],
          "scatter": [
           {
            "fillpattern": {
             "fillmode": "overlay",
             "size": 10,
             "solidity": 0.2
            },
            "type": "scatter"
           }
          ],
          "scatter3d": [
           {
            "line": {
             "colorbar": {
              "outlinewidth": 0,
              "ticks": ""
             }
            },
            "marker": {
             "colorbar": {
              "outlinewidth": 0,
              "ticks": ""
             }
            },
            "type": "scatter3d"
           }
          ],
          "scattercarpet": [
           {
            "marker": {
             "colorbar": {
              "outlinewidth": 0,
              "ticks": ""
             }
            },
            "type": "scattercarpet"
           }
          ],
          "scattergeo": [
           {
            "marker": {
             "colorbar": {
              "outlinewidth": 0,
              "ticks": ""
             }
            },
            "type": "scattergeo"
           }
          ],
          "scattergl": [
           {
            "marker": {
             "colorbar": {
              "outlinewidth": 0,
              "ticks": ""
             }
            },
            "type": "scattergl"
           }
          ],
          "scattermapbox": [
           {
            "marker": {
             "colorbar": {
              "outlinewidth": 0,
              "ticks": ""
             }
            },
            "type": "scattermapbox"
           }
          ],
          "scatterpolar": [
           {
            "marker": {
             "colorbar": {
              "outlinewidth": 0,
              "ticks": ""
             }
            },
            "type": "scatterpolar"
           }
          ],
          "scatterpolargl": [
           {
            "marker": {
             "colorbar": {
              "outlinewidth": 0,
              "ticks": ""
             }
            },
            "type": "scatterpolargl"
           }
          ],
          "scatterternary": [
           {
            "marker": {
             "colorbar": {
              "outlinewidth": 0,
              "ticks": ""
             }
            },
            "type": "scatterternary"
           }
          ],
          "surface": [
           {
            "colorbar": {
             "outlinewidth": 0,
             "ticks": ""
            },
            "colorscale": [
             [
              0.0,
              "#0d0887"
             ],
             [
              0.1111111111111111,
              "#46039f"
             ],
             [
              0.2222222222222222,
              "#7201a8"
             ],
             [
              0.3333333333333333,
              "#9c179e"
             ],
             [
              0.4444444444444444,
              "#bd3786"
             ],
             [
              0.5555555555555556,
              "#d8576b"
             ],
             [
              0.6666666666666666,
              "#ed7953"
             ],
             [
              0.7777777777777778,
              "#fb9f3a"
             ],
             [
              0.8888888888888888,
              "#fdca26"
             ],
             [
              1.0,
              "#f0f921"
             ]
            ],
            "type": "surface"
           }
          ],
          "table": [
           {
            "cells": {
             "fill": {
              "color": "#EBF0F8"
             },
             "line": {
              "color": "white"
             }
            },
            "header": {
             "fill": {
              "color": "#C8D4E3"
             },
             "line": {
              "color": "white"
             }
            },
            "type": "table"
           }
          ]
         },
         "layout": {
          "annotationdefaults": {
           "arrowcolor": "#2a3f5f",
           "arrowhead": 0,
           "arrowwidth": 1
          },
          "autotypenumbers": "strict",
          "coloraxis": {
           "colorbar": {
            "outlinewidth": 0,
            "ticks": ""
           }
          },
          "colorscale": {
           "diverging": [
            [
             0,
             "#8e0152"
            ],
            [
             0.1,
             "#c51b7d"
            ],
            [
             0.2,
             "#de77ae"
            ],
            [
             0.3,
             "#f1b6da"
            ],
            [
             0.4,
             "#fde0ef"
            ],
            [
             0.5,
             "#f7f7f7"
            ],
            [
             0.6,
             "#e6f5d0"
            ],
            [
             0.7,
             "#b8e186"
            ],
            [
             0.8,
             "#7fbc41"
            ],
            [
             0.9,
             "#4d9221"
            ],
            [
             1,
             "#276419"
            ]
           ],
           "sequential": [
            [
             0.0,
             "#0d0887"
            ],
            [
             0.1111111111111111,
             "#46039f"
            ],
            [
             0.2222222222222222,
             "#7201a8"
            ],
            [
             0.3333333333333333,
             "#9c179e"
            ],
            [
             0.4444444444444444,
             "#bd3786"
            ],
            [
             0.5555555555555556,
             "#d8576b"
            ],
            [
             0.6666666666666666,
             "#ed7953"
            ],
            [
             0.7777777777777778,
             "#fb9f3a"
            ],
            [
             0.8888888888888888,
             "#fdca26"
            ],
            [
             1.0,
             "#f0f921"
            ]
           ],
           "sequentialminus": [
            [
             0.0,
             "#0d0887"
            ],
            [
             0.1111111111111111,
             "#46039f"
            ],
            [
             0.2222222222222222,
             "#7201a8"
            ],
            [
             0.3333333333333333,
             "#9c179e"
            ],
            [
             0.4444444444444444,
             "#bd3786"
            ],
            [
             0.5555555555555556,
             "#d8576b"
            ],
            [
             0.6666666666666666,
             "#ed7953"
            ],
            [
             0.7777777777777778,
             "#fb9f3a"
            ],
            [
             0.8888888888888888,
             "#fdca26"
            ],
            [
             1.0,
             "#f0f921"
            ]
           ]
          },
          "colorway": [
           "#636efa",
           "#EF553B",
           "#00cc96",
           "#ab63fa",
           "#FFA15A",
           "#19d3f3",
           "#FF6692",
           "#B6E880",
           "#FF97FF",
           "#FECB52"
          ],
          "font": {
           "color": "#2a3f5f"
          },
          "geo": {
           "bgcolor": "white",
           "lakecolor": "white",
           "landcolor": "#E5ECF6",
           "showlakes": true,
           "showland": true,
           "subunitcolor": "white"
          },
          "hoverlabel": {
           "align": "left"
          },
          "hovermode": "closest",
          "mapbox": {
           "style": "light"
          },
          "paper_bgcolor": "white",
          "plot_bgcolor": "#E5ECF6",
          "polar": {
           "angularaxis": {
            "gridcolor": "white",
            "linecolor": "white",
            "ticks": ""
           },
           "bgcolor": "#E5ECF6",
           "radialaxis": {
            "gridcolor": "white",
            "linecolor": "white",
            "ticks": ""
           }
          },
          "scene": {
           "xaxis": {
            "backgroundcolor": "#E5ECF6",
            "gridcolor": "white",
            "gridwidth": 2,
            "linecolor": "white",
            "showbackground": true,
            "ticks": "",
            "zerolinecolor": "white"
           },
           "yaxis": {
            "backgroundcolor": "#E5ECF6",
            "gridcolor": "white",
            "gridwidth": 2,
            "linecolor": "white",
            "showbackground": true,
            "ticks": "",
            "zerolinecolor": "white"
           },
           "zaxis": {
            "backgroundcolor": "#E5ECF6",
            "gridcolor": "white",
            "gridwidth": 2,
            "linecolor": "white",
            "showbackground": true,
            "ticks": "",
            "zerolinecolor": "white"
           }
          },
          "shapedefaults": {
           "line": {
            "color": "#2a3f5f"
           }
          },
          "ternary": {
           "aaxis": {
            "gridcolor": "white",
            "linecolor": "white",
            "ticks": ""
           },
           "baxis": {
            "gridcolor": "white",
            "linecolor": "white",
            "ticks": ""
           },
           "bgcolor": "#E5ECF6",
           "caxis": {
            "gridcolor": "white",
            "linecolor": "white",
            "ticks": ""
           }
          },
          "title": {
           "x": 0.05
          },
          "xaxis": {
           "automargin": true,
           "gridcolor": "white",
           "linecolor": "white",
           "ticks": "",
           "title": {
            "standoff": 15
           },
           "zerolinecolor": "white",
           "zerolinewidth": 2
          },
          "yaxis": {
           "automargin": true,
           "gridcolor": "white",
           "linecolor": "white",
           "ticks": "",
           "title": {
            "standoff": 15
           },
           "zerolinecolor": "white",
           "zerolinewidth": 2
          }
         }
        }
       }
      },
      "text/html": [
       "<div>                            <div id=\"0f8ef8de-c590-4ede-8737-eac6555f7a27\" class=\"plotly-graph-div\" style=\"height:1000px; width:100%;\"></div>            <script type=\"text/javascript\">                require([\"plotly\"], function(Plotly) {                    window.PLOTLYENV=window.PLOTLYENV || {};                                    if (document.getElementById(\"0f8ef8de-c590-4ede-8737-eac6555f7a27\")) {                    Plotly.newPlot(                        \"0f8ef8de-c590-4ede-8737-eac6555f7a27\",                        [{\"colorbar\":{\"title\":{\"text\":\"USD\"}},\"colorscale\":[[0.0,\"rgb(246, 210, 169)\"],[0.16666666666666666,\"rgb(245, 183, 142)\"],[0.3333333333333333,\"rgb(241, 156, 124)\"],[0.5,\"rgb(234, 129, 113)\"],[0.6666666666666666,\"rgb(221, 104, 108)\"],[0.8333333333333334,\"rgb(202, 82, 104)\"],[1.0,\"rgb(177, 63, 100)\"]],\"locationmode\":\"USA-states\",\"locations\":[\"AK\",\"AL\",\"AR\",\"AZ\",\"CA\",\"CO\",\"CT\",\"DC\",\"DE\",\"FL\",\"GA\",\"HI\",\"IA\",\"ID\",\"IL\",\"IN\",\"KS\",\"KY\",\"LA\",\"MA\",\"MD\",\"ME\",\"MI\",\"MN\",\"MO\",\"MS\",\"MT\",\"NC\",\"ND\",\"NE\",\"NH\",\"NJ\",\"NM\",\"NV\",\"NY\",\"OH\",\"OK\",\"OR\",\"PA\",\"RI\",\"SC\",\"SD\",\"TN\",\"TX\",\"UT\",\"VA\",\"VT\",\"WA\",\"WI\",\"WV\",\"WY\"],\"z\":[290,1506,872,1800,13205,935,1445,414,308,5144,3329,434,568,579,3710,2214,532,1126,1990,2055,1270,428,2672,1036,2202,1118,200,4353,127,260,304,1888,479,1167,6291,2159,1900,1056,2658,243,3385,252,1435,6014,1448,1739,64,2045,1545,430,82],\"type\":\"choropleth\"}],                        {\"geo\":{\"scope\":\"usa\"},\"height\":1000,\"margin\":{\"l\":0,\"r\":0,\"t\":0},\"template\":{\"data\":{\"barpolar\":[{\"marker\":{\"line\":{\"color\":\"#E5ECF6\",\"width\":0.5},\"pattern\":{\"fillmode\":\"overlay\",\"size\":10,\"solidity\":0.2}},\"type\":\"barpolar\"}],\"bar\":[{\"error_x\":{\"color\":\"#2a3f5f\"},\"error_y\":{\"color\":\"#2a3f5f\"},\"marker\":{\"line\":{\"color\":\"#E5ECF6\",\"width\":0.5},\"pattern\":{\"fillmode\":\"overlay\",\"size\":10,\"solidity\":0.2}},\"type\":\"bar\"}],\"carpet\":[{\"aaxis\":{\"endlinecolor\":\"#2a3f5f\",\"gridcolor\":\"white\",\"linecolor\":\"white\",\"minorgridcolor\":\"white\",\"startlinecolor\":\"#2a3f5f\"},\"baxis\":{\"endlinecolor\":\"#2a3f5f\",\"gridcolor\":\"white\",\"linecolor\":\"white\",\"minorgridcolor\":\"white\",\"startlinecolor\":\"#2a3f5f\"},\"type\":\"carpet\"}],\"choropleth\":[{\"colorbar\":{\"outlinewidth\":0,\"ticks\":\"\"},\"type\":\"choropleth\"}],\"contourcarpet\":[{\"colorbar\":{\"outlinewidth\":0,\"ticks\":\"\"},\"type\":\"contourcarpet\"}],\"contour\":[{\"colorbar\":{\"outlinewidth\":0,\"ticks\":\"\"},\"colorscale\":[[0.0,\"#0d0887\"],[0.1111111111111111,\"#46039f\"],[0.2222222222222222,\"#7201a8\"],[0.3333333333333333,\"#9c179e\"],[0.4444444444444444,\"#bd3786\"],[0.5555555555555556,\"#d8576b\"],[0.6666666666666666,\"#ed7953\"],[0.7777777777777778,\"#fb9f3a\"],[0.8888888888888888,\"#fdca26\"],[1.0,\"#f0f921\"]],\"type\":\"contour\"}],\"heatmapgl\":[{\"colorbar\":{\"outlinewidth\":0,\"ticks\":\"\"},\"colorscale\":[[0.0,\"#0d0887\"],[0.1111111111111111,\"#46039f\"],[0.2222222222222222,\"#7201a8\"],[0.3333333333333333,\"#9c179e\"],[0.4444444444444444,\"#bd3786\"],[0.5555555555555556,\"#d8576b\"],[0.6666666666666666,\"#ed7953\"],[0.7777777777777778,\"#fb9f3a\"],[0.8888888888888888,\"#fdca26\"],[1.0,\"#f0f921\"]],\"type\":\"heatmapgl\"}],\"heatmap\":[{\"colorbar\":{\"outlinewidth\":0,\"ticks\":\"\"},\"colorscale\":[[0.0,\"#0d0887\"],[0.1111111111111111,\"#46039f\"],[0.2222222222222222,\"#7201a8\"],[0.3333333333333333,\"#9c179e\"],[0.4444444444444444,\"#bd3786\"],[0.5555555555555556,\"#d8576b\"],[0.6666666666666666,\"#ed7953\"],[0.7777777777777778,\"#fb9f3a\"],[0.8888888888888888,\"#fdca26\"],[1.0,\"#f0f921\"]],\"type\":\"heatmap\"}],\"histogram2dcontour\":[{\"colorbar\":{\"outlinewidth\":0,\"ticks\":\"\"},\"colorscale\":[[0.0,\"#0d0887\"],[0.1111111111111111,\"#46039f\"],[0.2222222222222222,\"#7201a8\"],[0.3333333333333333,\"#9c179e\"],[0.4444444444444444,\"#bd3786\"],[0.5555555555555556,\"#d8576b\"],[0.6666666666666666,\"#ed7953\"],[0.7777777777777778,\"#fb9f3a\"],[0.8888888888888888,\"#fdca26\"],[1.0,\"#f0f921\"]],\"type\":\"histogram2dcontour\"}],\"histogram2d\":[{\"colorbar\":{\"outlinewidth\":0,\"ticks\":\"\"},\"colorscale\":[[0.0,\"#0d0887\"],[0.1111111111111111,\"#46039f\"],[0.2222222222222222,\"#7201a8\"],[0.3333333333333333,\"#9c179e\"],[0.4444444444444444,\"#bd3786\"],[0.5555555555555556,\"#d8576b\"],[0.6666666666666666,\"#ed7953\"],[0.7777777777777778,\"#fb9f3a\"],[0.8888888888888888,\"#fdca26\"],[1.0,\"#f0f921\"]],\"type\":\"histogram2d\"}],\"histogram\":[{\"marker\":{\"pattern\":{\"fillmode\":\"overlay\",\"size\":10,\"solidity\":0.2}},\"type\":\"histogram\"}],\"mesh3d\":[{\"colorbar\":{\"outlinewidth\":0,\"ticks\":\"\"},\"type\":\"mesh3d\"}],\"parcoords\":[{\"line\":{\"colorbar\":{\"outlinewidth\":0,\"ticks\":\"\"}},\"type\":\"parcoords\"}],\"pie\":[{\"automargin\":true,\"type\":\"pie\"}],\"scatter3d\":[{\"line\":{\"colorbar\":{\"outlinewidth\":0,\"ticks\":\"\"}},\"marker\":{\"colorbar\":{\"outlinewidth\":0,\"ticks\":\"\"}},\"type\":\"scatter3d\"}],\"scattercarpet\":[{\"marker\":{\"colorbar\":{\"outlinewidth\":0,\"ticks\":\"\"}},\"type\":\"scattercarpet\"}],\"scattergeo\":[{\"marker\":{\"colorbar\":{\"outlinewidth\":0,\"ticks\":\"\"}},\"type\":\"scattergeo\"}],\"scattergl\":[{\"marker\":{\"colorbar\":{\"outlinewidth\":0,\"ticks\":\"\"}},\"type\":\"scattergl\"}],\"scattermapbox\":[{\"marker\":{\"colorbar\":{\"outlinewidth\":0,\"ticks\":\"\"}},\"type\":\"scattermapbox\"}],\"scatterpolargl\":[{\"marker\":{\"colorbar\":{\"outlinewidth\":0,\"ticks\":\"\"}},\"type\":\"scatterpolargl\"}],\"scatterpolar\":[{\"marker\":{\"colorbar\":{\"outlinewidth\":0,\"ticks\":\"\"}},\"type\":\"scatterpolar\"}],\"scatter\":[{\"fillpattern\":{\"fillmode\":\"overlay\",\"size\":10,\"solidity\":0.2},\"type\":\"scatter\"}],\"scatterternary\":[{\"marker\":{\"colorbar\":{\"outlinewidth\":0,\"ticks\":\"\"}},\"type\":\"scatterternary\"}],\"surface\":[{\"colorbar\":{\"outlinewidth\":0,\"ticks\":\"\"},\"colorscale\":[[0.0,\"#0d0887\"],[0.1111111111111111,\"#46039f\"],[0.2222222222222222,\"#7201a8\"],[0.3333333333333333,\"#9c179e\"],[0.4444444444444444,\"#bd3786\"],[0.5555555555555556,\"#d8576b\"],[0.6666666666666666,\"#ed7953\"],[0.7777777777777778,\"#fb9f3a\"],[0.8888888888888888,\"#fdca26\"],[1.0,\"#f0f921\"]],\"type\":\"surface\"}],\"table\":[{\"cells\":{\"fill\":{\"color\":\"#EBF0F8\"},\"line\":{\"color\":\"white\"}},\"header\":{\"fill\":{\"color\":\"#C8D4E3\"},\"line\":{\"color\":\"white\"}},\"type\":\"table\"}]},\"layout\":{\"annotationdefaults\":{\"arrowcolor\":\"#2a3f5f\",\"arrowhead\":0,\"arrowwidth\":1},\"autotypenumbers\":\"strict\",\"coloraxis\":{\"colorbar\":{\"outlinewidth\":0,\"ticks\":\"\"}},\"colorscale\":{\"diverging\":[[0,\"#8e0152\"],[0.1,\"#c51b7d\"],[0.2,\"#de77ae\"],[0.3,\"#f1b6da\"],[0.4,\"#fde0ef\"],[0.5,\"#f7f7f7\"],[0.6,\"#e6f5d0\"],[0.7,\"#b8e186\"],[0.8,\"#7fbc41\"],[0.9,\"#4d9221\"],[1,\"#276419\"]],\"sequential\":[[0.0,\"#0d0887\"],[0.1111111111111111,\"#46039f\"],[0.2222222222222222,\"#7201a8\"],[0.3333333333333333,\"#9c179e\"],[0.4444444444444444,\"#bd3786\"],[0.5555555555555556,\"#d8576b\"],[0.6666666666666666,\"#ed7953\"],[0.7777777777777778,\"#fb9f3a\"],[0.8888888888888888,\"#fdca26\"],[1.0,\"#f0f921\"]],\"sequentialminus\":[[0.0,\"#0d0887\"],[0.1111111111111111,\"#46039f\"],[0.2222222222222222,\"#7201a8\"],[0.3333333333333333,\"#9c179e\"],[0.4444444444444444,\"#bd3786\"],[0.5555555555555556,\"#d8576b\"],[0.6666666666666666,\"#ed7953\"],[0.7777777777777778,\"#fb9f3a\"],[0.8888888888888888,\"#fdca26\"],[1.0,\"#f0f921\"]]},\"colorway\":[\"#636efa\",\"#EF553B\",\"#00cc96\",\"#ab63fa\",\"#FFA15A\",\"#19d3f3\",\"#FF6692\",\"#B6E880\",\"#FF97FF\",\"#FECB52\"],\"font\":{\"color\":\"#2a3f5f\"},\"geo\":{\"bgcolor\":\"white\",\"lakecolor\":\"white\",\"landcolor\":\"#E5ECF6\",\"showlakes\":true,\"showland\":true,\"subunitcolor\":\"white\"},\"hoverlabel\":{\"align\":\"left\"},\"hovermode\":\"closest\",\"mapbox\":{\"style\":\"light\"},\"paper_bgcolor\":\"white\",\"plot_bgcolor\":\"#E5ECF6\",\"polar\":{\"angularaxis\":{\"gridcolor\":\"white\",\"linecolor\":\"white\",\"ticks\":\"\"},\"bgcolor\":\"#E5ECF6\",\"radialaxis\":{\"gridcolor\":\"white\",\"linecolor\":\"white\",\"ticks\":\"\"}},\"scene\":{\"xaxis\":{\"backgroundcolor\":\"#E5ECF6\",\"gridcolor\":\"white\",\"gridwidth\":2,\"linecolor\":\"white\",\"showbackground\":true,\"ticks\":\"\",\"zerolinecolor\":\"white\"},\"yaxis\":{\"backgroundcolor\":\"#E5ECF6\",\"gridcolor\":\"white\",\"gridwidth\":2,\"linecolor\":\"white\",\"showbackground\":true,\"ticks\":\"\",\"zerolinecolor\":\"white\"},\"zaxis\":{\"backgroundcolor\":\"#E5ECF6\",\"gridcolor\":\"white\",\"gridwidth\":2,\"linecolor\":\"white\",\"showbackground\":true,\"ticks\":\"\",\"zerolinecolor\":\"white\"}},\"shapedefaults\":{\"line\":{\"color\":\"#2a3f5f\"}},\"ternary\":{\"aaxis\":{\"gridcolor\":\"white\",\"linecolor\":\"white\",\"ticks\":\"\"},\"baxis\":{\"gridcolor\":\"white\",\"linecolor\":\"white\",\"ticks\":\"\"},\"bgcolor\":\"#E5ECF6\",\"caxis\":{\"gridcolor\":\"white\",\"linecolor\":\"white\",\"ticks\":\"\"}},\"title\":{\"x\":0.05},\"xaxis\":{\"automargin\":true,\"gridcolor\":\"white\",\"linecolor\":\"white\",\"ticks\":\"\",\"title\":{\"standoff\":15},\"zerolinecolor\":\"white\",\"zerolinewidth\":2},\"yaxis\":{\"automargin\":true,\"gridcolor\":\"white\",\"linecolor\":\"white\",\"ticks\":\"\",\"title\":{\"standoff\":15},\"zerolinecolor\":\"white\",\"zerolinewidth\":2}}}},                        {\"responsive\": true}                    ).then(function(){\n",
       "                            \n",
       "var gd = document.getElementById('0f8ef8de-c590-4ede-8737-eac6555f7a27');\n",
       "var x = new MutationObserver(function (mutations, observer) {{\n",
       "        var display = window.getComputedStyle(gd).display;\n",
       "        if (!display || display === 'none') {{\n",
       "            console.log([gd, 'removed!']);\n",
       "            Plotly.purge(gd);\n",
       "            observer.disconnect();\n",
       "        }}\n",
       "}});\n",
       "\n",
       "// Listen for the removal of the full notebook cells\n",
       "var notebookContainer = gd.closest('#notebook-container');\n",
       "if (notebookContainer) {{\n",
       "    x.observe(notebookContainer, {childList: true});\n",
       "}}\n",
       "\n",
       "// Listen for the clearing of the current output cell\n",
       "var outputEl = gd.closest('.output');\n",
       "if (outputEl) {{\n",
       "    x.observe(outputEl, {childList: true});\n",
       "}}\n",
       "\n",
       "                        })                };                });            </script>        </div>"
      ]
     },
     "metadata": {},
     "output_type": "display_data"
    },
    {
     "data": {
      "text/html": [
       "<html>\n",
       "<head><meta charset=\"utf-8\" /></head>\n",
       "<body>\n",
       "    <div>            <script src=\"https://cdnjs.cloudflare.com/ajax/libs/mathjax/2.7.5/MathJax.js?config=TeX-AMS-MML_SVG\"></script><script type=\"text/javascript\">if (window.MathJax && window.MathJax.Hub && && window.MathJax.Hub.Config) {window.MathJax.Hub.Config({SVG: {font: \"STIX-Web\"}});}</script>                <script type=\"text/javascript\">window.PlotlyConfig = {MathJaxConfig: 'local'};</script>\n",
       "        <script src=\"https://cdn.plot.ly/plotly-2.12.1.min.js\"></script>                <div id=\"32916c33-13ae-451d-9b97-d9862647783d\" class=\"plotly-graph-div\" style=\"height:1000px; width:100%;\"></div>            <script type=\"text/javascript\">                                    window.PLOTLYENV=window.PLOTLYENV || {};                                    if (document.getElementById(\"32916c33-13ae-451d-9b97-d9862647783d\")) {                    Plotly.newPlot(                        \"32916c33-13ae-451d-9b97-d9862647783d\",                        [{\"colorbar\":{\"title\":{\"text\":\"USD\"}},\"colorscale\":[[0.0,\"rgb(246, 210, 169)\"],[0.16666666666666666,\"rgb(245, 183, 142)\"],[0.3333333333333333,\"rgb(241, 156, 124)\"],[0.5,\"rgb(234, 129, 113)\"],[0.6666666666666666,\"rgb(221, 104, 108)\"],[0.8333333333333334,\"rgb(202, 82, 104)\"],[1.0,\"rgb(177, 63, 100)\"]],\"locationmode\":\"USA-states\",\"locations\":[\"AK\",\"AL\",\"AR\",\"AZ\",\"CA\",\"CO\",\"CT\",\"DC\",\"DE\",\"FL\",\"GA\",\"HI\",\"IA\",\"ID\",\"IL\",\"IN\",\"KS\",\"KY\",\"LA\",\"MA\",\"MD\",\"ME\",\"MI\",\"MN\",\"MO\",\"MS\",\"MT\",\"NC\",\"ND\",\"NE\",\"NH\",\"NJ\",\"NM\",\"NV\",\"NY\",\"OH\",\"OK\",\"OR\",\"PA\",\"RI\",\"SC\",\"SD\",\"TN\",\"TX\",\"UT\",\"VA\",\"VT\",\"WA\",\"WI\",\"WV\",\"WY\"],\"z\":[290,1506,872,1800,13205,935,1445,414,308,5144,3329,434,568,579,3710,2214,532,1126,1990,2055,1270,428,2672,1036,2202,1118,200,4353,127,260,304,1888,479,1167,6291,2159,1900,1056,2658,243,3385,252,1435,6014,1448,1739,64,2045,1545,430,82],\"type\":\"choropleth\"}],                        {\"geo\":{\"scope\":\"usa\"},\"template\":{\"data\":{\"histogram2dcontour\":[{\"type\":\"histogram2dcontour\",\"colorbar\":{\"outlinewidth\":0,\"ticks\":\"\"},\"colorscale\":[[0.0,\"#0d0887\"],[0.1111111111111111,\"#46039f\"],[0.2222222222222222,\"#7201a8\"],[0.3333333333333333,\"#9c179e\"],[0.4444444444444444,\"#bd3786\"],[0.5555555555555556,\"#d8576b\"],[0.6666666666666666,\"#ed7953\"],[0.7777777777777778,\"#fb9f3a\"],[0.8888888888888888,\"#fdca26\"],[1.0,\"#f0f921\"]]}],\"choropleth\":[{\"type\":\"choropleth\",\"colorbar\":{\"outlinewidth\":0,\"ticks\":\"\"}}],\"histogram2d\":[{\"type\":\"histogram2d\",\"colorbar\":{\"outlinewidth\":0,\"ticks\":\"\"},\"colorscale\":[[0.0,\"#0d0887\"],[0.1111111111111111,\"#46039f\"],[0.2222222222222222,\"#7201a8\"],[0.3333333333333333,\"#9c179e\"],[0.4444444444444444,\"#bd3786\"],[0.5555555555555556,\"#d8576b\"],[0.6666666666666666,\"#ed7953\"],[0.7777777777777778,\"#fb9f3a\"],[0.8888888888888888,\"#fdca26\"],[1.0,\"#f0f921\"]]}],\"heatmap\":[{\"type\":\"heatmap\",\"colorbar\":{\"outlinewidth\":0,\"ticks\":\"\"},\"colorscale\":[[0.0,\"#0d0887\"],[0.1111111111111111,\"#46039f\"],[0.2222222222222222,\"#7201a8\"],[0.3333333333333333,\"#9c179e\"],[0.4444444444444444,\"#bd3786\"],[0.5555555555555556,\"#d8576b\"],[0.6666666666666666,\"#ed7953\"],[0.7777777777777778,\"#fb9f3a\"],[0.8888888888888888,\"#fdca26\"],[1.0,\"#f0f921\"]]}],\"heatmapgl\":[{\"type\":\"heatmapgl\",\"colorbar\":{\"outlinewidth\":0,\"ticks\":\"\"},\"colorscale\":[[0.0,\"#0d0887\"],[0.1111111111111111,\"#46039f\"],[0.2222222222222222,\"#7201a8\"],[0.3333333333333333,\"#9c179e\"],[0.4444444444444444,\"#bd3786\"],[0.5555555555555556,\"#d8576b\"],[0.6666666666666666,\"#ed7953\"],[0.7777777777777778,\"#fb9f3a\"],[0.8888888888888888,\"#fdca26\"],[1.0,\"#f0f921\"]]}],\"contourcarpet\":[{\"type\":\"contourcarpet\",\"colorbar\":{\"outlinewidth\":0,\"ticks\":\"\"}}],\"contour\":[{\"type\":\"contour\",\"colorbar\":{\"outlinewidth\":0,\"ticks\":\"\"},\"colorscale\":[[0.0,\"#0d0887\"],[0.1111111111111111,\"#46039f\"],[0.2222222222222222,\"#7201a8\"],[0.3333333333333333,\"#9c179e\"],[0.4444444444444444,\"#bd3786\"],[0.5555555555555556,\"#d8576b\"],[0.6666666666666666,\"#ed7953\"],[0.7777777777777778,\"#fb9f3a\"],[0.8888888888888888,\"#fdca26\"],[1.0,\"#f0f921\"]]}],\"surface\":[{\"type\":\"surface\",\"colorbar\":{\"outlinewidth\":0,\"ticks\":\"\"},\"colorscale\":[[0.0,\"#0d0887\"],[0.1111111111111111,\"#46039f\"],[0.2222222222222222,\"#7201a8\"],[0.3333333333333333,\"#9c179e\"],[0.4444444444444444,\"#bd3786\"],[0.5555555555555556,\"#d8576b\"],[0.6666666666666666,\"#ed7953\"],[0.7777777777777778,\"#fb9f3a\"],[0.8888888888888888,\"#fdca26\"],[1.0,\"#f0f921\"]]}],\"mesh3d\":[{\"type\":\"mesh3d\",\"colorbar\":{\"outlinewidth\":0,\"ticks\":\"\"}}],\"scatter\":[{\"fillpattern\":{\"fillmode\":\"overlay\",\"size\":10,\"solidity\":0.2},\"type\":\"scatter\"}],\"parcoords\":[{\"type\":\"parcoords\",\"line\":{\"colorbar\":{\"outlinewidth\":0,\"ticks\":\"\"}}}],\"scatterpolargl\":[{\"type\":\"scatterpolargl\",\"marker\":{\"colorbar\":{\"outlinewidth\":0,\"ticks\":\"\"}}}],\"bar\":[{\"error_x\":{\"color\":\"#2a3f5f\"},\"error_y\":{\"color\":\"#2a3f5f\"},\"marker\":{\"line\":{\"color\":\"#E5ECF6\",\"width\":0.5},\"pattern\":{\"fillmode\":\"overlay\",\"size\":10,\"solidity\":0.2}},\"type\":\"bar\"}],\"scattergeo\":[{\"type\":\"scattergeo\",\"marker\":{\"colorbar\":{\"outlinewidth\":0,\"ticks\":\"\"}}}],\"scatterpolar\":[{\"type\":\"scatterpolar\",\"marker\":{\"colorbar\":{\"outlinewidth\":0,\"ticks\":\"\"}}}],\"histogram\":[{\"marker\":{\"pattern\":{\"fillmode\":\"overlay\",\"size\":10,\"solidity\":0.2}},\"type\":\"histogram\"}],\"scattergl\":[{\"type\":\"scattergl\",\"marker\":{\"colorbar\":{\"outlinewidth\":0,\"ticks\":\"\"}}}],\"scatter3d\":[{\"type\":\"scatter3d\",\"line\":{\"colorbar\":{\"outlinewidth\":0,\"ticks\":\"\"}},\"marker\":{\"colorbar\":{\"outlinewidth\":0,\"ticks\":\"\"}}}],\"scattermapbox\":[{\"type\":\"scattermapbox\",\"marker\":{\"colorbar\":{\"outlinewidth\":0,\"ticks\":\"\"}}}],\"scatterternary\":[{\"type\":\"scatterternary\",\"marker\":{\"colorbar\":{\"outlinewidth\":0,\"ticks\":\"\"}}}],\"scattercarpet\":[{\"type\":\"scattercarpet\",\"marker\":{\"colorbar\":{\"outlinewidth\":0,\"ticks\":\"\"}}}],\"carpet\":[{\"aaxis\":{\"endlinecolor\":\"#2a3f5f\",\"gridcolor\":\"white\",\"linecolor\":\"white\",\"minorgridcolor\":\"white\",\"startlinecolor\":\"#2a3f5f\"},\"baxis\":{\"endlinecolor\":\"#2a3f5f\",\"gridcolor\":\"white\",\"linecolor\":\"white\",\"minorgridcolor\":\"white\",\"startlinecolor\":\"#2a3f5f\"},\"type\":\"carpet\"}],\"table\":[{\"cells\":{\"fill\":{\"color\":\"#EBF0F8\"},\"line\":{\"color\":\"white\"}},\"header\":{\"fill\":{\"color\":\"#C8D4E3\"},\"line\":{\"color\":\"white\"}},\"type\":\"table\"}],\"barpolar\":[{\"marker\":{\"line\":{\"color\":\"#E5ECF6\",\"width\":0.5},\"pattern\":{\"fillmode\":\"overlay\",\"size\":10,\"solidity\":0.2}},\"type\":\"barpolar\"}],\"pie\":[{\"automargin\":true,\"type\":\"pie\"}]},\"layout\":{\"autotypenumbers\":\"strict\",\"colorway\":[\"#636efa\",\"#EF553B\",\"#00cc96\",\"#ab63fa\",\"#FFA15A\",\"#19d3f3\",\"#FF6692\",\"#B6E880\",\"#FF97FF\",\"#FECB52\"],\"font\":{\"color\":\"#2a3f5f\"},\"hovermode\":\"closest\",\"hoverlabel\":{\"align\":\"left\"},\"paper_bgcolor\":\"white\",\"plot_bgcolor\":\"#E5ECF6\",\"polar\":{\"bgcolor\":\"#E5ECF6\",\"angularaxis\":{\"gridcolor\":\"white\",\"linecolor\":\"white\",\"ticks\":\"\"},\"radialaxis\":{\"gridcolor\":\"white\",\"linecolor\":\"white\",\"ticks\":\"\"}},\"ternary\":{\"bgcolor\":\"#E5ECF6\",\"aaxis\":{\"gridcolor\":\"white\",\"linecolor\":\"white\",\"ticks\":\"\"},\"baxis\":{\"gridcolor\":\"white\",\"linecolor\":\"white\",\"ticks\":\"\"},\"caxis\":{\"gridcolor\":\"white\",\"linecolor\":\"white\",\"ticks\":\"\"}},\"coloraxis\":{\"colorbar\":{\"outlinewidth\":0,\"ticks\":\"\"}},\"colorscale\":{\"sequential\":[[0.0,\"#0d0887\"],[0.1111111111111111,\"#46039f\"],[0.2222222222222222,\"#7201a8\"],[0.3333333333333333,\"#9c179e\"],[0.4444444444444444,\"#bd3786\"],[0.5555555555555556,\"#d8576b\"],[0.6666666666666666,\"#ed7953\"],[0.7777777777777778,\"#fb9f3a\"],[0.8888888888888888,\"#fdca26\"],[1.0,\"#f0f921\"]],\"sequentialminus\":[[0.0,\"#0d0887\"],[0.1111111111111111,\"#46039f\"],[0.2222222222222222,\"#7201a8\"],[0.3333333333333333,\"#9c179e\"],[0.4444444444444444,\"#bd3786\"],[0.5555555555555556,\"#d8576b\"],[0.6666666666666666,\"#ed7953\"],[0.7777777777777778,\"#fb9f3a\"],[0.8888888888888888,\"#fdca26\"],[1.0,\"#f0f921\"]],\"diverging\":[[0,\"#8e0152\"],[0.1,\"#c51b7d\"],[0.2,\"#de77ae\"],[0.3,\"#f1b6da\"],[0.4,\"#fde0ef\"],[0.5,\"#f7f7f7\"],[0.6,\"#e6f5d0\"],[0.7,\"#b8e186\"],[0.8,\"#7fbc41\"],[0.9,\"#4d9221\"],[1,\"#276419\"]]},\"xaxis\":{\"gridcolor\":\"white\",\"linecolor\":\"white\",\"ticks\":\"\",\"title\":{\"standoff\":15},\"zerolinecolor\":\"white\",\"automargin\":true,\"zerolinewidth\":2},\"yaxis\":{\"gridcolor\":\"white\",\"linecolor\":\"white\",\"ticks\":\"\",\"title\":{\"standoff\":15},\"zerolinecolor\":\"white\",\"automargin\":true,\"zerolinewidth\":2},\"scene\":{\"xaxis\":{\"backgroundcolor\":\"#E5ECF6\",\"gridcolor\":\"white\",\"linecolor\":\"white\",\"showbackground\":true,\"ticks\":\"\",\"zerolinecolor\":\"white\",\"gridwidth\":2},\"yaxis\":{\"backgroundcolor\":\"#E5ECF6\",\"gridcolor\":\"white\",\"linecolor\":\"white\",\"showbackground\":true,\"ticks\":\"\",\"zerolinecolor\":\"white\",\"gridwidth\":2},\"zaxis\":{\"backgroundcolor\":\"#E5ECF6\",\"gridcolor\":\"white\",\"linecolor\":\"white\",\"showbackground\":true,\"ticks\":\"\",\"zerolinecolor\":\"white\",\"gridwidth\":2}},\"shapedefaults\":{\"line\":{\"color\":\"#2a3f5f\"}},\"annotationdefaults\":{\"arrowcolor\":\"#2a3f5f\",\"arrowhead\":0,\"arrowwidth\":1},\"geo\":{\"bgcolor\":\"white\",\"landcolor\":\"#E5ECF6\",\"subunitcolor\":\"white\",\"showland\":true,\"showlakes\":true,\"lakecolor\":\"white\"},\"title\":{\"x\":0.05},\"mapbox\":{\"style\":\"light\"}}},\"margin\":{\"t\":0,\"r\":0,\"l\":0},\"height\":1000},                        {\"responsive\": true}                    ).then(function(){\n",
       "                            \n",
       "var gd = document.getElementById('32916c33-13ae-451d-9b97-d9862647783d');\n",
       "var x = new MutationObserver(function (mutations, observer) {{\n",
       "        var display = window.getComputedStyle(gd).display;\n",
       "        if (!display || display === 'none') {{\n",
       "            console.log([gd, 'removed!']);\n",
       "            Plotly.purge(gd);\n",
       "            observer.disconnect();\n",
       "        }}\n",
       "}});\n",
       "\n",
       "// Listen for the removal of the full notebook cells\n",
       "var notebookContainer = gd.closest('#notebook-container');\n",
       "if (notebookContainer) {{\n",
       "    x.observe(notebookContainer, {childList: true});\n",
       "}}\n",
       "\n",
       "// Listen for the clearing of the current output cell\n",
       "var outputEl = gd.closest('.output');\n",
       "if (outputEl) {{\n",
       "    x.observe(outputEl, {childList: true});\n",
       "}}\n",
       "\n",
       "                        })                };                            </script>        </div>\n",
       "</body>\n",
       "</html>"
      ]
     },
     "metadata": {},
     "output_type": "display_data"
    }
   ],
   "source": [
    "# To establish connection\n",
    "init_notebook_mode(connected = True)\n",
    "  \n",
    "# type defined is choropleth to\n",
    "# plot geographical plots\n",
    "data = dict(type = 'choropleth',\n",
    "  \n",
    "            # locations\n",
    "            locations = locations,\n",
    "              \n",
    "            # States of USA\n",
    "            locationmode = 'USA-states',\n",
    "              \n",
    "            # colorscale can be added as per requirement\n",
    "            colorscale = 'redor',\n",
    "              \n",
    "            # text can be given anything you like\n",
    "            z = mean_price['price'],\n",
    "            colorbar = {'title': 'USD'})\n",
    "              \n",
    "layout = dict(geo ={'scope': 'usa'})\n",
    "\n",
    "# passing data dictionary as a list \n",
    "choromap = go.Figure(data = [data], layout = layout)\n",
    "\n",
    "choromap.update_layout(height=1000, margin=dict(t=0, r=0,  l=0))\n",
    "  \n",
    "# plotting graph\n",
    "iplot(choromap)\n",
    "\n",
    "\n",
    "choromap.show(renderer=\"colab\") \n"
   ]
  },
  {
   "cell_type": "code",
   "execution_count": 10,
   "id": "72e1a686",
   "metadata": {
    "execution": {
     "iopub.execute_input": "2023-04-26T14:48:01.707678Z",
     "iopub.status.busy": "2023-04-26T14:48:01.706577Z",
     "iopub.status.idle": "2023-04-26T14:48:02.123596Z",
     "shell.execute_reply": "2023-04-26T14:48:02.122893Z"
    },
    "id": "xQJN5XDDno5u",
    "outputId": "a3980443-dfa9-4f36-d46b-cfb3f60db4c3",
    "papermill": {
     "duration": 0.458032,
     "end_time": "2023-04-26T14:48:02.125740",
     "exception": false,
     "start_time": "2023-04-26T14:48:01.667708",
     "status": "completed"
    },
    "tags": []
   },
   "outputs": [
    {
     "data": {
      "text/plain": [
       "array([[<AxesSubplot:title={'center':'price'}>]], dtype=object)"
      ]
     },
     "execution_count": 10,
     "metadata": {},
     "output_type": "execute_result"
    },
    {
     "data": {
      "image/png": "[encoded data removed]",
      "text/plain": [
       "<Figure size 1080x1080 with 1 Axes>"
      ]
     },
     "metadata": {
      "needs_background": "light"
     },
     "output_type": "display_data"
    }
   ],
   "source": [
    "# Statistic of amount of proposal's request fund\n",
    "\n",
    "donor_data.hist(column='price', bins=100, figsize = (15,15))"
   ]
  },
  {
   "cell_type": "code",
   "execution_count": 11,
   "id": "96ca1a89",
   "metadata": {
    "execution": {
     "iopub.execute_input": "2023-04-26T14:48:02.203978Z",
     "iopub.status.busy": "2023-04-26T14:48:02.202992Z",
     "iopub.status.idle": "2023-04-26T14:48:02.866151Z",
     "shell.execute_reply": "2023-04-26T14:48:02.865309Z"
    },
    "id": "yy8hNK-xxoyG",
    "outputId": "47902e88-9016-4609-9c87-64e79a29dd3f",
    "papermill": {
     "duration": 0.704097,
     "end_time": "2023-04-26T14:48:02.868211",
     "exception": false,
     "start_time": "2023-04-26T14:48:02.164114",
     "status": "completed"
    },
    "tags": []
   },
   "outputs": [
    {
     "data": {
      "text/plain": [
       "array([<AxesSubplot:title={'center':'0'}>,\n",
       "       <AxesSubplot:title={'center':'1'}>], dtype=object)"
      ]
     },
     "execution_count": 11,
     "metadata": {},
     "output_type": "execute_result"
    },
    {
     "data": {
      "image/png": "[encoded data removed]",
      "text/plain": [
       "<Figure size 1080x1080 with 2 Axes>"
      ]
     },
     "metadata": {
      "needs_background": "light"
     },
     "output_type": "display_data"
    }
   ],
   "source": [
    "# Funding Amount v/s Rate of Reject\n",
    "\n",
    "donor_data.hist(column='price', bins=100, by=donor_data['project_is_approved'], figsize = (15,15))"
   ]
  },
  {
   "cell_type": "markdown",
   "id": "94388439",
   "metadata": {
    "id": "RzEPdTqmC5ZA",
    "papermill": {
     "duration": 0.038451,
     "end_time": "2023-04-26T14:48:02.945582",
     "exception": false,
     "start_time": "2023-04-26T14:48:02.907131",
     "status": "completed"
    },
    "tags": []
   },
   "source": [
    "### Class label count."
   ]
  },
  {
   "cell_type": "code",
   "execution_count": 12,
   "id": "ca202ffe",
   "metadata": {
    "execution": {
     "iopub.execute_input": "2023-04-26T14:48:03.025235Z",
     "iopub.status.busy": "2023-04-26T14:48:03.024495Z",
     "iopub.status.idle": "2023-04-26T14:48:03.034263Z",
     "shell.execute_reply": "2023-04-26T14:48:03.033340Z"
    },
    "id": "q59IBY7RDUIm",
    "outputId": "227f50e1-ae35-4f97-afd3-39f6da9078ec",
    "papermill": {
     "duration": 0.052086,
     "end_time": "2023-04-26T14:48:03.036434",
     "exception": false,
     "start_time": "2023-04-26T14:48:02.984348",
     "status": "completed"
    },
    "tags": []
   },
   "outputs": [
    {
     "data": {
      "text/plain": [
       "1    92706\n",
       "0    16542\n",
       "Name: project_is_approved, dtype: int64"
      ]
     },
     "execution_count": 12,
     "metadata": {},
     "output_type": "execute_result"
    }
   ],
   "source": [
    "# To get each class label count\n",
    "\n",
    "donor_data['project_is_approved'].value_counts()"
   ]
  },
  {
   "cell_type": "code",
   "execution_count": 13,
   "id": "f6639703",
   "metadata": {
    "execution": {
     "iopub.execute_input": "2023-04-26T14:48:03.116778Z",
     "iopub.status.busy": "2023-04-26T14:48:03.116158Z",
     "iopub.status.idle": "2023-04-26T14:48:03.248523Z",
     "shell.execute_reply": "2023-04-26T14:48:03.247199Z"
    },
    "id": "YYYmdWGddOnB",
    "outputId": "dd21f70e-6a08-4429-d324-de2a3d04e581",
    "papermill": {
     "duration": 0.176603,
     "end_time": "2023-04-26T14:48:03.252177",
     "exception": false,
     "start_time": "2023-04-26T14:48:03.075574",
     "status": "completed"
    },
    "tags": []
   },
   "outputs": [
    {
     "data": {
      "image/png": "[encoded data removed]",
      "text/plain": [
       "<Figure size 432x288 with 1 Axes>"
      ]
     },
     "metadata": {},
     "output_type": "display_data"
    }
   ],
   "source": [
    "# Pie chart showing each class (% of data distribution)\n",
    "\n",
    "x = donor_data['project_is_approved'].groupby(donor_data['project_is_approved']).count().index\n",
    "projects = donor_data['project_is_approved'].groupby(donor_data['project_is_approved']).count().values\n",
    "colors = [\"#d62728\",\"#1f77b4\"]\n",
    "plt.pie(projects, labels=x,  colors=colors , autopct='%1.1f%%', shadow=True, startangle=140)\n",
    "plt.title(\"% of Different categories\")\n",
    "plt.show()"
   ]
  },
  {
   "cell_type": "markdown",
   "id": "f8f4b4f1",
   "metadata": {
    "id": "XgxlSf5NpSjW",
    "papermill": {
     "duration": 0.038891,
     "end_time": "2023-04-26T14:48:03.379160",
     "exception": false,
     "start_time": "2023-04-26T14:48:03.340269",
     "status": "completed"
    },
    "tags": []
   },
   "source": [
    "Here we can see that 84.9% of the projects were approved while only 15.1% of the projects were not. Therefore, data is not balanced."
   ]
  },
  {
   "cell_type": "markdown",
   "id": "ca2777ad",
   "metadata": {
    "id": "_NU2CKrgDdLf",
    "papermill": {
     "duration": 0.039435,
     "end_time": "2023-04-26T14:48:03.457795",
     "exception": false,
     "start_time": "2023-04-26T14:48:03.418360",
     "status": "completed"
    },
    "tags": []
   },
   "source": [
    "# **Data Preparation**"
   ]
  },
  {
   "cell_type": "code",
   "execution_count": 14,
   "id": "196e1356",
   "metadata": {
    "execution": {
     "iopub.execute_input": "2023-04-26T14:48:03.538512Z",
     "iopub.status.busy": "2023-04-26T14:48:03.538016Z",
     "iopub.status.idle": "2023-04-26T14:48:03.603124Z",
     "shell.execute_reply": "2023-04-26T14:48:03.601973Z"
    },
    "id": "cLXJY2Eq03Ip",
    "outputId": "85a8b59b-60f1-48dd-fe6b-8cf81473856f",
    "papermill": {
     "duration": 0.107808,
     "end_time": "2023-04-26T14:48:03.605197",
     "exception": false,
     "start_time": "2023-04-26T14:48:03.497389",
     "status": "completed"
    },
    "tags": []
   },
   "outputs": [
    {
     "name": "stdout",
     "output_type": "stream",
     "text": [
      "                Percentage_missing\n",
      "cleaned_titles             0.03936\n"
     ]
    }
   ],
   "source": [
    "# Identify NULL or Missing Values based on column\n",
    "\n",
    "percent_null = donor_data.isnull().sum() * 100 / len(donor_data)\n",
    "null_value_df = pd.DataFrame({'Percentage_missing': percent_null})\n",
    "# missing_value_df.sort_values('percent_missing', inplace=True)\n",
    "z = null_value_df[null_value_df['Percentage_missing'] > 0]\n",
    "if len(z.index) > 0:\n",
    "  print (z)\n",
    "else:\n",
    "  print(\"No null values\")"
   ]
  },
  {
   "cell_type": "code",
   "execution_count": 15,
   "id": "287bc74f",
   "metadata": {
    "execution": {
     "iopub.execute_input": "2023-04-26T14:48:03.687272Z",
     "iopub.status.busy": "2023-04-26T14:48:03.686786Z",
     "iopub.status.idle": "2023-04-26T14:48:03.779481Z",
     "shell.execute_reply": "2023-04-26T14:48:03.778517Z"
    },
    "id": "hADEVn964Iwi",
    "outputId": "964e7a8d-cb83-4040-e25a-cf6d36f37b89",
    "papermill": {
     "duration": 0.136245,
     "end_time": "2023-04-26T14:48:03.782374",
     "exception": false,
     "start_time": "2023-04-26T14:48:03.646129",
     "status": "completed"
    },
    "tags": []
   },
   "outputs": [
    {
     "name": "stdout",
     "output_type": "stream",
     "text": [
      "             id teacher_prefix school_state project_grade_category  \\\n",
      "0       p253737            mrs           in          grades_prek_2   \n",
      "1       p258326             mr           fl             grades_6_8   \n",
      "2       p182444             ms           az             grades_6_8   \n",
      "3       p246581            mrs           ky          grades_prek_2   \n",
      "4       p104768            mrs           tx          grades_prek_2   \n",
      "...         ...            ...          ...                    ...   \n",
      "109243  p048540             mr           mo          grades_prek_2   \n",
      "109244  p166281             ms           nj          grades_prek_2   \n",
      "109245  p155633            mrs           nj          grades_prek_2   \n",
      "109246  p206114            mrs           ny             grades_3_5   \n",
      "109247  p191189             ms           va             grades_6_8   \n",
      "\n",
      "            project_subject_categories   project_subject_subcategories  \\\n",
      "0                    literacy_language                    esl_literacy   \n",
      "1         history_civics_health_sports    civics_government_teamsports   \n",
      "2                        health_sports      health_wellness_teamsports   \n",
      "3       literacy_language_math_science            literacy_mathematics   \n",
      "4                         math_science                     mathematics   \n",
      "...                                ...                             ...   \n",
      "109243  literacy_language_math_science  literature_writing_mathematics   \n",
      "109244  literacy_language_math_science            literacy_mathematics   \n",
      "109245  literacy_language_math_science            literacy_mathematics   \n",
      "109246      health_sports_specialneeds    health_wellness_specialneeds   \n",
      "109247    appliedlearning_math_science  college_careerprep_mathematics   \n",
      "\n",
      "        teacher_number_of_previously_posted_projects  project_is_approved  \\\n",
      "0                                                  0                    0   \n",
      "1                                                  7                    1   \n",
      "2                                                  1                    0   \n",
      "3                                                  4                    1   \n",
      "4                                                  1                    1   \n",
      "...                                              ...                  ...   \n",
      "109243                                             0                    1   \n",
      "109244                                             0                    1   \n",
      "109245                                             3                    1   \n",
      "109246                                             0                    1   \n",
      "109247                                             0                    1   \n",
      "\n",
      "         price  quantity                                     cleaned_titles  \\\n",
      "0       154.60        23          educational support english learners home   \n",
      "1       299.00         1                   wanted projector hungry learners   \n",
      "2       516.85        22    soccer equipment awesome middle school students   \n",
      "3       232.90         4                             techie kindergarteners   \n",
      "4        67.98         4                             interactive math tools   \n",
      "...        ...       ...                                                ...   \n",
      "109243   59.98         8  privacy shields help promote independent thinking   \n",
      "109244  846.32         4                               technology classroom   \n",
      "109245  239.96         4                    2016 2017 beginning year basics   \n",
      "109246   73.05        16               flexible seating inclusive classroom   \n",
      "109247  109.90         5        classroom tech develop 21st century leaders   \n",
      "\n",
      "                                           cleaned_essays  \\\n",
      "0       students english learners working english seco...   \n",
      "1       students arrive school eager learn polite gene...   \n",
      "2       true champions not always ones win guts mia ha...   \n",
      "3       work unique school filled esl english second l...   \n",
      "4       second grade classroom next year made around 2...   \n",
      "...                                                   ...   \n",
      "109243  welcome mr ramos 2nd grade classroom title 1 s...   \n",
      "109244  every morning start day core values lead solel...   \n",
      "109245  great group sharing caring students multi grad...   \n",
      "109246  students live small rural community classroom ...   \n",
      "109247  last time used math probably within last hour ...   \n",
      "\n",
      "                                          cleaned_summary  isdigit_summary  \n",
      "0       students_need_opportunities_practice_beginning...                0  \n",
      "1       students_need_projector_help_viewing_education...                0  \n",
      "2       students_need_shine_guards_athletic_socks_socc...                0  \n",
      "3       students_need_engage_reading_math_way_inspire_...                0  \n",
      "4       students_need_hands_practice_mathematics_fun_p...                0  \n",
      "...                                                   ...              ...  \n",
      "109243  students_need_privacy_partitions_help_focus_be...                0  \n",
      "109244  students_need_two_ipad_protective_cases_enhanc...                0  \n",
      "109245  students_need_giant_comfy_pillows_order_help_r...                0  \n",
      "109246  students_need_flexible_seating_options_bean_ba...                0  \n",
      "109247  students_need_opportunities_work_technology_or...                1  \n",
      "\n",
      "[109205 rows x 14 columns]\n"
     ]
    }
   ],
   "source": [
    "# To drop all null or missing values\n",
    "\n",
    "donor_data_na = donor_data.dropna()\n",
    "print(donor_data_na)"
   ]
  },
  {
   "cell_type": "code",
   "execution_count": 16,
   "id": "9da3a9f7",
   "metadata": {
    "execution": {
     "iopub.execute_input": "2023-04-26T14:48:03.864251Z",
     "iopub.status.busy": "2023-04-26T14:48:03.863845Z",
     "iopub.status.idle": "2023-04-26T14:48:03.914815Z",
     "shell.execute_reply": "2023-04-26T14:48:03.913791Z"
    },
    "id": "f5M9f2hZVjEA",
    "outputId": "85a3ce79-bca0-434d-c7a6-8a469d9b4bb7",
    "papermill": {
     "duration": 0.09448,
     "end_time": "2023-04-26T14:48:03.916752",
     "exception": false,
     "start_time": "2023-04-26T14:48:03.822272",
     "status": "completed"
    },
    "tags": []
   },
   "outputs": [
    {
     "name": "stderr",
     "output_type": "stream",
     "text": [
      "/opt/conda/lib/python3.7/site-packages/pandas/core/frame.py:3641: SettingWithCopyWarning:\n",
      "\n",
      "\n",
      "A value is trying to be set on a copy of a slice from a DataFrame.\n",
      "Try using .loc[row_indexer,col_indexer] = value instead\n",
      "\n",
      "See the caveats in the documentation: https://pandas.pydata.org/pandas-docs/stable/user_guide/indexing.html#returning-a-view-versus-a-copy\n",
      "\n"
     ]
    },
    {
     "data": {
      "text/html": [
       "<div>\n",
       "<style scoped>\n",
       "    .dataframe tbody tr th:only-of-type {\n",
       "        vertical-align: middle;\n",
       "    }\n",
       "\n",
       "    .dataframe tbody tr th {\n",
       "        vertical-align: top;\n",
       "    }\n",
       "\n",
       "    .dataframe thead th {\n",
       "        text-align: right;\n",
       "    }\n",
       "</style>\n",
       "<table border=\"1\" class=\"dataframe\">\n",
       "  <thead>\n",
       "    <tr style=\"text-align: right;\">\n",
       "      <th></th>\n",
       "      <th>id</th>\n",
       "      <th>teacher_prefix</th>\n",
       "      <th>school_state</th>\n",
       "      <th>project_grade_category</th>\n",
       "      <th>project_subject_categories</th>\n",
       "      <th>project_subject_subcategories</th>\n",
       "      <th>teacher_number_of_previously_posted_projects</th>\n",
       "      <th>project_is_approved</th>\n",
       "      <th>price</th>\n",
       "      <th>quantity</th>\n",
       "      <th>cleaned_titles</th>\n",
       "      <th>cleaned_essays</th>\n",
       "      <th>cleaned_summary</th>\n",
       "      <th>isdigit_summary</th>\n",
       "    </tr>\n",
       "  </thead>\n",
       "  <tbody>\n",
       "    <tr>\n",
       "      <th>0</th>\n",
       "      <td>p253737</td>\n",
       "      <td>mrs</td>\n",
       "      <td>in</td>\n",
       "      <td>grades_prek_2</td>\n",
       "      <td>literacy_language</td>\n",
       "      <td>esl_literacy</td>\n",
       "      <td>0.000000</td>\n",
       "      <td>0.0</td>\n",
       "      <td>0.015397</td>\n",
       "      <td>0.023681</td>\n",
       "      <td>educational support english learners home</td>\n",
       "      <td>students english learners working english seco...</td>\n",
       "      <td>students_need_opportunities_practice_beginning...</td>\n",
       "      <td>0.0</td>\n",
       "    </tr>\n",
       "    <tr>\n",
       "      <th>1</th>\n",
       "      <td>p258326</td>\n",
       "      <td>mr</td>\n",
       "      <td>fl</td>\n",
       "      <td>grades_6_8</td>\n",
       "      <td>history_civics_health_sports</td>\n",
       "      <td>civics_government_teamsports</td>\n",
       "      <td>0.015521</td>\n",
       "      <td>1.0</td>\n",
       "      <td>0.029839</td>\n",
       "      <td>0.000000</td>\n",
       "      <td>wanted projector hungry learners</td>\n",
       "      <td>students arrive school eager learn polite gene...</td>\n",
       "      <td>students_need_projector_help_viewing_education...</td>\n",
       "      <td>0.0</td>\n",
       "    </tr>\n",
       "    <tr>\n",
       "      <th>2</th>\n",
       "      <td>p182444</td>\n",
       "      <td>ms</td>\n",
       "      <td>az</td>\n",
       "      <td>grades_6_8</td>\n",
       "      <td>health_sports</td>\n",
       "      <td>health_wellness_teamsports</td>\n",
       "      <td>0.002217</td>\n",
       "      <td>0.0</td>\n",
       "      <td>0.051628</td>\n",
       "      <td>0.022605</td>\n",
       "      <td>soccer equipment awesome middle school students</td>\n",
       "      <td>true champions not always ones win guts mia ha...</td>\n",
       "      <td>students_need_shine_guards_athletic_socks_socc...</td>\n",
       "      <td>0.0</td>\n",
       "    </tr>\n",
       "    <tr>\n",
       "      <th>3</th>\n",
       "      <td>p246581</td>\n",
       "      <td>mrs</td>\n",
       "      <td>ky</td>\n",
       "      <td>grades_prek_2</td>\n",
       "      <td>literacy_language_math_science</td>\n",
       "      <td>literacy_mathematics</td>\n",
       "      <td>0.008869</td>\n",
       "      <td>1.0</td>\n",
       "      <td>0.023228</td>\n",
       "      <td>0.003229</td>\n",
       "      <td>techie kindergarteners</td>\n",
       "      <td>work unique school filled esl english second l...</td>\n",
       "      <td>students_need_engage_reading_math_way_inspire_...</td>\n",
       "      <td>0.0</td>\n",
       "    </tr>\n",
       "    <tr>\n",
       "      <th>4</th>\n",
       "      <td>p104768</td>\n",
       "      <td>mrs</td>\n",
       "      <td>tx</td>\n",
       "      <td>grades_prek_2</td>\n",
       "      <td>math_science</td>\n",
       "      <td>mathematics</td>\n",
       "      <td>0.002217</td>\n",
       "      <td>1.0</td>\n",
       "      <td>0.006733</td>\n",
       "      <td>0.003229</td>\n",
       "      <td>interactive math tools</td>\n",
       "      <td>second grade classroom next year made around 2...</td>\n",
       "      <td>students_need_hands_practice_mathematics_fun_p...</td>\n",
       "      <td>0.0</td>\n",
       "    </tr>\n",
       "    <tr>\n",
       "      <th>...</th>\n",
       "      <td>...</td>\n",
       "      <td>...</td>\n",
       "      <td>...</td>\n",
       "      <td>...</td>\n",
       "      <td>...</td>\n",
       "      <td>...</td>\n",
       "      <td>...</td>\n",
       "      <td>...</td>\n",
       "      <td>...</td>\n",
       "      <td>...</td>\n",
       "      <td>...</td>\n",
       "      <td>...</td>\n",
       "      <td>...</td>\n",
       "      <td>...</td>\n",
       "    </tr>\n",
       "    <tr>\n",
       "      <th>109243</th>\n",
       "      <td>p048540</td>\n",
       "      <td>mr</td>\n",
       "      <td>mo</td>\n",
       "      <td>grades_prek_2</td>\n",
       "      <td>literacy_language_math_science</td>\n",
       "      <td>literature_writing_mathematics</td>\n",
       "      <td>0.000000</td>\n",
       "      <td>1.0</td>\n",
       "      <td>0.005933</td>\n",
       "      <td>0.007535</td>\n",
       "      <td>privacy shields help promote independent thinking</td>\n",
       "      <td>welcome mr ramos 2nd grade classroom title 1 s...</td>\n",
       "      <td>students_need_privacy_partitions_help_focus_be...</td>\n",
       "      <td>0.0</td>\n",
       "    </tr>\n",
       "    <tr>\n",
       "      <th>109244</th>\n",
       "      <td>p166281</td>\n",
       "      <td>ms</td>\n",
       "      <td>nj</td>\n",
       "      <td>grades_prek_2</td>\n",
       "      <td>literacy_language_math_science</td>\n",
       "      <td>literacy_mathematics</td>\n",
       "      <td>0.000000</td>\n",
       "      <td>1.0</td>\n",
       "      <td>0.084580</td>\n",
       "      <td>0.003229</td>\n",
       "      <td>technology classroom</td>\n",
       "      <td>every morning start day core values lead solel...</td>\n",
       "      <td>students_need_two_ipad_protective_cases_enhanc...</td>\n",
       "      <td>0.0</td>\n",
       "    </tr>\n",
       "    <tr>\n",
       "      <th>109245</th>\n",
       "      <td>p155633</td>\n",
       "      <td>mrs</td>\n",
       "      <td>nj</td>\n",
       "      <td>grades_prek_2</td>\n",
       "      <td>literacy_language_math_science</td>\n",
       "      <td>literacy_mathematics</td>\n",
       "      <td>0.006652</td>\n",
       "      <td>1.0</td>\n",
       "      <td>0.023934</td>\n",
       "      <td>0.003229</td>\n",
       "      <td>2016 2017 beginning year basics</td>\n",
       "      <td>great group sharing caring students multi grad...</td>\n",
       "      <td>students_need_giant_comfy_pillows_order_help_r...</td>\n",
       "      <td>0.0</td>\n",
       "    </tr>\n",
       "    <tr>\n",
       "      <th>109246</th>\n",
       "      <td>p206114</td>\n",
       "      <td>mrs</td>\n",
       "      <td>ny</td>\n",
       "      <td>grades_3_5</td>\n",
       "      <td>health_sports_specialneeds</td>\n",
       "      <td>health_wellness_specialneeds</td>\n",
       "      <td>0.000000</td>\n",
       "      <td>1.0</td>\n",
       "      <td>0.007240</td>\n",
       "      <td>0.016146</td>\n",
       "      <td>flexible seating inclusive classroom</td>\n",
       "      <td>students live small rural community classroom ...</td>\n",
       "      <td>students_need_flexible_seating_options_bean_ba...</td>\n",
       "      <td>0.0</td>\n",
       "    </tr>\n",
       "    <tr>\n",
       "      <th>109247</th>\n",
       "      <td>p191189</td>\n",
       "      <td>ms</td>\n",
       "      <td>va</td>\n",
       "      <td>grades_6_8</td>\n",
       "      <td>appliedlearning_math_science</td>\n",
       "      <td>college_careerprep_mathematics</td>\n",
       "      <td>0.000000</td>\n",
       "      <td>1.0</td>\n",
       "      <td>0.010926</td>\n",
       "      <td>0.004306</td>\n",
       "      <td>classroom tech develop 21st century leaders</td>\n",
       "      <td>last time used math probably within last hour ...</td>\n",
       "      <td>students_need_opportunities_work_technology_or...</td>\n",
       "      <td>1.0</td>\n",
       "    </tr>\n",
       "  </tbody>\n",
       "</table>\n",
       "<p>109205 rows × 14 columns</p>\n",
       "</div>"
      ],
      "text/plain": [
       "             id teacher_prefix school_state project_grade_category  \\\n",
       "0       p253737            mrs           in          grades_prek_2   \n",
       "1       p258326             mr           fl             grades_6_8   \n",
       "2       p182444             ms           az             grades_6_8   \n",
       "3       p246581            mrs           ky          grades_prek_2   \n",
       "4       p104768            mrs           tx          grades_prek_2   \n",
       "...         ...            ...          ...                    ...   \n",
       "109243  p048540             mr           mo          grades_prek_2   \n",
       "109244  p166281             ms           nj          grades_prek_2   \n",
       "109245  p155633            mrs           nj          grades_prek_2   \n",
       "109246  p206114            mrs           ny             grades_3_5   \n",
       "109247  p191189             ms           va             grades_6_8   \n",
       "\n",
       "            project_subject_categories   project_subject_subcategories  \\\n",
       "0                    literacy_language                    esl_literacy   \n",
       "1         history_civics_health_sports    civics_government_teamsports   \n",
       "2                        health_sports      health_wellness_teamsports   \n",
       "3       literacy_language_math_science            literacy_mathematics   \n",
       "4                         math_science                     mathematics   \n",
       "...                                ...                             ...   \n",
       "109243  literacy_language_math_science  literature_writing_mathematics   \n",
       "109244  literacy_language_math_science            literacy_mathematics   \n",
       "109245  literacy_language_math_science            literacy_mathematics   \n",
       "109246      health_sports_specialneeds    health_wellness_specialneeds   \n",
       "109247    appliedlearning_math_science  college_careerprep_mathematics   \n",
       "\n",
       "        teacher_number_of_previously_posted_projects  project_is_approved  \\\n",
       "0                                           0.000000                  0.0   \n",
       "1                                           0.015521                  1.0   \n",
       "2                                           0.002217                  0.0   \n",
       "3                                           0.008869                  1.0   \n",
       "4                                           0.002217                  1.0   \n",
       "...                                              ...                  ...   \n",
       "109243                                      0.000000                  1.0   \n",
       "109244                                      0.000000                  1.0   \n",
       "109245                                      0.006652                  1.0   \n",
       "109246                                      0.000000                  1.0   \n",
       "109247                                      0.000000                  1.0   \n",
       "\n",
       "           price  quantity                                     cleaned_titles  \\\n",
       "0       0.015397  0.023681          educational support english learners home   \n",
       "1       0.029839  0.000000                   wanted projector hungry learners   \n",
       "2       0.051628  0.022605    soccer equipment awesome middle school students   \n",
       "3       0.023228  0.003229                             techie kindergarteners   \n",
       "4       0.006733  0.003229                             interactive math tools   \n",
       "...          ...       ...                                                ...   \n",
       "109243  0.005933  0.007535  privacy shields help promote independent thinking   \n",
       "109244  0.084580  0.003229                               technology classroom   \n",
       "109245  0.023934  0.003229                    2016 2017 beginning year basics   \n",
       "109246  0.007240  0.016146               flexible seating inclusive classroom   \n",
       "109247  0.010926  0.004306        classroom tech develop 21st century leaders   \n",
       "\n",
       "                                           cleaned_essays  \\\n",
       "0       students english learners working english seco...   \n",
       "1       students arrive school eager learn polite gene...   \n",
       "2       true champions not always ones win guts mia ha...   \n",
       "3       work unique school filled esl english second l...   \n",
       "4       second grade classroom next year made around 2...   \n",
       "...                                                   ...   \n",
       "109243  welcome mr ramos 2nd grade classroom title 1 s...   \n",
       "109244  every morning start day core values lead solel...   \n",
       "109245  great group sharing caring students multi grad...   \n",
       "109246  students live small rural community classroom ...   \n",
       "109247  last time used math probably within last hour ...   \n",
       "\n",
       "                                          cleaned_summary  isdigit_summary  \n",
       "0       students_need_opportunities_practice_beginning...              0.0  \n",
       "1       students_need_projector_help_viewing_education...              0.0  \n",
       "2       students_need_shine_guards_athletic_socks_socc...              0.0  \n",
       "3       students_need_engage_reading_math_way_inspire_...              0.0  \n",
       "4       students_need_hands_practice_mathematics_fun_p...              0.0  \n",
       "...                                                   ...              ...  \n",
       "109243  students_need_privacy_partitions_help_focus_be...              0.0  \n",
       "109244  students_need_two_ipad_protective_cases_enhanc...              0.0  \n",
       "109245  students_need_giant_comfy_pillows_order_help_r...              0.0  \n",
       "109246  students_need_flexible_seating_options_bean_ba...              0.0  \n",
       "109247  students_need_opportunities_work_technology_or...              1.0  \n",
       "\n",
       "[109205 rows x 14 columns]"
      ]
     },
     "execution_count": 16,
     "metadata": {},
     "output_type": "execute_result"
    }
   ],
   "source": [
    "# Normalised numeric columns\n",
    "\n",
    "df_num = donor_data_na.select_dtypes(include='number')\n",
    "df_norm = (df_num - df_num.min()) / (df_num.max() - df_num.min())\n",
    "donor_data_na[df_norm.columns] = df_norm\n",
    "donor_data_na"
   ]
  },
  {
   "cell_type": "code",
   "execution_count": 17,
   "id": "7e675722",
   "metadata": {
    "execution": {
     "iopub.execute_input": "2023-04-26T14:48:03.998918Z",
     "iopub.status.busy": "2023-04-26T14:48:03.998281Z",
     "iopub.status.idle": "2023-04-26T14:48:04.023520Z",
     "shell.execute_reply": "2023-04-26T14:48:04.022741Z"
    },
    "id": "b_e46nIfo9tK",
    "papermill": {
     "duration": 0.069036,
     "end_time": "2023-04-26T14:48:04.025843",
     "exception": false,
     "start_time": "2023-04-26T14:48:03.956807",
     "status": "completed"
    },
    "tags": []
   },
   "outputs": [],
   "source": [
    "# Changed data type of boolean columns\n",
    "\n",
    "donor_data_na = donor_data_na.astype({\"isdigit_summary\": bool, \"project_is_approved\": bool})"
   ]
  },
  {
   "cell_type": "markdown",
   "id": "c8b7533e",
   "metadata": {
    "id": "Qg8a-gGYKgSb",
    "papermill": {
     "duration": 0.039856,
     "end_time": "2023-04-26T14:48:04.105650",
     "exception": false,
     "start_time": "2023-04-26T14:48:04.065794",
     "status": "completed"
    },
    "tags": []
   },
   "source": [
    "### **CASE: 1 - Dataset split into training and test sets. (Train:80, Test:20)**\n",
    " Train = 80 % Test = 20% [ x_train1,y_train1] = 80% ; [ x_test1,y_test1] = 20% ;"
   ]
  },
  {
   "cell_type": "code",
   "execution_count": 18,
   "id": "86bc7d03",
   "metadata": {
    "execution": {
     "iopub.execute_input": "2023-04-26T14:48:04.187489Z",
     "iopub.status.busy": "2023-04-26T14:48:04.186868Z",
     "iopub.status.idle": "2023-04-26T14:48:04.283228Z",
     "shell.execute_reply": "2023-04-26T14:48:04.282263Z"
    },
    "id": "Nue_egvRQbDn",
    "outputId": "9e3d8457-4c57-4d0a-ff47-ce5c5b4d2c20",
    "papermill": {
     "duration": 0.139517,
     "end_time": "2023-04-26T14:48:04.285400",
     "exception": false,
     "start_time": "2023-04-26T14:48:04.145883",
     "status": "completed"
    },
    "tags": []
   },
   "outputs": [
    {
     "data": {
      "text/plain": [
       "38161     True\n",
       "33489     True\n",
       "5666      True\n",
       "10909    False\n",
       "58808     True\n",
       "Name: project_is_approved, dtype: bool"
      ]
     },
     "execution_count": 18,
     "metadata": {},
     "output_type": "execute_result"
    }
   ],
   "source": [
    "feature_cols = donor_data_na.drop(['project_is_approved'], axis = 1).columns\n",
    "x = donor_data_na[feature_cols]\n",
    "y = donor_data_na['project_is_approved']\n",
    "y.sample(5)"
   ]
  },
  {
   "cell_type": "code",
   "execution_count": 19,
   "id": "5cac4df2",
   "metadata": {
    "execution": {
     "iopub.execute_input": "2023-04-26T14:48:04.367429Z",
     "iopub.status.busy": "2023-04-26T14:48:04.366683Z",
     "iopub.status.idle": "2023-04-26T14:48:04.435642Z",
     "shell.execute_reply": "2023-04-26T14:48:04.434822Z"
    },
    "id": "l_uQMHbPMQoh",
    "papermill": {
     "duration": 0.112749,
     "end_time": "2023-04-26T14:48:04.438137",
     "exception": false,
     "start_time": "2023-04-26T14:48:04.325388",
     "status": "completed"
    },
    "tags": []
   },
   "outputs": [],
   "source": [
    "X_train_case1, X_test_case1, y_train_case1, y_test_case1 = train_test_split(x, y, test_size = 0.2)"
   ]
  },
  {
   "cell_type": "markdown",
   "id": "a6d9cc8d",
   "metadata": {
    "id": "sKTuzUZ3FwIV",
    "papermill": {
     "duration": 0.039831,
     "end_time": "2023-04-26T14:48:04.518593",
     "exception": false,
     "start_time": "2023-04-26T14:48:04.478762",
     "status": "completed"
    },
    "tags": []
   },
   "source": [
    "## **Encoding**\n",
    "### **Encoding Subject Categories column**"
   ]
  },
  {
   "cell_type": "code",
   "execution_count": 20,
   "id": "53441ef3",
   "metadata": {
    "execution": {
     "iopub.execute_input": "2023-04-26T14:48:04.599739Z",
     "iopub.status.busy": "2023-04-26T14:48:04.599329Z",
     "iopub.status.idle": "2023-04-26T14:48:05.273370Z",
     "shell.execute_reply": "2023-04-26T14:48:05.272008Z"
    },
    "id": "4O1Ozas4FzTu",
    "outputId": "e608a712-c7d7-4c0b-dfc7-d7f46cd61a58",
    "papermill": {
     "duration": 0.717786,
     "end_time": "2023-04-26T14:48:05.276007",
     "exception": false,
     "start_time": "2023-04-26T14:48:04.558221",
     "status": "completed"
    },
    "tags": []
   },
   "outputs": [
    {
     "name": "stdout",
     "output_type": "stream",
     "text": [
      "['appliedlearning' 'appliedlearning_health_sports'\n",
      " 'appliedlearning_history_civics' 'appliedlearning_literacy_language'\n",
      " 'appliedlearning_math_science' 'appliedlearning_music_arts'\n",
      " 'appliedlearning_specialneeds' 'appliedlearning_warmth_care_hunger'\n",
      " 'health_sports' 'health_sports_appliedlearning'\n",
      " 'health_sports_history_civics' 'health_sports_literacy_language'\n",
      " 'health_sports_math_science' 'health_sports_music_arts'\n",
      " 'health_sports_specialneeds' 'health_sports_warmth_care_hunger'\n",
      " 'history_civics' 'history_civics_appliedlearning'\n",
      " 'history_civics_health_sports' 'history_civics_literacy_language'\n",
      " 'history_civics_math_science' 'history_civics_music_arts'\n",
      " 'history_civics_specialneeds' 'history_civics_warmth_care_hunger'\n",
      " 'literacy_language' 'literacy_language_appliedlearning'\n",
      " 'literacy_language_health_sports' 'literacy_language_history_civics'\n",
      " 'literacy_language_math_science' 'literacy_language_music_arts'\n",
      " 'literacy_language_specialneeds' 'literacy_language_warmth_care_hunger'\n",
      " 'math_science' 'math_science_appliedlearning'\n",
      " 'math_science_health_sports' 'math_science_history_civics'\n",
      " 'math_science_literacy_language' 'math_science_music_arts'\n",
      " 'math_science_specialneeds' 'math_science_warmth_care_hunger'\n",
      " 'music_arts' 'music_arts_appliedlearning' 'music_arts_health_sports'\n",
      " 'music_arts_history_civics' 'music_arts_specialneeds'\n",
      " 'music_arts_warmth_care_hunger' 'specialneeds'\n",
      " 'specialneeds_health_sports' 'specialneeds_music_arts'\n",
      " 'specialneeds_warmth_care_hunger' 'warmth_care_hunger']\n",
      "Shape of matrix after one hot encoding -> categories: X_train_case1:  (87364, 51)\n",
      "Shape of matrix after one hot encoding -> categories: X_test_Case1 :  (21841, 51)\n"
     ]
    }
   ],
   "source": [
    "vectorizer_sub = CountVectorizer( lowercase=False, binary=True)\n",
    "vectorizer_sub.fit(X_train_case1['project_subject_categories'].values)\n",
    "\n",
    "x_train_case1_categories = vectorizer_sub.transform(X_train_case1['project_subject_categories'].values)\n",
    "x_test_case1_categories  = vectorizer_sub.transform(X_test_case1['project_subject_categories'].values)\n",
    "\n",
    "print(vectorizer_sub.get_feature_names_out())\n",
    "print(\"Shape of matrix after one hot encoding -> categories: X_train_case1: \",x_train_case1_categories.shape)\n",
    "print(\"Shape of matrix after one hot encoding -> categories: X_test_Case1 : \",x_test_case1_categories.shape)"
   ]
  },
  {
   "cell_type": "markdown",
   "id": "b3dd9dfe",
   "metadata": {
    "id": "HawmEw_zGBSA",
    "papermill": {
     "duration": 0.044093,
     "end_time": "2023-04-26T14:48:05.360994",
     "exception": false,
     "start_time": "2023-04-26T14:48:05.316901",
     "status": "completed"
    },
    "tags": []
   },
   "source": [
    "### **Encoding project_subject_subcategories**"
   ]
  },
  {
   "cell_type": "code",
   "execution_count": 21,
   "id": "ed1ea446",
   "metadata": {
    "execution": {
     "iopub.execute_input": "2023-04-26T14:48:05.443869Z",
     "iopub.status.busy": "2023-04-26T14:48:05.443450Z",
     "iopub.status.idle": "2023-04-26T14:48:06.116256Z",
     "shell.execute_reply": "2023-04-26T14:48:06.115252Z"
    },
    "id": "eNPHq5PvGCXx",
    "outputId": "a86bc77d-0ad0-47f9-e985-171ce8f248b5",
    "papermill": {
     "duration": 0.718793,
     "end_time": "2023-04-26T14:48:06.119828",
     "exception": false,
     "start_time": "2023-04-26T14:48:05.401035",
     "status": "completed"
    },
    "tags": []
   },
   "outputs": [
    {
     "name": "stdout",
     "output_type": "stream",
     "text": [
      "['appliedsciences', 'appliedsciences_charactereducation', 'appliedsciences_civics_government', 'appliedsciences_college_careerprep', 'appliedsciences_communityservice', 'appliedsciences_earlydevelopment', 'appliedsciences_economics', 'appliedsciences_environmentalscience', 'appliedsciences_esl', 'appliedsciences_extracurricular', 'appliedsciences_financialliteracy', 'appliedsciences_foreignlanguages', 'appliedsciences_gym_fitness', 'appliedsciences_health_lifescience', 'appliedsciences_health_wellness', 'appliedsciences_history_geography', 'appliedsciences_literacy', 'appliedsciences_literature_writing', 'appliedsciences_mathematics', 'appliedsciences_music', 'appliedsciences_nutritioneducation', 'appliedsciences_other', 'appliedsciences_parentinvolvement', 'appliedsciences_performingarts', 'appliedsciences_socialsciences', 'appliedsciences_specialneeds', 'appliedsciences_teamsports', 'appliedsciences_visualarts', 'charactereducation', 'charactereducation_civics_government', 'charactereducation_college_careerprep', 'charactereducation_communityservice', 'charactereducation_earlydevelopment', 'charactereducation_economics', 'charactereducation_environmentalscience', 'charactereducation_esl', 'charactereducation_extracurricular', 'charactereducation_financialliteracy', 'charactereducation_foreignlanguages', 'charactereducation_gym_fitness', 'charactereducation_health_lifescience', 'charactereducation_health_wellness', 'charactereducation_history_geography', 'charactereducation_literacy', 'charactereducation_literature_writing', 'charactereducation_mathematics', 'charactereducation_music', 'charactereducation_nutritioneducation', 'charactereducation_other', 'charactereducation_parentinvolvement', 'charactereducation_performingarts', 'charactereducation_socialsciences', 'charactereducation_specialneeds', 'charactereducation_teamsports', 'charactereducation_visualarts', 'charactereducation_warmth_care_hunger', 'civics_government', 'civics_government_college_careerprep', 'civics_government_communityservice', 'civics_government_economics', 'civics_government_environmentalscience', 'civics_government_esl', 'civics_government_extracurricular', 'civics_government_financialliteracy', 'civics_government_foreignlanguages', 'civics_government_health_lifescience', 'civics_government_health_wellness', 'civics_government_history_geography', 'civics_government_literacy', 'civics_government_literature_writing', 'civics_government_mathematics', 'civics_government_nutritioneducation', 'civics_government_parentinvolvement', 'civics_government_performingarts', 'civics_government_socialsciences', 'civics_government_specialneeds', 'civics_government_teamsports', 'civics_government_visualarts', 'college_careerprep', 'college_careerprep_communityservice', 'college_careerprep_earlydevelopment', 'college_careerprep_economics', 'college_careerprep_environmentalscience', 'college_careerprep_esl', 'college_careerprep_extracurricular', 'college_careerprep_financialliteracy', 'college_careerprep_foreignlanguages', 'college_careerprep_gym_fitness', 'college_careerprep_health_lifescience', 'college_careerprep_health_wellness', 'college_careerprep_history_geography', 'college_careerprep_literacy', 'college_careerprep_literature_writing', 'college_careerprep_mathematics', 'college_careerprep_music', 'college_careerprep_nutritioneducation', 'college_careerprep_other', 'college_careerprep_parentinvolvement', 'college_careerprep_performingarts', 'college_careerprep_socialsciences', 'college_careerprep_specialneeds', 'college_careerprep_teamsports', 'college_careerprep_visualarts', 'college_careerprep_warmth_care_hunger', 'communityservice', 'communityservice_earlydevelopment', 'communityservice_economics', 'communityservice_environmentalscience', 'communityservice_esl', 'communityservice_extracurricular', 'communityservice_financialliteracy', 'communityservice_gym_fitness', 'communityservice_health_lifescience', 'communityservice_health_wellness', 'communityservice_history_geography', 'communityservice_literacy', 'communityservice_literature_writing', 'communityservice_mathematics', 'communityservice_music', 'communityservice_nutritioneducation', 'communityservice_other', 'communityservice_parentinvolvement', 'communityservice_performingarts', 'communityservice_socialsciences', 'communityservice_specialneeds', 'communityservice_visualarts', 'earlydevelopment', 'earlydevelopment_economics', 'earlydevelopment_environmentalscience', 'earlydevelopment_extracurricular', 'earlydevelopment_financialliteracy', 'earlydevelopment_foreignlanguages', 'earlydevelopment_gym_fitness', 'earlydevelopment_health_lifescience', 'earlydevelopment_health_wellness', 'earlydevelopment_history_geography', 'earlydevelopment_literacy', 'earlydevelopment_literature_writing', 'earlydevelopment_mathematics', 'earlydevelopment_music', 'earlydevelopment_nutritioneducation', 'earlydevelopment_other', 'earlydevelopment_parentinvolvement', 'earlydevelopment_performingarts', 'earlydevelopment_socialsciences', 'earlydevelopment_specialneeds', 'earlydevelopment_teamsports', 'earlydevelopment_visualarts', 'earlydevelopment_warmth_care_hunger', 'economics', 'economics_environmentalscience', 'economics_financialliteracy', 'economics_foreignlanguages', 'economics_health_lifescience', 'economics_history_geography', 'economics_literacy', 'economics_literature_writing', 'economics_mathematics', 'economics_nutritioneducation', 'economics_socialsciences', 'economics_specialneeds', 'economics_visualarts', 'environmentalscience', 'environmentalscience_extracurricular', 'environmentalscience_financialliteracy', 'environmentalscience_foreignlanguages', 'environmentalscience_gym_fitness', 'environmentalscience_health_lifescience', 'environmentalscience_health_wellness', 'environmentalscience_history_geography', 'environmentalscience_literacy', 'environmentalscience_literature_writing', 'environmentalscience_mathematics', 'environmentalscience_music', 'environmentalscience_nutritioneducation', 'environmentalscience_other', 'environmentalscience_parentinvolvement', 'environmentalscience_performingarts', 'environmentalscience_socialsciences', 'environmentalscience_specialneeds', 'environmentalscience_teamsports', 'environmentalscience_visualarts', 'environmentalscience_warmth_care_hunger', 'esl', 'esl_earlydevelopment', 'esl_economics', 'esl_environmentalscience', 'esl_extracurricular', 'esl_financialliteracy', 'esl_foreignlanguages', 'esl_gym_fitness', 'esl_health_lifescience', 'esl_health_wellness', 'esl_history_geography', 'esl_literacy', 'esl_literature_writing', 'esl_mathematics', 'esl_music', 'esl_nutritioneducation', 'esl_other', 'esl_parentinvolvement', 'esl_performingarts', 'esl_socialsciences', 'esl_specialneeds', 'esl_teamsports', 'esl_visualarts', 'extracurricular', 'extracurricular_financialliteracy', 'extracurricular_foreignlanguages', 'extracurricular_gym_fitness', 'extracurricular_health_lifescience', 'extracurricular_health_wellness', 'extracurricular_history_geography', 'extracurricular_literacy', 'extracurricular_literature_writing', 'extracurricular_mathematics', 'extracurricular_music', 'extracurricular_nutritioneducation', 'extracurricular_other', 'extracurricular_parentinvolvement', 'extracurricular_performingarts', 'extracurricular_socialsciences', 'extracurricular_specialneeds', 'extracurricular_teamsports', 'extracurricular_visualarts', 'financialliteracy', 'financialliteracy_foreignlanguages', 'financialliteracy_health_lifescience', 'financialliteracy_health_wellness', 'financialliteracy_history_geography', 'financialliteracy_literacy', 'financialliteracy_literature_writing', 'financialliteracy_mathematics', 'financialliteracy_other', 'financialliteracy_parentinvolvement', 'financialliteracy_performingarts', 'financialliteracy_socialsciences', 'financialliteracy_specialneeds', 'financialliteracy_visualarts', 'foreignlanguages', 'foreignlanguages_gym_fitness', 'foreignlanguages_health_lifescience', 'foreignlanguages_health_wellness', 'foreignlanguages_history_geography', 'foreignlanguages_literacy', 'foreignlanguages_literature_writing', 'foreignlanguages_mathematics', 'foreignlanguages_music', 'foreignlanguages_other', 'foreignlanguages_performingarts', 'foreignlanguages_socialsciences', 'foreignlanguages_specialneeds', 'foreignlanguages_visualarts', 'gym_fitness', 'gym_fitness_health_lifescience', 'gym_fitness_health_wellness', 'gym_fitness_history_geography', 'gym_fitness_literacy', 'gym_fitness_literature_writing', 'gym_fitness_mathematics', 'gym_fitness_music', 'gym_fitness_nutritioneducation', 'gym_fitness_other', 'gym_fitness_parentinvolvement', 'gym_fitness_performingarts', 'gym_fitness_socialsciences', 'gym_fitness_specialneeds', 'gym_fitness_teamsports', 'gym_fitness_visualarts', 'gym_fitness_warmth_care_hunger', 'health_lifescience', 'health_lifescience_health_wellness', 'health_lifescience_history_geography', 'health_lifescience_literacy', 'health_lifescience_literature_writing', 'health_lifescience_mathematics', 'health_lifescience_music', 'health_lifescience_nutritioneducation', 'health_lifescience_other', 'health_lifescience_parentinvolvement', 'health_lifescience_performingarts', 'health_lifescience_socialsciences', 'health_lifescience_specialneeds', 'health_lifescience_teamsports', 'health_lifescience_visualarts', 'health_lifescience_warmth_care_hunger', 'health_wellness', 'health_wellness_history_geography', 'health_wellness_literacy', 'health_wellness_literature_writing', 'health_wellness_mathematics', 'health_wellness_music', 'health_wellness_nutritioneducation', 'health_wellness_other', 'health_wellness_parentinvolvement', 'health_wellness_performingarts', 'health_wellness_socialsciences', 'health_wellness_specialneeds', 'health_wellness_teamsports', 'health_wellness_visualarts', 'health_wellness_warmth_care_hunger', 'history_geography', 'history_geography_literacy', 'history_geography_literature_writing', 'history_geography_mathematics', 'history_geography_music', 'history_geography_other', 'history_geography_parentinvolvement', 'history_geography_performingarts', 'history_geography_socialsciences', 'history_geography_specialneeds', 'history_geography_teamsports', 'history_geography_visualarts', 'history_geography_warmth_care_hunger', 'literacy', 'literacy_literature_writing', 'literacy_mathematics', 'literacy_music', 'literacy_nutritioneducation', 'literacy_other', 'literacy_parentinvolvement', 'literacy_performingarts', 'literacy_socialsciences', 'literacy_specialneeds', 'literacy_teamsports', 'literacy_visualarts', 'literacy_warmth_care_hunger', 'literature_writing', 'literature_writing_mathematics', 'literature_writing_music', 'literature_writing_other', 'literature_writing_parentinvolvement', 'literature_writing_performingarts', 'literature_writing_socialsciences', 'literature_writing_specialneeds', 'literature_writing_teamsports', 'literature_writing_visualarts', 'literature_writing_warmth_care_hunger', 'mathematics', 'mathematics_music', 'mathematics_nutritioneducation', 'mathematics_other', 'mathematics_parentinvolvement', 'mathematics_performingarts', 'mathematics_socialsciences', 'mathematics_specialneeds', 'mathematics_teamsports', 'mathematics_visualarts', 'mathematics_warmth_care_hunger', 'music', 'music_other', 'music_parentinvolvement', 'music_performingarts', 'music_socialsciences', 'music_specialneeds', 'music_teamsports', 'music_visualarts', 'nutritioneducation', 'nutritioneducation_other', 'nutritioneducation_socialsciences', 'nutritioneducation_specialneeds', 'nutritioneducation_teamsports', 'nutritioneducation_visualarts', 'nutritioneducation_warmth_care_hunger', 'other', 'other_parentinvolvement', 'other_performingarts', 'other_socialsciences', 'other_specialneeds', 'other_teamsports', 'other_visualarts', 'other_warmth_care_hunger', 'parentinvolvement', 'parentinvolvement_performingarts', 'parentinvolvement_socialsciences', 'parentinvolvement_specialneeds', 'parentinvolvement_teamsports', 'parentinvolvement_visualarts', 'performingarts', 'performingarts_socialsciences', 'performingarts_specialneeds', 'performingarts_teamsports', 'performingarts_visualarts', 'socialsciences', 'socialsciences_specialneeds', 'socialsciences_teamsports', 'socialsciences_visualarts', 'specialneeds', 'specialneeds_teamsports', 'specialneeds_visualarts', 'specialneeds_warmth_care_hunger', 'teamsports', 'teamsports_visualarts', 'visualarts', 'visualarts_warmth_care_hunger', 'warmth_care_hunger']\n",
      "Shape of matrix after one hot encoding -> sub_categories: X_train_case1:  (87364, 396)\n",
      "Shape of matrix after one hot encoding -> sub_categories: X_test_Case1 :  (21841, 396)\n"
     ]
    },
    {
     "name": "stderr",
     "output_type": "stream",
     "text": [
      "/opt/conda/lib/python3.7/site-packages/sklearn/utils/deprecation.py:87: FutureWarning:\n",
      "\n",
      "Function get_feature_names is deprecated; get_feature_names is deprecated in 1.0 and will be removed in 1.2. Please use get_feature_names_out instead.\n",
      "\n"
     ]
    }
   ],
   "source": [
    "vectorizer_sub = CountVectorizer( lowercase=False, binary=True)\n",
    "\n",
    "vectorizer_sub.fit(X_train_case1['project_subject_subcategories'].values)\n",
    "\n",
    "x_train_case1_sub_categories = vectorizer_sub.transform(X_train_case1['project_subject_subcategories'].values)\n",
    "x_test_case1_sub_categories  = vectorizer_sub.transform(X_test_case1['project_subject_subcategories'].values)\n",
    "\n",
    "\n",
    "print(vectorizer_sub.get_feature_names())\n",
    "\n",
    "print(\"Shape of matrix after one hot encoding -> sub_categories: X_train_case1: \",x_train_case1_sub_categories.shape)\n",
    "print(\"Shape of matrix after one hot encoding -> sub_categories: X_test_Case1 : \",x_test_case1_sub_categories.shape)"
   ]
  },
  {
   "cell_type": "markdown",
   "id": "efbe47f9",
   "metadata": {
    "id": "8fJRUI2mGHhx",
    "papermill": {
     "duration": 0.040373,
     "end_time": "2023-04-26T14:48:06.200311",
     "exception": false,
     "start_time": "2023-04-26T14:48:06.159938",
     "status": "completed"
    },
    "tags": []
   },
   "source": [
    "### **Encoding School State**"
   ]
  },
  {
   "cell_type": "code",
   "execution_count": 22,
   "id": "778e2356",
   "metadata": {
    "execution": {
     "iopub.execute_input": "2023-04-26T14:48:06.350920Z",
     "iopub.status.busy": "2023-04-26T14:48:06.350468Z",
     "iopub.status.idle": "2023-04-26T14:48:07.199141Z",
     "shell.execute_reply": "2023-04-26T14:48:07.197939Z"
    },
    "id": "sscqvhIoGIk5",
    "outputId": "ca446c0c-61d1-46bc-a2bb-9b66f0d5a036",
    "papermill": {
     "duration": 0.96027,
     "end_time": "2023-04-26T14:48:07.201457",
     "exception": false,
     "start_time": "2023-04-26T14:48:06.241187",
     "status": "completed"
    },
    "tags": []
   },
   "outputs": [
    {
     "name": "stdout",
     "output_type": "stream",
     "text": [
      "['ak', 'al', 'ar', 'az', 'ca', 'co', 'ct', 'dc', 'de', 'fl', 'ga', 'hi', 'ia', 'id', 'il', 'in', 'ks', 'ky', 'la', 'ma', 'md', 'me', 'mi', 'mn', 'mo', 'ms', 'mt', 'nc', 'nd', 'ne', 'nh', 'nj', 'nm', 'nv', 'ny', 'oh', 'ok', 'or', 'pa', 'ri', 'sc', 'sd', 'tn', 'tx', 'ut', 'va', 'vt', 'wa', 'wi', 'wv', 'wy']\n",
      "Shape of matrix after one hot encoding -> school_state: x_train:  (87364, 51)\n",
      "Shape of matrix after one hot encoding -> school_state: x_test :  (21841, 51)\n"
     ]
    }
   ],
   "source": [
    "my_counter = Counter()\n",
    "for state in donor_data_na['school_state'].values:\n",
    "    my_counter.update(state.split())\n",
    "school_state_cat_dict = dict(my_counter)\n",
    "sorted_school_state_cat_dict = dict(sorted(school_state_cat_dict.items(), key=lambda kv: kv[1]))\n",
    "from scipy import sparse \n",
    "statelist=list(donor_data_na['school_state'].values)\n",
    "vectorizer_state = CountVectorizer( lowercase=False, binary=True)\n",
    "\n",
    "vectorizer_state.fit(X_train_case1['school_state'])\n",
    "\n",
    "x_train_case1_school_state = vectorizer_state.transform(X_train_case1['school_state'].values)\n",
    "x_test_case1_school_state  = vectorizer_state.transform(X_test_case1['school_state'].values)\n",
    "\n",
    "print(vectorizer_state.get_feature_names())\n",
    "\n",
    "print(\"Shape of matrix after one hot encoding -> school_state: x_train: \",x_train_case1_school_state.shape)\n",
    "print(\"Shape of matrix after one hot encoding -> school_state: x_test : \",x_test_case1_school_state.shape)"
   ]
  },
  {
   "cell_type": "markdown",
   "id": "1fdd07e2",
   "metadata": {
    "id": "sn1WPexMGOpS",
    "papermill": {
     "duration": 0.040231,
     "end_time": "2023-04-26T14:48:07.282104",
     "exception": false,
     "start_time": "2023-04-26T14:48:07.241873",
     "status": "completed"
    },
    "tags": []
   },
   "source": [
    "### **Encoding Teacher Prefix**"
   ]
  },
  {
   "cell_type": "code",
   "execution_count": 23,
   "id": "9cda66aa",
   "metadata": {
    "execution": {
     "iopub.execute_input": "2023-04-26T14:48:07.364960Z",
     "iopub.status.busy": "2023-04-26T14:48:07.364534Z",
     "iopub.status.idle": "2023-04-26T14:48:07.621705Z",
     "shell.execute_reply": "2023-04-26T14:48:07.620537Z"
    },
    "id": "m7RSVtMYGRbq",
    "papermill": {
     "duration": 0.301599,
     "end_time": "2023-04-26T14:48:07.624199",
     "exception": false,
     "start_time": "2023-04-26T14:48:07.322600",
     "status": "completed"
    },
    "tags": []
   },
   "outputs": [],
   "source": [
    "my_counter = Counter()\n",
    "for teacher_prefix in donor_data_na['teacher_prefix'].values:\n",
    "    teacher_prefix = str(teacher_prefix).lower().replace('.','').strip()\n",
    "    \n",
    "    my_counter.update(teacher_prefix.split())\n",
    "teacher_prefix_cat_dict = dict(my_counter)\n",
    "sorted_teacher_prefix_cat_dict = dict(sorted(teacher_prefix_cat_dict.items(), key=lambda kv: kv[1]))"
   ]
  },
  {
   "cell_type": "code",
   "execution_count": 24,
   "id": "d4b25098",
   "metadata": {
    "execution": {
     "iopub.execute_input": "2023-04-26T14:48:07.707159Z",
     "iopub.status.busy": "2023-04-26T14:48:07.706745Z",
     "iopub.status.idle": "2023-04-26T14:48:07.712600Z",
     "shell.execute_reply": "2023-04-26T14:48:07.711726Z"
    },
    "id": "N8mFXwBKGWKa",
    "outputId": "5132af27-b949-4a5d-9461-b6cd7aa8708e",
    "papermill": {
     "duration": 0.050153,
     "end_time": "2023-04-26T14:48:07.714700",
     "exception": false,
     "start_time": "2023-04-26T14:48:07.664547",
     "status": "completed"
    },
    "tags": []
   },
   "outputs": [
    {
     "data": {
      "text/plain": [
       "dict_keys(['dr', 'teacher', 'mr', 'ms', 'mrs'])"
      ]
     },
     "execution_count": 24,
     "metadata": {},
     "output_type": "execute_result"
    }
   ],
   "source": [
    "sorted_teacher_prefix_cat_dict.keys()"
   ]
  },
  {
   "cell_type": "code",
   "execution_count": 25,
   "id": "0f38e62a",
   "metadata": {
    "execution": {
     "iopub.execute_input": "2023-04-26T14:48:07.797556Z",
     "iopub.status.busy": "2023-04-26T14:48:07.797149Z",
     "iopub.status.idle": "2023-04-26T14:48:08.438371Z",
     "shell.execute_reply": "2023-04-26T14:48:08.437199Z"
    },
    "id": "Q1_R9lbiGcOK",
    "outputId": "eb4a1c5d-cd24-405a-a286-7d7520f32733",
    "papermill": {
     "duration": 0.685171,
     "end_time": "2023-04-26T14:48:08.440605",
     "exception": false,
     "start_time": "2023-04-26T14:48:07.755434",
     "status": "completed"
    },
    "tags": []
   },
   "outputs": [
    {
     "name": "stdout",
     "output_type": "stream",
     "text": [
      "['dr', 'mr', 'mrs', 'ms', 'teacher']\n",
      "Shape of matrix after one hot encoding -> prefix: x_train:  (87364, 5)\n",
      "Shape of matrix after one hot encoding -> prefix: x_test :  (21841, 5)\n"
     ]
    }
   ],
   "source": [
    "vectorizer_prefix = CountVectorizer(lowercase=False, binary=True)\n",
    "\n",
    "vectorizer_prefix.fit(X_train_case1['teacher_prefix'].values)\n",
    "\n",
    "x_train_case1_prefix = vectorizer_prefix.transform(X_train_case1['teacher_prefix'].values)\n",
    "x_test_case1_prefix  = vectorizer_prefix.transform(X_test_case1['teacher_prefix'].values)\n",
    "\n",
    "print(vectorizer_prefix.get_feature_names())\n",
    "\n",
    "print(\"Shape of matrix after one hot encoding -> prefix: x_train: \",x_train_case1_prefix.shape)\n",
    "print(\"Shape of matrix after one hot encoding -> prefix: x_test : \",x_test_case1_prefix.shape)"
   ]
  },
  {
   "cell_type": "markdown",
   "id": "74182ee0",
   "metadata": {
    "id": "QVkLAM_6Gjd6",
    "papermill": {
     "duration": 0.04117,
     "end_time": "2023-04-26T14:48:08.523544",
     "exception": false,
     "start_time": "2023-04-26T14:48:08.482374",
     "status": "completed"
    },
    "tags": []
   },
   "source": [
    "### **Encoding Grade Category**"
   ]
  },
  {
   "cell_type": "code",
   "execution_count": 26,
   "id": "7db33951",
   "metadata": {
    "execution": {
     "iopub.execute_input": "2023-04-26T14:48:08.607989Z",
     "iopub.status.busy": "2023-04-26T14:48:08.607510Z",
     "iopub.status.idle": "2023-04-26T14:48:09.276138Z",
     "shell.execute_reply": "2023-04-26T14:48:09.275056Z"
    },
    "id": "iJYtPMuaGkgS",
    "outputId": "7a2feb72-fd2c-4eba-c95c-86f03c86dfd2",
    "papermill": {
     "duration": 0.713536,
     "end_time": "2023-04-26T14:48:09.278610",
     "exception": false,
     "start_time": "2023-04-26T14:48:08.565074",
     "status": "completed"
    },
    "tags": []
   },
   "outputs": [
    {
     "name": "stdout",
     "output_type": "stream",
     "text": [
      "['grades_3_5', 'grades_6_8', 'grades_9_12', 'grades_prek_2']\n",
      "Shape of matrix after one hot encoding -> project_grade: x_train :  (87364, 4)\n",
      "Shape of matrix after one hot encoding -> project_grade: x_test  :  (21841, 4)\n"
     ]
    }
   ],
   "source": [
    "vectorizer_grade = CountVectorizer(lowercase=False, binary=True)\n",
    "\n",
    "vectorizer_grade.fit(X_train_case1['project_grade_category'].values)\n",
    "\n",
    "x_train_case1_grade_category = vectorizer_grade.transform(X_train_case1['project_grade_category'].values)\n",
    "x_test_case1_grade_category  = vectorizer_grade.transform(X_test_case1['project_grade_category'].values)\n",
    "\n",
    "print(vectorizer_grade.get_feature_names())\n",
    "\n",
    "print(\"Shape of matrix after one hot encoding -> project_grade: x_train : \",x_train_case1_grade_category.shape)\n",
    "print(\"Shape of matrix after one hot encoding -> project_grade: x_test  : \",x_test_case1_grade_category.shape)"
   ]
  },
  {
   "cell_type": "markdown",
   "id": "f32841e0",
   "metadata": {
    "id": "5nEIC6E7GqoF",
    "papermill": {
     "duration": 0.041944,
     "end_time": "2023-04-26T14:48:09.363372",
     "exception": false,
     "start_time": "2023-04-26T14:48:09.321428",
     "status": "completed"
    },
    "tags": []
   },
   "source": [
    "### **Encoding Price**"
   ]
  },
  {
   "cell_type": "code",
   "execution_count": 27,
   "id": "e9af5d24",
   "metadata": {
    "execution": {
     "iopub.execute_input": "2023-04-26T14:48:09.450127Z",
     "iopub.status.busy": "2023-04-26T14:48:09.449647Z",
     "iopub.status.idle": "2023-04-26T14:48:09.461286Z",
     "shell.execute_reply": "2023-04-26T14:48:09.460256Z"
    },
    "id": "WOYyBE7rGsny",
    "outputId": "18418349-4065-415c-ab0d-4e692906b154",
    "papermill": {
     "duration": 0.058927,
     "end_time": "2023-04-26T14:48:09.463493",
     "exception": false,
     "start_time": "2023-04-26T14:48:09.404566",
     "status": "completed"
    },
    "tags": []
   },
   "outputs": [
    {
     "data": {
      "text/plain": [
       "array([[0.00095687],\n",
       "       [0.0010697 ],\n",
       "       [0.00012838],\n",
       "       ...,\n",
       "       [0.00202851],\n",
       "       [0.00094571],\n",
       "       [0.00179392]])"
      ]
     },
     "execution_count": 27,
     "metadata": {},
     "output_type": "execute_result"
    }
   ],
   "source": [
    "normalizer = Normalizer()\n",
    "normalizer.fit(X_train_case1['price'].values.reshape(1,-1))\n",
    "x_train_case1_price_normalized = normalizer.transform(X_train_case1['price'].values.reshape(1, -1)).reshape(-1,1)\n",
    "normalizer.fit(X_test_case1['price'].values.reshape(1,-1))\n",
    "x_test_case1_price_normalized  = normalizer.transform(X_test_case1['price'].values.reshape(1, -1)).reshape(-1,1)\n",
    "x_train_case1_price_normalized"
   ]
  },
  {
   "cell_type": "markdown",
   "id": "c1148044",
   "metadata": {
    "id": "h3iWFNoNcdBL",
    "papermill": {
     "duration": 0.04121,
     "end_time": "2023-04-26T14:48:09.546903",
     "exception": false,
     "start_time": "2023-04-26T14:48:09.505693",
     "status": "completed"
    },
    "tags": []
   },
   "source": [
    "### **Encoding Previous Projects Number**"
   ]
  },
  {
   "cell_type": "code",
   "execution_count": 28,
   "id": "21208348",
   "metadata": {
    "execution": {
     "iopub.execute_input": "2023-04-26T14:48:09.632281Z",
     "iopub.status.busy": "2023-04-26T14:48:09.631855Z",
     "iopub.status.idle": "2023-04-26T14:48:09.639991Z",
     "shell.execute_reply": "2023-04-26T14:48:09.639304Z"
    },
    "id": "7QH_KHHt07Se",
    "papermill": {
     "duration": 0.054223,
     "end_time": "2023-04-26T14:48:09.641847",
     "exception": false,
     "start_time": "2023-04-26T14:48:09.587624",
     "status": "completed"
    },
    "tags": []
   },
   "outputs": [],
   "source": [
    "teacher_previous_proj_normalizer = Normalizer()\n",
    "teacher_previous_proj_normalizer.fit(X_train_case1['teacher_number_of_previously_posted_projects'].values.reshape(1,-1))\n",
    "x_train_case1_teacher_previous_proj_normalized = teacher_previous_proj_normalizer.transform(X_train_case1['teacher_number_of_previously_posted_projects'].values.reshape(1,- 1)).reshape(-1,1)\n",
    "teacher_previous_proj_normalizer.fit(X_test_case1['teacher_number_of_previously_posted_projects'].values.reshape(1,-1))\n",
    "x_test_case1_teacher_previous_proj_normalized  = teacher_previous_proj_normalizer.transform(X_test_case1['teacher_number_of_previously_posted_projects'].values.reshape(1,- 1)).reshape(-1,1)\n"
   ]
  },
  {
   "cell_type": "markdown",
   "id": "f7b727aa",
   "metadata": {
    "id": "GQtr_VgkciF2",
    "papermill": {
     "duration": 0.041242,
     "end_time": "2023-04-26T14:48:09.725609",
     "exception": false,
     "start_time": "2023-04-26T14:48:09.684367",
     "status": "completed"
    },
    "tags": []
   },
   "source": [
    "### **Encoding Quantity**"
   ]
  },
  {
   "cell_type": "code",
   "execution_count": 29,
   "id": "5ffd29c2",
   "metadata": {
    "execution": {
     "iopub.execute_input": "2023-04-26T14:48:09.810444Z",
     "iopub.status.busy": "2023-04-26T14:48:09.809425Z",
     "iopub.status.idle": "2023-04-26T14:48:09.820734Z",
     "shell.execute_reply": "2023-04-26T14:48:09.819737Z"
    },
    "id": "s_bDEmUTknb4",
    "outputId": "2f355df5-bf64-41b6-ac6d-bb9cb589ceb0",
    "papermill": {
     "duration": 0.055461,
     "end_time": "2023-04-26T14:48:09.822747",
     "exception": false,
     "start_time": "2023-04-26T14:48:09.767286",
     "status": "completed"
    },
    "tags": []
   },
   "outputs": [
    {
     "data": {
      "text/plain": [
       "array([[0.00221596],\n",
       "       [0.0001108 ],\n",
       "       [0.00166197],\n",
       "       ...,\n",
       "       [0.00199436],\n",
       "       [0.00144037],\n",
       "       [0.00144037]])"
      ]
     },
     "execution_count": 29,
     "metadata": {},
     "output_type": "execute_result"
    }
   ],
   "source": [
    "normalizer = Normalizer()\n",
    "\n",
    "normalizer.fit(X_train_case1['quantity'].values.reshape(1,-1)) \n",
    "x_train_case1_quantity_normalized = normalizer.transform(X_train_case1['quantity'].values.reshape(1, -1)).reshape(-1,1)\n",
    "normalizer.fit(X_test_case1['quantity'].values.reshape(1,-1)) \n",
    "x_test_case1_quantity_normalized  = normalizer.transform(X_test_case1['quantity'].values.reshape(1, -1)).reshape(-1,1)\n",
    "x_train_case1_quantity_normalized\n"
   ]
  },
  {
   "cell_type": "markdown",
   "id": "d539ae4b",
   "metadata": {
    "id": "rPulbVpgcmU-",
    "papermill": {
     "duration": 0.04111,
     "end_time": "2023-04-26T14:48:09.906188",
     "exception": false,
     "start_time": "2023-04-26T14:48:09.865078",
     "status": "completed"
    },
    "tags": []
   },
   "source": [
    "## **BoW Vectorization of Cleaned_Titles and Cleaned Essays**"
   ]
  },
  {
   "cell_type": "code",
   "execution_count": 30,
   "id": "4061f0aa",
   "metadata": {
    "execution": {
     "iopub.execute_input": "2023-04-26T14:48:09.992184Z",
     "iopub.status.busy": "2023-04-26T14:48:09.991481Z",
     "iopub.status.idle": "2023-04-26T14:48:10.575365Z",
     "shell.execute_reply": "2023-04-26T14:48:10.574184Z"
    },
    "id": "Ewn_mcmawznS",
    "outputId": "d0acf062-3c07-4341-f8ce-6aaf6dc9a961",
    "papermill": {
     "duration": 0.62934,
     "end_time": "2023-04-26T14:48:10.577415",
     "exception": false,
     "start_time": "2023-04-26T14:48:09.948075",
     "status": "completed"
    },
    "tags": []
   },
   "outputs": [
    {
     "name": "stderr",
     "output_type": "stream",
     "text": [
      "/opt/conda/lib/python3.7/site-packages/sklearn/utils/deprecation.py:87: FutureWarning:\n",
      "\n",
      "Function get_feature_names is deprecated; get_feature_names is deprecated in 1.0 and will be removed in 1.2. Please use get_feature_names_out instead.\n",
      "\n"
     ]
    },
    {
     "data": {
      "text/plain": [
       "15115"
      ]
     },
     "execution_count": 30,
     "metadata": {},
     "output_type": "execute_result"
    }
   ],
   "source": [
    "# Concatenate all features in X_train_case1 cleaned titles\n",
    "\n",
    "vect = CountVectorizer()\n",
    "vect.fit(X_train_case1['cleaned_titles'])\n",
    "X_train_BoW = vect.get_feature_names()\n",
    "len(X_train_BoW)"
   ]
  },
  {
   "cell_type": "code",
   "execution_count": 31,
   "id": "15a9ff97",
   "metadata": {
    "execution": {
     "iopub.execute_input": "2023-04-26T14:48:10.663713Z",
     "iopub.status.busy": "2023-04-26T14:48:10.663247Z",
     "iopub.status.idle": "2023-04-26T14:48:20.528806Z",
     "shell.execute_reply": "2023-04-26T14:48:20.527523Z"
    },
    "id": "pNPycaOomZ8U",
    "outputId": "949349bf-36fd-4640-ad70-ca22317fd5a9",
    "papermill": {
     "duration": 9.911508,
     "end_time": "2023-04-26T14:48:20.531120",
     "exception": false,
     "start_time": "2023-04-26T14:48:10.619612",
     "status": "completed"
    },
    "tags": []
   },
   "outputs": [
    {
     "data": {
      "text/plain": [
       "66034"
      ]
     },
     "execution_count": 31,
     "metadata": {},
     "output_type": "execute_result"
    }
   ],
   "source": [
    "# Append values from cleaned_essays\n",
    "\n",
    "vect = CountVectorizer()\n",
    "vect.fit(X_train_case1['cleaned_essays'])\n",
    "X_train_BoW.extend(vect.get_feature_names())\n",
    "np.unique(X_train_BoW)\n",
    "len(X_train_BoW)"
   ]
  },
  {
   "cell_type": "code",
   "execution_count": 32,
   "id": "57a7c5ec",
   "metadata": {
    "execution": {
     "iopub.execute_input": "2023-04-26T14:48:20.617067Z",
     "iopub.status.busy": "2023-04-26T14:48:20.616542Z",
     "iopub.status.idle": "2023-04-26T14:48:20.776137Z",
     "shell.execute_reply": "2023-04-26T14:48:20.775141Z"
    },
    "id": "S2aPyqgalFL8",
    "outputId": "4586fa6d-f7bc-4f8c-f2ab-db4f72e1e8cb",
    "papermill": {
     "duration": 0.205144,
     "end_time": "2023-04-26T14:48:20.778208",
     "exception": false,
     "start_time": "2023-04-26T14:48:20.573064",
     "status": "completed"
    },
    "tags": []
   },
   "outputs": [
    {
     "data": {
      "text/plain": [
       "7871"
      ]
     },
     "execution_count": 32,
     "metadata": {},
     "output_type": "execute_result"
    }
   ],
   "source": [
    "# Concatenate all features in X_test_case1 cleaned titles\n",
    "\n",
    "vect = CountVectorizer()\n",
    "vect.fit(X_test_case1['cleaned_titles'])\n",
    "X_test_BoW = vect.get_feature_names()\n",
    "len(X_test_BoW)"
   ]
  },
  {
   "cell_type": "code",
   "execution_count": 33,
   "id": "b0893f9b",
   "metadata": {
    "execution": {
     "iopub.execute_input": "2023-04-26T14:48:20.865357Z",
     "iopub.status.busy": "2023-04-26T14:48:20.864174Z",
     "iopub.status.idle": "2023-04-26T14:48:23.360594Z",
     "shell.execute_reply": "2023-04-26T14:48:23.359677Z"
    },
    "id": "f8GPE0rknD8y",
    "outputId": "2ef7c777-a1d1-43f2-a95f-bc61616aa443",
    "papermill": {
     "duration": 2.542671,
     "end_time": "2023-04-26T14:48:23.363068",
     "exception": false,
     "start_time": "2023-04-26T14:48:20.820397",
     "status": "completed"
    },
    "tags": []
   },
   "outputs": [
    {
     "data": {
      "text/plain": [
       "38066"
      ]
     },
     "execution_count": 33,
     "metadata": {},
     "output_type": "execute_result"
    }
   ],
   "source": [
    "# Append values from cleaned_essays\n",
    "\n",
    "vect = CountVectorizer()\n",
    "vect.fit(X_test_case1['cleaned_essays'])\n",
    "X_test_BoW.extend(vect.get_feature_names())\n",
    "np.unique(X_test_BoW)\n",
    "len(X_test_BoW)"
   ]
  },
  {
   "cell_type": "code",
   "execution_count": 34,
   "id": "567adb85",
   "metadata": {
    "execution": {
     "iopub.execute_input": "2023-04-26T14:48:23.450307Z",
     "iopub.status.busy": "2023-04-26T14:48:23.449794Z",
     "iopub.status.idle": "2023-04-26T14:48:24.445111Z",
     "shell.execute_reply": "2023-04-26T14:48:24.444082Z"
    },
    "id": "Mqm9UhzrlFYp",
    "outputId": "a30564e1-b927-44a7-e90d-e2da33c36574",
    "papermill": {
     "duration": 1.040665,
     "end_time": "2023-04-26T14:48:24.447469",
     "exception": false,
     "start_time": "2023-04-26T14:48:23.406804",
     "status": "completed"
    },
    "tags": []
   },
   "outputs": [
    {
     "data": {
      "text/html": [
       "<div>\n",
       "<style scoped>\n",
       "    .dataframe tbody tr th:only-of-type {\n",
       "        vertical-align: middle;\n",
       "    }\n",
       "\n",
       "    .dataframe tbody tr th {\n",
       "        vertical-align: top;\n",
       "    }\n",
       "\n",
       "    .dataframe thead th {\n",
       "        text-align: right;\n",
       "    }\n",
       "</style>\n",
       "<table border=\"1\" class=\"dataframe\">\n",
       "  <thead>\n",
       "    <tr style=\"text-align: right;\">\n",
       "      <th></th>\n",
       "      <th>term</th>\n",
       "      <th>count</th>\n",
       "    </tr>\n",
       "  </thead>\n",
       "  <tbody>\n",
       "    <tr>\n",
       "      <th>3</th>\n",
       "      <td>learning</td>\n",
       "      <td>9315</td>\n",
       "    </tr>\n",
       "    <tr>\n",
       "      <th>9</th>\n",
       "      <td>technology</td>\n",
       "      <td>5871</td>\n",
       "    </tr>\n",
       "    <tr>\n",
       "      <th>1</th>\n",
       "      <td>classroom</td>\n",
       "      <td>5674</td>\n",
       "    </tr>\n",
       "    <tr>\n",
       "      <th>8</th>\n",
       "      <td>students</td>\n",
       "      <td>5115</td>\n",
       "    </tr>\n",
       "    <tr>\n",
       "      <th>6</th>\n",
       "      <td>reading</td>\n",
       "      <td>4850</td>\n",
       "    </tr>\n",
       "    <tr>\n",
       "      <th>2</th>\n",
       "      <td>help</td>\n",
       "      <td>4419</td>\n",
       "    </tr>\n",
       "    <tr>\n",
       "      <th>0</th>\n",
       "      <td>books</td>\n",
       "      <td>4131</td>\n",
       "    </tr>\n",
       "    <tr>\n",
       "      <th>7</th>\n",
       "      <td>seating</td>\n",
       "      <td>4007</td>\n",
       "    </tr>\n",
       "    <tr>\n",
       "      <th>5</th>\n",
       "      <td>need</td>\n",
       "      <td>3697</td>\n",
       "    </tr>\n",
       "    <tr>\n",
       "      <th>4</th>\n",
       "      <td>math</td>\n",
       "      <td>3299</td>\n",
       "    </tr>\n",
       "  </tbody>\n",
       "</table>\n",
       "</div>"
      ],
      "text/plain": [
       "         term  count\n",
       "3    learning   9315\n",
       "9  technology   5871\n",
       "1   classroom   5674\n",
       "8    students   5115\n",
       "6     reading   4850\n",
       "2        help   4419\n",
       "0       books   4131\n",
       "7     seating   4007\n",
       "5        need   3697\n",
       "4        math   3299"
      ]
     },
     "execution_count": 34,
     "metadata": {},
     "output_type": "execute_result"
    }
   ],
   "source": [
    "# Most used terms in cleaned titles\n",
    "\n",
    "max_feature_length = 10\n",
    "top_words = []\n",
    "\n",
    "bow_transformer = CountVectorizer(max_features=max_feature_length,ngram_range=(1,1)).fit(donor_data_na.loc[:,'cleaned_titles'])\n",
    "bow = bow_transformer.transform([' '.join(donor_data_na.loc[:,'cleaned_titles'].values)])#This joins all the words in all the rows \n",
    "word_list = bow_transformer.get_feature_names()\n",
    "count_list = bow.toarray().sum(axis=0) \n",
    "top_counts = pd.DataFrame(zip(word_list,count_list),columns=['term','count',])\n",
    "top_counts.sort_values('count',axis=0,inplace=True, ascending=False)\n",
    "top_counts"
   ]
  },
  {
   "cell_type": "code",
   "execution_count": 35,
   "id": "56912bc1",
   "metadata": {
    "execution": {
     "iopub.execute_input": "2023-04-26T14:48:24.533453Z",
     "iopub.status.busy": "2023-04-26T14:48:24.533008Z",
     "iopub.status.idle": "2023-04-26T14:48:47.712030Z",
     "shell.execute_reply": "2023-04-26T14:48:47.711053Z"
    },
    "id": "IAQ59_HMpbmz",
    "outputId": "ca79a456-ab08-4f7b-bd3e-327f2efb088a",
    "papermill": {
     "duration": 23.225155,
     "end_time": "2023-04-26T14:48:47.714955",
     "exception": false,
     "start_time": "2023-04-26T14:48:24.489800",
     "status": "completed"
    },
    "tags": []
   },
   "outputs": [
    {
     "name": "stderr",
     "output_type": "stream",
     "text": [
      "/opt/conda/lib/python3.7/site-packages/sklearn/utils/deprecation.py:87: FutureWarning:\n",
      "\n",
      "Function get_feature_names is deprecated; get_feature_names is deprecated in 1.0 and will be removed in 1.2. Please use get_feature_names_out instead.\n",
      "\n"
     ]
    },
    {
     "data": {
      "text/html": [
       "<div>\n",
       "<style scoped>\n",
       "    .dataframe tbody tr th:only-of-type {\n",
       "        vertical-align: middle;\n",
       "    }\n",
       "\n",
       "    .dataframe tbody tr th {\n",
       "        vertical-align: top;\n",
       "    }\n",
       "\n",
       "    .dataframe thead th {\n",
       "        text-align: right;\n",
       "    }\n",
       "</style>\n",
       "<table border=\"1\" class=\"dataframe\">\n",
       "  <thead>\n",
       "    <tr style=\"text-align: right;\">\n",
       "      <th></th>\n",
       "      <th>term</th>\n",
       "      <th>count</th>\n",
       "    </tr>\n",
       "  </thead>\n",
       "  <tbody>\n",
       "    <tr>\n",
       "      <th>8</th>\n",
       "      <td>students</td>\n",
       "      <td>790864</td>\n",
       "    </tr>\n",
       "    <tr>\n",
       "      <th>7</th>\n",
       "      <td>school</td>\n",
       "      <td>253799</td>\n",
       "    </tr>\n",
       "    <tr>\n",
       "      <th>3</th>\n",
       "      <td>learning</td>\n",
       "      <td>177495</td>\n",
       "    </tr>\n",
       "    <tr>\n",
       "      <th>0</th>\n",
       "      <td>classroom</td>\n",
       "      <td>169644</td>\n",
       "    </tr>\n",
       "    <tr>\n",
       "      <th>6</th>\n",
       "      <td>not</td>\n",
       "      <td>131423</td>\n",
       "    </tr>\n",
       "    <tr>\n",
       "      <th>2</th>\n",
       "      <td>learn</td>\n",
       "      <td>126098</td>\n",
       "    </tr>\n",
       "    <tr>\n",
       "      <th>1</th>\n",
       "      <td>help</td>\n",
       "      <td>122608</td>\n",
       "    </tr>\n",
       "    <tr>\n",
       "      <th>4</th>\n",
       "      <td>many</td>\n",
       "      <td>105414</td>\n",
       "    </tr>\n",
       "    <tr>\n",
       "      <th>5</th>\n",
       "      <td>need</td>\n",
       "      <td>92898</td>\n",
       "    </tr>\n",
       "    <tr>\n",
       "      <th>9</th>\n",
       "      <td>work</td>\n",
       "      <td>92161</td>\n",
       "    </tr>\n",
       "  </tbody>\n",
       "</table>\n",
       "</div>"
      ],
      "text/plain": [
       "        term   count\n",
       "8   students  790864\n",
       "7     school  253799\n",
       "3   learning  177495\n",
       "0  classroom  169644\n",
       "6        not  131423\n",
       "2      learn  126098\n",
       "1       help  122608\n",
       "4       many  105414\n",
       "5       need   92898\n",
       "9       work   92161"
      ]
     },
     "execution_count": 35,
     "metadata": {},
     "output_type": "execute_result"
    }
   ],
   "source": [
    "# Most used terms in cleaned essays\n",
    "\n",
    "max_feature_length = 10\n",
    "top_words = []\n",
    "\n",
    "bow_transformer = CountVectorizer(max_features=max_feature_length,ngram_range=(1,1)).fit(donor_data_na.loc[:,'cleaned_essays'])\n",
    "bow_essay = bow_transformer.transform([' '.join(donor_data_na.loc[:,'cleaned_essays'].values)])#This joins all the words in all the rows \n",
    "word_list = bow_transformer.get_feature_names()\n",
    "count_list = bow_essay.toarray().sum(axis=0) \n",
    "top_counts = pd.DataFrame(zip(word_list,count_list),columns=['term','count',])\n",
    "top_counts.sort_values('count',axis=0,inplace=True, ascending=False)\n",
    "top_counts"
   ]
  },
  {
   "cell_type": "markdown",
   "id": "0ba427b2",
   "metadata": {
    "id": "vSQa6EFkc2ZV",
    "papermill": {
     "duration": 0.041978,
     "end_time": "2023-04-26T14:48:47.798742",
     "exception": false,
     "start_time": "2023-04-26T14:48:47.756764",
     "status": "completed"
    },
    "tags": []
   },
   "source": [
    "### **BoW Vectorization of Cleaned_Essays**"
   ]
  },
  {
   "cell_type": "code",
   "execution_count": 36,
   "id": "c45649cb",
   "metadata": {
    "execution": {
     "iopub.execute_input": "2023-04-26T14:48:47.885375Z",
     "iopub.status.busy": "2023-04-26T14:48:47.884951Z",
     "iopub.status.idle": "2023-04-26T14:49:36.964139Z",
     "shell.execute_reply": "2023-04-26T14:49:36.963091Z"
    },
    "id": "ram6yb6jLNas",
    "outputId": "ba1e197b-6d90-4532-8f5a-319b51254adb",
    "papermill": {
     "duration": 49.166774,
     "end_time": "2023-04-26T14:49:37.008007",
     "exception": false,
     "start_time": "2023-04-26T14:48:47.841233",
     "status": "completed"
    },
    "tags": []
   },
   "outputs": [
    {
     "name": "stdout",
     "output_type": "stream",
     "text": [
      "Shape of matrix after BOW -> Essays: x_train:  (87364, 5000)\n",
      "Shape of matrix after BOW -> Essays: x_test :  (21841, 5000)\n"
     ]
    }
   ],
   "source": [
    "vectorizer_essay_bow_bigram = CountVectorizer(ngram_range=(2,2),min_df=10,max_features=5000)\n",
    "\n",
    "vectorizer_essay_bow_bigram.fit(X_train_case1['cleaned_essays'])\n",
    "\n",
    "x_train_case1_essays_bow_bigram = vectorizer_essay_bow_bigram.transform(X_train_case1['cleaned_essays'])\n",
    "x_test_case1_essays_bow_bigram  = vectorizer_essay_bow_bigram.transform(X_test_case1['cleaned_essays'])\n",
    "\n",
    "print(\"Shape of matrix after BOW -> Essays: x_train: \",x_train_case1_essays_bow_bigram.shape)\n",
    "print(\"Shape of matrix after BOW -> Essays: x_test : \",x_test_case1_essays_bow_bigram.shape)"
   ]
  },
  {
   "cell_type": "markdown",
   "id": "3377c833",
   "metadata": {
    "id": "AGCqvyN-dJme",
    "papermill": {
     "duration": 0.04138,
     "end_time": "2023-04-26T14:49:37.091170",
     "exception": false,
     "start_time": "2023-04-26T14:49:37.049790",
     "status": "completed"
    },
    "tags": []
   },
   "source": [
    "### **BoW Vectorization of Cleaned_Titles**"
   ]
  },
  {
   "cell_type": "code",
   "execution_count": 37,
   "id": "e35ffade",
   "metadata": {
    "execution": {
     "iopub.execute_input": "2023-04-26T14:49:37.177152Z",
     "iopub.status.busy": "2023-04-26T14:49:37.176529Z",
     "iopub.status.idle": "2023-04-26T14:49:39.156928Z",
     "shell.execute_reply": "2023-04-26T14:49:39.155942Z"
    },
    "id": "6drVwg85L_pB",
    "outputId": "0bc928f4-6154-4a08-8306-bdf9437f7f39",
    "papermill": {
     "duration": 2.025836,
     "end_time": "2023-04-26T14:49:39.159101",
     "exception": false,
     "start_time": "2023-04-26T14:49:37.133265",
     "status": "completed"
    },
    "tags": []
   },
   "outputs": [
    {
     "name": "stdout",
     "output_type": "stream",
     "text": [
      "Shape of matrix after BOW -> Titles: x_train:  (87364, 5000)\n",
      "Shape of matrix after BOW -> Titles: x_test :  (21841, 5000)\n"
     ]
    }
   ],
   "source": [
    "vectorizer_titles_bow_bigram = CountVectorizer(ngram_range=(2,2),min_df=10,max_features=5000)\n",
    "\n",
    "vectorizer_titles_bow_bigram.fit(X_train_case1['cleaned_titles'])\n",
    "\n",
    "x_train_case1_titles_bow_bigram = vectorizer_essay_bow_bigram.transform(X_train_case1['cleaned_titles'])\n",
    "x_test_case1_titles_bow_bigram  = vectorizer_essay_bow_bigram.transform(X_test_case1['cleaned_titles'])\n",
    "\n",
    "print(\"Shape of matrix after BOW -> Titles: x_train: \",x_train_case1_titles_bow_bigram.shape)\n",
    "print(\"Shape of matrix after BOW -> Titles: x_test : \",x_test_case1_titles_bow_bigram.shape)"
   ]
  },
  {
   "cell_type": "markdown",
   "id": "50c90e8f",
   "metadata": {
    "id": "BwWal97VdLx0",
    "papermill": {
     "duration": 0.042532,
     "end_time": "2023-04-26T14:49:39.243963",
     "exception": false,
     "start_time": "2023-04-26T14:49:39.201431",
     "status": "completed"
    },
    "tags": []
   },
   "source": [
    "### Concatenate all features and named it as X_train_BoW and X_Test_BoW"
   ]
  },
  {
   "cell_type": "code",
   "execution_count": 38,
   "id": "f93db955",
   "metadata": {
    "execution": {
     "iopub.execute_input": "2023-04-26T14:49:39.331113Z",
     "iopub.status.busy": "2023-04-26T14:49:39.330487Z",
     "iopub.status.idle": "2023-04-26T14:49:39.479247Z",
     "shell.execute_reply": "2023-04-26T14:49:39.478007Z"
    },
    "id": "nL5neTgcNGUl",
    "outputId": "d4556836-36ef-44c8-b3d0-ba4cae69eedb",
    "papermill": {
     "duration": 0.194408,
     "end_time": "2023-04-26T14:49:39.481451",
     "exception": false,
     "start_time": "2023-04-26T14:49:39.287043",
     "status": "completed"
    },
    "tags": []
   },
   "outputs": [
    {
     "name": "stdout",
     "output_type": "stream",
     "text": [
      "Type -> One Hot -> x_train:  <class 'scipy.sparse.coo.coo_matrix'>\n",
      "Type -> One Hot -> x_test :  <class 'scipy.sparse.coo.coo_matrix'>\n",
      "\n",
      "\n",
      "Shape -> One Hot -> x_train:  (87364, 10510)\n",
      "Shape -> One Hot -> x_test :  (21841, 10510)\n"
     ]
    }
   ],
   "source": [
    "X_train_BoW_merge = hstack((x_train_case1_essays_bow_bigram, x_train_case1_titles_bow_bigram, x_train_case1_categories, x_train_case1_sub_categories, x_train_case1_school_state, x_train_case1_prefix, x_train_case1_grade_category, x_train_case1_price_normalized, x_train_case1_quantity_normalized, x_train_case1_teacher_previous_proj_normalized))\n",
    "X_test_BoW_merge  = hstack((x_test_case1_essays_bow_bigram, x_test_case1_titles_bow_bigram, x_test_case1_categories, x_test_case1_sub_categories, x_test_case1_school_state, x_test_case1_prefix,x_test_case1_grade_category, x_test_case1_price_normalized, x_test_case1_quantity_normalized, x_test_case1_teacher_previous_proj_normalized))\n",
    "\n",
    "print(\"Type -> One Hot -> x_train: \",type(X_train_BoW_merge))\n",
    "print(\"Type -> One Hot -> x_test : \",type(X_test_BoW_merge))\n",
    "print(\"\\n\")\n",
    "print(\"Shape -> One Hot -> x_train: \",X_train_BoW_merge.shape)\n",
    "print(\"Shape -> One Hot -> x_test : \",X_test_BoW_merge.shape)"
   ]
  },
  {
   "cell_type": "markdown",
   "id": "590f0960",
   "metadata": {
    "id": "8oLj-mEJreBL",
    "papermill": {
     "duration": 0.041497,
     "end_time": "2023-04-26T14:49:39.565251",
     "exception": false,
     "start_time": "2023-04-26T14:49:39.523754",
     "status": "completed"
    },
    "tags": []
   },
   "source": [
    "### **CASE: 2 - Dataset split into training and test sets. (Train:80, Test:20)**\n",
    " Train = 80 % Test = 20% [ x_train1,y_train1] = 80% ; [ x_test1,y_test1] = 20% ;"
   ]
  },
  {
   "cell_type": "code",
   "execution_count": 39,
   "id": "8cb2b3de",
   "metadata": {
    "execution": {
     "iopub.execute_input": "2023-04-26T14:49:39.651982Z",
     "iopub.status.busy": "2023-04-26T14:49:39.650722Z",
     "iopub.status.idle": "2023-04-26T14:49:39.715221Z",
     "shell.execute_reply": "2023-04-26T14:49:39.714150Z"
    },
    "id": "rJY6NAn0rrWp",
    "papermill": {
     "duration": 0.110573,
     "end_time": "2023-04-26T14:49:39.717789",
     "exception": false,
     "start_time": "2023-04-26T14:49:39.607216",
     "status": "completed"
    },
    "tags": []
   },
   "outputs": [],
   "source": [
    "X_train_case2, X_test_case2, y_train_case2, y_test_case2 = train_test_split(x, y, test_size = 0.2)"
   ]
  },
  {
   "cell_type": "markdown",
   "id": "6b829e2e",
   "metadata": {
    "id": "dX-3ZG3idiGm",
    "papermill": {
     "duration": 0.041715,
     "end_time": "2023-04-26T14:49:39.803189",
     "exception": false,
     "start_time": "2023-04-26T14:49:39.761474",
     "status": "completed"
    },
    "tags": []
   },
   "source": [
    "### Encoding Subject Categories"
   ]
  },
  {
   "cell_type": "code",
   "execution_count": 40,
   "id": "b7d64999",
   "metadata": {
    "execution": {
     "iopub.execute_input": "2023-04-26T14:49:39.889467Z",
     "iopub.status.busy": "2023-04-26T14:49:39.888806Z",
     "iopub.status.idle": "2023-04-26T14:49:40.556423Z",
     "shell.execute_reply": "2023-04-26T14:49:40.555509Z"
    },
    "id": "hyVv8RYNXIvf",
    "outputId": "55346ecf-b6d3-42ca-f1f1-f2a670d5f142",
    "papermill": {
     "duration": 0.71445,
     "end_time": "2023-04-26T14:49:40.559359",
     "exception": false,
     "start_time": "2023-04-26T14:49:39.844909",
     "status": "completed"
    },
    "tags": []
   },
   "outputs": [
    {
     "name": "stdout",
     "output_type": "stream",
     "text": [
      "['appliedlearning', 'appliedlearning_health_sports', 'appliedlearning_history_civics', 'appliedlearning_literacy_language', 'appliedlearning_math_science', 'appliedlearning_music_arts', 'appliedlearning_specialneeds', 'appliedlearning_warmth_care_hunger', 'health_sports', 'health_sports_appliedlearning', 'health_sports_history_civics', 'health_sports_literacy_language', 'health_sports_math_science', 'health_sports_music_arts', 'health_sports_specialneeds', 'health_sports_warmth_care_hunger', 'history_civics', 'history_civics_appliedlearning', 'history_civics_health_sports', 'history_civics_literacy_language', 'history_civics_math_science', 'history_civics_music_arts', 'history_civics_specialneeds', 'literacy_language', 'literacy_language_appliedlearning', 'literacy_language_health_sports', 'literacy_language_history_civics', 'literacy_language_math_science', 'literacy_language_music_arts', 'literacy_language_specialneeds', 'literacy_language_warmth_care_hunger', 'math_science', 'math_science_appliedlearning', 'math_science_health_sports', 'math_science_history_civics', 'math_science_literacy_language', 'math_science_music_arts', 'math_science_specialneeds', 'math_science_warmth_care_hunger', 'music_arts', 'music_arts_appliedlearning', 'music_arts_health_sports', 'music_arts_history_civics', 'music_arts_specialneeds', 'music_arts_warmth_care_hunger', 'specialneeds', 'specialneeds_health_sports', 'specialneeds_music_arts', 'specialneeds_warmth_care_hunger', 'warmth_care_hunger']\n",
      "Shape of matrix after one hot encoding -> categories: X_train_case1:  (87364, 50)\n",
      "Shape of matrix after one hot encoding -> categories: X_test_Case1 :  (21841, 50)\n"
     ]
    },
    {
     "name": "stderr",
     "output_type": "stream",
     "text": [
      "/opt/conda/lib/python3.7/site-packages/sklearn/utils/deprecation.py:87: FutureWarning:\n",
      "\n",
      "Function get_feature_names is deprecated; get_feature_names is deprecated in 1.0 and will be removed in 1.2. Please use get_feature_names_out instead.\n",
      "\n"
     ]
    }
   ],
   "source": [
    "vectorizer_sub = CountVectorizer( lowercase=False, binary=True)\n",
    "vectorizer_sub.fit(X_train_case2['project_subject_categories'].values)\n",
    "\n",
    "x_train_case2_categories = vectorizer_sub.transform(X_train_case2['project_subject_categories'].values)\n",
    "x_test_case2_categories  = vectorizer_sub.transform(X_test_case2['project_subject_categories'].values)\n",
    "\n",
    "print(vectorizer_sub.get_feature_names())\n",
    "print(\"Shape of matrix after one hot encoding -> categories: X_train_case1: \",x_train_case2_categories.shape)\n",
    "print(\"Shape of matrix after one hot encoding -> categories: X_test_Case1 : \",x_test_case2_categories.shape)"
   ]
  },
  {
   "cell_type": "markdown",
   "id": "00440ebd",
   "metadata": {
    "id": "l6jgqV8rdo8H",
    "papermill": {
     "duration": 0.041715,
     "end_time": "2023-04-26T14:49:40.643051",
     "exception": false,
     "start_time": "2023-04-26T14:49:40.601336",
     "status": "completed"
    },
    "tags": []
   },
   "source": [
    "### Encoding Subject Sub-Categories"
   ]
  },
  {
   "cell_type": "code",
   "execution_count": 41,
   "id": "c16650f4",
   "metadata": {
    "execution": {
     "iopub.execute_input": "2023-04-26T14:49:40.730811Z",
     "iopub.status.busy": "2023-04-26T14:49:40.730095Z",
     "iopub.status.idle": "2023-04-26T14:49:41.401506Z",
     "shell.execute_reply": "2023-04-26T14:49:41.400723Z"
    },
    "id": "RKWZk7WcXJGo",
    "outputId": "3eb642b7-b287-4e19-bd20-d72141ecc365",
    "papermill": {
     "duration": 0.717793,
     "end_time": "2023-04-26T14:49:41.403552",
     "exception": false,
     "start_time": "2023-04-26T14:49:40.685759",
     "status": "completed"
    },
    "tags": []
   },
   "outputs": [
    {
     "name": "stdout",
     "output_type": "stream",
     "text": [
      "['appliedsciences', 'appliedsciences_charactereducation', 'appliedsciences_civics_government', 'appliedsciences_college_careerprep', 'appliedsciences_communityservice', 'appliedsciences_earlydevelopment', 'appliedsciences_economics', 'appliedsciences_environmentalscience', 'appliedsciences_esl', 'appliedsciences_extracurricular', 'appliedsciences_financialliteracy', 'appliedsciences_foreignlanguages', 'appliedsciences_gym_fitness', 'appliedsciences_health_lifescience', 'appliedsciences_health_wellness', 'appliedsciences_history_geography', 'appliedsciences_literacy', 'appliedsciences_literature_writing', 'appliedsciences_mathematics', 'appliedsciences_music', 'appliedsciences_nutritioneducation', 'appliedsciences_other', 'appliedsciences_parentinvolvement', 'appliedsciences_performingarts', 'appliedsciences_socialsciences', 'appliedsciences_specialneeds', 'appliedsciences_teamsports', 'appliedsciences_visualarts', 'appliedsciences_warmth_care_hunger', 'charactereducation', 'charactereducation_civics_government', 'charactereducation_college_careerprep', 'charactereducation_communityservice', 'charactereducation_earlydevelopment', 'charactereducation_economics', 'charactereducation_environmentalscience', 'charactereducation_esl', 'charactereducation_extracurricular', 'charactereducation_financialliteracy', 'charactereducation_foreignlanguages', 'charactereducation_gym_fitness', 'charactereducation_health_lifescience', 'charactereducation_health_wellness', 'charactereducation_history_geography', 'charactereducation_literacy', 'charactereducation_literature_writing', 'charactereducation_mathematics', 'charactereducation_music', 'charactereducation_nutritioneducation', 'charactereducation_other', 'charactereducation_parentinvolvement', 'charactereducation_performingarts', 'charactereducation_socialsciences', 'charactereducation_specialneeds', 'charactereducation_teamsports', 'charactereducation_visualarts', 'charactereducation_warmth_care_hunger', 'civics_government', 'civics_government_college_careerprep', 'civics_government_communityservice', 'civics_government_economics', 'civics_government_environmentalscience', 'civics_government_esl', 'civics_government_extracurricular', 'civics_government_financialliteracy', 'civics_government_foreignlanguages', 'civics_government_health_lifescience', 'civics_government_health_wellness', 'civics_government_history_geography', 'civics_government_literacy', 'civics_government_literature_writing', 'civics_government_mathematics', 'civics_government_nutritioneducation', 'civics_government_parentinvolvement', 'civics_government_performingarts', 'civics_government_socialsciences', 'civics_government_specialneeds', 'civics_government_teamsports', 'civics_government_visualarts', 'college_careerprep', 'college_careerprep_communityservice', 'college_careerprep_earlydevelopment', 'college_careerprep_economics', 'college_careerprep_environmentalscience', 'college_careerprep_esl', 'college_careerprep_extracurricular', 'college_careerprep_financialliteracy', 'college_careerprep_foreignlanguages', 'college_careerprep_gym_fitness', 'college_careerprep_health_lifescience', 'college_careerprep_health_wellness', 'college_careerprep_history_geography', 'college_careerprep_literacy', 'college_careerprep_literature_writing', 'college_careerprep_mathematics', 'college_careerprep_music', 'college_careerprep_nutritioneducation', 'college_careerprep_other', 'college_careerprep_parentinvolvement', 'college_careerprep_performingarts', 'college_careerprep_socialsciences', 'college_careerprep_specialneeds', 'college_careerprep_teamsports', 'college_careerprep_visualarts', 'communityservice', 'communityservice_earlydevelopment', 'communityservice_economics', 'communityservice_environmentalscience', 'communityservice_esl', 'communityservice_extracurricular', 'communityservice_financialliteracy', 'communityservice_gym_fitness', 'communityservice_health_lifescience', 'communityservice_health_wellness', 'communityservice_history_geography', 'communityservice_literacy', 'communityservice_literature_writing', 'communityservice_mathematics', 'communityservice_nutritioneducation', 'communityservice_other', 'communityservice_parentinvolvement', 'communityservice_performingarts', 'communityservice_socialsciences', 'communityservice_specialneeds', 'communityservice_visualarts', 'earlydevelopment', 'earlydevelopment_economics', 'earlydevelopment_environmentalscience', 'earlydevelopment_extracurricular', 'earlydevelopment_financialliteracy', 'earlydevelopment_foreignlanguages', 'earlydevelopment_gym_fitness', 'earlydevelopment_health_lifescience', 'earlydevelopment_health_wellness', 'earlydevelopment_history_geography', 'earlydevelopment_literacy', 'earlydevelopment_literature_writing', 'earlydevelopment_mathematics', 'earlydevelopment_music', 'earlydevelopment_nutritioneducation', 'earlydevelopment_other', 'earlydevelopment_parentinvolvement', 'earlydevelopment_performingarts', 'earlydevelopment_socialsciences', 'earlydevelopment_specialneeds', 'earlydevelopment_teamsports', 'earlydevelopment_visualarts', 'earlydevelopment_warmth_care_hunger', 'economics', 'economics_environmentalscience', 'economics_financialliteracy', 'economics_foreignlanguages', 'economics_health_lifescience', 'economics_history_geography', 'economics_literacy', 'economics_literature_writing', 'economics_mathematics', 'economics_nutritioneducation', 'economics_socialsciences', 'economics_specialneeds', 'economics_visualarts', 'environmentalscience', 'environmentalscience_extracurricular', 'environmentalscience_financialliteracy', 'environmentalscience_foreignlanguages', 'environmentalscience_gym_fitness', 'environmentalscience_health_lifescience', 'environmentalscience_health_wellness', 'environmentalscience_history_geography', 'environmentalscience_literacy', 'environmentalscience_literature_writing', 'environmentalscience_mathematics', 'environmentalscience_music', 'environmentalscience_nutritioneducation', 'environmentalscience_other', 'environmentalscience_parentinvolvement', 'environmentalscience_performingarts', 'environmentalscience_socialsciences', 'environmentalscience_specialneeds', 'environmentalscience_teamsports', 'environmentalscience_visualarts', 'environmentalscience_warmth_care_hunger', 'esl', 'esl_earlydevelopment', 'esl_economics', 'esl_environmentalscience', 'esl_extracurricular', 'esl_financialliteracy', 'esl_foreignlanguages', 'esl_gym_fitness', 'esl_health_lifescience', 'esl_health_wellness', 'esl_history_geography', 'esl_literacy', 'esl_literature_writing', 'esl_mathematics', 'esl_music', 'esl_nutritioneducation', 'esl_other', 'esl_parentinvolvement', 'esl_performingarts', 'esl_socialsciences', 'esl_specialneeds', 'esl_visualarts', 'extracurricular', 'extracurricular_financialliteracy', 'extracurricular_foreignlanguages', 'extracurricular_gym_fitness', 'extracurricular_health_lifescience', 'extracurricular_health_wellness', 'extracurricular_history_geography', 'extracurricular_literacy', 'extracurricular_literature_writing', 'extracurricular_mathematics', 'extracurricular_music', 'extracurricular_nutritioneducation', 'extracurricular_other', 'extracurricular_parentinvolvement', 'extracurricular_performingarts', 'extracurricular_socialsciences', 'extracurricular_specialneeds', 'extracurricular_teamsports', 'extracurricular_visualarts', 'financialliteracy', 'financialliteracy_health_lifescience', 'financialliteracy_health_wellness', 'financialliteracy_history_geography', 'financialliteracy_literacy', 'financialliteracy_literature_writing', 'financialliteracy_mathematics', 'financialliteracy_other', 'financialliteracy_parentinvolvement', 'financialliteracy_performingarts', 'financialliteracy_socialsciences', 'financialliteracy_specialneeds', 'financialliteracy_visualarts', 'foreignlanguages', 'foreignlanguages_gym_fitness', 'foreignlanguages_health_lifescience', 'foreignlanguages_health_wellness', 'foreignlanguages_history_geography', 'foreignlanguages_literacy', 'foreignlanguages_literature_writing', 'foreignlanguages_mathematics', 'foreignlanguages_music', 'foreignlanguages_other', 'foreignlanguages_performingarts', 'foreignlanguages_socialsciences', 'foreignlanguages_specialneeds', 'foreignlanguages_visualarts', 'gym_fitness', 'gym_fitness_health_lifescience', 'gym_fitness_health_wellness', 'gym_fitness_history_geography', 'gym_fitness_literacy', 'gym_fitness_literature_writing', 'gym_fitness_mathematics', 'gym_fitness_music', 'gym_fitness_nutritioneducation', 'gym_fitness_other', 'gym_fitness_parentinvolvement', 'gym_fitness_performingarts', 'gym_fitness_socialsciences', 'gym_fitness_specialneeds', 'gym_fitness_teamsports', 'gym_fitness_visualarts', 'gym_fitness_warmth_care_hunger', 'health_lifescience', 'health_lifescience_health_wellness', 'health_lifescience_history_geography', 'health_lifescience_literacy', 'health_lifescience_literature_writing', 'health_lifescience_mathematics', 'health_lifescience_music', 'health_lifescience_nutritioneducation', 'health_lifescience_other', 'health_lifescience_parentinvolvement', 'health_lifescience_performingarts', 'health_lifescience_socialsciences', 'health_lifescience_specialneeds', 'health_lifescience_teamsports', 'health_lifescience_visualarts', 'health_lifescience_warmth_care_hunger', 'health_wellness', 'health_wellness_history_geography', 'health_wellness_literacy', 'health_wellness_literature_writing', 'health_wellness_mathematics', 'health_wellness_music', 'health_wellness_nutritioneducation', 'health_wellness_other', 'health_wellness_parentinvolvement', 'health_wellness_performingarts', 'health_wellness_socialsciences', 'health_wellness_specialneeds', 'health_wellness_teamsports', 'health_wellness_visualarts', 'health_wellness_warmth_care_hunger', 'history_geography', 'history_geography_literacy', 'history_geography_literature_writing', 'history_geography_mathematics', 'history_geography_music', 'history_geography_other', 'history_geography_parentinvolvement', 'history_geography_performingarts', 'history_geography_socialsciences', 'history_geography_specialneeds', 'history_geography_teamsports', 'history_geography_visualarts', 'literacy', 'literacy_literature_writing', 'literacy_mathematics', 'literacy_music', 'literacy_nutritioneducation', 'literacy_other', 'literacy_parentinvolvement', 'literacy_performingarts', 'literacy_socialsciences', 'literacy_specialneeds', 'literacy_teamsports', 'literacy_visualarts', 'literacy_warmth_care_hunger', 'literature_writing', 'literature_writing_mathematics', 'literature_writing_music', 'literature_writing_nutritioneducation', 'literature_writing_other', 'literature_writing_parentinvolvement', 'literature_writing_performingarts', 'literature_writing_socialsciences', 'literature_writing_specialneeds', 'literature_writing_teamsports', 'literature_writing_visualarts', 'literature_writing_warmth_care_hunger', 'mathematics', 'mathematics_music', 'mathematics_nutritioneducation', 'mathematics_other', 'mathematics_parentinvolvement', 'mathematics_performingarts', 'mathematics_socialsciences', 'mathematics_specialneeds', 'mathematics_teamsports', 'mathematics_visualarts', 'mathematics_warmth_care_hunger', 'music', 'music_other', 'music_parentinvolvement', 'music_performingarts', 'music_socialsciences', 'music_specialneeds', 'music_teamsports', 'music_visualarts', 'nutritioneducation', 'nutritioneducation_other', 'nutritioneducation_socialsciences', 'nutritioneducation_specialneeds', 'nutritioneducation_teamsports', 'nutritioneducation_visualarts', 'nutritioneducation_warmth_care_hunger', 'other', 'other_parentinvolvement', 'other_performingarts', 'other_socialsciences', 'other_specialneeds', 'other_teamsports', 'other_visualarts', 'parentinvolvement', 'parentinvolvement_performingarts', 'parentinvolvement_socialsciences', 'parentinvolvement_specialneeds', 'parentinvolvement_teamsports', 'parentinvolvement_visualarts', 'parentinvolvement_warmth_care_hunger', 'performingarts', 'performingarts_socialsciences', 'performingarts_specialneeds', 'performingarts_teamsports', 'performingarts_visualarts', 'socialsciences', 'socialsciences_specialneeds', 'socialsciences_teamsports', 'socialsciences_visualarts', 'specialneeds', 'specialneeds_teamsports', 'specialneeds_visualarts', 'specialneeds_warmth_care_hunger', 'teamsports', 'teamsports_visualarts', 'visualarts', 'visualarts_warmth_care_hunger', 'warmth_care_hunger']\n",
      "Shape of matrix after one hot encoding -> sub_categories: X_train_case1:  (87364, 393)\n",
      "Shape of matrix after one hot encoding -> sub_categories: X_test_Case1 :  (21841, 393)\n"
     ]
    }
   ],
   "source": [
    "vectorizer_sub = CountVectorizer( lowercase=False, binary=True)\n",
    "vectorizer_sub.fit(X_train_case2['project_subject_subcategories'].values)\n",
    "x_train_case2_sub_categories = vectorizer_sub.transform(X_train_case2['project_subject_subcategories'].values)\n",
    "x_test_case2_sub_categories  = vectorizer_sub.transform(X_test_case2['project_subject_subcategories'].values)\n",
    "\n",
    "print(vectorizer_sub.get_feature_names())\n",
    "\n",
    "print(\"Shape of matrix after one hot encoding -> sub_categories: X_train_case1: \",x_train_case2_sub_categories.shape)\n",
    "print(\"Shape of matrix after one hot encoding -> sub_categories: X_test_Case1 : \",x_test_case2_sub_categories.shape)"
   ]
  },
  {
   "cell_type": "markdown",
   "id": "b007aa36",
   "metadata": {
    "id": "sv6pE59teAUO",
    "papermill": {
     "duration": 0.042485,
     "end_time": "2023-04-26T14:49:41.489921",
     "exception": false,
     "start_time": "2023-04-26T14:49:41.447436",
     "status": "completed"
    },
    "tags": []
   },
   "source": [
    "### Encoding School State"
   ]
  },
  {
   "cell_type": "code",
   "execution_count": 42,
   "id": "fc038176",
   "metadata": {
    "execution": {
     "iopub.execute_input": "2023-04-26T14:49:41.580953Z",
     "iopub.status.busy": "2023-04-26T14:49:41.580217Z",
     "iopub.status.idle": "2023-04-26T14:49:42.225550Z",
     "shell.execute_reply": "2023-04-26T14:49:42.224404Z"
    },
    "id": "SRgfqQECXJXQ",
    "outputId": "eab5f3a9-bbca-45ef-ed24-1eaf945ac5a1",
    "papermill": {
     "duration": 0.695732,
     "end_time": "2023-04-26T14:49:42.228091",
     "exception": false,
     "start_time": "2023-04-26T14:49:41.532359",
     "status": "completed"
    },
    "tags": []
   },
   "outputs": [
    {
     "name": "stdout",
     "output_type": "stream",
     "text": [
      "['ak', 'al', 'ar', 'az', 'ca', 'co', 'ct', 'dc', 'de', 'fl', 'ga', 'hi', 'ia', 'id', 'il', 'in', 'ks', 'ky', 'la', 'ma', 'md', 'me', 'mi', 'mn', 'mo', 'ms', 'mt', 'nc', 'nd', 'ne', 'nh', 'nj', 'nm', 'nv', 'ny', 'oh', 'ok', 'or', 'pa', 'ri', 'sc', 'sd', 'tn', 'tx', 'ut', 'va', 'vt', 'wa', 'wi', 'wv', 'wy']\n",
      "Shape of matrix after one hot encoding -> school_state: x_train:  (87364, 51)\n",
      "Shape of matrix after one hot encoding -> school_state: x_test :  (21841, 51)\n"
     ]
    }
   ],
   "source": [
    "vectorizer_state = CountVectorizer( lowercase=False, binary=True)\n",
    "vectorizer_state.fit(X_train_case2['school_state'])\n",
    "\n",
    "x_train_case2_school_state = vectorizer_state.transform(X_train_case2['school_state'].values)\n",
    "x_test_case2_school_state  = vectorizer_state.transform(X_test_case2['school_state'].values)\n",
    "\n",
    "print(vectorizer_state.get_feature_names())\n",
    "\n",
    "print(\"Shape of matrix after one hot encoding -> school_state: x_train: \",x_train_case2_school_state.shape)\n",
    "print(\"Shape of matrix after one hot encoding -> school_state: x_test : \",x_test_case2_school_state.shape)"
   ]
  },
  {
   "cell_type": "markdown",
   "id": "3ca265a0",
   "metadata": {
    "id": "CLQ6b83deCjq",
    "papermill": {
     "duration": 0.042353,
     "end_time": "2023-04-26T14:49:42.313191",
     "exception": false,
     "start_time": "2023-04-26T14:49:42.270838",
     "status": "completed"
    },
    "tags": []
   },
   "source": [
    "### Encoding Teacher Prefix"
   ]
  },
  {
   "cell_type": "code",
   "execution_count": 43,
   "id": "da9bb4b7",
   "metadata": {
    "execution": {
     "iopub.execute_input": "2023-04-26T14:49:42.401213Z",
     "iopub.status.busy": "2023-04-26T14:49:42.400476Z",
     "iopub.status.idle": "2023-04-26T14:49:43.041154Z",
     "shell.execute_reply": "2023-04-26T14:49:43.040085Z"
    },
    "id": "K-5I3dFxXJlD",
    "outputId": "317dcf32-21cd-45d4-aed0-71df04370d37",
    "papermill": {
     "duration": 0.687512,
     "end_time": "2023-04-26T14:49:43.043628",
     "exception": false,
     "start_time": "2023-04-26T14:49:42.356116",
     "status": "completed"
    },
    "tags": []
   },
   "outputs": [
    {
     "name": "stdout",
     "output_type": "stream",
     "text": [
      "['dr', 'mr', 'mrs', 'ms', 'teacher']\n",
      "Shape of matrix after one hot encoding -> prefix: x_train:  (87364, 5)\n",
      "Shape of matrix after one hot encoding -> prefix: x_test :  (21841, 5)\n"
     ]
    }
   ],
   "source": [
    "vectorizer_prefix = CountVectorizer(lowercase=False, binary=True)\n",
    "\n",
    "vectorizer_prefix.fit(X_train_case2['teacher_prefix'].values)\n",
    "\n",
    "x_train_case2_prefix = vectorizer_prefix.transform(X_train_case2['teacher_prefix'].values)\n",
    "x_test_case2_prefix  = vectorizer_prefix.transform(X_test_case2['teacher_prefix'].values)\n",
    "\n",
    "print(vectorizer_prefix.get_feature_names())\n",
    "\n",
    "print(\"Shape of matrix after one hot encoding -> prefix: x_train: \",x_train_case2_prefix.shape)\n",
    "print(\"Shape of matrix after one hot encoding -> prefix: x_test : \",x_test_case2_prefix.shape)"
   ]
  },
  {
   "cell_type": "markdown",
   "id": "68d4cb12",
   "metadata": {
    "id": "b4sWRPOSeF74",
    "papermill": {
     "duration": 0.042445,
     "end_time": "2023-04-26T14:49:43.128896",
     "exception": false,
     "start_time": "2023-04-26T14:49:43.086451",
     "status": "completed"
    },
    "tags": []
   },
   "source": [
    "### Encoding Grade Category"
   ]
  },
  {
   "cell_type": "code",
   "execution_count": 44,
   "id": "70749d12",
   "metadata": {
    "execution": {
     "iopub.execute_input": "2023-04-26T14:49:43.216053Z",
     "iopub.status.busy": "2023-04-26T14:49:43.215396Z",
     "iopub.status.idle": "2023-04-26T14:49:43.879288Z",
     "shell.execute_reply": "2023-04-26T14:49:43.878273Z"
    },
    "id": "2I-uh1--XJzC",
    "outputId": "e58a37b0-800e-4e9d-82a9-cd5d9c6244c3",
    "papermill": {
     "duration": 0.709729,
     "end_time": "2023-04-26T14:49:43.881471",
     "exception": false,
     "start_time": "2023-04-26T14:49:43.171742",
     "status": "completed"
    },
    "tags": []
   },
   "outputs": [
    {
     "name": "stdout",
     "output_type": "stream",
     "text": [
      "['grades_3_5', 'grades_6_8', 'grades_9_12', 'grades_prek_2']\n",
      "Shape of matrix after one hot encoding -> project_grade: x_train :  (87364, 4)\n",
      "Shape of matrix after one hot encoding -> project_grade: x_test  :  (21841, 4)\n"
     ]
    }
   ],
   "source": [
    "vectorizer_grade = CountVectorizer(lowercase=False, binary=True)\n",
    "\n",
    "vectorizer_grade.fit(X_train_case2['project_grade_category'].values)\n",
    "\n",
    "x_train_case2_grade_category = vectorizer_grade.transform(X_train_case2['project_grade_category'].values)\n",
    "x_test_case2_grade_category  = vectorizer_grade.transform(X_test_case2['project_grade_category'].values)\n",
    "\n",
    "print(vectorizer_grade.get_feature_names())\n",
    "\n",
    "print(\"Shape of matrix after one hot encoding -> project_grade: x_train : \",x_train_case2_grade_category.shape)\n",
    "print(\"Shape of matrix after one hot encoding -> project_grade: x_test  : \",x_test_case2_grade_category.shape)\n"
   ]
  },
  {
   "cell_type": "markdown",
   "id": "4122935a",
   "metadata": {
    "id": "9BzBP4fPeLYh",
    "papermill": {
     "duration": 0.041881,
     "end_time": "2023-04-26T14:49:43.966123",
     "exception": false,
     "start_time": "2023-04-26T14:49:43.924242",
     "status": "completed"
    },
    "tags": []
   },
   "source": [
    "### Encoding Price"
   ]
  },
  {
   "cell_type": "code",
   "execution_count": 45,
   "id": "011de075",
   "metadata": {
    "execution": {
     "iopub.execute_input": "2023-04-26T14:49:44.053290Z",
     "iopub.status.busy": "2023-04-26T14:49:44.052885Z",
     "iopub.status.idle": "2023-04-26T14:49:44.065174Z",
     "shell.execute_reply": "2023-04-26T14:49:44.064031Z"
    },
    "id": "hGjZeCYsX8lF",
    "outputId": "6cad8d2b-086d-4b59-f22b-9c11a58d2af7",
    "papermill": {
     "duration": 0.058497,
     "end_time": "2023-04-26T14:49:44.067273",
     "exception": false,
     "start_time": "2023-04-26T14:49:44.008776",
     "status": "completed"
    },
    "tags": []
   },
   "outputs": [
    {
     "data": {
      "text/plain": [
       "array([[1.90891413e-03],\n",
       "       [2.52399673e-03],\n",
       "       [3.18331595e-05],\n",
       "       ...,\n",
       "       [7.83784009e-04],\n",
       "       [1.89737102e-03],\n",
       "       [2.02413009e-03]])"
      ]
     },
     "execution_count": 45,
     "metadata": {},
     "output_type": "execute_result"
    }
   ],
   "source": [
    "normalizer = Normalizer()\n",
    "normalizer.fit(X_train_case2['price'].values.reshape(1,-1))\n",
    "x_train_case2_price_normalized = normalizer.transform(X_train_case2['price'].values.reshape(1, -1)).reshape(-1,1)\n",
    "normalizer.fit(X_test_case2['price'].values.reshape(1,-1))\n",
    "x_test_case2_price_normalized  = normalizer.transform(X_test_case2['price'].values.reshape(1, -1)).reshape(-1,1)\n",
    "x_train_case2_price_normalized"
   ]
  },
  {
   "cell_type": "markdown",
   "id": "0616995b",
   "metadata": {
    "id": "FXfZxq3FeOfM",
    "papermill": {
     "duration": 0.042594,
     "end_time": "2023-04-26T14:49:44.153718",
     "exception": false,
     "start_time": "2023-04-26T14:49:44.111124",
     "status": "completed"
    },
    "tags": []
   },
   "source": [
    "### Encoding Previous Projects"
   ]
  },
  {
   "cell_type": "code",
   "execution_count": 46,
   "id": "3d94d206",
   "metadata": {
    "execution": {
     "iopub.execute_input": "2023-04-26T14:49:44.241546Z",
     "iopub.status.busy": "2023-04-26T14:49:44.240505Z",
     "iopub.status.idle": "2023-04-26T14:49:44.248866Z",
     "shell.execute_reply": "2023-04-26T14:49:44.248187Z"
    },
    "id": "nvxyuBrQX9Lb",
    "papermill": {
     "duration": 0.054824,
     "end_time": "2023-04-26T14:49:44.250921",
     "exception": false,
     "start_time": "2023-04-26T14:49:44.196097",
     "status": "completed"
    },
    "tags": []
   },
   "outputs": [],
   "source": [
    "teacher_previous_proj_normalizer = Normalizer()\n",
    "teacher_previous_proj_normalizer.fit(X_train_case2['teacher_number_of_previously_posted_projects'].values.reshape(1,-1))\n",
    "x_train_case2_teacher_previous_proj_normalized = teacher_previous_proj_normalizer.transform(X_train_case2['teacher_number_of_previously_posted_projects'].values.reshape(1,- 1)).reshape(-1,1)\n",
    "teacher_previous_proj_normalizer.fit(X_test_case2['teacher_number_of_previously_posted_projects'].values.reshape(1,-1))\n",
    "x_test_case2_teacher_previous_proj_normalized  = teacher_previous_proj_normalizer.transform(X_test_case2['teacher_number_of_previously_posted_projects'].values.reshape(1,- 1)).reshape(-1,1)\n"
   ]
  },
  {
   "cell_type": "markdown",
   "id": "29dd8bcb",
   "metadata": {
    "id": "niDnB24UeSmP",
    "papermill": {
     "duration": 0.042827,
     "end_time": "2023-04-26T14:49:44.337654",
     "exception": false,
     "start_time": "2023-04-26T14:49:44.294827",
     "status": "completed"
    },
    "tags": []
   },
   "source": [
    "### Encoding Quantity"
   ]
  },
  {
   "cell_type": "code",
   "execution_count": 47,
   "id": "cbe3deb5",
   "metadata": {
    "execution": {
     "iopub.execute_input": "2023-04-26T14:49:44.426423Z",
     "iopub.status.busy": "2023-04-26T14:49:44.425307Z",
     "iopub.status.idle": "2023-04-26T14:49:44.435764Z",
     "shell.execute_reply": "2023-04-26T14:49:44.434976Z"
    },
    "id": "m84xIhpaX_xl",
    "outputId": "94a6d6c1-ff40-41b2-e862-660ab0169cbc",
    "papermill": {
     "duration": 0.057155,
     "end_time": "2023-04-26T14:49:44.437800",
     "exception": false,
     "start_time": "2023-04-26T14:49:44.380645",
     "status": "completed"
    },
    "tags": []
   },
   "outputs": [
    {
     "data": {
      "text/plain": [
       "array([[0.00164617],\n",
       "       [0.00153642],\n",
       "       [0.00208515],\n",
       "       ...,\n",
       "       [0.00010974],\n",
       "       [0.00153642],\n",
       "       [0.00186566]])"
      ]
     },
     "execution_count": 47,
     "metadata": {},
     "output_type": "execute_result"
    }
   ],
   "source": [
    "normalizer = Normalizer()\n",
    "\n",
    "normalizer.fit(X_train_case2['quantity'].values.reshape(1,-1)) \n",
    "x_train_case2_quantity_normalized = normalizer.transform(X_train_case2['quantity'].values.reshape(1, -1)).reshape(-1,1)\n",
    "normalizer.fit(X_test_case2['quantity'].values.reshape(1,-1)) \n",
    "x_test_case2_quantity_normalized  = normalizer.transform(X_test_case2['quantity'].values.reshape(1, -1)).reshape(-1,1)\n",
    "x_train_case2_quantity_normalized\n"
   ]
  },
  {
   "cell_type": "markdown",
   "id": "55456b29",
   "metadata": {
    "id": "UOB7IBmpgRGA",
    "papermill": {
     "duration": 0.042898,
     "end_time": "2023-04-26T14:49:44.523865",
     "exception": false,
     "start_time": "2023-04-26T14:49:44.480967",
     "status": "completed"
    },
    "tags": []
   },
   "source": [
    "### TF-IDF Cleaned Essays"
   ]
  },
  {
   "cell_type": "code",
   "execution_count": 48,
   "id": "dcef4b7c",
   "metadata": {
    "execution": {
     "iopub.execute_input": "2023-04-26T14:49:44.613938Z",
     "iopub.status.busy": "2023-04-26T14:49:44.612913Z",
     "iopub.status.idle": "2023-04-26T14:50:33.496182Z",
     "shell.execute_reply": "2023-04-26T14:50:33.495062Z"
    },
    "id": "35EVw6bLxgyS",
    "outputId": "fd696dff-d283-41bb-8984-6f75b1c01943",
    "papermill": {
     "duration": 48.972477,
     "end_time": "2023-04-26T14:50:33.541727",
     "exception": false,
     "start_time": "2023-04-26T14:49:44.569250",
     "status": "completed"
    },
    "tags": []
   },
   "outputs": [
    {
     "name": "stdout",
     "output_type": "stream",
     "text": [
      "Shape of matrix after TF-IDF -> Essay: x_train:  (87364, 5000)\n",
      "Shape of matrix after TF-IDF -> Essay: x_test :  (21841, 5000)\n"
     ]
    }
   ],
   "source": [
    "# TF-IDF on train set of cleaned titles\n",
    "\n",
    "vectorizer_essay_tfidf_bigram = TfidfVectorizer(ngram_range=(2,2),min_df=10,max_features=5000)\n",
    "vectorizer_essay_tfidf_bigram.fit(X_train_case2['cleaned_essays'])\n",
    "x_train_case2_essays_tfidf_bigram = vectorizer_essay_tfidf_bigram.transform(X_train_case2['cleaned_essays'])\n",
    "x_test_case2_essays_tfidf_bigram  = vectorizer_essay_tfidf_bigram.transform(X_test_case2['cleaned_essays'])\n",
    "\n",
    "print(\"Shape of matrix after TF-IDF -> Essay: x_train: \",x_train_case2_essays_tfidf_bigram.shape)\n",
    "print(\"Shape of matrix after TF-IDF -> Essay: x_test : \",x_test_case2_essays_tfidf_bigram.shape)"
   ]
  },
  {
   "cell_type": "markdown",
   "id": "4855888e",
   "metadata": {
    "id": "hmF9A61Ng8Kh",
    "papermill": {
     "duration": 0.04269,
     "end_time": "2023-04-26T14:50:33.627565",
     "exception": false,
     "start_time": "2023-04-26T14:50:33.584875",
     "status": "completed"
    },
    "tags": []
   },
   "source": [
    "### TF-IDF Cleaned Titles"
   ]
  },
  {
   "cell_type": "code",
   "execution_count": 49,
   "id": "2a993ea6",
   "metadata": {
    "execution": {
     "iopub.execute_input": "2023-04-26T14:50:33.715618Z",
     "iopub.status.busy": "2023-04-26T14:50:33.714575Z",
     "iopub.status.idle": "2023-04-26T14:50:35.688738Z",
     "shell.execute_reply": "2023-04-26T14:50:35.687413Z"
    },
    "id": "x6HD9JmycMex",
    "outputId": "bd12b788-0dfb-4ef6-f05d-c16d2d7320dd",
    "papermill": {
     "duration": 2.020695,
     "end_time": "2023-04-26T14:50:35.691122",
     "exception": false,
     "start_time": "2023-04-26T14:50:33.670427",
     "status": "completed"
    },
    "tags": []
   },
   "outputs": [
    {
     "name": "stdout",
     "output_type": "stream",
     "text": [
      "Shape of matrix after TF-IDF -> Titles: x_train:  (87364, 2513)\n",
      "Shape of matrix after TF-IDF -> Titles: x_test :  (21841, 2513)\n"
     ]
    }
   ],
   "source": [
    "vectorizer_titles_tfidf_bigram = TfidfVectorizer(ngram_range=(2,2),min_df=10,max_features=5000)\n",
    "vectorizer_titles_tfidf_bigram.fit(X_train_case2['cleaned_titles'])\n",
    "x_train_case2_essays_tfidf_bigram = vectorizer_titles_tfidf_bigram.transform(X_train_case2['cleaned_titles'])\n",
    "x_test_case2_essays_tfidf_bigram  = vectorizer_titles_tfidf_bigram.transform(X_test_case2['cleaned_titles'])\n",
    "\n",
    "print(\"Shape of matrix after TF-IDF -> Titles: x_train: \",x_train_case2_essays_tfidf_bigram.shape)\n",
    "print(\"Shape of matrix after TF-IDF -> Titles: x_test : \",x_test_case2_essays_tfidf_bigram.shape)"
   ]
  },
  {
   "cell_type": "markdown",
   "id": "361a1f7e",
   "metadata": {
    "id": "NgSfFKachSfM",
    "papermill": {
     "duration": 0.100856,
     "end_time": "2023-04-26T14:50:35.837591",
     "exception": false,
     "start_time": "2023-04-26T14:50:35.736735",
     "status": "completed"
    },
    "tags": []
   },
   "source": [
    "### Concatenated all features and named it as X_train_TFIDF and X_Test_TFIDF"
   ]
  },
  {
   "cell_type": "code",
   "execution_count": 50,
   "id": "9475877e",
   "metadata": {
    "execution": {
     "iopub.execute_input": "2023-04-26T14:50:35.926272Z",
     "iopub.status.busy": "2023-04-26T14:50:35.925437Z",
     "iopub.status.idle": "2023-04-26T14:50:35.964613Z",
     "shell.execute_reply": "2023-04-26T14:50:35.963593Z"
    },
    "id": "tNHdf-rgeX4W",
    "outputId": "28db9db4-f7d2-4d2e-a001-fc1fda067c9e",
    "papermill": {
     "duration": 0.086321,
     "end_time": "2023-04-26T14:50:35.966963",
     "exception": false,
     "start_time": "2023-04-26T14:50:35.880642",
     "status": "completed"
    },
    "tags": []
   },
   "outputs": [
    {
     "name": "stdout",
     "output_type": "stream",
     "text": [
      "Type -> One Hot -> x_train:  <class 'scipy.sparse.coo.coo_matrix'>\n",
      "Type -> One Hot -> x_test :  <class 'scipy.sparse.coo.coo_matrix'>\n",
      "\n",
      "\n",
      "Shape -> One Hot -> x_train:  (87364, 5532)\n",
      "Shape -> One Hot -> x_test :  (21841, 5532)\n"
     ]
    }
   ],
   "source": [
    "X_train_TF_IDF_merge = hstack((x_train_case2_essays_tfidf_bigram, x_train_case2_essays_tfidf_bigram, x_train_case2_categories, x_train_case2_sub_categories, x_train_case2_school_state, x_train_case2_prefix, x_train_case2_grade_category, x_train_case2_price_normalized, x_train_case2_quantity_normalized, x_train_case2_teacher_previous_proj_normalized))\n",
    "X_test_TF_IDF_merge  = hstack((x_test_case2_essays_tfidf_bigram, x_test_case2_essays_tfidf_bigram, x_test_case2_categories, x_test_case2_sub_categories, x_test_case2_school_state, x_test_case2_prefix,x_test_case2_grade_category, x_test_case2_price_normalized, x_test_case2_quantity_normalized, x_test_case2_teacher_previous_proj_normalized))\n",
    "\n",
    "print(\"Type -> One Hot -> x_train: \",type(X_train_TF_IDF_merge))\n",
    "print(\"Type -> One Hot -> x_test : \",type(X_test_TF_IDF_merge))\n",
    "print(\"\\n\")\n",
    "print(\"Shape -> One Hot -> x_train: \",X_train_TF_IDF_merge.shape)\n",
    "print(\"Shape -> One Hot -> x_test : \",X_test_TF_IDF_merge.shape)"
   ]
  },
  {
   "cell_type": "markdown",
   "id": "bc162016",
   "metadata": {
    "id": "fruhQDPlfgAG",
    "papermill": {
     "duration": 0.043779,
     "end_time": "2023-04-26T14:50:36.054536",
     "exception": false,
     "start_time": "2023-04-26T14:50:36.010757",
     "status": "completed"
    },
    "tags": []
   },
   "source": [
    "## **Model Building**\n",
    "\n",
    "### Decision Tree Classifier on Case_1 and Case_2 feature sets. - GridSearchCV\n",
    "Perform hyper parameter tuning:\n",
    "Assign (best `depth` in range [5, 10, 50], and the best `min_samples_split` in range [10, 100, 500])"
   ]
  },
  {
   "cell_type": "code",
   "execution_count": 51,
   "id": "2e8593e6",
   "metadata": {
    "execution": {
     "iopub.execute_input": "2023-04-26T14:50:36.143215Z",
     "iopub.status.busy": "2023-04-26T14:50:36.142811Z",
     "iopub.status.idle": "2023-04-26T14:52:37.336721Z",
     "shell.execute_reply": "2023-04-26T14:52:37.335305Z"
    },
    "id": "vtlvAk9P_dIH",
    "outputId": "4db5c6a8-e7d8-4ed1-d268-4a74792c8279",
    "papermill": {
     "duration": 121.285843,
     "end_time": "2023-04-26T14:52:37.383869",
     "exception": false,
     "start_time": "2023-04-26T14:50:36.098026",
     "status": "completed"
    },
    "tags": []
   },
   "outputs": [
    {
     "name": "stdout",
     "output_type": "stream",
     "text": [
      "Fitting 3 folds for each of 9 candidates, totalling 27 fits\n",
      "BEST MAX DEPTH:  10  BEST SCORE:  0.6644107670032647 BEST MIN SAMPLE SPLIT:  500\n"
     ]
    }
   ],
   "source": [
    "dt_case1 = DecisionTreeClassifier(class_weight='balanced')\n",
    "parameters = {'max_depth':[5, 10, 50],'min_samples_split':[10, 100, 500]}\n",
    "clf2 = GridSearchCV(dt_case1, parameters, cv= 3, scoring='roc_auc',verbose=1,return_train_score=True,n_jobs=-1)\n",
    "\n",
    "clf2.fit(X_train_BoW_merge,y_train_case1)\n",
    "train_auc= clf2.cv_results_['mean_train_score']\n",
    "train_auc_std= clf2.cv_results_['std_train_score']\n",
    "cv_auc = clf2.cv_results_['mean_test_score']\n",
    "cv_auc_std= clf2.cv_results_['std_test_score']\n",
    "bestMaxDepth_2=clf2.best_params_['max_depth']\n",
    "bestMinSampleSplit_2=clf2.best_params_['min_samples_split']\n",
    "bestScore_2=clf2.best_score_\n",
    "case1_maxDepth = clf2.best_params_['max_depth']\n",
    "print(\"BEST MAX DEPTH: \",clf2.best_params_['max_depth'],\" BEST SCORE: \",clf2.best_score_,\"BEST MIN SAMPLE SPLIT: \",clf2.best_params_['min_samples_split'])"
   ]
  },
  {
   "cell_type": "markdown",
   "id": "6bcd6db1",
   "metadata": {
    "id": "m2AR5wLEZgzt",
    "papermill": {
     "duration": 0.044195,
     "end_time": "2023-04-26T14:52:37.472837",
     "exception": false,
     "start_time": "2023-04-26T14:52:37.428642",
     "status": "completed"
    },
    "tags": []
   },
   "source": [
    "### Heat Map"
   ]
  },
  {
   "cell_type": "code",
   "execution_count": 52,
   "id": "564e68ce",
   "metadata": {
    "execution": {
     "iopub.execute_input": "2023-04-26T14:52:37.565237Z",
     "iopub.status.busy": "2023-04-26T14:52:37.564327Z",
     "iopub.status.idle": "2023-04-26T14:52:38.744392Z",
     "shell.execute_reply": "2023-04-26T14:52:38.743546Z"
    },
    "id": "v-v_WMjTNQ6n",
    "outputId": "93624c01-e4b3-4604-eddf-9a43f38d24e7",
    "papermill": {
     "duration": 1.229666,
     "end_time": "2023-04-26T14:52:38.746630",
     "exception": false,
     "start_time": "2023-04-26T14:52:37.516964",
     "status": "completed"
    },
    "tags": []
   },
   "outputs": [
    {
     "data": {
      "image/png": "[encoded data removed]",
      "text/plain": [
       "<Figure size 1440x432 with 4 Axes>"
      ]
     },
     "metadata": {
      "needs_background": "light"
     },
     "output_type": "display_data"
    }
   ],
   "source": [
    "max_scores2 = pd.DataFrame(clf2.cv_results_).groupby(['param_min_samples_split', 'param_max_depth']).max().unstack()[['mean_test_score', 'mean_train_score']]\n",
    "fig, ax = plt.subplots(1,2, figsize=(20,6))\n",
    "sns.heatmap(max_scores2.mean_train_score, annot = True, fmt='.4g', ax=ax[0],annot_kws={\"size\": 26})\n",
    "sns.heatmap(max_scores2.mean_test_score, annot = True, fmt='.4g', ax=ax[1],annot_kws={\"size\": 26},cmap=\"YlGnBu\")\n",
    "ax[0].set_title('Train Set')\n",
    "ax[1].set_title('CV Set')\n",
    "plt.show()"
   ]
  },
  {
   "cell_type": "code",
   "execution_count": 53,
   "id": "6567087a",
   "metadata": {
    "execution": {
     "iopub.execute_input": "2023-04-26T14:52:38.841178Z",
     "iopub.status.busy": "2023-04-26T14:52:38.840434Z",
     "iopub.status.idle": "2023-04-26T14:52:38.846982Z",
     "shell.execute_reply": "2023-04-26T14:52:38.845921Z"
    },
    "id": "jStyjN-eNR44",
    "outputId": "399439f5-126f-461b-f477-069f2d7467f9",
    "papermill": {
     "duration": 0.055922,
     "end_time": "2023-04-26T14:52:38.849110",
     "exception": false,
     "start_time": "2023-04-26T14:52:38.793188",
     "status": "completed"
    },
    "tags": []
   },
   "outputs": [
    {
     "data": {
      "text/plain": [
       "array([ 2.00037392,  2.05521115,  2.0408268 ,  7.51425989,  6.19186799,\n",
       "        5.12210496, 48.56486607, 36.10625609, 24.57210811])"
      ]
     },
     "execution_count": 53,
     "metadata": {},
     "output_type": "execute_result"
    }
   ],
   "source": [
    "clf2.cv_results_['mean_fit_time']"
   ]
  },
  {
   "cell_type": "markdown",
   "id": "653ad757",
   "metadata": {
    "id": "ao0meaMGZxcn",
    "papermill": {
     "duration": 0.046258,
     "end_time": "2023-04-26T14:52:38.942087",
     "exception": false,
     "start_time": "2023-04-26T14:52:38.895829",
     "status": "completed"
    },
    "tags": []
   },
   "source": [
    "### The best hyper parameter found which will give the maximum AUC value using k-fold cross validation(used gridsearch cv)"
   ]
  },
  {
   "cell_type": "markdown",
   "id": "4ba51b0c",
   "metadata": {
    "papermill": {
     "duration": 0.049824,
     "end_time": "2023-04-26T14:52:39.038968",
     "exception": false,
     "start_time": "2023-04-26T14:52:38.989144",
     "status": "completed"
    },
    "tags": []
   },
   "source": [
    "### Results"
   ]
  },
  {
   "cell_type": "code",
   "execution_count": 54,
   "id": "b53bca42",
   "metadata": {
    "execution": {
     "iopub.execute_input": "2023-04-26T14:52:39.133847Z",
     "iopub.status.busy": "2023-04-26T14:52:39.133111Z",
     "iopub.status.idle": "2023-04-26T14:52:39.144198Z",
     "shell.execute_reply": "2023-04-26T14:52:39.143507Z"
    },
    "id": "5h6vIoM4NVQ9",
    "outputId": "9fcacb03-2168-43e5-c6b1-ecc927708ab4",
    "papermill": {
     "duration": 0.060006,
     "end_time": "2023-04-26T14:52:39.146100",
     "exception": false,
     "start_time": "2023-04-26T14:52:39.086094",
     "status": "completed"
    },
    "tags": []
   },
   "outputs": [
    {
     "data": {
      "text/plain": [
       "{'mean_fit_time': array([ 2.00037392,  2.05521115,  2.0408268 ,  7.51425989,  6.19186799,\n",
       "         5.12210496, 48.56486607, 36.10625609, 24.57210811]),\n",
       " 'std_fit_time': array([0.03650651, 0.0288507 , 0.04985075, 0.50979195, 0.26464966,\n",
       "        0.15202654, 0.81705178, 0.80643526, 2.81155458]),\n",
       " 'mean_score_time': array([0.03015073, 0.04400237, 0.03446364, 0.03263156, 0.03428467,\n",
       "        0.03598436, 0.04001045, 0.03652382, 0.03540119]),\n",
       " 'std_score_time': array([0.00210761, 0.01902166, 0.00475362, 0.00240915, 0.00055116,\n",
       "        0.00287228, 0.0005588 , 0.00494583, 0.00468072]),\n",
       " 'param_max_depth': masked_array(data=[5, 5, 5, 10, 10, 10, 50, 50, 50],\n",
       "              mask=[False, False, False, False, False, False, False, False,\n",
       "                    False],\n",
       "        fill_value='?',\n",
       "             dtype=object),\n",
       " 'param_min_samples_split': masked_array(data=[10, 100, 500, 10, 100, 500, 10, 100, 500],\n",
       "              mask=[False, False, False, False, False, False, False, False,\n",
       "                    False],\n",
       "        fill_value='?',\n",
       "             dtype=object),\n",
       " 'params': [{'max_depth': 5, 'min_samples_split': 10},\n",
       "  {'max_depth': 5, 'min_samples_split': 100},\n",
       "  {'max_depth': 5, 'min_samples_split': 500},\n",
       "  {'max_depth': 10, 'min_samples_split': 10},\n",
       "  {'max_depth': 10, 'min_samples_split': 100},\n",
       "  {'max_depth': 10, 'min_samples_split': 500},\n",
       "  {'max_depth': 50, 'min_samples_split': 10},\n",
       "  {'max_depth': 50, 'min_samples_split': 100},\n",
       "  {'max_depth': 50, 'min_samples_split': 500}],\n",
       " 'split0_test_score': array([0.66080781, 0.66090304, 0.66090304, 0.66674918, 0.66726015,\n",
       "        0.66938919, 0.58597499, 0.6100124 , 0.62524374]),\n",
       " 'split1_test_score': array([0.65990508, 0.65990508, 0.65990508, 0.66154216, 0.66219731,\n",
       "        0.66474328, 0.59235295, 0.61173427, 0.62184304]),\n",
       " 'split2_test_score': array([0.65380981, 0.65376421, 0.65376421, 0.65492147, 0.6559529 ,\n",
       "        0.65909983, 0.58845869, 0.6052818 , 0.61278946]),\n",
       " 'mean_test_score': array([0.65817423, 0.65819078, 0.65819078, 0.66107094, 0.66180345,\n",
       "        0.66441077, 0.58892888, 0.60900949, 0.61995875]),\n",
       " 'std_test_score': array([0.00310804, 0.00315646, 0.00315646, 0.00484012, 0.00462456,\n",
       "        0.00420719, 0.00262493, 0.002728  , 0.00525612]),\n",
       " 'rank_test_score': array([6, 4, 4, 3, 2, 1, 9, 8, 7], dtype=int32),\n",
       " 'split0_train_score': array([0.66781064, 0.66746505, 0.6672597 , 0.72519881, 0.71527848,\n",
       "        0.70661715, 0.92741162, 0.87404303, 0.82136914]),\n",
       " 'split1_train_score': array([0.67028903, 0.67028903, 0.67008311, 0.72859472, 0.71904443,\n",
       "        0.70818261, 0.92868382, 0.87444982, 0.82700179]),\n",
       " 'split2_train_score': array([0.67128914, 0.67107137, 0.67095804, 0.73564336, 0.72732729,\n",
       "        0.71466688, 0.91570813, 0.87255975, 0.83386935]),\n",
       " 'mean_train_score': array([0.66979627, 0.66960849, 0.66943362, 0.7298123 , 0.72055007,\n",
       "        0.70982221, 0.92393452, 0.8736842 , 0.82741343]),\n",
       " 'std_train_score': array([0.00146221, 0.00154892, 0.00157815, 0.00435002, 0.0050328 ,\n",
       "        0.0034848 , 0.00584008, 0.00081226, 0.00511149])}"
      ]
     },
     "execution_count": 54,
     "metadata": {},
     "output_type": "execute_result"
    }
   ],
   "source": [
    "clf2.cv_results_"
   ]
  },
  {
   "cell_type": "markdown",
   "id": "5b7b98fe",
   "metadata": {
    "id": "fXd964dhZtRR",
    "papermill": {
     "duration": 0.045494,
     "end_time": "2023-04-26T14:52:39.237488",
     "exception": false,
     "start_time": "2023-04-26T14:52:39.191994",
     "status": "completed"
    },
    "tags": []
   },
   "source": [
    "### **ROC curve**"
   ]
  },
  {
   "cell_type": "code",
   "execution_count": 55,
   "id": "f8d4f9a8",
   "metadata": {
    "execution": {
     "iopub.execute_input": "2023-04-26T14:52:39.332149Z",
     "iopub.status.busy": "2023-04-26T14:52:39.331455Z",
     "iopub.status.idle": "2023-04-26T14:52:39.870544Z",
     "shell.execute_reply": "2023-04-26T14:52:39.869528Z"
    },
    "id": "nXungy-jNcxm",
    "outputId": "a26c118c-7d17-47fa-e857-8708515aba88",
    "papermill": {
     "duration": 0.588914,
     "end_time": "2023-04-26T14:52:39.873036",
     "exception": false,
     "start_time": "2023-04-26T14:52:39.284122",
     "status": "completed"
    },
    "tags": []
   },
   "outputs": [
    {
     "name": "stderr",
     "output_type": "stream",
     "text": [
      "/opt/conda/lib/python3.7/site-packages/ipykernel_launcher.py:23: MatplotlibDeprecationWarning:\n",
      "\n",
      "The 'b' parameter of grid() has been renamed 'visible' since Matplotlib 3.5; support for the old name will be dropped two minor releases later.\n",
      "\n"
     ]
    },
    {
     "data": {
      "image/png": "[encoded data removed]",
      "text/plain": [
       "<Figure size 432x288 with 1 Axes>"
      ]
     },
     "metadata": {
      "needs_background": "light"
     },
     "output_type": "display_data"
    }
   ],
   "source": [
    "y_train_pred=clf2.predict_proba(X_train_BoW_merge)[:,1]\n",
    "predictions_train_set2=clf2.predict(X_train_BoW_merge)\n",
    "\n",
    "y_test_pred=clf2.predict_proba(X_test_BoW_merge)[:,1]\n",
    "predictions_test_set2=clf2.predict(X_test_BoW_merge)\n",
    "\n",
    "\n",
    "train_fpr, train_tpr, tr_thresholds = roc_curve(y_train_case1, y_train_pred)\n",
    "test_fpr, test_tpr, te_thresholds = roc_curve(y_test_case1, y_test_pred)\n",
    "\n",
    "ax = plt.subplot()\n",
    "\n",
    "auc_set2_train=auc(train_fpr, train_tpr)\n",
    "auc_set2_test=auc(test_fpr, test_tpr)\n",
    "case1_aucTest = auc_set2_test\n",
    "\n",
    "ax.plot(train_fpr, train_tpr, label=\"Train AUC =\"+str(auc(train_fpr, train_tpr)))\n",
    "ax.plot(test_fpr, test_tpr, label=\"Test AUC =\"+str(auc(test_fpr, test_tpr)))\n",
    "plt.legend()\n",
    "plt.xlabel(\"False Positive Rate(FPR)\")\n",
    "plt.ylabel(\"True Positive Rate(TPR)\")\n",
    "plt.title(\"AUC\")\n",
    "plt.grid(b=True, which='major', color='k', linestyle=':')\n",
    "ax.set_facecolor(\"white\")\n",
    "plt.show()"
   ]
  },
  {
   "cell_type": "markdown",
   "id": "5e6bde49",
   "metadata": {
    "id": "fOnVu-hEaCI9",
    "papermill": {
     "duration": 0.046335,
     "end_time": "2023-04-26T14:52:39.966272",
     "exception": false,
     "start_time": "2023-04-26T14:52:39.919937",
     "status": "completed"
    },
    "tags": []
   },
   "source": [
    "### **Confusion matrix**"
   ]
  },
  {
   "cell_type": "code",
   "execution_count": 56,
   "id": "1da14ba2",
   "metadata": {
    "execution": {
     "iopub.execute_input": "2023-04-26T14:52:40.062360Z",
     "iopub.status.busy": "2023-04-26T14:52:40.061937Z",
     "iopub.status.idle": "2023-04-26T14:52:40.069708Z",
     "shell.execute_reply": "2023-04-26T14:52:40.068549Z"
    },
    "id": "G9GtlrlUjgW9",
    "papermill": {
     "duration": 0.058749,
     "end_time": "2023-04-26T14:52:40.072116",
     "exception": false,
     "start_time": "2023-04-26T14:52:40.013367",
     "status": "completed"
    },
    "tags": []
   },
   "outputs": [],
   "source": [
    "def predict(proba, threshould, fpr, tpr):\n",
    "    t = threshould[np.argmax(tpr*(1-fpr))]\n",
    "    # (tpr*(1-fpr)) will be maximum if your fpr is very low and tpr is very high\n",
    "    print(\"the maximum value of tpr*(1-fpr)\", max(tpr*(1-fpr)), \"for threshold\", np.round(t,3))\n",
    "    predictions = []\n",
    "    for i in proba:\n",
    "        if i>=t:\n",
    "            predictions.append(1)\n",
    "        else:\n",
    "            predictions.append(0)\n",
    "\n",
    "    return predictions"
   ]
  },
  {
   "cell_type": "code",
   "execution_count": 57,
   "id": "066a72da",
   "metadata": {
    "execution": {
     "iopub.execute_input": "2023-04-26T14:52:40.167639Z",
     "iopub.status.busy": "2023-04-26T14:52:40.167190Z",
     "iopub.status.idle": "2023-04-26T14:52:40.523131Z",
     "shell.execute_reply": "2023-04-26T14:52:40.521917Z"
    },
    "id": "wy1pTvcUaGCO",
    "outputId": "65918f8b-5b78-40ea-b595-acef54d0a797",
    "papermill": {
     "duration": 0.406417,
     "end_time": "2023-04-26T14:52:40.525458",
     "exception": false,
     "start_time": "2023-04-26T14:52:40.119041",
     "status": "completed"
    },
    "tags": []
   },
   "outputs": [
    {
     "name": "stdout",
     "output_type": "stream",
     "text": [
      "the maximum value of tpr*(1-fpr) 0.4258493490313738 for threshold 0.492\n",
      "[[ 8941  4248]\n",
      " [27580 46595]]\n",
      "the maximum value of tpr*(1-fpr) 0.4258493490313738 for threshold 0.492\n"
     ]
    },
    {
     "data": {
      "text/plain": [
       "<AxesSubplot:>"
      ]
     },
     "execution_count": 57,
     "metadata": {},
     "output_type": "execute_result"
    },
    {
     "data": {
      "image/png": "[encoded data removed]",
      "text/plain": [
       "<Figure size 432x288 with 2 Axes>"
      ]
     },
     "metadata": {},
     "output_type": "display_data"
    }
   ],
   "source": [
    "print(confusion_matrix(y_train_case1, predict(y_train_pred, tr_thresholds, train_fpr, train_tpr)))\n",
    "\n",
    "conf_matr_df_train_case1 = pd.DataFrame(confusion_matrix(y_train_case1, predict(y_train_pred, tr_thresholds,train_fpr, train_tpr)), range(2),range(2))\n",
    "sns.set(font_scale=1.4)#for label size\n",
    "sns.heatmap(conf_matr_df_train_case1, annot=True,annot_kws={\"size\": 26}, fmt='g',cmap=\"YlGnBu\")"
   ]
  },
  {
   "cell_type": "code",
   "execution_count": 58,
   "id": "ed94e322",
   "metadata": {
    "execution": {
     "iopub.execute_input": "2023-04-26T14:52:40.623354Z",
     "iopub.status.busy": "2023-04-26T14:52:40.622965Z",
     "iopub.status.idle": "2023-04-26T14:52:40.876953Z",
     "shell.execute_reply": "2023-04-26T14:52:40.875853Z"
    },
    "id": "1KPeDnUmlqlO",
    "outputId": "7cf6cc0a-24c8-4d14-c91f-67b0dfee389f",
    "papermill": {
     "duration": 0.305011,
     "end_time": "2023-04-26T14:52:40.879318",
     "exception": false,
     "start_time": "2023-04-26T14:52:40.574307",
     "status": "completed"
    },
    "tags": []
   },
   "outputs": [
    {
     "name": "stdout",
     "output_type": "stream",
     "text": [
      "the maximum value of tpr*(1-fpr) 0.4258493490313738 for threshold 0.492\n",
      "[[2529  807]\n",
      " [9823 8682]]\n",
      "the maximum value of tpr*(1-fpr) 0.4258493490313738 for threshold 0.492\n"
     ]
    },
    {
     "data": {
      "text/plain": [
       "<AxesSubplot:>"
      ]
     },
     "execution_count": 58,
     "metadata": {},
     "output_type": "execute_result"
    },
    {
     "data": {
      "image/png": "[encoded data removed]",
      "text/plain": [
       "<Figure size 432x288 with 2 Axes>"
      ]
     },
     "metadata": {},
     "output_type": "display_data"
    }
   ],
   "source": [
    "print(confusion_matrix(y_test_case1, predict(y_test_pred, tr_thresholds, train_fpr, train_tpr)))\n",
    "\n",
    "conf_matr_df_train_case2 = pd.DataFrame(confusion_matrix(y_test_case1, predict(y_test_pred, tr_thresholds,train_fpr, train_tpr)), range(2),range(2))\n",
    "sns.set(font_scale=1.4)#for label size\n",
    "sns.heatmap(conf_matr_df_train_case2, annot=True,annot_kws={\"size\": 26}, fmt='g',cmap=\"YlGnBu\")"
   ]
  },
  {
   "cell_type": "markdown",
   "id": "259ab40d",
   "metadata": {
    "id": "mIj2HF2wiDxB",
    "papermill": {
     "duration": 0.048054,
     "end_time": "2023-04-26T14:52:40.975468",
     "exception": false,
     "start_time": "2023-04-26T14:52:40.927414",
     "status": "completed"
    },
    "tags": []
   },
   "source": [
    "## Perform hyper parameter tuning:\n",
    "Assign (best `depth` in range [5, 10, 50], and the best `min_samples_split` in range [10, 100, 500])"
   ]
  },
  {
   "cell_type": "code",
   "execution_count": 59,
   "id": "a0394f11",
   "metadata": {
    "execution": {
     "iopub.execute_input": "2023-04-26T14:52:41.074337Z",
     "iopub.status.busy": "2023-04-26T14:52:41.073942Z",
     "iopub.status.idle": "2023-04-26T14:53:04.574627Z",
     "shell.execute_reply": "2023-04-26T14:53:04.573312Z"
    },
    "id": "CmOmiZiKfSte",
    "outputId": "294e1acb-c52f-4431-be3f-493bf4bdd3e5",
    "papermill": {
     "duration": 23.553646,
     "end_time": "2023-04-26T14:53:04.576869",
     "exception": false,
     "start_time": "2023-04-26T14:52:41.023223",
     "status": "completed"
    },
    "tags": []
   },
   "outputs": [
    {
     "name": "stdout",
     "output_type": "stream",
     "text": [
      "Fitting 3 folds for each of 9 candidates, totalling 27 fits\n",
      "BEST MAX DEPTH:  10  BEST SCORE:  0.6586400166115512 BEST MIN SAMPLE SPLIT:  500\n"
     ]
    }
   ],
   "source": [
    "dt_case1 = DecisionTreeClassifier(class_weight='balanced')\n",
    "parameters = {'max_depth':[5, 10, 50],'min_samples_split':[10, 100, 500]}\n",
    "clf2 = GridSearchCV(dt_case1, parameters, cv= 3, scoring='roc_auc',verbose=1,return_train_score=True,n_jobs=-1)\n",
    "\n",
    "clf2.fit(X_train_TF_IDF_merge,y_train_case2)\n",
    "train_auc= clf2.cv_results_['mean_train_score']\n",
    "train_auc_std= clf2.cv_results_['std_train_score']\n",
    "cv_auc = clf2.cv_results_['mean_test_score']\n",
    "cv_auc_std= clf2.cv_results_['std_test_score']\n",
    "bestMaxDepth_2=clf2.best_params_['max_depth']\n",
    "bestMinSampleSplit_2=clf2.best_params_['min_samples_split']\n",
    "bestScore_2=clf2.best_score_\n",
    "print(\"BEST MAX DEPTH: \",clf2.best_params_['max_depth'],\" BEST SCORE: \",clf2.best_score_,\"BEST MIN SAMPLE SPLIT: \",clf2.best_params_['min_samples_split'])"
   ]
  },
  {
   "cell_type": "markdown",
   "id": "b1920007",
   "metadata": {
    "id": "qTQ1Qq1YixM8",
    "papermill": {
     "duration": 0.049089,
     "end_time": "2023-04-26T14:53:04.676034",
     "exception": false,
     "start_time": "2023-04-26T14:53:04.626945",
     "status": "completed"
    },
    "tags": []
   },
   "source": [
    "### **Heat Maps**"
   ]
  },
  {
   "cell_type": "code",
   "execution_count": 60,
   "id": "75df0de5",
   "metadata": {
    "execution": {
     "iopub.execute_input": "2023-04-26T14:53:04.773476Z",
     "iopub.status.busy": "2023-04-26T14:53:04.773082Z",
     "iopub.status.idle": "2023-04-26T14:53:05.289929Z",
     "shell.execute_reply": "2023-04-26T14:53:05.288921Z"
    },
    "id": "mcPIZrqEfS61",
    "outputId": "670485b9-617e-4f0f-c579-31790e6ddb0f",
    "papermill": {
     "duration": 0.569145,
     "end_time": "2023-04-26T14:53:05.293044",
     "exception": false,
     "start_time": "2023-04-26T14:53:04.723899",
     "status": "completed"
    },
    "tags": []
   },
   "outputs": [
    {
     "data": {
      "image/png": "[encoded data removed]",
      "text/plain": [
       "<Figure size 1440x432 with 4 Axes>"
      ]
     },
     "metadata": {},
     "output_type": "display_data"
    }
   ],
   "source": [
    "sns.set()\n",
    "max_scores2 = pd.DataFrame(clf2.cv_results_).groupby(['param_min_samples_split', 'param_max_depth']).max().unstack()[['mean_test_score', 'mean_train_score']]\n",
    "fig, ax = plt.subplots(1,2, figsize=(20,6))\n",
    "sns.heatmap(max_scores2.mean_train_score, annot = True, fmt='.4g', ax=ax[0],annot_kws={\"size\": 26})\n",
    "sns.heatmap(max_scores2.mean_test_score, annot = True, fmt='.4g', ax=ax[1],annot_kws={\"size\": 26},cmap=\"YlGnBu\")\n",
    "ax[0].set_title('Train Set')\n",
    "ax[1].set_title('CV Set')\n",
    "plt.show()"
   ]
  },
  {
   "cell_type": "code",
   "execution_count": 61,
   "id": "d8df3ac2",
   "metadata": {
    "execution": {
     "iopub.execute_input": "2023-04-26T14:53:05.396188Z",
     "iopub.status.busy": "2023-04-26T14:53:05.395790Z",
     "iopub.status.idle": "2023-04-26T14:53:05.402527Z",
     "shell.execute_reply": "2023-04-26T14:53:05.401671Z"
    },
    "id": "uLYzA2CWfTOr",
    "outputId": "613c9c3e-77db-494b-9f3b-1c9ec12b844f",
    "papermill": {
     "duration": 0.060404,
     "end_time": "2023-04-26T14:53:05.404573",
     "exception": false,
     "start_time": "2023-04-26T14:53:05.344169",
     "status": "completed"
    },
    "tags": []
   },
   "outputs": [
    {
     "data": {
      "text/plain": [
       "array([ 0.52177882,  0.505229  ,  0.47789582,  1.59114941,  1.44119406,\n",
       "        1.19988322, 10.33025503,  6.8759977 ,  3.66110595])"
      ]
     },
     "execution_count": 61,
     "metadata": {},
     "output_type": "execute_result"
    }
   ],
   "source": [
    "clf2.cv_results_['mean_fit_time']"
   ]
  },
  {
   "cell_type": "markdown",
   "id": "16e82184",
   "metadata": {
    "id": "yi_FmxTKi0SH",
    "papermill": {
     "duration": 0.050085,
     "end_time": "2023-04-26T14:53:05.504136",
     "exception": false,
     "start_time": "2023-04-26T14:53:05.454051",
     "status": "completed"
    },
    "tags": []
   },
   "source": [
    "### **Result**"
   ]
  },
  {
   "cell_type": "code",
   "execution_count": 62,
   "id": "983ffe4f",
   "metadata": {
    "execution": {
     "iopub.execute_input": "2023-04-26T14:53:05.604389Z",
     "iopub.status.busy": "2023-04-26T14:53:05.603976Z",
     "iopub.status.idle": "2023-04-26T14:53:05.616447Z",
     "shell.execute_reply": "2023-04-26T14:53:05.615426Z"
    },
    "id": "0ADWNNixfgHn",
    "outputId": "a079027c-8ed6-439a-9d28-52b3bac241bd",
    "papermill": {
     "duration": 0.065145,
     "end_time": "2023-04-26T14:53:05.618473",
     "exception": false,
     "start_time": "2023-04-26T14:53:05.553328",
     "status": "completed"
    },
    "tags": []
   },
   "outputs": [
    {
     "data": {
      "text/plain": [
       "{'mean_fit_time': array([ 0.52177882,  0.505229  ,  0.47789582,  1.59114941,  1.44119406,\n",
       "         1.19988322, 10.33025503,  6.8759977 ,  3.66110595]),\n",
       " 'std_fit_time': array([0.00437976, 0.03666556, 0.00699187, 0.05635538, 0.06739168,\n",
       "        0.01485856, 0.24118323, 0.33442724, 0.50889357]),\n",
       " 'mean_score_time': array([0.02885461, 0.02325996, 0.02004091, 0.02057028, 0.02041856,\n",
       "        0.0205489 , 0.05391518, 0.02358643, 0.0214595 ]),\n",
       " 'std_score_time': array([0.0023129 , 0.00423646, 0.0004211 , 0.0003658 , 0.00040825,\n",
       "        0.00019725, 0.00409184, 0.00331478, 0.00302668]),\n",
       " 'param_max_depth': masked_array(data=[5, 5, 5, 10, 10, 10, 50, 50, 50],\n",
       "              mask=[False, False, False, False, False, False, False, False,\n",
       "                    False],\n",
       "        fill_value='?',\n",
       "             dtype=object),\n",
       " 'param_min_samples_split': masked_array(data=[10, 100, 500, 10, 100, 500, 10, 100, 500],\n",
       "              mask=[False, False, False, False, False, False, False, False,\n",
       "                    False],\n",
       "        fill_value='?',\n",
       "             dtype=object),\n",
       " 'params': [{'max_depth': 5, 'min_samples_split': 10},\n",
       "  {'max_depth': 5, 'min_samples_split': 100},\n",
       "  {'max_depth': 5, 'min_samples_split': 500},\n",
       "  {'max_depth': 10, 'min_samples_split': 10},\n",
       "  {'max_depth': 10, 'min_samples_split': 100},\n",
       "  {'max_depth': 10, 'min_samples_split': 500},\n",
       "  {'max_depth': 50, 'min_samples_split': 10},\n",
       "  {'max_depth': 50, 'min_samples_split': 100},\n",
       "  {'max_depth': 50, 'min_samples_split': 500}],\n",
       " 'split0_test_score': array([0.65556597, 0.65556597, 0.655701  , 0.65000486, 0.65344185,\n",
       "        0.65740565, 0.55943627, 0.60293923, 0.62978346]),\n",
       " 'split1_test_score': array([0.6601443 , 0.6600893 , 0.66005534, 0.65225879, 0.65503969,\n",
       "        0.66116613, 0.54942426, 0.60253986, 0.63991431]),\n",
       " 'split2_test_score': array([0.65888694, 0.65928925, 0.65960552, 0.65131352, 0.6524032 ,\n",
       "        0.65734827, 0.5532977 , 0.59888518, 0.63343033]),\n",
       " 'mean_test_score': array([0.65819907, 0.65831484, 0.65845395, 0.65119239, 0.65362825,\n",
       "        0.65864002, 0.55405274, 0.60145476, 0.63437603]),\n",
       " 'std_test_score': array([0.00193134, 0.001971  , 0.00195528, 0.00092414, 0.00108438,\n",
       "        0.00178639, 0.00412211, 0.00182427, 0.00418961]),\n",
       " 'rank_test_score': array([4, 3, 2, 6, 5, 1, 9, 8, 7], dtype=int32),\n",
       " 'split0_train_score': array([0.67117886, 0.67117886, 0.67042782, 0.72202676, 0.71325255,\n",
       "        0.70200278, 0.95884611, 0.85253744, 0.76607148]),\n",
       " 'split1_train_score': array([0.6681799 , 0.66802318, 0.66745606, 0.72513356, 0.7161291 ,\n",
       "        0.70111848, 0.96832025, 0.85033067, 0.75268736]),\n",
       " 'split2_train_score': array([0.66954302, 0.66922082, 0.66900117, 0.72285484, 0.70983416,\n",
       "        0.70042715, 0.96653054, 0.84652482, 0.76361474]),\n",
       " 'mean_train_score': array([0.66963392, 0.66947429, 0.66896169, 0.72333839, 0.71307194,\n",
       "        0.70118281, 0.96456563, 0.84979764, 0.76079119]),\n",
       " 'std_train_score': array([0.00122601, 0.00130071, 0.00121354, 0.00131362, 0.00257307,\n",
       "        0.00064485, 0.00410978, 0.00248341, 0.00581738])}"
      ]
     },
     "execution_count": 62,
     "metadata": {},
     "output_type": "execute_result"
    }
   ],
   "source": [
    "clf2.cv_results_"
   ]
  },
  {
   "cell_type": "markdown",
   "id": "d76da1ab",
   "metadata": {
    "id": "3PDZjzyWi4bc",
    "papermill": {
     "duration": 0.04937,
     "end_time": "2023-04-26T14:53:05.718218",
     "exception": false,
     "start_time": "2023-04-26T14:53:05.668848",
     "status": "completed"
    },
    "tags": []
   },
   "source": [
    "### **ROC curve**"
   ]
  },
  {
   "cell_type": "code",
   "execution_count": 63,
   "id": "27971fb3",
   "metadata": {
    "execution": {
     "iopub.execute_input": "2023-04-26T14:53:05.820268Z",
     "iopub.status.busy": "2023-04-26T14:53:05.819546Z",
     "iopub.status.idle": "2023-04-26T14:53:06.136851Z",
     "shell.execute_reply": "2023-04-26T14:53:06.135729Z"
    },
    "id": "qjbtS1jUfTpn",
    "outputId": "0780ffbe-38fe-42ef-f2e1-a694ef89794b",
    "papermill": {
     "duration": 0.370913,
     "end_time": "2023-04-26T14:53:06.139487",
     "exception": false,
     "start_time": "2023-04-26T14:53:05.768574",
     "status": "completed"
    },
    "tags": []
   },
   "outputs": [
    {
     "name": "stderr",
     "output_type": "stream",
     "text": [
      "/opt/conda/lib/python3.7/site-packages/ipykernel_launcher.py:23: MatplotlibDeprecationWarning:\n",
      "\n",
      "The 'b' parameter of grid() has been renamed 'visible' since Matplotlib 3.5; support for the old name will be dropped two minor releases later.\n",
      "\n"
     ]
    },
    {
     "data": {
      "image/png": "[encoded data removed]",
      "text/plain": [
       "<Figure size 432x288 with 1 Axes>"
      ]
     },
     "metadata": {},
     "output_type": "display_data"
    }
   ],
   "source": [
    "y_train_pred=clf2.predict_proba(X_train_TF_IDF_merge)[:,1]\n",
    "predictions_train_set2=clf2.predict(X_train_TF_IDF_merge)\n",
    "\n",
    "y_test_pred=clf2.predict_proba(X_test_TF_IDF_merge)[:,1]\n",
    "predictions_test_set2=clf2.predict(X_test_TF_IDF_merge)\n",
    "\n",
    "\n",
    "train_fpr, train_tpr, tr_thresholds = roc_curve(y_train_case2, y_train_pred)\n",
    "test_fpr, test_tpr, te_thresholds = roc_curve(y_test_case2, y_test_pred)\n",
    "\n",
    "ax = plt.subplot()\n",
    "\n",
    "auc_set2_train=auc(train_fpr, train_tpr)\n",
    "auc_set2_test=auc(test_fpr, test_tpr)\n",
    "\n",
    "\n",
    "ax.plot(train_fpr, train_tpr, label=\"Train AUC =\"+str(auc(train_fpr, train_tpr)))\n",
    "ax.plot(test_fpr, test_tpr, label=\"Test AUC =\"+str(auc(test_fpr, test_tpr)))\n",
    "plt.legend()\n",
    "plt.xlabel(\"False Positive Rate(FPR)\")\n",
    "plt.ylabel(\"True Positive Rate(TPR)\")\n",
    "plt.title(\"AUC\")\n",
    "plt.grid(b=True, which='major', color='k', linestyle=':')\n",
    "ax.set_facecolor(\"white\")\n",
    "plt.show()"
   ]
  },
  {
   "cell_type": "markdown",
   "id": "cb5ff3e4",
   "metadata": {
    "id": "o136228-i_a_",
    "papermill": {
     "duration": 0.049405,
     "end_time": "2023-04-26T14:53:06.239622",
     "exception": false,
     "start_time": "2023-04-26T14:53:06.190217",
     "status": "completed"
    },
    "tags": []
   },
   "source": [
    "### **Confusion Matrix**"
   ]
  },
  {
   "cell_type": "markdown",
   "id": "73f94947",
   "metadata": {
    "id": "UorG5ko2lhlL",
    "papermill": {
     "duration": 0.050455,
     "end_time": "2023-04-26T14:53:06.340713",
     "exception": false,
     "start_time": "2023-04-26T14:53:06.290258",
     "status": "completed"
    },
    "tags": []
   },
   "source": [
    "### Train Data"
   ]
  },
  {
   "cell_type": "code",
   "execution_count": 64,
   "id": "be8e5dda",
   "metadata": {
    "execution": {
     "iopub.execute_input": "2023-04-26T14:53:06.445561Z",
     "iopub.status.busy": "2023-04-26T14:53:06.444320Z",
     "iopub.status.idle": "2023-04-26T14:53:06.776216Z",
     "shell.execute_reply": "2023-04-26T14:53:06.775225Z"
    },
    "id": "bBn2THCufT2w",
    "outputId": "176029f6-cb91-49e9-b9c8-b0e61e734eac",
    "papermill": {
     "duration": 0.386851,
     "end_time": "2023-04-26T14:53:06.778637",
     "exception": false,
     "start_time": "2023-04-26T14:53:06.391786",
     "status": "completed"
    },
    "tags": []
   },
   "outputs": [
    {
     "name": "stdout",
     "output_type": "stream",
     "text": [
      "the maximum value of tpr*(1-fpr) 0.413294988908384 for threshold 0.482\n",
      "[[ 8801  4356]\n",
      " [28358 45849]]\n",
      "the maximum value of tpr*(1-fpr) 0.413294988908384 for threshold 0.482\n"
     ]
    },
    {
     "data": {
      "text/plain": [
       "<AxesSubplot:>"
      ]
     },
     "execution_count": 64,
     "metadata": {},
     "output_type": "execute_result"
    },
    {
     "data": {
      "image/png": "[encoded data removed]",
      "text/plain": [
       "<Figure size 432x288 with 2 Axes>"
      ]
     },
     "metadata": {},
     "output_type": "display_data"
    }
   ],
   "source": [
    "print(confusion_matrix(y_train_case2, predict(y_train_pred, tr_thresholds, train_fpr, train_tpr)))\n",
    "\n",
    "conf_matr_df_train_case2 = pd.DataFrame(confusion_matrix(y_train_case2, predict(y_train_pred, tr_thresholds,train_fpr, train_tpr)), range(2),range(2))\n",
    "sns.set(font_scale=1.4)#for label size\n",
    "sns.heatmap(conf_matr_df_train_case2, annot=True,annot_kws={\"size\": 26}, fmt='g',cmap=\"YlGnBu\")"
   ]
  },
  {
   "cell_type": "markdown",
   "id": "ebf906ae",
   "metadata": {
    "id": "0re0XQr7lnHB",
    "papermill": {
     "duration": 0.05032,
     "end_time": "2023-04-26T14:53:06.882047",
     "exception": false,
     "start_time": "2023-04-26T14:53:06.831727",
     "status": "completed"
    },
    "tags": []
   },
   "source": [
    "### Test Data"
   ]
  },
  {
   "cell_type": "code",
   "execution_count": 65,
   "id": "17c3b1dd",
   "metadata": {
    "execution": {
     "iopub.execute_input": "2023-04-26T14:53:06.985395Z",
     "iopub.status.busy": "2023-04-26T14:53:06.984297Z",
     "iopub.status.idle": "2023-04-26T14:53:07.256987Z",
     "shell.execute_reply": "2023-04-26T14:53:07.256035Z"
    },
    "id": "3JCq9jdblEku",
    "outputId": "6279c2e7-e4ba-49ef-d039-758eb508a8f5",
    "papermill": {
     "duration": 0.326554,
     "end_time": "2023-04-26T14:53:07.259195",
     "exception": false,
     "start_time": "2023-04-26T14:53:06.932641",
     "status": "completed"
    },
    "tags": []
   },
   "outputs": [
    {
     "name": "stdout",
     "output_type": "stream",
     "text": [
      "the maximum value of tpr*(1-fpr) 0.413294988908384 for threshold 0.482\n",
      "[[ 2672   696]\n",
      " [10983  7490]]\n",
      "the maximum value of tpr*(1-fpr) 0.413294988908384 for threshold 0.482\n"
     ]
    },
    {
     "data": {
      "text/plain": [
       "<AxesSubplot:>"
      ]
     },
     "execution_count": 65,
     "metadata": {},
     "output_type": "execute_result"
    },
    {
     "data": {
      "image/png": "[encoded data removed]",
      "text/plain": [
       "<Figure size 432x288 with 2 Axes>"
      ]
     },
     "metadata": {},
     "output_type": "display_data"
    }
   ],
   "source": [
    "print(confusion_matrix(y_test_case2, predict(y_test_pred, tr_thresholds, train_fpr, train_tpr)))\n",
    "\n",
    "conf_matr_df_train_case2 = pd.DataFrame(confusion_matrix(y_test_case2, predict(y_test_pred, tr_thresholds,train_fpr, train_tpr)), range(2),range(2))\n",
    "sns.set(font_scale=1.4)#for label size\n",
    "sns.heatmap(conf_matr_df_train_case2, annot=True,annot_kws={\"size\": 26}, fmt='g',cmap=\"YlGnBu\")"
   ]
  },
  {
   "cell_type": "markdown",
   "id": "24acfc81",
   "metadata": {
    "id": "kWngyh4nkUEc",
    "papermill": {
     "duration": 0.050697,
     "end_time": "2023-04-26T14:53:07.361194",
     "exception": false,
     "start_time": "2023-04-26T14:53:07.310497",
     "status": "completed"
    },
    "tags": []
   },
   "source": [
    "## **Performance Evaluation**"
   ]
  },
  {
   "cell_type": "markdown",
   "id": "04ef71f1",
   "metadata": {
    "id": "bd5ZroY-L6zT",
    "papermill": {
     "duration": 0.051656,
     "end_time": "2023-04-26T14:53:07.464831",
     "exception": false,
     "start_time": "2023-04-26T14:53:07.413175",
     "status": "completed"
    },
    "tags": []
   },
   "source": [
    "### **Confusion matrix**"
   ]
  },
  {
   "cell_type": "code",
   "execution_count": 66,
   "id": "16e45c34",
   "metadata": {
    "execution": {
     "iopub.execute_input": "2023-04-26T14:53:07.569146Z",
     "iopub.status.busy": "2023-04-26T14:53:07.568716Z",
     "iopub.status.idle": "2023-04-26T14:53:07.575775Z",
     "shell.execute_reply": "2023-04-26T14:53:07.574770Z"
    },
    "id": "P-GcKfZrL6zT",
    "papermill": {
     "duration": 0.061612,
     "end_time": "2023-04-26T14:53:07.577654",
     "exception": false,
     "start_time": "2023-04-26T14:53:07.516042",
     "status": "completed"
    },
    "tags": []
   },
   "outputs": [],
   "source": [
    "def predict(proba, threshould, fpr, tpr):\n",
    "    t = threshould[np.argmax(tpr*(1-fpr))]\n",
    "    # (tpr*(1-fpr)) will be maximum if your fpr is very low and tpr is very high\n",
    "    print(\"the maximum value of tpr*(1-fpr)\", max(tpr*(1-fpr)), \"for threshold\", np.round(t,3))\n",
    "    predictions = []\n",
    "    for i in proba:\n",
    "        if i>=t:\n",
    "            predictions.append(1)\n",
    "        else:\n",
    "            predictions.append(0)\n",
    "\n",
    "    return predictions"
   ]
  },
  {
   "cell_type": "code",
   "execution_count": 67,
   "id": "9be8b285",
   "metadata": {
    "execution": {
     "iopub.execute_input": "2023-04-26T14:53:07.682051Z",
     "iopub.status.busy": "2023-04-26T14:53:07.681639Z",
     "iopub.status.idle": "2023-04-26T14:53:08.028277Z",
     "shell.execute_reply": "2023-04-26T14:53:08.027274Z"
    },
    "id": "6ciWxZ53L6zU",
    "outputId": "398748d7-ff4a-496d-9d48-15c086c30488",
    "papermill": {
     "duration": 0.401102,
     "end_time": "2023-04-26T14:53:08.030680",
     "exception": false,
     "start_time": "2023-04-26T14:53:07.629578",
     "status": "completed"
    },
    "tags": []
   },
   "outputs": [
    {
     "name": "stdout",
     "output_type": "stream",
     "text": [
      "the maximum value of tpr*(1-fpr) 0.413294988908384 for threshold 0.482\n",
      "[[ 5543  7646]\n",
      " [31616 42559]]\n",
      "the maximum value of tpr*(1-fpr) 0.413294988908384 for threshold 0.482\n"
     ]
    },
    {
     "data": {
      "text/plain": [
       "<AxesSubplot:>"
      ]
     },
     "execution_count": 67,
     "metadata": {},
     "output_type": "execute_result"
    },
    {
     "data": {
      "image/png": "[encoded data removed]",
      "text/plain": [
       "<Figure size 432x288 with 2 Axes>"
      ]
     },
     "metadata": {},
     "output_type": "display_data"
    }
   ],
   "source": [
    "print(confusion_matrix(y_train_case1, predict(y_train_pred, tr_thresholds, train_fpr, train_tpr)))\n",
    "\n",
    "conf_matr_df_train_case1 = pd.DataFrame(confusion_matrix(y_train_case1, predict(y_train_pred, tr_thresholds,train_fpr, train_tpr)), range(2),range(2))\n",
    "sns.set(font_scale=1.4)#for label size\n",
    "sns.heatmap(conf_matr_df_train_case1, annot=True,annot_kws={\"size\": 26}, fmt='g',cmap=\"YlGnBu\")"
   ]
  },
  {
   "cell_type": "code",
   "execution_count": 68,
   "id": "9b61904c",
   "metadata": {
    "execution": {
     "iopub.execute_input": "2023-04-26T14:53:08.137888Z",
     "iopub.status.busy": "2023-04-26T14:53:08.137461Z",
     "iopub.status.idle": "2023-04-26T14:53:08.406942Z",
     "shell.execute_reply": "2023-04-26T14:53:08.405897Z"
    },
    "id": "WuoGcYshL6zV",
    "outputId": "6351a399-410e-4e0f-9fb4-502550574e68",
    "papermill": {
     "duration": 0.325244,
     "end_time": "2023-04-26T14:53:08.409460",
     "exception": false,
     "start_time": "2023-04-26T14:53:08.084216",
     "status": "completed"
    },
    "tags": []
   },
   "outputs": [
    {
     "name": "stdout",
     "output_type": "stream",
     "text": [
      "the maximum value of tpr*(1-fpr) 0.413294988908384 for threshold 0.482\n",
      "[[ 2067  1269]\n",
      " [11588  6917]]\n",
      "the maximum value of tpr*(1-fpr) 0.413294988908384 for threshold 0.482\n"
     ]
    },
    {
     "data": {
      "text/plain": [
       "<AxesSubplot:>"
      ]
     },
     "execution_count": 68,
     "metadata": {},
     "output_type": "execute_result"
    },
    {
     "data": {
      "image/png": "[encoded data removed]",
      "text/plain": [
       "<Figure size 432x288 with 2 Axes>"
      ]
     },
     "metadata": {},
     "output_type": "display_data"
    }
   ],
   "source": [
    "print(confusion_matrix(y_test_case1, predict(y_test_pred, tr_thresholds, train_fpr, train_tpr)))\n",
    "\n",
    "conf_matr_df_train_case2 = pd.DataFrame(confusion_matrix(y_test_case1, predict(y_test_pred, tr_thresholds,train_fpr, train_tpr)), range(2),range(2))\n",
    "sns.set(font_scale=1.4)#for label size\n",
    "sns.heatmap(conf_matr_df_train_case2, annot=True,annot_kws={\"size\": 26}, fmt='g',cmap=\"YlGnBu\")"
   ]
  },
  {
   "cell_type": "code",
   "execution_count": 69,
   "id": "da3d2082",
   "metadata": {
    "execution": {
     "iopub.execute_input": "2023-04-26T14:53:08.520120Z",
     "iopub.status.busy": "2023-04-26T14:53:08.519501Z",
     "iopub.status.idle": "2023-04-26T14:53:08.526733Z",
     "shell.execute_reply": "2023-04-26T14:53:08.525633Z"
    },
    "id": "mfbbGJW-OzEx",
    "papermill": {
     "duration": 0.065601,
     "end_time": "2023-04-26T14:53:08.529104",
     "exception": false,
     "start_time": "2023-04-26T14:53:08.463503",
     "status": "completed"
    },
    "tags": []
   },
   "outputs": [],
   "source": [
    "def predict(proba, threshould, fpr, tpr):\n",
    "    t = threshould[np.argmax(tpr*(1-fpr))]\n",
    "    # (tpr*(1-fpr)) will be maximum if your fpr is very low and tpr is very high\n",
    "    print(\"the maximum value of tpr*(1-fpr)\", max(tpr*(1-fpr)), \"for threshold\", np.round(t,3))\n",
    "    predictions = []\n",
    "    for i in proba:\n",
    "        if i>=t:\n",
    "            predictions.append(1)\n",
    "        else:\n",
    "            predictions.append(0)\n",
    "\n",
    "    return predictions"
   ]
  },
  {
   "cell_type": "code",
   "execution_count": 70,
   "id": "2c9b75d0",
   "metadata": {
    "execution": {
     "iopub.execute_input": "2023-04-26T14:53:08.638865Z",
     "iopub.status.busy": "2023-04-26T14:53:08.638377Z",
     "iopub.status.idle": "2023-04-26T14:53:08.999169Z",
     "shell.execute_reply": "2023-04-26T14:53:08.998136Z"
    },
    "id": "ItRS8i02OzEy",
    "outputId": "32ade698-f1d7-4444-d125-2a646df7bccb",
    "papermill": {
     "duration": 0.417912,
     "end_time": "2023-04-26T14:53:09.001502",
     "exception": false,
     "start_time": "2023-04-26T14:53:08.583590",
     "status": "completed"
    },
    "tags": []
   },
   "outputs": [
    {
     "name": "stdout",
     "output_type": "stream",
     "text": [
      "the maximum value of tpr*(1-fpr) 0.413294988908384 for threshold 0.482\n",
      "[[ 8801  4356]\n",
      " [28358 45849]]\n",
      "the maximum value of tpr*(1-fpr) 0.413294988908384 for threshold 0.482\n"
     ]
    },
    {
     "data": {
      "text/plain": [
       "<AxesSubplot:>"
      ]
     },
     "execution_count": 70,
     "metadata": {},
     "output_type": "execute_result"
    },
    {
     "data": {
      "image/png": "[encoded data removed]",
      "text/plain": [
       "<Figure size 432x288 with 2 Axes>"
      ]
     },
     "metadata": {},
     "output_type": "display_data"
    }
   ],
   "source": [
    "print(confusion_matrix(y_train_case2, predict(y_train_pred, tr_thresholds, train_fpr, train_tpr)))\n",
    "\n",
    "conf_matr_df_train_case1 = pd.DataFrame(confusion_matrix(y_train_case2, predict(y_train_pred, tr_thresholds,train_fpr, train_tpr)), range(2),range(2))\n",
    "sns.set(font_scale=1.4)#for label size\n",
    "sns.heatmap(conf_matr_df_train_case2, annot=True,annot_kws={\"size\": 26}, fmt='g',cmap=\"YlGnBu\")"
   ]
  },
  {
   "cell_type": "code",
   "execution_count": 71,
   "id": "6324a5a1",
   "metadata": {
    "execution": {
     "iopub.execute_input": "2023-04-26T14:53:09.111434Z",
     "iopub.status.busy": "2023-04-26T14:53:09.110376Z",
     "iopub.status.idle": "2023-04-26T14:53:09.379209Z",
     "shell.execute_reply": "2023-04-26T14:53:09.377962Z"
    },
    "id": "e6xpVgguOzEy",
    "outputId": "b9eb0ac5-2eb6-4910-a052-0a93dbec9088",
    "papermill": {
     "duration": 0.326554,
     "end_time": "2023-04-26T14:53:09.381432",
     "exception": false,
     "start_time": "2023-04-26T14:53:09.054878",
     "status": "completed"
    },
    "tags": []
   },
   "outputs": [
    {
     "name": "stdout",
     "output_type": "stream",
     "text": [
      "the maximum value of tpr*(1-fpr) 0.413294988908384 for threshold 0.482\n",
      "[[ 2672   696]\n",
      " [10983  7490]]\n",
      "the maximum value of tpr*(1-fpr) 0.413294988908384 for threshold 0.482\n"
     ]
    },
    {
     "data": {
      "text/plain": [
       "<AxesSubplot:>"
      ]
     },
     "execution_count": 71,
     "metadata": {},
     "output_type": "execute_result"
    },
    {
     "data": {
      "image/png": "[encoded data removed]",
      "text/plain": [
       "<Figure size 432x288 with 2 Axes>"
      ]
     },
     "metadata": {},
     "output_type": "display_data"
    }
   ],
   "source": [
    "print(confusion_matrix(y_test_case2, predict(y_test_pred, tr_thresholds, train_fpr, train_tpr)))\n",
    "\n",
    "conf_matr_df_train_case2 = pd.DataFrame(confusion_matrix(y_test_case2, predict(y_test_pred, tr_thresholds,train_fpr, train_tpr)), range(2),range(2))\n",
    "sns.set(font_scale=1.4)#for label size\n",
    "sns.heatmap(conf_matr_df_train_case2, annot=True,annot_kws={\"size\": 26}, fmt='g',cmap=\"YlGnBu\")"
   ]
  },
  {
   "cell_type": "code",
   "execution_count": 72,
   "id": "524ff42d",
   "metadata": {
    "execution": {
     "iopub.execute_input": "2023-04-26T14:53:09.493910Z",
     "iopub.status.busy": "2023-04-26T14:53:09.493252Z",
     "iopub.status.idle": "2023-04-26T14:53:09.499112Z",
     "shell.execute_reply": "2023-04-26T14:53:09.498030Z"
    },
    "id": "K7ESYFO3QJC6",
    "outputId": "87bdedeb-96ba-496f-a577-c7b79c73caaf",
    "papermill": {
     "duration": 0.064288,
     "end_time": "2023-04-26T14:53:09.501296",
     "exception": false,
     "start_time": "2023-04-26T14:53:09.437008",
     "status": "completed"
    },
    "tags": []
   },
   "outputs": [
    {
     "name": "stdout",
     "output_type": "stream",
     "text": [
      "Vectoriser BoW \n",
      "Hyper parameter-max depth: 10\n",
      "Test AUC:0.6510495089472869\n"
     ]
    }
   ],
   "source": [
    "print(\"Vectoriser BoW \\nHyper parameter-max depth: \" + str(case1_maxDepth) + \"\\nTest AUC:\" + str(case1_aucTest))"
   ]
  },
  {
   "cell_type": "code",
   "execution_count": 73,
   "id": "dc65b670",
   "metadata": {
    "execution": {
     "iopub.execute_input": "2023-04-26T14:53:09.612612Z",
     "iopub.status.busy": "2023-04-26T14:53:09.612210Z",
     "iopub.status.idle": "2023-04-26T14:53:09.617697Z",
     "shell.execute_reply": "2023-04-26T14:53:09.616702Z"
    },
    "id": "UvoNE99ZR-Cw",
    "outputId": "4fe2c5b0-cc52-4783-916f-1c363ddfc186",
    "papermill": {
     "duration": 0.064425,
     "end_time": "2023-04-26T14:53:09.621278",
     "exception": false,
     "start_time": "2023-04-26T14:53:09.556853",
     "status": "completed"
    },
    "tags": []
   },
   "outputs": [
    {
     "name": "stdout",
     "output_type": "stream",
     "text": [
      "Vectoriser TF-IDF \n",
      "Hyper parameter-max depth: 10\n",
      "Test AUC:0.6416093983476945\n"
     ]
    }
   ],
   "source": [
    "print(\"Vectoriser TF-IDF \\nHyper parameter-max depth: \" + str(clf2.best_params_['max_depth']) + \"\\nTest AUC:\" + str(auc_set2_test))"
   ]
  }
 ],
 "metadata": {
  "kernelspec": {
   "display_name": "Python 3",
   "language": "python",
   "name": "python3"
  },
  "language_info": {
   "codemirror_mode": {
    "name": "ipython",
    "version": 3
   },
   "file_extension": ".py",
   "mimetype": "text/x-python",
   "name": "python",
   "nbconvert_exporter": "python",
   "pygments_lexer": "ipython3",
   "version": "3.7.12"
  },
  "papermill": {
   "default_parameters": {},
   "duration": 347.278889,
   "end_time": "2023-04-26T14:53:12.399387",
   "environment_variables": {},
   "exception": null,
   "input_path": "__notebook__.ipynb",
   "output_path": "__notebook__.ipynb",
   "parameters": {},
   "start_time": "2023-04-26T14:47:25.120498",
   "version": "2.3.4"
  }
 },
 "nbformat": 4,
 "nbformat_minor": 5
}
