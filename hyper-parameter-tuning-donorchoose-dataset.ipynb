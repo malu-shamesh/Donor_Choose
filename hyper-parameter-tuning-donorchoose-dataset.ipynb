{
 "cells": [
  {
   "cell_type": "markdown",
   "id": "80685fce",
   "metadata": {
    "id": "TGdGqKXR81Da",
    "papermill": {
     "duration": 0.028798,
     "end_time": "2023-04-26T13:53:39.202123",
     "exception": false,
     "start_time": "2023-04-26T13:53:39.173325",
     "status": "completed"
    },
    "tags": []
   },
   "source": [
    "# **Import Libraries/Dataset**"
   ]
  },
  {
   "cell_type": "code",
   "execution_count": 1,
   "id": "0345d913",
   "metadata": {
    "execution": {
     "iopub.execute_input": "2023-04-26T13:53:39.255266Z",
     "iopub.status.busy": "2023-04-26T13:53:39.254323Z",
     "iopub.status.idle": "2023-04-26T13:53:51.890537Z",
     "shell.execute_reply": "2023-04-26T13:53:51.889451Z"
    },
    "id": "p6S6dSSB6p-n",
    "outputId": "d82362b7-6044-45ae-c1c0-46904bfca3da",
    "papermill": {
     "duration": 12.665743,
     "end_time": "2023-04-26T13:53:51.893470",
     "exception": false,
     "start_time": "2023-04-26T13:53:39.227727",
     "status": "completed"
    },
    "tags": []
   },
   "outputs": [
    {
     "name": "stdout",
     "output_type": "stream",
     "text": [
      "Collecting chart-studio\r\n",
      "  Downloading chart_studio-1.1.0-py3-none-any.whl (64 kB)\r\n",
      "\u001b[2K     \u001b[90m━━━━━━━━━━━━━━━━━━━━━━━━━━━━━━━━━━━━━━━━\u001b[0m \u001b[32m64.4/64.4 kB\u001b[0m \u001b[31m2.7 MB/s\u001b[0m eta \u001b[36m0:00:00\u001b[0m\r\n",
      "\u001b[?25hRequirement already satisfied: requests in /opt/conda/lib/python3.7/site-packages (from chart-studio) (2.27.1)\r\n",
      "Requirement already satisfied: retrying>=1.3.3 in /opt/conda/lib/python3.7/site-packages (from chart-studio) (1.3.3)\r\n",
      "Requirement already satisfied: six in /opt/conda/lib/python3.7/site-packages (from chart-studio) (1.16.0)\r\n",
      "Requirement already satisfied: plotly in /opt/conda/lib/python3.7/site-packages (from chart-studio) (5.8.0)\r\n",
      "Requirement already satisfied: tenacity>=6.2.0 in /opt/conda/lib/python3.7/site-packages (from plotly->chart-studio) (8.0.1)\r\n",
      "Requirement already satisfied: idna<4,>=2.5 in /opt/conda/lib/python3.7/site-packages (from requests->chart-studio) (3.3)\r\n",
      "Requirement already satisfied: urllib3<1.27,>=1.21.1 in /opt/conda/lib/python3.7/site-packages (from requests->chart-studio) (1.26.9)\r\n",
      "Requirement already satisfied: certifi>=2017.4.17 in /opt/conda/lib/python3.7/site-packages (from requests->chart-studio) (2022.5.18.1)\r\n",
      "Requirement already satisfied: charset-normalizer~=2.0.0 in /opt/conda/lib/python3.7/site-packages (from requests->chart-studio) (2.0.12)\r\n",
      "Installing collected packages: chart-studio\r\n",
      "Successfully installed chart-studio-1.1.0\r\n",
      "\u001b[33mWARNING: Running pip as the 'root' user can result in broken permissions and conflicting behaviour with the system package manager. It is recommended to use a virtual environment instead: https://pip.pypa.io/warnings/venv\u001b[0m\u001b[33m\r\n",
      "\u001b[0m"
     ]
    }
   ],
   "source": [
    "!pip install chart-studio"
   ]
  },
  {
   "cell_type": "code",
   "execution_count": 2,
   "id": "7f4ef646",
   "metadata": {
    "execution": {
     "iopub.execute_input": "2023-04-26T13:53:51.948148Z",
     "iopub.status.busy": "2023-04-26T13:53:51.947690Z",
     "iopub.status.idle": "2023-04-26T13:53:59.395513Z",
     "shell.execute_reply": "2023-04-26T13:53:59.394477Z"
    },
    "id": "8DYBlfBI87G4",
    "papermill": {
     "duration": 7.478678,
     "end_time": "2023-04-26T13:53:59.398501",
     "exception": false,
     "start_time": "2023-04-26T13:53:51.919823",
     "status": "completed"
    },
    "tags": []
   },
   "outputs": [],
   "source": [
    "import pandas as pd\n",
    "from sklearn.model_selection import *\n",
    "from sklearn.feature_extraction.text import *\n",
    "import numpy as np\n",
    "import matplotlib.pyplot as plt\n",
    "import seaborn as sns\n",
    "from sklearn.preprocessing import MinMaxScaler\n",
    "from sklearn.tree import DecisionTreeClassifier\n",
    "from sklearn import tree\n",
    "from collections import Counter\n",
    "from sklearn.feature_extraction.text import CountVectorizer\n",
    "from sklearn.metrics import confusion_matrix\n",
    "from sklearn.feature_extraction.text import TfidfVectorizer\n",
    "from scipy.sparse import hstack\n",
    "from scipy.sparse import csr_matrix\n",
    "from sklearn.metrics import roc_curve, auc\n",
    "from sklearn.metrics import confusion_matrix\n",
    "from sklearn.model_selection import GridSearchCV\n",
    "from sklearn.tree import DecisionTreeClassifier\n",
    "from sklearn.preprocessing import *\n",
    "from tensorflow import keras\n",
    "import plotly.graph_objs as go\n",
    "import pandas as pd\n",
    "from chart_studio import plotly as py\n",
    "  \n",
    "# some more libraries to plot graph\n",
    "from plotly.offline import download_plotlyjs, init_notebook_mode, iplot, plot"
   ]
  },
  {
   "cell_type": "markdown",
   "id": "2ceed6e5",
   "metadata": {
    "id": "5qEgzCHbBB2H",
    "papermill": {
     "duration": 0.024805,
     "end_time": "2023-04-26T13:53:59.449285",
     "exception": false,
     "start_time": "2023-04-26T13:53:59.424480",
     "status": "completed"
    },
    "tags": []
   },
   "source": [
    "# **Data Visualization and Exploration**"
   ]
  },
  {
   "cell_type": "markdown",
   "id": "82055d7a",
   "metadata": {
    "id": "q8Sk90XxBMB-",
    "papermill": {
     "duration": 0.025032,
     "end_time": "2023-04-26T13:53:59.499427",
     "exception": false,
     "start_time": "2023-04-26T13:53:59.474395",
     "status": "completed"
    },
    "tags": []
   },
   "source": [
    "### 10 rows printed for sanity check to identify all the features present in the dataset and to check if the target matches with them."
   ]
  },
  {
   "cell_type": "code",
   "execution_count": 3,
   "id": "55723080",
   "metadata": {
    "execution": {
     "iopub.execute_input": "2023-04-26T13:53:59.551792Z",
     "iopub.status.busy": "2023-04-26T13:53:59.551076Z",
     "iopub.status.idle": "2023-04-26T13:54:03.531928Z",
     "shell.execute_reply": "2023-04-26T13:54:03.530886Z"
    },
    "id": "9qBgkLMsBXNO",
    "outputId": "19cb0db3-795a-4100-950a-48128d319af5",
    "papermill": {
     "duration": 4.009944,
     "end_time": "2023-04-26T13:54:03.534525",
     "exception": false,
     "start_time": "2023-04-26T13:53:59.524581",
     "status": "completed"
    },
    "tags": []
   },
   "outputs": [
    {
     "data": {
      "text/html": [
       "<div>\n",
       "<style scoped>\n",
       "    .dataframe tbody tr th:only-of-type {\n",
       "        vertical-align: middle;\n",
       "    }\n",
       "\n",
       "    .dataframe tbody tr th {\n",
       "        vertical-align: top;\n",
       "    }\n",
       "\n",
       "    .dataframe thead th {\n",
       "        text-align: right;\n",
       "    }\n",
       "</style>\n",
       "<table border=\"1\" class=\"dataframe\">\n",
       "  <thead>\n",
       "    <tr style=\"text-align: right;\">\n",
       "      <th></th>\n",
       "      <th>id</th>\n",
       "      <th>teacher_prefix</th>\n",
       "      <th>school_state</th>\n",
       "      <th>project_grade_category</th>\n",
       "      <th>project_subject_categories</th>\n",
       "      <th>project_subject_subcategories</th>\n",
       "      <th>teacher_number_of_previously_posted_projects</th>\n",
       "      <th>project_is_approved</th>\n",
       "      <th>price</th>\n",
       "      <th>quantity</th>\n",
       "      <th>cleaned_titles</th>\n",
       "      <th>cleaned_essays</th>\n",
       "      <th>cleaned_summary</th>\n",
       "      <th>isdigit_summary</th>\n",
       "    </tr>\n",
       "  </thead>\n",
       "  <tbody>\n",
       "    <tr>\n",
       "      <th>0</th>\n",
       "      <td>p253737</td>\n",
       "      <td>mrs</td>\n",
       "      <td>in</td>\n",
       "      <td>grades_prek_2</td>\n",
       "      <td>literacy_language</td>\n",
       "      <td>esl_literacy</td>\n",
       "      <td>0</td>\n",
       "      <td>0</td>\n",
       "      <td>154.60</td>\n",
       "      <td>23</td>\n",
       "      <td>educational support english learners home</td>\n",
       "      <td>students english learners working english seco...</td>\n",
       "      <td>students_need_opportunities_practice_beginning...</td>\n",
       "      <td>0</td>\n",
       "    </tr>\n",
       "    <tr>\n",
       "      <th>1</th>\n",
       "      <td>p258326</td>\n",
       "      <td>mr</td>\n",
       "      <td>fl</td>\n",
       "      <td>grades_6_8</td>\n",
       "      <td>history_civics_health_sports</td>\n",
       "      <td>civics_government_teamsports</td>\n",
       "      <td>7</td>\n",
       "      <td>1</td>\n",
       "      <td>299.00</td>\n",
       "      <td>1</td>\n",
       "      <td>wanted projector hungry learners</td>\n",
       "      <td>students arrive school eager learn polite gene...</td>\n",
       "      <td>students_need_projector_help_viewing_education...</td>\n",
       "      <td>0</td>\n",
       "    </tr>\n",
       "    <tr>\n",
       "      <th>2</th>\n",
       "      <td>p182444</td>\n",
       "      <td>ms</td>\n",
       "      <td>az</td>\n",
       "      <td>grades_6_8</td>\n",
       "      <td>health_sports</td>\n",
       "      <td>health_wellness_teamsports</td>\n",
       "      <td>1</td>\n",
       "      <td>0</td>\n",
       "      <td>516.85</td>\n",
       "      <td>22</td>\n",
       "      <td>soccer equipment awesome middle school students</td>\n",
       "      <td>true champions not always ones win guts mia ha...</td>\n",
       "      <td>students_need_shine_guards_athletic_socks_socc...</td>\n",
       "      <td>0</td>\n",
       "    </tr>\n",
       "    <tr>\n",
       "      <th>3</th>\n",
       "      <td>p246581</td>\n",
       "      <td>mrs</td>\n",
       "      <td>ky</td>\n",
       "      <td>grades_prek_2</td>\n",
       "      <td>literacy_language_math_science</td>\n",
       "      <td>literacy_mathematics</td>\n",
       "      <td>4</td>\n",
       "      <td>1</td>\n",
       "      <td>232.90</td>\n",
       "      <td>4</td>\n",
       "      <td>techie kindergarteners</td>\n",
       "      <td>work unique school filled esl english second l...</td>\n",
       "      <td>students_need_engage_reading_math_way_inspire_...</td>\n",
       "      <td>0</td>\n",
       "    </tr>\n",
       "    <tr>\n",
       "      <th>4</th>\n",
       "      <td>p104768</td>\n",
       "      <td>mrs</td>\n",
       "      <td>tx</td>\n",
       "      <td>grades_prek_2</td>\n",
       "      <td>math_science</td>\n",
       "      <td>mathematics</td>\n",
       "      <td>1</td>\n",
       "      <td>1</td>\n",
       "      <td>67.98</td>\n",
       "      <td>4</td>\n",
       "      <td>interactive math tools</td>\n",
       "      <td>second grade classroom next year made around 2...</td>\n",
       "      <td>students_need_hands_practice_mathematics_fun_p...</td>\n",
       "      <td>0</td>\n",
       "    </tr>\n",
       "    <tr>\n",
       "      <th>5</th>\n",
       "      <td>p154343</td>\n",
       "      <td>mrs</td>\n",
       "      <td>fl</td>\n",
       "      <td>grades_3_5</td>\n",
       "      <td>literacy_language_specialneeds</td>\n",
       "      <td>literature_writing_specialneeds</td>\n",
       "      <td>1</td>\n",
       "      <td>1</td>\n",
       "      <td>113.22</td>\n",
       "      <td>11</td>\n",
       "      <td>flexible seating mrs jarvis terrific third gra...</td>\n",
       "      <td>moving 2nd grade 3rd grade beginning next scho...</td>\n",
       "      <td>students_need_movement_successful_variety_stud...</td>\n",
       "      <td>0</td>\n",
       "    </tr>\n",
       "    <tr>\n",
       "      <th>6</th>\n",
       "      <td>p099819</td>\n",
       "      <td>mrs</td>\n",
       "      <td>ct</td>\n",
       "      <td>grades_6_8</td>\n",
       "      <td>literacy_language_specialneeds</td>\n",
       "      <td>literacy_specialneeds</td>\n",
       "      <td>1</td>\n",
       "      <td>1</td>\n",
       "      <td>159.99</td>\n",
       "      <td>3</td>\n",
       "      <td>chromebooks special education reading program</td>\n",
       "      <td>students dynamic energetic group middle school...</td>\n",
       "      <td>students_need_dependable_laptops_daily_classro...</td>\n",
       "      <td>0</td>\n",
       "    </tr>\n",
       "    <tr>\n",
       "      <th>7</th>\n",
       "      <td>p092424</td>\n",
       "      <td>ms</td>\n",
       "      <td>ga</td>\n",
       "      <td>grades_3_5</td>\n",
       "      <td>math_science</td>\n",
       "      <td>mathematics</td>\n",
       "      <td>7</td>\n",
       "      <td>1</td>\n",
       "      <td>229.00</td>\n",
       "      <td>4</td>\n",
       "      <td>21st century</td>\n",
       "      <td>not students struggle poverty also learning ma...</td>\n",
       "      <td>students_need_ipads_help_access_world_online_r...</td>\n",
       "      <td>0</td>\n",
       "    </tr>\n",
       "    <tr>\n",
       "      <th>8</th>\n",
       "      <td>p045029</td>\n",
       "      <td>mrs</td>\n",
       "      <td>sc</td>\n",
       "      <td>grades_prek_2</td>\n",
       "      <td>health_sports</td>\n",
       "      <td>health_wellness</td>\n",
       "      <td>28</td>\n",
       "      <td>1</td>\n",
       "      <td>241.98</td>\n",
       "      <td>6</td>\n",
       "      <td>targeting success class</td>\n",
       "      <td>students enthusiastic inquisitive learners k 6...</td>\n",
       "      <td>students_need_three_devices_three_management_l...</td>\n",
       "      <td>0</td>\n",
       "    </tr>\n",
       "    <tr>\n",
       "      <th>9</th>\n",
       "      <td>p001713</td>\n",
       "      <td>ms</td>\n",
       "      <td>nc</td>\n",
       "      <td>grades_prek_2</td>\n",
       "      <td>literacy_language</td>\n",
       "      <td>literacy_literature_writing</td>\n",
       "      <td>36</td>\n",
       "      <td>1</td>\n",
       "      <td>125.36</td>\n",
       "      <td>14</td>\n",
       "      <td>love reading pure pleasure</td>\n",
       "      <td>95 students free reduced lunch homeless despit...</td>\n",
       "      <td>students_need_great_books_use_independent_read...</td>\n",
       "      <td>0</td>\n",
       "    </tr>\n",
       "  </tbody>\n",
       "</table>\n",
       "</div>"
      ],
      "text/plain": [
       "        id teacher_prefix school_state project_grade_category  \\\n",
       "0  p253737            mrs           in          grades_prek_2   \n",
       "1  p258326             mr           fl             grades_6_8   \n",
       "2  p182444             ms           az             grades_6_8   \n",
       "3  p246581            mrs           ky          grades_prek_2   \n",
       "4  p104768            mrs           tx          grades_prek_2   \n",
       "5  p154343            mrs           fl             grades_3_5   \n",
       "6  p099819            mrs           ct             grades_6_8   \n",
       "7  p092424             ms           ga             grades_3_5   \n",
       "8  p045029            mrs           sc          grades_prek_2   \n",
       "9  p001713             ms           nc          grades_prek_2   \n",
       "\n",
       "       project_subject_categories    project_subject_subcategories  \\\n",
       "0               literacy_language                     esl_literacy   \n",
       "1    history_civics_health_sports     civics_government_teamsports   \n",
       "2                   health_sports       health_wellness_teamsports   \n",
       "3  literacy_language_math_science             literacy_mathematics   \n",
       "4                    math_science                      mathematics   \n",
       "5  literacy_language_specialneeds  literature_writing_specialneeds   \n",
       "6  literacy_language_specialneeds            literacy_specialneeds   \n",
       "7                    math_science                      mathematics   \n",
       "8                   health_sports                  health_wellness   \n",
       "9               literacy_language      literacy_literature_writing   \n",
       "\n",
       "   teacher_number_of_previously_posted_projects  project_is_approved   price  \\\n",
       "0                                             0                    0  154.60   \n",
       "1                                             7                    1  299.00   \n",
       "2                                             1                    0  516.85   \n",
       "3                                             4                    1  232.90   \n",
       "4                                             1                    1   67.98   \n",
       "5                                             1                    1  113.22   \n",
       "6                                             1                    1  159.99   \n",
       "7                                             7                    1  229.00   \n",
       "8                                            28                    1  241.98   \n",
       "9                                            36                    1  125.36   \n",
       "\n",
       "   quantity                                     cleaned_titles  \\\n",
       "0        23          educational support english learners home   \n",
       "1         1                   wanted projector hungry learners   \n",
       "2        22    soccer equipment awesome middle school students   \n",
       "3         4                             techie kindergarteners   \n",
       "4         4                             interactive math tools   \n",
       "5        11  flexible seating mrs jarvis terrific third gra...   \n",
       "6         3      chromebooks special education reading program   \n",
       "7         4                                       21st century   \n",
       "8         6                            targeting success class   \n",
       "9        14                         love reading pure pleasure   \n",
       "\n",
       "                                      cleaned_essays  \\\n",
       "0  students english learners working english seco...   \n",
       "1  students arrive school eager learn polite gene...   \n",
       "2  true champions not always ones win guts mia ha...   \n",
       "3  work unique school filled esl english second l...   \n",
       "4  second grade classroom next year made around 2...   \n",
       "5  moving 2nd grade 3rd grade beginning next scho...   \n",
       "6  students dynamic energetic group middle school...   \n",
       "7  not students struggle poverty also learning ma...   \n",
       "8  students enthusiastic inquisitive learners k 6...   \n",
       "9  95 students free reduced lunch homeless despit...   \n",
       "\n",
       "                                     cleaned_summary  isdigit_summary  \n",
       "0  students_need_opportunities_practice_beginning...                0  \n",
       "1  students_need_projector_help_viewing_education...                0  \n",
       "2  students_need_shine_guards_athletic_socks_socc...                0  \n",
       "3  students_need_engage_reading_math_way_inspire_...                0  \n",
       "4  students_need_hands_practice_mathematics_fun_p...                0  \n",
       "5  students_need_movement_successful_variety_stud...                0  \n",
       "6  students_need_dependable_laptops_daily_classro...                0  \n",
       "7  students_need_ipads_help_access_world_online_r...                0  \n",
       "8  students_need_three_devices_three_management_l...                0  \n",
       "9  students_need_great_books_use_independent_read...                0  "
      ]
     },
     "execution_count": 3,
     "metadata": {},
     "output_type": "execute_result"
    }
   ],
   "source": [
    "#To read data from data set \n",
    "\n",
    "donor_data = pd.read_csv(\"/kaggle/input/donors-choose-dataset/Preprocessed_DonorsChoose_dataset.csv\")\n",
    "donor_data.head(10)"
   ]
  },
  {
   "cell_type": "markdown",
   "id": "c60e9691",
   "metadata": {
    "id": "wTFFyVlQCc2Z",
    "papermill": {
     "duration": 0.025726,
     "end_time": "2023-04-26T13:54:03.586254",
     "exception": false,
     "start_time": "2023-04-26T13:54:03.560528",
     "status": "completed"
    },
    "tags": []
   },
   "source": [
    "## Univariate analysis on teacher_prefix, Price, State, with target variable.\n",
    "(% of projects approved w.r.t teacher_prefix,price,state)"
   ]
  },
  {
   "cell_type": "markdown",
   "id": "73f126c2",
   "metadata": {
    "id": "_q-XuXwMpzFf",
    "papermill": {
     "duration": 0.025597,
     "end_time": "2023-04-26T13:54:03.638252",
     "exception": false,
     "start_time": "2023-04-26T13:54:03.612655",
     "status": "completed"
    },
    "tags": []
   },
   "source": [
    "### **% of projects approved w.r.t teacher_prefix**"
   ]
  },
  {
   "cell_type": "code",
   "execution_count": 4,
   "id": "834ee3fb",
   "metadata": {
    "execution": {
     "iopub.execute_input": "2023-04-26T13:54:03.692876Z",
     "iopub.status.busy": "2023-04-26T13:54:03.692462Z",
     "iopub.status.idle": "2023-04-26T13:54:04.460438Z",
     "shell.execute_reply": "2023-04-26T13:54:04.459222Z"
    },
    "id": "7DOzt-nQCkd4",
    "outputId": "969dd698-9958-491d-88f3-04b66e8edfae",
    "papermill": {
     "duration": 0.797803,
     "end_time": "2023-04-26T13:54:04.463133",
     "exception": false,
     "start_time": "2023-04-26T13:54:03.665330",
     "status": "completed"
    },
    "tags": []
   },
   "outputs": [
    {
     "data": {
      "image/png": "[encoded data removed]",
      "text/plain": [
       "<Figure size 720x360 with 1 Axes>"
      ]
     },
     "metadata": {
      "needs_background": "light"
     },
     "output_type": "display_data"
    }
   ],
   "source": [
    "df = donor_data[donor_data.project_is_approved == 1].groupby('teacher_prefix').count()\n",
    "df = df.reset_index().copy()\n",
    "plt.figure(figsize=(10,5))\n",
    "plt.xticks(rotation=90)\n",
    "plt.ylabel('Count of projects approved')\n",
    "plt.bar(df['teacher_prefix'],df['project_is_approved'], log=True)\n",
    "\n",
    "for i in range(len(df['teacher_prefix'])):\n",
    "        plt.text(i,df['project_is_approved'][i],df['project_is_approved'][i], ha = 'center', bbox = dict(facecolor = 'red', alpha =.8))"
   ]
  },
  {
   "cell_type": "markdown",
   "id": "5fce078b",
   "metadata": {
    "id": "ikm6Skbs2KyQ",
    "papermill": {
     "duration": 0.027856,
     "end_time": "2023-04-26T13:54:04.517430",
     "exception": false,
     "start_time": "2023-04-26T13:54:04.489574",
     "status": "completed"
    },
    "tags": []
   },
   "source": [
    "### **Distribution of Teachers Prefix**"
   ]
  },
  {
   "cell_type": "code",
   "execution_count": 5,
   "id": "f444a194",
   "metadata": {
    "execution": {
     "iopub.execute_input": "2023-04-26T13:54:04.571924Z",
     "iopub.status.busy": "2023-04-26T13:54:04.571463Z",
     "iopub.status.idle": "2023-04-26T13:54:04.731827Z",
     "shell.execute_reply": "2023-04-26T13:54:04.730441Z"
    },
    "id": "hEzY6fkn2Sro",
    "outputId": "45b8cb40-a9ab-42db-a6a2-0d796068b652",
    "papermill": {
     "duration": 0.191752,
     "end_time": "2023-04-26T13:54:04.735676",
     "exception": false,
     "start_time": "2023-04-26T13:54:04.543924",
     "status": "completed"
    },
    "tags": []
   },
   "outputs": [
    {
     "data": {
      "text/plain": [
       "([<matplotlib.patches.Wedge at 0x7b537fd52890>,\n",
       "  <matplotlib.patches.Wedge at 0x7b537fd52fd0>,\n",
       "  <matplotlib.patches.Wedge at 0x7b537fd5d790>,\n",
       "  <matplotlib.patches.Wedge at 0x7b537fd5d490>,\n",
       "  <matplotlib.patches.Wedge at 0x7b537fd657d0>],\n",
       " [Text(2.1999998976797124, 0.0006709763453133982, 'dr'),\n",
       "  Text(2.098962322460949, 0.6590577887327796, 'mr'),\n",
       "  Text(-1.4131998433002866, 1.6860801294410792, 'mrs'),\n",
       "  Text(0.7129620949875407, -2.0812700572273117, 'ms'),\n",
       "  Text(2.195551054273338, -0.1398412245342397, 'teacher')],\n",
       " [Text(1.699999920934323, 0.0005184817213785349, '0.010%'),\n",
       "  Text(1.621925430992551, 0.5092719276571478, '9.665%'),\n",
       "  Text(-1.0920180607320396, 1.302880100022652, '52.855%'),\n",
       "  Text(0.550925255217645, -1.6082541351301953, '35.445%'),\n",
       "  Text(1.6965621783021245, -0.1080591280491852, '2.025%')])"
      ]
     },
     "execution_count": 5,
     "metadata": {},
     "output_type": "execute_result"
    },
    {
     "data": {
      "image/png": "[encoded data removed]",
      "text/plain": [
       "<Figure size 432x288 with 1 Axes>"
      ]
     },
     "metadata": {},
     "output_type": "display_data"
    }
   ],
   "source": [
    "# colors\n",
    "colors = ['#f7770f', '#1d74b4', '#d62728', '#2ca02c', '#9467bd']\n",
    "# Pie Chart\n",
    "plt.pie(df['project_is_approved'], colors=colors, labels=df['teacher_prefix'],\n",
    "        autopct='%1.3f%%', pctdistance=0.85, radius=2)"
   ]
  },
  {
   "cell_type": "markdown",
   "id": "f62b0c69",
   "metadata": {
    "id": "MEoY8WLaFXqp",
    "papermill": {
     "duration": 0.026335,
     "end_time": "2023-04-26T13:54:04.819381",
     "exception": false,
     "start_time": "2023-04-26T13:54:04.793046",
     "status": "completed"
    },
    "tags": []
   },
   "source": [
    "### **% of projects approved w.r.t state**"
   ]
  },
  {
   "cell_type": "code",
   "execution_count": 6,
   "id": "1243b856",
   "metadata": {
    "execution": {
     "iopub.execute_input": "2023-04-26T13:54:04.875982Z",
     "iopub.status.busy": "2023-04-26T13:54:04.875250Z",
     "iopub.status.idle": "2023-04-26T13:54:04.984947Z",
     "shell.execute_reply": "2023-04-26T13:54:04.983522Z"
    },
    "id": "4kSn4rlWOwr1",
    "papermill": {
     "duration": 0.140241,
     "end_time": "2023-04-26T13:54:04.987576",
     "exception": false,
     "start_time": "2023-04-26T13:54:04.847335",
     "status": "completed"
    },
    "tags": []
   },
   "outputs": [],
   "source": [
    "df = donor_data[donor_data.project_is_approved == 1].groupby('school_state').count()\n",
    "df = df.reset_index().copy()\n",
    "df['school_state'] = df['school_state'].str.upper()\n",
    "locations = df['school_state'].tolist()"
   ]
  },
  {
   "cell_type": "code",
   "execution_count": 7,
   "id": "433e7a79",
   "metadata": {
    "execution": {
     "iopub.execute_input": "2023-04-26T13:54:05.047171Z",
     "iopub.status.busy": "2023-04-26T13:54:05.046514Z",
     "iopub.status.idle": "2023-04-26T13:54:06.308770Z",
     "shell.execute_reply": "2023-04-26T13:54:06.307401Z"
    },
    "id": "5YX1CSibFbEM",
    "outputId": "77fc0a89-ae7b-4001-a294-29b0f3ac4f47",
    "papermill": {
     "duration": 1.294016,
     "end_time": "2023-04-26T13:54:06.311208",
     "exception": false,
     "start_time": "2023-04-26T13:54:05.017192",
     "status": "completed"
    },
    "tags": []
   },
   "outputs": [
    {
     "data": {
      "text/html": [
       "        <script type=\"text/javascript\">\n",
       "        window.PlotlyConfig = {MathJaxConfig: 'local'};\n",
       "        if (window.MathJax && window.MathJax.Hub && window.MathJax.Hub.Config) {window.MathJax.Hub.Config({SVG: {font: \"STIX-Web\"}});}\n",
       "        if (typeof require !== 'undefined') {\n",
       "        require.undef(\"plotly\");\n",
       "        requirejs.config({\n",
       "            paths: {\n",
       "                'plotly': ['https://cdn.plot.ly/plotly-2.12.1.min']\n",
       "            }\n",
       "        });\n",
       "        require(['plotly'], function(Plotly) {\n",
       "            window._Plotly = Plotly;\n",
       "        });\n",
       "        }\n",
       "        </script>\n",
       "        "
      ]
     },
     "metadata": {},
     "output_type": "display_data"
    },
    {
     "data": {
      "application/vnd.plotly.v1+json": {
       "config": {
        "linkText": "Export to plot.ly",
        "plotlyServerURL": "https://plot.ly",
        "showLink": false
       },
       "data": [
        {
         "colorbar": {
          "title": {
           "text": "Rate of projects approved"
          }
         },
         "colorscale": [
          [
           0.0,
           "rgb(36, 86, 104)"
          ],
          [
           0.16666666666666666,
           "rgb(15, 114, 121)"
          ],
          [
           0.3333333333333333,
           "rgb(13, 143, 129)"
          ],
          [
           0.5,
           "rgb(57, 171, 126)"
          ],
          [
           0.6666666666666666,
           "rgb(110, 197, 116)"
          ],
          [
           0.8333333333333334,
           "rgb(169, 220, 103)"
          ],
          [
           1.0,
           "rgb(237, 239, 93)"
          ]
         ],
         "locationmode": "USA-states",
         "locations": [
          "AK",
          "AL",
          "AR",
          "AZ",
          "CA",
          "CO",
          "CT",
          "DC",
          "DE",
          "FL",
          "GA",
          "HI",
          "IA",
          "ID",
          "IL",
          "IN",
          "KS",
          "KY",
          "LA",
          "MA",
          "MD",
          "ME",
          "MI",
          "MN",
          "MO",
          "MS",
          "MT",
          "NC",
          "ND",
          "NE",
          "NH",
          "NJ",
          "NM",
          "NV",
          "NY",
          "OH",
          "OK",
          "OR",
          "PA",
          "RI",
          "SC",
          "SD",
          "TN",
          "TX",
          "UT",
          "VA",
          "VT",
          "WA",
          "WI",
          "WV",
          "WY"
         ],
         "type": "choropleth",
         "z": [
          290,
          1506,
          872,
          1800,
          13205,
          935,
          1445,
          414,
          308,
          5144,
          3329,
          434,
          568,
          579,
          3710,
          2214,
          532,
          1126,
          1990,
          2055,
          1270,
          428,
          2672,
          1036,
          2202,
          1118,
          200,
          4353,
          127,
          260,
          304,
          1888,
          479,
          1167,
          6291,
          2159,
          1900,
          1056,
          2658,
          243,
          3385,
          252,
          1435,
          6014,
          1448,
          1739,
          64,
          2045,
          1545,
          430,
          82
         ]
        }
       ],
       "layout": {
        "geo": {
         "scope": "usa"
        },
        "height": 1000,
        "margin": {
         "b": 0,
         "l": 0,
         "r": 0,
         "t": 0
        },
        "template": {
         "data": {
          "bar": [
           {
            "error_x": {
             "color": "#2a3f5f"
            },
            "error_y": {
             "color": "#2a3f5f"
            },
            "marker": {
             "line": {
              "color": "#E5ECF6",
              "width": 0.5
             },
             "pattern": {
              "fillmode": "overlay",
              "size": 10,
              "solidity": 0.2
             }
            },
            "type": "bar"
           }
          ],
          "barpolar": [
           {
            "marker": {
             "line": {
              "color": "#E5ECF6",
              "width": 0.5
             },
             "pattern": {
              "fillmode": "overlay",
              "size": 10,
              "solidity": 0.2
             }
            },
            "type": "barpolar"
           }
          ],
          "carpet": [
           {
            "aaxis": {
             "endlinecolor": "#2a3f5f",
             "gridcolor": "white",
             "linecolor": "white",
             "minorgridcolor": "white",
             "startlinecolor": "#2a3f5f"
            },
            "baxis": {
             "endlinecolor": "#2a3f5f",
             "gridcolor": "white",
             "linecolor": "white",
             "minorgridcolor": "white",
             "startlinecolor": "#2a3f5f"
            },
            "type": "carpet"
           }
          ],
          "choropleth": [
           {
            "colorbar": {
             "outlinewidth": 0,
             "ticks": ""
            },
            "type": "choropleth"
           }
          ],
          "contour": [
           {
            "colorbar": {
             "outlinewidth": 0,
             "ticks": ""
            },
            "colorscale": [
             [
              0.0,
              "#0d0887"
             ],
             [
              0.1111111111111111,
              "#46039f"
             ],
             [
              0.2222222222222222,
              "#7201a8"
             ],
             [
              0.3333333333333333,
              "#9c179e"
             ],
             [
              0.4444444444444444,
              "#bd3786"
             ],
             [
              0.5555555555555556,
              "#d8576b"
             ],
             [
              0.6666666666666666,
              "#ed7953"
             ],
             [
              0.7777777777777778,
              "#fb9f3a"
             ],
             [
              0.8888888888888888,
              "#fdca26"
             ],
             [
              1.0,
              "#f0f921"
             ]
            ],
            "type": "contour"
           }
          ],
          "contourcarpet": [
           {
            "colorbar": {
             "outlinewidth": 0,
             "ticks": ""
            },
            "type": "contourcarpet"
           }
          ],
          "heatmap": [
           {
            "colorbar": {
             "outlinewidth": 0,
             "ticks": ""
            },
            "colorscale": [
             [
              0.0,
              "#0d0887"
             ],
             [
              0.1111111111111111,
              "#46039f"
             ],
             [
              0.2222222222222222,
              "#7201a8"
             ],
             [
              0.3333333333333333,
              "#9c179e"
             ],
             [
              0.4444444444444444,
              "#bd3786"
             ],
             [
              0.5555555555555556,
              "#d8576b"
             ],
             [
              0.6666666666666666,
              "#ed7953"
             ],
             [
              0.7777777777777778,
              "#fb9f3a"
             ],
             [
              0.8888888888888888,
              "#fdca26"
             ],
             [
              1.0,
              "#f0f921"
             ]
            ],
            "type": "heatmap"
           }
          ],
          "heatmapgl": [
           {
            "colorbar": {
             "outlinewidth": 0,
             "ticks": ""
            },
            "colorscale": [
             [
              0.0,
              "#0d0887"
             ],
             [
              0.1111111111111111,
              "#46039f"
             ],
             [
              0.2222222222222222,
              "#7201a8"
             ],
             [
              0.3333333333333333,
              "#9c179e"
             ],
             [
              0.4444444444444444,
              "#bd3786"
             ],
             [
              0.5555555555555556,
              "#d8576b"
             ],
             [
              0.6666666666666666,
              "#ed7953"
             ],
             [
              0.7777777777777778,
              "#fb9f3a"
             ],
             [
              0.8888888888888888,
              "#fdca26"
             ],
             [
              1.0,
              "#f0f921"
             ]
            ],
            "type": "heatmapgl"
           }
          ],
          "histogram": [
           {
            "marker": {
             "pattern": {
              "fillmode": "overlay",
              "size": 10,
              "solidity": 0.2
             }
            },
            "type": "histogram"
           }
          ],
          "histogram2d": [
           {
            "colorbar": {
             "outlinewidth": 0,
             "ticks": ""
            },
            "colorscale": [
             [
              0.0,
              "#0d0887"
             ],
             [
              0.1111111111111111,
              "#46039f"
             ],
             [
              0.2222222222222222,
              "#7201a8"
             ],
             [
              0.3333333333333333,
              "#9c179e"
             ],
             [
              0.4444444444444444,
              "#bd3786"
             ],
             [
              0.5555555555555556,
              "#d8576b"
             ],
             [
              0.6666666666666666,
              "#ed7953"
             ],
             [
              0.7777777777777778,
              "#fb9f3a"
             ],
             [
              0.8888888888888888,
              "#fdca26"
             ],
             [
              1.0,
              "#f0f921"
             ]
            ],
            "type": "histogram2d"
           }
          ],
          "histogram2dcontour": [
           {
            "colorbar": {
             "outlinewidth": 0,
             "ticks": ""
            },
            "colorscale": [
             [
              0.0,
              "#0d0887"
             ],
             [
              0.1111111111111111,
              "#46039f"
             ],
             [
              0.2222222222222222,
              "#7201a8"
             ],
             [
              0.3333333333333333,
              "#9c179e"
             ],
             [
              0.4444444444444444,
              "#bd3786"
             ],
             [
              0.5555555555555556,
              "#d8576b"
             ],
             [
              0.6666666666666666,
              "#ed7953"
             ],
             [
              0.7777777777777778,
              "#fb9f3a"
             ],
             [
              0.8888888888888888,
              "#fdca26"
             ],
             [
              1.0,
              "#f0f921"
             ]
            ],
            "type": "histogram2dcontour"
           }
          ],
          "mesh3d": [
           {
            "colorbar": {
             "outlinewidth": 0,
             "ticks": ""
            },
            "type": "mesh3d"
           }
          ],
          "parcoords": [
           {
            "line": {
             "colorbar": {
              "outlinewidth": 0,
              "ticks": ""
             }
            },
            "type": "parcoords"
           }
          ],
          "pie": [
           {
            "automargin": true,
            "type": "pie"
           }
          ],
          "scatter": [
           {
            "fillpattern": {
             "fillmode": "overlay",
             "size": 10,
             "solidity": 0.2
            },
            "type": "scatter"
           }
          ],
          "scatter3d": [
           {
            "line": {
             "colorbar": {
              "outlinewidth": 0,
              "ticks": ""
             }
            },
            "marker": {
             "colorbar": {
              "outlinewidth": 0,
              "ticks": ""
             }
            },
            "type": "scatter3d"
           }
          ],
          "scattercarpet": [
           {
            "marker": {
             "colorbar": {
              "outlinewidth": 0,
              "ticks": ""
             }
            },
            "type": "scattercarpet"
           }
          ],
          "scattergeo": [
           {
            "marker": {
             "colorbar": {
              "outlinewidth": 0,
              "ticks": ""
             }
            },
            "type": "scattergeo"
           }
          ],
          "scattergl": [
           {
            "marker": {
             "colorbar": {
              "outlinewidth": 0,
              "ticks": ""
             }
            },
            "type": "scattergl"
           }
          ],
          "scattermapbox": [
           {
            "marker": {
             "colorbar": {
              "outlinewidth": 0,
              "ticks": ""
             }
            },
            "type": "scattermapbox"
           }
          ],
          "scatterpolar": [
           {
            "marker": {
             "colorbar": {
              "outlinewidth": 0,
              "ticks": ""
             }
            },
            "type": "scatterpolar"
           }
          ],
          "scatterpolargl": [
           {
            "marker": {
             "colorbar": {
              "outlinewidth": 0,
              "ticks": ""
             }
            },
            "type": "scatterpolargl"
           }
          ],
          "scatterternary": [
           {
            "marker": {
             "colorbar": {
              "outlinewidth": 0,
              "ticks": ""
             }
            },
            "type": "scatterternary"
           }
          ],
          "surface": [
           {
            "colorbar": {
             "outlinewidth": 0,
             "ticks": ""
            },
            "colorscale": [
             [
              0.0,
              "#0d0887"
             ],
             [
              0.1111111111111111,
              "#46039f"
             ],
             [
              0.2222222222222222,
              "#7201a8"
             ],
             [
              0.3333333333333333,
              "#9c179e"
             ],
             [
              0.4444444444444444,
              "#bd3786"
             ],
             [
              0.5555555555555556,
              "#d8576b"
             ],
             [
              0.6666666666666666,
              "#ed7953"
             ],
             [
              0.7777777777777778,
              "#fb9f3a"
             ],
             [
              0.8888888888888888,
              "#fdca26"
             ],
             [
              1.0,
              "#f0f921"
             ]
            ],
            "type": "surface"
           }
          ],
          "table": [
           {
            "cells": {
             "fill": {
              "color": "#EBF0F8"
             },
             "line": {
              "color": "white"
             }
            },
            "header": {
             "fill": {
              "color": "#C8D4E3"
             },
             "line": {
              "color": "white"
             }
            },
            "type": "table"
           }
          ]
         },
         "layout": {
          "annotationdefaults": {
           "arrowcolor": "#2a3f5f",
           "arrowhead": 0,
           "arrowwidth": 1
          },
          "autotypenumbers": "strict",
          "coloraxis": {
           "colorbar": {
            "outlinewidth": 0,
            "ticks": ""
           }
          },
          "colorscale": {
           "diverging": [
            [
             0,
             "#8e0152"
            ],
            [
             0.1,
             "#c51b7d"
            ],
            [
             0.2,
             "#de77ae"
            ],
            [
             0.3,
             "#f1b6da"
            ],
            [
             0.4,
             "#fde0ef"
            ],
            [
             0.5,
             "#f7f7f7"
            ],
            [
             0.6,
             "#e6f5d0"
            ],
            [
             0.7,
             "#b8e186"
            ],
            [
             0.8,
             "#7fbc41"
            ],
            [
             0.9,
             "#4d9221"
            ],
            [
             1,
             "#276419"
            ]
           ],
           "sequential": [
            [
             0.0,
             "#0d0887"
            ],
            [
             0.1111111111111111,
             "#46039f"
            ],
            [
             0.2222222222222222,
             "#7201a8"
            ],
            [
             0.3333333333333333,
             "#9c179e"
            ],
            [
             0.4444444444444444,
             "#bd3786"
            ],
            [
             0.5555555555555556,
             "#d8576b"
            ],
            [
             0.6666666666666666,
             "#ed7953"
            ],
            [
             0.7777777777777778,
             "#fb9f3a"
            ],
            [
             0.8888888888888888,
             "#fdca26"
            ],
            [
             1.0,
             "#f0f921"
            ]
           ],
           "sequentialminus": [
            [
             0.0,
             "#0d0887"
            ],
            [
             0.1111111111111111,
             "#46039f"
            ],
            [
             0.2222222222222222,
             "#7201a8"
            ],
            [
             0.3333333333333333,
             "#9c179e"
            ],
            [
             0.4444444444444444,
             "#bd3786"
            ],
            [
             0.5555555555555556,
             "#d8576b"
            ],
            [
             0.6666666666666666,
             "#ed7953"
            ],
            [
             0.7777777777777778,
             "#fb9f3a"
            ],
            [
             0.8888888888888888,
             "#fdca26"
            ],
            [
             1.0,
             "#f0f921"
            ]
           ]
          },
          "colorway": [
           "#636efa",
           "#EF553B",
           "#00cc96",
           "#ab63fa",
           "#FFA15A",
           "#19d3f3",
           "#FF6692",
           "#B6E880",
           "#FF97FF",
           "#FECB52"
          ],
          "font": {
           "color": "#2a3f5f"
          },
          "geo": {
           "bgcolor": "white",
           "lakecolor": "white",
           "landcolor": "#E5ECF6",
           "showlakes": true,
           "showland": true,
           "subunitcolor": "white"
          },
          "hoverlabel": {
           "align": "left"
          },
          "hovermode": "closest",
          "mapbox": {
           "style": "light"
          },
          "paper_bgcolor": "white",
          "plot_bgcolor": "#E5ECF6",
          "polar": {
           "angularaxis": {
            "gridcolor": "white",
            "linecolor": "white",
            "ticks": ""
           },
           "bgcolor": "#E5ECF6",
           "radialaxis": {
            "gridcolor": "white",
            "linecolor": "white",
            "ticks": ""
           }
          },
          "scene": {
           "xaxis": {
            "backgroundcolor": "#E5ECF6",
            "gridcolor": "white",
            "gridwidth": 2,
            "linecolor": "white",
            "showbackground": true,
            "ticks": "",
            "zerolinecolor": "white"
           },
           "yaxis": {
            "backgroundcolor": "#E5ECF6",
            "gridcolor": "white",
            "gridwidth": 2,
            "linecolor": "white",
            "showbackground": true,
            "ticks": "",
            "zerolinecolor": "white"
           },
           "zaxis": {
            "backgroundcolor": "#E5ECF6",
            "gridcolor": "white",
            "gridwidth": 2,
            "linecolor": "white",
            "showbackground": true,
            "ticks": "",
            "zerolinecolor": "white"
           }
          },
          "shapedefaults": {
           "line": {
            "color": "#2a3f5f"
           }
          },
          "ternary": {
           "aaxis": {
            "gridcolor": "white",
            "linecolor": "white",
            "ticks": ""
           },
           "baxis": {
            "gridcolor": "white",
            "linecolor": "white",
            "ticks": ""
           },
           "bgcolor": "#E5ECF6",
           "caxis": {
            "gridcolor": "white",
            "linecolor": "white",
            "ticks": ""
           }
          },
          "title": {
           "x": 0.05
          },
          "xaxis": {
           "automargin": true,
           "gridcolor": "white",
           "linecolor": "white",
           "ticks": "",
           "title": {
            "standoff": 15
           },
           "zerolinecolor": "white",
           "zerolinewidth": 2
          },
          "yaxis": {
           "automargin": true,
           "gridcolor": "white",
           "linecolor": "white",
           "ticks": "",
           "title": {
            "standoff": 15
           },
           "zerolinecolor": "white",
           "zerolinewidth": 2
          }
         }
        }
       }
      },
      "text/html": [
       "<div>                            <div id=\"ca68fc2c-3680-4c4a-91df-10be62055366\" class=\"plotly-graph-div\" style=\"height:1000px; width:100%;\"></div>            <script type=\"text/javascript\">                require([\"plotly\"], function(Plotly) {                    window.PLOTLYENV=window.PLOTLYENV || {};                                    if (document.getElementById(\"ca68fc2c-3680-4c4a-91df-10be62055366\")) {                    Plotly.newPlot(                        \"ca68fc2c-3680-4c4a-91df-10be62055366\",                        [{\"colorbar\":{\"title\":{\"text\":\"Rate of projects approved\"}},\"colorscale\":[[0.0,\"rgb(36, 86, 104)\"],[0.16666666666666666,\"rgb(15, 114, 121)\"],[0.3333333333333333,\"rgb(13, 143, 129)\"],[0.5,\"rgb(57, 171, 126)\"],[0.6666666666666666,\"rgb(110, 197, 116)\"],[0.8333333333333334,\"rgb(169, 220, 103)\"],[1.0,\"rgb(237, 239, 93)\"]],\"locationmode\":\"USA-states\",\"locations\":[\"AK\",\"AL\",\"AR\",\"AZ\",\"CA\",\"CO\",\"CT\",\"DC\",\"DE\",\"FL\",\"GA\",\"HI\",\"IA\",\"ID\",\"IL\",\"IN\",\"KS\",\"KY\",\"LA\",\"MA\",\"MD\",\"ME\",\"MI\",\"MN\",\"MO\",\"MS\",\"MT\",\"NC\",\"ND\",\"NE\",\"NH\",\"NJ\",\"NM\",\"NV\",\"NY\",\"OH\",\"OK\",\"OR\",\"PA\",\"RI\",\"SC\",\"SD\",\"TN\",\"TX\",\"UT\",\"VA\",\"VT\",\"WA\",\"WI\",\"WV\",\"WY\"],\"z\":[290,1506,872,1800,13205,935,1445,414,308,5144,3329,434,568,579,3710,2214,532,1126,1990,2055,1270,428,2672,1036,2202,1118,200,4353,127,260,304,1888,479,1167,6291,2159,1900,1056,2658,243,3385,252,1435,6014,1448,1739,64,2045,1545,430,82],\"type\":\"choropleth\"}],                        {\"geo\":{\"scope\":\"usa\"},\"height\":1000,\"margin\":{\"b\":0,\"l\":0,\"r\":0,\"t\":0},\"template\":{\"data\":{\"barpolar\":[{\"marker\":{\"line\":{\"color\":\"#E5ECF6\",\"width\":0.5},\"pattern\":{\"fillmode\":\"overlay\",\"size\":10,\"solidity\":0.2}},\"type\":\"barpolar\"}],\"bar\":[{\"error_x\":{\"color\":\"#2a3f5f\"},\"error_y\":{\"color\":\"#2a3f5f\"},\"marker\":{\"line\":{\"color\":\"#E5ECF6\",\"width\":0.5},\"pattern\":{\"fillmode\":\"overlay\",\"size\":10,\"solidity\":0.2}},\"type\":\"bar\"}],\"carpet\":[{\"aaxis\":{\"endlinecolor\":\"#2a3f5f\",\"gridcolor\":\"white\",\"linecolor\":\"white\",\"minorgridcolor\":\"white\",\"startlinecolor\":\"#2a3f5f\"},\"baxis\":{\"endlinecolor\":\"#2a3f5f\",\"gridcolor\":\"white\",\"linecolor\":\"white\",\"minorgridcolor\":\"white\",\"startlinecolor\":\"#2a3f5f\"},\"type\":\"carpet\"}],\"choropleth\":[{\"colorbar\":{\"outlinewidth\":0,\"ticks\":\"\"},\"type\":\"choropleth\"}],\"contourcarpet\":[{\"colorbar\":{\"outlinewidth\":0,\"ticks\":\"\"},\"type\":\"contourcarpet\"}],\"contour\":[{\"colorbar\":{\"outlinewidth\":0,\"ticks\":\"\"},\"colorscale\":[[0.0,\"#0d0887\"],[0.1111111111111111,\"#46039f\"],[0.2222222222222222,\"#7201a8\"],[0.3333333333333333,\"#9c179e\"],[0.4444444444444444,\"#bd3786\"],[0.5555555555555556,\"#d8576b\"],[0.6666666666666666,\"#ed7953\"],[0.7777777777777778,\"#fb9f3a\"],[0.8888888888888888,\"#fdca26\"],[1.0,\"#f0f921\"]],\"type\":\"contour\"}],\"heatmapgl\":[{\"colorbar\":{\"outlinewidth\":0,\"ticks\":\"\"},\"colorscale\":[[0.0,\"#0d0887\"],[0.1111111111111111,\"#46039f\"],[0.2222222222222222,\"#7201a8\"],[0.3333333333333333,\"#9c179e\"],[0.4444444444444444,\"#bd3786\"],[0.5555555555555556,\"#d8576b\"],[0.6666666666666666,\"#ed7953\"],[0.7777777777777778,\"#fb9f3a\"],[0.8888888888888888,\"#fdca26\"],[1.0,\"#f0f921\"]],\"type\":\"heatmapgl\"}],\"heatmap\":[{\"colorbar\":{\"outlinewidth\":0,\"ticks\":\"\"},\"colorscale\":[[0.0,\"#0d0887\"],[0.1111111111111111,\"#46039f\"],[0.2222222222222222,\"#7201a8\"],[0.3333333333333333,\"#9c179e\"],[0.4444444444444444,\"#bd3786\"],[0.5555555555555556,\"#d8576b\"],[0.6666666666666666,\"#ed7953\"],[0.7777777777777778,\"#fb9f3a\"],[0.8888888888888888,\"#fdca26\"],[1.0,\"#f0f921\"]],\"type\":\"heatmap\"}],\"histogram2dcontour\":[{\"colorbar\":{\"outlinewidth\":0,\"ticks\":\"\"},\"colorscale\":[[0.0,\"#0d0887\"],[0.1111111111111111,\"#46039f\"],[0.2222222222222222,\"#7201a8\"],[0.3333333333333333,\"#9c179e\"],[0.4444444444444444,\"#bd3786\"],[0.5555555555555556,\"#d8576b\"],[0.6666666666666666,\"#ed7953\"],[0.7777777777777778,\"#fb9f3a\"],[0.8888888888888888,\"#fdca26\"],[1.0,\"#f0f921\"]],\"type\":\"histogram2dcontour\"}],\"histogram2d\":[{\"colorbar\":{\"outlinewidth\":0,\"ticks\":\"\"},\"colorscale\":[[0.0,\"#0d0887\"],[0.1111111111111111,\"#46039f\"],[0.2222222222222222,\"#7201a8\"],[0.3333333333333333,\"#9c179e\"],[0.4444444444444444,\"#bd3786\"],[0.5555555555555556,\"#d8576b\"],[0.6666666666666666,\"#ed7953\"],[0.7777777777777778,\"#fb9f3a\"],[0.8888888888888888,\"#fdca26\"],[1.0,\"#f0f921\"]],\"type\":\"histogram2d\"}],\"histogram\":[{\"marker\":{\"pattern\":{\"fillmode\":\"overlay\",\"size\":10,\"solidity\":0.2}},\"type\":\"histogram\"}],\"mesh3d\":[{\"colorbar\":{\"outlinewidth\":0,\"ticks\":\"\"},\"type\":\"mesh3d\"}],\"parcoords\":[{\"line\":{\"colorbar\":{\"outlinewidth\":0,\"ticks\":\"\"}},\"type\":\"parcoords\"}],\"pie\":[{\"automargin\":true,\"type\":\"pie\"}],\"scatter3d\":[{\"line\":{\"colorbar\":{\"outlinewidth\":0,\"ticks\":\"\"}},\"marker\":{\"colorbar\":{\"outlinewidth\":0,\"ticks\":\"\"}},\"type\":\"scatter3d\"}],\"scattercarpet\":[{\"marker\":{\"colorbar\":{\"outlinewidth\":0,\"ticks\":\"\"}},\"type\":\"scattercarpet\"}],\"scattergeo\":[{\"marker\":{\"colorbar\":{\"outlinewidth\":0,\"ticks\":\"\"}},\"type\":\"scattergeo\"}],\"scattergl\":[{\"marker\":{\"colorbar\":{\"outlinewidth\":0,\"ticks\":\"\"}},\"type\":\"scattergl\"}],\"scattermapbox\":[{\"marker\":{\"colorbar\":{\"outlinewidth\":0,\"ticks\":\"\"}},\"type\":\"scattermapbox\"}],\"scatterpolargl\":[{\"marker\":{\"colorbar\":{\"outlinewidth\":0,\"ticks\":\"\"}},\"type\":\"scatterpolargl\"}],\"scatterpolar\":[{\"marker\":{\"colorbar\":{\"outlinewidth\":0,\"ticks\":\"\"}},\"type\":\"scatterpolar\"}],\"scatter\":[{\"fillpattern\":{\"fillmode\":\"overlay\",\"size\":10,\"solidity\":0.2},\"type\":\"scatter\"}],\"scatterternary\":[{\"marker\":{\"colorbar\":{\"outlinewidth\":0,\"ticks\":\"\"}},\"type\":\"scatterternary\"}],\"surface\":[{\"colorbar\":{\"outlinewidth\":0,\"ticks\":\"\"},\"colorscale\":[[0.0,\"#0d0887\"],[0.1111111111111111,\"#46039f\"],[0.2222222222222222,\"#7201a8\"],[0.3333333333333333,\"#9c179e\"],[0.4444444444444444,\"#bd3786\"],[0.5555555555555556,\"#d8576b\"],[0.6666666666666666,\"#ed7953\"],[0.7777777777777778,\"#fb9f3a\"],[0.8888888888888888,\"#fdca26\"],[1.0,\"#f0f921\"]],\"type\":\"surface\"}],\"table\":[{\"cells\":{\"fill\":{\"color\":\"#EBF0F8\"},\"line\":{\"color\":\"white\"}},\"header\":{\"fill\":{\"color\":\"#C8D4E3\"},\"line\":{\"color\":\"white\"}},\"type\":\"table\"}]},\"layout\":{\"annotationdefaults\":{\"arrowcolor\":\"#2a3f5f\",\"arrowhead\":0,\"arrowwidth\":1},\"autotypenumbers\":\"strict\",\"coloraxis\":{\"colorbar\":{\"outlinewidth\":0,\"ticks\":\"\"}},\"colorscale\":{\"diverging\":[[0,\"#8e0152\"],[0.1,\"#c51b7d\"],[0.2,\"#de77ae\"],[0.3,\"#f1b6da\"],[0.4,\"#fde0ef\"],[0.5,\"#f7f7f7\"],[0.6,\"#e6f5d0\"],[0.7,\"#b8e186\"],[0.8,\"#7fbc41\"],[0.9,\"#4d9221\"],[1,\"#276419\"]],\"sequential\":[[0.0,\"#0d0887\"],[0.1111111111111111,\"#46039f\"],[0.2222222222222222,\"#7201a8\"],[0.3333333333333333,\"#9c179e\"],[0.4444444444444444,\"#bd3786\"],[0.5555555555555556,\"#d8576b\"],[0.6666666666666666,\"#ed7953\"],[0.7777777777777778,\"#fb9f3a\"],[0.8888888888888888,\"#fdca26\"],[1.0,\"#f0f921\"]],\"sequentialminus\":[[0.0,\"#0d0887\"],[0.1111111111111111,\"#46039f\"],[0.2222222222222222,\"#7201a8\"],[0.3333333333333333,\"#9c179e\"],[0.4444444444444444,\"#bd3786\"],[0.5555555555555556,\"#d8576b\"],[0.6666666666666666,\"#ed7953\"],[0.7777777777777778,\"#fb9f3a\"],[0.8888888888888888,\"#fdca26\"],[1.0,\"#f0f921\"]]},\"colorway\":[\"#636efa\",\"#EF553B\",\"#00cc96\",\"#ab63fa\",\"#FFA15A\",\"#19d3f3\",\"#FF6692\",\"#B6E880\",\"#FF97FF\",\"#FECB52\"],\"font\":{\"color\":\"#2a3f5f\"},\"geo\":{\"bgcolor\":\"white\",\"lakecolor\":\"white\",\"landcolor\":\"#E5ECF6\",\"showlakes\":true,\"showland\":true,\"subunitcolor\":\"white\"},\"hoverlabel\":{\"align\":\"left\"},\"hovermode\":\"closest\",\"mapbox\":{\"style\":\"light\"},\"paper_bgcolor\":\"white\",\"plot_bgcolor\":\"#E5ECF6\",\"polar\":{\"angularaxis\":{\"gridcolor\":\"white\",\"linecolor\":\"white\",\"ticks\":\"\"},\"bgcolor\":\"#E5ECF6\",\"radialaxis\":{\"gridcolor\":\"white\",\"linecolor\":\"white\",\"ticks\":\"\"}},\"scene\":{\"xaxis\":{\"backgroundcolor\":\"#E5ECF6\",\"gridcolor\":\"white\",\"gridwidth\":2,\"linecolor\":\"white\",\"showbackground\":true,\"ticks\":\"\",\"zerolinecolor\":\"white\"},\"yaxis\":{\"backgroundcolor\":\"#E5ECF6\",\"gridcolor\":\"white\",\"gridwidth\":2,\"linecolor\":\"white\",\"showbackground\":true,\"ticks\":\"\",\"zerolinecolor\":\"white\"},\"zaxis\":{\"backgroundcolor\":\"#E5ECF6\",\"gridcolor\":\"white\",\"gridwidth\":2,\"linecolor\":\"white\",\"showbackground\":true,\"ticks\":\"\",\"zerolinecolor\":\"white\"}},\"shapedefaults\":{\"line\":{\"color\":\"#2a3f5f\"}},\"ternary\":{\"aaxis\":{\"gridcolor\":\"white\",\"linecolor\":\"white\",\"ticks\":\"\"},\"baxis\":{\"gridcolor\":\"white\",\"linecolor\":\"white\",\"ticks\":\"\"},\"bgcolor\":\"#E5ECF6\",\"caxis\":{\"gridcolor\":\"white\",\"linecolor\":\"white\",\"ticks\":\"\"}},\"title\":{\"x\":0.05},\"xaxis\":{\"automargin\":true,\"gridcolor\":\"white\",\"linecolor\":\"white\",\"ticks\":\"\",\"title\":{\"standoff\":15},\"zerolinecolor\":\"white\",\"zerolinewidth\":2},\"yaxis\":{\"automargin\":true,\"gridcolor\":\"white\",\"linecolor\":\"white\",\"ticks\":\"\",\"title\":{\"standoff\":15},\"zerolinecolor\":\"white\",\"zerolinewidth\":2}}}},                        {\"responsive\": true}                    ).then(function(){\n",
       "                            \n",
       "var gd = document.getElementById('ca68fc2c-3680-4c4a-91df-10be62055366');\n",
       "var x = new MutationObserver(function (mutations, observer) {{\n",
       "        var display = window.getComputedStyle(gd).display;\n",
       "        if (!display || display === 'none') {{\n",
       "            console.log([gd, 'removed!']);\n",
       "            Plotly.purge(gd);\n",
       "            observer.disconnect();\n",
       "        }}\n",
       "}});\n",
       "\n",
       "// Listen for the removal of the full notebook cells\n",
       "var notebookContainer = gd.closest('#notebook-container');\n",
       "if (notebookContainer) {{\n",
       "    x.observe(notebookContainer, {childList: true});\n",
       "}}\n",
       "\n",
       "// Listen for the clearing of the current output cell\n",
       "var outputEl = gd.closest('.output');\n",
       "if (outputEl) {{\n",
       "    x.observe(outputEl, {childList: true});\n",
       "}}\n",
       "\n",
       "                        })                };                });            </script>        </div>"
      ]
     },
     "metadata": {},
     "output_type": "display_data"
    },
    {
     "data": {
      "text/html": [
       "<html>\n",
       "<head><meta charset=\"utf-8\" /></head>\n",
       "<body>\n",
       "    <div>            <script src=\"https://cdnjs.cloudflare.com/ajax/libs/mathjax/2.7.5/MathJax.js?config=TeX-AMS-MML_SVG\"></script><script type=\"text/javascript\">if (window.MathJax && window.MathJax.Hub && && window.MathJax.Hub.Config) {window.MathJax.Hub.Config({SVG: {font: \"STIX-Web\"}});}</script>                <script type=\"text/javascript\">window.PlotlyConfig = {MathJaxConfig: 'local'};</script>\n",
       "        <script src=\"https://cdn.plot.ly/plotly-2.12.1.min.js\"></script>                <div id=\"e04803aa-6511-49a1-9920-bbc80f072f70\" class=\"plotly-graph-div\" style=\"height:1000px; width:100%;\"></div>            <script type=\"text/javascript\">                                    window.PLOTLYENV=window.PLOTLYENV || {};                                    if (document.getElementById(\"e04803aa-6511-49a1-9920-bbc80f072f70\")) {                    Plotly.newPlot(                        \"e04803aa-6511-49a1-9920-bbc80f072f70\",                        [{\"colorbar\":{\"title\":{\"text\":\"Rate of projects approved\"}},\"colorscale\":[[0.0,\"rgb(36, 86, 104)\"],[0.16666666666666666,\"rgb(15, 114, 121)\"],[0.3333333333333333,\"rgb(13, 143, 129)\"],[0.5,\"rgb(57, 171, 126)\"],[0.6666666666666666,\"rgb(110, 197, 116)\"],[0.8333333333333334,\"rgb(169, 220, 103)\"],[1.0,\"rgb(237, 239, 93)\"]],\"locationmode\":\"USA-states\",\"locations\":[\"AK\",\"AL\",\"AR\",\"AZ\",\"CA\",\"CO\",\"CT\",\"DC\",\"DE\",\"FL\",\"GA\",\"HI\",\"IA\",\"ID\",\"IL\",\"IN\",\"KS\",\"KY\",\"LA\",\"MA\",\"MD\",\"ME\",\"MI\",\"MN\",\"MO\",\"MS\",\"MT\",\"NC\",\"ND\",\"NE\",\"NH\",\"NJ\",\"NM\",\"NV\",\"NY\",\"OH\",\"OK\",\"OR\",\"PA\",\"RI\",\"SC\",\"SD\",\"TN\",\"TX\",\"UT\",\"VA\",\"VT\",\"WA\",\"WI\",\"WV\",\"WY\"],\"z\":[290,1506,872,1800,13205,935,1445,414,308,5144,3329,434,568,579,3710,2214,532,1126,1990,2055,1270,428,2672,1036,2202,1118,200,4353,127,260,304,1888,479,1167,6291,2159,1900,1056,2658,243,3385,252,1435,6014,1448,1739,64,2045,1545,430,82],\"type\":\"choropleth\"}],                        {\"geo\":{\"scope\":\"usa\"},\"template\":{\"data\":{\"histogram2dcontour\":[{\"type\":\"histogram2dcontour\",\"colorbar\":{\"outlinewidth\":0,\"ticks\":\"\"},\"colorscale\":[[0.0,\"#0d0887\"],[0.1111111111111111,\"#46039f\"],[0.2222222222222222,\"#7201a8\"],[0.3333333333333333,\"#9c179e\"],[0.4444444444444444,\"#bd3786\"],[0.5555555555555556,\"#d8576b\"],[0.6666666666666666,\"#ed7953\"],[0.7777777777777778,\"#fb9f3a\"],[0.8888888888888888,\"#fdca26\"],[1.0,\"#f0f921\"]]}],\"choropleth\":[{\"type\":\"choropleth\",\"colorbar\":{\"outlinewidth\":0,\"ticks\":\"\"}}],\"histogram2d\":[{\"type\":\"histogram2d\",\"colorbar\":{\"outlinewidth\":0,\"ticks\":\"\"},\"colorscale\":[[0.0,\"#0d0887\"],[0.1111111111111111,\"#46039f\"],[0.2222222222222222,\"#7201a8\"],[0.3333333333333333,\"#9c179e\"],[0.4444444444444444,\"#bd3786\"],[0.5555555555555556,\"#d8576b\"],[0.6666666666666666,\"#ed7953\"],[0.7777777777777778,\"#fb9f3a\"],[0.8888888888888888,\"#fdca26\"],[1.0,\"#f0f921\"]]}],\"heatmap\":[{\"type\":\"heatmap\",\"colorbar\":{\"outlinewidth\":0,\"ticks\":\"\"},\"colorscale\":[[0.0,\"#0d0887\"],[0.1111111111111111,\"#46039f\"],[0.2222222222222222,\"#7201a8\"],[0.3333333333333333,\"#9c179e\"],[0.4444444444444444,\"#bd3786\"],[0.5555555555555556,\"#d8576b\"],[0.6666666666666666,\"#ed7953\"],[0.7777777777777778,\"#fb9f3a\"],[0.8888888888888888,\"#fdca26\"],[1.0,\"#f0f921\"]]}],\"heatmapgl\":[{\"type\":\"heatmapgl\",\"colorbar\":{\"outlinewidth\":0,\"ticks\":\"\"},\"colorscale\":[[0.0,\"#0d0887\"],[0.1111111111111111,\"#46039f\"],[0.2222222222222222,\"#7201a8\"],[0.3333333333333333,\"#9c179e\"],[0.4444444444444444,\"#bd3786\"],[0.5555555555555556,\"#d8576b\"],[0.6666666666666666,\"#ed7953\"],[0.7777777777777778,\"#fb9f3a\"],[0.8888888888888888,\"#fdca26\"],[1.0,\"#f0f921\"]]}],\"contourcarpet\":[{\"type\":\"contourcarpet\",\"colorbar\":{\"outlinewidth\":0,\"ticks\":\"\"}}],\"contour\":[{\"type\":\"contour\",\"colorbar\":{\"outlinewidth\":0,\"ticks\":\"\"},\"colorscale\":[[0.0,\"#0d0887\"],[0.1111111111111111,\"#46039f\"],[0.2222222222222222,\"#7201a8\"],[0.3333333333333333,\"#9c179e\"],[0.4444444444444444,\"#bd3786\"],[0.5555555555555556,\"#d8576b\"],[0.6666666666666666,\"#ed7953\"],[0.7777777777777778,\"#fb9f3a\"],[0.8888888888888888,\"#fdca26\"],[1.0,\"#f0f921\"]]}],\"surface\":[{\"type\":\"surface\",\"colorbar\":{\"outlinewidth\":0,\"ticks\":\"\"},\"colorscale\":[[0.0,\"#0d0887\"],[0.1111111111111111,\"#46039f\"],[0.2222222222222222,\"#7201a8\"],[0.3333333333333333,\"#9c179e\"],[0.4444444444444444,\"#bd3786\"],[0.5555555555555556,\"#d8576b\"],[0.6666666666666666,\"#ed7953\"],[0.7777777777777778,\"#fb9f3a\"],[0.8888888888888888,\"#fdca26\"],[1.0,\"#f0f921\"]]}],\"mesh3d\":[{\"type\":\"mesh3d\",\"colorbar\":{\"outlinewidth\":0,\"ticks\":\"\"}}],\"scatter\":[{\"fillpattern\":{\"fillmode\":\"overlay\",\"size\":10,\"solidity\":0.2},\"type\":\"scatter\"}],\"parcoords\":[{\"type\":\"parcoords\",\"line\":{\"colorbar\":{\"outlinewidth\":0,\"ticks\":\"\"}}}],\"scatterpolargl\":[{\"type\":\"scatterpolargl\",\"marker\":{\"colorbar\":{\"outlinewidth\":0,\"ticks\":\"\"}}}],\"bar\":[{\"error_x\":{\"color\":\"#2a3f5f\"},\"error_y\":{\"color\":\"#2a3f5f\"},\"marker\":{\"line\":{\"color\":\"#E5ECF6\",\"width\":0.5},\"pattern\":{\"fillmode\":\"overlay\",\"size\":10,\"solidity\":0.2}},\"type\":\"bar\"}],\"scattergeo\":[{\"type\":\"scattergeo\",\"marker\":{\"colorbar\":{\"outlinewidth\":0,\"ticks\":\"\"}}}],\"scatterpolar\":[{\"type\":\"scatterpolar\",\"marker\":{\"colorbar\":{\"outlinewidth\":0,\"ticks\":\"\"}}}],\"histogram\":[{\"marker\":{\"pattern\":{\"fillmode\":\"overlay\",\"size\":10,\"solidity\":0.2}},\"type\":\"histogram\"}],\"scattergl\":[{\"type\":\"scattergl\",\"marker\":{\"colorbar\":{\"outlinewidth\":0,\"ticks\":\"\"}}}],\"scatter3d\":[{\"type\":\"scatter3d\",\"line\":{\"colorbar\":{\"outlinewidth\":0,\"ticks\":\"\"}},\"marker\":{\"colorbar\":{\"outlinewidth\":0,\"ticks\":\"\"}}}],\"scattermapbox\":[{\"type\":\"scattermapbox\",\"marker\":{\"colorbar\":{\"outlinewidth\":0,\"ticks\":\"\"}}}],\"scatterternary\":[{\"type\":\"scatterternary\",\"marker\":{\"colorbar\":{\"outlinewidth\":0,\"ticks\":\"\"}}}],\"scattercarpet\":[{\"type\":\"scattercarpet\",\"marker\":{\"colorbar\":{\"outlinewidth\":0,\"ticks\":\"\"}}}],\"carpet\":[{\"aaxis\":{\"endlinecolor\":\"#2a3f5f\",\"gridcolor\":\"white\",\"linecolor\":\"white\",\"minorgridcolor\":\"white\",\"startlinecolor\":\"#2a3f5f\"},\"baxis\":{\"endlinecolor\":\"#2a3f5f\",\"gridcolor\":\"white\",\"linecolor\":\"white\",\"minorgridcolor\":\"white\",\"startlinecolor\":\"#2a3f5f\"},\"type\":\"carpet\"}],\"table\":[{\"cells\":{\"fill\":{\"color\":\"#EBF0F8\"},\"line\":{\"color\":\"white\"}},\"header\":{\"fill\":{\"color\":\"#C8D4E3\"},\"line\":{\"color\":\"white\"}},\"type\":\"table\"}],\"barpolar\":[{\"marker\":{\"line\":{\"color\":\"#E5ECF6\",\"width\":0.5},\"pattern\":{\"fillmode\":\"overlay\",\"size\":10,\"solidity\":0.2}},\"type\":\"barpolar\"}],\"pie\":[{\"automargin\":true,\"type\":\"pie\"}]},\"layout\":{\"autotypenumbers\":\"strict\",\"colorway\":[\"#636efa\",\"#EF553B\",\"#00cc96\",\"#ab63fa\",\"#FFA15A\",\"#19d3f3\",\"#FF6692\",\"#B6E880\",\"#FF97FF\",\"#FECB52\"],\"font\":{\"color\":\"#2a3f5f\"},\"hovermode\":\"closest\",\"hoverlabel\":{\"align\":\"left\"},\"paper_bgcolor\":\"white\",\"plot_bgcolor\":\"#E5ECF6\",\"polar\":{\"bgcolor\":\"#E5ECF6\",\"angularaxis\":{\"gridcolor\":\"white\",\"linecolor\":\"white\",\"ticks\":\"\"},\"radialaxis\":{\"gridcolor\":\"white\",\"linecolor\":\"white\",\"ticks\":\"\"}},\"ternary\":{\"bgcolor\":\"#E5ECF6\",\"aaxis\":{\"gridcolor\":\"white\",\"linecolor\":\"white\",\"ticks\":\"\"},\"baxis\":{\"gridcolor\":\"white\",\"linecolor\":\"white\",\"ticks\":\"\"},\"caxis\":{\"gridcolor\":\"white\",\"linecolor\":\"white\",\"ticks\":\"\"}},\"coloraxis\":{\"colorbar\":{\"outlinewidth\":0,\"ticks\":\"\"}},\"colorscale\":{\"sequential\":[[0.0,\"#0d0887\"],[0.1111111111111111,\"#46039f\"],[0.2222222222222222,\"#7201a8\"],[0.3333333333333333,\"#9c179e\"],[0.4444444444444444,\"#bd3786\"],[0.5555555555555556,\"#d8576b\"],[0.6666666666666666,\"#ed7953\"],[0.7777777777777778,\"#fb9f3a\"],[0.8888888888888888,\"#fdca26\"],[1.0,\"#f0f921\"]],\"sequentialminus\":[[0.0,\"#0d0887\"],[0.1111111111111111,\"#46039f\"],[0.2222222222222222,\"#7201a8\"],[0.3333333333333333,\"#9c179e\"],[0.4444444444444444,\"#bd3786\"],[0.5555555555555556,\"#d8576b\"],[0.6666666666666666,\"#ed7953\"],[0.7777777777777778,\"#fb9f3a\"],[0.8888888888888888,\"#fdca26\"],[1.0,\"#f0f921\"]],\"diverging\":[[0,\"#8e0152\"],[0.1,\"#c51b7d\"],[0.2,\"#de77ae\"],[0.3,\"#f1b6da\"],[0.4,\"#fde0ef\"],[0.5,\"#f7f7f7\"],[0.6,\"#e6f5d0\"],[0.7,\"#b8e186\"],[0.8,\"#7fbc41\"],[0.9,\"#4d9221\"],[1,\"#276419\"]]},\"xaxis\":{\"gridcolor\":\"white\",\"linecolor\":\"white\",\"ticks\":\"\",\"title\":{\"standoff\":15},\"zerolinecolor\":\"white\",\"automargin\":true,\"zerolinewidth\":2},\"yaxis\":{\"gridcolor\":\"white\",\"linecolor\":\"white\",\"ticks\":\"\",\"title\":{\"standoff\":15},\"zerolinecolor\":\"white\",\"automargin\":true,\"zerolinewidth\":2},\"scene\":{\"xaxis\":{\"backgroundcolor\":\"#E5ECF6\",\"gridcolor\":\"white\",\"linecolor\":\"white\",\"showbackground\":true,\"ticks\":\"\",\"zerolinecolor\":\"white\",\"gridwidth\":2},\"yaxis\":{\"backgroundcolor\":\"#E5ECF6\",\"gridcolor\":\"white\",\"linecolor\":\"white\",\"showbackground\":true,\"ticks\":\"\",\"zerolinecolor\":\"white\",\"gridwidth\":2},\"zaxis\":{\"backgroundcolor\":\"#E5ECF6\",\"gridcolor\":\"white\",\"linecolor\":\"white\",\"showbackground\":true,\"ticks\":\"\",\"zerolinecolor\":\"white\",\"gridwidth\":2}},\"shapedefaults\":{\"line\":{\"color\":\"#2a3f5f\"}},\"annotationdefaults\":{\"arrowcolor\":\"#2a3f5f\",\"arrowhead\":0,\"arrowwidth\":1},\"geo\":{\"bgcolor\":\"white\",\"landcolor\":\"#E5ECF6\",\"subunitcolor\":\"white\",\"showland\":true,\"showlakes\":true,\"lakecolor\":\"white\"},\"title\":{\"x\":0.05},\"mapbox\":{\"style\":\"light\"}}},\"margin\":{\"t\":0,\"r\":0,\"l\":0,\"b\":0},\"height\":1000},                        {\"responsive\": true}                    ).then(function(){\n",
       "                            \n",
       "var gd = document.getElementById('e04803aa-6511-49a1-9920-bbc80f072f70');\n",
       "var x = new MutationObserver(function (mutations, observer) {{\n",
       "        var display = window.getComputedStyle(gd).display;\n",
       "        if (!display || display === 'none') {{\n",
       "            console.log([gd, 'removed!']);\n",
       "            Plotly.purge(gd);\n",
       "            observer.disconnect();\n",
       "        }}\n",
       "}});\n",
       "\n",
       "// Listen for the removal of the full notebook cells\n",
       "var notebookContainer = gd.closest('#notebook-container');\n",
       "if (notebookContainer) {{\n",
       "    x.observe(notebookContainer, {childList: true});\n",
       "}}\n",
       "\n",
       "// Listen for the clearing of the current output cell\n",
       "var outputEl = gd.closest('.output');\n",
       "if (outputEl) {{\n",
       "    x.observe(outputEl, {childList: true});\n",
       "}}\n",
       "\n",
       "                        })                };                            </script>        </div>\n",
       "</body>\n",
       "</html>"
      ]
     },
     "metadata": {},
     "output_type": "display_data"
    }
   ],
   "source": [
    "df = donor_data[donor_data.project_is_approved == 1].groupby('school_state').count()\n",
    "df = df.reset_index().copy()\n",
    "\n",
    "# To establish connection\n",
    "init_notebook_mode(connected = True)\n",
    "  \n",
    "# type defined is choropleth to\n",
    "# plot geographical plots\n",
    "data = dict(type = 'choropleth',\n",
    "  \n",
    "            # locations\n",
    "            locations = locations,\n",
    "              \n",
    "            # States of USA\n",
    "            locationmode = 'USA-states',\n",
    "              \n",
    "            # colorscale can be added as per requirement\n",
    "            colorscale = 'aggrnyl',\n",
    "              \n",
    "            # text can be given anything you like\n",
    "            z = df['project_is_approved'].tolist(),\n",
    "            colorbar = {'title': 'Rate of projects approved'})\n",
    "              \n",
    "layout = dict(geo ={'scope': 'usa'})\n",
    "\n",
    "# passing data dictionary as a list \n",
    "choromap = go.Figure(data = [data], layout = layout)\n",
    "\n",
    "choromap.update_layout(height=1000, margin=dict(t=0, r=0, l=0, b=0))\n",
    "  \n",
    "# plotting graph\n",
    "iplot(choromap)\n",
    "\n",
    "choromap.show(renderer=\"colab\") "
   ]
  },
  {
   "cell_type": "markdown",
   "id": "2e580b23",
   "metadata": {
    "id": "I6y3I4qX1Qij",
    "papermill": {
     "duration": 0.033289,
     "end_time": "2023-04-26T13:54:06.379359",
     "exception": false,
     "start_time": "2023-04-26T13:54:06.346070",
     "status": "completed"
    },
    "tags": []
   },
   "source": [
    "### **% of projects approved w.r.t price**"
   ]
  },
  {
   "cell_type": "code",
   "execution_count": 8,
   "id": "9045cc28",
   "metadata": {
    "execution": {
     "iopub.execute_input": "2023-04-26T13:54:06.447891Z",
     "iopub.status.busy": "2023-04-26T13:54:06.447192Z",
     "iopub.status.idle": "2023-04-26T13:54:06.560931Z",
     "shell.execute_reply": "2023-04-26T13:54:06.559934Z"
    },
    "id": "ERD_4hzVSBlB",
    "papermill": {
     "duration": 0.150663,
     "end_time": "2023-04-26T13:54:06.563188",
     "exception": false,
     "start_time": "2023-04-26T13:54:06.412525",
     "status": "completed"
    },
    "tags": []
   },
   "outputs": [],
   "source": [
    "# Average amount of a single funded proposal in states\n",
    "\n",
    "mean_price = donor_data[donor_data.project_is_approved == 1].groupby('school_state').count()\n",
    "mean_price = mean_price.reset_index().copy()"
   ]
  },
  {
   "cell_type": "code",
   "execution_count": 9,
   "id": "3b3fc828",
   "metadata": {
    "execution": {
     "iopub.execute_input": "2023-04-26T13:54:06.631103Z",
     "iopub.status.busy": "2023-04-26T13:54:06.630423Z",
     "iopub.status.idle": "2023-04-26T13:54:06.670203Z",
     "shell.execute_reply": "2023-04-26T13:54:06.669410Z"
    },
    "id": "bYebhwbrZMEm",
    "outputId": "b372ce4a-f6c9-428f-f44c-1244da2ebbb9",
    "papermill": {
     "duration": 0.076612,
     "end_time": "2023-04-26T13:54:06.672314",
     "exception": false,
     "start_time": "2023-04-26T13:54:06.595702",
     "status": "completed"
    },
    "tags": []
   },
   "outputs": [
    {
     "data": {
      "text/html": [
       "        <script type=\"text/javascript\">\n",
       "        window.PlotlyConfig = {MathJaxConfig: 'local'};\n",
       "        if (window.MathJax && window.MathJax.Hub && window.MathJax.Hub.Config) {window.MathJax.Hub.Config({SVG: {font: \"STIX-Web\"}});}\n",
       "        if (typeof require !== 'undefined') {\n",
       "        require.undef(\"plotly\");\n",
       "        requirejs.config({\n",
       "            paths: {\n",
       "                'plotly': ['https://cdn.plot.ly/plotly-2.12.1.min']\n",
       "            }\n",
       "        });\n",
       "        require(['plotly'], function(Plotly) {\n",
       "            window._Plotly = Plotly;\n",
       "        });\n",
       "        }\n",
       "        </script>\n",
       "        "
      ]
     },
     "metadata": {},
     "output_type": "display_data"
    },
    {
     "data": {
      "application/vnd.plotly.v1+json": {
       "config": {
        "linkText": "Export to plot.ly",
        "plotlyServerURL": "https://plot.ly",
        "showLink": false
       },
       "data": [
        {
         "colorbar": {
          "title": {
           "text": "USD"
          }
         },
         "colorscale": [
          [
           0.0,
           "rgb(246, 210, 169)"
          ],
          [
           0.16666666666666666,
           "rgb(245, 183, 142)"
          ],
          [
           0.3333333333333333,
           "rgb(241, 156, 124)"
          ],
          [
           0.5,
           "rgb(234, 129, 113)"
          ],
          [
           0.6666666666666666,
           "rgb(221, 104, 108)"
          ],
          [
           0.8333333333333334,
           "rgb(202, 82, 104)"
          ],
          [
           1.0,
           "rgb(177, 63, 100)"
          ]
         ],
         "locationmode": "USA-states",
         "locations": [
          "AK",
          "AL",
          "AR",
          "AZ",
          "CA",
          "CO",
          "CT",
          "DC",
          "DE",
          "FL",
          "GA",
          "HI",
          "IA",
          "ID",
          "IL",
          "IN",
          "KS",
          "KY",
          "LA",
          "MA",
          "MD",
          "ME",
          "MI",
          "MN",
          "MO",
          "MS",
          "MT",
          "NC",
          "ND",
          "NE",
          "NH",
          "NJ",
          "NM",
          "NV",
          "NY",
          "OH",
          "OK",
          "OR",
          "PA",
          "RI",
          "SC",
          "SD",
          "TN",
          "TX",
          "UT",
          "VA",
          "VT",
          "WA",
          "WI",
          "WV",
          "WY"
         ],
         "type": "choropleth",
         "z": [
          290,
          1506,
          872,
          1800,
          13205,
          935,
          1445,
          414,
          308,
          5144,
          3329,
          434,
          568,
          579,
          3710,
          2214,
          532,
          1126,
          1990,
          2055,
          1270,
          428,
          2672,
          1036,
          2202,
          1118,
          200,
          4353,
          127,
          260,
          304,
          1888,
          479,
          1167,
          6291,
          2159,
          1900,
          1056,
          2658,
          243,
          3385,
          252,
          1435,
          6014,
          1448,
          1739,
          64,
          2045,
          1545,
          430,
          82
         ]
        }
       ],
       "layout": {
        "geo": {
         "scope": "usa"
        },
        "height": 1000,
        "margin": {
         "l": 0,
         "r": 0,
         "t": 0
        },
        "template": {
         "data": {
          "bar": [
           {
            "error_x": {
             "color": "#2a3f5f"
            },
            "error_y": {
             "color": "#2a3f5f"
            },
            "marker": {
             "line": {
              "color": "#E5ECF6",
              "width": 0.5
             },
             "pattern": {
              "fillmode": "overlay",
              "size": 10,
              "solidity": 0.2
             }
            },
            "type": "bar"
           }
          ],
          "barpolar": [
           {
            "marker": {
             "line": {
              "color": "#E5ECF6",
              "width": 0.5
             },
             "pattern": {
              "fillmode": "overlay",
              "size": 10,
              "solidity": 0.2
             }
            },
            "type": "barpolar"
           }
          ],
          "carpet": [
           {
            "aaxis": {
             "endlinecolor": "#2a3f5f",
             "gridcolor": "white",
             "linecolor": "white",
             "minorgridcolor": "white",
             "startlinecolor": "#2a3f5f"
            },
            "baxis": {
             "endlinecolor": "#2a3f5f",
             "gridcolor": "white",
             "linecolor": "white",
             "minorgridcolor": "white",
             "startlinecolor": "#2a3f5f"
            },
            "type": "carpet"
           }
          ],
          "choropleth": [
           {
            "colorbar": {
             "outlinewidth": 0,
             "ticks": ""
            },
            "type": "choropleth"
           }
          ],
          "contour": [
           {
            "colorbar": {
             "outlinewidth": 0,
             "ticks": ""
            },
            "colorscale": [
             [
              0.0,
              "#0d0887"
             ],
             [
              0.1111111111111111,
              "#46039f"
             ],
             [
              0.2222222222222222,
              "#7201a8"
             ],
             [
              0.3333333333333333,
              "#9c179e"
             ],
             [
              0.4444444444444444,
              "#bd3786"
             ],
             [
              0.5555555555555556,
              "#d8576b"
             ],
             [
              0.6666666666666666,
              "#ed7953"
             ],
             [
              0.7777777777777778,
              "#fb9f3a"
             ],
             [
              0.8888888888888888,
              "#fdca26"
             ],
             [
              1.0,
              "#f0f921"
             ]
            ],
            "type": "contour"
           }
          ],
          "contourcarpet": [
           {
            "colorbar": {
             "outlinewidth": 0,
             "ticks": ""
            },
            "type": "contourcarpet"
           }
          ],
          "heatmap": [
           {
            "colorbar": {
             "outlinewidth": 0,
             "ticks": ""
            },
            "colorscale": [
             [
              0.0,
              "#0d0887"
             ],
             [
              0.1111111111111111,
              "#46039f"
             ],
             [
              0.2222222222222222,
              "#7201a8"
             ],
             [
              0.3333333333333333,
              "#9c179e"
             ],
             [
              0.4444444444444444,
              "#bd3786"
             ],
             [
              0.5555555555555556,
              "#d8576b"
             ],
             [
              0.6666666666666666,
              "#ed7953"
             ],
             [
              0.7777777777777778,
              "#fb9f3a"
             ],
             [
              0.8888888888888888,
              "#fdca26"
             ],
             [
              1.0,
              "#f0f921"
             ]
            ],
            "type": "heatmap"
           }
          ],
          "heatmapgl": [
           {
            "colorbar": {
             "outlinewidth": 0,
             "ticks": ""
            },
            "colorscale": [
             [
              0.0,
              "#0d0887"
             ],
             [
              0.1111111111111111,
              "#46039f"
             ],
             [
              0.2222222222222222,
              "#7201a8"
             ],
             [
              0.3333333333333333,
              "#9c179e"
             ],
             [
              0.4444444444444444,
              "#bd3786"
             ],
             [
              0.5555555555555556,
              "#d8576b"
             ],
             [
              0.6666666666666666,
              "#ed7953"
             ],
             [
              0.7777777777777778,
              "#fb9f3a"
             ],
             [
              0.8888888888888888,
              "#fdca26"
             ],
             [
              1.0,
              "#f0f921"
             ]
            ],
            "type": "heatmapgl"
           }
          ],
          "histogram": [
           {
            "marker": {
             "pattern": {
              "fillmode": "overlay",
              "size": 10,
              "solidity": 0.2
             }
            },
            "type": "histogram"
           }
          ],
          "histogram2d": [
           {
            "colorbar": {
             "outlinewidth": 0,
             "ticks": ""
            },
            "colorscale": [
             [
              0.0,
              "#0d0887"
             ],
             [
              0.1111111111111111,
              "#46039f"
             ],
             [
              0.2222222222222222,
              "#7201a8"
             ],
             [
              0.3333333333333333,
              "#9c179e"
             ],
             [
              0.4444444444444444,
              "#bd3786"
             ],
             [
              0.5555555555555556,
              "#d8576b"
             ],
             [
              0.6666666666666666,
              "#ed7953"
             ],
             [
              0.7777777777777778,
              "#fb9f3a"
             ],
             [
              0.8888888888888888,
              "#fdca26"
             ],
             [
              1.0,
              "#f0f921"
             ]
            ],
            "type": "histogram2d"
           }
          ],
          "histogram2dcontour": [
           {
            "colorbar": {
             "outlinewidth": 0,
             "ticks": ""
            },
            "colorscale": [
             [
              0.0,
              "#0d0887"
             ],
             [
              0.1111111111111111,
              "#46039f"
             ],
             [
              0.2222222222222222,
              "#7201a8"
             ],
             [
              0.3333333333333333,
              "#9c179e"
             ],
             [
              0.4444444444444444,
              "#bd3786"
             ],
             [
              0.5555555555555556,
              "#d8576b"
             ],
             [
              0.6666666666666666,
              "#ed7953"
             ],
             [
              0.7777777777777778,
              "#fb9f3a"
             ],
             [
              0.8888888888888888,
              "#fdca26"
             ],
             [
              1.0,
              "#f0f921"
             ]
            ],
            "type": "histogram2dcontour"
           }
          ],
          "mesh3d": [
           {
            "colorbar": {
             "outlinewidth": 0,
             "ticks": ""
            },
            "type": "mesh3d"
           }
          ],
          "parcoords": [
           {
            "line": {
             "colorbar": {
              "outlinewidth": 0,
              "ticks": ""
             }
            },
            "type": "parcoords"
           }
          ],
          "pie": [
           {
            "automargin": true,
            "type": "pie"
           }
          ],
          "scatter": [
           {
            "fillpattern": {
             "fillmode": "overlay",
             "size": 10,
             "solidity": 0.2
            },
            "type": "scatter"
           }
          ],
          "scatter3d": [
           {
            "line": {
             "colorbar": {
              "outlinewidth": 0,
              "ticks": ""
             }
            },
            "marker": {
             "colorbar": {
              "outlinewidth": 0,
              "ticks": ""
             }
            },
            "type": "scatter3d"
           }
          ],
          "scattercarpet": [
           {
            "marker": {
             "colorbar": {
              "outlinewidth": 0,
              "ticks": ""
             }
            },
            "type": "scattercarpet"
           }
          ],
          "scattergeo": [
           {
            "marker": {
             "colorbar": {
              "outlinewidth": 0,
              "ticks": ""
             }
            },
            "type": "scattergeo"
           }
          ],
          "scattergl": [
           {
            "marker": {
             "colorbar": {
              "outlinewidth": 0,
              "ticks": ""
             }
            },
            "type": "scattergl"
           }
          ],
          "scattermapbox": [
           {
            "marker": {
             "colorbar": {
              "outlinewidth": 0,
              "ticks": ""
             }
            },
            "type": "scattermapbox"
           }
          ],
          "scatterpolar": [
           {
            "marker": {
             "colorbar": {
              "outlinewidth": 0,
              "ticks": ""
             }
            },
            "type": "scatterpolar"
           }
          ],
          "scatterpolargl": [
           {
            "marker": {
             "colorbar": {
              "outlinewidth": 0,
              "ticks": ""
             }
            },
            "type": "scatterpolargl"
           }
          ],
          "scatterternary": [
           {
            "marker": {
             "colorbar": {
              "outlinewidth": 0,
              "ticks": ""
             }
            },
            "type": "scatterternary"
           }
          ],
          "surface": [
           {
            "colorbar": {
             "outlinewidth": 0,
             "ticks": ""
            },
            "colorscale": [
             [
              0.0,
              "#0d0887"
             ],
             [
              0.1111111111111111,
              "#46039f"
             ],
             [
              0.2222222222222222,
              "#7201a8"
             ],
             [
              0.3333333333333333,
              "#9c179e"
             ],
             [
              0.4444444444444444,
              "#bd3786"
             ],
             [
              0.5555555555555556,
              "#d8576b"
             ],
             [
              0.6666666666666666,
              "#ed7953"
             ],
             [
              0.7777777777777778,
              "#fb9f3a"
             ],
             [
              0.8888888888888888,
              "#fdca26"
             ],
             [
              1.0,
              "#f0f921"
             ]
            ],
            "type": "surface"
           }
          ],
          "table": [
           {
            "cells": {
             "fill": {
              "color": "#EBF0F8"
             },
             "line": {
              "color": "white"
             }
            },
            "header": {
             "fill": {
              "color": "#C8D4E3"
             },
             "line": {
              "color": "white"
             }
            },
            "type": "table"
           }
          ]
         },
         "layout": {
          "annotationdefaults": {
           "arrowcolor": "#2a3f5f",
           "arrowhead": 0,
           "arrowwidth": 1
          },
          "autotypenumbers": "strict",
          "coloraxis": {
           "colorbar": {
            "outlinewidth": 0,
            "ticks": ""
           }
          },
          "colorscale": {
           "diverging": [
            [
             0,
             "#8e0152"
            ],
            [
             0.1,
             "#c51b7d"
            ],
            [
             0.2,
             "#de77ae"
            ],
            [
             0.3,
             "#f1b6da"
            ],
            [
             0.4,
             "#fde0ef"
            ],
            [
             0.5,
             "#f7f7f7"
            ],
            [
             0.6,
             "#e6f5d0"
            ],
            [
             0.7,
             "#b8e186"
            ],
            [
             0.8,
             "#7fbc41"
            ],
            [
             0.9,
             "#4d9221"
            ],
            [
             1,
             "#276419"
            ]
           ],
           "sequential": [
            [
             0.0,
             "#0d0887"
            ],
            [
             0.1111111111111111,
             "#46039f"
            ],
            [
             0.2222222222222222,
             "#7201a8"
            ],
            [
             0.3333333333333333,
             "#9c179e"
            ],
            [
             0.4444444444444444,
             "#bd3786"
            ],
            [
             0.5555555555555556,
             "#d8576b"
            ],
            [
             0.6666666666666666,
             "#ed7953"
            ],
            [
             0.7777777777777778,
             "#fb9f3a"
            ],
            [
             0.8888888888888888,
             "#fdca26"
            ],
            [
             1.0,
             "#f0f921"
            ]
           ],
           "sequentialminus": [
            [
             0.0,
             "#0d0887"
            ],
            [
             0.1111111111111111,
             "#46039f"
            ],
            [
             0.2222222222222222,
             "#7201a8"
            ],
            [
             0.3333333333333333,
             "#9c179e"
            ],
            [
             0.4444444444444444,
             "#bd3786"
            ],
            [
             0.5555555555555556,
             "#d8576b"
            ],
            [
             0.6666666666666666,
             "#ed7953"
            ],
            [
             0.7777777777777778,
             "#fb9f3a"
            ],
            [
             0.8888888888888888,
             "#fdca26"
            ],
            [
             1.0,
             "#f0f921"
            ]
           ]
          },
          "colorway": [
           "#636efa",
           "#EF553B",
           "#00cc96",
           "#ab63fa",
           "#FFA15A",
           "#19d3f3",
           "#FF6692",
           "#B6E880",
           "#FF97FF",
           "#FECB52"
          ],
          "font": {
           "color": "#2a3f5f"
          },
          "geo": {
           "bgcolor": "white",
           "lakecolor": "white",
           "landcolor": "#E5ECF6",
           "showlakes": true,
           "showland": true,
           "subunitcolor": "white"
          },
          "hoverlabel": {
           "align": "left"
          },
          "hovermode": "closest",
          "mapbox": {
           "style": "light"
          },
          "paper_bgcolor": "white",
          "plot_bgcolor": "#E5ECF6",
          "polar": {
           "angularaxis": {
            "gridcolor": "white",
            "linecolor": "white",
            "ticks": ""
           },
           "bgcolor": "#E5ECF6",
           "radialaxis": {
            "gridcolor": "white",
            "linecolor": "white",
            "ticks": ""
           }
          },
          "scene": {
           "xaxis": {
            "backgroundcolor": "#E5ECF6",
            "gridcolor": "white",
            "gridwidth": 2,
            "linecolor": "white",
            "showbackground": true,
            "ticks": "",
            "zerolinecolor": "white"
           },
           "yaxis": {
            "backgroundcolor": "#E5ECF6",
            "gridcolor": "white",
            "gridwidth": 2,
            "linecolor": "white",
            "showbackground": true,
            "ticks": "",
            "zerolinecolor": "white"
           },
           "zaxis": {
            "backgroundcolor": "#E5ECF6",
            "gridcolor": "white",
            "gridwidth": 2,
            "linecolor": "white",
            "showbackground": true,
            "ticks": "",
            "zerolinecolor": "white"
           }
          },
          "shapedefaults": {
           "line": {
            "color": "#2a3f5f"
           }
          },
          "ternary": {
           "aaxis": {
            "gridcolor": "white",
            "linecolor": "white",
            "ticks": ""
           },
           "baxis": {
            "gridcolor": "white",
            "linecolor": "white",
            "ticks": ""
           },
           "bgcolor": "#E5ECF6",
           "caxis": {
            "gridcolor": "white",
            "linecolor": "white",
            "ticks": ""
           }
          },
          "title": {
           "x": 0.05
          },
          "xaxis": {
           "automargin": true,
           "gridcolor": "white",
           "linecolor": "white",
           "ticks": "",
           "title": {
            "standoff": 15
           },
           "zerolinecolor": "white",
           "zerolinewidth": 2
          },
          "yaxis": {
           "automargin": true,
           "gridcolor": "white",
           "linecolor": "white",
           "ticks": "",
           "title": {
            "standoff": 15
           },
           "zerolinecolor": "white",
           "zerolinewidth": 2
          }
         }
        }
       }
      },
      "text/html": [
       "<div>                            <div id=\"94954585-d65e-4ce9-b773-da164620fa85\" class=\"plotly-graph-div\" style=\"height:1000px; width:100%;\"></div>            <script type=\"text/javascript\">                require([\"plotly\"], function(Plotly) {                    window.PLOTLYENV=window.PLOTLYENV || {};                                    if (document.getElementById(\"94954585-d65e-4ce9-b773-da164620fa85\")) {                    Plotly.newPlot(                        \"94954585-d65e-4ce9-b773-da164620fa85\",                        [{\"colorbar\":{\"title\":{\"text\":\"USD\"}},\"colorscale\":[[0.0,\"rgb(246, 210, 169)\"],[0.16666666666666666,\"rgb(245, 183, 142)\"],[0.3333333333333333,\"rgb(241, 156, 124)\"],[0.5,\"rgb(234, 129, 113)\"],[0.6666666666666666,\"rgb(221, 104, 108)\"],[0.8333333333333334,\"rgb(202, 82, 104)\"],[1.0,\"rgb(177, 63, 100)\"]],\"locationmode\":\"USA-states\",\"locations\":[\"AK\",\"AL\",\"AR\",\"AZ\",\"CA\",\"CO\",\"CT\",\"DC\",\"DE\",\"FL\",\"GA\",\"HI\",\"IA\",\"ID\",\"IL\",\"IN\",\"KS\",\"KY\",\"LA\",\"MA\",\"MD\",\"ME\",\"MI\",\"MN\",\"MO\",\"MS\",\"MT\",\"NC\",\"ND\",\"NE\",\"NH\",\"NJ\",\"NM\",\"NV\",\"NY\",\"OH\",\"OK\",\"OR\",\"PA\",\"RI\",\"SC\",\"SD\",\"TN\",\"TX\",\"UT\",\"VA\",\"VT\",\"WA\",\"WI\",\"WV\",\"WY\"],\"z\":[290,1506,872,1800,13205,935,1445,414,308,5144,3329,434,568,579,3710,2214,532,1126,1990,2055,1270,428,2672,1036,2202,1118,200,4353,127,260,304,1888,479,1167,6291,2159,1900,1056,2658,243,3385,252,1435,6014,1448,1739,64,2045,1545,430,82],\"type\":\"choropleth\"}],                        {\"geo\":{\"scope\":\"usa\"},\"height\":1000,\"margin\":{\"l\":0,\"r\":0,\"t\":0},\"template\":{\"data\":{\"barpolar\":[{\"marker\":{\"line\":{\"color\":\"#E5ECF6\",\"width\":0.5},\"pattern\":{\"fillmode\":\"overlay\",\"size\":10,\"solidity\":0.2}},\"type\":\"barpolar\"}],\"bar\":[{\"error_x\":{\"color\":\"#2a3f5f\"},\"error_y\":{\"color\":\"#2a3f5f\"},\"marker\":{\"line\":{\"color\":\"#E5ECF6\",\"width\":0.5},\"pattern\":{\"fillmode\":\"overlay\",\"size\":10,\"solidity\":0.2}},\"type\":\"bar\"}],\"carpet\":[{\"aaxis\":{\"endlinecolor\":\"#2a3f5f\",\"gridcolor\":\"white\",\"linecolor\":\"white\",\"minorgridcolor\":\"white\",\"startlinecolor\":\"#2a3f5f\"},\"baxis\":{\"endlinecolor\":\"#2a3f5f\",\"gridcolor\":\"white\",\"linecolor\":\"white\",\"minorgridcolor\":\"white\",\"startlinecolor\":\"#2a3f5f\"},\"type\":\"carpet\"}],\"choropleth\":[{\"colorbar\":{\"outlinewidth\":0,\"ticks\":\"\"},\"type\":\"choropleth\"}],\"contourcarpet\":[{\"colorbar\":{\"outlinewidth\":0,\"ticks\":\"\"},\"type\":\"contourcarpet\"}],\"contour\":[{\"colorbar\":{\"outlinewidth\":0,\"ticks\":\"\"},\"colorscale\":[[0.0,\"#0d0887\"],[0.1111111111111111,\"#46039f\"],[0.2222222222222222,\"#7201a8\"],[0.3333333333333333,\"#9c179e\"],[0.4444444444444444,\"#bd3786\"],[0.5555555555555556,\"#d8576b\"],[0.6666666666666666,\"#ed7953\"],[0.7777777777777778,\"#fb9f3a\"],[0.8888888888888888,\"#fdca26\"],[1.0,\"#f0f921\"]],\"type\":\"contour\"}],\"heatmapgl\":[{\"colorbar\":{\"outlinewidth\":0,\"ticks\":\"\"},\"colorscale\":[[0.0,\"#0d0887\"],[0.1111111111111111,\"#46039f\"],[0.2222222222222222,\"#7201a8\"],[0.3333333333333333,\"#9c179e\"],[0.4444444444444444,\"#bd3786\"],[0.5555555555555556,\"#d8576b\"],[0.6666666666666666,\"#ed7953\"],[0.7777777777777778,\"#fb9f3a\"],[0.8888888888888888,\"#fdca26\"],[1.0,\"#f0f921\"]],\"type\":\"heatmapgl\"}],\"heatmap\":[{\"colorbar\":{\"outlinewidth\":0,\"ticks\":\"\"},\"colorscale\":[[0.0,\"#0d0887\"],[0.1111111111111111,\"#46039f\"],[0.2222222222222222,\"#7201a8\"],[0.3333333333333333,\"#9c179e\"],[0.4444444444444444,\"#bd3786\"],[0.5555555555555556,\"#d8576b\"],[0.6666666666666666,\"#ed7953\"],[0.7777777777777778,\"#fb9f3a\"],[0.8888888888888888,\"#fdca26\"],[1.0,\"#f0f921\"]],\"type\":\"heatmap\"}],\"histogram2dcontour\":[{\"colorbar\":{\"outlinewidth\":0,\"ticks\":\"\"},\"colorscale\":[[0.0,\"#0d0887\"],[0.1111111111111111,\"#46039f\"],[0.2222222222222222,\"#7201a8\"],[0.3333333333333333,\"#9c179e\"],[0.4444444444444444,\"#bd3786\"],[0.5555555555555556,\"#d8576b\"],[0.6666666666666666,\"#ed7953\"],[0.7777777777777778,\"#fb9f3a\"],[0.8888888888888888,\"#fdca26\"],[1.0,\"#f0f921\"]],\"type\":\"histogram2dcontour\"}],\"histogram2d\":[{\"colorbar\":{\"outlinewidth\":0,\"ticks\":\"\"},\"colorscale\":[[0.0,\"#0d0887\"],[0.1111111111111111,\"#46039f\"],[0.2222222222222222,\"#7201a8\"],[0.3333333333333333,\"#9c179e\"],[0.4444444444444444,\"#bd3786\"],[0.5555555555555556,\"#d8576b\"],[0.6666666666666666,\"#ed7953\"],[0.7777777777777778,\"#fb9f3a\"],[0.8888888888888888,\"#fdca26\"],[1.0,\"#f0f921\"]],\"type\":\"histogram2d\"}],\"histogram\":[{\"marker\":{\"pattern\":{\"fillmode\":\"overlay\",\"size\":10,\"solidity\":0.2}},\"type\":\"histogram\"}],\"mesh3d\":[{\"colorbar\":{\"outlinewidth\":0,\"ticks\":\"\"},\"type\":\"mesh3d\"}],\"parcoords\":[{\"line\":{\"colorbar\":{\"outlinewidth\":0,\"ticks\":\"\"}},\"type\":\"parcoords\"}],\"pie\":[{\"automargin\":true,\"type\":\"pie\"}],\"scatter3d\":[{\"line\":{\"colorbar\":{\"outlinewidth\":0,\"ticks\":\"\"}},\"marker\":{\"colorbar\":{\"outlinewidth\":0,\"ticks\":\"\"}},\"type\":\"scatter3d\"}],\"scattercarpet\":[{\"marker\":{\"colorbar\":{\"outlinewidth\":0,\"ticks\":\"\"}},\"type\":\"scattercarpet\"}],\"scattergeo\":[{\"marker\":{\"colorbar\":{\"outlinewidth\":0,\"ticks\":\"\"}},\"type\":\"scattergeo\"}],\"scattergl\":[{\"marker\":{\"colorbar\":{\"outlinewidth\":0,\"ticks\":\"\"}},\"type\":\"scattergl\"}],\"scattermapbox\":[{\"marker\":{\"colorbar\":{\"outlinewidth\":0,\"ticks\":\"\"}},\"type\":\"scattermapbox\"}],\"scatterpolargl\":[{\"marker\":{\"colorbar\":{\"outlinewidth\":0,\"ticks\":\"\"}},\"type\":\"scatterpolargl\"}],\"scatterpolar\":[{\"marker\":{\"colorbar\":{\"outlinewidth\":0,\"ticks\":\"\"}},\"type\":\"scatterpolar\"}],\"scatter\":[{\"fillpattern\":{\"fillmode\":\"overlay\",\"size\":10,\"solidity\":0.2},\"type\":\"scatter\"}],\"scatterternary\":[{\"marker\":{\"colorbar\":{\"outlinewidth\":0,\"ticks\":\"\"}},\"type\":\"scatterternary\"}],\"surface\":[{\"colorbar\":{\"outlinewidth\":0,\"ticks\":\"\"},\"colorscale\":[[0.0,\"#0d0887\"],[0.1111111111111111,\"#46039f\"],[0.2222222222222222,\"#7201a8\"],[0.3333333333333333,\"#9c179e\"],[0.4444444444444444,\"#bd3786\"],[0.5555555555555556,\"#d8576b\"],[0.6666666666666666,\"#ed7953\"],[0.7777777777777778,\"#fb9f3a\"],[0.8888888888888888,\"#fdca26\"],[1.0,\"#f0f921\"]],\"type\":\"surface\"}],\"table\":[{\"cells\":{\"fill\":{\"color\":\"#EBF0F8\"},\"line\":{\"color\":\"white\"}},\"header\":{\"fill\":{\"color\":\"#C8D4E3\"},\"line\":{\"color\":\"white\"}},\"type\":\"table\"}]},\"layout\":{\"annotationdefaults\":{\"arrowcolor\":\"#2a3f5f\",\"arrowhead\":0,\"arrowwidth\":1},\"autotypenumbers\":\"strict\",\"coloraxis\":{\"colorbar\":{\"outlinewidth\":0,\"ticks\":\"\"}},\"colorscale\":{\"diverging\":[[0,\"#8e0152\"],[0.1,\"#c51b7d\"],[0.2,\"#de77ae\"],[0.3,\"#f1b6da\"],[0.4,\"#fde0ef\"],[0.5,\"#f7f7f7\"],[0.6,\"#e6f5d0\"],[0.7,\"#b8e186\"],[0.8,\"#7fbc41\"],[0.9,\"#4d9221\"],[1,\"#276419\"]],\"sequential\":[[0.0,\"#0d0887\"],[0.1111111111111111,\"#46039f\"],[0.2222222222222222,\"#7201a8\"],[0.3333333333333333,\"#9c179e\"],[0.4444444444444444,\"#bd3786\"],[0.5555555555555556,\"#d8576b\"],[0.6666666666666666,\"#ed7953\"],[0.7777777777777778,\"#fb9f3a\"],[0.8888888888888888,\"#fdca26\"],[1.0,\"#f0f921\"]],\"sequentialminus\":[[0.0,\"#0d0887\"],[0.1111111111111111,\"#46039f\"],[0.2222222222222222,\"#7201a8\"],[0.3333333333333333,\"#9c179e\"],[0.4444444444444444,\"#bd3786\"],[0.5555555555555556,\"#d8576b\"],[0.6666666666666666,\"#ed7953\"],[0.7777777777777778,\"#fb9f3a\"],[0.8888888888888888,\"#fdca26\"],[1.0,\"#f0f921\"]]},\"colorway\":[\"#636efa\",\"#EF553B\",\"#00cc96\",\"#ab63fa\",\"#FFA15A\",\"#19d3f3\",\"#FF6692\",\"#B6E880\",\"#FF97FF\",\"#FECB52\"],\"font\":{\"color\":\"#2a3f5f\"},\"geo\":{\"bgcolor\":\"white\",\"lakecolor\":\"white\",\"landcolor\":\"#E5ECF6\",\"showlakes\":true,\"showland\":true,\"subunitcolor\":\"white\"},\"hoverlabel\":{\"align\":\"left\"},\"hovermode\":\"closest\",\"mapbox\":{\"style\":\"light\"},\"paper_bgcolor\":\"white\",\"plot_bgcolor\":\"#E5ECF6\",\"polar\":{\"angularaxis\":{\"gridcolor\":\"white\",\"linecolor\":\"white\",\"ticks\":\"\"},\"bgcolor\":\"#E5ECF6\",\"radialaxis\":{\"gridcolor\":\"white\",\"linecolor\":\"white\",\"ticks\":\"\"}},\"scene\":{\"xaxis\":{\"backgroundcolor\":\"#E5ECF6\",\"gridcolor\":\"white\",\"gridwidth\":2,\"linecolor\":\"white\",\"showbackground\":true,\"ticks\":\"\",\"zerolinecolor\":\"white\"},\"yaxis\":{\"backgroundcolor\":\"#E5ECF6\",\"gridcolor\":\"white\",\"gridwidth\":2,\"linecolor\":\"white\",\"showbackground\":true,\"ticks\":\"\",\"zerolinecolor\":\"white\"},\"zaxis\":{\"backgroundcolor\":\"#E5ECF6\",\"gridcolor\":\"white\",\"gridwidth\":2,\"linecolor\":\"white\",\"showbackground\":true,\"ticks\":\"\",\"zerolinecolor\":\"white\"}},\"shapedefaults\":{\"line\":{\"color\":\"#2a3f5f\"}},\"ternary\":{\"aaxis\":{\"gridcolor\":\"white\",\"linecolor\":\"white\",\"ticks\":\"\"},\"baxis\":{\"gridcolor\":\"white\",\"linecolor\":\"white\",\"ticks\":\"\"},\"bgcolor\":\"#E5ECF6\",\"caxis\":{\"gridcolor\":\"white\",\"linecolor\":\"white\",\"ticks\":\"\"}},\"title\":{\"x\":0.05},\"xaxis\":{\"automargin\":true,\"gridcolor\":\"white\",\"linecolor\":\"white\",\"ticks\":\"\",\"title\":{\"standoff\":15},\"zerolinecolor\":\"white\",\"zerolinewidth\":2},\"yaxis\":{\"automargin\":true,\"gridcolor\":\"white\",\"linecolor\":\"white\",\"ticks\":\"\",\"title\":{\"standoff\":15},\"zerolinecolor\":\"white\",\"zerolinewidth\":2}}}},                        {\"responsive\": true}                    ).then(function(){\n",
       "                            \n",
       "var gd = document.getElementById('94954585-d65e-4ce9-b773-da164620fa85');\n",
       "var x = new MutationObserver(function (mutations, observer) {{\n",
       "        var display = window.getComputedStyle(gd).display;\n",
       "        if (!display || display === 'none') {{\n",
       "            console.log([gd, 'removed!']);\n",
       "            Plotly.purge(gd);\n",
       "            observer.disconnect();\n",
       "        }}\n",
       "}});\n",
       "\n",
       "// Listen for the removal of the full notebook cells\n",
       "var notebookContainer = gd.closest('#notebook-container');\n",
       "if (notebookContainer) {{\n",
       "    x.observe(notebookContainer, {childList: true});\n",
       "}}\n",
       "\n",
       "// Listen for the clearing of the current output cell\n",
       "var outputEl = gd.closest('.output');\n",
       "if (outputEl) {{\n",
       "    x.observe(outputEl, {childList: true});\n",
       "}}\n",
       "\n",
       "                        })                };                });            </script>        </div>"
      ]
     },
     "metadata": {},
     "output_type": "display_data"
    },
    {
     "data": {
      "text/html": [
       "<html>\n",
       "<head><meta charset=\"utf-8\" /></head>\n",
       "<body>\n",
       "    <div>            <script src=\"https://cdnjs.cloudflare.com/ajax/libs/mathjax/2.7.5/MathJax.js?config=TeX-AMS-MML_SVG\"></script><script type=\"text/javascript\">if (window.MathJax && window.MathJax.Hub && && window.MathJax.Hub.Config) {window.MathJax.Hub.Config({SVG: {font: \"STIX-Web\"}});}</script>                <script type=\"text/javascript\">window.PlotlyConfig = {MathJaxConfig: 'local'};</script>\n",
       "        <script src=\"https://cdn.plot.ly/plotly-2.12.1.min.js\"></script>                <div id=\"b50f8821-f24c-4a7f-b0da-d0155ff57609\" class=\"plotly-graph-div\" style=\"height:1000px; width:100%;\"></div>            <script type=\"text/javascript\">                                    window.PLOTLYENV=window.PLOTLYENV || {};                                    if (document.getElementById(\"b50f8821-f24c-4a7f-b0da-d0155ff57609\")) {                    Plotly.newPlot(                        \"b50f8821-f24c-4a7f-b0da-d0155ff57609\",                        [{\"colorbar\":{\"title\":{\"text\":\"USD\"}},\"colorscale\":[[0.0,\"rgb(246, 210, 169)\"],[0.16666666666666666,\"rgb(245, 183, 142)\"],[0.3333333333333333,\"rgb(241, 156, 124)\"],[0.5,\"rgb(234, 129, 113)\"],[0.6666666666666666,\"rgb(221, 104, 108)\"],[0.8333333333333334,\"rgb(202, 82, 104)\"],[1.0,\"rgb(177, 63, 100)\"]],\"locationmode\":\"USA-states\",\"locations\":[\"AK\",\"AL\",\"AR\",\"AZ\",\"CA\",\"CO\",\"CT\",\"DC\",\"DE\",\"FL\",\"GA\",\"HI\",\"IA\",\"ID\",\"IL\",\"IN\",\"KS\",\"KY\",\"LA\",\"MA\",\"MD\",\"ME\",\"MI\",\"MN\",\"MO\",\"MS\",\"MT\",\"NC\",\"ND\",\"NE\",\"NH\",\"NJ\",\"NM\",\"NV\",\"NY\",\"OH\",\"OK\",\"OR\",\"PA\",\"RI\",\"SC\",\"SD\",\"TN\",\"TX\",\"UT\",\"VA\",\"VT\",\"WA\",\"WI\",\"WV\",\"WY\"],\"z\":[290,1506,872,1800,13205,935,1445,414,308,5144,3329,434,568,579,3710,2214,532,1126,1990,2055,1270,428,2672,1036,2202,1118,200,4353,127,260,304,1888,479,1167,6291,2159,1900,1056,2658,243,3385,252,1435,6014,1448,1739,64,2045,1545,430,82],\"type\":\"choropleth\"}],                        {\"geo\":{\"scope\":\"usa\"},\"template\":{\"data\":{\"histogram2dcontour\":[{\"type\":\"histogram2dcontour\",\"colorbar\":{\"outlinewidth\":0,\"ticks\":\"\"},\"colorscale\":[[0.0,\"#0d0887\"],[0.1111111111111111,\"#46039f\"],[0.2222222222222222,\"#7201a8\"],[0.3333333333333333,\"#9c179e\"],[0.4444444444444444,\"#bd3786\"],[0.5555555555555556,\"#d8576b\"],[0.6666666666666666,\"#ed7953\"],[0.7777777777777778,\"#fb9f3a\"],[0.8888888888888888,\"#fdca26\"],[1.0,\"#f0f921\"]]}],\"choropleth\":[{\"type\":\"choropleth\",\"colorbar\":{\"outlinewidth\":0,\"ticks\":\"\"}}],\"histogram2d\":[{\"type\":\"histogram2d\",\"colorbar\":{\"outlinewidth\":0,\"ticks\":\"\"},\"colorscale\":[[0.0,\"#0d0887\"],[0.1111111111111111,\"#46039f\"],[0.2222222222222222,\"#7201a8\"],[0.3333333333333333,\"#9c179e\"],[0.4444444444444444,\"#bd3786\"],[0.5555555555555556,\"#d8576b\"],[0.6666666666666666,\"#ed7953\"],[0.7777777777777778,\"#fb9f3a\"],[0.8888888888888888,\"#fdca26\"],[1.0,\"#f0f921\"]]}],\"heatmap\":[{\"type\":\"heatmap\",\"colorbar\":{\"outlinewidth\":0,\"ticks\":\"\"},\"colorscale\":[[0.0,\"#0d0887\"],[0.1111111111111111,\"#46039f\"],[0.2222222222222222,\"#7201a8\"],[0.3333333333333333,\"#9c179e\"],[0.4444444444444444,\"#bd3786\"],[0.5555555555555556,\"#d8576b\"],[0.6666666666666666,\"#ed7953\"],[0.7777777777777778,\"#fb9f3a\"],[0.8888888888888888,\"#fdca26\"],[1.0,\"#f0f921\"]]}],\"heatmapgl\":[{\"type\":\"heatmapgl\",\"colorbar\":{\"outlinewidth\":0,\"ticks\":\"\"},\"colorscale\":[[0.0,\"#0d0887\"],[0.1111111111111111,\"#46039f\"],[0.2222222222222222,\"#7201a8\"],[0.3333333333333333,\"#9c179e\"],[0.4444444444444444,\"#bd3786\"],[0.5555555555555556,\"#d8576b\"],[0.6666666666666666,\"#ed7953\"],[0.7777777777777778,\"#fb9f3a\"],[0.8888888888888888,\"#fdca26\"],[1.0,\"#f0f921\"]]}],\"contourcarpet\":[{\"type\":\"contourcarpet\",\"colorbar\":{\"outlinewidth\":0,\"ticks\":\"\"}}],\"contour\":[{\"type\":\"contour\",\"colorbar\":{\"outlinewidth\":0,\"ticks\":\"\"},\"colorscale\":[[0.0,\"#0d0887\"],[0.1111111111111111,\"#46039f\"],[0.2222222222222222,\"#7201a8\"],[0.3333333333333333,\"#9c179e\"],[0.4444444444444444,\"#bd3786\"],[0.5555555555555556,\"#d8576b\"],[0.6666666666666666,\"#ed7953\"],[0.7777777777777778,\"#fb9f3a\"],[0.8888888888888888,\"#fdca26\"],[1.0,\"#f0f921\"]]}],\"surface\":[{\"type\":\"surface\",\"colorbar\":{\"outlinewidth\":0,\"ticks\":\"\"},\"colorscale\":[[0.0,\"#0d0887\"],[0.1111111111111111,\"#46039f\"],[0.2222222222222222,\"#7201a8\"],[0.3333333333333333,\"#9c179e\"],[0.4444444444444444,\"#bd3786\"],[0.5555555555555556,\"#d8576b\"],[0.6666666666666666,\"#ed7953\"],[0.7777777777777778,\"#fb9f3a\"],[0.8888888888888888,\"#fdca26\"],[1.0,\"#f0f921\"]]}],\"mesh3d\":[{\"type\":\"mesh3d\",\"colorbar\":{\"outlinewidth\":0,\"ticks\":\"\"}}],\"scatter\":[{\"fillpattern\":{\"fillmode\":\"overlay\",\"size\":10,\"solidity\":0.2},\"type\":\"scatter\"}],\"parcoords\":[{\"type\":\"parcoords\",\"line\":{\"colorbar\":{\"outlinewidth\":0,\"ticks\":\"\"}}}],\"scatterpolargl\":[{\"type\":\"scatterpolargl\",\"marker\":{\"colorbar\":{\"outlinewidth\":0,\"ticks\":\"\"}}}],\"bar\":[{\"error_x\":{\"color\":\"#2a3f5f\"},\"error_y\":{\"color\":\"#2a3f5f\"},\"marker\":{\"line\":{\"color\":\"#E5ECF6\",\"width\":0.5},\"pattern\":{\"fillmode\":\"overlay\",\"size\":10,\"solidity\":0.2}},\"type\":\"bar\"}],\"scattergeo\":[{\"type\":\"scattergeo\",\"marker\":{\"colorbar\":{\"outlinewidth\":0,\"ticks\":\"\"}}}],\"scatterpolar\":[{\"type\":\"scatterpolar\",\"marker\":{\"colorbar\":{\"outlinewidth\":0,\"ticks\":\"\"}}}],\"histogram\":[{\"marker\":{\"pattern\":{\"fillmode\":\"overlay\",\"size\":10,\"solidity\":0.2}},\"type\":\"histogram\"}],\"scattergl\":[{\"type\":\"scattergl\",\"marker\":{\"colorbar\":{\"outlinewidth\":0,\"ticks\":\"\"}}}],\"scatter3d\":[{\"type\":\"scatter3d\",\"line\":{\"colorbar\":{\"outlinewidth\":0,\"ticks\":\"\"}},\"marker\":{\"colorbar\":{\"outlinewidth\":0,\"ticks\":\"\"}}}],\"scattermapbox\":[{\"type\":\"scattermapbox\",\"marker\":{\"colorbar\":{\"outlinewidth\":0,\"ticks\":\"\"}}}],\"scatterternary\":[{\"type\":\"scatterternary\",\"marker\":{\"colorbar\":{\"outlinewidth\":0,\"ticks\":\"\"}}}],\"scattercarpet\":[{\"type\":\"scattercarpet\",\"marker\":{\"colorbar\":{\"outlinewidth\":0,\"ticks\":\"\"}}}],\"carpet\":[{\"aaxis\":{\"endlinecolor\":\"#2a3f5f\",\"gridcolor\":\"white\",\"linecolor\":\"white\",\"minorgridcolor\":\"white\",\"startlinecolor\":\"#2a3f5f\"},\"baxis\":{\"endlinecolor\":\"#2a3f5f\",\"gridcolor\":\"white\",\"linecolor\":\"white\",\"minorgridcolor\":\"white\",\"startlinecolor\":\"#2a3f5f\"},\"type\":\"carpet\"}],\"table\":[{\"cells\":{\"fill\":{\"color\":\"#EBF0F8\"},\"line\":{\"color\":\"white\"}},\"header\":{\"fill\":{\"color\":\"#C8D4E3\"},\"line\":{\"color\":\"white\"}},\"type\":\"table\"}],\"barpolar\":[{\"marker\":{\"line\":{\"color\":\"#E5ECF6\",\"width\":0.5},\"pattern\":{\"fillmode\":\"overlay\",\"size\":10,\"solidity\":0.2}},\"type\":\"barpolar\"}],\"pie\":[{\"automargin\":true,\"type\":\"pie\"}]},\"layout\":{\"autotypenumbers\":\"strict\",\"colorway\":[\"#636efa\",\"#EF553B\",\"#00cc96\",\"#ab63fa\",\"#FFA15A\",\"#19d3f3\",\"#FF6692\",\"#B6E880\",\"#FF97FF\",\"#FECB52\"],\"font\":{\"color\":\"#2a3f5f\"},\"hovermode\":\"closest\",\"hoverlabel\":{\"align\":\"left\"},\"paper_bgcolor\":\"white\",\"plot_bgcolor\":\"#E5ECF6\",\"polar\":{\"bgcolor\":\"#E5ECF6\",\"angularaxis\":{\"gridcolor\":\"white\",\"linecolor\":\"white\",\"ticks\":\"\"},\"radialaxis\":{\"gridcolor\":\"white\",\"linecolor\":\"white\",\"ticks\":\"\"}},\"ternary\":{\"bgcolor\":\"#E5ECF6\",\"aaxis\":{\"gridcolor\":\"white\",\"linecolor\":\"white\",\"ticks\":\"\"},\"baxis\":{\"gridcolor\":\"white\",\"linecolor\":\"white\",\"ticks\":\"\"},\"caxis\":{\"gridcolor\":\"white\",\"linecolor\":\"white\",\"ticks\":\"\"}},\"coloraxis\":{\"colorbar\":{\"outlinewidth\":0,\"ticks\":\"\"}},\"colorscale\":{\"sequential\":[[0.0,\"#0d0887\"],[0.1111111111111111,\"#46039f\"],[0.2222222222222222,\"#7201a8\"],[0.3333333333333333,\"#9c179e\"],[0.4444444444444444,\"#bd3786\"],[0.5555555555555556,\"#d8576b\"],[0.6666666666666666,\"#ed7953\"],[0.7777777777777778,\"#fb9f3a\"],[0.8888888888888888,\"#fdca26\"],[1.0,\"#f0f921\"]],\"sequentialminus\":[[0.0,\"#0d0887\"],[0.1111111111111111,\"#46039f\"],[0.2222222222222222,\"#7201a8\"],[0.3333333333333333,\"#9c179e\"],[0.4444444444444444,\"#bd3786\"],[0.5555555555555556,\"#d8576b\"],[0.6666666666666666,\"#ed7953\"],[0.7777777777777778,\"#fb9f3a\"],[0.8888888888888888,\"#fdca26\"],[1.0,\"#f0f921\"]],\"diverging\":[[0,\"#8e0152\"],[0.1,\"#c51b7d\"],[0.2,\"#de77ae\"],[0.3,\"#f1b6da\"],[0.4,\"#fde0ef\"],[0.5,\"#f7f7f7\"],[0.6,\"#e6f5d0\"],[0.7,\"#b8e186\"],[0.8,\"#7fbc41\"],[0.9,\"#4d9221\"],[1,\"#276419\"]]},\"xaxis\":{\"gridcolor\":\"white\",\"linecolor\":\"white\",\"ticks\":\"\",\"title\":{\"standoff\":15},\"zerolinecolor\":\"white\",\"automargin\":true,\"zerolinewidth\":2},\"yaxis\":{\"gridcolor\":\"white\",\"linecolor\":\"white\",\"ticks\":\"\",\"title\":{\"standoff\":15},\"zerolinecolor\":\"white\",\"automargin\":true,\"zerolinewidth\":2},\"scene\":{\"xaxis\":{\"backgroundcolor\":\"#E5ECF6\",\"gridcolor\":\"white\",\"linecolor\":\"white\",\"showbackground\":true,\"ticks\":\"\",\"zerolinecolor\":\"white\",\"gridwidth\":2},\"yaxis\":{\"backgroundcolor\":\"#E5ECF6\",\"gridcolor\":\"white\",\"linecolor\":\"white\",\"showbackground\":true,\"ticks\":\"\",\"zerolinecolor\":\"white\",\"gridwidth\":2},\"zaxis\":{\"backgroundcolor\":\"#E5ECF6\",\"gridcolor\":\"white\",\"linecolor\":\"white\",\"showbackground\":true,\"ticks\":\"\",\"zerolinecolor\":\"white\",\"gridwidth\":2}},\"shapedefaults\":{\"line\":{\"color\":\"#2a3f5f\"}},\"annotationdefaults\":{\"arrowcolor\":\"#2a3f5f\",\"arrowhead\":0,\"arrowwidth\":1},\"geo\":{\"bgcolor\":\"white\",\"landcolor\":\"#E5ECF6\",\"subunitcolor\":\"white\",\"showland\":true,\"showlakes\":true,\"lakecolor\":\"white\"},\"title\":{\"x\":0.05},\"mapbox\":{\"style\":\"light\"}}},\"margin\":{\"t\":0,\"r\":0,\"l\":0},\"height\":1000},                        {\"responsive\": true}                    ).then(function(){\n",
       "                            \n",
       "var gd = document.getElementById('b50f8821-f24c-4a7f-b0da-d0155ff57609');\n",
       "var x = new MutationObserver(function (mutations, observer) {{\n",
       "        var display = window.getComputedStyle(gd).display;\n",
       "        if (!display || display === 'none') {{\n",
       "            console.log([gd, 'removed!']);\n",
       "            Plotly.purge(gd);\n",
       "            observer.disconnect();\n",
       "        }}\n",
       "}});\n",
       "\n",
       "// Listen for the removal of the full notebook cells\n",
       "var notebookContainer = gd.closest('#notebook-container');\n",
       "if (notebookContainer) {{\n",
       "    x.observe(notebookContainer, {childList: true});\n",
       "}}\n",
       "\n",
       "// Listen for the clearing of the current output cell\n",
       "var outputEl = gd.closest('.output');\n",
       "if (outputEl) {{\n",
       "    x.observe(outputEl, {childList: true});\n",
       "}}\n",
       "\n",
       "                        })                };                            </script>        </div>\n",
       "</body>\n",
       "</html>"
      ]
     },
     "metadata": {},
     "output_type": "display_data"
    }
   ],
   "source": [
    "# To establish connection\n",
    "init_notebook_mode(connected = True)\n",
    "  \n",
    "# type defined is choropleth to\n",
    "# plot geographical plots\n",
    "data = dict(type = 'choropleth',\n",
    "  \n",
    "            # locations\n",
    "            locations = locations,\n",
    "              \n",
    "            # States of USA\n",
    "            locationmode = 'USA-states',\n",
    "              \n",
    "            # colorscale can be added as per requirement\n",
    "            colorscale = 'redor',\n",
    "              \n",
    "            # text can be given anything you like\n",
    "            z = mean_price['price'],\n",
    "            colorbar = {'title': 'USD'})\n",
    "              \n",
    "layout = dict(geo ={'scope': 'usa'})\n",
    "\n",
    "# passing data dictionary as a list \n",
    "choromap = go.Figure(data = [data], layout = layout)\n",
    "\n",
    "choromap.update_layout(height=1000, margin=dict(t=0, r=0,  l=0))\n",
    "  \n",
    "# plotting graph\n",
    "iplot(choromap)\n",
    "\n",
    "\n",
    "choromap.show(renderer=\"colab\") \n"
   ]
  },
  {
   "cell_type": "code",
   "execution_count": 10,
   "id": "a08d6567",
   "metadata": {
    "execution": {
     "iopub.execute_input": "2023-04-26T13:54:06.751978Z",
     "iopub.status.busy": "2023-04-26T13:54:06.750921Z",
     "iopub.status.idle": "2023-04-26T13:54:07.177700Z",
     "shell.execute_reply": "2023-04-26T13:54:07.176744Z"
    },
    "id": "xQJN5XDDno5u",
    "outputId": "a3980443-dfa9-4f36-d46b-cfb3f60db4c3",
    "papermill": {
     "duration": 0.468647,
     "end_time": "2023-04-26T13:54:07.179886",
     "exception": false,
     "start_time": "2023-04-26T13:54:06.711239",
     "status": "completed"
    },
    "tags": []
   },
   "outputs": [
    {
     "data": {
      "text/plain": [
       "array([[<AxesSubplot:title={'center':'price'}>]], dtype=object)"
      ]
     },
     "execution_count": 10,
     "metadata": {},
     "output_type": "execute_result"
    },
    {
     "data": {
      "image/png": "[encoded data removed]",
      "text/plain": [
       "<Figure size 1080x1080 with 1 Axes>"
      ]
     },
     "metadata": {
      "needs_background": "light"
     },
     "output_type": "display_data"
    }
   ],
   "source": [
    "# Statistic of amount of proposal's request fund\n",
    "\n",
    "donor_data.hist(column='price', bins=100, figsize = (15,15))"
   ]
  },
  {
   "cell_type": "code",
   "execution_count": 11,
   "id": "693cf817",
   "metadata": {
    "execution": {
     "iopub.execute_input": "2023-04-26T13:54:07.260144Z",
     "iopub.status.busy": "2023-04-26T13:54:07.259111Z",
     "iopub.status.idle": "2023-04-26T13:54:07.924271Z",
     "shell.execute_reply": "2023-04-26T13:54:07.923200Z"
    },
    "id": "yy8hNK-xxoyG",
    "outputId": "47902e88-9016-4609-9c87-64e79a29dd3f",
    "papermill": {
     "duration": 0.707664,
     "end_time": "2023-04-26T13:54:07.926389",
     "exception": false,
     "start_time": "2023-04-26T13:54:07.218725",
     "status": "completed"
    },
    "tags": []
   },
   "outputs": [
    {
     "data": {
      "text/plain": [
       "array([<AxesSubplot:title={'center':'0'}>,\n",
       "       <AxesSubplot:title={'center':'1'}>], dtype=object)"
      ]
     },
     "execution_count": 11,
     "metadata": {},
     "output_type": "execute_result"
    },
    {
     "data": {
      "image/png": "[encoded data removed]",
      "text/plain": [
       "<Figure size 1080x1080 with 2 Axes>"
      ]
     },
     "metadata": {
      "needs_background": "light"
     },
     "output_type": "display_data"
    }
   ],
   "source": [
    "# Funding Amount v/s Rate of Reject\n",
    "\n",
    "donor_data.hist(column='price', bins=100, by=donor_data['project_is_approved'], figsize = (15,15))"
   ]
  },
  {
   "cell_type": "markdown",
   "id": "664d5cfc",
   "metadata": {
    "id": "RzEPdTqmC5ZA",
    "papermill": {
     "duration": 0.039149,
     "end_time": "2023-04-26T13:54:08.004573",
     "exception": false,
     "start_time": "2023-04-26T13:54:07.965424",
     "status": "completed"
    },
    "tags": []
   },
   "source": [
    "### Class label count."
   ]
  },
  {
   "cell_type": "code",
   "execution_count": 12,
   "id": "b8ee1cf3",
   "metadata": {
    "execution": {
     "iopub.execute_input": "2023-04-26T13:54:08.085350Z",
     "iopub.status.busy": "2023-04-26T13:54:08.084525Z",
     "iopub.status.idle": "2023-04-26T13:54:08.093918Z",
     "shell.execute_reply": "2023-04-26T13:54:08.092898Z"
    },
    "id": "q59IBY7RDUIm",
    "outputId": "227f50e1-ae35-4f97-afd3-39f6da9078ec",
    "papermill": {
     "duration": 0.051995,
     "end_time": "2023-04-26T13:54:08.096123",
     "exception": false,
     "start_time": "2023-04-26T13:54:08.044128",
     "status": "completed"
    },
    "tags": []
   },
   "outputs": [
    {
     "data": {
      "text/plain": [
       "1    92706\n",
       "0    16542\n",
       "Name: project_is_approved, dtype: int64"
      ]
     },
     "execution_count": 12,
     "metadata": {},
     "output_type": "execute_result"
    }
   ],
   "source": [
    "# To get each class label count\n",
    "\n",
    "donor_data['project_is_approved'].value_counts()"
   ]
  },
  {
   "cell_type": "code",
   "execution_count": 13,
   "id": "46279bfb",
   "metadata": {
    "execution": {
     "iopub.execute_input": "2023-04-26T13:54:08.176845Z",
     "iopub.status.busy": "2023-04-26T13:54:08.175882Z",
     "iopub.status.idle": "2023-04-26T13:54:08.302123Z",
     "shell.execute_reply": "2023-04-26T13:54:08.300804Z"
    },
    "id": "YYYmdWGddOnB",
    "outputId": "dd21f70e-6a08-4429-d324-de2a3d04e581",
    "papermill": {
     "duration": 0.171215,
     "end_time": "2023-04-26T13:54:08.306300",
     "exception": false,
     "start_time": "2023-04-26T13:54:08.135085",
     "status": "completed"
    },
    "tags": []
   },
   "outputs": [
    {
     "data": {
      "image/png": "[encoded data removed]",
      "text/plain": [
       "<Figure size 432x288 with 1 Axes>"
      ]
     },
     "metadata": {},
     "output_type": "display_data"
    }
   ],
   "source": [
    "# Pie chart showing each class (% of data distribution)\n",
    "\n",
    "x = donor_data['project_is_approved'].groupby(donor_data['project_is_approved']).count().index\n",
    "projects = donor_data['project_is_approved'].groupby(donor_data['project_is_approved']).count().values\n",
    "colors = [\"#d62728\",\"#1f77b4\"]\n",
    "plt.pie(projects, labels=x,  colors=colors , autopct='%1.1f%%', shadow=True, startangle=140)\n",
    "plt.title(\"% of Different categories\")\n",
    "plt.show()"
   ]
  },
  {
   "cell_type": "markdown",
   "id": "05a3a530",
   "metadata": {
    "id": "XgxlSf5NpSjW",
    "papermill": {
     "duration": 0.040548,
     "end_time": "2023-04-26T13:54:08.436623",
     "exception": false,
     "start_time": "2023-04-26T13:54:08.396075",
     "status": "completed"
    },
    "tags": []
   },
   "source": [
    "Here we can see that 84.9% of the projects were approved while only 15.1% of the projects were not. Therefore, data is not balanced."
   ]
  },
  {
   "cell_type": "markdown",
   "id": "a11716c9",
   "metadata": {
    "id": "_NU2CKrgDdLf",
    "papermill": {
     "duration": 0.040345,
     "end_time": "2023-04-26T13:54:08.518191",
     "exception": false,
     "start_time": "2023-04-26T13:54:08.477846",
     "status": "completed"
    },
    "tags": []
   },
   "source": [
    "# **Data Preparation**"
   ]
  },
  {
   "cell_type": "code",
   "execution_count": 14,
   "id": "f550a140",
   "metadata": {
    "execution": {
     "iopub.execute_input": "2023-04-26T13:54:08.601988Z",
     "iopub.status.busy": "2023-04-26T13:54:08.601413Z",
     "iopub.status.idle": "2023-04-26T13:54:08.666107Z",
     "shell.execute_reply": "2023-04-26T13:54:08.664776Z"
    },
    "id": "cLXJY2Eq03Ip",
    "outputId": "85a8b59b-60f1-48dd-fe6b-8cf81473856f",
    "papermill": {
     "duration": 0.110107,
     "end_time": "2023-04-26T13:54:08.668356",
     "exception": false,
     "start_time": "2023-04-26T13:54:08.558249",
     "status": "completed"
    },
    "tags": []
   },
   "outputs": [
    {
     "name": "stdout",
     "output_type": "stream",
     "text": [
      "                Percentage_missing\n",
      "cleaned_titles             0.03936\n"
     ]
    }
   ],
   "source": [
    "# Identify NULL or Missing Values based on column\n",
    "\n",
    "percent_null = donor_data.isnull().sum() * 100 / len(donor_data)\n",
    "null_value_df = pd.DataFrame({'Percentage_missing': percent_null})\n",
    "# missing_value_df.sort_values('percent_missing', inplace=True)\n",
    "z = null_value_df[null_value_df['Percentage_missing'] > 0]\n",
    "if len(z.index) > 0:\n",
    "  print (z)\n",
    "else:\n",
    "  print(\"No null values\")"
   ]
  },
  {
   "cell_type": "code",
   "execution_count": 15,
   "id": "cae1c9ec",
   "metadata": {
    "execution": {
     "iopub.execute_input": "2023-04-26T13:54:08.749638Z",
     "iopub.status.busy": "2023-04-26T13:54:08.749219Z",
     "iopub.status.idle": "2023-04-26T13:54:08.843793Z",
     "shell.execute_reply": "2023-04-26T13:54:08.842438Z"
    },
    "id": "hADEVn964Iwi",
    "outputId": "964e7a8d-cb83-4040-e25a-cf6d36f37b89",
    "papermill": {
     "duration": 0.137852,
     "end_time": "2023-04-26T13:54:08.846193",
     "exception": false,
     "start_time": "2023-04-26T13:54:08.708341",
     "status": "completed"
    },
    "tags": []
   },
   "outputs": [
    {
     "name": "stdout",
     "output_type": "stream",
     "text": [
      "             id teacher_prefix school_state project_grade_category  \\\n",
      "0       p253737            mrs           in          grades_prek_2   \n",
      "1       p258326             mr           fl             grades_6_8   \n",
      "2       p182444             ms           az             grades_6_8   \n",
      "3       p246581            mrs           ky          grades_prek_2   \n",
      "4       p104768            mrs           tx          grades_prek_2   \n",
      "...         ...            ...          ...                    ...   \n",
      "109243  p048540             mr           mo          grades_prek_2   \n",
      "109244  p166281             ms           nj          grades_prek_2   \n",
      "109245  p155633            mrs           nj          grades_prek_2   \n",
      "109246  p206114            mrs           ny             grades_3_5   \n",
      "109247  p191189             ms           va             grades_6_8   \n",
      "\n",
      "            project_subject_categories   project_subject_subcategories  \\\n",
      "0                    literacy_language                    esl_literacy   \n",
      "1         history_civics_health_sports    civics_government_teamsports   \n",
      "2                        health_sports      health_wellness_teamsports   \n",
      "3       literacy_language_math_science            literacy_mathematics   \n",
      "4                         math_science                     mathematics   \n",
      "...                                ...                             ...   \n",
      "109243  literacy_language_math_science  literature_writing_mathematics   \n",
      "109244  literacy_language_math_science            literacy_mathematics   \n",
      "109245  literacy_language_math_science            literacy_mathematics   \n",
      "109246      health_sports_specialneeds    health_wellness_specialneeds   \n",
      "109247    appliedlearning_math_science  college_careerprep_mathematics   \n",
      "\n",
      "        teacher_number_of_previously_posted_projects  project_is_approved  \\\n",
      "0                                                  0                    0   \n",
      "1                                                  7                    1   \n",
      "2                                                  1                    0   \n",
      "3                                                  4                    1   \n",
      "4                                                  1                    1   \n",
      "...                                              ...                  ...   \n",
      "109243                                             0                    1   \n",
      "109244                                             0                    1   \n",
      "109245                                             3                    1   \n",
      "109246                                             0                    1   \n",
      "109247                                             0                    1   \n",
      "\n",
      "         price  quantity                                     cleaned_titles  \\\n",
      "0       154.60        23          educational support english learners home   \n",
      "1       299.00         1                   wanted projector hungry learners   \n",
      "2       516.85        22    soccer equipment awesome middle school students   \n",
      "3       232.90         4                             techie kindergarteners   \n",
      "4        67.98         4                             interactive math tools   \n",
      "...        ...       ...                                                ...   \n",
      "109243   59.98         8  privacy shields help promote independent thinking   \n",
      "109244  846.32         4                               technology classroom   \n",
      "109245  239.96         4                    2016 2017 beginning year basics   \n",
      "109246   73.05        16               flexible seating inclusive classroom   \n",
      "109247  109.90         5        classroom tech develop 21st century leaders   \n",
      "\n",
      "                                           cleaned_essays  \\\n",
      "0       students english learners working english seco...   \n",
      "1       students arrive school eager learn polite gene...   \n",
      "2       true champions not always ones win guts mia ha...   \n",
      "3       work unique school filled esl english second l...   \n",
      "4       second grade classroom next year made around 2...   \n",
      "...                                                   ...   \n",
      "109243  welcome mr ramos 2nd grade classroom title 1 s...   \n",
      "109244  every morning start day core values lead solel...   \n",
      "109245  great group sharing caring students multi grad...   \n",
      "109246  students live small rural community classroom ...   \n",
      "109247  last time used math probably within last hour ...   \n",
      "\n",
      "                                          cleaned_summary  isdigit_summary  \n",
      "0       students_need_opportunities_practice_beginning...                0  \n",
      "1       students_need_projector_help_viewing_education...                0  \n",
      "2       students_need_shine_guards_athletic_socks_socc...                0  \n",
      "3       students_need_engage_reading_math_way_inspire_...                0  \n",
      "4       students_need_hands_practice_mathematics_fun_p...                0  \n",
      "...                                                   ...              ...  \n",
      "109243  students_need_privacy_partitions_help_focus_be...                0  \n",
      "109244  students_need_two_ipad_protective_cases_enhanc...                0  \n",
      "109245  students_need_giant_comfy_pillows_order_help_r...                0  \n",
      "109246  students_need_flexible_seating_options_bean_ba...                0  \n",
      "109247  students_need_opportunities_work_technology_or...                1  \n",
      "\n",
      "[109205 rows x 14 columns]\n"
     ]
    }
   ],
   "source": [
    "# To drop all null or missing values\n",
    "\n",
    "donor_data_na = donor_data.dropna()\n",
    "print(donor_data_na)"
   ]
  },
  {
   "cell_type": "code",
   "execution_count": 16,
   "id": "50af2eaa",
   "metadata": {
    "execution": {
     "iopub.execute_input": "2023-04-26T13:54:08.927807Z",
     "iopub.status.busy": "2023-04-26T13:54:08.927054Z",
     "iopub.status.idle": "2023-04-26T13:54:08.978236Z",
     "shell.execute_reply": "2023-04-26T13:54:08.977323Z"
    },
    "id": "f5M9f2hZVjEA",
    "outputId": "85a3ce79-bca0-434d-c7a6-8a469d9b4bb7",
    "papermill": {
     "duration": 0.094133,
     "end_time": "2023-04-26T13:54:08.980254",
     "exception": false,
     "start_time": "2023-04-26T13:54:08.886121",
     "status": "completed"
    },
    "tags": []
   },
   "outputs": [
    {
     "name": "stderr",
     "output_type": "stream",
     "text": [
      "/opt/conda/lib/python3.7/site-packages/pandas/core/frame.py:3641: SettingWithCopyWarning:\n",
      "\n",
      "\n",
      "A value is trying to be set on a copy of a slice from a DataFrame.\n",
      "Try using .loc[row_indexer,col_indexer] = value instead\n",
      "\n",
      "See the caveats in the documentation: https://pandas.pydata.org/pandas-docs/stable/user_guide/indexing.html#returning-a-view-versus-a-copy\n",
      "\n"
     ]
    },
    {
     "data": {
      "text/html": [
       "<div>\n",
       "<style scoped>\n",
       "    .dataframe tbody tr th:only-of-type {\n",
       "        vertical-align: middle;\n",
       "    }\n",
       "\n",
       "    .dataframe tbody tr th {\n",
       "        vertical-align: top;\n",
       "    }\n",
       "\n",
       "    .dataframe thead th {\n",
       "        text-align: right;\n",
       "    }\n",
       "</style>\n",
       "<table border=\"1\" class=\"dataframe\">\n",
       "  <thead>\n",
       "    <tr style=\"text-align: right;\">\n",
       "      <th></th>\n",
       "      <th>id</th>\n",
       "      <th>teacher_prefix</th>\n",
       "      <th>school_state</th>\n",
       "      <th>project_grade_category</th>\n",
       "      <th>project_subject_categories</th>\n",
       "      <th>project_subject_subcategories</th>\n",
       "      <th>teacher_number_of_previously_posted_projects</th>\n",
       "      <th>project_is_approved</th>\n",
       "      <th>price</th>\n",
       "      <th>quantity</th>\n",
       "      <th>cleaned_titles</th>\n",
       "      <th>cleaned_essays</th>\n",
       "      <th>cleaned_summary</th>\n",
       "      <th>isdigit_summary</th>\n",
       "    </tr>\n",
       "  </thead>\n",
       "  <tbody>\n",
       "    <tr>\n",
       "      <th>0</th>\n",
       "      <td>p253737</td>\n",
       "      <td>mrs</td>\n",
       "      <td>in</td>\n",
       "      <td>grades_prek_2</td>\n",
       "      <td>literacy_language</td>\n",
       "      <td>esl_literacy</td>\n",
       "      <td>0.000000</td>\n",
       "      <td>0.0</td>\n",
       "      <td>0.015397</td>\n",
       "      <td>0.023681</td>\n",
       "      <td>educational support english learners home</td>\n",
       "      <td>students english learners working english seco...</td>\n",
       "      <td>students_need_opportunities_practice_beginning...</td>\n",
       "      <td>0.0</td>\n",
       "    </tr>\n",
       "    <tr>\n",
       "      <th>1</th>\n",
       "      <td>p258326</td>\n",
       "      <td>mr</td>\n",
       "      <td>fl</td>\n",
       "      <td>grades_6_8</td>\n",
       "      <td>history_civics_health_sports</td>\n",
       "      <td>civics_government_teamsports</td>\n",
       "      <td>0.015521</td>\n",
       "      <td>1.0</td>\n",
       "      <td>0.029839</td>\n",
       "      <td>0.000000</td>\n",
       "      <td>wanted projector hungry learners</td>\n",
       "      <td>students arrive school eager learn polite gene...</td>\n",
       "      <td>students_need_projector_help_viewing_education...</td>\n",
       "      <td>0.0</td>\n",
       "    </tr>\n",
       "    <tr>\n",
       "      <th>2</th>\n",
       "      <td>p182444</td>\n",
       "      <td>ms</td>\n",
       "      <td>az</td>\n",
       "      <td>grades_6_8</td>\n",
       "      <td>health_sports</td>\n",
       "      <td>health_wellness_teamsports</td>\n",
       "      <td>0.002217</td>\n",
       "      <td>0.0</td>\n",
       "      <td>0.051628</td>\n",
       "      <td>0.022605</td>\n",
       "      <td>soccer equipment awesome middle school students</td>\n",
       "      <td>true champions not always ones win guts mia ha...</td>\n",
       "      <td>students_need_shine_guards_athletic_socks_socc...</td>\n",
       "      <td>0.0</td>\n",
       "    </tr>\n",
       "    <tr>\n",
       "      <th>3</th>\n",
       "      <td>p246581</td>\n",
       "      <td>mrs</td>\n",
       "      <td>ky</td>\n",
       "      <td>grades_prek_2</td>\n",
       "      <td>literacy_language_math_science</td>\n",
       "      <td>literacy_mathematics</td>\n",
       "      <td>0.008869</td>\n",
       "      <td>1.0</td>\n",
       "      <td>0.023228</td>\n",
       "      <td>0.003229</td>\n",
       "      <td>techie kindergarteners</td>\n",
       "      <td>work unique school filled esl english second l...</td>\n",
       "      <td>students_need_engage_reading_math_way_inspire_...</td>\n",
       "      <td>0.0</td>\n",
       "    </tr>\n",
       "    <tr>\n",
       "      <th>4</th>\n",
       "      <td>p104768</td>\n",
       "      <td>mrs</td>\n",
       "      <td>tx</td>\n",
       "      <td>grades_prek_2</td>\n",
       "      <td>math_science</td>\n",
       "      <td>mathematics</td>\n",
       "      <td>0.002217</td>\n",
       "      <td>1.0</td>\n",
       "      <td>0.006733</td>\n",
       "      <td>0.003229</td>\n",
       "      <td>interactive math tools</td>\n",
       "      <td>second grade classroom next year made around 2...</td>\n",
       "      <td>students_need_hands_practice_mathematics_fun_p...</td>\n",
       "      <td>0.0</td>\n",
       "    </tr>\n",
       "    <tr>\n",
       "      <th>...</th>\n",
       "      <td>...</td>\n",
       "      <td>...</td>\n",
       "      <td>...</td>\n",
       "      <td>...</td>\n",
       "      <td>...</td>\n",
       "      <td>...</td>\n",
       "      <td>...</td>\n",
       "      <td>...</td>\n",
       "      <td>...</td>\n",
       "      <td>...</td>\n",
       "      <td>...</td>\n",
       "      <td>...</td>\n",
       "      <td>...</td>\n",
       "      <td>...</td>\n",
       "    </tr>\n",
       "    <tr>\n",
       "      <th>109243</th>\n",
       "      <td>p048540</td>\n",
       "      <td>mr</td>\n",
       "      <td>mo</td>\n",
       "      <td>grades_prek_2</td>\n",
       "      <td>literacy_language_math_science</td>\n",
       "      <td>literature_writing_mathematics</td>\n",
       "      <td>0.000000</td>\n",
       "      <td>1.0</td>\n",
       "      <td>0.005933</td>\n",
       "      <td>0.007535</td>\n",
       "      <td>privacy shields help promote independent thinking</td>\n",
       "      <td>welcome mr ramos 2nd grade classroom title 1 s...</td>\n",
       "      <td>students_need_privacy_partitions_help_focus_be...</td>\n",
       "      <td>0.0</td>\n",
       "    </tr>\n",
       "    <tr>\n",
       "      <th>109244</th>\n",
       "      <td>p166281</td>\n",
       "      <td>ms</td>\n",
       "      <td>nj</td>\n",
       "      <td>grades_prek_2</td>\n",
       "      <td>literacy_language_math_science</td>\n",
       "      <td>literacy_mathematics</td>\n",
       "      <td>0.000000</td>\n",
       "      <td>1.0</td>\n",
       "      <td>0.084580</td>\n",
       "      <td>0.003229</td>\n",
       "      <td>technology classroom</td>\n",
       "      <td>every morning start day core values lead solel...</td>\n",
       "      <td>students_need_two_ipad_protective_cases_enhanc...</td>\n",
       "      <td>0.0</td>\n",
       "    </tr>\n",
       "    <tr>\n",
       "      <th>109245</th>\n",
       "      <td>p155633</td>\n",
       "      <td>mrs</td>\n",
       "      <td>nj</td>\n",
       "      <td>grades_prek_2</td>\n",
       "      <td>literacy_language_math_science</td>\n",
       "      <td>literacy_mathematics</td>\n",
       "      <td>0.006652</td>\n",
       "      <td>1.0</td>\n",
       "      <td>0.023934</td>\n",
       "      <td>0.003229</td>\n",
       "      <td>2016 2017 beginning year basics</td>\n",
       "      <td>great group sharing caring students multi grad...</td>\n",
       "      <td>students_need_giant_comfy_pillows_order_help_r...</td>\n",
       "      <td>0.0</td>\n",
       "    </tr>\n",
       "    <tr>\n",
       "      <th>109246</th>\n",
       "      <td>p206114</td>\n",
       "      <td>mrs</td>\n",
       "      <td>ny</td>\n",
       "      <td>grades_3_5</td>\n",
       "      <td>health_sports_specialneeds</td>\n",
       "      <td>health_wellness_specialneeds</td>\n",
       "      <td>0.000000</td>\n",
       "      <td>1.0</td>\n",
       "      <td>0.007240</td>\n",
       "      <td>0.016146</td>\n",
       "      <td>flexible seating inclusive classroom</td>\n",
       "      <td>students live small rural community classroom ...</td>\n",
       "      <td>students_need_flexible_seating_options_bean_ba...</td>\n",
       "      <td>0.0</td>\n",
       "    </tr>\n",
       "    <tr>\n",
       "      <th>109247</th>\n",
       "      <td>p191189</td>\n",
       "      <td>ms</td>\n",
       "      <td>va</td>\n",
       "      <td>grades_6_8</td>\n",
       "      <td>appliedlearning_math_science</td>\n",
       "      <td>college_careerprep_mathematics</td>\n",
       "      <td>0.000000</td>\n",
       "      <td>1.0</td>\n",
       "      <td>0.010926</td>\n",
       "      <td>0.004306</td>\n",
       "      <td>classroom tech develop 21st century leaders</td>\n",
       "      <td>last time used math probably within last hour ...</td>\n",
       "      <td>students_need_opportunities_work_technology_or...</td>\n",
       "      <td>1.0</td>\n",
       "    </tr>\n",
       "  </tbody>\n",
       "</table>\n",
       "<p>109205 rows × 14 columns</p>\n",
       "</div>"
      ],
      "text/plain": [
       "             id teacher_prefix school_state project_grade_category  \\\n",
       "0       p253737            mrs           in          grades_prek_2   \n",
       "1       p258326             mr           fl             grades_6_8   \n",
       "2       p182444             ms           az             grades_6_8   \n",
       "3       p246581            mrs           ky          grades_prek_2   \n",
       "4       p104768            mrs           tx          grades_prek_2   \n",
       "...         ...            ...          ...                    ...   \n",
       "109243  p048540             mr           mo          grades_prek_2   \n",
       "109244  p166281             ms           nj          grades_prek_2   \n",
       "109245  p155633            mrs           nj          grades_prek_2   \n",
       "109246  p206114            mrs           ny             grades_3_5   \n",
       "109247  p191189             ms           va             grades_6_8   \n",
       "\n",
       "            project_subject_categories   project_subject_subcategories  \\\n",
       "0                    literacy_language                    esl_literacy   \n",
       "1         history_civics_health_sports    civics_government_teamsports   \n",
       "2                        health_sports      health_wellness_teamsports   \n",
       "3       literacy_language_math_science            literacy_mathematics   \n",
       "4                         math_science                     mathematics   \n",
       "...                                ...                             ...   \n",
       "109243  literacy_language_math_science  literature_writing_mathematics   \n",
       "109244  literacy_language_math_science            literacy_mathematics   \n",
       "109245  literacy_language_math_science            literacy_mathematics   \n",
       "109246      health_sports_specialneeds    health_wellness_specialneeds   \n",
       "109247    appliedlearning_math_science  college_careerprep_mathematics   \n",
       "\n",
       "        teacher_number_of_previously_posted_projects  project_is_approved  \\\n",
       "0                                           0.000000                  0.0   \n",
       "1                                           0.015521                  1.0   \n",
       "2                                           0.002217                  0.0   \n",
       "3                                           0.008869                  1.0   \n",
       "4                                           0.002217                  1.0   \n",
       "...                                              ...                  ...   \n",
       "109243                                      0.000000                  1.0   \n",
       "109244                                      0.000000                  1.0   \n",
       "109245                                      0.006652                  1.0   \n",
       "109246                                      0.000000                  1.0   \n",
       "109247                                      0.000000                  1.0   \n",
       "\n",
       "           price  quantity                                     cleaned_titles  \\\n",
       "0       0.015397  0.023681          educational support english learners home   \n",
       "1       0.029839  0.000000                   wanted projector hungry learners   \n",
       "2       0.051628  0.022605    soccer equipment awesome middle school students   \n",
       "3       0.023228  0.003229                             techie kindergarteners   \n",
       "4       0.006733  0.003229                             interactive math tools   \n",
       "...          ...       ...                                                ...   \n",
       "109243  0.005933  0.007535  privacy shields help promote independent thinking   \n",
       "109244  0.084580  0.003229                               technology classroom   \n",
       "109245  0.023934  0.003229                    2016 2017 beginning year basics   \n",
       "109246  0.007240  0.016146               flexible seating inclusive classroom   \n",
       "109247  0.010926  0.004306        classroom tech develop 21st century leaders   \n",
       "\n",
       "                                           cleaned_essays  \\\n",
       "0       students english learners working english seco...   \n",
       "1       students arrive school eager learn polite gene...   \n",
       "2       true champions not always ones win guts mia ha...   \n",
       "3       work unique school filled esl english second l...   \n",
       "4       second grade classroom next year made around 2...   \n",
       "...                                                   ...   \n",
       "109243  welcome mr ramos 2nd grade classroom title 1 s...   \n",
       "109244  every morning start day core values lead solel...   \n",
       "109245  great group sharing caring students multi grad...   \n",
       "109246  students live small rural community classroom ...   \n",
       "109247  last time used math probably within last hour ...   \n",
       "\n",
       "                                          cleaned_summary  isdigit_summary  \n",
       "0       students_need_opportunities_practice_beginning...              0.0  \n",
       "1       students_need_projector_help_viewing_education...              0.0  \n",
       "2       students_need_shine_guards_athletic_socks_socc...              0.0  \n",
       "3       students_need_engage_reading_math_way_inspire_...              0.0  \n",
       "4       students_need_hands_practice_mathematics_fun_p...              0.0  \n",
       "...                                                   ...              ...  \n",
       "109243  students_need_privacy_partitions_help_focus_be...              0.0  \n",
       "109244  students_need_two_ipad_protective_cases_enhanc...              0.0  \n",
       "109245  students_need_giant_comfy_pillows_order_help_r...              0.0  \n",
       "109246  students_need_flexible_seating_options_bean_ba...              0.0  \n",
       "109247  students_need_opportunities_work_technology_or...              1.0  \n",
       "\n",
       "[109205 rows x 14 columns]"
      ]
     },
     "execution_count": 16,
     "metadata": {},
     "output_type": "execute_result"
    }
   ],
   "source": [
    "# Normalised numeric columns\n",
    "\n",
    "df_num = donor_data_na.select_dtypes(include='number')\n",
    "df_norm = (df_num - df_num.min()) / (df_num.max() - df_num.min())\n",
    "donor_data_na[df_norm.columns] = df_norm\n",
    "donor_data_na"
   ]
  },
  {
   "cell_type": "code",
   "execution_count": 17,
   "id": "7ad48ff1",
   "metadata": {
    "execution": {
     "iopub.execute_input": "2023-04-26T13:54:09.065686Z",
     "iopub.status.busy": "2023-04-26T13:54:09.065231Z",
     "iopub.status.idle": "2023-04-26T13:54:09.092110Z",
     "shell.execute_reply": "2023-04-26T13:54:09.090977Z"
    },
    "id": "b_e46nIfo9tK",
    "papermill": {
     "duration": 0.07281,
     "end_time": "2023-04-26T13:54:09.094396",
     "exception": false,
     "start_time": "2023-04-26T13:54:09.021586",
     "status": "completed"
    },
    "tags": []
   },
   "outputs": [],
   "source": [
    "# Changed data type of boolean columns\n",
    "\n",
    "donor_data_na = donor_data_na.astype({\"isdigit_summary\": bool, \"project_is_approved\": bool})"
   ]
  },
  {
   "cell_type": "markdown",
   "id": "2d989291",
   "metadata": {
    "id": "Qg8a-gGYKgSb",
    "papermill": {
     "duration": 0.043358,
     "end_time": "2023-04-26T13:54:09.178892",
     "exception": false,
     "start_time": "2023-04-26T13:54:09.135534",
     "status": "completed"
    },
    "tags": []
   },
   "source": [
    "### **CASE: 1 - Dataset split into training and test sets. (Train:80, Test:20)**\n",
    " Train = 80 % Test = 20% [ x_train1,y_train1] = 80% ; [ x_test1,y_test1] = 20% ;"
   ]
  },
  {
   "cell_type": "code",
   "execution_count": 18,
   "id": "3cc9f211",
   "metadata": {
    "execution": {
     "iopub.execute_input": "2023-04-26T13:54:09.261844Z",
     "iopub.status.busy": "2023-04-26T13:54:09.261204Z",
     "iopub.status.idle": "2023-04-26T13:54:09.363313Z",
     "shell.execute_reply": "2023-04-26T13:54:09.362008Z"
    },
    "id": "Nue_egvRQbDn",
    "outputId": "9e3d8457-4c57-4d0a-ff47-ce5c5b4d2c20",
    "papermill": {
     "duration": 0.146725,
     "end_time": "2023-04-26T13:54:09.365959",
     "exception": false,
     "start_time": "2023-04-26T13:54:09.219234",
     "status": "completed"
    },
    "tags": []
   },
   "outputs": [
    {
     "data": {
      "text/plain": [
       "14254    False\n",
       "38713    False\n",
       "97566     True\n",
       "50728    False\n",
       "55636     True\n",
       "Name: project_is_approved, dtype: bool"
      ]
     },
     "execution_count": 18,
     "metadata": {},
     "output_type": "execute_result"
    }
   ],
   "source": [
    "feature_cols = donor_data_na.drop(['project_is_approved'], axis = 1).columns\n",
    "x = donor_data_na[feature_cols]\n",
    "y = donor_data_na['project_is_approved']\n",
    "y.sample(5)"
   ]
  },
  {
   "cell_type": "code",
   "execution_count": 19,
   "id": "a882b33f",
   "metadata": {
    "execution": {
     "iopub.execute_input": "2023-04-26T13:54:09.454670Z",
     "iopub.status.busy": "2023-04-26T13:54:09.454169Z",
     "iopub.status.idle": "2023-04-26T13:54:09.530910Z",
     "shell.execute_reply": "2023-04-26T13:54:09.529917Z"
    },
    "id": "l_uQMHbPMQoh",
    "papermill": {
     "duration": 0.124577,
     "end_time": "2023-04-26T13:54:09.533489",
     "exception": false,
     "start_time": "2023-04-26T13:54:09.408912",
     "status": "completed"
    },
    "tags": []
   },
   "outputs": [],
   "source": [
    "X_train_case1, X_test_case1, y_train_case1, y_test_case1 = train_test_split(x, y, test_size = 0.2)"
   ]
  },
  {
   "cell_type": "markdown",
   "id": "a05b0013",
   "metadata": {
    "id": "sKTuzUZ3FwIV",
    "papermill": {
     "duration": 0.043513,
     "end_time": "2023-04-26T13:54:09.619748",
     "exception": false,
     "start_time": "2023-04-26T13:54:09.576235",
     "status": "completed"
    },
    "tags": []
   },
   "source": [
    "## **Encoding**\n",
    "### **Encoding Subject Categories column**"
   ]
  },
  {
   "cell_type": "code",
   "execution_count": 20,
   "id": "7e6a2098",
   "metadata": {
    "execution": {
     "iopub.execute_input": "2023-04-26T13:54:09.705616Z",
     "iopub.status.busy": "2023-04-26T13:54:09.705202Z",
     "iopub.status.idle": "2023-04-26T13:54:10.446069Z",
     "shell.execute_reply": "2023-04-26T13:54:10.444804Z"
    },
    "id": "4O1Ozas4FzTu",
    "outputId": "e608a712-c7d7-4c0b-dfc7-d7f46cd61a58",
    "papermill": {
     "duration": 0.786999,
     "end_time": "2023-04-26T13:54:10.448475",
     "exception": false,
     "start_time": "2023-04-26T13:54:09.661476",
     "status": "completed"
    },
    "tags": []
   },
   "outputs": [
    {
     "name": "stdout",
     "output_type": "stream",
     "text": [
      "['appliedlearning' 'appliedlearning_health_sports'\n",
      " 'appliedlearning_history_civics' 'appliedlearning_literacy_language'\n",
      " 'appliedlearning_math_science' 'appliedlearning_music_arts'\n",
      " 'appliedlearning_specialneeds' 'appliedlearning_warmth_care_hunger'\n",
      " 'health_sports' 'health_sports_appliedlearning'\n",
      " 'health_sports_history_civics' 'health_sports_literacy_language'\n",
      " 'health_sports_math_science' 'health_sports_music_arts'\n",
      " 'health_sports_specialneeds' 'health_sports_warmth_care_hunger'\n",
      " 'history_civics' 'history_civics_appliedlearning'\n",
      " 'history_civics_health_sports' 'history_civics_literacy_language'\n",
      " 'history_civics_math_science' 'history_civics_music_arts'\n",
      " 'history_civics_specialneeds' 'history_civics_warmth_care_hunger'\n",
      " 'literacy_language' 'literacy_language_appliedlearning'\n",
      " 'literacy_language_health_sports' 'literacy_language_history_civics'\n",
      " 'literacy_language_math_science' 'literacy_language_music_arts'\n",
      " 'literacy_language_specialneeds' 'literacy_language_warmth_care_hunger'\n",
      " 'math_science' 'math_science_appliedlearning'\n",
      " 'math_science_health_sports' 'math_science_history_civics'\n",
      " 'math_science_literacy_language' 'math_science_music_arts'\n",
      " 'math_science_specialneeds' 'math_science_warmth_care_hunger'\n",
      " 'music_arts' 'music_arts_appliedlearning' 'music_arts_health_sports'\n",
      " 'music_arts_history_civics' 'music_arts_specialneeds'\n",
      " 'music_arts_warmth_care_hunger' 'specialneeds'\n",
      " 'specialneeds_health_sports' 'specialneeds_music_arts'\n",
      " 'specialneeds_warmth_care_hunger' 'warmth_care_hunger']\n",
      "Shape of matrix after one hot encoding -> categories: X_train_case1:  (87364, 51)\n",
      "Shape of matrix after one hot encoding -> categories: X_test_Case1 :  (21841, 51)\n"
     ]
    }
   ],
   "source": [
    "vectorizer_sub = CountVectorizer( lowercase=False, binary=True)\n",
    "vectorizer_sub.fit(X_train_case1['project_subject_categories'].values)\n",
    "\n",
    "x_train_case1_categories = vectorizer_sub.transform(X_train_case1['project_subject_categories'].values)\n",
    "x_test_case1_categories  = vectorizer_sub.transform(X_test_case1['project_subject_categories'].values)\n",
    "\n",
    "print(vectorizer_sub.get_feature_names_out())\n",
    "print(\"Shape of matrix after one hot encoding -> categories: X_train_case1: \",x_train_case1_categories.shape)\n",
    "print(\"Shape of matrix after one hot encoding -> categories: X_test_Case1 : \",x_test_case1_categories.shape)"
   ]
  },
  {
   "cell_type": "markdown",
   "id": "fa628f56",
   "metadata": {
    "id": "HawmEw_zGBSA",
    "papermill": {
     "duration": 0.041532,
     "end_time": "2023-04-26T13:54:10.531939",
     "exception": false,
     "start_time": "2023-04-26T13:54:10.490407",
     "status": "completed"
    },
    "tags": []
   },
   "source": [
    "### **Encoding project_subject_subcategories**"
   ]
  },
  {
   "cell_type": "code",
   "execution_count": 21,
   "id": "838b7a6e",
   "metadata": {
    "execution": {
     "iopub.execute_input": "2023-04-26T13:54:10.617541Z",
     "iopub.status.busy": "2023-04-26T13:54:10.616842Z",
     "iopub.status.idle": "2023-04-26T13:54:11.307403Z",
     "shell.execute_reply": "2023-04-26T13:54:11.306415Z"
    },
    "id": "eNPHq5PvGCXx",
    "outputId": "a86bc77d-0ad0-47f9-e985-171ce8f248b5",
    "papermill": {
     "duration": 0.736398,
     "end_time": "2023-04-26T13:54:11.310185",
     "exception": false,
     "start_time": "2023-04-26T13:54:10.573787",
     "status": "completed"
    },
    "tags": []
   },
   "outputs": [
    {
     "name": "stdout",
     "output_type": "stream",
     "text": [
      "['appliedsciences', 'appliedsciences_charactereducation', 'appliedsciences_civics_government', 'appliedsciences_college_careerprep', 'appliedsciences_communityservice', 'appliedsciences_earlydevelopment', 'appliedsciences_economics', 'appliedsciences_environmentalscience', 'appliedsciences_esl', 'appliedsciences_extracurricular', 'appliedsciences_financialliteracy', 'appliedsciences_foreignlanguages', 'appliedsciences_gym_fitness', 'appliedsciences_health_lifescience', 'appliedsciences_health_wellness', 'appliedsciences_history_geography', 'appliedsciences_literacy', 'appliedsciences_literature_writing', 'appliedsciences_mathematics', 'appliedsciences_music', 'appliedsciences_nutritioneducation', 'appliedsciences_other', 'appliedsciences_parentinvolvement', 'appliedsciences_performingarts', 'appliedsciences_socialsciences', 'appliedsciences_specialneeds', 'appliedsciences_teamsports', 'appliedsciences_visualarts', 'appliedsciences_warmth_care_hunger', 'charactereducation', 'charactereducation_civics_government', 'charactereducation_college_careerprep', 'charactereducation_communityservice', 'charactereducation_earlydevelopment', 'charactereducation_economics', 'charactereducation_environmentalscience', 'charactereducation_esl', 'charactereducation_extracurricular', 'charactereducation_financialliteracy', 'charactereducation_foreignlanguages', 'charactereducation_gym_fitness', 'charactereducation_health_lifescience', 'charactereducation_health_wellness', 'charactereducation_history_geography', 'charactereducation_literacy', 'charactereducation_literature_writing', 'charactereducation_mathematics', 'charactereducation_music', 'charactereducation_nutritioneducation', 'charactereducation_other', 'charactereducation_parentinvolvement', 'charactereducation_performingarts', 'charactereducation_socialsciences', 'charactereducation_specialneeds', 'charactereducation_teamsports', 'charactereducation_visualarts', 'charactereducation_warmth_care_hunger', 'civics_government', 'civics_government_college_careerprep', 'civics_government_communityservice', 'civics_government_economics', 'civics_government_environmentalscience', 'civics_government_esl', 'civics_government_extracurricular', 'civics_government_financialliteracy', 'civics_government_foreignlanguages', 'civics_government_health_lifescience', 'civics_government_health_wellness', 'civics_government_history_geography', 'civics_government_literacy', 'civics_government_literature_writing', 'civics_government_mathematics', 'civics_government_nutritioneducation', 'civics_government_parentinvolvement', 'civics_government_performingarts', 'civics_government_socialsciences', 'civics_government_specialneeds', 'civics_government_visualarts', 'college_careerprep', 'college_careerprep_communityservice', 'college_careerprep_earlydevelopment', 'college_careerprep_economics', 'college_careerprep_environmentalscience', 'college_careerprep_esl', 'college_careerprep_extracurricular', 'college_careerprep_financialliteracy', 'college_careerprep_foreignlanguages', 'college_careerprep_gym_fitness', 'college_careerprep_health_lifescience', 'college_careerprep_health_wellness', 'college_careerprep_history_geography', 'college_careerprep_literacy', 'college_careerprep_literature_writing', 'college_careerprep_mathematics', 'college_careerprep_music', 'college_careerprep_nutritioneducation', 'college_careerprep_other', 'college_careerprep_parentinvolvement', 'college_careerprep_performingarts', 'college_careerprep_socialsciences', 'college_careerprep_specialneeds', 'college_careerprep_teamsports', 'college_careerprep_visualarts', 'college_careerprep_warmth_care_hunger', 'communityservice', 'communityservice_earlydevelopment', 'communityservice_economics', 'communityservice_environmentalscience', 'communityservice_esl', 'communityservice_extracurricular', 'communityservice_health_lifescience', 'communityservice_health_wellness', 'communityservice_history_geography', 'communityservice_literacy', 'communityservice_literature_writing', 'communityservice_mathematics', 'communityservice_music', 'communityservice_nutritioneducation', 'communityservice_other', 'communityservice_parentinvolvement', 'communityservice_performingarts', 'communityservice_socialsciences', 'communityservice_specialneeds', 'communityservice_visualarts', 'earlydevelopment', 'earlydevelopment_economics', 'earlydevelopment_environmentalscience', 'earlydevelopment_extracurricular', 'earlydevelopment_financialliteracy', 'earlydevelopment_foreignlanguages', 'earlydevelopment_gym_fitness', 'earlydevelopment_health_lifescience', 'earlydevelopment_health_wellness', 'earlydevelopment_history_geography', 'earlydevelopment_literacy', 'earlydevelopment_literature_writing', 'earlydevelopment_mathematics', 'earlydevelopment_music', 'earlydevelopment_nutritioneducation', 'earlydevelopment_other', 'earlydevelopment_parentinvolvement', 'earlydevelopment_performingarts', 'earlydevelopment_socialsciences', 'earlydevelopment_specialneeds', 'earlydevelopment_teamsports', 'earlydevelopment_visualarts', 'earlydevelopment_warmth_care_hunger', 'economics', 'economics_environmentalscience', 'economics_financialliteracy', 'economics_foreignlanguages', 'economics_health_lifescience', 'economics_history_geography', 'economics_literacy', 'economics_literature_writing', 'economics_mathematics', 'economics_music', 'economics_nutritioneducation', 'economics_socialsciences', 'economics_specialneeds', 'economics_visualarts', 'environmentalscience', 'environmentalscience_extracurricular', 'environmentalscience_financialliteracy', 'environmentalscience_foreignlanguages', 'environmentalscience_gym_fitness', 'environmentalscience_health_lifescience', 'environmentalscience_health_wellness', 'environmentalscience_history_geography', 'environmentalscience_literacy', 'environmentalscience_literature_writing', 'environmentalscience_mathematics', 'environmentalscience_music', 'environmentalscience_nutritioneducation', 'environmentalscience_other', 'environmentalscience_parentinvolvement', 'environmentalscience_performingarts', 'environmentalscience_socialsciences', 'environmentalscience_specialneeds', 'environmentalscience_teamsports', 'environmentalscience_visualarts', 'environmentalscience_warmth_care_hunger', 'esl', 'esl_earlydevelopment', 'esl_economics', 'esl_environmentalscience', 'esl_extracurricular', 'esl_financialliteracy', 'esl_foreignlanguages', 'esl_gym_fitness', 'esl_health_lifescience', 'esl_health_wellness', 'esl_history_geography', 'esl_literacy', 'esl_literature_writing', 'esl_mathematics', 'esl_music', 'esl_nutritioneducation', 'esl_other', 'esl_parentinvolvement', 'esl_performingarts', 'esl_socialsciences', 'esl_specialneeds', 'esl_visualarts', 'extracurricular', 'extracurricular_foreignlanguages', 'extracurricular_gym_fitness', 'extracurricular_health_lifescience', 'extracurricular_health_wellness', 'extracurricular_history_geography', 'extracurricular_literacy', 'extracurricular_literature_writing', 'extracurricular_mathematics', 'extracurricular_music', 'extracurricular_nutritioneducation', 'extracurricular_other', 'extracurricular_parentinvolvement', 'extracurricular_performingarts', 'extracurricular_socialsciences', 'extracurricular_specialneeds', 'extracurricular_teamsports', 'extracurricular_visualarts', 'financialliteracy', 'financialliteracy_foreignlanguages', 'financialliteracy_health_lifescience', 'financialliteracy_health_wellness', 'financialliteracy_history_geography', 'financialliteracy_literacy', 'financialliteracy_literature_writing', 'financialliteracy_mathematics', 'financialliteracy_other', 'financialliteracy_parentinvolvement', 'financialliteracy_performingarts', 'financialliteracy_socialsciences', 'financialliteracy_specialneeds', 'financialliteracy_visualarts', 'foreignlanguages', 'foreignlanguages_gym_fitness', 'foreignlanguages_health_lifescience', 'foreignlanguages_health_wellness', 'foreignlanguages_history_geography', 'foreignlanguages_literacy', 'foreignlanguages_literature_writing', 'foreignlanguages_mathematics', 'foreignlanguages_music', 'foreignlanguages_other', 'foreignlanguages_performingarts', 'foreignlanguages_socialsciences', 'foreignlanguages_specialneeds', 'foreignlanguages_visualarts', 'gym_fitness', 'gym_fitness_health_lifescience', 'gym_fitness_health_wellness', 'gym_fitness_history_geography', 'gym_fitness_literacy', 'gym_fitness_literature_writing', 'gym_fitness_mathematics', 'gym_fitness_music', 'gym_fitness_nutritioneducation', 'gym_fitness_other', 'gym_fitness_parentinvolvement', 'gym_fitness_performingarts', 'gym_fitness_socialsciences', 'gym_fitness_specialneeds', 'gym_fitness_teamsports', 'gym_fitness_visualarts', 'gym_fitness_warmth_care_hunger', 'health_lifescience', 'health_lifescience_health_wellness', 'health_lifescience_history_geography', 'health_lifescience_literacy', 'health_lifescience_literature_writing', 'health_lifescience_mathematics', 'health_lifescience_music', 'health_lifescience_nutritioneducation', 'health_lifescience_other', 'health_lifescience_parentinvolvement', 'health_lifescience_performingarts', 'health_lifescience_socialsciences', 'health_lifescience_specialneeds', 'health_lifescience_teamsports', 'health_lifescience_visualarts', 'health_lifescience_warmth_care_hunger', 'health_wellness', 'health_wellness_history_geography', 'health_wellness_literacy', 'health_wellness_literature_writing', 'health_wellness_mathematics', 'health_wellness_music', 'health_wellness_nutritioneducation', 'health_wellness_other', 'health_wellness_parentinvolvement', 'health_wellness_performingarts', 'health_wellness_socialsciences', 'health_wellness_specialneeds', 'health_wellness_teamsports', 'health_wellness_visualarts', 'health_wellness_warmth_care_hunger', 'history_geography', 'history_geography_literacy', 'history_geography_literature_writing', 'history_geography_mathematics', 'history_geography_music', 'history_geography_other', 'history_geography_parentinvolvement', 'history_geography_performingarts', 'history_geography_socialsciences', 'history_geography_specialneeds', 'history_geography_teamsports', 'history_geography_visualarts', 'history_geography_warmth_care_hunger', 'literacy', 'literacy_literature_writing', 'literacy_mathematics', 'literacy_music', 'literacy_nutritioneducation', 'literacy_other', 'literacy_parentinvolvement', 'literacy_performingarts', 'literacy_socialsciences', 'literacy_specialneeds', 'literacy_teamsports', 'literacy_visualarts', 'literacy_warmth_care_hunger', 'literature_writing', 'literature_writing_mathematics', 'literature_writing_music', 'literature_writing_nutritioneducation', 'literature_writing_other', 'literature_writing_parentinvolvement', 'literature_writing_performingarts', 'literature_writing_socialsciences', 'literature_writing_specialneeds', 'literature_writing_teamsports', 'literature_writing_visualarts', 'literature_writing_warmth_care_hunger', 'mathematics', 'mathematics_music', 'mathematics_nutritioneducation', 'mathematics_other', 'mathematics_parentinvolvement', 'mathematics_performingarts', 'mathematics_socialsciences', 'mathematics_specialneeds', 'mathematics_teamsports', 'mathematics_visualarts', 'music', 'music_other', 'music_parentinvolvement', 'music_performingarts', 'music_socialsciences', 'music_specialneeds', 'music_teamsports', 'music_visualarts', 'nutritioneducation', 'nutritioneducation_other', 'nutritioneducation_socialsciences', 'nutritioneducation_specialneeds', 'nutritioneducation_teamsports', 'nutritioneducation_visualarts', 'nutritioneducation_warmth_care_hunger', 'other', 'other_parentinvolvement', 'other_performingarts', 'other_socialsciences', 'other_specialneeds', 'other_teamsports', 'other_visualarts', 'other_warmth_care_hunger', 'parentinvolvement', 'parentinvolvement_performingarts', 'parentinvolvement_socialsciences', 'parentinvolvement_specialneeds', 'parentinvolvement_teamsports', 'parentinvolvement_visualarts', 'parentinvolvement_warmth_care_hunger', 'performingarts', 'performingarts_socialsciences', 'performingarts_specialneeds', 'performingarts_teamsports', 'performingarts_visualarts', 'socialsciences', 'socialsciences_specialneeds', 'socialsciences_teamsports', 'socialsciences_visualarts', 'specialneeds', 'specialneeds_teamsports', 'specialneeds_visualarts', 'specialneeds_warmth_care_hunger', 'teamsports', 'teamsports_visualarts', 'visualarts', 'visualarts_warmth_care_hunger', 'warmth_care_hunger']\n",
      "Shape of matrix after one hot encoding -> sub_categories: X_train_case1:  (87364, 394)\n",
      "Shape of matrix after one hot encoding -> sub_categories: X_test_Case1 :  (21841, 394)\n"
     ]
    },
    {
     "name": "stderr",
     "output_type": "stream",
     "text": [
      "/opt/conda/lib/python3.7/site-packages/sklearn/utils/deprecation.py:87: FutureWarning:\n",
      "\n",
      "Function get_feature_names is deprecated; get_feature_names is deprecated in 1.0 and will be removed in 1.2. Please use get_feature_names_out instead.\n",
      "\n"
     ]
    }
   ],
   "source": [
    "vectorizer_sub = CountVectorizer( lowercase=False, binary=True)\n",
    "\n",
    "vectorizer_sub.fit(X_train_case1['project_subject_subcategories'].values)\n",
    "\n",
    "x_train_case1_sub_categories = vectorizer_sub.transform(X_train_case1['project_subject_subcategories'].values)\n",
    "x_test_case1_sub_categories  = vectorizer_sub.transform(X_test_case1['project_subject_subcategories'].values)\n",
    "\n",
    "\n",
    "print(vectorizer_sub.get_feature_names())\n",
    "\n",
    "print(\"Shape of matrix after one hot encoding -> sub_categories: X_train_case1: \",x_train_case1_sub_categories.shape)\n",
    "print(\"Shape of matrix after one hot encoding -> sub_categories: X_test_Case1 : \",x_test_case1_sub_categories.shape)"
   ]
  },
  {
   "cell_type": "markdown",
   "id": "b569413e",
   "metadata": {
    "id": "8fJRUI2mGHhx",
    "papermill": {
     "duration": 0.041595,
     "end_time": "2023-04-26T13:54:11.392544",
     "exception": false,
     "start_time": "2023-04-26T13:54:11.350949",
     "status": "completed"
    },
    "tags": []
   },
   "source": [
    "### **Encoding School State**"
   ]
  },
  {
   "cell_type": "code",
   "execution_count": 22,
   "id": "2da95a3a",
   "metadata": {
    "execution": {
     "iopub.execute_input": "2023-04-26T13:54:11.480384Z",
     "iopub.status.busy": "2023-04-26T13:54:11.479966Z",
     "iopub.status.idle": "2023-04-26T13:54:12.336487Z",
     "shell.execute_reply": "2023-04-26T13:54:12.335329Z"
    },
    "id": "sscqvhIoGIk5",
    "outputId": "ca446c0c-61d1-46bc-a2bb-9b66f0d5a036",
    "papermill": {
     "duration": 0.904698,
     "end_time": "2023-04-26T13:54:12.338880",
     "exception": false,
     "start_time": "2023-04-26T13:54:11.434182",
     "status": "completed"
    },
    "tags": []
   },
   "outputs": [
    {
     "name": "stdout",
     "output_type": "stream",
     "text": [
      "['ak', 'al', 'ar', 'az', 'ca', 'co', 'ct', 'dc', 'de', 'fl', 'ga', 'hi', 'ia', 'id', 'il', 'in', 'ks', 'ky', 'la', 'ma', 'md', 'me', 'mi', 'mn', 'mo', 'ms', 'mt', 'nc', 'nd', 'ne', 'nh', 'nj', 'nm', 'nv', 'ny', 'oh', 'ok', 'or', 'pa', 'ri', 'sc', 'sd', 'tn', 'tx', 'ut', 'va', 'vt', 'wa', 'wi', 'wv', 'wy']\n",
      "Shape of matrix after one hot encoding -> school_state: x_train:  (87364, 51)\n",
      "Shape of matrix after one hot encoding -> school_state: x_test :  (21841, 51)\n"
     ]
    }
   ],
   "source": [
    "my_counter = Counter()\n",
    "for state in donor_data_na['school_state'].values:\n",
    "    my_counter.update(state.split())\n",
    "school_state_cat_dict = dict(my_counter)\n",
    "sorted_school_state_cat_dict = dict(sorted(school_state_cat_dict.items(), key=lambda kv: kv[1]))\n",
    "from scipy import sparse \n",
    "statelist=list(donor_data_na['school_state'].values)\n",
    "vectorizer_state = CountVectorizer( lowercase=False, binary=True)\n",
    "\n",
    "vectorizer_state.fit(X_train_case1['school_state'])\n",
    "\n",
    "x_train_case1_school_state = vectorizer_state.transform(X_train_case1['school_state'].values)\n",
    "x_test_case1_school_state  = vectorizer_state.transform(X_test_case1['school_state'].values)\n",
    "\n",
    "print(vectorizer_state.get_feature_names())\n",
    "\n",
    "print(\"Shape of matrix after one hot encoding -> school_state: x_train: \",x_train_case1_school_state.shape)\n",
    "print(\"Shape of matrix after one hot encoding -> school_state: x_test : \",x_test_case1_school_state.shape)"
   ]
  },
  {
   "cell_type": "markdown",
   "id": "4a1dbbd5",
   "metadata": {
    "id": "sn1WPexMGOpS",
    "papermill": {
     "duration": 0.040684,
     "end_time": "2023-04-26T13:54:12.420806",
     "exception": false,
     "start_time": "2023-04-26T13:54:12.380122",
     "status": "completed"
    },
    "tags": []
   },
   "source": [
    "### **Encoding Teacher Prefix**"
   ]
  },
  {
   "cell_type": "code",
   "execution_count": 23,
   "id": "1d2b2cd8",
   "metadata": {
    "execution": {
     "iopub.execute_input": "2023-04-26T13:54:12.505315Z",
     "iopub.status.busy": "2023-04-26T13:54:12.504897Z",
     "iopub.status.idle": "2023-04-26T13:54:12.762102Z",
     "shell.execute_reply": "2023-04-26T13:54:12.761120Z"
    },
    "id": "m7RSVtMYGRbq",
    "papermill": {
     "duration": 0.302084,
     "end_time": "2023-04-26T13:54:12.764741",
     "exception": false,
     "start_time": "2023-04-26T13:54:12.462657",
     "status": "completed"
    },
    "tags": []
   },
   "outputs": [],
   "source": [
    "my_counter = Counter()\n",
    "for teacher_prefix in donor_data_na['teacher_prefix'].values:\n",
    "    teacher_prefix = str(teacher_prefix).lower().replace('.','').strip()\n",
    "    \n",
    "    my_counter.update(teacher_prefix.split())\n",
    "teacher_prefix_cat_dict = dict(my_counter)\n",
    "sorted_teacher_prefix_cat_dict = dict(sorted(teacher_prefix_cat_dict.items(), key=lambda kv: kv[1]))"
   ]
  },
  {
   "cell_type": "code",
   "execution_count": 24,
   "id": "66e948ff",
   "metadata": {
    "execution": {
     "iopub.execute_input": "2023-04-26T13:54:12.850803Z",
     "iopub.status.busy": "2023-04-26T13:54:12.850311Z",
     "iopub.status.idle": "2023-04-26T13:54:12.856009Z",
     "shell.execute_reply": "2023-04-26T13:54:12.855246Z"
    },
    "id": "N8mFXwBKGWKa",
    "outputId": "5132af27-b949-4a5d-9461-b6cd7aa8708e",
    "papermill": {
     "duration": 0.051676,
     "end_time": "2023-04-26T13:54:12.857927",
     "exception": false,
     "start_time": "2023-04-26T13:54:12.806251",
     "status": "completed"
    },
    "tags": []
   },
   "outputs": [
    {
     "data": {
      "text/plain": [
       "dict_keys(['dr', 'teacher', 'mr', 'ms', 'mrs'])"
      ]
     },
     "execution_count": 24,
     "metadata": {},
     "output_type": "execute_result"
    }
   ],
   "source": [
    "sorted_teacher_prefix_cat_dict.keys()"
   ]
  },
  {
   "cell_type": "code",
   "execution_count": 25,
   "id": "7565e65f",
   "metadata": {
    "execution": {
     "iopub.execute_input": "2023-04-26T13:54:12.942397Z",
     "iopub.status.busy": "2023-04-26T13:54:12.941678Z",
     "iopub.status.idle": "2023-04-26T13:54:13.593100Z",
     "shell.execute_reply": "2023-04-26T13:54:13.591998Z"
    },
    "id": "Q1_R9lbiGcOK",
    "outputId": "eb4a1c5d-cd24-405a-a286-7d7520f32733",
    "papermill": {
     "duration": 0.696416,
     "end_time": "2023-04-26T13:54:13.595300",
     "exception": false,
     "start_time": "2023-04-26T13:54:12.898884",
     "status": "completed"
    },
    "tags": []
   },
   "outputs": [
    {
     "name": "stdout",
     "output_type": "stream",
     "text": [
      "['dr', 'mr', 'mrs', 'ms', 'teacher']\n",
      "Shape of matrix after one hot encoding -> prefix: x_train:  (87364, 5)\n",
      "Shape of matrix after one hot encoding -> prefix: x_test :  (21841, 5)\n"
     ]
    }
   ],
   "source": [
    "vectorizer_prefix = CountVectorizer(lowercase=False, binary=True)\n",
    "\n",
    "vectorizer_prefix.fit(X_train_case1['teacher_prefix'].values)\n",
    "\n",
    "x_train_case1_prefix = vectorizer_prefix.transform(X_train_case1['teacher_prefix'].values)\n",
    "x_test_case1_prefix  = vectorizer_prefix.transform(X_test_case1['teacher_prefix'].values)\n",
    "\n",
    "print(vectorizer_prefix.get_feature_names())\n",
    "\n",
    "print(\"Shape of matrix after one hot encoding -> prefix: x_train: \",x_train_case1_prefix.shape)\n",
    "print(\"Shape of matrix after one hot encoding -> prefix: x_test : \",x_test_case1_prefix.shape)"
   ]
  },
  {
   "cell_type": "markdown",
   "id": "c71430eb",
   "metadata": {
    "id": "QVkLAM_6Gjd6",
    "papermill": {
     "duration": 0.040732,
     "end_time": "2023-04-26T13:54:13.677293",
     "exception": false,
     "start_time": "2023-04-26T13:54:13.636561",
     "status": "completed"
    },
    "tags": []
   },
   "source": [
    "### **Encoding Grade Category**"
   ]
  },
  {
   "cell_type": "code",
   "execution_count": 26,
   "id": "c62a4c46",
   "metadata": {
    "execution": {
     "iopub.execute_input": "2023-04-26T13:54:13.761835Z",
     "iopub.status.busy": "2023-04-26T13:54:13.761441Z",
     "iopub.status.idle": "2023-04-26T13:54:14.479242Z",
     "shell.execute_reply": "2023-04-26T13:54:14.478347Z"
    },
    "id": "iJYtPMuaGkgS",
    "outputId": "7a2feb72-fd2c-4eba-c95c-86f03c86dfd2",
    "papermill": {
     "duration": 0.762593,
     "end_time": "2023-04-26T13:54:14.481691",
     "exception": false,
     "start_time": "2023-04-26T13:54:13.719098",
     "status": "completed"
    },
    "tags": []
   },
   "outputs": [
    {
     "name": "stdout",
     "output_type": "stream",
     "text": [
      "['grades_3_5', 'grades_6_8', 'grades_9_12', 'grades_prek_2']\n",
      "Shape of matrix after one hot encoding -> project_grade: x_train :  (87364, 4)\n",
      "Shape of matrix after one hot encoding -> project_grade: x_test  :  (21841, 4)\n"
     ]
    }
   ],
   "source": [
    "vectorizer_grade = CountVectorizer(lowercase=False, binary=True)\n",
    "\n",
    "vectorizer_grade.fit(X_train_case1['project_grade_category'].values)\n",
    "\n",
    "x_train_case1_grade_category = vectorizer_grade.transform(X_train_case1['project_grade_category'].values)\n",
    "x_test_case1_grade_category  = vectorizer_grade.transform(X_test_case1['project_grade_category'].values)\n",
    "\n",
    "print(vectorizer_grade.get_feature_names())\n",
    "\n",
    "print(\"Shape of matrix after one hot encoding -> project_grade: x_train : \",x_train_case1_grade_category.shape)\n",
    "print(\"Shape of matrix after one hot encoding -> project_grade: x_test  : \",x_test_case1_grade_category.shape)"
   ]
  },
  {
   "cell_type": "markdown",
   "id": "9f090706",
   "metadata": {
    "id": "5nEIC6E7GqoF",
    "papermill": {
     "duration": 0.041357,
     "end_time": "2023-04-26T13:54:14.565235",
     "exception": false,
     "start_time": "2023-04-26T13:54:14.523878",
     "status": "completed"
    },
    "tags": []
   },
   "source": [
    "### **Encoding Price**"
   ]
  },
  {
   "cell_type": "code",
   "execution_count": 27,
   "id": "4fe4a9f3",
   "metadata": {
    "execution": {
     "iopub.execute_input": "2023-04-26T13:54:14.663960Z",
     "iopub.status.busy": "2023-04-26T13:54:14.663220Z",
     "iopub.status.idle": "2023-04-26T13:54:14.674498Z",
     "shell.execute_reply": "2023-04-26T13:54:14.673631Z"
    },
    "id": "WOYyBE7rGsny",
    "outputId": "18418349-4065-415c-ab0d-4e692906b154",
    "papermill": {
     "duration": 0.059682,
     "end_time": "2023-04-26T13:54:14.676507",
     "exception": false,
     "start_time": "2023-04-26T13:54:14.616825",
     "status": "completed"
    },
    "tags": []
   },
   "outputs": [
    {
     "data": {
      "text/plain": [
       "array([[0.00497113],\n",
       "       [0.00149072],\n",
       "       [0.00108484],\n",
       "       ...,\n",
       "       [0.00581711],\n",
       "       [0.00217746],\n",
       "       [0.00705456]])"
      ]
     },
     "execution_count": 27,
     "metadata": {},
     "output_type": "execute_result"
    }
   ],
   "source": [
    "normalizer = Normalizer()\n",
    "normalizer.fit(X_train_case1['price'].values.reshape(1,-1))\n",
    "x_train_case1_price_normalized = normalizer.transform(X_train_case1['price'].values.reshape(1, -1)).reshape(-1,1)\n",
    "normalizer.fit(X_test_case1['price'].values.reshape(1,-1))\n",
    "x_test_case1_price_normalized  = normalizer.transform(X_test_case1['price'].values.reshape(1, -1)).reshape(-1,1)\n",
    "x_train_case1_price_normalized"
   ]
  },
  {
   "cell_type": "markdown",
   "id": "42294aaf",
   "metadata": {
    "id": "h3iWFNoNcdBL",
    "papermill": {
     "duration": 0.041167,
     "end_time": "2023-04-26T13:54:14.759657",
     "exception": false,
     "start_time": "2023-04-26T13:54:14.718490",
     "status": "completed"
    },
    "tags": []
   },
   "source": [
    "### **Encoding Previous Projects Number**"
   ]
  },
  {
   "cell_type": "code",
   "execution_count": 28,
   "id": "1390b2a9",
   "metadata": {
    "execution": {
     "iopub.execute_input": "2023-04-26T13:54:14.844206Z",
     "iopub.status.busy": "2023-04-26T13:54:14.843762Z",
     "iopub.status.idle": "2023-04-26T13:54:14.852585Z",
     "shell.execute_reply": "2023-04-26T13:54:14.851772Z"
    },
    "id": "7QH_KHHt07Se",
    "papermill": {
     "duration": 0.053668,
     "end_time": "2023-04-26T13:54:14.854696",
     "exception": false,
     "start_time": "2023-04-26T13:54:14.801028",
     "status": "completed"
    },
    "tags": []
   },
   "outputs": [],
   "source": [
    "teacher_previous_proj_normalizer = Normalizer()\n",
    "teacher_previous_proj_normalizer.fit(X_train_case1['teacher_number_of_previously_posted_projects'].values.reshape(1,-1))\n",
    "x_train_case1_teacher_previous_proj_normalized = teacher_previous_proj_normalizer.transform(X_train_case1['teacher_number_of_previously_posted_projects'].values.reshape(1,- 1)).reshape(-1,1)\n",
    "teacher_previous_proj_normalizer.fit(X_test_case1['teacher_number_of_previously_posted_projects'].values.reshape(1,-1))\n",
    "x_test_case1_teacher_previous_proj_normalized  = teacher_previous_proj_normalizer.transform(X_test_case1['teacher_number_of_previously_posted_projects'].values.reshape(1,- 1)).reshape(-1,1)\n"
   ]
  },
  {
   "cell_type": "markdown",
   "id": "ee9320e5",
   "metadata": {
    "id": "GQtr_VgkciF2",
    "papermill": {
     "duration": 0.041319,
     "end_time": "2023-04-26T13:54:14.938433",
     "exception": false,
     "start_time": "2023-04-26T13:54:14.897114",
     "status": "completed"
    },
    "tags": []
   },
   "source": [
    "### **Encoding Quantity**"
   ]
  },
  {
   "cell_type": "code",
   "execution_count": 29,
   "id": "ec5391fa",
   "metadata": {
    "execution": {
     "iopub.execute_input": "2023-04-26T13:54:15.025310Z",
     "iopub.status.busy": "2023-04-26T13:54:15.024680Z",
     "iopub.status.idle": "2023-04-26T13:54:15.036285Z",
     "shell.execute_reply": "2023-04-26T13:54:15.035264Z"
    },
    "id": "s_bDEmUTknb4",
    "outputId": "2f355df5-bf64-41b6-ac6d-bb9cb589ceb0",
    "papermill": {
     "duration": 0.058115,
     "end_time": "2023-04-26T13:54:15.038216",
     "exception": false,
     "start_time": "2023-04-26T13:54:14.980101",
     "status": "completed"
    },
    "tags": []
   },
   "outputs": [
    {
     "data": {
      "text/plain": [
       "array([[0.00044349],\n",
       "       [0.00742846],\n",
       "       [0.00177396],\n",
       "       ...,\n",
       "       [0.00088698],\n",
       "       [0.00011087],\n",
       "       [0.        ]])"
      ]
     },
     "execution_count": 29,
     "metadata": {},
     "output_type": "execute_result"
    }
   ],
   "source": [
    "normalizer = Normalizer()\n",
    "\n",
    "normalizer.fit(X_train_case1['quantity'].values.reshape(1,-1)) \n",
    "x_train_case1_quantity_normalized = normalizer.transform(X_train_case1['quantity'].values.reshape(1, -1)).reshape(-1,1)\n",
    "normalizer.fit(X_test_case1['quantity'].values.reshape(1,-1)) \n",
    "x_test_case1_quantity_normalized  = normalizer.transform(X_test_case1['quantity'].values.reshape(1, -1)).reshape(-1,1)\n",
    "x_train_case1_quantity_normalized\n"
   ]
  },
  {
   "cell_type": "markdown",
   "id": "46e6fb96",
   "metadata": {
    "id": "rPulbVpgcmU-",
    "papermill": {
     "duration": 0.043632,
     "end_time": "2023-04-26T13:54:15.123895",
     "exception": false,
     "start_time": "2023-04-26T13:54:15.080263",
     "status": "completed"
    },
    "tags": []
   },
   "source": [
    "## **BoW Vectorization of Cleaned_Titles and Cleaned Essays**"
   ]
  },
  {
   "cell_type": "code",
   "execution_count": 30,
   "id": "8d854af5",
   "metadata": {
    "execution": {
     "iopub.execute_input": "2023-04-26T13:54:15.213271Z",
     "iopub.status.busy": "2023-04-26T13:54:15.212643Z",
     "iopub.status.idle": "2023-04-26T13:54:15.803011Z",
     "shell.execute_reply": "2023-04-26T13:54:15.801445Z"
    },
    "id": "Ewn_mcmawznS",
    "outputId": "d0acf062-3c07-4341-f8ce-6aaf6dc9a961",
    "papermill": {
     "duration": 0.635955,
     "end_time": "2023-04-26T13:54:15.805503",
     "exception": false,
     "start_time": "2023-04-26T13:54:15.169548",
     "status": "completed"
    },
    "tags": []
   },
   "outputs": [
    {
     "name": "stderr",
     "output_type": "stream",
     "text": [
      "/opt/conda/lib/python3.7/site-packages/sklearn/utils/deprecation.py:87: FutureWarning:\n",
      "\n",
      "Function get_feature_names is deprecated; get_feature_names is deprecated in 1.0 and will be removed in 1.2. Please use get_feature_names_out instead.\n",
      "\n"
     ]
    },
    {
     "data": {
      "text/plain": [
       "15206"
      ]
     },
     "execution_count": 30,
     "metadata": {},
     "output_type": "execute_result"
    }
   ],
   "source": [
    "# Concatenate all features in X_train_case1 cleaned titles\n",
    "\n",
    "vect = CountVectorizer()\n",
    "vect.fit(X_train_case1['cleaned_titles'])\n",
    "X_train_BoW = vect.get_feature_names()\n",
    "len(X_train_BoW)"
   ]
  },
  {
   "cell_type": "code",
   "execution_count": 31,
   "id": "356c3b09",
   "metadata": {
    "execution": {
     "iopub.execute_input": "2023-04-26T13:54:15.890676Z",
     "iopub.status.busy": "2023-04-26T13:54:15.890301Z",
     "iopub.status.idle": "2023-04-26T13:54:25.755913Z",
     "shell.execute_reply": "2023-04-26T13:54:25.754703Z"
    },
    "id": "pNPycaOomZ8U",
    "outputId": "949349bf-36fd-4640-ad70-ca22317fd5a9",
    "papermill": {
     "duration": 9.910956,
     "end_time": "2023-04-26T13:54:25.758163",
     "exception": false,
     "start_time": "2023-04-26T13:54:15.847207",
     "status": "completed"
    },
    "tags": []
   },
   "outputs": [
    {
     "data": {
      "text/plain": [
       "66308"
      ]
     },
     "execution_count": 31,
     "metadata": {},
     "output_type": "execute_result"
    }
   ],
   "source": [
    "# Append values from cleaned_essays\n",
    "\n",
    "vect = CountVectorizer()\n",
    "vect.fit(X_train_case1['cleaned_essays'])\n",
    "X_train_BoW.extend(vect.get_feature_names())\n",
    "np.unique(X_train_BoW)\n",
    "len(X_train_BoW)"
   ]
  },
  {
   "cell_type": "code",
   "execution_count": 32,
   "id": "ada74657",
   "metadata": {
    "execution": {
     "iopub.execute_input": "2023-04-26T13:54:25.915410Z",
     "iopub.status.busy": "2023-04-26T13:54:25.915006Z",
     "iopub.status.idle": "2023-04-26T13:54:26.077672Z",
     "shell.execute_reply": "2023-04-26T13:54:26.076609Z"
    },
    "id": "S2aPyqgalFL8",
    "outputId": "4586fa6d-f7bc-4f8c-f2ab-db4f72e1e8cb",
    "papermill": {
     "duration": 0.2797,
     "end_time": "2023-04-26T13:54:26.080054",
     "exception": false,
     "start_time": "2023-04-26T13:54:25.800354",
     "status": "completed"
    },
    "tags": []
   },
   "outputs": [
    {
     "data": {
      "text/plain": [
       "7695"
      ]
     },
     "execution_count": 32,
     "metadata": {},
     "output_type": "execute_result"
    }
   ],
   "source": [
    "# Concatenate all features in X_test_case1 cleaned titles\n",
    "\n",
    "vect = CountVectorizer()\n",
    "vect.fit(X_test_case1['cleaned_titles'])\n",
    "X_test_BoW = vect.get_feature_names()\n",
    "len(X_test_BoW)"
   ]
  },
  {
   "cell_type": "code",
   "execution_count": 33,
   "id": "19facf5e",
   "metadata": {
    "execution": {
     "iopub.execute_input": "2023-04-26T13:54:26.170135Z",
     "iopub.status.busy": "2023-04-26T13:54:26.169736Z",
     "iopub.status.idle": "2023-04-26T13:54:28.698500Z",
     "shell.execute_reply": "2023-04-26T13:54:28.697778Z"
    },
    "id": "f8GPE0rknD8y",
    "outputId": "2ef7c777-a1d1-43f2-a95f-bc61616aa443",
    "papermill": {
     "duration": 2.575759,
     "end_time": "2023-04-26T13:54:28.700595",
     "exception": false,
     "start_time": "2023-04-26T13:54:26.124836",
     "status": "completed"
    },
    "tags": []
   },
   "outputs": [
    {
     "data": {
      "text/plain": [
       "37540"
      ]
     },
     "execution_count": 33,
     "metadata": {},
     "output_type": "execute_result"
    }
   ],
   "source": [
    "# Append values from cleaned_essays\n",
    "\n",
    "vect = CountVectorizer()\n",
    "vect.fit(X_test_case1['cleaned_essays'])\n",
    "X_test_BoW.extend(vect.get_feature_names())\n",
    "np.unique(X_test_BoW)\n",
    "len(X_test_BoW)"
   ]
  },
  {
   "cell_type": "code",
   "execution_count": 34,
   "id": "20d5d431",
   "metadata": {
    "execution": {
     "iopub.execute_input": "2023-04-26T13:54:28.789676Z",
     "iopub.status.busy": "2023-04-26T13:54:28.788639Z",
     "iopub.status.idle": "2023-04-26T13:54:29.796580Z",
     "shell.execute_reply": "2023-04-26T13:54:29.795500Z"
    },
    "id": "Mqm9UhzrlFYp",
    "outputId": "a30564e1-b927-44a7-e90d-e2da33c36574",
    "papermill": {
     "duration": 1.054901,
     "end_time": "2023-04-26T13:54:29.798745",
     "exception": false,
     "start_time": "2023-04-26T13:54:28.743844",
     "status": "completed"
    },
    "tags": []
   },
   "outputs": [
    {
     "data": {
      "text/html": [
       "<div>\n",
       "<style scoped>\n",
       "    .dataframe tbody tr th:only-of-type {\n",
       "        vertical-align: middle;\n",
       "    }\n",
       "\n",
       "    .dataframe tbody tr th {\n",
       "        vertical-align: top;\n",
       "    }\n",
       "\n",
       "    .dataframe thead th {\n",
       "        text-align: right;\n",
       "    }\n",
       "</style>\n",
       "<table border=\"1\" class=\"dataframe\">\n",
       "  <thead>\n",
       "    <tr style=\"text-align: right;\">\n",
       "      <th></th>\n",
       "      <th>term</th>\n",
       "      <th>count</th>\n",
       "    </tr>\n",
       "  </thead>\n",
       "  <tbody>\n",
       "    <tr>\n",
       "      <th>3</th>\n",
       "      <td>learning</td>\n",
       "      <td>9315</td>\n",
       "    </tr>\n",
       "    <tr>\n",
       "      <th>9</th>\n",
       "      <td>technology</td>\n",
       "      <td>5871</td>\n",
       "    </tr>\n",
       "    <tr>\n",
       "      <th>1</th>\n",
       "      <td>classroom</td>\n",
       "      <td>5674</td>\n",
       "    </tr>\n",
       "    <tr>\n",
       "      <th>8</th>\n",
       "      <td>students</td>\n",
       "      <td>5115</td>\n",
       "    </tr>\n",
       "    <tr>\n",
       "      <th>6</th>\n",
       "      <td>reading</td>\n",
       "      <td>4850</td>\n",
       "    </tr>\n",
       "    <tr>\n",
       "      <th>2</th>\n",
       "      <td>help</td>\n",
       "      <td>4419</td>\n",
       "    </tr>\n",
       "    <tr>\n",
       "      <th>0</th>\n",
       "      <td>books</td>\n",
       "      <td>4131</td>\n",
       "    </tr>\n",
       "    <tr>\n",
       "      <th>7</th>\n",
       "      <td>seating</td>\n",
       "      <td>4007</td>\n",
       "    </tr>\n",
       "    <tr>\n",
       "      <th>5</th>\n",
       "      <td>need</td>\n",
       "      <td>3697</td>\n",
       "    </tr>\n",
       "    <tr>\n",
       "      <th>4</th>\n",
       "      <td>math</td>\n",
       "      <td>3299</td>\n",
       "    </tr>\n",
       "  </tbody>\n",
       "</table>\n",
       "</div>"
      ],
      "text/plain": [
       "         term  count\n",
       "3    learning   9315\n",
       "9  technology   5871\n",
       "1   classroom   5674\n",
       "8    students   5115\n",
       "6     reading   4850\n",
       "2        help   4419\n",
       "0       books   4131\n",
       "7     seating   4007\n",
       "5        need   3697\n",
       "4        math   3299"
      ]
     },
     "execution_count": 34,
     "metadata": {},
     "output_type": "execute_result"
    }
   ],
   "source": [
    "# Most used terms in cleaned titles\n",
    "\n",
    "max_feature_length = 10\n",
    "top_words = []\n",
    "\n",
    "bow_transformer = CountVectorizer(max_features=max_feature_length,ngram_range=(1,1)).fit(donor_data_na.loc[:,'cleaned_titles'])\n",
    "bow = bow_transformer.transform([' '.join(donor_data_na.loc[:,'cleaned_titles'].values)])#This joins all the words in all the rows \n",
    "word_list = bow_transformer.get_feature_names()\n",
    "count_list = bow.toarray().sum(axis=0) \n",
    "top_counts = pd.DataFrame(zip(word_list,count_list),columns=['term','count',])\n",
    "top_counts.sort_values('count',axis=0,inplace=True, ascending=False)\n",
    "top_counts"
   ]
  },
  {
   "cell_type": "code",
   "execution_count": 35,
   "id": "40db0e1a",
   "metadata": {
    "execution": {
     "iopub.execute_input": "2023-04-26T13:54:29.885729Z",
     "iopub.status.busy": "2023-04-26T13:54:29.885265Z",
     "iopub.status.idle": "2023-04-26T13:54:53.457108Z",
     "shell.execute_reply": "2023-04-26T13:54:53.455528Z"
    },
    "id": "IAQ59_HMpbmz",
    "outputId": "ca79a456-ab08-4f7b-bd3e-327f2efb088a",
    "papermill": {
     "duration": 23.618193,
     "end_time": "2023-04-26T13:54:53.459554",
     "exception": false,
     "start_time": "2023-04-26T13:54:29.841361",
     "status": "completed"
    },
    "tags": []
   },
   "outputs": [
    {
     "name": "stderr",
     "output_type": "stream",
     "text": [
      "/opt/conda/lib/python3.7/site-packages/sklearn/utils/deprecation.py:87: FutureWarning:\n",
      "\n",
      "Function get_feature_names is deprecated; get_feature_names is deprecated in 1.0 and will be removed in 1.2. Please use get_feature_names_out instead.\n",
      "\n"
     ]
    },
    {
     "data": {
      "text/html": [
       "<div>\n",
       "<style scoped>\n",
       "    .dataframe tbody tr th:only-of-type {\n",
       "        vertical-align: middle;\n",
       "    }\n",
       "\n",
       "    .dataframe tbody tr th {\n",
       "        vertical-align: top;\n",
       "    }\n",
       "\n",
       "    .dataframe thead th {\n",
       "        text-align: right;\n",
       "    }\n",
       "</style>\n",
       "<table border=\"1\" class=\"dataframe\">\n",
       "  <thead>\n",
       "    <tr style=\"text-align: right;\">\n",
       "      <th></th>\n",
       "      <th>term</th>\n",
       "      <th>count</th>\n",
       "    </tr>\n",
       "  </thead>\n",
       "  <tbody>\n",
       "    <tr>\n",
       "      <th>8</th>\n",
       "      <td>students</td>\n",
       "      <td>790864</td>\n",
       "    </tr>\n",
       "    <tr>\n",
       "      <th>7</th>\n",
       "      <td>school</td>\n",
       "      <td>253799</td>\n",
       "    </tr>\n",
       "    <tr>\n",
       "      <th>3</th>\n",
       "      <td>learning</td>\n",
       "      <td>177495</td>\n",
       "    </tr>\n",
       "    <tr>\n",
       "      <th>0</th>\n",
       "      <td>classroom</td>\n",
       "      <td>169644</td>\n",
       "    </tr>\n",
       "    <tr>\n",
       "      <th>6</th>\n",
       "      <td>not</td>\n",
       "      <td>131423</td>\n",
       "    </tr>\n",
       "    <tr>\n",
       "      <th>2</th>\n",
       "      <td>learn</td>\n",
       "      <td>126098</td>\n",
       "    </tr>\n",
       "    <tr>\n",
       "      <th>1</th>\n",
       "      <td>help</td>\n",
       "      <td>122608</td>\n",
       "    </tr>\n",
       "    <tr>\n",
       "      <th>4</th>\n",
       "      <td>many</td>\n",
       "      <td>105414</td>\n",
       "    </tr>\n",
       "    <tr>\n",
       "      <th>5</th>\n",
       "      <td>need</td>\n",
       "      <td>92898</td>\n",
       "    </tr>\n",
       "    <tr>\n",
       "      <th>9</th>\n",
       "      <td>work</td>\n",
       "      <td>92161</td>\n",
       "    </tr>\n",
       "  </tbody>\n",
       "</table>\n",
       "</div>"
      ],
      "text/plain": [
       "        term   count\n",
       "8   students  790864\n",
       "7     school  253799\n",
       "3   learning  177495\n",
       "0  classroom  169644\n",
       "6        not  131423\n",
       "2      learn  126098\n",
       "1       help  122608\n",
       "4       many  105414\n",
       "5       need   92898\n",
       "9       work   92161"
      ]
     },
     "execution_count": 35,
     "metadata": {},
     "output_type": "execute_result"
    }
   ],
   "source": [
    "# Most used terms in cleaned essays\n",
    "\n",
    "max_feature_length = 10\n",
    "top_words = []\n",
    "\n",
    "bow_transformer = CountVectorizer(max_features=max_feature_length,ngram_range=(1,1)).fit(donor_data_na.loc[:,'cleaned_essays'])\n",
    "bow_essay = bow_transformer.transform([' '.join(donor_data_na.loc[:,'cleaned_essays'].values)])#This joins all the words in all the rows \n",
    "word_list = bow_transformer.get_feature_names()\n",
    "count_list = bow_essay.toarray().sum(axis=0) \n",
    "top_counts = pd.DataFrame(zip(word_list,count_list),columns=['term','count',])\n",
    "top_counts.sort_values('count',axis=0,inplace=True, ascending=False)\n",
    "top_counts"
   ]
  },
  {
   "cell_type": "markdown",
   "id": "fa50d7a8",
   "metadata": {
    "id": "vSQa6EFkc2ZV",
    "papermill": {
     "duration": 0.042872,
     "end_time": "2023-04-26T13:54:53.545458",
     "exception": false,
     "start_time": "2023-04-26T13:54:53.502586",
     "status": "completed"
    },
    "tags": []
   },
   "source": [
    "### **BoW Vectorization of Cleaned_Essays**"
   ]
  },
  {
   "cell_type": "code",
   "execution_count": 36,
   "id": "7755da33",
   "metadata": {
    "execution": {
     "iopub.execute_input": "2023-04-26T13:54:53.634662Z",
     "iopub.status.busy": "2023-04-26T13:54:53.634217Z",
     "iopub.status.idle": "2023-04-26T13:55:42.624149Z",
     "shell.execute_reply": "2023-04-26T13:55:42.623061Z"
    },
    "id": "ram6yb6jLNas",
    "outputId": "ba1e197b-6d90-4532-8f5a-319b51254adb",
    "papermill": {
     "duration": 49.080236,
     "end_time": "2023-04-26T13:55:42.669189",
     "exception": false,
     "start_time": "2023-04-26T13:54:53.588953",
     "status": "completed"
    },
    "tags": []
   },
   "outputs": [
    {
     "name": "stdout",
     "output_type": "stream",
     "text": [
      "Shape of matrix after BOW -> Essays: x_train:  (87364, 5000)\n",
      "Shape of matrix after BOW -> Essays: x_test :  (21841, 5000)\n"
     ]
    }
   ],
   "source": [
    "vectorizer_essay_bow_bigram = CountVectorizer(ngram_range=(2,2),min_df=10,max_features=5000)\n",
    "\n",
    "vectorizer_essay_bow_bigram.fit(X_train_case1['cleaned_essays'])\n",
    "\n",
    "x_train_case1_essays_bow_bigram = vectorizer_essay_bow_bigram.transform(X_train_case1['cleaned_essays'])\n",
    "x_test_case1_essays_bow_bigram  = vectorizer_essay_bow_bigram.transform(X_test_case1['cleaned_essays'])\n",
    "\n",
    "print(\"Shape of matrix after BOW -> Essays: x_train: \",x_train_case1_essays_bow_bigram.shape)\n",
    "print(\"Shape of matrix after BOW -> Essays: x_test : \",x_test_case1_essays_bow_bigram.shape)"
   ]
  },
  {
   "cell_type": "markdown",
   "id": "1c850ba2",
   "metadata": {
    "id": "AGCqvyN-dJme",
    "papermill": {
     "duration": 0.043429,
     "end_time": "2023-04-26T13:55:42.755646",
     "exception": false,
     "start_time": "2023-04-26T13:55:42.712217",
     "status": "completed"
    },
    "tags": []
   },
   "source": [
    "### **BoW Vectorization of Cleaned_Titles**"
   ]
  },
  {
   "cell_type": "code",
   "execution_count": 37,
   "id": "647471f6",
   "metadata": {
    "execution": {
     "iopub.execute_input": "2023-04-26T13:55:42.847607Z",
     "iopub.status.busy": "2023-04-26T13:55:42.846526Z",
     "iopub.status.idle": "2023-04-26T13:55:44.853040Z",
     "shell.execute_reply": "2023-04-26T13:55:44.851912Z"
    },
    "id": "6drVwg85L_pB",
    "outputId": "0bc928f4-6154-4a08-8306-bdf9437f7f39",
    "papermill": {
     "duration": 2.055146,
     "end_time": "2023-04-26T13:55:44.855398",
     "exception": false,
     "start_time": "2023-04-26T13:55:42.800252",
     "status": "completed"
    },
    "tags": []
   },
   "outputs": [
    {
     "name": "stdout",
     "output_type": "stream",
     "text": [
      "Shape of matrix after BOW -> Titles: x_train:  (87364, 5000)\n",
      "Shape of matrix after BOW -> Titles: x_test :  (21841, 5000)\n"
     ]
    }
   ],
   "source": [
    "vectorizer_titles_bow_bigram = CountVectorizer(ngram_range=(2,2),min_df=10,max_features=5000)\n",
    "\n",
    "vectorizer_titles_bow_bigram.fit(X_train_case1['cleaned_titles'])\n",
    "\n",
    "x_train_case1_titles_bow_bigram = vectorizer_essay_bow_bigram.transform(X_train_case1['cleaned_titles'])\n",
    "x_test_case1_titles_bow_bigram  = vectorizer_essay_bow_bigram.transform(X_test_case1['cleaned_titles'])\n",
    "\n",
    "print(\"Shape of matrix after BOW -> Titles: x_train: \",x_train_case1_titles_bow_bigram.shape)\n",
    "print(\"Shape of matrix after BOW -> Titles: x_test : \",x_test_case1_titles_bow_bigram.shape)"
   ]
  },
  {
   "cell_type": "markdown",
   "id": "924697da",
   "metadata": {
    "id": "BwWal97VdLx0",
    "papermill": {
     "duration": 0.043122,
     "end_time": "2023-04-26T13:55:44.942052",
     "exception": false,
     "start_time": "2023-04-26T13:55:44.898930",
     "status": "completed"
    },
    "tags": []
   },
   "source": [
    "### Concatenate all features and named it as X_train_BoW and X_Test_BoW"
   ]
  },
  {
   "cell_type": "code",
   "execution_count": 38,
   "id": "12df6521",
   "metadata": {
    "execution": {
     "iopub.execute_input": "2023-04-26T13:55:45.033618Z",
     "iopub.status.busy": "2023-04-26T13:55:45.033226Z",
     "iopub.status.idle": "2023-04-26T13:55:45.185543Z",
     "shell.execute_reply": "2023-04-26T13:55:45.184350Z"
    },
    "id": "nL5neTgcNGUl",
    "outputId": "d4556836-36ef-44c8-b3d0-ba4cae69eedb",
    "papermill": {
     "duration": 0.201215,
     "end_time": "2023-04-26T13:55:45.187897",
     "exception": false,
     "start_time": "2023-04-26T13:55:44.986682",
     "status": "completed"
    },
    "tags": []
   },
   "outputs": [
    {
     "name": "stdout",
     "output_type": "stream",
     "text": [
      "Type -> One Hot -> x_train:  <class 'scipy.sparse.coo.coo_matrix'>\n",
      "Type -> One Hot -> x_test :  <class 'scipy.sparse.coo.coo_matrix'>\n",
      "\n",
      "\n",
      "Shape -> One Hot -> x_train:  (87364, 10508)\n",
      "Shape -> One Hot -> x_test :  (21841, 10508)\n"
     ]
    }
   ],
   "source": [
    "X_train_BoW_merge = hstack((x_train_case1_essays_bow_bigram, x_train_case1_titles_bow_bigram, x_train_case1_categories, x_train_case1_sub_categories, x_train_case1_school_state, x_train_case1_prefix, x_train_case1_grade_category, x_train_case1_price_normalized, x_train_case1_quantity_normalized, x_train_case1_teacher_previous_proj_normalized))\n",
    "X_test_BoW_merge  = hstack((x_test_case1_essays_bow_bigram, x_test_case1_titles_bow_bigram, x_test_case1_categories, x_test_case1_sub_categories, x_test_case1_school_state, x_test_case1_prefix,x_test_case1_grade_category, x_test_case1_price_normalized, x_test_case1_quantity_normalized, x_test_case1_teacher_previous_proj_normalized))\n",
    "\n",
    "print(\"Type -> One Hot -> x_train: \",type(X_train_BoW_merge))\n",
    "print(\"Type -> One Hot -> x_test : \",type(X_test_BoW_merge))\n",
    "print(\"\\n\")\n",
    "print(\"Shape -> One Hot -> x_train: \",X_train_BoW_merge.shape)\n",
    "print(\"Shape -> One Hot -> x_test : \",X_test_BoW_merge.shape)"
   ]
  },
  {
   "cell_type": "markdown",
   "id": "a32ab958",
   "metadata": {
    "id": "8oLj-mEJreBL",
    "papermill": {
     "duration": 0.043817,
     "end_time": "2023-04-26T13:55:45.276465",
     "exception": false,
     "start_time": "2023-04-26T13:55:45.232648",
     "status": "completed"
    },
    "tags": []
   },
   "source": [
    "### **CASE: 2 - Dataset split into training and test sets. (Train:80, Test:20)**\n",
    " Train = 80 % Test = 20% [ x_train1,y_train1] = 80% ; [ x_test1,y_test1] = 20% ;"
   ]
  },
  {
   "cell_type": "code",
   "execution_count": 39,
   "id": "2e50645f",
   "metadata": {
    "execution": {
     "iopub.execute_input": "2023-04-26T13:55:45.365094Z",
     "iopub.status.busy": "2023-04-26T13:55:45.364163Z",
     "iopub.status.idle": "2023-04-26T13:55:45.430119Z",
     "shell.execute_reply": "2023-04-26T13:55:45.428947Z"
    },
    "id": "rJY6NAn0rrWp",
    "papermill": {
     "duration": 0.11289,
     "end_time": "2023-04-26T13:55:45.432624",
     "exception": false,
     "start_time": "2023-04-26T13:55:45.319734",
     "status": "completed"
    },
    "tags": []
   },
   "outputs": [],
   "source": [
    "X_train_case2, X_test_case2, y_train_case2, y_test_case2 = train_test_split(x, y, test_size = 0.2)"
   ]
  },
  {
   "cell_type": "markdown",
   "id": "1e27936e",
   "metadata": {
    "id": "dX-3ZG3idiGm",
    "papermill": {
     "duration": 0.042968,
     "end_time": "2023-04-26T13:55:45.518504",
     "exception": false,
     "start_time": "2023-04-26T13:55:45.475536",
     "status": "completed"
    },
    "tags": []
   },
   "source": [
    "### Encoding Subject Categories"
   ]
  },
  {
   "cell_type": "code",
   "execution_count": 40,
   "id": "c20c1b9f",
   "metadata": {
    "execution": {
     "iopub.execute_input": "2023-04-26T13:55:45.606106Z",
     "iopub.status.busy": "2023-04-26T13:55:45.605666Z",
     "iopub.status.idle": "2023-04-26T13:55:46.312855Z",
     "shell.execute_reply": "2023-04-26T13:55:46.311725Z"
    },
    "id": "hyVv8RYNXIvf",
    "outputId": "55346ecf-b6d3-42ca-f1f1-f2a670d5f142",
    "papermill": {
     "duration": 0.753879,
     "end_time": "2023-04-26T13:55:46.315240",
     "exception": false,
     "start_time": "2023-04-26T13:55:45.561361",
     "status": "completed"
    },
    "tags": []
   },
   "outputs": [
    {
     "name": "stdout",
     "output_type": "stream",
     "text": [
      "['appliedlearning', 'appliedlearning_health_sports', 'appliedlearning_history_civics', 'appliedlearning_literacy_language', 'appliedlearning_math_science', 'appliedlearning_music_arts', 'appliedlearning_specialneeds', 'appliedlearning_warmth_care_hunger', 'health_sports', 'health_sports_appliedlearning', 'health_sports_history_civics', 'health_sports_literacy_language', 'health_sports_math_science', 'health_sports_music_arts', 'health_sports_specialneeds', 'health_sports_warmth_care_hunger', 'history_civics', 'history_civics_appliedlearning', 'history_civics_health_sports', 'history_civics_literacy_language', 'history_civics_math_science', 'history_civics_music_arts', 'history_civics_specialneeds', 'literacy_language', 'literacy_language_appliedlearning', 'literacy_language_health_sports', 'literacy_language_history_civics', 'literacy_language_math_science', 'literacy_language_music_arts', 'literacy_language_specialneeds', 'literacy_language_warmth_care_hunger', 'math_science', 'math_science_appliedlearning', 'math_science_health_sports', 'math_science_history_civics', 'math_science_literacy_language', 'math_science_music_arts', 'math_science_specialneeds', 'math_science_warmth_care_hunger', 'music_arts', 'music_arts_appliedlearning', 'music_arts_health_sports', 'music_arts_history_civics', 'music_arts_specialneeds', 'music_arts_warmth_care_hunger', 'specialneeds', 'specialneeds_health_sports', 'specialneeds_music_arts', 'specialneeds_warmth_care_hunger', 'warmth_care_hunger']\n",
      "Shape of matrix after one hot encoding -> categories: X_train_case1:  (87364, 50)\n",
      "Shape of matrix after one hot encoding -> categories: X_test_Case1 :  (21841, 50)\n"
     ]
    },
    {
     "name": "stderr",
     "output_type": "stream",
     "text": [
      "/opt/conda/lib/python3.7/site-packages/sklearn/utils/deprecation.py:87: FutureWarning:\n",
      "\n",
      "Function get_feature_names is deprecated; get_feature_names is deprecated in 1.0 and will be removed in 1.2. Please use get_feature_names_out instead.\n",
      "\n"
     ]
    }
   ],
   "source": [
    "vectorizer_sub = CountVectorizer( lowercase=False, binary=True)\n",
    "vectorizer_sub.fit(X_train_case2['project_subject_categories'].values)\n",
    "\n",
    "x_train_case2_categories = vectorizer_sub.transform(X_train_case2['project_subject_categories'].values)\n",
    "x_test_case2_categories  = vectorizer_sub.transform(X_test_case2['project_subject_categories'].values)\n",
    "\n",
    "print(vectorizer_sub.get_feature_names())\n",
    "print(\"Shape of matrix after one hot encoding -> categories: X_train_case1: \",x_train_case2_categories.shape)\n",
    "print(\"Shape of matrix after one hot encoding -> categories: X_test_Case1 : \",x_test_case2_categories.shape)"
   ]
  },
  {
   "cell_type": "markdown",
   "id": "e9f497b8",
   "metadata": {
    "id": "l6jgqV8rdo8H",
    "papermill": {
     "duration": 0.043556,
     "end_time": "2023-04-26T13:55:46.401905",
     "exception": false,
     "start_time": "2023-04-26T13:55:46.358349",
     "status": "completed"
    },
    "tags": []
   },
   "source": [
    "### Encoding Subject Sub-Categories"
   ]
  },
  {
   "cell_type": "code",
   "execution_count": 41,
   "id": "bbdf7fa2",
   "metadata": {
    "execution": {
     "iopub.execute_input": "2023-04-26T13:55:46.489677Z",
     "iopub.status.busy": "2023-04-26T13:55:46.489244Z",
     "iopub.status.idle": "2023-04-26T13:55:47.190445Z",
     "shell.execute_reply": "2023-04-26T13:55:47.189490Z"
    },
    "id": "RKWZk7WcXJGo",
    "outputId": "3eb642b7-b287-4e19-bd20-d72141ecc365",
    "papermill": {
     "duration": 0.748367,
     "end_time": "2023-04-26T13:55:47.193244",
     "exception": false,
     "start_time": "2023-04-26T13:55:46.444877",
     "status": "completed"
    },
    "tags": []
   },
   "outputs": [
    {
     "name": "stdout",
     "output_type": "stream",
     "text": [
      "['appliedsciences', 'appliedsciences_charactereducation', 'appliedsciences_civics_government', 'appliedsciences_college_careerprep', 'appliedsciences_communityservice', 'appliedsciences_earlydevelopment', 'appliedsciences_economics', 'appliedsciences_environmentalscience', 'appliedsciences_esl', 'appliedsciences_extracurricular', 'appliedsciences_financialliteracy', 'appliedsciences_foreignlanguages', 'appliedsciences_gym_fitness', 'appliedsciences_health_lifescience', 'appliedsciences_health_wellness', 'appliedsciences_history_geography', 'appliedsciences_literacy', 'appliedsciences_literature_writing', 'appliedsciences_mathematics', 'appliedsciences_music', 'appliedsciences_nutritioneducation', 'appliedsciences_other', 'appliedsciences_parentinvolvement', 'appliedsciences_performingarts', 'appliedsciences_socialsciences', 'appliedsciences_specialneeds', 'appliedsciences_teamsports', 'appliedsciences_visualarts', 'appliedsciences_warmth_care_hunger', 'charactereducation', 'charactereducation_civics_government', 'charactereducation_college_careerprep', 'charactereducation_communityservice', 'charactereducation_earlydevelopment', 'charactereducation_economics', 'charactereducation_environmentalscience', 'charactereducation_esl', 'charactereducation_extracurricular', 'charactereducation_financialliteracy', 'charactereducation_foreignlanguages', 'charactereducation_gym_fitness', 'charactereducation_health_lifescience', 'charactereducation_health_wellness', 'charactereducation_history_geography', 'charactereducation_literacy', 'charactereducation_literature_writing', 'charactereducation_mathematics', 'charactereducation_music', 'charactereducation_nutritioneducation', 'charactereducation_other', 'charactereducation_parentinvolvement', 'charactereducation_performingarts', 'charactereducation_socialsciences', 'charactereducation_specialneeds', 'charactereducation_teamsports', 'charactereducation_visualarts', 'charactereducation_warmth_care_hunger', 'civics_government', 'civics_government_college_careerprep', 'civics_government_communityservice', 'civics_government_economics', 'civics_government_environmentalscience', 'civics_government_esl', 'civics_government_extracurricular', 'civics_government_financialliteracy', 'civics_government_health_lifescience', 'civics_government_health_wellness', 'civics_government_history_geography', 'civics_government_literacy', 'civics_government_literature_writing', 'civics_government_mathematics', 'civics_government_nutritioneducation', 'civics_government_parentinvolvement', 'civics_government_performingarts', 'civics_government_socialsciences', 'civics_government_specialneeds', 'civics_government_teamsports', 'civics_government_visualarts', 'college_careerprep', 'college_careerprep_communityservice', 'college_careerprep_earlydevelopment', 'college_careerprep_economics', 'college_careerprep_environmentalscience', 'college_careerprep_esl', 'college_careerprep_extracurricular', 'college_careerprep_financialliteracy', 'college_careerprep_foreignlanguages', 'college_careerprep_gym_fitness', 'college_careerprep_health_lifescience', 'college_careerprep_health_wellness', 'college_careerprep_history_geography', 'college_careerprep_literacy', 'college_careerprep_literature_writing', 'college_careerprep_mathematics', 'college_careerprep_music', 'college_careerprep_nutritioneducation', 'college_careerprep_other', 'college_careerprep_parentinvolvement', 'college_careerprep_performingarts', 'college_careerprep_socialsciences', 'college_careerprep_specialneeds', 'college_careerprep_teamsports', 'college_careerprep_visualarts', 'college_careerprep_warmth_care_hunger', 'communityservice', 'communityservice_earlydevelopment', 'communityservice_economics', 'communityservice_environmentalscience', 'communityservice_esl', 'communityservice_extracurricular', 'communityservice_financialliteracy', 'communityservice_gym_fitness', 'communityservice_health_lifescience', 'communityservice_health_wellness', 'communityservice_history_geography', 'communityservice_literacy', 'communityservice_literature_writing', 'communityservice_mathematics', 'communityservice_music', 'communityservice_nutritioneducation', 'communityservice_other', 'communityservice_parentinvolvement', 'communityservice_performingarts', 'communityservice_socialsciences', 'communityservice_specialneeds', 'communityservice_visualarts', 'earlydevelopment', 'earlydevelopment_economics', 'earlydevelopment_environmentalscience', 'earlydevelopment_extracurricular', 'earlydevelopment_financialliteracy', 'earlydevelopment_foreignlanguages', 'earlydevelopment_gym_fitness', 'earlydevelopment_health_lifescience', 'earlydevelopment_health_wellness', 'earlydevelopment_history_geography', 'earlydevelopment_literacy', 'earlydevelopment_literature_writing', 'earlydevelopment_mathematics', 'earlydevelopment_music', 'earlydevelopment_nutritioneducation', 'earlydevelopment_other', 'earlydevelopment_parentinvolvement', 'earlydevelopment_performingarts', 'earlydevelopment_socialsciences', 'earlydevelopment_specialneeds', 'earlydevelopment_teamsports', 'earlydevelopment_visualarts', 'earlydevelopment_warmth_care_hunger', 'economics', 'economics_environmentalscience', 'economics_financialliteracy', 'economics_foreignlanguages', 'economics_health_lifescience', 'economics_history_geography', 'economics_literacy', 'economics_literature_writing', 'economics_mathematics', 'economics_music', 'economics_nutritioneducation', 'economics_other', 'economics_socialsciences', 'economics_specialneeds', 'economics_visualarts', 'environmentalscience', 'environmentalscience_extracurricular', 'environmentalscience_financialliteracy', 'environmentalscience_foreignlanguages', 'environmentalscience_gym_fitness', 'environmentalscience_health_lifescience', 'environmentalscience_health_wellness', 'environmentalscience_history_geography', 'environmentalscience_literacy', 'environmentalscience_literature_writing', 'environmentalscience_mathematics', 'environmentalscience_music', 'environmentalscience_nutritioneducation', 'environmentalscience_other', 'environmentalscience_parentinvolvement', 'environmentalscience_performingarts', 'environmentalscience_socialsciences', 'environmentalscience_specialneeds', 'environmentalscience_teamsports', 'environmentalscience_visualarts', 'environmentalscience_warmth_care_hunger', 'esl', 'esl_earlydevelopment', 'esl_economics', 'esl_environmentalscience', 'esl_extracurricular', 'esl_financialliteracy', 'esl_foreignlanguages', 'esl_gym_fitness', 'esl_health_lifescience', 'esl_health_wellness', 'esl_history_geography', 'esl_literacy', 'esl_literature_writing', 'esl_mathematics', 'esl_music', 'esl_nutritioneducation', 'esl_other', 'esl_parentinvolvement', 'esl_performingarts', 'esl_socialsciences', 'esl_specialneeds', 'esl_teamsports', 'esl_visualarts', 'extracurricular', 'extracurricular_financialliteracy', 'extracurricular_foreignlanguages', 'extracurricular_gym_fitness', 'extracurricular_health_lifescience', 'extracurricular_health_wellness', 'extracurricular_history_geography', 'extracurricular_literacy', 'extracurricular_literature_writing', 'extracurricular_mathematics', 'extracurricular_music', 'extracurricular_nutritioneducation', 'extracurricular_other', 'extracurricular_parentinvolvement', 'extracurricular_performingarts', 'extracurricular_socialsciences', 'extracurricular_specialneeds', 'extracurricular_teamsports', 'extracurricular_visualarts', 'financialliteracy', 'financialliteracy_health_lifescience', 'financialliteracy_health_wellness', 'financialliteracy_history_geography', 'financialliteracy_literacy', 'financialliteracy_literature_writing', 'financialliteracy_mathematics', 'financialliteracy_other', 'financialliteracy_parentinvolvement', 'financialliteracy_socialsciences', 'financialliteracy_specialneeds', 'financialliteracy_visualarts', 'foreignlanguages', 'foreignlanguages_gym_fitness', 'foreignlanguages_health_lifescience', 'foreignlanguages_health_wellness', 'foreignlanguages_history_geography', 'foreignlanguages_literacy', 'foreignlanguages_literature_writing', 'foreignlanguages_mathematics', 'foreignlanguages_music', 'foreignlanguages_other', 'foreignlanguages_performingarts', 'foreignlanguages_socialsciences', 'foreignlanguages_specialneeds', 'foreignlanguages_visualarts', 'gym_fitness', 'gym_fitness_health_lifescience', 'gym_fitness_health_wellness', 'gym_fitness_history_geography', 'gym_fitness_literacy', 'gym_fitness_literature_writing', 'gym_fitness_mathematics', 'gym_fitness_music', 'gym_fitness_nutritioneducation', 'gym_fitness_other', 'gym_fitness_performingarts', 'gym_fitness_specialneeds', 'gym_fitness_teamsports', 'gym_fitness_visualarts', 'gym_fitness_warmth_care_hunger', 'health_lifescience', 'health_lifescience_health_wellness', 'health_lifescience_history_geography', 'health_lifescience_literacy', 'health_lifescience_literature_writing', 'health_lifescience_mathematics', 'health_lifescience_music', 'health_lifescience_nutritioneducation', 'health_lifescience_other', 'health_lifescience_parentinvolvement', 'health_lifescience_performingarts', 'health_lifescience_socialsciences', 'health_lifescience_specialneeds', 'health_lifescience_teamsports', 'health_lifescience_visualarts', 'health_lifescience_warmth_care_hunger', 'health_wellness', 'health_wellness_history_geography', 'health_wellness_literacy', 'health_wellness_literature_writing', 'health_wellness_mathematics', 'health_wellness_music', 'health_wellness_nutritioneducation', 'health_wellness_other', 'health_wellness_parentinvolvement', 'health_wellness_performingarts', 'health_wellness_socialsciences', 'health_wellness_specialneeds', 'health_wellness_teamsports', 'health_wellness_visualarts', 'health_wellness_warmth_care_hunger', 'history_geography', 'history_geography_literacy', 'history_geography_literature_writing', 'history_geography_mathematics', 'history_geography_music', 'history_geography_other', 'history_geography_parentinvolvement', 'history_geography_performingarts', 'history_geography_socialsciences', 'history_geography_specialneeds', 'history_geography_teamsports', 'history_geography_visualarts', 'literacy', 'literacy_literature_writing', 'literacy_mathematics', 'literacy_music', 'literacy_nutritioneducation', 'literacy_other', 'literacy_parentinvolvement', 'literacy_performingarts', 'literacy_socialsciences', 'literacy_specialneeds', 'literacy_teamsports', 'literacy_visualarts', 'literacy_warmth_care_hunger', 'literature_writing', 'literature_writing_mathematics', 'literature_writing_music', 'literature_writing_nutritioneducation', 'literature_writing_other', 'literature_writing_parentinvolvement', 'literature_writing_performingarts', 'literature_writing_socialsciences', 'literature_writing_specialneeds', 'literature_writing_teamsports', 'literature_writing_visualarts', 'literature_writing_warmth_care_hunger', 'mathematics', 'mathematics_music', 'mathematics_nutritioneducation', 'mathematics_other', 'mathematics_parentinvolvement', 'mathematics_performingarts', 'mathematics_socialsciences', 'mathematics_specialneeds', 'mathematics_teamsports', 'mathematics_visualarts', 'mathematics_warmth_care_hunger', 'music', 'music_other', 'music_parentinvolvement', 'music_performingarts', 'music_socialsciences', 'music_specialneeds', 'music_teamsports', 'music_visualarts', 'nutritioneducation', 'nutritioneducation_other', 'nutritioneducation_socialsciences', 'nutritioneducation_specialneeds', 'nutritioneducation_teamsports', 'nutritioneducation_visualarts', 'nutritioneducation_warmth_care_hunger', 'other', 'other_parentinvolvement', 'other_performingarts', 'other_socialsciences', 'other_specialneeds', 'other_teamsports', 'other_visualarts', 'parentinvolvement', 'parentinvolvement_performingarts', 'parentinvolvement_socialsciences', 'parentinvolvement_specialneeds', 'parentinvolvement_visualarts', 'parentinvolvement_warmth_care_hunger', 'performingarts', 'performingarts_socialsciences', 'performingarts_specialneeds', 'performingarts_teamsports', 'performingarts_visualarts', 'socialsciences', 'socialsciences_specialneeds', 'socialsciences_teamsports', 'socialsciences_visualarts', 'specialneeds', 'specialneeds_teamsports', 'specialneeds_visualarts', 'specialneeds_warmth_care_hunger', 'teamsports', 'teamsports_visualarts', 'visualarts', 'visualarts_warmth_care_hunger', 'warmth_care_hunger']\n",
      "Shape of matrix after one hot encoding -> sub_categories: X_train_case1:  (87364, 393)\n",
      "Shape of matrix after one hot encoding -> sub_categories: X_test_Case1 :  (21841, 393)\n"
     ]
    }
   ],
   "source": [
    "vectorizer_sub = CountVectorizer( lowercase=False, binary=True)\n",
    "vectorizer_sub.fit(X_train_case2['project_subject_subcategories'].values)\n",
    "x_train_case2_sub_categories = vectorizer_sub.transform(X_train_case2['project_subject_subcategories'].values)\n",
    "x_test_case2_sub_categories  = vectorizer_sub.transform(X_test_case2['project_subject_subcategories'].values)\n",
    "\n",
    "print(vectorizer_sub.get_feature_names())\n",
    "\n",
    "print(\"Shape of matrix after one hot encoding -> sub_categories: X_train_case1: \",x_train_case2_sub_categories.shape)\n",
    "print(\"Shape of matrix after one hot encoding -> sub_categories: X_test_Case1 : \",x_test_case2_sub_categories.shape)"
   ]
  },
  {
   "cell_type": "markdown",
   "id": "ce248cbf",
   "metadata": {
    "id": "sv6pE59teAUO",
    "papermill": {
     "duration": 0.056953,
     "end_time": "2023-04-26T13:55:47.294273",
     "exception": false,
     "start_time": "2023-04-26T13:55:47.237320",
     "status": "completed"
    },
    "tags": []
   },
   "source": [
    "### Encoding School State"
   ]
  },
  {
   "cell_type": "code",
   "execution_count": 42,
   "id": "08abee53",
   "metadata": {
    "execution": {
     "iopub.execute_input": "2023-04-26T13:55:47.390072Z",
     "iopub.status.busy": "2023-04-26T13:55:47.389334Z",
     "iopub.status.idle": "2023-04-26T13:55:48.081833Z",
     "shell.execute_reply": "2023-04-26T13:55:48.080431Z"
    },
    "id": "SRgfqQECXJXQ",
    "outputId": "eab5f3a9-bbca-45ef-ed24-1eaf945ac5a1",
    "papermill": {
     "duration": 0.743954,
     "end_time": "2023-04-26T13:55:48.085080",
     "exception": false,
     "start_time": "2023-04-26T13:55:47.341126",
     "status": "completed"
    },
    "tags": []
   },
   "outputs": [
    {
     "name": "stdout",
     "output_type": "stream",
     "text": [
      "['ak', 'al', 'ar', 'az', 'ca', 'co', 'ct', 'dc', 'de', 'fl', 'ga', 'hi', 'ia', 'id', 'il', 'in', 'ks', 'ky', 'la', 'ma', 'md', 'me', 'mi', 'mn', 'mo', 'ms', 'mt', 'nc', 'nd', 'ne', 'nh', 'nj', 'nm', 'nv', 'ny', 'oh', 'ok', 'or', 'pa', 'ri', 'sc', 'sd', 'tn', 'tx', 'ut', 'va', 'vt', 'wa', 'wi', 'wv', 'wy']\n",
      "Shape of matrix after one hot encoding -> school_state: x_train:  (87364, 51)\n",
      "Shape of matrix after one hot encoding -> school_state: x_test :  (21841, 51)\n"
     ]
    }
   ],
   "source": [
    "vectorizer_state = CountVectorizer( lowercase=False, binary=True)\n",
    "vectorizer_state.fit(X_train_case2['school_state'])\n",
    "\n",
    "x_train_case2_school_state = vectorizer_state.transform(X_train_case2['school_state'].values)\n",
    "x_test_case2_school_state  = vectorizer_state.transform(X_test_case2['school_state'].values)\n",
    "\n",
    "print(vectorizer_state.get_feature_names())\n",
    "\n",
    "print(\"Shape of matrix after one hot encoding -> school_state: x_train: \",x_train_case2_school_state.shape)\n",
    "print(\"Shape of matrix after one hot encoding -> school_state: x_test : \",x_test_case2_school_state.shape)"
   ]
  },
  {
   "cell_type": "markdown",
   "id": "72e0fe8e",
   "metadata": {
    "id": "CLQ6b83deCjq",
    "papermill": {
     "duration": 0.046572,
     "end_time": "2023-04-26T13:55:48.176448",
     "exception": false,
     "start_time": "2023-04-26T13:55:48.129876",
     "status": "completed"
    },
    "tags": []
   },
   "source": [
    "### Encoding Teacher Prefix"
   ]
  },
  {
   "cell_type": "code",
   "execution_count": 43,
   "id": "83ed3053",
   "metadata": {
    "execution": {
     "iopub.execute_input": "2023-04-26T13:55:48.268180Z",
     "iopub.status.busy": "2023-04-26T13:55:48.267766Z",
     "iopub.status.idle": "2023-04-26T13:55:48.931333Z",
     "shell.execute_reply": "2023-04-26T13:55:48.930270Z"
    },
    "id": "K-5I3dFxXJlD",
    "outputId": "317dcf32-21cd-45d4-aed0-71df04370d37",
    "papermill": {
     "duration": 0.71332,
     "end_time": "2023-04-26T13:55:48.933635",
     "exception": false,
     "start_time": "2023-04-26T13:55:48.220315",
     "status": "completed"
    },
    "tags": []
   },
   "outputs": [
    {
     "name": "stdout",
     "output_type": "stream",
     "text": [
      "['dr', 'mr', 'mrs', 'ms', 'teacher']\n",
      "Shape of matrix after one hot encoding -> prefix: x_train:  (87364, 5)\n",
      "Shape of matrix after one hot encoding -> prefix: x_test :  (21841, 5)\n"
     ]
    }
   ],
   "source": [
    "vectorizer_prefix = CountVectorizer(lowercase=False, binary=True)\n",
    "\n",
    "vectorizer_prefix.fit(X_train_case2['teacher_prefix'].values)\n",
    "\n",
    "x_train_case2_prefix = vectorizer_prefix.transform(X_train_case2['teacher_prefix'].values)\n",
    "x_test_case2_prefix  = vectorizer_prefix.transform(X_test_case2['teacher_prefix'].values)\n",
    "\n",
    "print(vectorizer_prefix.get_feature_names())\n",
    "\n",
    "print(\"Shape of matrix after one hot encoding -> prefix: x_train: \",x_train_case2_prefix.shape)\n",
    "print(\"Shape of matrix after one hot encoding -> prefix: x_test : \",x_test_case2_prefix.shape)"
   ]
  },
  {
   "cell_type": "markdown",
   "id": "4cc31ae7",
   "metadata": {
    "id": "b4sWRPOSeF74",
    "papermill": {
     "duration": 0.04497,
     "end_time": "2023-04-26T13:55:49.023856",
     "exception": false,
     "start_time": "2023-04-26T13:55:48.978886",
     "status": "completed"
    },
    "tags": []
   },
   "source": [
    "### Encoding Grade Category"
   ]
  },
  {
   "cell_type": "code",
   "execution_count": 44,
   "id": "372373ce",
   "metadata": {
    "execution": {
     "iopub.execute_input": "2023-04-26T13:55:49.114750Z",
     "iopub.status.busy": "2023-04-26T13:55:49.113549Z",
     "iopub.status.idle": "2023-04-26T13:55:49.810571Z",
     "shell.execute_reply": "2023-04-26T13:55:49.809437Z"
    },
    "id": "2I-uh1--XJzC",
    "outputId": "e58a37b0-800e-4e9d-82a9-cd5d9c6244c3",
    "papermill": {
     "duration": 0.744356,
     "end_time": "2023-04-26T13:55:49.812774",
     "exception": false,
     "start_time": "2023-04-26T13:55:49.068418",
     "status": "completed"
    },
    "tags": []
   },
   "outputs": [
    {
     "name": "stdout",
     "output_type": "stream",
     "text": [
      "['grades_3_5', 'grades_6_8', 'grades_9_12', 'grades_prek_2']\n",
      "Shape of matrix after one hot encoding -> project_grade: x_train :  (87364, 4)\n",
      "Shape of matrix after one hot encoding -> project_grade: x_test  :  (21841, 4)\n"
     ]
    }
   ],
   "source": [
    "vectorizer_grade = CountVectorizer(lowercase=False, binary=True)\n",
    "\n",
    "vectorizer_grade.fit(X_train_case2['project_grade_category'].values)\n",
    "\n",
    "x_train_case2_grade_category = vectorizer_grade.transform(X_train_case2['project_grade_category'].values)\n",
    "x_test_case2_grade_category  = vectorizer_grade.transform(X_test_case2['project_grade_category'].values)\n",
    "\n",
    "print(vectorizer_grade.get_feature_names())\n",
    "\n",
    "print(\"Shape of matrix after one hot encoding -> project_grade: x_train : \",x_train_case2_grade_category.shape)\n",
    "print(\"Shape of matrix after one hot encoding -> project_grade: x_test  : \",x_test_case2_grade_category.shape)\n"
   ]
  },
  {
   "cell_type": "markdown",
   "id": "99c0c747",
   "metadata": {
    "id": "9BzBP4fPeLYh",
    "papermill": {
     "duration": 0.045148,
     "end_time": "2023-04-26T13:55:49.903003",
     "exception": false,
     "start_time": "2023-04-26T13:55:49.857855",
     "status": "completed"
    },
    "tags": []
   },
   "source": [
    "### Encoding Price"
   ]
  },
  {
   "cell_type": "code",
   "execution_count": 45,
   "id": "bbac4bc9",
   "metadata": {
    "execution": {
     "iopub.execute_input": "2023-04-26T13:55:49.994569Z",
     "iopub.status.busy": "2023-04-26T13:55:49.994133Z",
     "iopub.status.idle": "2023-04-26T13:55:50.005177Z",
     "shell.execute_reply": "2023-04-26T13:55:50.004345Z"
    },
    "id": "hGjZeCYsX8lF",
    "outputId": "6cad8d2b-086d-4b59-f22b-9c11a58d2af7",
    "papermill": {
     "duration": 0.059306,
     "end_time": "2023-04-26T13:55:50.007382",
     "exception": false,
     "start_time": "2023-04-26T13:55:49.948076",
     "status": "completed"
    },
    "tags": []
   },
   "outputs": [
    {
     "data": {
      "text/plain": [
       "array([[0.00024715],\n",
       "       [0.00026048],\n",
       "       [0.0007228 ],\n",
       "       ...,\n",
       "       [0.00172646],\n",
       "       [0.00269547],\n",
       "       [0.00042241]])"
      ]
     },
     "execution_count": 45,
     "metadata": {},
     "output_type": "execute_result"
    }
   ],
   "source": [
    "normalizer = Normalizer()\n",
    "normalizer.fit(X_train_case2['price'].values.reshape(1,-1))\n",
    "x_train_case2_price_normalized = normalizer.transform(X_train_case2['price'].values.reshape(1, -1)).reshape(-1,1)\n",
    "normalizer.fit(X_test_case2['price'].values.reshape(1,-1))\n",
    "x_test_case2_price_normalized  = normalizer.transform(X_test_case2['price'].values.reshape(1, -1)).reshape(-1,1)\n",
    "x_train_case2_price_normalized"
   ]
  },
  {
   "cell_type": "markdown",
   "id": "3fe8868a",
   "metadata": {
    "id": "FXfZxq3FeOfM",
    "papermill": {
     "duration": 0.043995,
     "end_time": "2023-04-26T13:55:50.096214",
     "exception": false,
     "start_time": "2023-04-26T13:55:50.052219",
     "status": "completed"
    },
    "tags": []
   },
   "source": [
    "### Encoding Previous Projects"
   ]
  },
  {
   "cell_type": "code",
   "execution_count": 46,
   "id": "e85788c9",
   "metadata": {
    "execution": {
     "iopub.execute_input": "2023-04-26T13:55:50.186382Z",
     "iopub.status.busy": "2023-04-26T13:55:50.185419Z",
     "iopub.status.idle": "2023-04-26T13:55:50.193690Z",
     "shell.execute_reply": "2023-04-26T13:55:50.192995Z"
    },
    "id": "nvxyuBrQX9Lb",
    "papermill": {
     "duration": 0.055646,
     "end_time": "2023-04-26T13:55:50.195859",
     "exception": false,
     "start_time": "2023-04-26T13:55:50.140213",
     "status": "completed"
    },
    "tags": []
   },
   "outputs": [],
   "source": [
    "teacher_previous_proj_normalizer = Normalizer()\n",
    "teacher_previous_proj_normalizer.fit(X_train_case2['teacher_number_of_previously_posted_projects'].values.reshape(1,-1))\n",
    "x_train_case2_teacher_previous_proj_normalized = teacher_previous_proj_normalizer.transform(X_train_case2['teacher_number_of_previously_posted_projects'].values.reshape(1,- 1)).reshape(-1,1)\n",
    "teacher_previous_proj_normalizer.fit(X_test_case2['teacher_number_of_previously_posted_projects'].values.reshape(1,-1))\n",
    "x_test_case2_teacher_previous_proj_normalized  = teacher_previous_proj_normalizer.transform(X_test_case2['teacher_number_of_previously_posted_projects'].values.reshape(1,- 1)).reshape(-1,1)\n"
   ]
  },
  {
   "cell_type": "markdown",
   "id": "cdc12859",
   "metadata": {
    "id": "niDnB24UeSmP",
    "papermill": {
     "duration": 0.043052,
     "end_time": "2023-04-26T13:55:50.282549",
     "exception": false,
     "start_time": "2023-04-26T13:55:50.239497",
     "status": "completed"
    },
    "tags": []
   },
   "source": [
    "### Encoding Quantity"
   ]
  },
  {
   "cell_type": "code",
   "execution_count": 47,
   "id": "2dfc13d9",
   "metadata": {
    "execution": {
     "iopub.execute_input": "2023-04-26T13:55:50.371231Z",
     "iopub.status.busy": "2023-04-26T13:55:50.370448Z",
     "iopub.status.idle": "2023-04-26T13:55:50.381099Z",
     "shell.execute_reply": "2023-04-26T13:55:50.380088Z"
    },
    "id": "m84xIhpaX_xl",
    "outputId": "94a6d6c1-ff40-41b2-e862-660ab0169cbc",
    "papermill": {
     "duration": 0.057399,
     "end_time": "2023-04-26T13:55:50.383302",
     "exception": false,
     "start_time": "2023-04-26T13:55:50.325903",
     "status": "completed"
    },
    "tags": []
   },
   "outputs": [
    {
     "data": {
      "text/plain": [
       "array([[0.00055314],\n",
       "       [0.02798904],\n",
       "       [0.00110629],\n",
       "       ...,\n",
       "       [0.00143817],\n",
       "       [0.00188069],\n",
       "       [0.00531017]])"
      ]
     },
     "execution_count": 47,
     "metadata": {},
     "output_type": "execute_result"
    }
   ],
   "source": [
    "normalizer = Normalizer()\n",
    "\n",
    "normalizer.fit(X_train_case2['quantity'].values.reshape(1,-1)) \n",
    "x_train_case2_quantity_normalized = normalizer.transform(X_train_case2['quantity'].values.reshape(1, -1)).reshape(-1,1)\n",
    "normalizer.fit(X_test_case2['quantity'].values.reshape(1,-1)) \n",
    "x_test_case2_quantity_normalized  = normalizer.transform(X_test_case2['quantity'].values.reshape(1, -1)).reshape(-1,1)\n",
    "x_train_case2_quantity_normalized\n"
   ]
  },
  {
   "cell_type": "markdown",
   "id": "2929af38",
   "metadata": {
    "id": "UOB7IBmpgRGA",
    "papermill": {
     "duration": 0.043467,
     "end_time": "2023-04-26T13:55:50.470555",
     "exception": false,
     "start_time": "2023-04-26T13:55:50.427088",
     "status": "completed"
    },
    "tags": []
   },
   "source": [
    "### TF-IDF Cleaned Essays"
   ]
  },
  {
   "cell_type": "code",
   "execution_count": 48,
   "id": "97ba5de6",
   "metadata": {
    "execution": {
     "iopub.execute_input": "2023-04-26T13:55:50.559937Z",
     "iopub.status.busy": "2023-04-26T13:55:50.559536Z",
     "iopub.status.idle": "2023-04-26T13:56:40.003790Z",
     "shell.execute_reply": "2023-04-26T13:56:40.002605Z"
    },
    "id": "35EVw6bLxgyS",
    "outputId": "fd696dff-d283-41bb-8984-6f75b1c01943",
    "papermill": {
     "duration": 49.534885,
     "end_time": "2023-04-26T13:56:40.049439",
     "exception": false,
     "start_time": "2023-04-26T13:55:50.514554",
     "status": "completed"
    },
    "tags": []
   },
   "outputs": [
    {
     "name": "stdout",
     "output_type": "stream",
     "text": [
      "Shape of matrix after TF-IDF -> Essay: x_train:  (87364, 5000)\n",
      "Shape of matrix after TF-IDF -> Essay: x_test :  (21841, 5000)\n"
     ]
    }
   ],
   "source": [
    "# TF-IDF on train set of cleaned titles\n",
    "\n",
    "vectorizer_essay_tfidf_bigram = TfidfVectorizer(ngram_range=(2,2),min_df=10,max_features=5000)\n",
    "vectorizer_essay_tfidf_bigram.fit(X_train_case2['cleaned_essays'])\n",
    "x_train_case2_essays_tfidf_bigram = vectorizer_essay_tfidf_bigram.transform(X_train_case2['cleaned_essays'])\n",
    "x_test_case2_essays_tfidf_bigram  = vectorizer_essay_tfidf_bigram.transform(X_test_case2['cleaned_essays'])\n",
    "\n",
    "print(\"Shape of matrix after TF-IDF -> Essay: x_train: \",x_train_case2_essays_tfidf_bigram.shape)\n",
    "print(\"Shape of matrix after TF-IDF -> Essay: x_test : \",x_test_case2_essays_tfidf_bigram.shape)"
   ]
  },
  {
   "cell_type": "markdown",
   "id": "a16f7f05",
   "metadata": {
    "id": "hmF9A61Ng8Kh",
    "papermill": {
     "duration": 0.043352,
     "end_time": "2023-04-26T13:56:40.136362",
     "exception": false,
     "start_time": "2023-04-26T13:56:40.093010",
     "status": "completed"
    },
    "tags": []
   },
   "source": [
    "### TF-IDF Cleaned Titles"
   ]
  },
  {
   "cell_type": "code",
   "execution_count": 49,
   "id": "2fd123a7",
   "metadata": {
    "execution": {
     "iopub.execute_input": "2023-04-26T13:56:40.226632Z",
     "iopub.status.busy": "2023-04-26T13:56:40.225564Z",
     "iopub.status.idle": "2023-04-26T13:56:42.219059Z",
     "shell.execute_reply": "2023-04-26T13:56:42.217552Z"
    },
    "id": "x6HD9JmycMex",
    "outputId": "bd12b788-0dfb-4ef6-f05d-c16d2d7320dd",
    "papermill": {
     "duration": 2.041014,
     "end_time": "2023-04-26T13:56:42.221530",
     "exception": false,
     "start_time": "2023-04-26T13:56:40.180516",
     "status": "completed"
    },
    "tags": []
   },
   "outputs": [
    {
     "name": "stdout",
     "output_type": "stream",
     "text": [
      "Shape of matrix after TF-IDF -> Titles: x_train:  (87364, 2513)\n",
      "Shape of matrix after TF-IDF -> Titles: x_test :  (21841, 2513)\n"
     ]
    }
   ],
   "source": [
    "vectorizer_titles_tfidf_bigram = TfidfVectorizer(ngram_range=(2,2),min_df=10,max_features=5000)\n",
    "vectorizer_titles_tfidf_bigram.fit(X_train_case2['cleaned_titles'])\n",
    "x_train_case2_essays_tfidf_bigram = vectorizer_titles_tfidf_bigram.transform(X_train_case2['cleaned_titles'])\n",
    "x_test_case2_essays_tfidf_bigram  = vectorizer_titles_tfidf_bigram.transform(X_test_case2['cleaned_titles'])\n",
    "\n",
    "print(\"Shape of matrix after TF-IDF -> Titles: x_train: \",x_train_case2_essays_tfidf_bigram.shape)\n",
    "print(\"Shape of matrix after TF-IDF -> Titles: x_test : \",x_test_case2_essays_tfidf_bigram.shape)"
   ]
  },
  {
   "cell_type": "markdown",
   "id": "c73600ff",
   "metadata": {
    "id": "NgSfFKachSfM",
    "papermill": {
     "duration": 0.043176,
     "end_time": "2023-04-26T13:56:42.309067",
     "exception": false,
     "start_time": "2023-04-26T13:56:42.265891",
     "status": "completed"
    },
    "tags": []
   },
   "source": [
    "### Concatenated all features and named it as X_train_TFIDF and X_Test_TFIDF"
   ]
  },
  {
   "cell_type": "code",
   "execution_count": 50,
   "id": "fd7b6e35",
   "metadata": {
    "execution": {
     "iopub.execute_input": "2023-04-26T13:56:42.397940Z",
     "iopub.status.busy": "2023-04-26T13:56:42.397522Z",
     "iopub.status.idle": "2023-04-26T13:56:42.435803Z",
     "shell.execute_reply": "2023-04-26T13:56:42.434533Z"
    },
    "id": "tNHdf-rgeX4W",
    "outputId": "28db9db4-f7d2-4d2e-a001-fc1fda067c9e",
    "papermill": {
     "duration": 0.085451,
     "end_time": "2023-04-26T13:56:42.437959",
     "exception": false,
     "start_time": "2023-04-26T13:56:42.352508",
     "status": "completed"
    },
    "tags": []
   },
   "outputs": [
    {
     "name": "stdout",
     "output_type": "stream",
     "text": [
      "Type -> One Hot -> x_train:  <class 'scipy.sparse.coo.coo_matrix'>\n",
      "Type -> One Hot -> x_test :  <class 'scipy.sparse.coo.coo_matrix'>\n",
      "\n",
      "\n",
      "Shape -> One Hot -> x_train:  (87364, 5532)\n",
      "Shape -> One Hot -> x_test :  (21841, 5532)\n"
     ]
    }
   ],
   "source": [
    "X_train_TF_IDF_merge = hstack((x_train_case2_essays_tfidf_bigram, x_train_case2_essays_tfidf_bigram, x_train_case2_categories, x_train_case2_sub_categories, x_train_case2_school_state, x_train_case2_prefix, x_train_case2_grade_category, x_train_case2_price_normalized, x_train_case2_quantity_normalized, x_train_case2_teacher_previous_proj_normalized))\n",
    "X_test_TF_IDF_merge  = hstack((x_test_case2_essays_tfidf_bigram, x_test_case2_essays_tfidf_bigram, x_test_case2_categories, x_test_case2_sub_categories, x_test_case2_school_state, x_test_case2_prefix,x_test_case2_grade_category, x_test_case2_price_normalized, x_test_case2_quantity_normalized, x_test_case2_teacher_previous_proj_normalized))\n",
    "\n",
    "print(\"Type -> One Hot -> x_train: \",type(X_train_TF_IDF_merge))\n",
    "print(\"Type -> One Hot -> x_test : \",type(X_test_TF_IDF_merge))\n",
    "print(\"\\n\")\n",
    "print(\"Shape -> One Hot -> x_train: \",X_train_TF_IDF_merge.shape)\n",
    "print(\"Shape -> One Hot -> x_test : \",X_test_TF_IDF_merge.shape)"
   ]
  },
  {
   "cell_type": "markdown",
   "id": "74cf77dc",
   "metadata": {
    "id": "fruhQDPlfgAG",
    "papermill": {
     "duration": 0.043025,
     "end_time": "2023-04-26T13:56:42.524630",
     "exception": false,
     "start_time": "2023-04-26T13:56:42.481605",
     "status": "completed"
    },
    "tags": []
   },
   "source": [
    "## **Model Building**\n",
    "\n",
    "### Decision Tree Classifier on Case_1 and Case_2 feature sets. - GridSearchCV\n",
    "Perform hyper parameter tuning:\n",
    "Assign (best `depth` in range [5, 10, 50], and the best `min_samples_split` in range [10, 100, 500])"
   ]
  },
  {
   "cell_type": "code",
   "execution_count": 51,
   "id": "e7e3a417",
   "metadata": {
    "execution": {
     "iopub.execute_input": "2023-04-26T13:56:42.612962Z",
     "iopub.status.busy": "2023-04-26T13:56:42.612551Z",
     "iopub.status.idle": "2023-04-26T13:58:41.436973Z",
     "shell.execute_reply": "2023-04-26T13:58:41.435727Z"
    },
    "id": "vtlvAk9P_dIH",
    "outputId": "4db5c6a8-e7d8-4ed1-d268-4a74792c8279",
    "papermill": {
     "duration": 118.915551,
     "end_time": "2023-04-26T13:58:41.483478",
     "exception": false,
     "start_time": "2023-04-26T13:56:42.567927",
     "status": "completed"
    },
    "tags": []
   },
   "outputs": [
    {
     "name": "stdout",
     "output_type": "stream",
     "text": [
      "Fitting 3 folds for each of 9 candidates, totalling 27 fits\n",
      "BEST MAX DEPTH:  10  BEST SCORE:  0.6613843449730582 BEST MIN SAMPLE SPLIT:  500\n"
     ]
    }
   ],
   "source": [
    "dt_case1 = DecisionTreeClassifier(class_weight='balanced')\n",
    "parameters = {'max_depth':[5, 10, 50],'min_samples_split':[10, 100, 500]}\n",
    "clf2 = GridSearchCV(dt_case1, parameters, cv= 3, scoring='roc_auc',verbose=1,return_train_score=True,n_jobs=-1)\n",
    "\n",
    "clf2.fit(X_train_BoW_merge,y_train_case1)\n",
    "train_auc= clf2.cv_results_['mean_train_score']\n",
    "train_auc_std= clf2.cv_results_['std_train_score']\n",
    "cv_auc = clf2.cv_results_['mean_test_score']\n",
    "cv_auc_std= clf2.cv_results_['std_test_score']\n",
    "bestMaxDepth_2=clf2.best_params_['max_depth']\n",
    "bestMinSampleSplit_2=clf2.best_params_['min_samples_split']\n",
    "bestScore_2=clf2.best_score_\n",
    "case1_maxDepth = clf2.best_params_['max_depth']\n",
    "print(\"BEST MAX DEPTH: \",clf2.best_params_['max_depth'],\" BEST SCORE: \",clf2.best_score_,\"BEST MIN SAMPLE SPLIT: \",clf2.best_params_['min_samples_split'])"
   ]
  },
  {
   "cell_type": "markdown",
   "id": "0396f38e",
   "metadata": {
    "id": "m2AR5wLEZgzt",
    "papermill": {
     "duration": 0.045826,
     "end_time": "2023-04-26T13:58:41.573905",
     "exception": false,
     "start_time": "2023-04-26T13:58:41.528079",
     "status": "completed"
    },
    "tags": []
   },
   "source": [
    "### Heat Map"
   ]
  },
  {
   "cell_type": "code",
   "execution_count": 52,
   "id": "73c3ab2a",
   "metadata": {
    "execution": {
     "iopub.execute_input": "2023-04-26T13:58:41.668540Z",
     "iopub.status.busy": "2023-04-26T13:58:41.668137Z",
     "iopub.status.idle": "2023-04-26T13:58:42.798902Z",
     "shell.execute_reply": "2023-04-26T13:58:42.798064Z"
    },
    "id": "v-v_WMjTNQ6n",
    "outputId": "93624c01-e4b3-4604-eddf-9a43f38d24e7",
    "papermill": {
     "duration": 1.179803,
     "end_time": "2023-04-26T13:58:42.800932",
     "exception": false,
     "start_time": "2023-04-26T13:58:41.621129",
     "status": "completed"
    },
    "tags": []
   },
   "outputs": [
    {
     "data": {
      "image/png": "[encoded data removed]",
      "text/plain": [
       "<Figure size 1440x432 with 4 Axes>"
      ]
     },
     "metadata": {
      "needs_background": "light"
     },
     "output_type": "display_data"
    }
   ],
   "source": [
    "max_scores2 = pd.DataFrame(clf2.cv_results_).groupby(['param_min_samples_split', 'param_max_depth']).max().unstack()[['mean_test_score', 'mean_train_score']]\n",
    "fig, ax = plt.subplots(1,2, figsize=(20,6))\n",
    "sns.heatmap(max_scores2.mean_train_score, annot = True, fmt='.4g', ax=ax[0],annot_kws={\"size\": 26})\n",
    "sns.heatmap(max_scores2.mean_test_score, annot = True, fmt='.4g', ax=ax[1],annot_kws={\"size\": 26},cmap=\"YlGnBu\")\n",
    "ax[0].set_title('Train Set')\n",
    "ax[1].set_title('CV Set')\n",
    "plt.show()"
   ]
  },
  {
   "cell_type": "code",
   "execution_count": 53,
   "id": "8bb3ca76",
   "metadata": {
    "execution": {
     "iopub.execute_input": "2023-04-26T13:58:42.895771Z",
     "iopub.status.busy": "2023-04-26T13:58:42.894800Z",
     "iopub.status.idle": "2023-04-26T13:58:42.901389Z",
     "shell.execute_reply": "2023-04-26T13:58:42.900676Z"
    },
    "id": "jStyjN-eNR44",
    "outputId": "399439f5-126f-461b-f477-069f2d7467f9",
    "papermill": {
     "duration": 0.055725,
     "end_time": "2023-04-26T13:58:42.903408",
     "exception": false,
     "start_time": "2023-04-26T13:58:42.847683",
     "status": "completed"
    },
    "tags": []
   },
   "outputs": [
    {
     "data": {
      "text/plain": [
       "array([ 2.1843253 ,  2.03375586,  2.1172293 ,  7.33979352,  6.11170801,\n",
       "        4.97822722, 47.60897716, 36.09953396, 23.52829552])"
      ]
     },
     "execution_count": 53,
     "metadata": {},
     "output_type": "execute_result"
    }
   ],
   "source": [
    "clf2.cv_results_['mean_fit_time']"
   ]
  },
  {
   "cell_type": "markdown",
   "id": "c625d201",
   "metadata": {
    "id": "ao0meaMGZxcn",
    "papermill": {
     "duration": 0.046394,
     "end_time": "2023-04-26T13:58:42.996495",
     "exception": false,
     "start_time": "2023-04-26T13:58:42.950101",
     "status": "completed"
    },
    "tags": []
   },
   "source": [
    "### The best hyper parameter found which will give the maximum AUC value using k-fold cross validation(used gridsearch cv)"
   ]
  },
  {
   "cell_type": "markdown",
   "id": "bc4d80ee",
   "metadata": {
    "papermill": {
     "duration": 0.046861,
     "end_time": "2023-04-26T13:58:43.090132",
     "exception": false,
     "start_time": "2023-04-26T13:58:43.043271",
     "status": "completed"
    },
    "tags": []
   },
   "source": [
    "### Results"
   ]
  },
  {
   "cell_type": "code",
   "execution_count": 54,
   "id": "daa8bcec",
   "metadata": {
    "execution": {
     "iopub.execute_input": "2023-04-26T13:58:43.184300Z",
     "iopub.status.busy": "2023-04-26T13:58:43.183641Z",
     "iopub.status.idle": "2023-04-26T13:58:43.194091Z",
     "shell.execute_reply": "2023-04-26T13:58:43.193296Z"
    },
    "id": "5h6vIoM4NVQ9",
    "outputId": "9fcacb03-2168-43e5-c6b1-ecc927708ab4",
    "papermill": {
     "duration": 0.059521,
     "end_time": "2023-04-26T13:58:43.196069",
     "exception": false,
     "start_time": "2023-04-26T13:58:43.136548",
     "status": "completed"
    },
    "tags": []
   },
   "outputs": [
    {
     "data": {
      "text/plain": [
       "{'mean_fit_time': array([ 2.1843253 ,  2.03375586,  2.1172293 ,  7.33979352,  6.11170801,\n",
       "         4.97822722, 47.60897716, 36.09953396, 23.52829552]),\n",
       " 'std_fit_time': array([0.11748566, 0.08497465, 0.26367543, 0.24666794, 0.18168642,\n",
       "        0.05421701, 0.78144704, 0.99027559, 3.29691842]),\n",
       " 'mean_score_time': array([0.02889991, 0.03186949, 0.03342636, 0.03548527, 0.03195707,\n",
       "        0.03383358, 0.03906512, 0.03603307, 0.0341115 ]),\n",
       " 'std_score_time': array([0.00079918, 0.00076266, 0.00195749, 0.0012423 , 0.00175596,\n",
       "        0.00082652, 0.00154226, 0.00418574, 0.00369294]),\n",
       " 'param_max_depth': masked_array(data=[5, 5, 5, 10, 10, 10, 50, 50, 50],\n",
       "              mask=[False, False, False, False, False, False, False, False,\n",
       "                    False],\n",
       "        fill_value='?',\n",
       "             dtype=object),\n",
       " 'param_min_samples_split': masked_array(data=[10, 100, 500, 10, 100, 500, 10, 100, 500],\n",
       "              mask=[False, False, False, False, False, False, False, False,\n",
       "                    False],\n",
       "        fill_value='?',\n",
       "             dtype=object),\n",
       " 'params': [{'max_depth': 5, 'min_samples_split': 10},\n",
       "  {'max_depth': 5, 'min_samples_split': 100},\n",
       "  {'max_depth': 5, 'min_samples_split': 500},\n",
       "  {'max_depth': 10, 'min_samples_split': 10},\n",
       "  {'max_depth': 10, 'min_samples_split': 100},\n",
       "  {'max_depth': 10, 'min_samples_split': 500},\n",
       "  {'max_depth': 50, 'min_samples_split': 10},\n",
       "  {'max_depth': 50, 'min_samples_split': 100},\n",
       "  {'max_depth': 50, 'min_samples_split': 500}],\n",
       " 'split0_test_score': array([0.65432707, 0.65425961, 0.65425961, 0.65476862, 0.65614442,\n",
       "        0.66031266, 0.60288629, 0.62006053, 0.62888163]),\n",
       " 'split1_test_score': array([0.6554752 , 0.65551371, 0.65530514, 0.65293764, 0.65316871,\n",
       "        0.65714937, 0.60023064, 0.6254232 , 0.62931312]),\n",
       " 'split2_test_score': array([0.65459656, 0.65426916, 0.65459656, 0.66378247, 0.66443832,\n",
       "        0.66669101, 0.58956066, 0.61473918, 0.62649403]),\n",
       " 'mean_test_score': array([0.65479961, 0.65468083, 0.65472044, 0.65716291, 0.65791715,\n",
       "        0.66138434, 0.59755919, 0.6200743 , 0.62822959]),\n",
       " 'std_test_score': array([0.00049022, 0.00058895, 0.00043573, 0.00474005, 0.0047685 ,\n",
       "        0.00396839, 0.00575879, 0.00436174, 0.0012398 ]),\n",
       " 'rank_test_score': array([4, 6, 5, 3, 2, 1, 9, 8, 7], dtype=int32),\n",
       " 'split0_train_score': array([0.66567942, 0.66540641, 0.6652027 , 0.72672872, 0.7183799 ,\n",
       "        0.70861282, 0.92134309, 0.87162158, 0.82462501]),\n",
       " 'split1_train_score': array([0.66929171, 0.66917877, 0.66860162, 0.72635677, 0.72001259,\n",
       "        0.70535142, 0.92903297, 0.88140558, 0.83008478]),\n",
       " 'split2_train_score': array([0.66950284, 0.66950284, 0.66950284, 0.72853219, 0.71794909,\n",
       "        0.70856119, 0.92959366, 0.87983261, 0.82514646]),\n",
       " 'mean_train_score': array([0.66815799, 0.66802934, 0.66776905, 0.7272059 , 0.71878053,\n",
       "        0.70750848, 0.92665657, 0.87761992, 0.82661875]),\n",
       " 'std_train_score': array([0.00175473, 0.0018594 , 0.00185161, 0.00095005, 0.00088878,\n",
       "        0.00152542, 0.00376417, 0.00428981, 0.00246008])}"
      ]
     },
     "execution_count": 54,
     "metadata": {},
     "output_type": "execute_result"
    }
   ],
   "source": [
    "clf2.cv_results_"
   ]
  },
  {
   "cell_type": "markdown",
   "id": "1333558f",
   "metadata": {
    "id": "fXd964dhZtRR",
    "papermill": {
     "duration": 0.046213,
     "end_time": "2023-04-26T13:58:43.289968",
     "exception": false,
     "start_time": "2023-04-26T13:58:43.243755",
     "status": "completed"
    },
    "tags": []
   },
   "source": [
    "### **ROC curve**"
   ]
  },
  {
   "cell_type": "code",
   "execution_count": 55,
   "id": "c09e1058",
   "metadata": {
    "execution": {
     "iopub.execute_input": "2023-04-26T13:58:43.384763Z",
     "iopub.status.busy": "2023-04-26T13:58:43.384091Z",
     "iopub.status.idle": "2023-04-26T13:58:43.937919Z",
     "shell.execute_reply": "2023-04-26T13:58:43.936822Z"
    },
    "id": "nXungy-jNcxm",
    "outputId": "a26c118c-7d17-47fa-e857-8708515aba88",
    "papermill": {
     "duration": 0.603785,
     "end_time": "2023-04-26T13:58:43.940179",
     "exception": false,
     "start_time": "2023-04-26T13:58:43.336394",
     "status": "completed"
    },
    "tags": []
   },
   "outputs": [
    {
     "name": "stderr",
     "output_type": "stream",
     "text": [
      "/opt/conda/lib/python3.7/site-packages/ipykernel_launcher.py:23: MatplotlibDeprecationWarning:\n",
      "\n",
      "The 'b' parameter of grid() has been renamed 'visible' since Matplotlib 3.5; support for the old name will be dropped two minor releases later.\n",
      "\n"
     ]
    },
    {
     "data": {
      "image/png": "[encoded data removed]",
      "text/plain": [
       "<Figure size 432x288 with 1 Axes>"
      ]
     },
     "metadata": {
      "needs_background": "light"
     },
     "output_type": "display_data"
    }
   ],
   "source": [
    "y_train_pred=clf2.predict_proba(X_train_BoW_merge)[:,1]\n",
    "predictions_train_set2=clf2.predict(X_train_BoW_merge)\n",
    "\n",
    "y_test_pred=clf2.predict_proba(X_test_BoW_merge)[:,1]\n",
    "predictions_test_set2=clf2.predict(X_test_BoW_merge)\n",
    "\n",
    "\n",
    "train_fpr, train_tpr, tr_thresholds = roc_curve(y_train_case1, y_train_pred)\n",
    "test_fpr, test_tpr, te_thresholds = roc_curve(y_test_case1, y_test_pred)\n",
    "\n",
    "ax = plt.subplot()\n",
    "\n",
    "auc_set2_train=auc(train_fpr, train_tpr)\n",
    "auc_set2_test=auc(test_fpr, test_tpr)\n",
    "case1_aucTest = auc_set2_test\n",
    "\n",
    "ax.plot(train_fpr, train_tpr, label=\"Train AUC =\"+str(auc(train_fpr, train_tpr)))\n",
    "ax.plot(test_fpr, test_tpr, label=\"Test AUC =\"+str(auc(test_fpr, test_tpr)))\n",
    "plt.legend()\n",
    "plt.xlabel(\"False Positive Rate(FPR)\")\n",
    "plt.ylabel(\"True Positive Rate(TPR)\")\n",
    "plt.title(\"AUC\")\n",
    "plt.grid(b=True, which='major', color='k', linestyle=':')\n",
    "ax.set_facecolor(\"white\")\n",
    "plt.show()"
   ]
  },
  {
   "cell_type": "markdown",
   "id": "59a9e14b",
   "metadata": {
    "id": "fOnVu-hEaCI9",
    "papermill": {
     "duration": 0.048071,
     "end_time": "2023-04-26T13:58:44.036119",
     "exception": false,
     "start_time": "2023-04-26T13:58:43.988048",
     "status": "completed"
    },
    "tags": []
   },
   "source": [
    "### **Confusion matrix**"
   ]
  },
  {
   "cell_type": "code",
   "execution_count": 56,
   "id": "eb19d995",
   "metadata": {
    "execution": {
     "iopub.execute_input": "2023-04-26T13:58:44.132996Z",
     "iopub.status.busy": "2023-04-26T13:58:44.132536Z",
     "iopub.status.idle": "2023-04-26T13:58:44.140116Z",
     "shell.execute_reply": "2023-04-26T13:58:44.139061Z"
    },
    "id": "G9GtlrlUjgW9",
    "papermill": {
     "duration": 0.058961,
     "end_time": "2023-04-26T13:58:44.143026",
     "exception": false,
     "start_time": "2023-04-26T13:58:44.084065",
     "status": "completed"
    },
    "tags": []
   },
   "outputs": [],
   "source": [
    "def predict(proba, threshould, fpr, tpr):\n",
    "    t = threshould[np.argmax(tpr*(1-fpr))]\n",
    "    # (tpr*(1-fpr)) will be maximum if your fpr is very low and tpr is very high\n",
    "    print(\"the maximum value of tpr*(1-fpr)\", max(tpr*(1-fpr)), \"for threshold\", np.round(t,3))\n",
    "    predictions = []\n",
    "    for i in proba:\n",
    "        if i>=t:\n",
    "            predictions.append(1)\n",
    "        else:\n",
    "            predictions.append(0)\n",
    "\n",
    "    return predictions"
   ]
  },
  {
   "cell_type": "code",
   "execution_count": 57,
   "id": "8b00fffb",
   "metadata": {
    "execution": {
     "iopub.execute_input": "2023-04-26T13:58:44.240374Z",
     "iopub.status.busy": "2023-04-26T13:58:44.239693Z",
     "iopub.status.idle": "2023-04-26T13:58:44.603127Z",
     "shell.execute_reply": "2023-04-26T13:58:44.601881Z"
    },
    "id": "wy1pTvcUaGCO",
    "outputId": "65918f8b-5b78-40ea-b595-acef54d0a797",
    "papermill": {
     "duration": 0.415303,
     "end_time": "2023-04-26T13:58:44.605892",
     "exception": false,
     "start_time": "2023-04-26T13:58:44.190589",
     "status": "completed"
    },
    "tags": []
   },
   "outputs": [
    {
     "name": "stdout",
     "output_type": "stream",
     "text": [
      "the maximum value of tpr*(1-fpr) 0.4282160782170036 for threshold 0.513\n",
      "[[ 9385  3869]\n",
      " [29292 44818]]\n",
      "the maximum value of tpr*(1-fpr) 0.4282160782170036 for threshold 0.513\n"
     ]
    },
    {
     "data": {
      "text/plain": [
       "<AxesSubplot:>"
      ]
     },
     "execution_count": 57,
     "metadata": {},
     "output_type": "execute_result"
    },
    {
     "data": {
      "image/png": "[encoded data removed]",
      "text/plain": [
       "<Figure size 432x288 with 2 Axes>"
      ]
     },
     "metadata": {},
     "output_type": "display_data"
    }
   ],
   "source": [
    "print(confusion_matrix(y_train_case1, predict(y_train_pred, tr_thresholds, train_fpr, train_tpr)))\n",
    "\n",
    "conf_matr_df_train_case1 = pd.DataFrame(confusion_matrix(y_train_case1, predict(y_train_pred, tr_thresholds,train_fpr, train_tpr)), range(2),range(2))\n",
    "sns.set(font_scale=1.4)#for label size\n",
    "sns.heatmap(conf_matr_df_train_case1, annot=True,annot_kws={\"size\": 26}, fmt='g',cmap=\"YlGnBu\")"
   ]
  },
  {
   "cell_type": "code",
   "execution_count": 58,
   "id": "9cb8a845",
   "metadata": {
    "execution": {
     "iopub.execute_input": "2023-04-26T13:58:44.706485Z",
     "iopub.status.busy": "2023-04-26T13:58:44.706052Z",
     "iopub.status.idle": "2023-04-26T13:58:44.977225Z",
     "shell.execute_reply": "2023-04-26T13:58:44.976511Z"
    },
    "id": "1KPeDnUmlqlO",
    "outputId": "7cf6cc0a-24c8-4d14-c91f-67b0dfee389f",
    "papermill": {
     "duration": 0.323589,
     "end_time": "2023-04-26T13:58:44.979323",
     "exception": false,
     "start_time": "2023-04-26T13:58:44.655734",
     "status": "completed"
    },
    "tags": []
   },
   "outputs": [
    {
     "name": "stdout",
     "output_type": "stream",
     "text": [
      "the maximum value of tpr*(1-fpr) 0.4282160782170036 for threshold 0.513\n",
      "[[ 2494   777]\n",
      " [10070  8500]]\n",
      "the maximum value of tpr*(1-fpr) 0.4282160782170036 for threshold 0.513\n"
     ]
    },
    {
     "data": {
      "text/plain": [
       "<AxesSubplot:>"
      ]
     },
     "execution_count": 58,
     "metadata": {},
     "output_type": "execute_result"
    },
    {
     "data": {
      "image/png": "[encoded data removed]",
      "text/plain": [
       "<Figure size 432x288 with 2 Axes>"
      ]
     },
     "metadata": {},
     "output_type": "display_data"
    }
   ],
   "source": [
    "print(confusion_matrix(y_test_case1, predict(y_test_pred, tr_thresholds, train_fpr, train_tpr)))\n",
    "\n",
    "conf_matr_df_train_case2 = pd.DataFrame(confusion_matrix(y_test_case1, predict(y_test_pred, tr_thresholds,train_fpr, train_tpr)), range(2),range(2))\n",
    "sns.set(font_scale=1.4)#for label size\n",
    "sns.heatmap(conf_matr_df_train_case2, annot=True,annot_kws={\"size\": 26}, fmt='g',cmap=\"YlGnBu\")"
   ]
  },
  {
   "cell_type": "markdown",
   "id": "e174233b",
   "metadata": {
    "id": "mIj2HF2wiDxB",
    "papermill": {
     "duration": 0.048451,
     "end_time": "2023-04-26T13:58:45.076749",
     "exception": false,
     "start_time": "2023-04-26T13:58:45.028298",
     "status": "completed"
    },
    "tags": []
   },
   "source": [
    "## Perform hyper parameter tuning:\n",
    "Assign (best `depth` in range [5, 10, 50], and the best `min_samples_split` in range [10, 100, 500])"
   ]
  },
  {
   "cell_type": "code",
   "execution_count": 59,
   "id": "dc32a78a",
   "metadata": {
    "execution": {
     "iopub.execute_input": "2023-04-26T13:58:45.192171Z",
     "iopub.status.busy": "2023-04-26T13:58:45.191144Z",
     "iopub.status.idle": "2023-04-26T13:59:07.650761Z",
     "shell.execute_reply": "2023-04-26T13:59:07.649531Z"
    },
    "id": "CmOmiZiKfSte",
    "outputId": "294e1acb-c52f-4431-be3f-493bf4bdd3e5",
    "papermill": {
     "duration": 22.527495,
     "end_time": "2023-04-26T13:59:07.652724",
     "exception": false,
     "start_time": "2023-04-26T13:58:45.125229",
     "status": "completed"
    },
    "tags": []
   },
   "outputs": [
    {
     "name": "stdout",
     "output_type": "stream",
     "text": [
      "Fitting 3 folds for each of 9 candidates, totalling 27 fits\n",
      "BEST MAX DEPTH:  5  BEST SCORE:  0.6621068847475099 BEST MIN SAMPLE SPLIT:  500\n"
     ]
    }
   ],
   "source": [
    "dt_case1 = DecisionTreeClassifier(class_weight='balanced')\n",
    "parameters = {'max_depth':[5, 10, 50],'min_samples_split':[10, 100, 500]}\n",
    "clf2 = GridSearchCV(dt_case1, parameters, cv= 3, scoring='roc_auc',verbose=1,return_train_score=True,n_jobs=-1)\n",
    "\n",
    "clf2.fit(X_train_TF_IDF_merge,y_train_case2)\n",
    "train_auc= clf2.cv_results_['mean_train_score']\n",
    "train_auc_std= clf2.cv_results_['std_train_score']\n",
    "cv_auc = clf2.cv_results_['mean_test_score']\n",
    "cv_auc_std= clf2.cv_results_['std_test_score']\n",
    "bestMaxDepth_2=clf2.best_params_['max_depth']\n",
    "bestMinSampleSplit_2=clf2.best_params_['min_samples_split']\n",
    "bestScore_2=clf2.best_score_\n",
    "print(\"BEST MAX DEPTH: \",clf2.best_params_['max_depth'],\" BEST SCORE: \",clf2.best_score_,\"BEST MIN SAMPLE SPLIT: \",clf2.best_params_['min_samples_split'])"
   ]
  },
  {
   "cell_type": "markdown",
   "id": "24d7b272",
   "metadata": {
    "id": "qTQ1Qq1YixM8",
    "papermill": {
     "duration": 0.047668,
     "end_time": "2023-04-26T13:59:07.748444",
     "exception": false,
     "start_time": "2023-04-26T13:59:07.700776",
     "status": "completed"
    },
    "tags": []
   },
   "source": [
    "### **Heat Maps**"
   ]
  },
  {
   "cell_type": "code",
   "execution_count": 60,
   "id": "32570de7",
   "metadata": {
    "execution": {
     "iopub.execute_input": "2023-04-26T13:59:07.848133Z",
     "iopub.status.busy": "2023-04-26T13:59:07.847413Z",
     "iopub.status.idle": "2023-04-26T13:59:08.426074Z",
     "shell.execute_reply": "2023-04-26T13:59:08.425279Z"
    },
    "id": "mcPIZrqEfS61",
    "outputId": "670485b9-617e-4f0f-c579-31790e6ddb0f",
    "papermill": {
     "duration": 0.631621,
     "end_time": "2023-04-26T13:59:08.428720",
     "exception": false,
     "start_time": "2023-04-26T13:59:07.797099",
     "status": "completed"
    },
    "tags": []
   },
   "outputs": [
    {
     "data": {
      "image/png": "[encoded data removed]",
      "text/plain": [
       "<Figure size 1440x432 with 4 Axes>"
      ]
     },
     "metadata": {},
     "output_type": "display_data"
    }
   ],
   "source": [
    "sns.set()\n",
    "max_scores2 = pd.DataFrame(clf2.cv_results_).groupby(['param_min_samples_split', 'param_max_depth']).max().unstack()[['mean_test_score', 'mean_train_score']]\n",
    "fig, ax = plt.subplots(1,2, figsize=(20,6))\n",
    "sns.heatmap(max_scores2.mean_train_score, annot = True, fmt='.4g', ax=ax[0],annot_kws={\"size\": 26})\n",
    "sns.heatmap(max_scores2.mean_test_score, annot = True, fmt='.4g', ax=ax[1],annot_kws={\"size\": 26},cmap=\"YlGnBu\")\n",
    "ax[0].set_title('Train Set')\n",
    "ax[1].set_title('CV Set')\n",
    "plt.show()"
   ]
  },
  {
   "cell_type": "code",
   "execution_count": 61,
   "id": "a8789afd",
   "metadata": {
    "execution": {
     "iopub.execute_input": "2023-04-26T13:59:08.530744Z",
     "iopub.status.busy": "2023-04-26T13:59:08.529904Z",
     "iopub.status.idle": "2023-04-26T13:59:08.536272Z",
     "shell.execute_reply": "2023-04-26T13:59:08.535291Z"
    },
    "id": "uLYzA2CWfTOr",
    "outputId": "613c9c3e-77db-494b-9f3b-1c9ec12b844f",
    "papermill": {
     "duration": 0.059193,
     "end_time": "2023-04-26T13:59:08.538238",
     "exception": false,
     "start_time": "2023-04-26T13:59:08.479045",
     "status": "completed"
    },
    "tags": []
   },
   "outputs": [
    {
     "data": {
      "text/plain": [
       "array([ 0.48198326,  0.48440131,  0.47899787,  1.59140356,  1.48209246,\n",
       "        1.23217495, 10.4023095 ,  7.22929581,  3.51748188])"
      ]
     },
     "execution_count": 61,
     "metadata": {},
     "output_type": "execute_result"
    }
   ],
   "source": [
    "clf2.cv_results_['mean_fit_time']"
   ]
  },
  {
   "cell_type": "markdown",
   "id": "10adef0e",
   "metadata": {
    "id": "yi_FmxTKi0SH",
    "papermill": {
     "duration": 0.049437,
     "end_time": "2023-04-26T13:59:08.636780",
     "exception": false,
     "start_time": "2023-04-26T13:59:08.587343",
     "status": "completed"
    },
    "tags": []
   },
   "source": [
    "### **Result**"
   ]
  },
  {
   "cell_type": "code",
   "execution_count": 62,
   "id": "a17dcf1d",
   "metadata": {
    "execution": {
     "iopub.execute_input": "2023-04-26T13:59:08.737917Z",
     "iopub.status.busy": "2023-04-26T13:59:08.737471Z",
     "iopub.status.idle": "2023-04-26T13:59:08.748936Z",
     "shell.execute_reply": "2023-04-26T13:59:08.747962Z"
    },
    "id": "0ADWNNixfgHn",
    "outputId": "a079027c-8ed6-439a-9d28-52b3bac241bd",
    "papermill": {
     "duration": 0.064412,
     "end_time": "2023-04-26T13:59:08.751152",
     "exception": false,
     "start_time": "2023-04-26T13:59:08.686740",
     "status": "completed"
    },
    "tags": []
   },
   "outputs": [
    {
     "data": {
      "text/plain": [
       "{'mean_fit_time': array([ 0.48198326,  0.48440131,  0.47899787,  1.59140356,  1.48209246,\n",
       "         1.23217495, 10.4023095 ,  7.22929581,  3.51748188]),\n",
       " 'std_fit_time': array([0.00424627, 0.00533724, 0.00687586, 0.03227387, 0.02318565,\n",
       "        0.02261001, 0.31311434, 0.67112282, 0.62127679]),\n",
       " 'mean_score_time': array([0.01875536, 0.01937064, 0.01930761, 0.02063664, 0.0201122 ,\n",
       "        0.02024992, 0.02688924, 0.02346579, 0.02098775]),\n",
       " 'std_score_time': array([2.75682015e-04, 5.62180606e-04, 4.83390871e-04, 9.88511402e-05,\n",
       "        7.28406708e-04, 1.82824649e-04, 4.87253903e-04, 3.52548459e-03,\n",
       "        3.05489316e-03]),\n",
       " 'param_max_depth': masked_array(data=[5, 5, 5, 10, 10, 10, 50, 50, 50],\n",
       "              mask=[False, False, False, False, False, False, False, False,\n",
       "                    False],\n",
       "        fill_value='?',\n",
       "             dtype=object),\n",
       " 'param_min_samples_split': masked_array(data=[10, 100, 500, 10, 100, 500, 10, 100, 500],\n",
       "              mask=[False, False, False, False, False, False, False, False,\n",
       "                    False],\n",
       "        fill_value='?',\n",
       "             dtype=object),\n",
       " 'params': [{'max_depth': 5, 'min_samples_split': 10},\n",
       "  {'max_depth': 5, 'min_samples_split': 100},\n",
       "  {'max_depth': 5, 'min_samples_split': 500},\n",
       "  {'max_depth': 10, 'min_samples_split': 10},\n",
       "  {'max_depth': 10, 'min_samples_split': 100},\n",
       "  {'max_depth': 10, 'min_samples_split': 500},\n",
       "  {'max_depth': 50, 'min_samples_split': 10},\n",
       "  {'max_depth': 50, 'min_samples_split': 100},\n",
       "  {'max_depth': 50, 'min_samples_split': 500}],\n",
       " 'split0_test_score': array([0.65549985, 0.65549985, 0.65552805, 0.64858072, 0.65032199,\n",
       "        0.65335341, 0.55373927, 0.59790207, 0.62774478]),\n",
       " 'split1_test_score': array([0.6627757 , 0.6627757 , 0.66280661, 0.65613213, 0.65678009,\n",
       "        0.65956649, 0.55996119, 0.604463  , 0.63612882]),\n",
       " 'split2_test_score': array([0.66747847, 0.66757024, 0.66798599, 0.66081113, 0.66161564,\n",
       "        0.66572633, 0.55812708, 0.60900954, 0.64443835]),\n",
       " 'mean_test_score': array([0.66191801, 0.6619486 , 0.66210688, 0.65517466, 0.65623924,\n",
       "        0.65954875, 0.55727585, 0.60379154, 0.63610398]),\n",
       " 'std_test_score': array([0.00492772, 0.0049623 , 0.00510994, 0.00503874, 0.00462645,\n",
       "        0.00505124, 0.00261043, 0.0045594 , 0.00681514]),\n",
       " 'rank_test_score': array([3, 2, 1, 6, 5, 4, 9, 8, 7], dtype=int32),\n",
       " 'split0_train_score': array([0.67542842, 0.67542842, 0.67509534, 0.72300317, 0.71590586,\n",
       "        0.70493128, 0.96023251, 0.85839486, 0.76741894]),\n",
       " 'split1_train_score': array([0.6720964 , 0.6720964 , 0.67163411, 0.72892642, 0.71701865,\n",
       "        0.70234855, 0.96515734, 0.85015468, 0.76115351]),\n",
       " 'split2_train_score': array([0.66840911, 0.66821597, 0.66780608, 0.72237373, 0.71370553,\n",
       "        0.6996297 , 0.96616544, 0.85181731, 0.75466035]),\n",
       " 'mean_train_score': array([0.67197798, 0.6719136 , 0.67151185, 0.72476777, 0.71554335,\n",
       "        0.70230318, 0.96385177, 0.85345562, 0.7610776 ]),\n",
       " 'std_train_score': array([0.00286685, 0.00294731, 0.00297708, 0.00295181, 0.00137665,\n",
       "        0.0021646 , 0.00259208, 0.00355792, 0.00520895])}"
      ]
     },
     "execution_count": 62,
     "metadata": {},
     "output_type": "execute_result"
    }
   ],
   "source": [
    "clf2.cv_results_"
   ]
  },
  {
   "cell_type": "markdown",
   "id": "fb42fa06",
   "metadata": {
    "id": "3PDZjzyWi4bc",
    "papermill": {
     "duration": 0.050207,
     "end_time": "2023-04-26T13:59:08.850898",
     "exception": false,
     "start_time": "2023-04-26T13:59:08.800691",
     "status": "completed"
    },
    "tags": []
   },
   "source": [
    "### **ROC curve**"
   ]
  },
  {
   "cell_type": "code",
   "execution_count": 63,
   "id": "6ab4cc4e",
   "metadata": {
    "execution": {
     "iopub.execute_input": "2023-04-26T13:59:08.954542Z",
     "iopub.status.busy": "2023-04-26T13:59:08.954102Z",
     "iopub.status.idle": "2023-04-26T13:59:09.326646Z",
     "shell.execute_reply": "2023-04-26T13:59:09.325574Z"
    },
    "id": "qjbtS1jUfTpn",
    "outputId": "0780ffbe-38fe-42ef-f2e1-a694ef89794b",
    "papermill": {
     "duration": 0.426133,
     "end_time": "2023-04-26T13:59:09.329178",
     "exception": false,
     "start_time": "2023-04-26T13:59:08.903045",
     "status": "completed"
    },
    "tags": []
   },
   "outputs": [
    {
     "name": "stderr",
     "output_type": "stream",
     "text": [
      "/opt/conda/lib/python3.7/site-packages/ipykernel_launcher.py:23: MatplotlibDeprecationWarning:\n",
      "\n",
      "The 'b' parameter of grid() has been renamed 'visible' since Matplotlib 3.5; support for the old name will be dropped two minor releases later.\n",
      "\n"
     ]
    },
    {
     "data": {
      "image/png": "[encoded data removed]",
      "text/plain": [
       "<Figure size 432x288 with 1 Axes>"
      ]
     },
     "metadata": {},
     "output_type": "display_data"
    }
   ],
   "source": [
    "y_train_pred=clf2.predict_proba(X_train_TF_IDF_merge)[:,1]\n",
    "predictions_train_set2=clf2.predict(X_train_TF_IDF_merge)\n",
    "\n",
    "y_test_pred=clf2.predict_proba(X_test_TF_IDF_merge)[:,1]\n",
    "predictions_test_set2=clf2.predict(X_test_TF_IDF_merge)\n",
    "\n",
    "\n",
    "train_fpr, train_tpr, tr_thresholds = roc_curve(y_train_case2, y_train_pred)\n",
    "test_fpr, test_tpr, te_thresholds = roc_curve(y_test_case2, y_test_pred)\n",
    "\n",
    "ax = plt.subplot()\n",
    "\n",
    "auc_set2_train=auc(train_fpr, train_tpr)\n",
    "auc_set2_test=auc(test_fpr, test_tpr)\n",
    "\n",
    "\n",
    "ax.plot(train_fpr, train_tpr, label=\"Train AUC =\"+str(auc(train_fpr, train_tpr)))\n",
    "ax.plot(test_fpr, test_tpr, label=\"Test AUC =\"+str(auc(test_fpr, test_tpr)))\n",
    "plt.legend()\n",
    "plt.xlabel(\"False Positive Rate(FPR)\")\n",
    "plt.ylabel(\"True Positive Rate(TPR)\")\n",
    "plt.title(\"AUC\")\n",
    "plt.grid(b=True, which='major', color='k', linestyle=':')\n",
    "ax.set_facecolor(\"white\")\n",
    "plt.show()"
   ]
  },
  {
   "cell_type": "markdown",
   "id": "8bc8ef6b",
   "metadata": {
    "id": "o136228-i_a_",
    "papermill": {
     "duration": 0.050493,
     "end_time": "2023-04-26T13:59:09.430566",
     "exception": false,
     "start_time": "2023-04-26T13:59:09.380073",
     "status": "completed"
    },
    "tags": []
   },
   "source": [
    "**CONFUSION MATRIX**"
   ]
  },
  {
   "cell_type": "markdown",
   "id": "dfe34136",
   "metadata": {
    "id": "UorG5ko2lhlL",
    "papermill": {
     "duration": 0.05239,
     "end_time": "2023-04-26T13:59:09.533524",
     "exception": false,
     "start_time": "2023-04-26T13:59:09.481134",
     "status": "completed"
    },
    "tags": []
   },
   "source": [
    "Train Data"
   ]
  },
  {
   "cell_type": "code",
   "execution_count": 64,
   "id": "b2275d21",
   "metadata": {
    "execution": {
     "iopub.execute_input": "2023-04-26T13:59:09.638512Z",
     "iopub.status.busy": "2023-04-26T13:59:09.637844Z",
     "iopub.status.idle": "2023-04-26T13:59:09.980939Z",
     "shell.execute_reply": "2023-04-26T13:59:09.980088Z"
    },
    "id": "bBn2THCufT2w",
    "outputId": "176029f6-cb91-49e9-b9c8-b0e61e734eac",
    "papermill": {
     "duration": 0.398543,
     "end_time": "2023-04-26T13:59:09.983296",
     "exception": false,
     "start_time": "2023-04-26T13:59:09.584753",
     "status": "completed"
    },
    "tags": []
   },
   "outputs": [
    {
     "name": "stdout",
     "output_type": "stream",
     "text": [
      "the maximum value of tpr*(1-fpr) 0.38946408912519426 for threshold 0.507\n",
      "[[ 9016  4282]\n",
      " [31520 42546]]\n",
      "the maximum value of tpr*(1-fpr) 0.38946408912519426 for threshold 0.507\n"
     ]
    },
    {
     "data": {
      "text/plain": [
       "<AxesSubplot:>"
      ]
     },
     "execution_count": 64,
     "metadata": {},
     "output_type": "execute_result"
    },
    {
     "data": {
      "image/png": "[encoded data removed]",
      "text/plain": [
       "<Figure size 432x288 with 2 Axes>"
      ]
     },
     "metadata": {},
     "output_type": "display_data"
    }
   ],
   "source": [
    "print(confusion_matrix(y_train_case2, predict(y_train_pred, tr_thresholds, train_fpr, train_tpr)))\n",
    "\n",
    "conf_matr_df_train_case2 = pd.DataFrame(confusion_matrix(y_train_case2, predict(y_train_pred, tr_thresholds,train_fpr, train_tpr)), range(2),range(2))\n",
    "sns.set(font_scale=1.4)#for label size\n",
    "sns.heatmap(conf_matr_df_train_case2, annot=True,annot_kws={\"size\": 26}, fmt='g',cmap=\"YlGnBu\")"
   ]
  },
  {
   "cell_type": "markdown",
   "id": "3e34ab76",
   "metadata": {
    "id": "0re0XQr7lnHB",
    "papermill": {
     "duration": 0.052188,
     "end_time": "2023-04-26T13:59:10.088992",
     "exception": false,
     "start_time": "2023-04-26T13:59:10.036804",
     "status": "completed"
    },
    "tags": []
   },
   "source": [
    "Test Data"
   ]
  },
  {
   "cell_type": "code",
   "execution_count": 65,
   "id": "120b7af6",
   "metadata": {
    "execution": {
     "iopub.execute_input": "2023-04-26T13:59:10.193961Z",
     "iopub.status.busy": "2023-04-26T13:59:10.193362Z",
     "iopub.status.idle": "2023-04-26T13:59:10.456241Z",
     "shell.execute_reply": "2023-04-26T13:59:10.455493Z"
    },
    "id": "3JCq9jdblEku",
    "outputId": "6279c2e7-e4ba-49ef-d039-758eb508a8f5",
    "papermill": {
     "duration": 0.318104,
     "end_time": "2023-04-26T13:59:10.458323",
     "exception": false,
     "start_time": "2023-04-26T13:59:10.140219",
     "status": "completed"
    },
    "tags": []
   },
   "outputs": [
    {
     "name": "stdout",
     "output_type": "stream",
     "text": [
      "the maximum value of tpr*(1-fpr) 0.38946408912519426 for threshold 0.507\n",
      "[[ 2477   750]\n",
      " [10700  7914]]\n",
      "the maximum value of tpr*(1-fpr) 0.38946408912519426 for threshold 0.507\n"
     ]
    },
    {
     "data": {
      "text/plain": [
       "<AxesSubplot:>"
      ]
     },
     "execution_count": 65,
     "metadata": {},
     "output_type": "execute_result"
    },
    {
     "data": {
      "image/png": "[encoded data removed]",
      "text/plain": [
       "<Figure size 432x288 with 2 Axes>"
      ]
     },
     "metadata": {},
     "output_type": "display_data"
    }
   ],
   "source": [
    "print(confusion_matrix(y_test_case2, predict(y_test_pred, tr_thresholds, train_fpr, train_tpr)))\n",
    "\n",
    "conf_matr_df_train_case2 = pd.DataFrame(confusion_matrix(y_test_case2, predict(y_test_pred, tr_thresholds,train_fpr, train_tpr)), range(2),range(2))\n",
    "sns.set(font_scale=1.4)#for label size\n",
    "sns.heatmap(conf_matr_df_train_case2, annot=True,annot_kws={\"size\": 26}, fmt='g',cmap=\"YlGnBu\")"
   ]
  },
  {
   "cell_type": "markdown",
   "id": "a3682298",
   "metadata": {
    "id": "kWngyh4nkUEc",
    "papermill": {
     "duration": 0.05159,
     "end_time": "2023-04-26T13:59:10.619402",
     "exception": false,
     "start_time": "2023-04-26T13:59:10.567812",
     "status": "completed"
    },
    "tags": []
   },
   "source": [
    "#2. Performance Evaluation\n",
    "\n",
    "Print test Accuracy, Confusion Matrix for case 1 and case 2 separately."
   ]
  },
  {
   "cell_type": "markdown",
   "id": "62fbcc0f",
   "metadata": {
    "id": "bd5ZroY-L6zT",
    "papermill": {
     "duration": 0.051971,
     "end_time": "2023-04-26T13:59:10.722971",
     "exception": false,
     "start_time": "2023-04-26T13:59:10.671000",
     "status": "completed"
    },
    "tags": []
   },
   "source": [
    "**CASE 1: confusion matrix**"
   ]
  },
  {
   "cell_type": "code",
   "execution_count": 66,
   "id": "7e2d3c94",
   "metadata": {
    "execution": {
     "iopub.execute_input": "2023-04-26T13:59:10.829976Z",
     "iopub.status.busy": "2023-04-26T13:59:10.829418Z",
     "iopub.status.idle": "2023-04-26T13:59:10.835079Z",
     "shell.execute_reply": "2023-04-26T13:59:10.834330Z"
    },
    "id": "P-GcKfZrL6zT",
    "papermill": {
     "duration": 0.062256,
     "end_time": "2023-04-26T13:59:10.837048",
     "exception": false,
     "start_time": "2023-04-26T13:59:10.774792",
     "status": "completed"
    },
    "tags": []
   },
   "outputs": [],
   "source": [
    "def predict(proba, threshould, fpr, tpr):\n",
    "    t = threshould[np.argmax(tpr*(1-fpr))]\n",
    "    # (tpr*(1-fpr)) will be maximum if your fpr is very low and tpr is very high\n",
    "    print(\"the maximum value of tpr*(1-fpr)\", max(tpr*(1-fpr)), \"for threshold\", np.round(t,3))\n",
    "    predictions = []\n",
    "    for i in proba:\n",
    "        if i>=t:\n",
    "            predictions.append(1)\n",
    "        else:\n",
    "            predictions.append(0)\n",
    "\n",
    "    return predictions"
   ]
  },
  {
   "cell_type": "code",
   "execution_count": 67,
   "id": "a6226c7f",
   "metadata": {
    "execution": {
     "iopub.execute_input": "2023-04-26T13:59:10.944540Z",
     "iopub.status.busy": "2023-04-26T13:59:10.943871Z",
     "iopub.status.idle": "2023-04-26T13:59:11.294644Z",
     "shell.execute_reply": "2023-04-26T13:59:11.293784Z"
    },
    "id": "6ciWxZ53L6zU",
    "outputId": "398748d7-ff4a-496d-9d48-15c086c30488",
    "papermill": {
     "duration": 0.407271,
     "end_time": "2023-04-26T13:59:11.296917",
     "exception": false,
     "start_time": "2023-04-26T13:59:10.889646",
     "status": "completed"
    },
    "tags": []
   },
   "outputs": [
    {
     "name": "stdout",
     "output_type": "stream",
     "text": [
      "the maximum value of tpr*(1-fpr) 0.38946408912519426 for threshold 0.507\n",
      "[[ 6156  7098]\n",
      " [34380 39730]]\n",
      "the maximum value of tpr*(1-fpr) 0.38946408912519426 for threshold 0.507\n"
     ]
    },
    {
     "data": {
      "text/plain": [
       "<AxesSubplot:>"
      ]
     },
     "execution_count": 67,
     "metadata": {},
     "output_type": "execute_result"
    },
    {
     "data": {
      "image/png": "[encoded data removed]",
      "text/plain": [
       "<Figure size 432x288 with 2 Axes>"
      ]
     },
     "metadata": {},
     "output_type": "display_data"
    }
   ],
   "source": [
    "print(confusion_matrix(y_train_case1, predict(y_train_pred, tr_thresholds, train_fpr, train_tpr)))\n",
    "\n",
    "conf_matr_df_train_case1 = pd.DataFrame(confusion_matrix(y_train_case1, predict(y_train_pred, tr_thresholds,train_fpr, train_tpr)), range(2),range(2))\n",
    "sns.set(font_scale=1.4)#for label size\n",
    "sns.heatmap(conf_matr_df_train_case1, annot=True,annot_kws={\"size\": 26}, fmt='g',cmap=\"YlGnBu\")"
   ]
  },
  {
   "cell_type": "code",
   "execution_count": 68,
   "id": "6a00b589",
   "metadata": {
    "execution": {
     "iopub.execute_input": "2023-04-26T13:59:11.406280Z",
     "iopub.status.busy": "2023-04-26T13:59:11.405692Z",
     "iopub.status.idle": "2023-04-26T13:59:11.671572Z",
     "shell.execute_reply": "2023-04-26T13:59:11.670544Z"
    },
    "id": "WuoGcYshL6zV",
    "outputId": "6351a399-410e-4e0f-9fb4-502550574e68",
    "papermill": {
     "duration": 0.323295,
     "end_time": "2023-04-26T13:59:11.674077",
     "exception": false,
     "start_time": "2023-04-26T13:59:11.350782",
     "status": "completed"
    },
    "tags": []
   },
   "outputs": [
    {
     "name": "stdout",
     "output_type": "stream",
     "text": [
      "the maximum value of tpr*(1-fpr) 0.38946408912519426 for threshold 0.507\n",
      "[[ 1944  1327]\n",
      " [11233  7337]]\n",
      "the maximum value of tpr*(1-fpr) 0.38946408912519426 for threshold 0.507\n"
     ]
    },
    {
     "data": {
      "text/plain": [
       "<AxesSubplot:>"
      ]
     },
     "execution_count": 68,
     "metadata": {},
     "output_type": "execute_result"
    },
    {
     "data": {
      "image/png": "[encoded data removed]",
      "text/plain": [
       "<Figure size 432x288 with 2 Axes>"
      ]
     },
     "metadata": {},
     "output_type": "display_data"
    }
   ],
   "source": [
    "print(confusion_matrix(y_test_case1, predict(y_test_pred, tr_thresholds, train_fpr, train_tpr)))\n",
    "\n",
    "conf_matr_df_train_case2 = pd.DataFrame(confusion_matrix(y_test_case1, predict(y_test_pred, tr_thresholds,train_fpr, train_tpr)), range(2),range(2))\n",
    "sns.set(font_scale=1.4)#for label size\n",
    "sns.heatmap(conf_matr_df_train_case2, annot=True,annot_kws={\"size\": 26}, fmt='g',cmap=\"YlGnBu\")"
   ]
  },
  {
   "cell_type": "markdown",
   "id": "c0300895",
   "metadata": {
    "id": "THyITbWsOzEx",
    "papermill": {
     "duration": 0.052278,
     "end_time": "2023-04-26T13:59:11.779977",
     "exception": false,
     "start_time": "2023-04-26T13:59:11.727699",
     "status": "completed"
    },
    "tags": []
   },
   "source": [
    "**CASE 2: confusion matrix**"
   ]
  },
  {
   "cell_type": "code",
   "execution_count": 69,
   "id": "23722edc",
   "metadata": {
    "execution": {
     "iopub.execute_input": "2023-04-26T13:59:11.887810Z",
     "iopub.status.busy": "2023-04-26T13:59:11.887379Z",
     "iopub.status.idle": "2023-04-26T13:59:11.893659Z",
     "shell.execute_reply": "2023-04-26T13:59:11.892678Z"
    },
    "id": "mfbbGJW-OzEx",
    "papermill": {
     "duration": 0.062829,
     "end_time": "2023-04-26T13:59:11.895739",
     "exception": false,
     "start_time": "2023-04-26T13:59:11.832910",
     "status": "completed"
    },
    "tags": []
   },
   "outputs": [],
   "source": [
    "def predict(proba, threshould, fpr, tpr):\n",
    "    t = threshould[np.argmax(tpr*(1-fpr))]\n",
    "    # (tpr*(1-fpr)) will be maximum if your fpr is very low and tpr is very high\n",
    "    print(\"the maximum value of tpr*(1-fpr)\", max(tpr*(1-fpr)), \"for threshold\", np.round(t,3))\n",
    "    predictions = []\n",
    "    for i in proba:\n",
    "        if i>=t:\n",
    "            predictions.append(1)\n",
    "        else:\n",
    "            predictions.append(0)\n",
    "\n",
    "    return predictions"
   ]
  },
  {
   "cell_type": "code",
   "execution_count": 70,
   "id": "baaf3590",
   "metadata": {
    "execution": {
     "iopub.execute_input": "2023-04-26T13:59:12.001845Z",
     "iopub.status.busy": "2023-04-26T13:59:12.001041Z",
     "iopub.status.idle": "2023-04-26T13:59:12.316448Z",
     "shell.execute_reply": "2023-04-26T13:59:12.315609Z"
    },
    "id": "ItRS8i02OzEy",
    "outputId": "32ade698-f1d7-4444-d125-2a646df7bccb",
    "papermill": {
     "duration": 0.370799,
     "end_time": "2023-04-26T13:59:12.318562",
     "exception": false,
     "start_time": "2023-04-26T13:59:11.947763",
     "status": "completed"
    },
    "tags": []
   },
   "outputs": [
    {
     "name": "stdout",
     "output_type": "stream",
     "text": [
      "the maximum value of tpr*(1-fpr) 0.38946408912519426 for threshold 0.507\n",
      "[[ 9016  4282]\n",
      " [31520 42546]]\n",
      "the maximum value of tpr*(1-fpr) 0.38946408912519426 for threshold 0.507\n"
     ]
    },
    {
     "data": {
      "text/plain": [
       "<AxesSubplot:>"
      ]
     },
     "execution_count": 70,
     "metadata": {},
     "output_type": "execute_result"
    },
    {
     "data": {
      "image/png": "[encoded data removed]",
      "text/plain": [
       "<Figure size 432x288 with 2 Axes>"
      ]
     },
     "metadata": {},
     "output_type": "display_data"
    }
   ],
   "source": [
    "print(confusion_matrix(y_train_case2, predict(y_train_pred, tr_thresholds, train_fpr, train_tpr)))\n",
    "\n",
    "conf_matr_df_train_case1 = pd.DataFrame(confusion_matrix(y_train_case2, predict(y_train_pred, tr_thresholds,train_fpr, train_tpr)), range(2),range(2))\n",
    "sns.set(font_scale=1.4)#for label size\n",
    "sns.heatmap(conf_matr_df_train_case2, annot=True,annot_kws={\"size\": 26}, fmt='g',cmap=\"YlGnBu\")"
   ]
  },
  {
   "cell_type": "code",
   "execution_count": 71,
   "id": "51e28d3f",
   "metadata": {
    "execution": {
     "iopub.execute_input": "2023-04-26T13:59:12.427176Z",
     "iopub.status.busy": "2023-04-26T13:59:12.426763Z",
     "iopub.status.idle": "2023-04-26T13:59:12.692376Z",
     "shell.execute_reply": "2023-04-26T13:59:12.691538Z"
    },
    "id": "e6xpVgguOzEy",
    "outputId": "b9eb0ac5-2eb6-4910-a052-0a93dbec9088",
    "papermill": {
     "duration": 0.32273,
     "end_time": "2023-04-26T13:59:12.694724",
     "exception": false,
     "start_time": "2023-04-26T13:59:12.371994",
     "status": "completed"
    },
    "tags": []
   },
   "outputs": [
    {
     "name": "stdout",
     "output_type": "stream",
     "text": [
      "the maximum value of tpr*(1-fpr) 0.38946408912519426 for threshold 0.507\n",
      "[[ 2477   750]\n",
      " [10700  7914]]\n",
      "the maximum value of tpr*(1-fpr) 0.38946408912519426 for threshold 0.507\n"
     ]
    },
    {
     "data": {
      "text/plain": [
       "<AxesSubplot:>"
      ]
     },
     "execution_count": 71,
     "metadata": {},
     "output_type": "execute_result"
    },
    {
     "data": {
      "image/png": "[encoded data removed]",
      "text/plain": [
       "<Figure size 432x288 with 2 Axes>"
      ]
     },
     "metadata": {},
     "output_type": "display_data"
    }
   ],
   "source": [
    "print(confusion_matrix(y_test_case2, predict(y_test_pred, tr_thresholds, train_fpr, train_tpr)))\n",
    "\n",
    "conf_matr_df_train_case2 = pd.DataFrame(confusion_matrix(y_test_case2, predict(y_test_pred, tr_thresholds,train_fpr, train_tpr)), range(2),range(2))\n",
    "sns.set(font_scale=1.4)#for label size\n",
    "sns.heatmap(conf_matr_df_train_case2, annot=True,annot_kws={\"size\": 26}, fmt='g',cmap=\"YlGnBu\")"
   ]
  },
  {
   "cell_type": "code",
   "execution_count": 72,
   "id": "93759d3f",
   "metadata": {
    "execution": {
     "iopub.execute_input": "2023-04-26T13:59:12.804998Z",
     "iopub.status.busy": "2023-04-26T13:59:12.803811Z",
     "iopub.status.idle": "2023-04-26T13:59:12.810657Z",
     "shell.execute_reply": "2023-04-26T13:59:12.809726Z"
    },
    "id": "K7ESYFO3QJC6",
    "outputId": "87bdedeb-96ba-496f-a577-c7b79c73caaf",
    "papermill": {
     "duration": 0.064002,
     "end_time": "2023-04-26T13:59:12.812582",
     "exception": false,
     "start_time": "2023-04-26T13:59:12.748580",
     "status": "completed"
    },
    "tags": []
   },
   "outputs": [
    {
     "name": "stdout",
     "output_type": "stream",
     "text": [
      "Vectoriser BoW \n",
      "Hyper parameter-max depth: 10\n",
      "Test AUC:0.6541570996372061\n"
     ]
    }
   ],
   "source": [
    "print(\"Vectoriser BoW \\nHyper parameter-max depth: \" + str(case1_maxDepth) + \"\\nTest AUC:\" + str(case1_aucTest))"
   ]
  },
  {
   "cell_type": "code",
   "execution_count": 73,
   "id": "9feac852",
   "metadata": {
    "execution": {
     "iopub.execute_input": "2023-04-26T13:59:12.923919Z",
     "iopub.status.busy": "2023-04-26T13:59:12.922755Z",
     "iopub.status.idle": "2023-04-26T13:59:12.930138Z",
     "shell.execute_reply": "2023-04-26T13:59:12.928791Z"
    },
    "id": "UvoNE99ZR-Cw",
    "outputId": "4fe2c5b0-cc52-4783-916f-1c363ddfc186",
    "papermill": {
     "duration": 0.066553,
     "end_time": "2023-04-26T13:59:12.932475",
     "exception": false,
     "start_time": "2023-04-26T13:59:12.865922",
     "status": "completed"
    },
    "tags": []
   },
   "outputs": [
    {
     "name": "stdout",
     "output_type": "stream",
     "text": [
      "Vectoriser TF-IDF \n",
      "Hyper parameter-max depth: 5\n",
      "Test AUC:0.6348063003515818\n"
     ]
    }
   ],
   "source": [
    "print(\"Vectoriser TF-IDF \\nHyper parameter-max depth: \" + str(clf2.best_params_['max_depth']) + \"\\nTest AUC:\" + str(auc_set2_test))"
   ]
  }
 ],
 "metadata": {
  "kernelspec": {
   "display_name": "Python 3",
   "language": "python",
   "name": "python3"
  },
  "language_info": {
   "codemirror_mode": {
    "name": "ipython",
    "version": 3
   },
   "file_extension": ".py",
   "mimetype": "text/x-python",
   "name": "python",
   "nbconvert_exporter": "python",
   "pygments_lexer": "ipython3",
   "version": "3.7.12"
  },
  "papermill": {
   "default_parameters": {},
   "duration": 346.81118,
   "end_time": "2023-04-26T13:59:15.707922",
   "environment_variables": {},
   "exception": null,
   "input_path": "__notebook__.ipynb",
   "output_path": "__notebook__.ipynb",
   "parameters": {},
   "start_time": "2023-04-26T13:53:28.896742",
   "version": "2.3.4"
  }
 },
 "nbformat": 4,
 "nbformat_minor": 5
}
