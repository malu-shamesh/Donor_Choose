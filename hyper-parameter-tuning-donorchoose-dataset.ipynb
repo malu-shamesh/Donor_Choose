{
 "cells": [
  {
   "cell_type": "markdown",
   "id": "4dbb7502",
   "metadata": {
    "id": "TGdGqKXR81Da",
    "papermill": {
     "duration": 0.02994,
     "end_time": "2023-04-26T11:09:03.775645",
     "exception": false,
     "start_time": "2023-04-26T11:09:03.745705",
     "status": "completed"
    },
    "tags": []
   },
   "source": [
    "# **Import Libraries/Dataset**"
   ]
  },
  {
   "cell_type": "code",
   "execution_count": 1,
   "id": "16a2f06b",
   "metadata": {
    "execution": {
     "iopub.execute_input": "2023-04-26T11:09:03.828078Z",
     "iopub.status.busy": "2023-04-26T11:09:03.827118Z",
     "iopub.status.idle": "2023-04-26T11:09:16.391651Z",
     "shell.execute_reply": "2023-04-26T11:09:16.390432Z"
    },
    "id": "p6S6dSSB6p-n",
    "outputId": "d82362b7-6044-45ae-c1c0-46904bfca3da",
    "papermill": {
     "duration": 12.593719,
     "end_time": "2023-04-26T11:09:16.394410",
     "exception": false,
     "start_time": "2023-04-26T11:09:03.800691",
     "status": "completed"
    },
    "tags": []
   },
   "outputs": [
    {
     "name": "stdout",
     "output_type": "stream",
     "text": [
      "Collecting chart-studio\r\n",
      "  Downloading chart_studio-1.1.0-py3-none-any.whl (64 kB)\r\n",
      "\u001b[2K     \u001b[90m━━━━━━━━━━━━━━━━━━━━━━━━━━━━━━━━━━━━━━━━\u001b[0m \u001b[32m64.4/64.4 kB\u001b[0m \u001b[31m4.5 MB/s\u001b[0m eta \u001b[36m0:00:00\u001b[0m\r\n",
      "\u001b[?25hRequirement already satisfied: six in /opt/conda/lib/python3.7/site-packages (from chart-studio) (1.16.0)\r\n",
      "Requirement already satisfied: plotly in /opt/conda/lib/python3.7/site-packages (from chart-studio) (5.8.0)\r\n",
      "Requirement already satisfied: requests in /opt/conda/lib/python3.7/site-packages (from chart-studio) (2.27.1)\r\n",
      "Requirement already satisfied: retrying>=1.3.3 in /opt/conda/lib/python3.7/site-packages (from chart-studio) (1.3.3)\r\n",
      "Requirement already satisfied: tenacity>=6.2.0 in /opt/conda/lib/python3.7/site-packages (from plotly->chart-studio) (8.0.1)\r\n",
      "Requirement already satisfied: certifi>=2017.4.17 in /opt/conda/lib/python3.7/site-packages (from requests->chart-studio) (2022.5.18.1)\r\n",
      "Requirement already satisfied: idna<4,>=2.5 in /opt/conda/lib/python3.7/site-packages (from requests->chart-studio) (3.3)\r\n",
      "Requirement already satisfied: charset-normalizer~=2.0.0 in /opt/conda/lib/python3.7/site-packages (from requests->chart-studio) (2.0.12)\r\n",
      "Requirement already satisfied: urllib3<1.27,>=1.21.1 in /opt/conda/lib/python3.7/site-packages (from requests->chart-studio) (1.26.9)\r\n",
      "Installing collected packages: chart-studio\r\n",
      "Successfully installed chart-studio-1.1.0\r\n",
      "\u001b[33mWARNING: Running pip as the 'root' user can result in broken permissions and conflicting behaviour with the system package manager. It is recommended to use a virtual environment instead: https://pip.pypa.io/warnings/venv\u001b[0m\u001b[33m\r\n",
      "\u001b[0m"
     ]
    }
   ],
   "source": [
    "!pip install chart-studio"
   ]
  },
  {
   "cell_type": "code",
   "execution_count": 2,
   "id": "8e7929e7",
   "metadata": {
    "execution": {
     "iopub.execute_input": "2023-04-26T11:09:16.447552Z",
     "iopub.status.busy": "2023-04-26T11:09:16.447095Z",
     "iopub.status.idle": "2023-04-26T11:09:23.597980Z",
     "shell.execute_reply": "2023-04-26T11:09:23.596886Z"
    },
    "id": "8DYBlfBI87G4",
    "papermill": {
     "duration": 7.180589,
     "end_time": "2023-04-26T11:09:23.600582",
     "exception": false,
     "start_time": "2023-04-26T11:09:16.419993",
     "status": "completed"
    },
    "tags": []
   },
   "outputs": [],
   "source": [
    "import pandas as pd\n",
    "from sklearn.model_selection import *\n",
    "from sklearn.feature_extraction.text import *\n",
    "import numpy as np\n",
    "import matplotlib.pyplot as plt\n",
    "import seaborn as sns\n",
    "from sklearn.preprocessing import MinMaxScaler\n",
    "from sklearn.tree import DecisionTreeClassifier\n",
    "from sklearn import tree\n",
    "from collections import Counter\n",
    "from sklearn.feature_extraction.text import CountVectorizer\n",
    "from sklearn.metrics import confusion_matrix\n",
    "from sklearn.feature_extraction.text import TfidfVectorizer\n",
    "from scipy.sparse import hstack\n",
    "from scipy.sparse import csr_matrix\n",
    "from sklearn.metrics import roc_curve, auc\n",
    "from sklearn.metrics import confusion_matrix\n",
    "from sklearn.model_selection import GridSearchCV\n",
    "from sklearn.tree import DecisionTreeClassifier\n",
    "from sklearn.preprocessing import *\n",
    "from tensorflow import keras\n",
    "import plotly.graph_objs as go\n",
    "import pandas as pd\n",
    "from chart_studio import plotly as py\n",
    "  \n",
    "# some more libraries to plot graph\n",
    "from plotly.offline import download_plotlyjs, init_notebook_mode, iplot, plot"
   ]
  },
  {
   "cell_type": "markdown",
   "id": "01feeb19",
   "metadata": {
    "id": "5qEgzCHbBB2H",
    "papermill": {
     "duration": 0.024807,
     "end_time": "2023-04-26T11:09:23.650823",
     "exception": false,
     "start_time": "2023-04-26T11:09:23.626016",
     "status": "completed"
    },
    "tags": []
   },
   "source": [
    "# **Data Visualization and Exploration**"
   ]
  },
  {
   "cell_type": "markdown",
   "id": "3307a9aa",
   "metadata": {
    "id": "q8Sk90XxBMB-",
    "papermill": {
     "duration": 0.024831,
     "end_time": "2023-04-26T11:09:23.700788",
     "exception": false,
     "start_time": "2023-04-26T11:09:23.675957",
     "status": "completed"
    },
    "tags": []
   },
   "source": [
    "### 10 rows printed for sanity check to identify all the features present in the dataset and to check if the target matches with them."
   ]
  },
  {
   "cell_type": "code",
   "execution_count": 3,
   "id": "a5d4650f",
   "metadata": {
    "execution": {
     "iopub.execute_input": "2023-04-26T11:09:23.754695Z",
     "iopub.status.busy": "2023-04-26T11:09:23.753731Z",
     "iopub.status.idle": "2023-04-26T11:09:27.363421Z",
     "shell.execute_reply": "2023-04-26T11:09:27.362431Z"
    },
    "id": "9qBgkLMsBXNO",
    "outputId": "19cb0db3-795a-4100-950a-48128d319af5",
    "papermill": {
     "duration": 3.639767,
     "end_time": "2023-04-26T11:09:27.365984",
     "exception": false,
     "start_time": "2023-04-26T11:09:23.726217",
     "status": "completed"
    },
    "tags": []
   },
   "outputs": [
    {
     "data": {
      "text/html": [
       "<div>\n",
       "<style scoped>\n",
       "    .dataframe tbody tr th:only-of-type {\n",
       "        vertical-align: middle;\n",
       "    }\n",
       "\n",
       "    .dataframe tbody tr th {\n",
       "        vertical-align: top;\n",
       "    }\n",
       "\n",
       "    .dataframe thead th {\n",
       "        text-align: right;\n",
       "    }\n",
       "</style>\n",
       "<table border=\"1\" class=\"dataframe\">\n",
       "  <thead>\n",
       "    <tr style=\"text-align: right;\">\n",
       "      <th></th>\n",
       "      <th>id</th>\n",
       "      <th>teacher_prefix</th>\n",
       "      <th>school_state</th>\n",
       "      <th>project_grade_category</th>\n",
       "      <th>project_subject_categories</th>\n",
       "      <th>project_subject_subcategories</th>\n",
       "      <th>teacher_number_of_previously_posted_projects</th>\n",
       "      <th>project_is_approved</th>\n",
       "      <th>price</th>\n",
       "      <th>quantity</th>\n",
       "      <th>cleaned_titles</th>\n",
       "      <th>cleaned_essays</th>\n",
       "      <th>cleaned_summary</th>\n",
       "      <th>isdigit_summary</th>\n",
       "    </tr>\n",
       "  </thead>\n",
       "  <tbody>\n",
       "    <tr>\n",
       "      <th>0</th>\n",
       "      <td>p253737</td>\n",
       "      <td>mrs</td>\n",
       "      <td>in</td>\n",
       "      <td>grades_prek_2</td>\n",
       "      <td>literacy_language</td>\n",
       "      <td>esl_literacy</td>\n",
       "      <td>0</td>\n",
       "      <td>0</td>\n",
       "      <td>154.60</td>\n",
       "      <td>23</td>\n",
       "      <td>educational support english learners home</td>\n",
       "      <td>students english learners working english seco...</td>\n",
       "      <td>students_need_opportunities_practice_beginning...</td>\n",
       "      <td>0</td>\n",
       "    </tr>\n",
       "    <tr>\n",
       "      <th>1</th>\n",
       "      <td>p258326</td>\n",
       "      <td>mr</td>\n",
       "      <td>fl</td>\n",
       "      <td>grades_6_8</td>\n",
       "      <td>history_civics_health_sports</td>\n",
       "      <td>civics_government_teamsports</td>\n",
       "      <td>7</td>\n",
       "      <td>1</td>\n",
       "      <td>299.00</td>\n",
       "      <td>1</td>\n",
       "      <td>wanted projector hungry learners</td>\n",
       "      <td>students arrive school eager learn polite gene...</td>\n",
       "      <td>students_need_projector_help_viewing_education...</td>\n",
       "      <td>0</td>\n",
       "    </tr>\n",
       "    <tr>\n",
       "      <th>2</th>\n",
       "      <td>p182444</td>\n",
       "      <td>ms</td>\n",
       "      <td>az</td>\n",
       "      <td>grades_6_8</td>\n",
       "      <td>health_sports</td>\n",
       "      <td>health_wellness_teamsports</td>\n",
       "      <td>1</td>\n",
       "      <td>0</td>\n",
       "      <td>516.85</td>\n",
       "      <td>22</td>\n",
       "      <td>soccer equipment awesome middle school students</td>\n",
       "      <td>true champions not always ones win guts mia ha...</td>\n",
       "      <td>students_need_shine_guards_athletic_socks_socc...</td>\n",
       "      <td>0</td>\n",
       "    </tr>\n",
       "    <tr>\n",
       "      <th>3</th>\n",
       "      <td>p246581</td>\n",
       "      <td>mrs</td>\n",
       "      <td>ky</td>\n",
       "      <td>grades_prek_2</td>\n",
       "      <td>literacy_language_math_science</td>\n",
       "      <td>literacy_mathematics</td>\n",
       "      <td>4</td>\n",
       "      <td>1</td>\n",
       "      <td>232.90</td>\n",
       "      <td>4</td>\n",
       "      <td>techie kindergarteners</td>\n",
       "      <td>work unique school filled esl english second l...</td>\n",
       "      <td>students_need_engage_reading_math_way_inspire_...</td>\n",
       "      <td>0</td>\n",
       "    </tr>\n",
       "    <tr>\n",
       "      <th>4</th>\n",
       "      <td>p104768</td>\n",
       "      <td>mrs</td>\n",
       "      <td>tx</td>\n",
       "      <td>grades_prek_2</td>\n",
       "      <td>math_science</td>\n",
       "      <td>mathematics</td>\n",
       "      <td>1</td>\n",
       "      <td>1</td>\n",
       "      <td>67.98</td>\n",
       "      <td>4</td>\n",
       "      <td>interactive math tools</td>\n",
       "      <td>second grade classroom next year made around 2...</td>\n",
       "      <td>students_need_hands_practice_mathematics_fun_p...</td>\n",
       "      <td>0</td>\n",
       "    </tr>\n",
       "    <tr>\n",
       "      <th>5</th>\n",
       "      <td>p154343</td>\n",
       "      <td>mrs</td>\n",
       "      <td>fl</td>\n",
       "      <td>grades_3_5</td>\n",
       "      <td>literacy_language_specialneeds</td>\n",
       "      <td>literature_writing_specialneeds</td>\n",
       "      <td>1</td>\n",
       "      <td>1</td>\n",
       "      <td>113.22</td>\n",
       "      <td>11</td>\n",
       "      <td>flexible seating mrs jarvis terrific third gra...</td>\n",
       "      <td>moving 2nd grade 3rd grade beginning next scho...</td>\n",
       "      <td>students_need_movement_successful_variety_stud...</td>\n",
       "      <td>0</td>\n",
       "    </tr>\n",
       "    <tr>\n",
       "      <th>6</th>\n",
       "      <td>p099819</td>\n",
       "      <td>mrs</td>\n",
       "      <td>ct</td>\n",
       "      <td>grades_6_8</td>\n",
       "      <td>literacy_language_specialneeds</td>\n",
       "      <td>literacy_specialneeds</td>\n",
       "      <td>1</td>\n",
       "      <td>1</td>\n",
       "      <td>159.99</td>\n",
       "      <td>3</td>\n",
       "      <td>chromebooks special education reading program</td>\n",
       "      <td>students dynamic energetic group middle school...</td>\n",
       "      <td>students_need_dependable_laptops_daily_classro...</td>\n",
       "      <td>0</td>\n",
       "    </tr>\n",
       "    <tr>\n",
       "      <th>7</th>\n",
       "      <td>p092424</td>\n",
       "      <td>ms</td>\n",
       "      <td>ga</td>\n",
       "      <td>grades_3_5</td>\n",
       "      <td>math_science</td>\n",
       "      <td>mathematics</td>\n",
       "      <td>7</td>\n",
       "      <td>1</td>\n",
       "      <td>229.00</td>\n",
       "      <td>4</td>\n",
       "      <td>21st century</td>\n",
       "      <td>not students struggle poverty also learning ma...</td>\n",
       "      <td>students_need_ipads_help_access_world_online_r...</td>\n",
       "      <td>0</td>\n",
       "    </tr>\n",
       "    <tr>\n",
       "      <th>8</th>\n",
       "      <td>p045029</td>\n",
       "      <td>mrs</td>\n",
       "      <td>sc</td>\n",
       "      <td>grades_prek_2</td>\n",
       "      <td>health_sports</td>\n",
       "      <td>health_wellness</td>\n",
       "      <td>28</td>\n",
       "      <td>1</td>\n",
       "      <td>241.98</td>\n",
       "      <td>6</td>\n",
       "      <td>targeting success class</td>\n",
       "      <td>students enthusiastic inquisitive learners k 6...</td>\n",
       "      <td>students_need_three_devices_three_management_l...</td>\n",
       "      <td>0</td>\n",
       "    </tr>\n",
       "    <tr>\n",
       "      <th>9</th>\n",
       "      <td>p001713</td>\n",
       "      <td>ms</td>\n",
       "      <td>nc</td>\n",
       "      <td>grades_prek_2</td>\n",
       "      <td>literacy_language</td>\n",
       "      <td>literacy_literature_writing</td>\n",
       "      <td>36</td>\n",
       "      <td>1</td>\n",
       "      <td>125.36</td>\n",
       "      <td>14</td>\n",
       "      <td>love reading pure pleasure</td>\n",
       "      <td>95 students free reduced lunch homeless despit...</td>\n",
       "      <td>students_need_great_books_use_independent_read...</td>\n",
       "      <td>0</td>\n",
       "    </tr>\n",
       "  </tbody>\n",
       "</table>\n",
       "</div>"
      ],
      "text/plain": [
       "        id teacher_prefix school_state project_grade_category  \\\n",
       "0  p253737            mrs           in          grades_prek_2   \n",
       "1  p258326             mr           fl             grades_6_8   \n",
       "2  p182444             ms           az             grades_6_8   \n",
       "3  p246581            mrs           ky          grades_prek_2   \n",
       "4  p104768            mrs           tx          grades_prek_2   \n",
       "5  p154343            mrs           fl             grades_3_5   \n",
       "6  p099819            mrs           ct             grades_6_8   \n",
       "7  p092424             ms           ga             grades_3_5   \n",
       "8  p045029            mrs           sc          grades_prek_2   \n",
       "9  p001713             ms           nc          grades_prek_2   \n",
       "\n",
       "       project_subject_categories    project_subject_subcategories  \\\n",
       "0               literacy_language                     esl_literacy   \n",
       "1    history_civics_health_sports     civics_government_teamsports   \n",
       "2                   health_sports       health_wellness_teamsports   \n",
       "3  literacy_language_math_science             literacy_mathematics   \n",
       "4                    math_science                      mathematics   \n",
       "5  literacy_language_specialneeds  literature_writing_specialneeds   \n",
       "6  literacy_language_specialneeds            literacy_specialneeds   \n",
       "7                    math_science                      mathematics   \n",
       "8                   health_sports                  health_wellness   \n",
       "9               literacy_language      literacy_literature_writing   \n",
       "\n",
       "   teacher_number_of_previously_posted_projects  project_is_approved   price  \\\n",
       "0                                             0                    0  154.60   \n",
       "1                                             7                    1  299.00   \n",
       "2                                             1                    0  516.85   \n",
       "3                                             4                    1  232.90   \n",
       "4                                             1                    1   67.98   \n",
       "5                                             1                    1  113.22   \n",
       "6                                             1                    1  159.99   \n",
       "7                                             7                    1  229.00   \n",
       "8                                            28                    1  241.98   \n",
       "9                                            36                    1  125.36   \n",
       "\n",
       "   quantity                                     cleaned_titles  \\\n",
       "0        23          educational support english learners home   \n",
       "1         1                   wanted projector hungry learners   \n",
       "2        22    soccer equipment awesome middle school students   \n",
       "3         4                             techie kindergarteners   \n",
       "4         4                             interactive math tools   \n",
       "5        11  flexible seating mrs jarvis terrific third gra...   \n",
       "6         3      chromebooks special education reading program   \n",
       "7         4                                       21st century   \n",
       "8         6                            targeting success class   \n",
       "9        14                         love reading pure pleasure   \n",
       "\n",
       "                                      cleaned_essays  \\\n",
       "0  students english learners working english seco...   \n",
       "1  students arrive school eager learn polite gene...   \n",
       "2  true champions not always ones win guts mia ha...   \n",
       "3  work unique school filled esl english second l...   \n",
       "4  second grade classroom next year made around 2...   \n",
       "5  moving 2nd grade 3rd grade beginning next scho...   \n",
       "6  students dynamic energetic group middle school...   \n",
       "7  not students struggle poverty also learning ma...   \n",
       "8  students enthusiastic inquisitive learners k 6...   \n",
       "9  95 students free reduced lunch homeless despit...   \n",
       "\n",
       "                                     cleaned_summary  isdigit_summary  \n",
       "0  students_need_opportunities_practice_beginning...                0  \n",
       "1  students_need_projector_help_viewing_education...                0  \n",
       "2  students_need_shine_guards_athletic_socks_socc...                0  \n",
       "3  students_need_engage_reading_math_way_inspire_...                0  \n",
       "4  students_need_hands_practice_mathematics_fun_p...                0  \n",
       "5  students_need_movement_successful_variety_stud...                0  \n",
       "6  students_need_dependable_laptops_daily_classro...                0  \n",
       "7  students_need_ipads_help_access_world_online_r...                0  \n",
       "8  students_need_three_devices_three_management_l...                0  \n",
       "9  students_need_great_books_use_independent_read...                0  "
      ]
     },
     "execution_count": 3,
     "metadata": {},
     "output_type": "execute_result"
    }
   ],
   "source": [
    "#To read data from data set \n",
    "\n",
    "donor_data = pd.read_csv(\"/kaggle/input/donors-choose-dataset/Preprocessed_DonorsChoose_dataset.csv\")\n",
    "donor_data.head(10)"
   ]
  },
  {
   "cell_type": "markdown",
   "id": "6abddca8",
   "metadata": {
    "id": "wTFFyVlQCc2Z",
    "papermill": {
     "duration": 0.026145,
     "end_time": "2023-04-26T11:09:27.418310",
     "exception": false,
     "start_time": "2023-04-26T11:09:27.392165",
     "status": "completed"
    },
    "tags": []
   },
   "source": [
    "## Univariate analysis on teacher_prefix, Price, State, with target variable.\n",
    "(% of projects approved w.r.t teacher_prefix,price,state)"
   ]
  },
  {
   "cell_type": "markdown",
   "id": "dc1992c7",
   "metadata": {
    "id": "_q-XuXwMpzFf",
    "papermill": {
     "duration": 0.026319,
     "end_time": "2023-04-26T11:09:27.470529",
     "exception": false,
     "start_time": "2023-04-26T11:09:27.444210",
     "status": "completed"
    },
    "tags": []
   },
   "source": [
    "### **% of projects approved w.r.t teacher_prefix**"
   ]
  },
  {
   "cell_type": "code",
   "execution_count": 4,
   "id": "d352b948",
   "metadata": {
    "execution": {
     "iopub.execute_input": "2023-04-26T11:09:27.525060Z",
     "iopub.status.busy": "2023-04-26T11:09:27.524666Z",
     "iopub.status.idle": "2023-04-26T11:09:28.291882Z",
     "shell.execute_reply": "2023-04-26T11:09:28.290859Z"
    },
    "id": "7DOzt-nQCkd4",
    "outputId": "969dd698-9958-491d-88f3-04b66e8edfae",
    "papermill": {
     "duration": 0.797033,
     "end_time": "2023-04-26T11:09:28.294374",
     "exception": false,
     "start_time": "2023-04-26T11:09:27.497341",
     "status": "completed"
    },
    "tags": []
   },
   "outputs": [
    {
     "data": {
      "image/png": "[encoded data removed]",
      "text/plain": [
       "<Figure size 720x360 with 1 Axes>"
      ]
     },
     "metadata": {
      "needs_background": "light"
     },
     "output_type": "display_data"
    }
   ],
   "source": [
    "df = donor_data[donor_data.project_is_approved == 1].groupby('teacher_prefix').count()\n",
    "df = df.reset_index().copy()\n",
    "plt.figure(figsize=(10,5))\n",
    "plt.xticks(rotation=90)\n",
    "plt.ylabel('Count of projects approved')\n",
    "plt.bar(df['teacher_prefix'],df['project_is_approved'], log=True)\n",
    "\n",
    "for i in range(len(df['teacher_prefix'])):\n",
    "        plt.text(i,df['project_is_approved'][i],df['project_is_approved'][i], ha = 'center', bbox = dict(facecolor = 'red', alpha =.8))"
   ]
  },
  {
   "cell_type": "markdown",
   "id": "812a6cf2",
   "metadata": {
    "id": "ikm6Skbs2KyQ",
    "papermill": {
     "duration": 0.025883,
     "end_time": "2023-04-26T11:09:28.346604",
     "exception": false,
     "start_time": "2023-04-26T11:09:28.320721",
     "status": "completed"
    },
    "tags": []
   },
   "source": [
    "### **Distribution of Teachers Prefix**"
   ]
  },
  {
   "cell_type": "code",
   "execution_count": 5,
   "id": "0ebcac08",
   "metadata": {
    "execution": {
     "iopub.execute_input": "2023-04-26T11:09:28.401630Z",
     "iopub.status.busy": "2023-04-26T11:09:28.401223Z",
     "iopub.status.idle": "2023-04-26T11:09:28.557456Z",
     "shell.execute_reply": "2023-04-26T11:09:28.556033Z"
    },
    "id": "hEzY6fkn2Sro",
    "outputId": "45b8cb40-a9ab-42db-a6a2-0d796068b652",
    "papermill": {
     "duration": 0.187623,
     "end_time": "2023-04-26T11:09:28.561161",
     "exception": false,
     "start_time": "2023-04-26T11:09:28.373538",
     "status": "completed"
    },
    "tags": []
   },
   "outputs": [
    {
     "data": {
      "text/plain": [
       "([<matplotlib.patches.Wedge at 0x7f5493513b10>,\n",
       "  <matplotlib.patches.Wedge at 0x7f549351c390>,\n",
       "  <matplotlib.patches.Wedge at 0x7f549351cbd0>,\n",
       "  <matplotlib.patches.Wedge at 0x7f549351c8d0>,\n",
       "  <matplotlib.patches.Wedge at 0x7f5493524c10>],\n",
       " [Text(2.1999998976797124, 0.0006709763453133982, 'dr'),\n",
       "  Text(2.098962322460949, 0.6590577887327796, 'mr'),\n",
       "  Text(-1.4131998433002866, 1.6860801294410792, 'mrs'),\n",
       "  Text(0.7129620949875407, -2.0812700572273117, 'ms'),\n",
       "  Text(2.195551054273338, -0.1398412245342397, 'teacher')],\n",
       " [Text(1.699999920934323, 0.0005184817213785349, '0.010%'),\n",
       "  Text(1.621925430992551, 0.5092719276571478, '9.665%'),\n",
       "  Text(-1.0920180607320396, 1.302880100022652, '52.855%'),\n",
       "  Text(0.550925255217645, -1.6082541351301953, '35.445%'),\n",
       "  Text(1.6965621783021245, -0.1080591280491852, '2.025%')])"
      ]
     },
     "execution_count": 5,
     "metadata": {},
     "output_type": "execute_result"
    },
    {
     "data": {
      "image/png": "[encoded data removed]",
      "text/plain": [
       "<Figure size 432x288 with 1 Axes>"
      ]
     },
     "metadata": {},
     "output_type": "display_data"
    }
   ],
   "source": [
    "# colors\n",
    "colors = ['#f7770f', '#1d74b4', '#d62728', '#2ca02c', '#9467bd']\n",
    "# Pie Chart\n",
    "plt.pie(df['project_is_approved'], colors=colors, labels=df['teacher_prefix'],\n",
    "        autopct='%1.3f%%', pctdistance=0.85, radius=2)"
   ]
  },
  {
   "cell_type": "markdown",
   "id": "5df60421",
   "metadata": {
    "id": "MEoY8WLaFXqp",
    "papermill": {
     "duration": 0.027569,
     "end_time": "2023-04-26T11:09:28.647342",
     "exception": false,
     "start_time": "2023-04-26T11:09:28.619773",
     "status": "completed"
    },
    "tags": []
   },
   "source": [
    "### **% of projects approved w.r.t state**"
   ]
  },
  {
   "cell_type": "code",
   "execution_count": 6,
   "id": "5f839efd",
   "metadata": {
    "execution": {
     "iopub.execute_input": "2023-04-26T11:09:28.702312Z",
     "iopub.status.busy": "2023-04-26T11:09:28.701839Z",
     "iopub.status.idle": "2023-04-26T11:09:28.808651Z",
     "shell.execute_reply": "2023-04-26T11:09:28.807653Z"
    },
    "id": "4kSn4rlWOwr1",
    "papermill": {
     "duration": 0.137396,
     "end_time": "2023-04-26T11:09:28.811186",
     "exception": false,
     "start_time": "2023-04-26T11:09:28.673790",
     "status": "completed"
    },
    "tags": []
   },
   "outputs": [],
   "source": [
    "df = donor_data[donor_data.project_is_approved == 1].groupby('school_state').count()\n",
    "df = df.reset_index().copy()\n",
    "df['school_state'] = df['school_state'].str.upper()\n",
    "locations = df['school_state'].tolist()"
   ]
  },
  {
   "cell_type": "code",
   "execution_count": 7,
   "id": "9fa7bfc4",
   "metadata": {
    "execution": {
     "iopub.execute_input": "2023-04-26T11:09:28.866782Z",
     "iopub.status.busy": "2023-04-26T11:09:28.866312Z",
     "iopub.status.idle": "2023-04-26T11:09:29.979769Z",
     "shell.execute_reply": "2023-04-26T11:09:29.978728Z"
    },
    "id": "5YX1CSibFbEM",
    "outputId": "77fc0a89-ae7b-4001-a294-29b0f3ac4f47",
    "papermill": {
     "duration": 1.143935,
     "end_time": "2023-04-26T11:09:29.981822",
     "exception": false,
     "start_time": "2023-04-26T11:09:28.837887",
     "status": "completed"
    },
    "tags": []
   },
   "outputs": [
    {
     "data": {
      "text/html": [
       "        <script type=\"text/javascript\">\n",
       "        window.PlotlyConfig = {MathJaxConfig: 'local'};\n",
       "        if (window.MathJax && window.MathJax.Hub && window.MathJax.Hub.Config) {window.MathJax.Hub.Config({SVG: {font: \"STIX-Web\"}});}\n",
       "        if (typeof require !== 'undefined') {\n",
       "        require.undef(\"plotly\");\n",
       "        requirejs.config({\n",
       "            paths: {\n",
       "                'plotly': ['https://cdn.plot.ly/plotly-2.12.1.min']\n",
       "            }\n",
       "        });\n",
       "        require(['plotly'], function(Plotly) {\n",
       "            window._Plotly = Plotly;\n",
       "        });\n",
       "        }\n",
       "        </script>\n",
       "        "
      ]
     },
     "metadata": {},
     "output_type": "display_data"
    },
    {
     "data": {
      "application/vnd.plotly.v1+json": {
       "config": {
        "linkText": "Export to plot.ly",
        "plotlyServerURL": "https://plot.ly",
        "showLink": false
       },
       "data": [
        {
         "colorbar": {
          "title": {
           "text": "Rate of projects approved"
          }
         },
         "colorscale": [
          [
           0.0,
           "rgb(36, 86, 104)"
          ],
          [
           0.16666666666666666,
           "rgb(15, 114, 121)"
          ],
          [
           0.3333333333333333,
           "rgb(13, 143, 129)"
          ],
          [
           0.5,
           "rgb(57, 171, 126)"
          ],
          [
           0.6666666666666666,
           "rgb(110, 197, 116)"
          ],
          [
           0.8333333333333334,
           "rgb(169, 220, 103)"
          ],
          [
           1.0,
           "rgb(237, 239, 93)"
          ]
         ],
         "locationmode": "USA-states",
         "locations": [
          "AK",
          "AL",
          "AR",
          "AZ",
          "CA",
          "CO",
          "CT",
          "DC",
          "DE",
          "FL",
          "GA",
          "HI",
          "IA",
          "ID",
          "IL",
          "IN",
          "KS",
          "KY",
          "LA",
          "MA",
          "MD",
          "ME",
          "MI",
          "MN",
          "MO",
          "MS",
          "MT",
          "NC",
          "ND",
          "NE",
          "NH",
          "NJ",
          "NM",
          "NV",
          "NY",
          "OH",
          "OK",
          "OR",
          "PA",
          "RI",
          "SC",
          "SD",
          "TN",
          "TX",
          "UT",
          "VA",
          "VT",
          "WA",
          "WI",
          "WV",
          "WY"
         ],
         "type": "choropleth",
         "z": [
          290,
          1506,
          872,
          1800,
          13205,
          935,
          1445,
          414,
          308,
          5144,
          3329,
          434,
          568,
          579,
          3710,
          2214,
          532,
          1126,
          1990,
          2055,
          1270,
          428,
          2672,
          1036,
          2202,
          1118,
          200,
          4353,
          127,
          260,
          304,
          1888,
          479,
          1167,
          6291,
          2159,
          1900,
          1056,
          2658,
          243,
          3385,
          252,
          1435,
          6014,
          1448,
          1739,
          64,
          2045,
          1545,
          430,
          82
         ]
        }
       ],
       "layout": {
        "geo": {
         "scope": "usa"
        },
        "height": 1000,
        "margin": {
         "b": 0,
         "l": 0,
         "r": 0,
         "t": 0
        },
        "template": {
         "data": {
          "bar": [
           {
            "error_x": {
             "color": "#2a3f5f"
            },
            "error_y": {
             "color": "#2a3f5f"
            },
            "marker": {
             "line": {
              "color": "#E5ECF6",
              "width": 0.5
             },
             "pattern": {
              "fillmode": "overlay",
              "size": 10,
              "solidity": 0.2
             }
            },
            "type": "bar"
           }
          ],
          "barpolar": [
           {
            "marker": {
             "line": {
              "color": "#E5ECF6",
              "width": 0.5
             },
             "pattern": {
              "fillmode": "overlay",
              "size": 10,
              "solidity": 0.2
             }
            },
            "type": "barpolar"
           }
          ],
          "carpet": [
           {
            "aaxis": {
             "endlinecolor": "#2a3f5f",
             "gridcolor": "white",
             "linecolor": "white",
             "minorgridcolor": "white",
             "startlinecolor": "#2a3f5f"
            },
            "baxis": {
             "endlinecolor": "#2a3f5f",
             "gridcolor": "white",
             "linecolor": "white",
             "minorgridcolor": "white",
             "startlinecolor": "#2a3f5f"
            },
            "type": "carpet"
           }
          ],
          "choropleth": [
           {
            "colorbar": {
             "outlinewidth": 0,
             "ticks": ""
            },
            "type": "choropleth"
           }
          ],
          "contour": [
           {
            "colorbar": {
             "outlinewidth": 0,
             "ticks": ""
            },
            "colorscale": [
             [
              0.0,
              "#0d0887"
             ],
             [
              0.1111111111111111,
              "#46039f"
             ],
             [
              0.2222222222222222,
              "#7201a8"
             ],
             [
              0.3333333333333333,
              "#9c179e"
             ],
             [
              0.4444444444444444,
              "#bd3786"
             ],
             [
              0.5555555555555556,
              "#d8576b"
             ],
             [
              0.6666666666666666,
              "#ed7953"
             ],
             [
              0.7777777777777778,
              "#fb9f3a"
             ],
             [
              0.8888888888888888,
              "#fdca26"
             ],
             [
              1.0,
              "#f0f921"
             ]
            ],
            "type": "contour"
           }
          ],
          "contourcarpet": [
           {
            "colorbar": {
             "outlinewidth": 0,
             "ticks": ""
            },
            "type": "contourcarpet"
           }
          ],
          "heatmap": [
           {
            "colorbar": {
             "outlinewidth": 0,
             "ticks": ""
            },
            "colorscale": [
             [
              0.0,
              "#0d0887"
             ],
             [
              0.1111111111111111,
              "#46039f"
             ],
             [
              0.2222222222222222,
              "#7201a8"
             ],
             [
              0.3333333333333333,
              "#9c179e"
             ],
             [
              0.4444444444444444,
              "#bd3786"
             ],
             [
              0.5555555555555556,
              "#d8576b"
             ],
             [
              0.6666666666666666,
              "#ed7953"
             ],
             [
              0.7777777777777778,
              "#fb9f3a"
             ],
             [
              0.8888888888888888,
              "#fdca26"
             ],
             [
              1.0,
              "#f0f921"
             ]
            ],
            "type": "heatmap"
           }
          ],
          "heatmapgl": [
           {
            "colorbar": {
             "outlinewidth": 0,
             "ticks": ""
            },
            "colorscale": [
             [
              0.0,
              "#0d0887"
             ],
             [
              0.1111111111111111,
              "#46039f"
             ],
             [
              0.2222222222222222,
              "#7201a8"
             ],
             [
              0.3333333333333333,
              "#9c179e"
             ],
             [
              0.4444444444444444,
              "#bd3786"
             ],
             [
              0.5555555555555556,
              "#d8576b"
             ],
             [
              0.6666666666666666,
              "#ed7953"
             ],
             [
              0.7777777777777778,
              "#fb9f3a"
             ],
             [
              0.8888888888888888,
              "#fdca26"
             ],
             [
              1.0,
              "#f0f921"
             ]
            ],
            "type": "heatmapgl"
           }
          ],
          "histogram": [
           {
            "marker": {
             "pattern": {
              "fillmode": "overlay",
              "size": 10,
              "solidity": 0.2
             }
            },
            "type": "histogram"
           }
          ],
          "histogram2d": [
           {
            "colorbar": {
             "outlinewidth": 0,
             "ticks": ""
            },
            "colorscale": [
             [
              0.0,
              "#0d0887"
             ],
             [
              0.1111111111111111,
              "#46039f"
             ],
             [
              0.2222222222222222,
              "#7201a8"
             ],
             [
              0.3333333333333333,
              "#9c179e"
             ],
             [
              0.4444444444444444,
              "#bd3786"
             ],
             [
              0.5555555555555556,
              "#d8576b"
             ],
             [
              0.6666666666666666,
              "#ed7953"
             ],
             [
              0.7777777777777778,
              "#fb9f3a"
             ],
             [
              0.8888888888888888,
              "#fdca26"
             ],
             [
              1.0,
              "#f0f921"
             ]
            ],
            "type": "histogram2d"
           }
          ],
          "histogram2dcontour": [
           {
            "colorbar": {
             "outlinewidth": 0,
             "ticks": ""
            },
            "colorscale": [
             [
              0.0,
              "#0d0887"
             ],
             [
              0.1111111111111111,
              "#46039f"
             ],
             [
              0.2222222222222222,
              "#7201a8"
             ],
             [
              0.3333333333333333,
              "#9c179e"
             ],
             [
              0.4444444444444444,
              "#bd3786"
             ],
             [
              0.5555555555555556,
              "#d8576b"
             ],
             [
              0.6666666666666666,
              "#ed7953"
             ],
             [
              0.7777777777777778,
              "#fb9f3a"
             ],
             [
              0.8888888888888888,
              "#fdca26"
             ],
             [
              1.0,
              "#f0f921"
             ]
            ],
            "type": "histogram2dcontour"
           }
          ],
          "mesh3d": [
           {
            "colorbar": {
             "outlinewidth": 0,
             "ticks": ""
            },
            "type": "mesh3d"
           }
          ],
          "parcoords": [
           {
            "line": {
             "colorbar": {
              "outlinewidth": 0,
              "ticks": ""
             }
            },
            "type": "parcoords"
           }
          ],
          "pie": [
           {
            "automargin": true,
            "type": "pie"
           }
          ],
          "scatter": [
           {
            "fillpattern": {
             "fillmode": "overlay",
             "size": 10,
             "solidity": 0.2
            },
            "type": "scatter"
           }
          ],
          "scatter3d": [
           {
            "line": {
             "colorbar": {
              "outlinewidth": 0,
              "ticks": ""
             }
            },
            "marker": {
             "colorbar": {
              "outlinewidth": 0,
              "ticks": ""
             }
            },
            "type": "scatter3d"
           }
          ],
          "scattercarpet": [
           {
            "marker": {
             "colorbar": {
              "outlinewidth": 0,
              "ticks": ""
             }
            },
            "type": "scattercarpet"
           }
          ],
          "scattergeo": [
           {
            "marker": {
             "colorbar": {
              "outlinewidth": 0,
              "ticks": ""
             }
            },
            "type": "scattergeo"
           }
          ],
          "scattergl": [
           {
            "marker": {
             "colorbar": {
              "outlinewidth": 0,
              "ticks": ""
             }
            },
            "type": "scattergl"
           }
          ],
          "scattermapbox": [
           {
            "marker": {
             "colorbar": {
              "outlinewidth": 0,
              "ticks": ""
             }
            },
            "type": "scattermapbox"
           }
          ],
          "scatterpolar": [
           {
            "marker": {
             "colorbar": {
              "outlinewidth": 0,
              "ticks": ""
             }
            },
            "type": "scatterpolar"
           }
          ],
          "scatterpolargl": [
           {
            "marker": {
             "colorbar": {
              "outlinewidth": 0,
              "ticks": ""
             }
            },
            "type": "scatterpolargl"
           }
          ],
          "scatterternary": [
           {
            "marker": {
             "colorbar": {
              "outlinewidth": 0,
              "ticks": ""
             }
            },
            "type": "scatterternary"
           }
          ],
          "surface": [
           {
            "colorbar": {
             "outlinewidth": 0,
             "ticks": ""
            },
            "colorscale": [
             [
              0.0,
              "#0d0887"
             ],
             [
              0.1111111111111111,
              "#46039f"
             ],
             [
              0.2222222222222222,
              "#7201a8"
             ],
             [
              0.3333333333333333,
              "#9c179e"
             ],
             [
              0.4444444444444444,
              "#bd3786"
             ],
             [
              0.5555555555555556,
              "#d8576b"
             ],
             [
              0.6666666666666666,
              "#ed7953"
             ],
             [
              0.7777777777777778,
              "#fb9f3a"
             ],
             [
              0.8888888888888888,
              "#fdca26"
             ],
             [
              1.0,
              "#f0f921"
             ]
            ],
            "type": "surface"
           }
          ],
          "table": [
           {
            "cells": {
             "fill": {
              "color": "#EBF0F8"
             },
             "line": {
              "color": "white"
             }
            },
            "header": {
             "fill": {
              "color": "#C8D4E3"
             },
             "line": {
              "color": "white"
             }
            },
            "type": "table"
           }
          ]
         },
         "layout": {
          "annotationdefaults": {
           "arrowcolor": "#2a3f5f",
           "arrowhead": 0,
           "arrowwidth": 1
          },
          "autotypenumbers": "strict",
          "coloraxis": {
           "colorbar": {
            "outlinewidth": 0,
            "ticks": ""
           }
          },
          "colorscale": {
           "diverging": [
            [
             0,
             "#8e0152"
            ],
            [
             0.1,
             "#c51b7d"
            ],
            [
             0.2,
             "#de77ae"
            ],
            [
             0.3,
             "#f1b6da"
            ],
            [
             0.4,
             "#fde0ef"
            ],
            [
             0.5,
             "#f7f7f7"
            ],
            [
             0.6,
             "#e6f5d0"
            ],
            [
             0.7,
             "#b8e186"
            ],
            [
             0.8,
             "#7fbc41"
            ],
            [
             0.9,
             "#4d9221"
            ],
            [
             1,
             "#276419"
            ]
           ],
           "sequential": [
            [
             0.0,
             "#0d0887"
            ],
            [
             0.1111111111111111,
             "#46039f"
            ],
            [
             0.2222222222222222,
             "#7201a8"
            ],
            [
             0.3333333333333333,
             "#9c179e"
            ],
            [
             0.4444444444444444,
             "#bd3786"
            ],
            [
             0.5555555555555556,
             "#d8576b"
            ],
            [
             0.6666666666666666,
             "#ed7953"
            ],
            [
             0.7777777777777778,
             "#fb9f3a"
            ],
            [
             0.8888888888888888,
             "#fdca26"
            ],
            [
             1.0,
             "#f0f921"
            ]
           ],
           "sequentialminus": [
            [
             0.0,
             "#0d0887"
            ],
            [
             0.1111111111111111,
             "#46039f"
            ],
            [
             0.2222222222222222,
             "#7201a8"
            ],
            [
             0.3333333333333333,
             "#9c179e"
            ],
            [
             0.4444444444444444,
             "#bd3786"
            ],
            [
             0.5555555555555556,
             "#d8576b"
            ],
            [
             0.6666666666666666,
             "#ed7953"
            ],
            [
             0.7777777777777778,
             "#fb9f3a"
            ],
            [
             0.8888888888888888,
             "#fdca26"
            ],
            [
             1.0,
             "#f0f921"
            ]
           ]
          },
          "colorway": [
           "#636efa",
           "#EF553B",
           "#00cc96",
           "#ab63fa",
           "#FFA15A",
           "#19d3f3",
           "#FF6692",
           "#B6E880",
           "#FF97FF",
           "#FECB52"
          ],
          "font": {
           "color": "#2a3f5f"
          },
          "geo": {
           "bgcolor": "white",
           "lakecolor": "white",
           "landcolor": "#E5ECF6",
           "showlakes": true,
           "showland": true,
           "subunitcolor": "white"
          },
          "hoverlabel": {
           "align": "left"
          },
          "hovermode": "closest",
          "mapbox": {
           "style": "light"
          },
          "paper_bgcolor": "white",
          "plot_bgcolor": "#E5ECF6",
          "polar": {
           "angularaxis": {
            "gridcolor": "white",
            "linecolor": "white",
            "ticks": ""
           },
           "bgcolor": "#E5ECF6",
           "radialaxis": {
            "gridcolor": "white",
            "linecolor": "white",
            "ticks": ""
           }
          },
          "scene": {
           "xaxis": {
            "backgroundcolor": "#E5ECF6",
            "gridcolor": "white",
            "gridwidth": 2,
            "linecolor": "white",
            "showbackground": true,
            "ticks": "",
            "zerolinecolor": "white"
           },
           "yaxis": {
            "backgroundcolor": "#E5ECF6",
            "gridcolor": "white",
            "gridwidth": 2,
            "linecolor": "white",
            "showbackground": true,
            "ticks": "",
            "zerolinecolor": "white"
           },
           "zaxis": {
            "backgroundcolor": "#E5ECF6",
            "gridcolor": "white",
            "gridwidth": 2,
            "linecolor": "white",
            "showbackground": true,
            "ticks": "",
            "zerolinecolor": "white"
           }
          },
          "shapedefaults": {
           "line": {
            "color": "#2a3f5f"
           }
          },
          "ternary": {
           "aaxis": {
            "gridcolor": "white",
            "linecolor": "white",
            "ticks": ""
           },
           "baxis": {
            "gridcolor": "white",
            "linecolor": "white",
            "ticks": ""
           },
           "bgcolor": "#E5ECF6",
           "caxis": {
            "gridcolor": "white",
            "linecolor": "white",
            "ticks": ""
           }
          },
          "title": {
           "x": 0.05
          },
          "xaxis": {
           "automargin": true,
           "gridcolor": "white",
           "linecolor": "white",
           "ticks": "",
           "title": {
            "standoff": 15
           },
           "zerolinecolor": "white",
           "zerolinewidth": 2
          },
          "yaxis": {
           "automargin": true,
           "gridcolor": "white",
           "linecolor": "white",
           "ticks": "",
           "title": {
            "standoff": 15
           },
           "zerolinecolor": "white",
           "zerolinewidth": 2
          }
         }
        }
       }
      },
      "text/html": [
       "<div>                            <div id=\"eda7248e-477e-433e-a34d-8567450a003b\" class=\"plotly-graph-div\" style=\"height:1000px; width:100%;\"></div>            <script type=\"text/javascript\">                require([\"plotly\"], function(Plotly) {                    window.PLOTLYENV=window.PLOTLYENV || {};                                    if (document.getElementById(\"eda7248e-477e-433e-a34d-8567450a003b\")) {                    Plotly.newPlot(                        \"eda7248e-477e-433e-a34d-8567450a003b\",                        [{\"colorbar\":{\"title\":{\"text\":\"Rate of projects approved\"}},\"colorscale\":[[0.0,\"rgb(36, 86, 104)\"],[0.16666666666666666,\"rgb(15, 114, 121)\"],[0.3333333333333333,\"rgb(13, 143, 129)\"],[0.5,\"rgb(57, 171, 126)\"],[0.6666666666666666,\"rgb(110, 197, 116)\"],[0.8333333333333334,\"rgb(169, 220, 103)\"],[1.0,\"rgb(237, 239, 93)\"]],\"locationmode\":\"USA-states\",\"locations\":[\"AK\",\"AL\",\"AR\",\"AZ\",\"CA\",\"CO\",\"CT\",\"DC\",\"DE\",\"FL\",\"GA\",\"HI\",\"IA\",\"ID\",\"IL\",\"IN\",\"KS\",\"KY\",\"LA\",\"MA\",\"MD\",\"ME\",\"MI\",\"MN\",\"MO\",\"MS\",\"MT\",\"NC\",\"ND\",\"NE\",\"NH\",\"NJ\",\"NM\",\"NV\",\"NY\",\"OH\",\"OK\",\"OR\",\"PA\",\"RI\",\"SC\",\"SD\",\"TN\",\"TX\",\"UT\",\"VA\",\"VT\",\"WA\",\"WI\",\"WV\",\"WY\"],\"z\":[290,1506,872,1800,13205,935,1445,414,308,5144,3329,434,568,579,3710,2214,532,1126,1990,2055,1270,428,2672,1036,2202,1118,200,4353,127,260,304,1888,479,1167,6291,2159,1900,1056,2658,243,3385,252,1435,6014,1448,1739,64,2045,1545,430,82],\"type\":\"choropleth\"}],                        {\"geo\":{\"scope\":\"usa\"},\"height\":1000,\"margin\":{\"b\":0,\"l\":0,\"r\":0,\"t\":0},\"template\":{\"data\":{\"barpolar\":[{\"marker\":{\"line\":{\"color\":\"#E5ECF6\",\"width\":0.5},\"pattern\":{\"fillmode\":\"overlay\",\"size\":10,\"solidity\":0.2}},\"type\":\"barpolar\"}],\"bar\":[{\"error_x\":{\"color\":\"#2a3f5f\"},\"error_y\":{\"color\":\"#2a3f5f\"},\"marker\":{\"line\":{\"color\":\"#E5ECF6\",\"width\":0.5},\"pattern\":{\"fillmode\":\"overlay\",\"size\":10,\"solidity\":0.2}},\"type\":\"bar\"}],\"carpet\":[{\"aaxis\":{\"endlinecolor\":\"#2a3f5f\",\"gridcolor\":\"white\",\"linecolor\":\"white\",\"minorgridcolor\":\"white\",\"startlinecolor\":\"#2a3f5f\"},\"baxis\":{\"endlinecolor\":\"#2a3f5f\",\"gridcolor\":\"white\",\"linecolor\":\"white\",\"minorgridcolor\":\"white\",\"startlinecolor\":\"#2a3f5f\"},\"type\":\"carpet\"}],\"choropleth\":[{\"colorbar\":{\"outlinewidth\":0,\"ticks\":\"\"},\"type\":\"choropleth\"}],\"contourcarpet\":[{\"colorbar\":{\"outlinewidth\":0,\"ticks\":\"\"},\"type\":\"contourcarpet\"}],\"contour\":[{\"colorbar\":{\"outlinewidth\":0,\"ticks\":\"\"},\"colorscale\":[[0.0,\"#0d0887\"],[0.1111111111111111,\"#46039f\"],[0.2222222222222222,\"#7201a8\"],[0.3333333333333333,\"#9c179e\"],[0.4444444444444444,\"#bd3786\"],[0.5555555555555556,\"#d8576b\"],[0.6666666666666666,\"#ed7953\"],[0.7777777777777778,\"#fb9f3a\"],[0.8888888888888888,\"#fdca26\"],[1.0,\"#f0f921\"]],\"type\":\"contour\"}],\"heatmapgl\":[{\"colorbar\":{\"outlinewidth\":0,\"ticks\":\"\"},\"colorscale\":[[0.0,\"#0d0887\"],[0.1111111111111111,\"#46039f\"],[0.2222222222222222,\"#7201a8\"],[0.3333333333333333,\"#9c179e\"],[0.4444444444444444,\"#bd3786\"],[0.5555555555555556,\"#d8576b\"],[0.6666666666666666,\"#ed7953\"],[0.7777777777777778,\"#fb9f3a\"],[0.8888888888888888,\"#fdca26\"],[1.0,\"#f0f921\"]],\"type\":\"heatmapgl\"}],\"heatmap\":[{\"colorbar\":{\"outlinewidth\":0,\"ticks\":\"\"},\"colorscale\":[[0.0,\"#0d0887\"],[0.1111111111111111,\"#46039f\"],[0.2222222222222222,\"#7201a8\"],[0.3333333333333333,\"#9c179e\"],[0.4444444444444444,\"#bd3786\"],[0.5555555555555556,\"#d8576b\"],[0.6666666666666666,\"#ed7953\"],[0.7777777777777778,\"#fb9f3a\"],[0.8888888888888888,\"#fdca26\"],[1.0,\"#f0f921\"]],\"type\":\"heatmap\"}],\"histogram2dcontour\":[{\"colorbar\":{\"outlinewidth\":0,\"ticks\":\"\"},\"colorscale\":[[0.0,\"#0d0887\"],[0.1111111111111111,\"#46039f\"],[0.2222222222222222,\"#7201a8\"],[0.3333333333333333,\"#9c179e\"],[0.4444444444444444,\"#bd3786\"],[0.5555555555555556,\"#d8576b\"],[0.6666666666666666,\"#ed7953\"],[0.7777777777777778,\"#fb9f3a\"],[0.8888888888888888,\"#fdca26\"],[1.0,\"#f0f921\"]],\"type\":\"histogram2dcontour\"}],\"histogram2d\":[{\"colorbar\":{\"outlinewidth\":0,\"ticks\":\"\"},\"colorscale\":[[0.0,\"#0d0887\"],[0.1111111111111111,\"#46039f\"],[0.2222222222222222,\"#7201a8\"],[0.3333333333333333,\"#9c179e\"],[0.4444444444444444,\"#bd3786\"],[0.5555555555555556,\"#d8576b\"],[0.6666666666666666,\"#ed7953\"],[0.7777777777777778,\"#fb9f3a\"],[0.8888888888888888,\"#fdca26\"],[1.0,\"#f0f921\"]],\"type\":\"histogram2d\"}],\"histogram\":[{\"marker\":{\"pattern\":{\"fillmode\":\"overlay\",\"size\":10,\"solidity\":0.2}},\"type\":\"histogram\"}],\"mesh3d\":[{\"colorbar\":{\"outlinewidth\":0,\"ticks\":\"\"},\"type\":\"mesh3d\"}],\"parcoords\":[{\"line\":{\"colorbar\":{\"outlinewidth\":0,\"ticks\":\"\"}},\"type\":\"parcoords\"}],\"pie\":[{\"automargin\":true,\"type\":\"pie\"}],\"scatter3d\":[{\"line\":{\"colorbar\":{\"outlinewidth\":0,\"ticks\":\"\"}},\"marker\":{\"colorbar\":{\"outlinewidth\":0,\"ticks\":\"\"}},\"type\":\"scatter3d\"}],\"scattercarpet\":[{\"marker\":{\"colorbar\":{\"outlinewidth\":0,\"ticks\":\"\"}},\"type\":\"scattercarpet\"}],\"scattergeo\":[{\"marker\":{\"colorbar\":{\"outlinewidth\":0,\"ticks\":\"\"}},\"type\":\"scattergeo\"}],\"scattergl\":[{\"marker\":{\"colorbar\":{\"outlinewidth\":0,\"ticks\":\"\"}},\"type\":\"scattergl\"}],\"scattermapbox\":[{\"marker\":{\"colorbar\":{\"outlinewidth\":0,\"ticks\":\"\"}},\"type\":\"scattermapbox\"}],\"scatterpolargl\":[{\"marker\":{\"colorbar\":{\"outlinewidth\":0,\"ticks\":\"\"}},\"type\":\"scatterpolargl\"}],\"scatterpolar\":[{\"marker\":{\"colorbar\":{\"outlinewidth\":0,\"ticks\":\"\"}},\"type\":\"scatterpolar\"}],\"scatter\":[{\"fillpattern\":{\"fillmode\":\"overlay\",\"size\":10,\"solidity\":0.2},\"type\":\"scatter\"}],\"scatterternary\":[{\"marker\":{\"colorbar\":{\"outlinewidth\":0,\"ticks\":\"\"}},\"type\":\"scatterternary\"}],\"surface\":[{\"colorbar\":{\"outlinewidth\":0,\"ticks\":\"\"},\"colorscale\":[[0.0,\"#0d0887\"],[0.1111111111111111,\"#46039f\"],[0.2222222222222222,\"#7201a8\"],[0.3333333333333333,\"#9c179e\"],[0.4444444444444444,\"#bd3786\"],[0.5555555555555556,\"#d8576b\"],[0.6666666666666666,\"#ed7953\"],[0.7777777777777778,\"#fb9f3a\"],[0.8888888888888888,\"#fdca26\"],[1.0,\"#f0f921\"]],\"type\":\"surface\"}],\"table\":[{\"cells\":{\"fill\":{\"color\":\"#EBF0F8\"},\"line\":{\"color\":\"white\"}},\"header\":{\"fill\":{\"color\":\"#C8D4E3\"},\"line\":{\"color\":\"white\"}},\"type\":\"table\"}]},\"layout\":{\"annotationdefaults\":{\"arrowcolor\":\"#2a3f5f\",\"arrowhead\":0,\"arrowwidth\":1},\"autotypenumbers\":\"strict\",\"coloraxis\":{\"colorbar\":{\"outlinewidth\":0,\"ticks\":\"\"}},\"colorscale\":{\"diverging\":[[0,\"#8e0152\"],[0.1,\"#c51b7d\"],[0.2,\"#de77ae\"],[0.3,\"#f1b6da\"],[0.4,\"#fde0ef\"],[0.5,\"#f7f7f7\"],[0.6,\"#e6f5d0\"],[0.7,\"#b8e186\"],[0.8,\"#7fbc41\"],[0.9,\"#4d9221\"],[1,\"#276419\"]],\"sequential\":[[0.0,\"#0d0887\"],[0.1111111111111111,\"#46039f\"],[0.2222222222222222,\"#7201a8\"],[0.3333333333333333,\"#9c179e\"],[0.4444444444444444,\"#bd3786\"],[0.5555555555555556,\"#d8576b\"],[0.6666666666666666,\"#ed7953\"],[0.7777777777777778,\"#fb9f3a\"],[0.8888888888888888,\"#fdca26\"],[1.0,\"#f0f921\"]],\"sequentialminus\":[[0.0,\"#0d0887\"],[0.1111111111111111,\"#46039f\"],[0.2222222222222222,\"#7201a8\"],[0.3333333333333333,\"#9c179e\"],[0.4444444444444444,\"#bd3786\"],[0.5555555555555556,\"#d8576b\"],[0.6666666666666666,\"#ed7953\"],[0.7777777777777778,\"#fb9f3a\"],[0.8888888888888888,\"#fdca26\"],[1.0,\"#f0f921\"]]},\"colorway\":[\"#636efa\",\"#EF553B\",\"#00cc96\",\"#ab63fa\",\"#FFA15A\",\"#19d3f3\",\"#FF6692\",\"#B6E880\",\"#FF97FF\",\"#FECB52\"],\"font\":{\"color\":\"#2a3f5f\"},\"geo\":{\"bgcolor\":\"white\",\"lakecolor\":\"white\",\"landcolor\":\"#E5ECF6\",\"showlakes\":true,\"showland\":true,\"subunitcolor\":\"white\"},\"hoverlabel\":{\"align\":\"left\"},\"hovermode\":\"closest\",\"mapbox\":{\"style\":\"light\"},\"paper_bgcolor\":\"white\",\"plot_bgcolor\":\"#E5ECF6\",\"polar\":{\"angularaxis\":{\"gridcolor\":\"white\",\"linecolor\":\"white\",\"ticks\":\"\"},\"bgcolor\":\"#E5ECF6\",\"radialaxis\":{\"gridcolor\":\"white\",\"linecolor\":\"white\",\"ticks\":\"\"}},\"scene\":{\"xaxis\":{\"backgroundcolor\":\"#E5ECF6\",\"gridcolor\":\"white\",\"gridwidth\":2,\"linecolor\":\"white\",\"showbackground\":true,\"ticks\":\"\",\"zerolinecolor\":\"white\"},\"yaxis\":{\"backgroundcolor\":\"#E5ECF6\",\"gridcolor\":\"white\",\"gridwidth\":2,\"linecolor\":\"white\",\"showbackground\":true,\"ticks\":\"\",\"zerolinecolor\":\"white\"},\"zaxis\":{\"backgroundcolor\":\"#E5ECF6\",\"gridcolor\":\"white\",\"gridwidth\":2,\"linecolor\":\"white\",\"showbackground\":true,\"ticks\":\"\",\"zerolinecolor\":\"white\"}},\"shapedefaults\":{\"line\":{\"color\":\"#2a3f5f\"}},\"ternary\":{\"aaxis\":{\"gridcolor\":\"white\",\"linecolor\":\"white\",\"ticks\":\"\"},\"baxis\":{\"gridcolor\":\"white\",\"linecolor\":\"white\",\"ticks\":\"\"},\"bgcolor\":\"#E5ECF6\",\"caxis\":{\"gridcolor\":\"white\",\"linecolor\":\"white\",\"ticks\":\"\"}},\"title\":{\"x\":0.05},\"xaxis\":{\"automargin\":true,\"gridcolor\":\"white\",\"linecolor\":\"white\",\"ticks\":\"\",\"title\":{\"standoff\":15},\"zerolinecolor\":\"white\",\"zerolinewidth\":2},\"yaxis\":{\"automargin\":true,\"gridcolor\":\"white\",\"linecolor\":\"white\",\"ticks\":\"\",\"title\":{\"standoff\":15},\"zerolinecolor\":\"white\",\"zerolinewidth\":2}}}},                        {\"responsive\": true}                    ).then(function(){\n",
       "                            \n",
       "var gd = document.getElementById('eda7248e-477e-433e-a34d-8567450a003b');\n",
       "var x = new MutationObserver(function (mutations, observer) {{\n",
       "        var display = window.getComputedStyle(gd).display;\n",
       "        if (!display || display === 'none') {{\n",
       "            console.log([gd, 'removed!']);\n",
       "            Plotly.purge(gd);\n",
       "            observer.disconnect();\n",
       "        }}\n",
       "}});\n",
       "\n",
       "// Listen for the removal of the full notebook cells\n",
       "var notebookContainer = gd.closest('#notebook-container');\n",
       "if (notebookContainer) {{\n",
       "    x.observe(notebookContainer, {childList: true});\n",
       "}}\n",
       "\n",
       "// Listen for the clearing of the current output cell\n",
       "var outputEl = gd.closest('.output');\n",
       "if (outputEl) {{\n",
       "    x.observe(outputEl, {childList: true});\n",
       "}}\n",
       "\n",
       "                        })                };                });            </script>        </div>"
      ]
     },
     "metadata": {},
     "output_type": "display_data"
    },
    {
     "data": {
      "text/html": [
       "<html>\n",
       "<head><meta charset=\"utf-8\" /></head>\n",
       "<body>\n",
       "    <div>            <script src=\"https://cdnjs.cloudflare.com/ajax/libs/mathjax/2.7.5/MathJax.js?config=TeX-AMS-MML_SVG\"></script><script type=\"text/javascript\">if (window.MathJax && window.MathJax.Hub && && window.MathJax.Hub.Config) {window.MathJax.Hub.Config({SVG: {font: \"STIX-Web\"}});}</script>                <script type=\"text/javascript\">window.PlotlyConfig = {MathJaxConfig: 'local'};</script>\n",
       "        <script src=\"https://cdn.plot.ly/plotly-2.12.1.min.js\"></script>                <div id=\"3e6abfd7-0474-4434-8e77-1c376ba7efd5\" class=\"plotly-graph-div\" style=\"height:1000px; width:100%;\"></div>            <script type=\"text/javascript\">                                    window.PLOTLYENV=window.PLOTLYENV || {};                                    if (document.getElementById(\"3e6abfd7-0474-4434-8e77-1c376ba7efd5\")) {                    Plotly.newPlot(                        \"3e6abfd7-0474-4434-8e77-1c376ba7efd5\",                        [{\"colorbar\":{\"title\":{\"text\":\"Rate of projects approved\"}},\"colorscale\":[[0.0,\"rgb(36, 86, 104)\"],[0.16666666666666666,\"rgb(15, 114, 121)\"],[0.3333333333333333,\"rgb(13, 143, 129)\"],[0.5,\"rgb(57, 171, 126)\"],[0.6666666666666666,\"rgb(110, 197, 116)\"],[0.8333333333333334,\"rgb(169, 220, 103)\"],[1.0,\"rgb(237, 239, 93)\"]],\"locationmode\":\"USA-states\",\"locations\":[\"AK\",\"AL\",\"AR\",\"AZ\",\"CA\",\"CO\",\"CT\",\"DC\",\"DE\",\"FL\",\"GA\",\"HI\",\"IA\",\"ID\",\"IL\",\"IN\",\"KS\",\"KY\",\"LA\",\"MA\",\"MD\",\"ME\",\"MI\",\"MN\",\"MO\",\"MS\",\"MT\",\"NC\",\"ND\",\"NE\",\"NH\",\"NJ\",\"NM\",\"NV\",\"NY\",\"OH\",\"OK\",\"OR\",\"PA\",\"RI\",\"SC\",\"SD\",\"TN\",\"TX\",\"UT\",\"VA\",\"VT\",\"WA\",\"WI\",\"WV\",\"WY\"],\"z\":[290,1506,872,1800,13205,935,1445,414,308,5144,3329,434,568,579,3710,2214,532,1126,1990,2055,1270,428,2672,1036,2202,1118,200,4353,127,260,304,1888,479,1167,6291,2159,1900,1056,2658,243,3385,252,1435,6014,1448,1739,64,2045,1545,430,82],\"type\":\"choropleth\"}],                        {\"geo\":{\"scope\":\"usa\"},\"template\":{\"data\":{\"histogram2dcontour\":[{\"type\":\"histogram2dcontour\",\"colorbar\":{\"outlinewidth\":0,\"ticks\":\"\"},\"colorscale\":[[0.0,\"#0d0887\"],[0.1111111111111111,\"#46039f\"],[0.2222222222222222,\"#7201a8\"],[0.3333333333333333,\"#9c179e\"],[0.4444444444444444,\"#bd3786\"],[0.5555555555555556,\"#d8576b\"],[0.6666666666666666,\"#ed7953\"],[0.7777777777777778,\"#fb9f3a\"],[0.8888888888888888,\"#fdca26\"],[1.0,\"#f0f921\"]]}],\"choropleth\":[{\"type\":\"choropleth\",\"colorbar\":{\"outlinewidth\":0,\"ticks\":\"\"}}],\"histogram2d\":[{\"type\":\"histogram2d\",\"colorbar\":{\"outlinewidth\":0,\"ticks\":\"\"},\"colorscale\":[[0.0,\"#0d0887\"],[0.1111111111111111,\"#46039f\"],[0.2222222222222222,\"#7201a8\"],[0.3333333333333333,\"#9c179e\"],[0.4444444444444444,\"#bd3786\"],[0.5555555555555556,\"#d8576b\"],[0.6666666666666666,\"#ed7953\"],[0.7777777777777778,\"#fb9f3a\"],[0.8888888888888888,\"#fdca26\"],[1.0,\"#f0f921\"]]}],\"heatmap\":[{\"type\":\"heatmap\",\"colorbar\":{\"outlinewidth\":0,\"ticks\":\"\"},\"colorscale\":[[0.0,\"#0d0887\"],[0.1111111111111111,\"#46039f\"],[0.2222222222222222,\"#7201a8\"],[0.3333333333333333,\"#9c179e\"],[0.4444444444444444,\"#bd3786\"],[0.5555555555555556,\"#d8576b\"],[0.6666666666666666,\"#ed7953\"],[0.7777777777777778,\"#fb9f3a\"],[0.8888888888888888,\"#fdca26\"],[1.0,\"#f0f921\"]]}],\"heatmapgl\":[{\"type\":\"heatmapgl\",\"colorbar\":{\"outlinewidth\":0,\"ticks\":\"\"},\"colorscale\":[[0.0,\"#0d0887\"],[0.1111111111111111,\"#46039f\"],[0.2222222222222222,\"#7201a8\"],[0.3333333333333333,\"#9c179e\"],[0.4444444444444444,\"#bd3786\"],[0.5555555555555556,\"#d8576b\"],[0.6666666666666666,\"#ed7953\"],[0.7777777777777778,\"#fb9f3a\"],[0.8888888888888888,\"#fdca26\"],[1.0,\"#f0f921\"]]}],\"contourcarpet\":[{\"type\":\"contourcarpet\",\"colorbar\":{\"outlinewidth\":0,\"ticks\":\"\"}}],\"contour\":[{\"type\":\"contour\",\"colorbar\":{\"outlinewidth\":0,\"ticks\":\"\"},\"colorscale\":[[0.0,\"#0d0887\"],[0.1111111111111111,\"#46039f\"],[0.2222222222222222,\"#7201a8\"],[0.3333333333333333,\"#9c179e\"],[0.4444444444444444,\"#bd3786\"],[0.5555555555555556,\"#d8576b\"],[0.6666666666666666,\"#ed7953\"],[0.7777777777777778,\"#fb9f3a\"],[0.8888888888888888,\"#fdca26\"],[1.0,\"#f0f921\"]]}],\"surface\":[{\"type\":\"surface\",\"colorbar\":{\"outlinewidth\":0,\"ticks\":\"\"},\"colorscale\":[[0.0,\"#0d0887\"],[0.1111111111111111,\"#46039f\"],[0.2222222222222222,\"#7201a8\"],[0.3333333333333333,\"#9c179e\"],[0.4444444444444444,\"#bd3786\"],[0.5555555555555556,\"#d8576b\"],[0.6666666666666666,\"#ed7953\"],[0.7777777777777778,\"#fb9f3a\"],[0.8888888888888888,\"#fdca26\"],[1.0,\"#f0f921\"]]}],\"mesh3d\":[{\"type\":\"mesh3d\",\"colorbar\":{\"outlinewidth\":0,\"ticks\":\"\"}}],\"scatter\":[{\"fillpattern\":{\"fillmode\":\"overlay\",\"size\":10,\"solidity\":0.2},\"type\":\"scatter\"}],\"parcoords\":[{\"type\":\"parcoords\",\"line\":{\"colorbar\":{\"outlinewidth\":0,\"ticks\":\"\"}}}],\"scatterpolargl\":[{\"type\":\"scatterpolargl\",\"marker\":{\"colorbar\":{\"outlinewidth\":0,\"ticks\":\"\"}}}],\"bar\":[{\"error_x\":{\"color\":\"#2a3f5f\"},\"error_y\":{\"color\":\"#2a3f5f\"},\"marker\":{\"line\":{\"color\":\"#E5ECF6\",\"width\":0.5},\"pattern\":{\"fillmode\":\"overlay\",\"size\":10,\"solidity\":0.2}},\"type\":\"bar\"}],\"scattergeo\":[{\"type\":\"scattergeo\",\"marker\":{\"colorbar\":{\"outlinewidth\":0,\"ticks\":\"\"}}}],\"scatterpolar\":[{\"type\":\"scatterpolar\",\"marker\":{\"colorbar\":{\"outlinewidth\":0,\"ticks\":\"\"}}}],\"histogram\":[{\"marker\":{\"pattern\":{\"fillmode\":\"overlay\",\"size\":10,\"solidity\":0.2}},\"type\":\"histogram\"}],\"scattergl\":[{\"type\":\"scattergl\",\"marker\":{\"colorbar\":{\"outlinewidth\":0,\"ticks\":\"\"}}}],\"scatter3d\":[{\"type\":\"scatter3d\",\"line\":{\"colorbar\":{\"outlinewidth\":0,\"ticks\":\"\"}},\"marker\":{\"colorbar\":{\"outlinewidth\":0,\"ticks\":\"\"}}}],\"scattermapbox\":[{\"type\":\"scattermapbox\",\"marker\":{\"colorbar\":{\"outlinewidth\":0,\"ticks\":\"\"}}}],\"scatterternary\":[{\"type\":\"scatterternary\",\"marker\":{\"colorbar\":{\"outlinewidth\":0,\"ticks\":\"\"}}}],\"scattercarpet\":[{\"type\":\"scattercarpet\",\"marker\":{\"colorbar\":{\"outlinewidth\":0,\"ticks\":\"\"}}}],\"carpet\":[{\"aaxis\":{\"endlinecolor\":\"#2a3f5f\",\"gridcolor\":\"white\",\"linecolor\":\"white\",\"minorgridcolor\":\"white\",\"startlinecolor\":\"#2a3f5f\"},\"baxis\":{\"endlinecolor\":\"#2a3f5f\",\"gridcolor\":\"white\",\"linecolor\":\"white\",\"minorgridcolor\":\"white\",\"startlinecolor\":\"#2a3f5f\"},\"type\":\"carpet\"}],\"table\":[{\"cells\":{\"fill\":{\"color\":\"#EBF0F8\"},\"line\":{\"color\":\"white\"}},\"header\":{\"fill\":{\"color\":\"#C8D4E3\"},\"line\":{\"color\":\"white\"}},\"type\":\"table\"}],\"barpolar\":[{\"marker\":{\"line\":{\"color\":\"#E5ECF6\",\"width\":0.5},\"pattern\":{\"fillmode\":\"overlay\",\"size\":10,\"solidity\":0.2}},\"type\":\"barpolar\"}],\"pie\":[{\"automargin\":true,\"type\":\"pie\"}]},\"layout\":{\"autotypenumbers\":\"strict\",\"colorway\":[\"#636efa\",\"#EF553B\",\"#00cc96\",\"#ab63fa\",\"#FFA15A\",\"#19d3f3\",\"#FF6692\",\"#B6E880\",\"#FF97FF\",\"#FECB52\"],\"font\":{\"color\":\"#2a3f5f\"},\"hovermode\":\"closest\",\"hoverlabel\":{\"align\":\"left\"},\"paper_bgcolor\":\"white\",\"plot_bgcolor\":\"#E5ECF6\",\"polar\":{\"bgcolor\":\"#E5ECF6\",\"angularaxis\":{\"gridcolor\":\"white\",\"linecolor\":\"white\",\"ticks\":\"\"},\"radialaxis\":{\"gridcolor\":\"white\",\"linecolor\":\"white\",\"ticks\":\"\"}},\"ternary\":{\"bgcolor\":\"#E5ECF6\",\"aaxis\":{\"gridcolor\":\"white\",\"linecolor\":\"white\",\"ticks\":\"\"},\"baxis\":{\"gridcolor\":\"white\",\"linecolor\":\"white\",\"ticks\":\"\"},\"caxis\":{\"gridcolor\":\"white\",\"linecolor\":\"white\",\"ticks\":\"\"}},\"coloraxis\":{\"colorbar\":{\"outlinewidth\":0,\"ticks\":\"\"}},\"colorscale\":{\"sequential\":[[0.0,\"#0d0887\"],[0.1111111111111111,\"#46039f\"],[0.2222222222222222,\"#7201a8\"],[0.3333333333333333,\"#9c179e\"],[0.4444444444444444,\"#bd3786\"],[0.5555555555555556,\"#d8576b\"],[0.6666666666666666,\"#ed7953\"],[0.7777777777777778,\"#fb9f3a\"],[0.8888888888888888,\"#fdca26\"],[1.0,\"#f0f921\"]],\"sequentialminus\":[[0.0,\"#0d0887\"],[0.1111111111111111,\"#46039f\"],[0.2222222222222222,\"#7201a8\"],[0.3333333333333333,\"#9c179e\"],[0.4444444444444444,\"#bd3786\"],[0.5555555555555556,\"#d8576b\"],[0.6666666666666666,\"#ed7953\"],[0.7777777777777778,\"#fb9f3a\"],[0.8888888888888888,\"#fdca26\"],[1.0,\"#f0f921\"]],\"diverging\":[[0,\"#8e0152\"],[0.1,\"#c51b7d\"],[0.2,\"#de77ae\"],[0.3,\"#f1b6da\"],[0.4,\"#fde0ef\"],[0.5,\"#f7f7f7\"],[0.6,\"#e6f5d0\"],[0.7,\"#b8e186\"],[0.8,\"#7fbc41\"],[0.9,\"#4d9221\"],[1,\"#276419\"]]},\"xaxis\":{\"gridcolor\":\"white\",\"linecolor\":\"white\",\"ticks\":\"\",\"title\":{\"standoff\":15},\"zerolinecolor\":\"white\",\"automargin\":true,\"zerolinewidth\":2},\"yaxis\":{\"gridcolor\":\"white\",\"linecolor\":\"white\",\"ticks\":\"\",\"title\":{\"standoff\":15},\"zerolinecolor\":\"white\",\"automargin\":true,\"zerolinewidth\":2},\"scene\":{\"xaxis\":{\"backgroundcolor\":\"#E5ECF6\",\"gridcolor\":\"white\",\"linecolor\":\"white\",\"showbackground\":true,\"ticks\":\"\",\"zerolinecolor\":\"white\",\"gridwidth\":2},\"yaxis\":{\"backgroundcolor\":\"#E5ECF6\",\"gridcolor\":\"white\",\"linecolor\":\"white\",\"showbackground\":true,\"ticks\":\"\",\"zerolinecolor\":\"white\",\"gridwidth\":2},\"zaxis\":{\"backgroundcolor\":\"#E5ECF6\",\"gridcolor\":\"white\",\"linecolor\":\"white\",\"showbackground\":true,\"ticks\":\"\",\"zerolinecolor\":\"white\",\"gridwidth\":2}},\"shapedefaults\":{\"line\":{\"color\":\"#2a3f5f\"}},\"annotationdefaults\":{\"arrowcolor\":\"#2a3f5f\",\"arrowhead\":0,\"arrowwidth\":1},\"geo\":{\"bgcolor\":\"white\",\"landcolor\":\"#E5ECF6\",\"subunitcolor\":\"white\",\"showland\":true,\"showlakes\":true,\"lakecolor\":\"white\"},\"title\":{\"x\":0.05},\"mapbox\":{\"style\":\"light\"}}},\"margin\":{\"t\":0,\"r\":0,\"l\":0,\"b\":0},\"height\":1000},                        {\"responsive\": true}                    ).then(function(){\n",
       "                            \n",
       "var gd = document.getElementById('3e6abfd7-0474-4434-8e77-1c376ba7efd5');\n",
       "var x = new MutationObserver(function (mutations, observer) {{\n",
       "        var display = window.getComputedStyle(gd).display;\n",
       "        if (!display || display === 'none') {{\n",
       "            console.log([gd, 'removed!']);\n",
       "            Plotly.purge(gd);\n",
       "            observer.disconnect();\n",
       "        }}\n",
       "}});\n",
       "\n",
       "// Listen for the removal of the full notebook cells\n",
       "var notebookContainer = gd.closest('#notebook-container');\n",
       "if (notebookContainer) {{\n",
       "    x.observe(notebookContainer, {childList: true});\n",
       "}}\n",
       "\n",
       "// Listen for the clearing of the current output cell\n",
       "var outputEl = gd.closest('.output');\n",
       "if (outputEl) {{\n",
       "    x.observe(outputEl, {childList: true});\n",
       "}}\n",
       "\n",
       "                        })                };                            </script>        </div>\n",
       "</body>\n",
       "</html>"
      ]
     },
     "metadata": {},
     "output_type": "display_data"
    }
   ],
   "source": [
    "df = donor_data[donor_data.project_is_approved == 1].groupby('school_state').count()\n",
    "df = df.reset_index().copy()\n",
    "\n",
    "# To establish connection\n",
    "init_notebook_mode(connected = True)\n",
    "  \n",
    "# type defined is choropleth to\n",
    "# plot geographical plots\n",
    "data = dict(type = 'choropleth',\n",
    "  \n",
    "            # locations\n",
    "            locations = locations,\n",
    "              \n",
    "            # States of USA\n",
    "            locationmode = 'USA-states',\n",
    "              \n",
    "            # colorscale can be added as per requirement\n",
    "            colorscale = 'aggrnyl',\n",
    "              \n",
    "            # text can be given anything you like\n",
    "            z = df['project_is_approved'].tolist(),\n",
    "            colorbar = {'title': 'Rate of projects approved'})\n",
    "              \n",
    "layout = dict(geo ={'scope': 'usa'})\n",
    "\n",
    "# passing data dictionary as a list \n",
    "choromap = go.Figure(data = [data], layout = layout)\n",
    "\n",
    "choromap.update_layout(height=1000, margin=dict(t=0, r=0, l=0, b=0))\n",
    "  \n",
    "# plotting graph\n",
    "iplot(choromap)\n",
    "\n",
    "choromap.show(renderer=\"colab\") "
   ]
  },
  {
   "cell_type": "markdown",
   "id": "70f4cddb",
   "metadata": {
    "id": "I6y3I4qX1Qij",
    "papermill": {
     "duration": 0.031963,
     "end_time": "2023-04-26T11:09:30.046935",
     "exception": false,
     "start_time": "2023-04-26T11:09:30.014972",
     "status": "completed"
    },
    "tags": []
   },
   "source": [
    "### **% of projects approved w.r.t price**"
   ]
  },
  {
   "cell_type": "code",
   "execution_count": 8,
   "id": "a8d5b047",
   "metadata": {
    "execution": {
     "iopub.execute_input": "2023-04-26T11:09:30.114507Z",
     "iopub.status.busy": "2023-04-26T11:09:30.114036Z",
     "iopub.status.idle": "2023-04-26T11:09:30.230236Z",
     "shell.execute_reply": "2023-04-26T11:09:30.229198Z"
    },
    "id": "ERD_4hzVSBlB",
    "papermill": {
     "duration": 0.152403,
     "end_time": "2023-04-26T11:09:30.232678",
     "exception": false,
     "start_time": "2023-04-26T11:09:30.080275",
     "status": "completed"
    },
    "tags": []
   },
   "outputs": [],
   "source": [
    "# Average amount of a single funded proposal in states\n",
    "\n",
    "mean_price = donor_data[donor_data.project_is_approved == 1].groupby('school_state').count()\n",
    "mean_price = mean_price.reset_index().copy()"
   ]
  },
  {
   "cell_type": "code",
   "execution_count": 9,
   "id": "042cd5ac",
   "metadata": {
    "execution": {
     "iopub.execute_input": "2023-04-26T11:09:30.301640Z",
     "iopub.status.busy": "2023-04-26T11:09:30.301192Z",
     "iopub.status.idle": "2023-04-26T11:09:30.344708Z",
     "shell.execute_reply": "2023-04-26T11:09:30.343776Z"
    },
    "id": "bYebhwbrZMEm",
    "outputId": "b372ce4a-f6c9-428f-f44c-1244da2ebbb9",
    "papermill": {
     "duration": 0.080914,
     "end_time": "2023-04-26T11:09:30.347729",
     "exception": false,
     "start_time": "2023-04-26T11:09:30.266815",
     "status": "completed"
    },
    "tags": []
   },
   "outputs": [
    {
     "data": {
      "text/html": [
       "        <script type=\"text/javascript\">\n",
       "        window.PlotlyConfig = {MathJaxConfig: 'local'};\n",
       "        if (window.MathJax && window.MathJax.Hub && window.MathJax.Hub.Config) {window.MathJax.Hub.Config({SVG: {font: \"STIX-Web\"}});}\n",
       "        if (typeof require !== 'undefined') {\n",
       "        require.undef(\"plotly\");\n",
       "        requirejs.config({\n",
       "            paths: {\n",
       "                'plotly': ['https://cdn.plot.ly/plotly-2.12.1.min']\n",
       "            }\n",
       "        });\n",
       "        require(['plotly'], function(Plotly) {\n",
       "            window._Plotly = Plotly;\n",
       "        });\n",
       "        }\n",
       "        </script>\n",
       "        "
      ]
     },
     "metadata": {},
     "output_type": "display_data"
    },
    {
     "data": {
      "application/vnd.plotly.v1+json": {
       "config": {
        "linkText": "Export to plot.ly",
        "plotlyServerURL": "https://plot.ly",
        "showLink": false
       },
       "data": [
        {
         "colorbar": {
          "title": {
           "text": "USD"
          }
         },
         "colorscale": [
          [
           0.0,
           "rgb(246, 210, 169)"
          ],
          [
           0.16666666666666666,
           "rgb(245, 183, 142)"
          ],
          [
           0.3333333333333333,
           "rgb(241, 156, 124)"
          ],
          [
           0.5,
           "rgb(234, 129, 113)"
          ],
          [
           0.6666666666666666,
           "rgb(221, 104, 108)"
          ],
          [
           0.8333333333333334,
           "rgb(202, 82, 104)"
          ],
          [
           1.0,
           "rgb(177, 63, 100)"
          ]
         ],
         "locationmode": "USA-states",
         "locations": [
          "AK",
          "AL",
          "AR",
          "AZ",
          "CA",
          "CO",
          "CT",
          "DC",
          "DE",
          "FL",
          "GA",
          "HI",
          "IA",
          "ID",
          "IL",
          "IN",
          "KS",
          "KY",
          "LA",
          "MA",
          "MD",
          "ME",
          "MI",
          "MN",
          "MO",
          "MS",
          "MT",
          "NC",
          "ND",
          "NE",
          "NH",
          "NJ",
          "NM",
          "NV",
          "NY",
          "OH",
          "OK",
          "OR",
          "PA",
          "RI",
          "SC",
          "SD",
          "TN",
          "TX",
          "UT",
          "VA",
          "VT",
          "WA",
          "WI",
          "WV",
          "WY"
         ],
         "type": "choropleth",
         "z": [
          290,
          1506,
          872,
          1800,
          13205,
          935,
          1445,
          414,
          308,
          5144,
          3329,
          434,
          568,
          579,
          3710,
          2214,
          532,
          1126,
          1990,
          2055,
          1270,
          428,
          2672,
          1036,
          2202,
          1118,
          200,
          4353,
          127,
          260,
          304,
          1888,
          479,
          1167,
          6291,
          2159,
          1900,
          1056,
          2658,
          243,
          3385,
          252,
          1435,
          6014,
          1448,
          1739,
          64,
          2045,
          1545,
          430,
          82
         ]
        }
       ],
       "layout": {
        "geo": {
         "scope": "usa"
        },
        "height": 1000,
        "margin": {
         "l": 0,
         "r": 0,
         "t": 0
        },
        "template": {
         "data": {
          "bar": [
           {
            "error_x": {
             "color": "#2a3f5f"
            },
            "error_y": {
             "color": "#2a3f5f"
            },
            "marker": {
             "line": {
              "color": "#E5ECF6",
              "width": 0.5
             },
             "pattern": {
              "fillmode": "overlay",
              "size": 10,
              "solidity": 0.2
             }
            },
            "type": "bar"
           }
          ],
          "barpolar": [
           {
            "marker": {
             "line": {
              "color": "#E5ECF6",
              "width": 0.5
             },
             "pattern": {
              "fillmode": "overlay",
              "size": 10,
              "solidity": 0.2
             }
            },
            "type": "barpolar"
           }
          ],
          "carpet": [
           {
            "aaxis": {
             "endlinecolor": "#2a3f5f",
             "gridcolor": "white",
             "linecolor": "white",
             "minorgridcolor": "white",
             "startlinecolor": "#2a3f5f"
            },
            "baxis": {
             "endlinecolor": "#2a3f5f",
             "gridcolor": "white",
             "linecolor": "white",
             "minorgridcolor": "white",
             "startlinecolor": "#2a3f5f"
            },
            "type": "carpet"
           }
          ],
          "choropleth": [
           {
            "colorbar": {
             "outlinewidth": 0,
             "ticks": ""
            },
            "type": "choropleth"
           }
          ],
          "contour": [
           {
            "colorbar": {
             "outlinewidth": 0,
             "ticks": ""
            },
            "colorscale": [
             [
              0.0,
              "#0d0887"
             ],
             [
              0.1111111111111111,
              "#46039f"
             ],
             [
              0.2222222222222222,
              "#7201a8"
             ],
             [
              0.3333333333333333,
              "#9c179e"
             ],
             [
              0.4444444444444444,
              "#bd3786"
             ],
             [
              0.5555555555555556,
              "#d8576b"
             ],
             [
              0.6666666666666666,
              "#ed7953"
             ],
             [
              0.7777777777777778,
              "#fb9f3a"
             ],
             [
              0.8888888888888888,
              "#fdca26"
             ],
             [
              1.0,
              "#f0f921"
             ]
            ],
            "type": "contour"
           }
          ],
          "contourcarpet": [
           {
            "colorbar": {
             "outlinewidth": 0,
             "ticks": ""
            },
            "type": "contourcarpet"
           }
          ],
          "heatmap": [
           {
            "colorbar": {
             "outlinewidth": 0,
             "ticks": ""
            },
            "colorscale": [
             [
              0.0,
              "#0d0887"
             ],
             [
              0.1111111111111111,
              "#46039f"
             ],
             [
              0.2222222222222222,
              "#7201a8"
             ],
             [
              0.3333333333333333,
              "#9c179e"
             ],
             [
              0.4444444444444444,
              "#bd3786"
             ],
             [
              0.5555555555555556,
              "#d8576b"
             ],
             [
              0.6666666666666666,
              "#ed7953"
             ],
             [
              0.7777777777777778,
              "#fb9f3a"
             ],
             [
              0.8888888888888888,
              "#fdca26"
             ],
             [
              1.0,
              "#f0f921"
             ]
            ],
            "type": "heatmap"
           }
          ],
          "heatmapgl": [
           {
            "colorbar": {
             "outlinewidth": 0,
             "ticks": ""
            },
            "colorscale": [
             [
              0.0,
              "#0d0887"
             ],
             [
              0.1111111111111111,
              "#46039f"
             ],
             [
              0.2222222222222222,
              "#7201a8"
             ],
             [
              0.3333333333333333,
              "#9c179e"
             ],
             [
              0.4444444444444444,
              "#bd3786"
             ],
             [
              0.5555555555555556,
              "#d8576b"
             ],
             [
              0.6666666666666666,
              "#ed7953"
             ],
             [
              0.7777777777777778,
              "#fb9f3a"
             ],
             [
              0.8888888888888888,
              "#fdca26"
             ],
             [
              1.0,
              "#f0f921"
             ]
            ],
            "type": "heatmapgl"
           }
          ],
          "histogram": [
           {
            "marker": {
             "pattern": {
              "fillmode": "overlay",
              "size": 10,
              "solidity": 0.2
             }
            },
            "type": "histogram"
           }
          ],
          "histogram2d": [
           {
            "colorbar": {
             "outlinewidth": 0,
             "ticks": ""
            },
            "colorscale": [
             [
              0.0,
              "#0d0887"
             ],
             [
              0.1111111111111111,
              "#46039f"
             ],
             [
              0.2222222222222222,
              "#7201a8"
             ],
             [
              0.3333333333333333,
              "#9c179e"
             ],
             [
              0.4444444444444444,
              "#bd3786"
             ],
             [
              0.5555555555555556,
              "#d8576b"
             ],
             [
              0.6666666666666666,
              "#ed7953"
             ],
             [
              0.7777777777777778,
              "#fb9f3a"
             ],
             [
              0.8888888888888888,
              "#fdca26"
             ],
             [
              1.0,
              "#f0f921"
             ]
            ],
            "type": "histogram2d"
           }
          ],
          "histogram2dcontour": [
           {
            "colorbar": {
             "outlinewidth": 0,
             "ticks": ""
            },
            "colorscale": [
             [
              0.0,
              "#0d0887"
             ],
             [
              0.1111111111111111,
              "#46039f"
             ],
             [
              0.2222222222222222,
              "#7201a8"
             ],
             [
              0.3333333333333333,
              "#9c179e"
             ],
             [
              0.4444444444444444,
              "#bd3786"
             ],
             [
              0.5555555555555556,
              "#d8576b"
             ],
             [
              0.6666666666666666,
              "#ed7953"
             ],
             [
              0.7777777777777778,
              "#fb9f3a"
             ],
             [
              0.8888888888888888,
              "#fdca26"
             ],
             [
              1.0,
              "#f0f921"
             ]
            ],
            "type": "histogram2dcontour"
           }
          ],
          "mesh3d": [
           {
            "colorbar": {
             "outlinewidth": 0,
             "ticks": ""
            },
            "type": "mesh3d"
           }
          ],
          "parcoords": [
           {
            "line": {
             "colorbar": {
              "outlinewidth": 0,
              "ticks": ""
             }
            },
            "type": "parcoords"
           }
          ],
          "pie": [
           {
            "automargin": true,
            "type": "pie"
           }
          ],
          "scatter": [
           {
            "fillpattern": {
             "fillmode": "overlay",
             "size": 10,
             "solidity": 0.2
            },
            "type": "scatter"
           }
          ],
          "scatter3d": [
           {
            "line": {
             "colorbar": {
              "outlinewidth": 0,
              "ticks": ""
             }
            },
            "marker": {
             "colorbar": {
              "outlinewidth": 0,
              "ticks": ""
             }
            },
            "type": "scatter3d"
           }
          ],
          "scattercarpet": [
           {
            "marker": {
             "colorbar": {
              "outlinewidth": 0,
              "ticks": ""
             }
            },
            "type": "scattercarpet"
           }
          ],
          "scattergeo": [
           {
            "marker": {
             "colorbar": {
              "outlinewidth": 0,
              "ticks": ""
             }
            },
            "type": "scattergeo"
           }
          ],
          "scattergl": [
           {
            "marker": {
             "colorbar": {
              "outlinewidth": 0,
              "ticks": ""
             }
            },
            "type": "scattergl"
           }
          ],
          "scattermapbox": [
           {
            "marker": {
             "colorbar": {
              "outlinewidth": 0,
              "ticks": ""
             }
            },
            "type": "scattermapbox"
           }
          ],
          "scatterpolar": [
           {
            "marker": {
             "colorbar": {
              "outlinewidth": 0,
              "ticks": ""
             }
            },
            "type": "scatterpolar"
           }
          ],
          "scatterpolargl": [
           {
            "marker": {
             "colorbar": {
              "outlinewidth": 0,
              "ticks": ""
             }
            },
            "type": "scatterpolargl"
           }
          ],
          "scatterternary": [
           {
            "marker": {
             "colorbar": {
              "outlinewidth": 0,
              "ticks": ""
             }
            },
            "type": "scatterternary"
           }
          ],
          "surface": [
           {
            "colorbar": {
             "outlinewidth": 0,
             "ticks": ""
            },
            "colorscale": [
             [
              0.0,
              "#0d0887"
             ],
             [
              0.1111111111111111,
              "#46039f"
             ],
             [
              0.2222222222222222,
              "#7201a8"
             ],
             [
              0.3333333333333333,
              "#9c179e"
             ],
             [
              0.4444444444444444,
              "#bd3786"
             ],
             [
              0.5555555555555556,
              "#d8576b"
             ],
             [
              0.6666666666666666,
              "#ed7953"
             ],
             [
              0.7777777777777778,
              "#fb9f3a"
             ],
             [
              0.8888888888888888,
              "#fdca26"
             ],
             [
              1.0,
              "#f0f921"
             ]
            ],
            "type": "surface"
           }
          ],
          "table": [
           {
            "cells": {
             "fill": {
              "color": "#EBF0F8"
             },
             "line": {
              "color": "white"
             }
            },
            "header": {
             "fill": {
              "color": "#C8D4E3"
             },
             "line": {
              "color": "white"
             }
            },
            "type": "table"
           }
          ]
         },
         "layout": {
          "annotationdefaults": {
           "arrowcolor": "#2a3f5f",
           "arrowhead": 0,
           "arrowwidth": 1
          },
          "autotypenumbers": "strict",
          "coloraxis": {
           "colorbar": {
            "outlinewidth": 0,
            "ticks": ""
           }
          },
          "colorscale": {
           "diverging": [
            [
             0,
             "#8e0152"
            ],
            [
             0.1,
             "#c51b7d"
            ],
            [
             0.2,
             "#de77ae"
            ],
            [
             0.3,
             "#f1b6da"
            ],
            [
             0.4,
             "#fde0ef"
            ],
            [
             0.5,
             "#f7f7f7"
            ],
            [
             0.6,
             "#e6f5d0"
            ],
            [
             0.7,
             "#b8e186"
            ],
            [
             0.8,
             "#7fbc41"
            ],
            [
             0.9,
             "#4d9221"
            ],
            [
             1,
             "#276419"
            ]
           ],
           "sequential": [
            [
             0.0,
             "#0d0887"
            ],
            [
             0.1111111111111111,
             "#46039f"
            ],
            [
             0.2222222222222222,
             "#7201a8"
            ],
            [
             0.3333333333333333,
             "#9c179e"
            ],
            [
             0.4444444444444444,
             "#bd3786"
            ],
            [
             0.5555555555555556,
             "#d8576b"
            ],
            [
             0.6666666666666666,
             "#ed7953"
            ],
            [
             0.7777777777777778,
             "#fb9f3a"
            ],
            [
             0.8888888888888888,
             "#fdca26"
            ],
            [
             1.0,
             "#f0f921"
            ]
           ],
           "sequentialminus": [
            [
             0.0,
             "#0d0887"
            ],
            [
             0.1111111111111111,
             "#46039f"
            ],
            [
             0.2222222222222222,
             "#7201a8"
            ],
            [
             0.3333333333333333,
             "#9c179e"
            ],
            [
             0.4444444444444444,
             "#bd3786"
            ],
            [
             0.5555555555555556,
             "#d8576b"
            ],
            [
             0.6666666666666666,
             "#ed7953"
            ],
            [
             0.7777777777777778,
             "#fb9f3a"
            ],
            [
             0.8888888888888888,
             "#fdca26"
            ],
            [
             1.0,
             "#f0f921"
            ]
           ]
          },
          "colorway": [
           "#636efa",
           "#EF553B",
           "#00cc96",
           "#ab63fa",
           "#FFA15A",
           "#19d3f3",
           "#FF6692",
           "#B6E880",
           "#FF97FF",
           "#FECB52"
          ],
          "font": {
           "color": "#2a3f5f"
          },
          "geo": {
           "bgcolor": "white",
           "lakecolor": "white",
           "landcolor": "#E5ECF6",
           "showlakes": true,
           "showland": true,
           "subunitcolor": "white"
          },
          "hoverlabel": {
           "align": "left"
          },
          "hovermode": "closest",
          "mapbox": {
           "style": "light"
          },
          "paper_bgcolor": "white",
          "plot_bgcolor": "#E5ECF6",
          "polar": {
           "angularaxis": {
            "gridcolor": "white",
            "linecolor": "white",
            "ticks": ""
           },
           "bgcolor": "#E5ECF6",
           "radialaxis": {
            "gridcolor": "white",
            "linecolor": "white",
            "ticks": ""
           }
          },
          "scene": {
           "xaxis": {
            "backgroundcolor": "#E5ECF6",
            "gridcolor": "white",
            "gridwidth": 2,
            "linecolor": "white",
            "showbackground": true,
            "ticks": "",
            "zerolinecolor": "white"
           },
           "yaxis": {
            "backgroundcolor": "#E5ECF6",
            "gridcolor": "white",
            "gridwidth": 2,
            "linecolor": "white",
            "showbackground": true,
            "ticks": "",
            "zerolinecolor": "white"
           },
           "zaxis": {
            "backgroundcolor": "#E5ECF6",
            "gridcolor": "white",
            "gridwidth": 2,
            "linecolor": "white",
            "showbackground": true,
            "ticks": "",
            "zerolinecolor": "white"
           }
          },
          "shapedefaults": {
           "line": {
            "color": "#2a3f5f"
           }
          },
          "ternary": {
           "aaxis": {
            "gridcolor": "white",
            "linecolor": "white",
            "ticks": ""
           },
           "baxis": {
            "gridcolor": "white",
            "linecolor": "white",
            "ticks": ""
           },
           "bgcolor": "#E5ECF6",
           "caxis": {
            "gridcolor": "white",
            "linecolor": "white",
            "ticks": ""
           }
          },
          "title": {
           "x": 0.05
          },
          "xaxis": {
           "automargin": true,
           "gridcolor": "white",
           "linecolor": "white",
           "ticks": "",
           "title": {
            "standoff": 15
           },
           "zerolinecolor": "white",
           "zerolinewidth": 2
          },
          "yaxis": {
           "automargin": true,
           "gridcolor": "white",
           "linecolor": "white",
           "ticks": "",
           "title": {
            "standoff": 15
           },
           "zerolinecolor": "white",
           "zerolinewidth": 2
          }
         }
        }
       }
      },
      "text/html": [
       "<div>                            <div id=\"4ca68e53-7f6a-4ded-b809-3290f744e242\" class=\"plotly-graph-div\" style=\"height:1000px; width:100%;\"></div>            <script type=\"text/javascript\">                require([\"plotly\"], function(Plotly) {                    window.PLOTLYENV=window.PLOTLYENV || {};                                    if (document.getElementById(\"4ca68e53-7f6a-4ded-b809-3290f744e242\")) {                    Plotly.newPlot(                        \"4ca68e53-7f6a-4ded-b809-3290f744e242\",                        [{\"colorbar\":{\"title\":{\"text\":\"USD\"}},\"colorscale\":[[0.0,\"rgb(246, 210, 169)\"],[0.16666666666666666,\"rgb(245, 183, 142)\"],[0.3333333333333333,\"rgb(241, 156, 124)\"],[0.5,\"rgb(234, 129, 113)\"],[0.6666666666666666,\"rgb(221, 104, 108)\"],[0.8333333333333334,\"rgb(202, 82, 104)\"],[1.0,\"rgb(177, 63, 100)\"]],\"locationmode\":\"USA-states\",\"locations\":[\"AK\",\"AL\",\"AR\",\"AZ\",\"CA\",\"CO\",\"CT\",\"DC\",\"DE\",\"FL\",\"GA\",\"HI\",\"IA\",\"ID\",\"IL\",\"IN\",\"KS\",\"KY\",\"LA\",\"MA\",\"MD\",\"ME\",\"MI\",\"MN\",\"MO\",\"MS\",\"MT\",\"NC\",\"ND\",\"NE\",\"NH\",\"NJ\",\"NM\",\"NV\",\"NY\",\"OH\",\"OK\",\"OR\",\"PA\",\"RI\",\"SC\",\"SD\",\"TN\",\"TX\",\"UT\",\"VA\",\"VT\",\"WA\",\"WI\",\"WV\",\"WY\"],\"z\":[290,1506,872,1800,13205,935,1445,414,308,5144,3329,434,568,579,3710,2214,532,1126,1990,2055,1270,428,2672,1036,2202,1118,200,4353,127,260,304,1888,479,1167,6291,2159,1900,1056,2658,243,3385,252,1435,6014,1448,1739,64,2045,1545,430,82],\"type\":\"choropleth\"}],                        {\"geo\":{\"scope\":\"usa\"},\"height\":1000,\"margin\":{\"l\":0,\"r\":0,\"t\":0},\"template\":{\"data\":{\"barpolar\":[{\"marker\":{\"line\":{\"color\":\"#E5ECF6\",\"width\":0.5},\"pattern\":{\"fillmode\":\"overlay\",\"size\":10,\"solidity\":0.2}},\"type\":\"barpolar\"}],\"bar\":[{\"error_x\":{\"color\":\"#2a3f5f\"},\"error_y\":{\"color\":\"#2a3f5f\"},\"marker\":{\"line\":{\"color\":\"#E5ECF6\",\"width\":0.5},\"pattern\":{\"fillmode\":\"overlay\",\"size\":10,\"solidity\":0.2}},\"type\":\"bar\"}],\"carpet\":[{\"aaxis\":{\"endlinecolor\":\"#2a3f5f\",\"gridcolor\":\"white\",\"linecolor\":\"white\",\"minorgridcolor\":\"white\",\"startlinecolor\":\"#2a3f5f\"},\"baxis\":{\"endlinecolor\":\"#2a3f5f\",\"gridcolor\":\"white\",\"linecolor\":\"white\",\"minorgridcolor\":\"white\",\"startlinecolor\":\"#2a3f5f\"},\"type\":\"carpet\"}],\"choropleth\":[{\"colorbar\":{\"outlinewidth\":0,\"ticks\":\"\"},\"type\":\"choropleth\"}],\"contourcarpet\":[{\"colorbar\":{\"outlinewidth\":0,\"ticks\":\"\"},\"type\":\"contourcarpet\"}],\"contour\":[{\"colorbar\":{\"outlinewidth\":0,\"ticks\":\"\"},\"colorscale\":[[0.0,\"#0d0887\"],[0.1111111111111111,\"#46039f\"],[0.2222222222222222,\"#7201a8\"],[0.3333333333333333,\"#9c179e\"],[0.4444444444444444,\"#bd3786\"],[0.5555555555555556,\"#d8576b\"],[0.6666666666666666,\"#ed7953\"],[0.7777777777777778,\"#fb9f3a\"],[0.8888888888888888,\"#fdca26\"],[1.0,\"#f0f921\"]],\"type\":\"contour\"}],\"heatmapgl\":[{\"colorbar\":{\"outlinewidth\":0,\"ticks\":\"\"},\"colorscale\":[[0.0,\"#0d0887\"],[0.1111111111111111,\"#46039f\"],[0.2222222222222222,\"#7201a8\"],[0.3333333333333333,\"#9c179e\"],[0.4444444444444444,\"#bd3786\"],[0.5555555555555556,\"#d8576b\"],[0.6666666666666666,\"#ed7953\"],[0.7777777777777778,\"#fb9f3a\"],[0.8888888888888888,\"#fdca26\"],[1.0,\"#f0f921\"]],\"type\":\"heatmapgl\"}],\"heatmap\":[{\"colorbar\":{\"outlinewidth\":0,\"ticks\":\"\"},\"colorscale\":[[0.0,\"#0d0887\"],[0.1111111111111111,\"#46039f\"],[0.2222222222222222,\"#7201a8\"],[0.3333333333333333,\"#9c179e\"],[0.4444444444444444,\"#bd3786\"],[0.5555555555555556,\"#d8576b\"],[0.6666666666666666,\"#ed7953\"],[0.7777777777777778,\"#fb9f3a\"],[0.8888888888888888,\"#fdca26\"],[1.0,\"#f0f921\"]],\"type\":\"heatmap\"}],\"histogram2dcontour\":[{\"colorbar\":{\"outlinewidth\":0,\"ticks\":\"\"},\"colorscale\":[[0.0,\"#0d0887\"],[0.1111111111111111,\"#46039f\"],[0.2222222222222222,\"#7201a8\"],[0.3333333333333333,\"#9c179e\"],[0.4444444444444444,\"#bd3786\"],[0.5555555555555556,\"#d8576b\"],[0.6666666666666666,\"#ed7953\"],[0.7777777777777778,\"#fb9f3a\"],[0.8888888888888888,\"#fdca26\"],[1.0,\"#f0f921\"]],\"type\":\"histogram2dcontour\"}],\"histogram2d\":[{\"colorbar\":{\"outlinewidth\":0,\"ticks\":\"\"},\"colorscale\":[[0.0,\"#0d0887\"],[0.1111111111111111,\"#46039f\"],[0.2222222222222222,\"#7201a8\"],[0.3333333333333333,\"#9c179e\"],[0.4444444444444444,\"#bd3786\"],[0.5555555555555556,\"#d8576b\"],[0.6666666666666666,\"#ed7953\"],[0.7777777777777778,\"#fb9f3a\"],[0.8888888888888888,\"#fdca26\"],[1.0,\"#f0f921\"]],\"type\":\"histogram2d\"}],\"histogram\":[{\"marker\":{\"pattern\":{\"fillmode\":\"overlay\",\"size\":10,\"solidity\":0.2}},\"type\":\"histogram\"}],\"mesh3d\":[{\"colorbar\":{\"outlinewidth\":0,\"ticks\":\"\"},\"type\":\"mesh3d\"}],\"parcoords\":[{\"line\":{\"colorbar\":{\"outlinewidth\":0,\"ticks\":\"\"}},\"type\":\"parcoords\"}],\"pie\":[{\"automargin\":true,\"type\":\"pie\"}],\"scatter3d\":[{\"line\":{\"colorbar\":{\"outlinewidth\":0,\"ticks\":\"\"}},\"marker\":{\"colorbar\":{\"outlinewidth\":0,\"ticks\":\"\"}},\"type\":\"scatter3d\"}],\"scattercarpet\":[{\"marker\":{\"colorbar\":{\"outlinewidth\":0,\"ticks\":\"\"}},\"type\":\"scattercarpet\"}],\"scattergeo\":[{\"marker\":{\"colorbar\":{\"outlinewidth\":0,\"ticks\":\"\"}},\"type\":\"scattergeo\"}],\"scattergl\":[{\"marker\":{\"colorbar\":{\"outlinewidth\":0,\"ticks\":\"\"}},\"type\":\"scattergl\"}],\"scattermapbox\":[{\"marker\":{\"colorbar\":{\"outlinewidth\":0,\"ticks\":\"\"}},\"type\":\"scattermapbox\"}],\"scatterpolargl\":[{\"marker\":{\"colorbar\":{\"outlinewidth\":0,\"ticks\":\"\"}},\"type\":\"scatterpolargl\"}],\"scatterpolar\":[{\"marker\":{\"colorbar\":{\"outlinewidth\":0,\"ticks\":\"\"}},\"type\":\"scatterpolar\"}],\"scatter\":[{\"fillpattern\":{\"fillmode\":\"overlay\",\"size\":10,\"solidity\":0.2},\"type\":\"scatter\"}],\"scatterternary\":[{\"marker\":{\"colorbar\":{\"outlinewidth\":0,\"ticks\":\"\"}},\"type\":\"scatterternary\"}],\"surface\":[{\"colorbar\":{\"outlinewidth\":0,\"ticks\":\"\"},\"colorscale\":[[0.0,\"#0d0887\"],[0.1111111111111111,\"#46039f\"],[0.2222222222222222,\"#7201a8\"],[0.3333333333333333,\"#9c179e\"],[0.4444444444444444,\"#bd3786\"],[0.5555555555555556,\"#d8576b\"],[0.6666666666666666,\"#ed7953\"],[0.7777777777777778,\"#fb9f3a\"],[0.8888888888888888,\"#fdca26\"],[1.0,\"#f0f921\"]],\"type\":\"surface\"}],\"table\":[{\"cells\":{\"fill\":{\"color\":\"#EBF0F8\"},\"line\":{\"color\":\"white\"}},\"header\":{\"fill\":{\"color\":\"#C8D4E3\"},\"line\":{\"color\":\"white\"}},\"type\":\"table\"}]},\"layout\":{\"annotationdefaults\":{\"arrowcolor\":\"#2a3f5f\",\"arrowhead\":0,\"arrowwidth\":1},\"autotypenumbers\":\"strict\",\"coloraxis\":{\"colorbar\":{\"outlinewidth\":0,\"ticks\":\"\"}},\"colorscale\":{\"diverging\":[[0,\"#8e0152\"],[0.1,\"#c51b7d\"],[0.2,\"#de77ae\"],[0.3,\"#f1b6da\"],[0.4,\"#fde0ef\"],[0.5,\"#f7f7f7\"],[0.6,\"#e6f5d0\"],[0.7,\"#b8e186\"],[0.8,\"#7fbc41\"],[0.9,\"#4d9221\"],[1,\"#276419\"]],\"sequential\":[[0.0,\"#0d0887\"],[0.1111111111111111,\"#46039f\"],[0.2222222222222222,\"#7201a8\"],[0.3333333333333333,\"#9c179e\"],[0.4444444444444444,\"#bd3786\"],[0.5555555555555556,\"#d8576b\"],[0.6666666666666666,\"#ed7953\"],[0.7777777777777778,\"#fb9f3a\"],[0.8888888888888888,\"#fdca26\"],[1.0,\"#f0f921\"]],\"sequentialminus\":[[0.0,\"#0d0887\"],[0.1111111111111111,\"#46039f\"],[0.2222222222222222,\"#7201a8\"],[0.3333333333333333,\"#9c179e\"],[0.4444444444444444,\"#bd3786\"],[0.5555555555555556,\"#d8576b\"],[0.6666666666666666,\"#ed7953\"],[0.7777777777777778,\"#fb9f3a\"],[0.8888888888888888,\"#fdca26\"],[1.0,\"#f0f921\"]]},\"colorway\":[\"#636efa\",\"#EF553B\",\"#00cc96\",\"#ab63fa\",\"#FFA15A\",\"#19d3f3\",\"#FF6692\",\"#B6E880\",\"#FF97FF\",\"#FECB52\"],\"font\":{\"color\":\"#2a3f5f\"},\"geo\":{\"bgcolor\":\"white\",\"lakecolor\":\"white\",\"landcolor\":\"#E5ECF6\",\"showlakes\":true,\"showland\":true,\"subunitcolor\":\"white\"},\"hoverlabel\":{\"align\":\"left\"},\"hovermode\":\"closest\",\"mapbox\":{\"style\":\"light\"},\"paper_bgcolor\":\"white\",\"plot_bgcolor\":\"#E5ECF6\",\"polar\":{\"angularaxis\":{\"gridcolor\":\"white\",\"linecolor\":\"white\",\"ticks\":\"\"},\"bgcolor\":\"#E5ECF6\",\"radialaxis\":{\"gridcolor\":\"white\",\"linecolor\":\"white\",\"ticks\":\"\"}},\"scene\":{\"xaxis\":{\"backgroundcolor\":\"#E5ECF6\",\"gridcolor\":\"white\",\"gridwidth\":2,\"linecolor\":\"white\",\"showbackground\":true,\"ticks\":\"\",\"zerolinecolor\":\"white\"},\"yaxis\":{\"backgroundcolor\":\"#E5ECF6\",\"gridcolor\":\"white\",\"gridwidth\":2,\"linecolor\":\"white\",\"showbackground\":true,\"ticks\":\"\",\"zerolinecolor\":\"white\"},\"zaxis\":{\"backgroundcolor\":\"#E5ECF6\",\"gridcolor\":\"white\",\"gridwidth\":2,\"linecolor\":\"white\",\"showbackground\":true,\"ticks\":\"\",\"zerolinecolor\":\"white\"}},\"shapedefaults\":{\"line\":{\"color\":\"#2a3f5f\"}},\"ternary\":{\"aaxis\":{\"gridcolor\":\"white\",\"linecolor\":\"white\",\"ticks\":\"\"},\"baxis\":{\"gridcolor\":\"white\",\"linecolor\":\"white\",\"ticks\":\"\"},\"bgcolor\":\"#E5ECF6\",\"caxis\":{\"gridcolor\":\"white\",\"linecolor\":\"white\",\"ticks\":\"\"}},\"title\":{\"x\":0.05},\"xaxis\":{\"automargin\":true,\"gridcolor\":\"white\",\"linecolor\":\"white\",\"ticks\":\"\",\"title\":{\"standoff\":15},\"zerolinecolor\":\"white\",\"zerolinewidth\":2},\"yaxis\":{\"automargin\":true,\"gridcolor\":\"white\",\"linecolor\":\"white\",\"ticks\":\"\",\"title\":{\"standoff\":15},\"zerolinecolor\":\"white\",\"zerolinewidth\":2}}}},                        {\"responsive\": true}                    ).then(function(){\n",
       "                            \n",
       "var gd = document.getElementById('4ca68e53-7f6a-4ded-b809-3290f744e242');\n",
       "var x = new MutationObserver(function (mutations, observer) {{\n",
       "        var display = window.getComputedStyle(gd).display;\n",
       "        if (!display || display === 'none') {{\n",
       "            console.log([gd, 'removed!']);\n",
       "            Plotly.purge(gd);\n",
       "            observer.disconnect();\n",
       "        }}\n",
       "}});\n",
       "\n",
       "// Listen for the removal of the full notebook cells\n",
       "var notebookContainer = gd.closest('#notebook-container');\n",
       "if (notebookContainer) {{\n",
       "    x.observe(notebookContainer, {childList: true});\n",
       "}}\n",
       "\n",
       "// Listen for the clearing of the current output cell\n",
       "var outputEl = gd.closest('.output');\n",
       "if (outputEl) {{\n",
       "    x.observe(outputEl, {childList: true});\n",
       "}}\n",
       "\n",
       "                        })                };                });            </script>        </div>"
      ]
     },
     "metadata": {},
     "output_type": "display_data"
    },
    {
     "data": {
      "text/html": [
       "<html>\n",
       "<head><meta charset=\"utf-8\" /></head>\n",
       "<body>\n",
       "    <div>            <script src=\"https://cdnjs.cloudflare.com/ajax/libs/mathjax/2.7.5/MathJax.js?config=TeX-AMS-MML_SVG\"></script><script type=\"text/javascript\">if (window.MathJax && window.MathJax.Hub && && window.MathJax.Hub.Config) {window.MathJax.Hub.Config({SVG: {font: \"STIX-Web\"}});}</script>                <script type=\"text/javascript\">window.PlotlyConfig = {MathJaxConfig: 'local'};</script>\n",
       "        <script src=\"https://cdn.plot.ly/plotly-2.12.1.min.js\"></script>                <div id=\"2a923fcc-f394-4157-a0b9-ef06a050825c\" class=\"plotly-graph-div\" style=\"height:1000px; width:100%;\"></div>            <script type=\"text/javascript\">                                    window.PLOTLYENV=window.PLOTLYENV || {};                                    if (document.getElementById(\"2a923fcc-f394-4157-a0b9-ef06a050825c\")) {                    Plotly.newPlot(                        \"2a923fcc-f394-4157-a0b9-ef06a050825c\",                        [{\"colorbar\":{\"title\":{\"text\":\"USD\"}},\"colorscale\":[[0.0,\"rgb(246, 210, 169)\"],[0.16666666666666666,\"rgb(245, 183, 142)\"],[0.3333333333333333,\"rgb(241, 156, 124)\"],[0.5,\"rgb(234, 129, 113)\"],[0.6666666666666666,\"rgb(221, 104, 108)\"],[0.8333333333333334,\"rgb(202, 82, 104)\"],[1.0,\"rgb(177, 63, 100)\"]],\"locationmode\":\"USA-states\",\"locations\":[\"AK\",\"AL\",\"AR\",\"AZ\",\"CA\",\"CO\",\"CT\",\"DC\",\"DE\",\"FL\",\"GA\",\"HI\",\"IA\",\"ID\",\"IL\",\"IN\",\"KS\",\"KY\",\"LA\",\"MA\",\"MD\",\"ME\",\"MI\",\"MN\",\"MO\",\"MS\",\"MT\",\"NC\",\"ND\",\"NE\",\"NH\",\"NJ\",\"NM\",\"NV\",\"NY\",\"OH\",\"OK\",\"OR\",\"PA\",\"RI\",\"SC\",\"SD\",\"TN\",\"TX\",\"UT\",\"VA\",\"VT\",\"WA\",\"WI\",\"WV\",\"WY\"],\"z\":[290,1506,872,1800,13205,935,1445,414,308,5144,3329,434,568,579,3710,2214,532,1126,1990,2055,1270,428,2672,1036,2202,1118,200,4353,127,260,304,1888,479,1167,6291,2159,1900,1056,2658,243,3385,252,1435,6014,1448,1739,64,2045,1545,430,82],\"type\":\"choropleth\"}],                        {\"geo\":{\"scope\":\"usa\"},\"template\":{\"data\":{\"histogram2dcontour\":[{\"type\":\"histogram2dcontour\",\"colorbar\":{\"outlinewidth\":0,\"ticks\":\"\"},\"colorscale\":[[0.0,\"#0d0887\"],[0.1111111111111111,\"#46039f\"],[0.2222222222222222,\"#7201a8\"],[0.3333333333333333,\"#9c179e\"],[0.4444444444444444,\"#bd3786\"],[0.5555555555555556,\"#d8576b\"],[0.6666666666666666,\"#ed7953\"],[0.7777777777777778,\"#fb9f3a\"],[0.8888888888888888,\"#fdca26\"],[1.0,\"#f0f921\"]]}],\"choropleth\":[{\"type\":\"choropleth\",\"colorbar\":{\"outlinewidth\":0,\"ticks\":\"\"}}],\"histogram2d\":[{\"type\":\"histogram2d\",\"colorbar\":{\"outlinewidth\":0,\"ticks\":\"\"},\"colorscale\":[[0.0,\"#0d0887\"],[0.1111111111111111,\"#46039f\"],[0.2222222222222222,\"#7201a8\"],[0.3333333333333333,\"#9c179e\"],[0.4444444444444444,\"#bd3786\"],[0.5555555555555556,\"#d8576b\"],[0.6666666666666666,\"#ed7953\"],[0.7777777777777778,\"#fb9f3a\"],[0.8888888888888888,\"#fdca26\"],[1.0,\"#f0f921\"]]}],\"heatmap\":[{\"type\":\"heatmap\",\"colorbar\":{\"outlinewidth\":0,\"ticks\":\"\"},\"colorscale\":[[0.0,\"#0d0887\"],[0.1111111111111111,\"#46039f\"],[0.2222222222222222,\"#7201a8\"],[0.3333333333333333,\"#9c179e\"],[0.4444444444444444,\"#bd3786\"],[0.5555555555555556,\"#d8576b\"],[0.6666666666666666,\"#ed7953\"],[0.7777777777777778,\"#fb9f3a\"],[0.8888888888888888,\"#fdca26\"],[1.0,\"#f0f921\"]]}],\"heatmapgl\":[{\"type\":\"heatmapgl\",\"colorbar\":{\"outlinewidth\":0,\"ticks\":\"\"},\"colorscale\":[[0.0,\"#0d0887\"],[0.1111111111111111,\"#46039f\"],[0.2222222222222222,\"#7201a8\"],[0.3333333333333333,\"#9c179e\"],[0.4444444444444444,\"#bd3786\"],[0.5555555555555556,\"#d8576b\"],[0.6666666666666666,\"#ed7953\"],[0.7777777777777778,\"#fb9f3a\"],[0.8888888888888888,\"#fdca26\"],[1.0,\"#f0f921\"]]}],\"contourcarpet\":[{\"type\":\"contourcarpet\",\"colorbar\":{\"outlinewidth\":0,\"ticks\":\"\"}}],\"contour\":[{\"type\":\"contour\",\"colorbar\":{\"outlinewidth\":0,\"ticks\":\"\"},\"colorscale\":[[0.0,\"#0d0887\"],[0.1111111111111111,\"#46039f\"],[0.2222222222222222,\"#7201a8\"],[0.3333333333333333,\"#9c179e\"],[0.4444444444444444,\"#bd3786\"],[0.5555555555555556,\"#d8576b\"],[0.6666666666666666,\"#ed7953\"],[0.7777777777777778,\"#fb9f3a\"],[0.8888888888888888,\"#fdca26\"],[1.0,\"#f0f921\"]]}],\"surface\":[{\"type\":\"surface\",\"colorbar\":{\"outlinewidth\":0,\"ticks\":\"\"},\"colorscale\":[[0.0,\"#0d0887\"],[0.1111111111111111,\"#46039f\"],[0.2222222222222222,\"#7201a8\"],[0.3333333333333333,\"#9c179e\"],[0.4444444444444444,\"#bd3786\"],[0.5555555555555556,\"#d8576b\"],[0.6666666666666666,\"#ed7953\"],[0.7777777777777778,\"#fb9f3a\"],[0.8888888888888888,\"#fdca26\"],[1.0,\"#f0f921\"]]}],\"mesh3d\":[{\"type\":\"mesh3d\",\"colorbar\":{\"outlinewidth\":0,\"ticks\":\"\"}}],\"scatter\":[{\"fillpattern\":{\"fillmode\":\"overlay\",\"size\":10,\"solidity\":0.2},\"type\":\"scatter\"}],\"parcoords\":[{\"type\":\"parcoords\",\"line\":{\"colorbar\":{\"outlinewidth\":0,\"ticks\":\"\"}}}],\"scatterpolargl\":[{\"type\":\"scatterpolargl\",\"marker\":{\"colorbar\":{\"outlinewidth\":0,\"ticks\":\"\"}}}],\"bar\":[{\"error_x\":{\"color\":\"#2a3f5f\"},\"error_y\":{\"color\":\"#2a3f5f\"},\"marker\":{\"line\":{\"color\":\"#E5ECF6\",\"width\":0.5},\"pattern\":{\"fillmode\":\"overlay\",\"size\":10,\"solidity\":0.2}},\"type\":\"bar\"}],\"scattergeo\":[{\"type\":\"scattergeo\",\"marker\":{\"colorbar\":{\"outlinewidth\":0,\"ticks\":\"\"}}}],\"scatterpolar\":[{\"type\":\"scatterpolar\",\"marker\":{\"colorbar\":{\"outlinewidth\":0,\"ticks\":\"\"}}}],\"histogram\":[{\"marker\":{\"pattern\":{\"fillmode\":\"overlay\",\"size\":10,\"solidity\":0.2}},\"type\":\"histogram\"}],\"scattergl\":[{\"type\":\"scattergl\",\"marker\":{\"colorbar\":{\"outlinewidth\":0,\"ticks\":\"\"}}}],\"scatter3d\":[{\"type\":\"scatter3d\",\"line\":{\"colorbar\":{\"outlinewidth\":0,\"ticks\":\"\"}},\"marker\":{\"colorbar\":{\"outlinewidth\":0,\"ticks\":\"\"}}}],\"scattermapbox\":[{\"type\":\"scattermapbox\",\"marker\":{\"colorbar\":{\"outlinewidth\":0,\"ticks\":\"\"}}}],\"scatterternary\":[{\"type\":\"scatterternary\",\"marker\":{\"colorbar\":{\"outlinewidth\":0,\"ticks\":\"\"}}}],\"scattercarpet\":[{\"type\":\"scattercarpet\",\"marker\":{\"colorbar\":{\"outlinewidth\":0,\"ticks\":\"\"}}}],\"carpet\":[{\"aaxis\":{\"endlinecolor\":\"#2a3f5f\",\"gridcolor\":\"white\",\"linecolor\":\"white\",\"minorgridcolor\":\"white\",\"startlinecolor\":\"#2a3f5f\"},\"baxis\":{\"endlinecolor\":\"#2a3f5f\",\"gridcolor\":\"white\",\"linecolor\":\"white\",\"minorgridcolor\":\"white\",\"startlinecolor\":\"#2a3f5f\"},\"type\":\"carpet\"}],\"table\":[{\"cells\":{\"fill\":{\"color\":\"#EBF0F8\"},\"line\":{\"color\":\"white\"}},\"header\":{\"fill\":{\"color\":\"#C8D4E3\"},\"line\":{\"color\":\"white\"}},\"type\":\"table\"}],\"barpolar\":[{\"marker\":{\"line\":{\"color\":\"#E5ECF6\",\"width\":0.5},\"pattern\":{\"fillmode\":\"overlay\",\"size\":10,\"solidity\":0.2}},\"type\":\"barpolar\"}],\"pie\":[{\"automargin\":true,\"type\":\"pie\"}]},\"layout\":{\"autotypenumbers\":\"strict\",\"colorway\":[\"#636efa\",\"#EF553B\",\"#00cc96\",\"#ab63fa\",\"#FFA15A\",\"#19d3f3\",\"#FF6692\",\"#B6E880\",\"#FF97FF\",\"#FECB52\"],\"font\":{\"color\":\"#2a3f5f\"},\"hovermode\":\"closest\",\"hoverlabel\":{\"align\":\"left\"},\"paper_bgcolor\":\"white\",\"plot_bgcolor\":\"#E5ECF6\",\"polar\":{\"bgcolor\":\"#E5ECF6\",\"angularaxis\":{\"gridcolor\":\"white\",\"linecolor\":\"white\",\"ticks\":\"\"},\"radialaxis\":{\"gridcolor\":\"white\",\"linecolor\":\"white\",\"ticks\":\"\"}},\"ternary\":{\"bgcolor\":\"#E5ECF6\",\"aaxis\":{\"gridcolor\":\"white\",\"linecolor\":\"white\",\"ticks\":\"\"},\"baxis\":{\"gridcolor\":\"white\",\"linecolor\":\"white\",\"ticks\":\"\"},\"caxis\":{\"gridcolor\":\"white\",\"linecolor\":\"white\",\"ticks\":\"\"}},\"coloraxis\":{\"colorbar\":{\"outlinewidth\":0,\"ticks\":\"\"}},\"colorscale\":{\"sequential\":[[0.0,\"#0d0887\"],[0.1111111111111111,\"#46039f\"],[0.2222222222222222,\"#7201a8\"],[0.3333333333333333,\"#9c179e\"],[0.4444444444444444,\"#bd3786\"],[0.5555555555555556,\"#d8576b\"],[0.6666666666666666,\"#ed7953\"],[0.7777777777777778,\"#fb9f3a\"],[0.8888888888888888,\"#fdca26\"],[1.0,\"#f0f921\"]],\"sequentialminus\":[[0.0,\"#0d0887\"],[0.1111111111111111,\"#46039f\"],[0.2222222222222222,\"#7201a8\"],[0.3333333333333333,\"#9c179e\"],[0.4444444444444444,\"#bd3786\"],[0.5555555555555556,\"#d8576b\"],[0.6666666666666666,\"#ed7953\"],[0.7777777777777778,\"#fb9f3a\"],[0.8888888888888888,\"#fdca26\"],[1.0,\"#f0f921\"]],\"diverging\":[[0,\"#8e0152\"],[0.1,\"#c51b7d\"],[0.2,\"#de77ae\"],[0.3,\"#f1b6da\"],[0.4,\"#fde0ef\"],[0.5,\"#f7f7f7\"],[0.6,\"#e6f5d0\"],[0.7,\"#b8e186\"],[0.8,\"#7fbc41\"],[0.9,\"#4d9221\"],[1,\"#276419\"]]},\"xaxis\":{\"gridcolor\":\"white\",\"linecolor\":\"white\",\"ticks\":\"\",\"title\":{\"standoff\":15},\"zerolinecolor\":\"white\",\"automargin\":true,\"zerolinewidth\":2},\"yaxis\":{\"gridcolor\":\"white\",\"linecolor\":\"white\",\"ticks\":\"\",\"title\":{\"standoff\":15},\"zerolinecolor\":\"white\",\"automargin\":true,\"zerolinewidth\":2},\"scene\":{\"xaxis\":{\"backgroundcolor\":\"#E5ECF6\",\"gridcolor\":\"white\",\"linecolor\":\"white\",\"showbackground\":true,\"ticks\":\"\",\"zerolinecolor\":\"white\",\"gridwidth\":2},\"yaxis\":{\"backgroundcolor\":\"#E5ECF6\",\"gridcolor\":\"white\",\"linecolor\":\"white\",\"showbackground\":true,\"ticks\":\"\",\"zerolinecolor\":\"white\",\"gridwidth\":2},\"zaxis\":{\"backgroundcolor\":\"#E5ECF6\",\"gridcolor\":\"white\",\"linecolor\":\"white\",\"showbackground\":true,\"ticks\":\"\",\"zerolinecolor\":\"white\",\"gridwidth\":2}},\"shapedefaults\":{\"line\":{\"color\":\"#2a3f5f\"}},\"annotationdefaults\":{\"arrowcolor\":\"#2a3f5f\",\"arrowhead\":0,\"arrowwidth\":1},\"geo\":{\"bgcolor\":\"white\",\"landcolor\":\"#E5ECF6\",\"subunitcolor\":\"white\",\"showland\":true,\"showlakes\":true,\"lakecolor\":\"white\"},\"title\":{\"x\":0.05},\"mapbox\":{\"style\":\"light\"}}},\"margin\":{\"t\":0,\"r\":0,\"l\":0},\"height\":1000},                        {\"responsive\": true}                    ).then(function(){\n",
       "                            \n",
       "var gd = document.getElementById('2a923fcc-f394-4157-a0b9-ef06a050825c');\n",
       "var x = new MutationObserver(function (mutations, observer) {{\n",
       "        var display = window.getComputedStyle(gd).display;\n",
       "        if (!display || display === 'none') {{\n",
       "            console.log([gd, 'removed!']);\n",
       "            Plotly.purge(gd);\n",
       "            observer.disconnect();\n",
       "        }}\n",
       "}});\n",
       "\n",
       "// Listen for the removal of the full notebook cells\n",
       "var notebookContainer = gd.closest('#notebook-container');\n",
       "if (notebookContainer) {{\n",
       "    x.observe(notebookContainer, {childList: true});\n",
       "}}\n",
       "\n",
       "// Listen for the clearing of the current output cell\n",
       "var outputEl = gd.closest('.output');\n",
       "if (outputEl) {{\n",
       "    x.observe(outputEl, {childList: true});\n",
       "}}\n",
       "\n",
       "                        })                };                            </script>        </div>\n",
       "</body>\n",
       "</html>"
      ]
     },
     "metadata": {},
     "output_type": "display_data"
    }
   ],
   "source": [
    "# To establish connection\n",
    "init_notebook_mode(connected = True)\n",
    "  \n",
    "# type defined is choropleth to\n",
    "# plot geographical plots\n",
    "data = dict(type = 'choropleth',\n",
    "  \n",
    "            # locations\n",
    "            locations = locations,\n",
    "              \n",
    "            # States of USA\n",
    "            locationmode = 'USA-states',\n",
    "              \n",
    "            # colorscale can be added as per requirement\n",
    "            colorscale = 'redor',\n",
    "              \n",
    "            # text can be given anything you like\n",
    "            z = mean_price['price'],\n",
    "            colorbar = {'title': 'USD'})\n",
    "              \n",
    "layout = dict(geo ={'scope': 'usa'})\n",
    "\n",
    "# passing data dictionary as a list \n",
    "choromap = go.Figure(data = [data], layout = layout)\n",
    "\n",
    "choromap.update_layout(height=1000, margin=dict(t=0, r=0,  l=0))\n",
    "  \n",
    "# plotting graph\n",
    "iplot(choromap)\n",
    "\n",
    "\n",
    "choromap.show(renderer=\"colab\") \n"
   ]
  },
  {
   "cell_type": "code",
   "execution_count": 10,
   "id": "93920930",
   "metadata": {
    "execution": {
     "iopub.execute_input": "2023-04-26T11:09:30.426927Z",
     "iopub.status.busy": "2023-04-26T11:09:30.426279Z",
     "iopub.status.idle": "2023-04-26T11:09:30.851524Z",
     "shell.execute_reply": "2023-04-26T11:09:30.850514Z"
    },
    "id": "xQJN5XDDno5u",
    "outputId": "a3980443-dfa9-4f36-d46b-cfb3f60db4c3",
    "papermill": {
     "duration": 0.467442,
     "end_time": "2023-04-26T11:09:30.854204",
     "exception": false,
     "start_time": "2023-04-26T11:09:30.386762",
     "status": "completed"
    },
    "tags": []
   },
   "outputs": [
    {
     "data": {
      "text/plain": [
       "array([[<AxesSubplot:title={'center':'price'}>]], dtype=object)"
      ]
     },
     "execution_count": 10,
     "metadata": {},
     "output_type": "execute_result"
    },
    {
     "data": {
      "image/png": "[encoded data removed]",
      "text/plain": [
       "<Figure size 1080x1080 with 1 Axes>"
      ]
     },
     "metadata": {
      "needs_background": "light"
     },
     "output_type": "display_data"
    }
   ],
   "source": [
    "# Statistic of amount of proposal's request fund\n",
    "\n",
    "donor_data.hist(column='price', bins=100, figsize = (15,15))"
   ]
  },
  {
   "cell_type": "code",
   "execution_count": 11,
   "id": "919e2f82",
   "metadata": {
    "execution": {
     "iopub.execute_input": "2023-04-26T11:09:30.933824Z",
     "iopub.status.busy": "2023-04-26T11:09:30.933407Z",
     "iopub.status.idle": "2023-04-26T11:09:31.598621Z",
     "shell.execute_reply": "2023-04-26T11:09:31.597835Z"
    },
    "id": "yy8hNK-xxoyG",
    "outputId": "47902e88-9016-4609-9c87-64e79a29dd3f",
    "papermill": {
     "duration": 0.707213,
     "end_time": "2023-04-26T11:09:31.600560",
     "exception": false,
     "start_time": "2023-04-26T11:09:30.893347",
     "status": "completed"
    },
    "tags": []
   },
   "outputs": [
    {
     "data": {
      "text/plain": [
       "array([<AxesSubplot:title={'center':'0'}>,\n",
       "       <AxesSubplot:title={'center':'1'}>], dtype=object)"
      ]
     },
     "execution_count": 11,
     "metadata": {},
     "output_type": "execute_result"
    },
    {
     "data": {
      "image/png": "[encoded data removed]",
      "text/plain": [
       "<Figure size 1080x1080 with 2 Axes>"
      ]
     },
     "metadata": {
      "needs_background": "light"
     },
     "output_type": "display_data"
    }
   ],
   "source": [
    "# Funding Amount v/s Rate of Reject\n",
    "\n",
    "donor_data.hist(column='price', bins=100, by=donor_data['project_is_approved'], figsize = (15,15))"
   ]
  },
  {
   "cell_type": "markdown",
   "id": "55c650ee",
   "metadata": {
    "id": "RzEPdTqmC5ZA",
    "papermill": {
     "duration": 0.038806,
     "end_time": "2023-04-26T11:09:31.679523",
     "exception": false,
     "start_time": "2023-04-26T11:09:31.640717",
     "status": "completed"
    },
    "tags": []
   },
   "source": [
    "### Class label count."
   ]
  },
  {
   "cell_type": "code",
   "execution_count": 12,
   "id": "127b1c42",
   "metadata": {
    "execution": {
     "iopub.execute_input": "2023-04-26T11:09:31.760399Z",
     "iopub.status.busy": "2023-04-26T11:09:31.759843Z",
     "iopub.status.idle": "2023-04-26T11:09:31.767726Z",
     "shell.execute_reply": "2023-04-26T11:09:31.767036Z"
    },
    "id": "q59IBY7RDUIm",
    "outputId": "227f50e1-ae35-4f97-afd3-39f6da9078ec",
    "papermill": {
     "duration": 0.050087,
     "end_time": "2023-04-26T11:09:31.769709",
     "exception": false,
     "start_time": "2023-04-26T11:09:31.719622",
     "status": "completed"
    },
    "tags": []
   },
   "outputs": [
    {
     "data": {
      "text/plain": [
       "1    92706\n",
       "0    16542\n",
       "Name: project_is_approved, dtype: int64"
      ]
     },
     "execution_count": 12,
     "metadata": {},
     "output_type": "execute_result"
    }
   ],
   "source": [
    "# To get each class label count\n",
    "\n",
    "donor_data['project_is_approved'].value_counts()"
   ]
  },
  {
   "cell_type": "code",
   "execution_count": 13,
   "id": "16c572da",
   "metadata": {
    "execution": {
     "iopub.execute_input": "2023-04-26T11:09:31.851512Z",
     "iopub.status.busy": "2023-04-26T11:09:31.851049Z",
     "iopub.status.idle": "2023-04-26T11:09:31.977162Z",
     "shell.execute_reply": "2023-04-26T11:09:31.975390Z"
    },
    "id": "YYYmdWGddOnB",
    "outputId": "dd21f70e-6a08-4429-d324-de2a3d04e581",
    "papermill": {
     "duration": 0.172919,
     "end_time": "2023-04-26T11:09:31.982937",
     "exception": false,
     "start_time": "2023-04-26T11:09:31.810018",
     "status": "completed"
    },
    "tags": []
   },
   "outputs": [
    {
     "data": {
      "image/png": "[encoded data removed]",
      "text/plain": [
       "<Figure size 432x288 with 1 Axes>"
      ]
     },
     "metadata": {},
     "output_type": "display_data"
    }
   ],
   "source": [
    "# Pie chart showing each class (% of data distribution)\n",
    "\n",
    "x = donor_data['project_is_approved'].groupby(donor_data['project_is_approved']).count().index\n",
    "projects = donor_data['project_is_approved'].groupby(donor_data['project_is_approved']).count().values\n",
    "colors = [\"#d62728\",\"#1f77b4\"]\n",
    "plt.pie(projects, labels=x,  colors=colors , autopct='%1.1f%%', shadow=True, startangle=140)\n",
    "plt.title(\"% of Different categories\")\n",
    "plt.show()"
   ]
  },
  {
   "cell_type": "markdown",
   "id": "8662d787",
   "metadata": {
    "id": "XgxlSf5NpSjW",
    "papermill": {
     "duration": 0.039069,
     "end_time": "2023-04-26T11:09:32.109761",
     "exception": false,
     "start_time": "2023-04-26T11:09:32.070692",
     "status": "completed"
    },
    "tags": []
   },
   "source": [
    "Here we can see that 84.9% of the projects were approved while only 15.1% of the projects were not. Therefore, data is not balanced."
   ]
  },
  {
   "cell_type": "markdown",
   "id": "1f855f5e",
   "metadata": {
    "id": "_NU2CKrgDdLf",
    "papermill": {
     "duration": 0.039228,
     "end_time": "2023-04-26T11:09:32.188256",
     "exception": false,
     "start_time": "2023-04-26T11:09:32.149028",
     "status": "completed"
    },
    "tags": []
   },
   "source": [
    "# **Data Preparation**"
   ]
  },
  {
   "cell_type": "code",
   "execution_count": 14,
   "id": "24abdf08",
   "metadata": {
    "execution": {
     "iopub.execute_input": "2023-04-26T11:09:32.269399Z",
     "iopub.status.busy": "2023-04-26T11:09:32.268697Z",
     "iopub.status.idle": "2023-04-26T11:09:32.332842Z",
     "shell.execute_reply": "2023-04-26T11:09:32.331683Z"
    },
    "id": "cLXJY2Eq03Ip",
    "outputId": "85a8b59b-60f1-48dd-fe6b-8cf81473856f",
    "papermill": {
     "duration": 0.10754,
     "end_time": "2023-04-26T11:09:32.335099",
     "exception": false,
     "start_time": "2023-04-26T11:09:32.227559",
     "status": "completed"
    },
    "tags": []
   },
   "outputs": [
    {
     "name": "stdout",
     "output_type": "stream",
     "text": [
      "                Percentage_missing\n",
      "cleaned_titles             0.03936\n"
     ]
    }
   ],
   "source": [
    "# Identify NULL or Missing Values based on column\n",
    "\n",
    "percent_null = donor_data.isnull().sum() * 100 / len(donor_data)\n",
    "null_value_df = pd.DataFrame({'Percentage_missing': percent_null})\n",
    "# missing_value_df.sort_values('percent_missing', inplace=True)\n",
    "z = null_value_df[null_value_df['Percentage_missing'] > 0]\n",
    "if len(z.index) > 0:\n",
    "  print (z)\n",
    "else:\n",
    "  print(\"No null values\")"
   ]
  },
  {
   "cell_type": "code",
   "execution_count": 15,
   "id": "3e823f59",
   "metadata": {
    "execution": {
     "iopub.execute_input": "2023-04-26T11:09:32.416127Z",
     "iopub.status.busy": "2023-04-26T11:09:32.415695Z",
     "iopub.status.idle": "2023-04-26T11:09:32.508514Z",
     "shell.execute_reply": "2023-04-26T11:09:32.506826Z"
    },
    "id": "hADEVn964Iwi",
    "outputId": "964e7a8d-cb83-4040-e25a-cf6d36f37b89",
    "papermill": {
     "duration": 0.13564,
     "end_time": "2023-04-26T11:09:32.510878",
     "exception": false,
     "start_time": "2023-04-26T11:09:32.375238",
     "status": "completed"
    },
    "tags": []
   },
   "outputs": [
    {
     "name": "stdout",
     "output_type": "stream",
     "text": [
      "             id teacher_prefix school_state project_grade_category  \\\n",
      "0       p253737            mrs           in          grades_prek_2   \n",
      "1       p258326             mr           fl             grades_6_8   \n",
      "2       p182444             ms           az             grades_6_8   \n",
      "3       p246581            mrs           ky          grades_prek_2   \n",
      "4       p104768            mrs           tx          grades_prek_2   \n",
      "...         ...            ...          ...                    ...   \n",
      "109243  p048540             mr           mo          grades_prek_2   \n",
      "109244  p166281             ms           nj          grades_prek_2   \n",
      "109245  p155633            mrs           nj          grades_prek_2   \n",
      "109246  p206114            mrs           ny             grades_3_5   \n",
      "109247  p191189             ms           va             grades_6_8   \n",
      "\n",
      "            project_subject_categories   project_subject_subcategories  \\\n",
      "0                    literacy_language                    esl_literacy   \n",
      "1         history_civics_health_sports    civics_government_teamsports   \n",
      "2                        health_sports      health_wellness_teamsports   \n",
      "3       literacy_language_math_science            literacy_mathematics   \n",
      "4                         math_science                     mathematics   \n",
      "...                                ...                             ...   \n",
      "109243  literacy_language_math_science  literature_writing_mathematics   \n",
      "109244  literacy_language_math_science            literacy_mathematics   \n",
      "109245  literacy_language_math_science            literacy_mathematics   \n",
      "109246      health_sports_specialneeds    health_wellness_specialneeds   \n",
      "109247    appliedlearning_math_science  college_careerprep_mathematics   \n",
      "\n",
      "        teacher_number_of_previously_posted_projects  project_is_approved  \\\n",
      "0                                                  0                    0   \n",
      "1                                                  7                    1   \n",
      "2                                                  1                    0   \n",
      "3                                                  4                    1   \n",
      "4                                                  1                    1   \n",
      "...                                              ...                  ...   \n",
      "109243                                             0                    1   \n",
      "109244                                             0                    1   \n",
      "109245                                             3                    1   \n",
      "109246                                             0                    1   \n",
      "109247                                             0                    1   \n",
      "\n",
      "         price  quantity                                     cleaned_titles  \\\n",
      "0       154.60        23          educational support english learners home   \n",
      "1       299.00         1                   wanted projector hungry learners   \n",
      "2       516.85        22    soccer equipment awesome middle school students   \n",
      "3       232.90         4                             techie kindergarteners   \n",
      "4        67.98         4                             interactive math tools   \n",
      "...        ...       ...                                                ...   \n",
      "109243   59.98         8  privacy shields help promote independent thinking   \n",
      "109244  846.32         4                               technology classroom   \n",
      "109245  239.96         4                    2016 2017 beginning year basics   \n",
      "109246   73.05        16               flexible seating inclusive classroom   \n",
      "109247  109.90         5        classroom tech develop 21st century leaders   \n",
      "\n",
      "                                           cleaned_essays  \\\n",
      "0       students english learners working english seco...   \n",
      "1       students arrive school eager learn polite gene...   \n",
      "2       true champions not always ones win guts mia ha...   \n",
      "3       work unique school filled esl english second l...   \n",
      "4       second grade classroom next year made around 2...   \n",
      "...                                                   ...   \n",
      "109243  welcome mr ramos 2nd grade classroom title 1 s...   \n",
      "109244  every morning start day core values lead solel...   \n",
      "109245  great group sharing caring students multi grad...   \n",
      "109246  students live small rural community classroom ...   \n",
      "109247  last time used math probably within last hour ...   \n",
      "\n",
      "                                          cleaned_summary  isdigit_summary  \n",
      "0       students_need_opportunities_practice_beginning...                0  \n",
      "1       students_need_projector_help_viewing_education...                0  \n",
      "2       students_need_shine_guards_athletic_socks_socc...                0  \n",
      "3       students_need_engage_reading_math_way_inspire_...                0  \n",
      "4       students_need_hands_practice_mathematics_fun_p...                0  \n",
      "...                                                   ...              ...  \n",
      "109243  students_need_privacy_partitions_help_focus_be...                0  \n",
      "109244  students_need_two_ipad_protective_cases_enhanc...                0  \n",
      "109245  students_need_giant_comfy_pillows_order_help_r...                0  \n",
      "109246  students_need_flexible_seating_options_bean_ba...                0  \n",
      "109247  students_need_opportunities_work_technology_or...                1  \n",
      "\n",
      "[109205 rows x 14 columns]\n"
     ]
    }
   ],
   "source": [
    "# To drop all null or missing values\n",
    "\n",
    "donor_data_na = donor_data.dropna()\n",
    "print(donor_data_na)"
   ]
  },
  {
   "cell_type": "code",
   "execution_count": 16,
   "id": "3a30e72c",
   "metadata": {
    "execution": {
     "iopub.execute_input": "2023-04-26T11:09:32.593051Z",
     "iopub.status.busy": "2023-04-26T11:09:32.592639Z",
     "iopub.status.idle": "2023-04-26T11:09:32.644759Z",
     "shell.execute_reply": "2023-04-26T11:09:32.643215Z"
    },
    "id": "f5M9f2hZVjEA",
    "outputId": "85a3ce79-bca0-434d-c7a6-8a469d9b4bb7",
    "papermill": {
     "duration": 0.096456,
     "end_time": "2023-04-26T11:09:32.647941",
     "exception": false,
     "start_time": "2023-04-26T11:09:32.551485",
     "status": "completed"
    },
    "tags": []
   },
   "outputs": [
    {
     "name": "stderr",
     "output_type": "stream",
     "text": [
      "/opt/conda/lib/python3.7/site-packages/pandas/core/frame.py:3641: SettingWithCopyWarning:\n",
      "\n",
      "\n",
      "A value is trying to be set on a copy of a slice from a DataFrame.\n",
      "Try using .loc[row_indexer,col_indexer] = value instead\n",
      "\n",
      "See the caveats in the documentation: https://pandas.pydata.org/pandas-docs/stable/user_guide/indexing.html#returning-a-view-versus-a-copy\n",
      "\n"
     ]
    },
    {
     "data": {
      "text/html": [
       "<div>\n",
       "<style scoped>\n",
       "    .dataframe tbody tr th:only-of-type {\n",
       "        vertical-align: middle;\n",
       "    }\n",
       "\n",
       "    .dataframe tbody tr th {\n",
       "        vertical-align: top;\n",
       "    }\n",
       "\n",
       "    .dataframe thead th {\n",
       "        text-align: right;\n",
       "    }\n",
       "</style>\n",
       "<table border=\"1\" class=\"dataframe\">\n",
       "  <thead>\n",
       "    <tr style=\"text-align: right;\">\n",
       "      <th></th>\n",
       "      <th>id</th>\n",
       "      <th>teacher_prefix</th>\n",
       "      <th>school_state</th>\n",
       "      <th>project_grade_category</th>\n",
       "      <th>project_subject_categories</th>\n",
       "      <th>project_subject_subcategories</th>\n",
       "      <th>teacher_number_of_previously_posted_projects</th>\n",
       "      <th>project_is_approved</th>\n",
       "      <th>price</th>\n",
       "      <th>quantity</th>\n",
       "      <th>cleaned_titles</th>\n",
       "      <th>cleaned_essays</th>\n",
       "      <th>cleaned_summary</th>\n",
       "      <th>isdigit_summary</th>\n",
       "    </tr>\n",
       "  </thead>\n",
       "  <tbody>\n",
       "    <tr>\n",
       "      <th>0</th>\n",
       "      <td>p253737</td>\n",
       "      <td>mrs</td>\n",
       "      <td>in</td>\n",
       "      <td>grades_prek_2</td>\n",
       "      <td>literacy_language</td>\n",
       "      <td>esl_literacy</td>\n",
       "      <td>0.000000</td>\n",
       "      <td>0.0</td>\n",
       "      <td>0.015397</td>\n",
       "      <td>0.023681</td>\n",
       "      <td>educational support english learners home</td>\n",
       "      <td>students english learners working english seco...</td>\n",
       "      <td>students_need_opportunities_practice_beginning...</td>\n",
       "      <td>0.0</td>\n",
       "    </tr>\n",
       "    <tr>\n",
       "      <th>1</th>\n",
       "      <td>p258326</td>\n",
       "      <td>mr</td>\n",
       "      <td>fl</td>\n",
       "      <td>grades_6_8</td>\n",
       "      <td>history_civics_health_sports</td>\n",
       "      <td>civics_government_teamsports</td>\n",
       "      <td>0.015521</td>\n",
       "      <td>1.0</td>\n",
       "      <td>0.029839</td>\n",
       "      <td>0.000000</td>\n",
       "      <td>wanted projector hungry learners</td>\n",
       "      <td>students arrive school eager learn polite gene...</td>\n",
       "      <td>students_need_projector_help_viewing_education...</td>\n",
       "      <td>0.0</td>\n",
       "    </tr>\n",
       "    <tr>\n",
       "      <th>2</th>\n",
       "      <td>p182444</td>\n",
       "      <td>ms</td>\n",
       "      <td>az</td>\n",
       "      <td>grades_6_8</td>\n",
       "      <td>health_sports</td>\n",
       "      <td>health_wellness_teamsports</td>\n",
       "      <td>0.002217</td>\n",
       "      <td>0.0</td>\n",
       "      <td>0.051628</td>\n",
       "      <td>0.022605</td>\n",
       "      <td>soccer equipment awesome middle school students</td>\n",
       "      <td>true champions not always ones win guts mia ha...</td>\n",
       "      <td>students_need_shine_guards_athletic_socks_socc...</td>\n",
       "      <td>0.0</td>\n",
       "    </tr>\n",
       "    <tr>\n",
       "      <th>3</th>\n",
       "      <td>p246581</td>\n",
       "      <td>mrs</td>\n",
       "      <td>ky</td>\n",
       "      <td>grades_prek_2</td>\n",
       "      <td>literacy_language_math_science</td>\n",
       "      <td>literacy_mathematics</td>\n",
       "      <td>0.008869</td>\n",
       "      <td>1.0</td>\n",
       "      <td>0.023228</td>\n",
       "      <td>0.003229</td>\n",
       "      <td>techie kindergarteners</td>\n",
       "      <td>work unique school filled esl english second l...</td>\n",
       "      <td>students_need_engage_reading_math_way_inspire_...</td>\n",
       "      <td>0.0</td>\n",
       "    </tr>\n",
       "    <tr>\n",
       "      <th>4</th>\n",
       "      <td>p104768</td>\n",
       "      <td>mrs</td>\n",
       "      <td>tx</td>\n",
       "      <td>grades_prek_2</td>\n",
       "      <td>math_science</td>\n",
       "      <td>mathematics</td>\n",
       "      <td>0.002217</td>\n",
       "      <td>1.0</td>\n",
       "      <td>0.006733</td>\n",
       "      <td>0.003229</td>\n",
       "      <td>interactive math tools</td>\n",
       "      <td>second grade classroom next year made around 2...</td>\n",
       "      <td>students_need_hands_practice_mathematics_fun_p...</td>\n",
       "      <td>0.0</td>\n",
       "    </tr>\n",
       "    <tr>\n",
       "      <th>...</th>\n",
       "      <td>...</td>\n",
       "      <td>...</td>\n",
       "      <td>...</td>\n",
       "      <td>...</td>\n",
       "      <td>...</td>\n",
       "      <td>...</td>\n",
       "      <td>...</td>\n",
       "      <td>...</td>\n",
       "      <td>...</td>\n",
       "      <td>...</td>\n",
       "      <td>...</td>\n",
       "      <td>...</td>\n",
       "      <td>...</td>\n",
       "      <td>...</td>\n",
       "    </tr>\n",
       "    <tr>\n",
       "      <th>109243</th>\n",
       "      <td>p048540</td>\n",
       "      <td>mr</td>\n",
       "      <td>mo</td>\n",
       "      <td>grades_prek_2</td>\n",
       "      <td>literacy_language_math_science</td>\n",
       "      <td>literature_writing_mathematics</td>\n",
       "      <td>0.000000</td>\n",
       "      <td>1.0</td>\n",
       "      <td>0.005933</td>\n",
       "      <td>0.007535</td>\n",
       "      <td>privacy shields help promote independent thinking</td>\n",
       "      <td>welcome mr ramos 2nd grade classroom title 1 s...</td>\n",
       "      <td>students_need_privacy_partitions_help_focus_be...</td>\n",
       "      <td>0.0</td>\n",
       "    </tr>\n",
       "    <tr>\n",
       "      <th>109244</th>\n",
       "      <td>p166281</td>\n",
       "      <td>ms</td>\n",
       "      <td>nj</td>\n",
       "      <td>grades_prek_2</td>\n",
       "      <td>literacy_language_math_science</td>\n",
       "      <td>literacy_mathematics</td>\n",
       "      <td>0.000000</td>\n",
       "      <td>1.0</td>\n",
       "      <td>0.084580</td>\n",
       "      <td>0.003229</td>\n",
       "      <td>technology classroom</td>\n",
       "      <td>every morning start day core values lead solel...</td>\n",
       "      <td>students_need_two_ipad_protective_cases_enhanc...</td>\n",
       "      <td>0.0</td>\n",
       "    </tr>\n",
       "    <tr>\n",
       "      <th>109245</th>\n",
       "      <td>p155633</td>\n",
       "      <td>mrs</td>\n",
       "      <td>nj</td>\n",
       "      <td>grades_prek_2</td>\n",
       "      <td>literacy_language_math_science</td>\n",
       "      <td>literacy_mathematics</td>\n",
       "      <td>0.006652</td>\n",
       "      <td>1.0</td>\n",
       "      <td>0.023934</td>\n",
       "      <td>0.003229</td>\n",
       "      <td>2016 2017 beginning year basics</td>\n",
       "      <td>great group sharing caring students multi grad...</td>\n",
       "      <td>students_need_giant_comfy_pillows_order_help_r...</td>\n",
       "      <td>0.0</td>\n",
       "    </tr>\n",
       "    <tr>\n",
       "      <th>109246</th>\n",
       "      <td>p206114</td>\n",
       "      <td>mrs</td>\n",
       "      <td>ny</td>\n",
       "      <td>grades_3_5</td>\n",
       "      <td>health_sports_specialneeds</td>\n",
       "      <td>health_wellness_specialneeds</td>\n",
       "      <td>0.000000</td>\n",
       "      <td>1.0</td>\n",
       "      <td>0.007240</td>\n",
       "      <td>0.016146</td>\n",
       "      <td>flexible seating inclusive classroom</td>\n",
       "      <td>students live small rural community classroom ...</td>\n",
       "      <td>students_need_flexible_seating_options_bean_ba...</td>\n",
       "      <td>0.0</td>\n",
       "    </tr>\n",
       "    <tr>\n",
       "      <th>109247</th>\n",
       "      <td>p191189</td>\n",
       "      <td>ms</td>\n",
       "      <td>va</td>\n",
       "      <td>grades_6_8</td>\n",
       "      <td>appliedlearning_math_science</td>\n",
       "      <td>college_careerprep_mathematics</td>\n",
       "      <td>0.000000</td>\n",
       "      <td>1.0</td>\n",
       "      <td>0.010926</td>\n",
       "      <td>0.004306</td>\n",
       "      <td>classroom tech develop 21st century leaders</td>\n",
       "      <td>last time used math probably within last hour ...</td>\n",
       "      <td>students_need_opportunities_work_technology_or...</td>\n",
       "      <td>1.0</td>\n",
       "    </tr>\n",
       "  </tbody>\n",
       "</table>\n",
       "<p>109205 rows × 14 columns</p>\n",
       "</div>"
      ],
      "text/plain": [
       "             id teacher_prefix school_state project_grade_category  \\\n",
       "0       p253737            mrs           in          grades_prek_2   \n",
       "1       p258326             mr           fl             grades_6_8   \n",
       "2       p182444             ms           az             grades_6_8   \n",
       "3       p246581            mrs           ky          grades_prek_2   \n",
       "4       p104768            mrs           tx          grades_prek_2   \n",
       "...         ...            ...          ...                    ...   \n",
       "109243  p048540             mr           mo          grades_prek_2   \n",
       "109244  p166281             ms           nj          grades_prek_2   \n",
       "109245  p155633            mrs           nj          grades_prek_2   \n",
       "109246  p206114            mrs           ny             grades_3_5   \n",
       "109247  p191189             ms           va             grades_6_8   \n",
       "\n",
       "            project_subject_categories   project_subject_subcategories  \\\n",
       "0                    literacy_language                    esl_literacy   \n",
       "1         history_civics_health_sports    civics_government_teamsports   \n",
       "2                        health_sports      health_wellness_teamsports   \n",
       "3       literacy_language_math_science            literacy_mathematics   \n",
       "4                         math_science                     mathematics   \n",
       "...                                ...                             ...   \n",
       "109243  literacy_language_math_science  literature_writing_mathematics   \n",
       "109244  literacy_language_math_science            literacy_mathematics   \n",
       "109245  literacy_language_math_science            literacy_mathematics   \n",
       "109246      health_sports_specialneeds    health_wellness_specialneeds   \n",
       "109247    appliedlearning_math_science  college_careerprep_mathematics   \n",
       "\n",
       "        teacher_number_of_previously_posted_projects  project_is_approved  \\\n",
       "0                                           0.000000                  0.0   \n",
       "1                                           0.015521                  1.0   \n",
       "2                                           0.002217                  0.0   \n",
       "3                                           0.008869                  1.0   \n",
       "4                                           0.002217                  1.0   \n",
       "...                                              ...                  ...   \n",
       "109243                                      0.000000                  1.0   \n",
       "109244                                      0.000000                  1.0   \n",
       "109245                                      0.006652                  1.0   \n",
       "109246                                      0.000000                  1.0   \n",
       "109247                                      0.000000                  1.0   \n",
       "\n",
       "           price  quantity                                     cleaned_titles  \\\n",
       "0       0.015397  0.023681          educational support english learners home   \n",
       "1       0.029839  0.000000                   wanted projector hungry learners   \n",
       "2       0.051628  0.022605    soccer equipment awesome middle school students   \n",
       "3       0.023228  0.003229                             techie kindergarteners   \n",
       "4       0.006733  0.003229                             interactive math tools   \n",
       "...          ...       ...                                                ...   \n",
       "109243  0.005933  0.007535  privacy shields help promote independent thinking   \n",
       "109244  0.084580  0.003229                               technology classroom   \n",
       "109245  0.023934  0.003229                    2016 2017 beginning year basics   \n",
       "109246  0.007240  0.016146               flexible seating inclusive classroom   \n",
       "109247  0.010926  0.004306        classroom tech develop 21st century leaders   \n",
       "\n",
       "                                           cleaned_essays  \\\n",
       "0       students english learners working english seco...   \n",
       "1       students arrive school eager learn polite gene...   \n",
       "2       true champions not always ones win guts mia ha...   \n",
       "3       work unique school filled esl english second l...   \n",
       "4       second grade classroom next year made around 2...   \n",
       "...                                                   ...   \n",
       "109243  welcome mr ramos 2nd grade classroom title 1 s...   \n",
       "109244  every morning start day core values lead solel...   \n",
       "109245  great group sharing caring students multi grad...   \n",
       "109246  students live small rural community classroom ...   \n",
       "109247  last time used math probably within last hour ...   \n",
       "\n",
       "                                          cleaned_summary  isdigit_summary  \n",
       "0       students_need_opportunities_practice_beginning...              0.0  \n",
       "1       students_need_projector_help_viewing_education...              0.0  \n",
       "2       students_need_shine_guards_athletic_socks_socc...              0.0  \n",
       "3       students_need_engage_reading_math_way_inspire_...              0.0  \n",
       "4       students_need_hands_practice_mathematics_fun_p...              0.0  \n",
       "...                                                   ...              ...  \n",
       "109243  students_need_privacy_partitions_help_focus_be...              0.0  \n",
       "109244  students_need_two_ipad_protective_cases_enhanc...              0.0  \n",
       "109245  students_need_giant_comfy_pillows_order_help_r...              0.0  \n",
       "109246  students_need_flexible_seating_options_bean_ba...              0.0  \n",
       "109247  students_need_opportunities_work_technology_or...              1.0  \n",
       "\n",
       "[109205 rows x 14 columns]"
      ]
     },
     "execution_count": 16,
     "metadata": {},
     "output_type": "execute_result"
    }
   ],
   "source": [
    "# Normalised numeric columns\n",
    "\n",
    "df_num = donor_data_na.select_dtypes(include='number')\n",
    "df_norm = (df_num - df_num.min()) / (df_num.max() - df_num.min())\n",
    "donor_data_na[df_norm.columns] = df_norm\n",
    "donor_data_na"
   ]
  },
  {
   "cell_type": "code",
   "execution_count": 17,
   "id": "3b9785d1",
   "metadata": {
    "execution": {
     "iopub.execute_input": "2023-04-26T11:09:32.731156Z",
     "iopub.status.busy": "2023-04-26T11:09:32.730734Z",
     "iopub.status.idle": "2023-04-26T11:09:32.758579Z",
     "shell.execute_reply": "2023-04-26T11:09:32.757454Z"
    },
    "id": "b_e46nIfo9tK",
    "papermill": {
     "duration": 0.072614,
     "end_time": "2023-04-26T11:09:32.761455",
     "exception": false,
     "start_time": "2023-04-26T11:09:32.688841",
     "status": "completed"
    },
    "tags": []
   },
   "outputs": [],
   "source": [
    "# Changed data type of boolean columns\n",
    "\n",
    "donor_data_na = donor_data_na.astype({\"isdigit_summary\": bool, \"project_is_approved\": bool})"
   ]
  },
  {
   "cell_type": "markdown",
   "id": "3c4ebd34",
   "metadata": {
    "id": "Qg8a-gGYKgSb",
    "papermill": {
     "duration": 0.041635,
     "end_time": "2023-04-26T11:09:32.844694",
     "exception": false,
     "start_time": "2023-04-26T11:09:32.803059",
     "status": "completed"
    },
    "tags": []
   },
   "source": [
    "### **CASE: 1 - Dataset split into training and test sets. (Train:80, Test:20)**\n",
    " Train = 80 % Test = 20% [ x_train1,y_train1] = 80% ; [ x_test1,y_test1] = 20% ;"
   ]
  },
  {
   "cell_type": "code",
   "execution_count": 18,
   "id": "f471d41c",
   "metadata": {
    "execution": {
     "iopub.execute_input": "2023-04-26T11:09:32.929952Z",
     "iopub.status.busy": "2023-04-26T11:09:32.928964Z",
     "iopub.status.idle": "2023-04-26T11:09:33.027238Z",
     "shell.execute_reply": "2023-04-26T11:09:33.026375Z"
    },
    "id": "Nue_egvRQbDn",
    "outputId": "9e3d8457-4c57-4d0a-ff47-ce5c5b4d2c20",
    "papermill": {
     "duration": 0.142977,
     "end_time": "2023-04-26T11:09:33.029450",
     "exception": false,
     "start_time": "2023-04-26T11:09:32.886473",
     "status": "completed"
    },
    "tags": []
   },
   "outputs": [
    {
     "data": {
      "text/plain": [
       "38241     True\n",
       "74319     True\n",
       "107279    True\n",
       "102341    True\n",
       "83738     True\n",
       "Name: project_is_approved, dtype: bool"
      ]
     },
     "execution_count": 18,
     "metadata": {},
     "output_type": "execute_result"
    }
   ],
   "source": [
    "feature_cols = donor_data_na.drop(['project_is_approved'], axis = 1).columns\n",
    "x = donor_data_na[feature_cols]\n",
    "y = donor_data_na['project_is_approved']\n",
    "y.sample(5)"
   ]
  },
  {
   "cell_type": "code",
   "execution_count": 19,
   "id": "f9abf75d",
   "metadata": {
    "execution": {
     "iopub.execute_input": "2023-04-26T11:09:33.114205Z",
     "iopub.status.busy": "2023-04-26T11:09:33.113149Z",
     "iopub.status.idle": "2023-04-26T11:09:33.180585Z",
     "shell.execute_reply": "2023-04-26T11:09:33.179520Z"
    },
    "id": "l_uQMHbPMQoh",
    "papermill": {
     "duration": 0.112347,
     "end_time": "2023-04-26T11:09:33.183086",
     "exception": false,
     "start_time": "2023-04-26T11:09:33.070739",
     "status": "completed"
    },
    "tags": []
   },
   "outputs": [],
   "source": [
    "X_train_case1, X_test_case1, y_train_case1, y_test_case1 = train_test_split(x, y, test_size = 0.2)"
   ]
  },
  {
   "cell_type": "markdown",
   "id": "f2146a26",
   "metadata": {
    "id": "sKTuzUZ3FwIV",
    "papermill": {
     "duration": 0.040935,
     "end_time": "2023-04-26T11:09:33.266122",
     "exception": false,
     "start_time": "2023-04-26T11:09:33.225187",
     "status": "completed"
    },
    "tags": []
   },
   "source": [
    "## **Encoding**\n",
    "### **Encoding Subject Categories column**"
   ]
  },
  {
   "cell_type": "code",
   "execution_count": 20,
   "id": "72ebc3a5",
   "metadata": {
    "execution": {
     "iopub.execute_input": "2023-04-26T11:09:33.351451Z",
     "iopub.status.busy": "2023-04-26T11:09:33.350997Z",
     "iopub.status.idle": "2023-04-26T11:09:34.052415Z",
     "shell.execute_reply": "2023-04-26T11:09:34.050921Z"
    },
    "id": "4O1Ozas4FzTu",
    "outputId": "e608a712-c7d7-4c0b-dfc7-d7f46cd61a58",
    "papermill": {
     "duration": 0.746174,
     "end_time": "2023-04-26T11:09:34.054760",
     "exception": false,
     "start_time": "2023-04-26T11:09:33.308586",
     "status": "completed"
    },
    "tags": []
   },
   "outputs": [
    {
     "name": "stdout",
     "output_type": "stream",
     "text": [
      "['appliedlearning' 'appliedlearning_health_sports'\n",
      " 'appliedlearning_history_civics' 'appliedlearning_literacy_language'\n",
      " 'appliedlearning_math_science' 'appliedlearning_music_arts'\n",
      " 'appliedlearning_specialneeds' 'appliedlearning_warmth_care_hunger'\n",
      " 'health_sports' 'health_sports_appliedlearning'\n",
      " 'health_sports_history_civics' 'health_sports_literacy_language'\n",
      " 'health_sports_math_science' 'health_sports_music_arts'\n",
      " 'health_sports_specialneeds' 'health_sports_warmth_care_hunger'\n",
      " 'history_civics' 'history_civics_appliedlearning'\n",
      " 'history_civics_health_sports' 'history_civics_literacy_language'\n",
      " 'history_civics_math_science' 'history_civics_music_arts'\n",
      " 'history_civics_specialneeds' 'literacy_language'\n",
      " 'literacy_language_appliedlearning' 'literacy_language_health_sports'\n",
      " 'literacy_language_history_civics' 'literacy_language_math_science'\n",
      " 'literacy_language_music_arts' 'literacy_language_specialneeds'\n",
      " 'literacy_language_warmth_care_hunger' 'math_science'\n",
      " 'math_science_appliedlearning' 'math_science_health_sports'\n",
      " 'math_science_history_civics' 'math_science_literacy_language'\n",
      " 'math_science_music_arts' 'math_science_specialneeds'\n",
      " 'math_science_warmth_care_hunger' 'music_arts'\n",
      " 'music_arts_appliedlearning' 'music_arts_health_sports'\n",
      " 'music_arts_history_civics' 'music_arts_specialneeds'\n",
      " 'music_arts_warmth_care_hunger' 'specialneeds'\n",
      " 'specialneeds_health_sports' 'specialneeds_music_arts'\n",
      " 'specialneeds_warmth_care_hunger' 'warmth_care_hunger']\n",
      "Shape of matrix after one hot encoding -> categories: X_train_case1:  (87364, 50)\n",
      "Shape of matrix after one hot encoding -> categories: X_test_Case1 :  (21841, 50)\n"
     ]
    }
   ],
   "source": [
    "vectorizer_sub = CountVectorizer( lowercase=False, binary=True)\n",
    "vectorizer_sub.fit(X_train_case1['project_subject_categories'].values)\n",
    "\n",
    "x_train_case1_categories = vectorizer_sub.transform(X_train_case1['project_subject_categories'].values)\n",
    "x_test_case1_categories  = vectorizer_sub.transform(X_test_case1['project_subject_categories'].values)\n",
    "\n",
    "print(vectorizer_sub.get_feature_names_out())\n",
    "print(\"Shape of matrix after one hot encoding -> categories: X_train_case1: \",x_train_case1_categories.shape)\n",
    "print(\"Shape of matrix after one hot encoding -> categories: X_test_Case1 : \",x_test_case1_categories.shape)"
   ]
  },
  {
   "cell_type": "markdown",
   "id": "00b815f2",
   "metadata": {
    "id": "HawmEw_zGBSA",
    "papermill": {
     "duration": 0.042128,
     "end_time": "2023-04-26T11:09:34.140122",
     "exception": false,
     "start_time": "2023-04-26T11:09:34.097994",
     "status": "completed"
    },
    "tags": []
   },
   "source": [
    "### **Encoding project_subject_subcategories**"
   ]
  },
  {
   "cell_type": "code",
   "execution_count": 21,
   "id": "969c297b",
   "metadata": {
    "execution": {
     "iopub.execute_input": "2023-04-26T11:09:34.225239Z",
     "iopub.status.busy": "2023-04-26T11:09:34.224658Z",
     "iopub.status.idle": "2023-04-26T11:09:34.920717Z",
     "shell.execute_reply": "2023-04-26T11:09:34.919645Z"
    },
    "id": "eNPHq5PvGCXx",
    "outputId": "a86bc77d-0ad0-47f9-e985-171ce8f248b5",
    "papermill": {
     "duration": 0.742582,
     "end_time": "2023-04-26T11:09:34.923736",
     "exception": false,
     "start_time": "2023-04-26T11:09:34.181154",
     "status": "completed"
    },
    "tags": []
   },
   "outputs": [
    {
     "name": "stdout",
     "output_type": "stream",
     "text": [
      "['appliedsciences', 'appliedsciences_charactereducation', 'appliedsciences_civics_government', 'appliedsciences_college_careerprep', 'appliedsciences_communityservice', 'appliedsciences_earlydevelopment', 'appliedsciences_economics', 'appliedsciences_environmentalscience', 'appliedsciences_esl', 'appliedsciences_extracurricular', 'appliedsciences_financialliteracy', 'appliedsciences_foreignlanguages', 'appliedsciences_gym_fitness', 'appliedsciences_health_lifescience', 'appliedsciences_health_wellness', 'appliedsciences_history_geography', 'appliedsciences_literacy', 'appliedsciences_literature_writing', 'appliedsciences_mathematics', 'appliedsciences_music', 'appliedsciences_nutritioneducation', 'appliedsciences_other', 'appliedsciences_parentinvolvement', 'appliedsciences_performingarts', 'appliedsciences_socialsciences', 'appliedsciences_specialneeds', 'appliedsciences_teamsports', 'appliedsciences_visualarts', 'appliedsciences_warmth_care_hunger', 'charactereducation', 'charactereducation_civics_government', 'charactereducation_college_careerprep', 'charactereducation_communityservice', 'charactereducation_earlydevelopment', 'charactereducation_economics', 'charactereducation_environmentalscience', 'charactereducation_esl', 'charactereducation_extracurricular', 'charactereducation_financialliteracy', 'charactereducation_foreignlanguages', 'charactereducation_gym_fitness', 'charactereducation_health_lifescience', 'charactereducation_health_wellness', 'charactereducation_history_geography', 'charactereducation_literacy', 'charactereducation_literature_writing', 'charactereducation_mathematics', 'charactereducation_music', 'charactereducation_nutritioneducation', 'charactereducation_other', 'charactereducation_parentinvolvement', 'charactereducation_performingarts', 'charactereducation_socialsciences', 'charactereducation_specialneeds', 'charactereducation_teamsports', 'charactereducation_visualarts', 'charactereducation_warmth_care_hunger', 'civics_government', 'civics_government_college_careerprep', 'civics_government_communityservice', 'civics_government_economics', 'civics_government_environmentalscience', 'civics_government_esl', 'civics_government_extracurricular', 'civics_government_financialliteracy', 'civics_government_foreignlanguages', 'civics_government_health_lifescience', 'civics_government_health_wellness', 'civics_government_history_geography', 'civics_government_literacy', 'civics_government_literature_writing', 'civics_government_mathematics', 'civics_government_nutritioneducation', 'civics_government_parentinvolvement', 'civics_government_performingarts', 'civics_government_socialsciences', 'civics_government_specialneeds', 'civics_government_teamsports', 'civics_government_visualarts', 'college_careerprep', 'college_careerprep_communityservice', 'college_careerprep_earlydevelopment', 'college_careerprep_economics', 'college_careerprep_environmentalscience', 'college_careerprep_esl', 'college_careerprep_extracurricular', 'college_careerprep_financialliteracy', 'college_careerprep_foreignlanguages', 'college_careerprep_gym_fitness', 'college_careerprep_health_lifescience', 'college_careerprep_health_wellness', 'college_careerprep_history_geography', 'college_careerprep_literacy', 'college_careerprep_literature_writing', 'college_careerprep_mathematics', 'college_careerprep_music', 'college_careerprep_nutritioneducation', 'college_careerprep_other', 'college_careerprep_parentinvolvement', 'college_careerprep_performingarts', 'college_careerprep_socialsciences', 'college_careerprep_specialneeds', 'college_careerprep_visualarts', 'college_careerprep_warmth_care_hunger', 'communityservice', 'communityservice_earlydevelopment', 'communityservice_economics', 'communityservice_environmentalscience', 'communityservice_esl', 'communityservice_extracurricular', 'communityservice_gym_fitness', 'communityservice_health_lifescience', 'communityservice_health_wellness', 'communityservice_history_geography', 'communityservice_literacy', 'communityservice_literature_writing', 'communityservice_mathematics', 'communityservice_music', 'communityservice_nutritioneducation', 'communityservice_other', 'communityservice_parentinvolvement', 'communityservice_performingarts', 'communityservice_socialsciences', 'communityservice_specialneeds', 'communityservice_visualarts', 'earlydevelopment', 'earlydevelopment_economics', 'earlydevelopment_environmentalscience', 'earlydevelopment_extracurricular', 'earlydevelopment_financialliteracy', 'earlydevelopment_foreignlanguages', 'earlydevelopment_gym_fitness', 'earlydevelopment_health_lifescience', 'earlydevelopment_health_wellness', 'earlydevelopment_history_geography', 'earlydevelopment_literacy', 'earlydevelopment_literature_writing', 'earlydevelopment_mathematics', 'earlydevelopment_music', 'earlydevelopment_nutritioneducation', 'earlydevelopment_other', 'earlydevelopment_parentinvolvement', 'earlydevelopment_performingarts', 'earlydevelopment_socialsciences', 'earlydevelopment_specialneeds', 'earlydevelopment_teamsports', 'earlydevelopment_visualarts', 'earlydevelopment_warmth_care_hunger', 'economics', 'economics_environmentalscience', 'economics_financialliteracy', 'economics_foreignlanguages', 'economics_health_lifescience', 'economics_history_geography', 'economics_literacy', 'economics_mathematics', 'economics_music', 'economics_nutritioneducation', 'economics_other', 'economics_socialsciences', 'economics_specialneeds', 'economics_visualarts', 'environmentalscience', 'environmentalscience_extracurricular', 'environmentalscience_financialliteracy', 'environmentalscience_foreignlanguages', 'environmentalscience_gym_fitness', 'environmentalscience_health_lifescience', 'environmentalscience_health_wellness', 'environmentalscience_history_geography', 'environmentalscience_literacy', 'environmentalscience_literature_writing', 'environmentalscience_mathematics', 'environmentalscience_music', 'environmentalscience_nutritioneducation', 'environmentalscience_other', 'environmentalscience_parentinvolvement', 'environmentalscience_performingarts', 'environmentalscience_socialsciences', 'environmentalscience_specialneeds', 'environmentalscience_teamsports', 'environmentalscience_visualarts', 'environmentalscience_warmth_care_hunger', 'esl', 'esl_earlydevelopment', 'esl_economics', 'esl_environmentalscience', 'esl_extracurricular', 'esl_financialliteracy', 'esl_foreignlanguages', 'esl_gym_fitness', 'esl_health_lifescience', 'esl_health_wellness', 'esl_history_geography', 'esl_literacy', 'esl_literature_writing', 'esl_mathematics', 'esl_music', 'esl_nutritioneducation', 'esl_other', 'esl_parentinvolvement', 'esl_performingarts', 'esl_socialsciences', 'esl_specialneeds', 'esl_teamsports', 'esl_visualarts', 'extracurricular', 'extracurricular_financialliteracy', 'extracurricular_foreignlanguages', 'extracurricular_gym_fitness', 'extracurricular_health_lifescience', 'extracurricular_health_wellness', 'extracurricular_history_geography', 'extracurricular_literacy', 'extracurricular_literature_writing', 'extracurricular_mathematics', 'extracurricular_music', 'extracurricular_nutritioneducation', 'extracurricular_other', 'extracurricular_parentinvolvement', 'extracurricular_performingarts', 'extracurricular_socialsciences', 'extracurricular_specialneeds', 'extracurricular_teamsports', 'extracurricular_visualarts', 'financialliteracy', 'financialliteracy_health_lifescience', 'financialliteracy_health_wellness', 'financialliteracy_history_geography', 'financialliteracy_literacy', 'financialliteracy_literature_writing', 'financialliteracy_mathematics', 'financialliteracy_other', 'financialliteracy_parentinvolvement', 'financialliteracy_performingarts', 'financialliteracy_socialsciences', 'financialliteracy_specialneeds', 'financialliteracy_visualarts', 'foreignlanguages', 'foreignlanguages_gym_fitness', 'foreignlanguages_health_lifescience', 'foreignlanguages_health_wellness', 'foreignlanguages_history_geography', 'foreignlanguages_literacy', 'foreignlanguages_literature_writing', 'foreignlanguages_mathematics', 'foreignlanguages_music', 'foreignlanguages_other', 'foreignlanguages_performingarts', 'foreignlanguages_socialsciences', 'foreignlanguages_specialneeds', 'foreignlanguages_visualarts', 'gym_fitness', 'gym_fitness_health_lifescience', 'gym_fitness_health_wellness', 'gym_fitness_history_geography', 'gym_fitness_literacy', 'gym_fitness_literature_writing', 'gym_fitness_mathematics', 'gym_fitness_music', 'gym_fitness_nutritioneducation', 'gym_fitness_other', 'gym_fitness_performingarts', 'gym_fitness_socialsciences', 'gym_fitness_specialneeds', 'gym_fitness_teamsports', 'gym_fitness_visualarts', 'gym_fitness_warmth_care_hunger', 'health_lifescience', 'health_lifescience_health_wellness', 'health_lifescience_history_geography', 'health_lifescience_literacy', 'health_lifescience_literature_writing', 'health_lifescience_mathematics', 'health_lifescience_music', 'health_lifescience_nutritioneducation', 'health_lifescience_other', 'health_lifescience_parentinvolvement', 'health_lifescience_performingarts', 'health_lifescience_socialsciences', 'health_lifescience_specialneeds', 'health_lifescience_teamsports', 'health_lifescience_visualarts', 'health_lifescience_warmth_care_hunger', 'health_wellness', 'health_wellness_history_geography', 'health_wellness_literacy', 'health_wellness_literature_writing', 'health_wellness_mathematics', 'health_wellness_music', 'health_wellness_nutritioneducation', 'health_wellness_other', 'health_wellness_parentinvolvement', 'health_wellness_performingarts', 'health_wellness_socialsciences', 'health_wellness_specialneeds', 'health_wellness_teamsports', 'health_wellness_visualarts', 'health_wellness_warmth_care_hunger', 'history_geography', 'history_geography_literacy', 'history_geography_literature_writing', 'history_geography_mathematics', 'history_geography_music', 'history_geography_other', 'history_geography_parentinvolvement', 'history_geography_performingarts', 'history_geography_socialsciences', 'history_geography_specialneeds', 'history_geography_teamsports', 'history_geography_visualarts', 'literacy', 'literacy_literature_writing', 'literacy_mathematics', 'literacy_music', 'literacy_nutritioneducation', 'literacy_other', 'literacy_parentinvolvement', 'literacy_performingarts', 'literacy_socialsciences', 'literacy_specialneeds', 'literacy_teamsports', 'literacy_visualarts', 'literacy_warmth_care_hunger', 'literature_writing', 'literature_writing_mathematics', 'literature_writing_music', 'literature_writing_nutritioneducation', 'literature_writing_other', 'literature_writing_parentinvolvement', 'literature_writing_performingarts', 'literature_writing_socialsciences', 'literature_writing_specialneeds', 'literature_writing_teamsports', 'literature_writing_visualarts', 'literature_writing_warmth_care_hunger', 'mathematics', 'mathematics_music', 'mathematics_nutritioneducation', 'mathematics_other', 'mathematics_parentinvolvement', 'mathematics_performingarts', 'mathematics_socialsciences', 'mathematics_specialneeds', 'mathematics_teamsports', 'mathematics_visualarts', 'mathematics_warmth_care_hunger', 'music', 'music_other', 'music_parentinvolvement', 'music_performingarts', 'music_socialsciences', 'music_specialneeds', 'music_teamsports', 'music_visualarts', 'nutritioneducation', 'nutritioneducation_other', 'nutritioneducation_socialsciences', 'nutritioneducation_specialneeds', 'nutritioneducation_teamsports', 'nutritioneducation_visualarts', 'nutritioneducation_warmth_care_hunger', 'other', 'other_parentinvolvement', 'other_performingarts', 'other_socialsciences', 'other_specialneeds', 'other_teamsports', 'other_visualarts', 'other_warmth_care_hunger', 'parentinvolvement', 'parentinvolvement_performingarts', 'parentinvolvement_socialsciences', 'parentinvolvement_specialneeds', 'parentinvolvement_teamsports', 'parentinvolvement_visualarts', 'parentinvolvement_warmth_care_hunger', 'performingarts', 'performingarts_socialsciences', 'performingarts_specialneeds', 'performingarts_teamsports', 'performingarts_visualarts', 'socialsciences', 'socialsciences_specialneeds', 'socialsciences_teamsports', 'socialsciences_visualarts', 'specialneeds', 'specialneeds_teamsports', 'specialneeds_visualarts', 'specialneeds_warmth_care_hunger', 'teamsports', 'teamsports_visualarts', 'visualarts', 'visualarts_warmth_care_hunger', 'warmth_care_hunger']\n",
      "Shape of matrix after one hot encoding -> sub_categories: X_train_case1:  (87364, 395)\n",
      "Shape of matrix after one hot encoding -> sub_categories: X_test_Case1 :  (21841, 395)\n"
     ]
    },
    {
     "name": "stderr",
     "output_type": "stream",
     "text": [
      "/opt/conda/lib/python3.7/site-packages/sklearn/utils/deprecation.py:87: FutureWarning:\n",
      "\n",
      "Function get_feature_names is deprecated; get_feature_names is deprecated in 1.0 and will be removed in 1.2. Please use get_feature_names_out instead.\n",
      "\n"
     ]
    }
   ],
   "source": [
    "vectorizer_sub = CountVectorizer( lowercase=False, binary=True)\n",
    "\n",
    "vectorizer_sub.fit(X_train_case1['project_subject_subcategories'].values)\n",
    "\n",
    "x_train_case1_sub_categories = vectorizer_sub.transform(X_train_case1['project_subject_subcategories'].values)\n",
    "x_test_case1_sub_categories  = vectorizer_sub.transform(X_test_case1['project_subject_subcategories'].values)\n",
    "\n",
    "\n",
    "print(vectorizer_sub.get_feature_names())\n",
    "\n",
    "print(\"Shape of matrix after one hot encoding -> sub_categories: X_train_case1: \",x_train_case1_sub_categories.shape)\n",
    "print(\"Shape of matrix after one hot encoding -> sub_categories: X_test_Case1 : \",x_test_case1_sub_categories.shape)"
   ]
  },
  {
   "cell_type": "markdown",
   "id": "08cebf1e",
   "metadata": {
    "id": "8fJRUI2mGHhx",
    "papermill": {
     "duration": 0.042974,
     "end_time": "2023-04-26T11:09:35.009022",
     "exception": false,
     "start_time": "2023-04-26T11:09:34.966048",
     "status": "completed"
    },
    "tags": []
   },
   "source": [
    "### **Encoding School State**"
   ]
  },
  {
   "cell_type": "code",
   "execution_count": 22,
   "id": "4ae03272",
   "metadata": {
    "execution": {
     "iopub.execute_input": "2023-04-26T11:09:35.098151Z",
     "iopub.status.busy": "2023-04-26T11:09:35.097737Z",
     "iopub.status.idle": "2023-04-26T11:09:35.987738Z",
     "shell.execute_reply": "2023-04-26T11:09:35.986454Z"
    },
    "id": "sscqvhIoGIk5",
    "outputId": "ca446c0c-61d1-46bc-a2bb-9b66f0d5a036",
    "papermill": {
     "duration": 0.93848,
     "end_time": "2023-04-26T11:09:35.990160",
     "exception": false,
     "start_time": "2023-04-26T11:09:35.051680",
     "status": "completed"
    },
    "tags": []
   },
   "outputs": [
    {
     "name": "stdout",
     "output_type": "stream",
     "text": [
      "['ak', 'al', 'ar', 'az', 'ca', 'co', 'ct', 'dc', 'de', 'fl', 'ga', 'hi', 'ia', 'id', 'il', 'in', 'ks', 'ky', 'la', 'ma', 'md', 'me', 'mi', 'mn', 'mo', 'ms', 'mt', 'nc', 'nd', 'ne', 'nh', 'nj', 'nm', 'nv', 'ny', 'oh', 'ok', 'or', 'pa', 'ri', 'sc', 'sd', 'tn', 'tx', 'ut', 'va', 'vt', 'wa', 'wi', 'wv', 'wy']\n",
      "Shape of matrix after one hot encoding -> school_state: x_train:  (87364, 51)\n",
      "Shape of matrix after one hot encoding -> school_state: x_test :  (21841, 51)\n"
     ]
    }
   ],
   "source": [
    "my_counter = Counter()\n",
    "for state in donor_data_na['school_state'].values:\n",
    "    my_counter.update(state.split())\n",
    "school_state_cat_dict = dict(my_counter)\n",
    "sorted_school_state_cat_dict = dict(sorted(school_state_cat_dict.items(), key=lambda kv: kv[1]))\n",
    "from scipy import sparse \n",
    "statelist=list(donor_data_na['school_state'].values)\n",
    "vectorizer_state = CountVectorizer( lowercase=False, binary=True)\n",
    "\n",
    "vectorizer_state.fit(X_train_case1['school_state'])\n",
    "\n",
    "x_train_case1_school_state = vectorizer_state.transform(X_train_case1['school_state'].values)\n",
    "x_test_case1_school_state  = vectorizer_state.transform(X_test_case1['school_state'].values)\n",
    "\n",
    "print(vectorizer_state.get_feature_names())\n",
    "\n",
    "print(\"Shape of matrix after one hot encoding -> school_state: x_train: \",x_train_case1_school_state.shape)\n",
    "print(\"Shape of matrix after one hot encoding -> school_state: x_test : \",x_test_case1_school_state.shape)"
   ]
  },
  {
   "cell_type": "markdown",
   "id": "7b666f7b",
   "metadata": {
    "id": "sn1WPexMGOpS",
    "papermill": {
     "duration": 0.042056,
     "end_time": "2023-04-26T11:09:36.077631",
     "exception": false,
     "start_time": "2023-04-26T11:09:36.035575",
     "status": "completed"
    },
    "tags": []
   },
   "source": [
    "### **Encoding Teacher Prefix**"
   ]
  },
  {
   "cell_type": "code",
   "execution_count": 23,
   "id": "54ccf653",
   "metadata": {
    "execution": {
     "iopub.execute_input": "2023-04-26T11:09:36.165018Z",
     "iopub.status.busy": "2023-04-26T11:09:36.164602Z",
     "iopub.status.idle": "2023-04-26T11:09:36.420296Z",
     "shell.execute_reply": "2023-04-26T11:09:36.419351Z"
    },
    "id": "m7RSVtMYGRbq",
    "papermill": {
     "duration": 0.303799,
     "end_time": "2023-04-26T11:09:36.422742",
     "exception": false,
     "start_time": "2023-04-26T11:09:36.118943",
     "status": "completed"
    },
    "tags": []
   },
   "outputs": [],
   "source": [
    "my_counter = Counter()\n",
    "for teacher_prefix in donor_data_na['teacher_prefix'].values:\n",
    "    teacher_prefix = str(teacher_prefix).lower().replace('.','').strip()\n",
    "    \n",
    "    my_counter.update(teacher_prefix.split())\n",
    "teacher_prefix_cat_dict = dict(my_counter)\n",
    "sorted_teacher_prefix_cat_dict = dict(sorted(teacher_prefix_cat_dict.items(), key=lambda kv: kv[1]))"
   ]
  },
  {
   "cell_type": "code",
   "execution_count": 24,
   "id": "d51281ce",
   "metadata": {
    "execution": {
     "iopub.execute_input": "2023-04-26T11:09:36.510763Z",
     "iopub.status.busy": "2023-04-26T11:09:36.510342Z",
     "iopub.status.idle": "2023-04-26T11:09:36.515911Z",
     "shell.execute_reply": "2023-04-26T11:09:36.515146Z"
    },
    "id": "N8mFXwBKGWKa",
    "outputId": "5132af27-b949-4a5d-9461-b6cd7aa8708e",
    "papermill": {
     "duration": 0.052395,
     "end_time": "2023-04-26T11:09:36.517875",
     "exception": false,
     "start_time": "2023-04-26T11:09:36.465480",
     "status": "completed"
    },
    "tags": []
   },
   "outputs": [
    {
     "data": {
      "text/plain": [
       "dict_keys(['dr', 'teacher', 'mr', 'ms', 'mrs'])"
      ]
     },
     "execution_count": 24,
     "metadata": {},
     "output_type": "execute_result"
    }
   ],
   "source": [
    "sorted_teacher_prefix_cat_dict.keys()"
   ]
  },
  {
   "cell_type": "code",
   "execution_count": 25,
   "id": "d320b32e",
   "metadata": {
    "execution": {
     "iopub.execute_input": "2023-04-26T11:09:36.604810Z",
     "iopub.status.busy": "2023-04-26T11:09:36.604063Z",
     "iopub.status.idle": "2023-04-26T11:09:37.248725Z",
     "shell.execute_reply": "2023-04-26T11:09:37.247266Z"
    },
    "id": "Q1_R9lbiGcOK",
    "outputId": "eb4a1c5d-cd24-405a-a286-7d7520f32733",
    "papermill": {
     "duration": 0.691241,
     "end_time": "2023-04-26T11:09:37.251364",
     "exception": false,
     "start_time": "2023-04-26T11:09:36.560123",
     "status": "completed"
    },
    "tags": []
   },
   "outputs": [
    {
     "name": "stdout",
     "output_type": "stream",
     "text": [
      "['dr', 'mr', 'mrs', 'ms', 'teacher']\n",
      "Shape of matrix after one hot encoding -> prefix: x_train:  (87364, 5)\n",
      "Shape of matrix after one hot encoding -> prefix: x_test :  (21841, 5)\n"
     ]
    }
   ],
   "source": [
    "vectorizer_prefix = CountVectorizer(lowercase=False, binary=True)\n",
    "\n",
    "vectorizer_prefix.fit(X_train_case1['teacher_prefix'].values)\n",
    "\n",
    "x_train_case1_prefix = vectorizer_prefix.transform(X_train_case1['teacher_prefix'].values)\n",
    "x_test_case1_prefix  = vectorizer_prefix.transform(X_test_case1['teacher_prefix'].values)\n",
    "\n",
    "print(vectorizer_prefix.get_feature_names())\n",
    "\n",
    "print(\"Shape of matrix after one hot encoding -> prefix: x_train: \",x_train_case1_prefix.shape)\n",
    "print(\"Shape of matrix after one hot encoding -> prefix: x_test : \",x_test_case1_prefix.shape)"
   ]
  },
  {
   "cell_type": "markdown",
   "id": "0c3aee2c",
   "metadata": {
    "id": "QVkLAM_6Gjd6",
    "papermill": {
     "duration": 0.040959,
     "end_time": "2023-04-26T11:09:37.335655",
     "exception": false,
     "start_time": "2023-04-26T11:09:37.294696",
     "status": "completed"
    },
    "tags": []
   },
   "source": [
    "### **Encoding Grade Category**"
   ]
  },
  {
   "cell_type": "code",
   "execution_count": 26,
   "id": "1148ae27",
   "metadata": {
    "execution": {
     "iopub.execute_input": "2023-04-26T11:09:37.421496Z",
     "iopub.status.busy": "2023-04-26T11:09:37.420806Z",
     "iopub.status.idle": "2023-04-26T11:09:38.101568Z",
     "shell.execute_reply": "2023-04-26T11:09:38.100191Z"
    },
    "id": "iJYtPMuaGkgS",
    "outputId": "7a2feb72-fd2c-4eba-c95c-86f03c86dfd2",
    "papermill": {
     "duration": 0.726352,
     "end_time": "2023-04-26T11:09:38.104431",
     "exception": false,
     "start_time": "2023-04-26T11:09:37.378079",
     "status": "completed"
    },
    "tags": []
   },
   "outputs": [
    {
     "name": "stdout",
     "output_type": "stream",
     "text": [
      "['grades_3_5', 'grades_6_8', 'grades_9_12', 'grades_prek_2']\n",
      "Shape of matrix after one hot encoding -> project_grade: x_train :  (87364, 4)\n",
      "Shape of matrix after one hot encoding -> project_grade: x_test  :  (21841, 4)\n"
     ]
    }
   ],
   "source": [
    "vectorizer_grade = CountVectorizer(lowercase=False, binary=True)\n",
    "\n",
    "vectorizer_grade.fit(X_train_case1['project_grade_category'].values)\n",
    "\n",
    "x_train_case1_grade_category = vectorizer_grade.transform(X_train_case1['project_grade_category'].values)\n",
    "x_test_case1_grade_category  = vectorizer_grade.transform(X_test_case1['project_grade_category'].values)\n",
    "\n",
    "print(vectorizer_grade.get_feature_names())\n",
    "\n",
    "print(\"Shape of matrix after one hot encoding -> project_grade: x_train : \",x_train_case1_grade_category.shape)\n",
    "print(\"Shape of matrix after one hot encoding -> project_grade: x_test  : \",x_test_case1_grade_category.shape)"
   ]
  },
  {
   "cell_type": "markdown",
   "id": "b53ecab4",
   "metadata": {
    "id": "5nEIC6E7GqoF",
    "papermill": {
     "duration": 0.041926,
     "end_time": "2023-04-26T11:09:38.188530",
     "exception": false,
     "start_time": "2023-04-26T11:09:38.146604",
     "status": "completed"
    },
    "tags": []
   },
   "source": [
    "### **Encoding Price**"
   ]
  },
  {
   "cell_type": "code",
   "execution_count": 27,
   "id": "00850f97",
   "metadata": {
    "execution": {
     "iopub.execute_input": "2023-04-26T11:09:38.275000Z",
     "iopub.status.busy": "2023-04-26T11:09:38.274113Z",
     "iopub.status.idle": "2023-04-26T11:09:38.286066Z",
     "shell.execute_reply": "2023-04-26T11:09:38.285244Z"
    },
    "id": "WOYyBE7rGsny",
    "outputId": "18418349-4065-415c-ab0d-4e692906b154",
    "papermill": {
     "duration": 0.057238,
     "end_time": "2023-04-26T11:09:38.288026",
     "exception": false,
     "start_time": "2023-04-26T11:09:38.230788",
     "status": "completed"
    },
    "tags": []
   },
   "outputs": [
    {
     "data": {
      "text/plain": [
       "array([[0.00018243],\n",
       "       [0.00247168],\n",
       "       [0.00078538],\n",
       "       ...,\n",
       "       [0.00072685],\n",
       "       [0.00380212],\n",
       "       [0.00045737]])"
      ]
     },
     "execution_count": 27,
     "metadata": {},
     "output_type": "execute_result"
    }
   ],
   "source": [
    "normalizer = Normalizer()\n",
    "normalizer.fit(X_train_case1['price'].values.reshape(1,-1))\n",
    "x_train_case1_price_normalized = normalizer.transform(X_train_case1['price'].values.reshape(1, -1)).reshape(-1,1)\n",
    "normalizer.fit(X_test_case1['price'].values.reshape(1,-1))\n",
    "x_test_case1_price_normalized  = normalizer.transform(X_test_case1['price'].values.reshape(1, -1)).reshape(-1,1)\n",
    "x_train_case1_price_normalized"
   ]
  },
  {
   "cell_type": "markdown",
   "id": "5d0467ec",
   "metadata": {
    "id": "h3iWFNoNcdBL",
    "papermill": {
     "duration": 0.041403,
     "end_time": "2023-04-26T11:09:38.370956",
     "exception": false,
     "start_time": "2023-04-26T11:09:38.329553",
     "status": "completed"
    },
    "tags": []
   },
   "source": [
    "### **Encoding Previous Projects Number**"
   ]
  },
  {
   "cell_type": "code",
   "execution_count": 28,
   "id": "00265f2b",
   "metadata": {
    "execution": {
     "iopub.execute_input": "2023-04-26T11:09:38.456448Z",
     "iopub.status.busy": "2023-04-26T11:09:38.455567Z",
     "iopub.status.idle": "2023-04-26T11:09:38.464430Z",
     "shell.execute_reply": "2023-04-26T11:09:38.463258Z"
    },
    "id": "7QH_KHHt07Se",
    "papermill": {
     "duration": 0.054798,
     "end_time": "2023-04-26T11:09:38.467480",
     "exception": false,
     "start_time": "2023-04-26T11:09:38.412682",
     "status": "completed"
    },
    "tags": []
   },
   "outputs": [],
   "source": [
    "teacher_previous_proj_normalizer = Normalizer()\n",
    "teacher_previous_proj_normalizer.fit(X_train_case1['teacher_number_of_previously_posted_projects'].values.reshape(1,-1))\n",
    "x_train_case1_teacher_previous_proj_normalized = teacher_previous_proj_normalizer.transform(X_train_case1['teacher_number_of_previously_posted_projects'].values.reshape(1,- 1)).reshape(-1,1)\n",
    "teacher_previous_proj_normalizer.fit(X_test_case1['teacher_number_of_previously_posted_projects'].values.reshape(1,-1))\n",
    "x_test_case1_teacher_previous_proj_normalized  = teacher_previous_proj_normalizer.transform(X_test_case1['teacher_number_of_previously_posted_projects'].values.reshape(1,- 1)).reshape(-1,1)\n"
   ]
  },
  {
   "cell_type": "markdown",
   "id": "40845818",
   "metadata": {
    "id": "GQtr_VgkciF2",
    "papermill": {
     "duration": 0.042797,
     "end_time": "2023-04-26T11:09:38.553455",
     "exception": false,
     "start_time": "2023-04-26T11:09:38.510658",
     "status": "completed"
    },
    "tags": []
   },
   "source": [
    "### **Encoding Quantity**"
   ]
  },
  {
   "cell_type": "code",
   "execution_count": 29,
   "id": "8b7dfe3c",
   "metadata": {
    "execution": {
     "iopub.execute_input": "2023-04-26T11:09:38.638253Z",
     "iopub.status.busy": "2023-04-26T11:09:38.637802Z",
     "iopub.status.idle": "2023-04-26T11:09:38.650305Z",
     "shell.execute_reply": "2023-04-26T11:09:38.649160Z"
    },
    "id": "s_bDEmUTknb4",
    "outputId": "2f355df5-bf64-41b6-ac6d-bb9cb589ceb0",
    "papermill": {
     "duration": 0.057252,
     "end_time": "2023-04-26T11:09:38.652461",
     "exception": false,
     "start_time": "2023-04-26T11:09:38.595209",
     "status": "completed"
    },
    "tags": []
   },
   "outputs": [
    {
     "data": {
      "text/plain": [
       "array([[0.0004417 ],\n",
       "       [0.00033128],\n",
       "       [0.02164333],\n",
       "       ...,\n",
       "       [0.00099383],\n",
       "       [0.0008834 ],\n",
       "       [0.0013251 ]])"
      ]
     },
     "execution_count": 29,
     "metadata": {},
     "output_type": "execute_result"
    }
   ],
   "source": [
    "normalizer = Normalizer()\n",
    "\n",
    "normalizer.fit(X_train_case1['quantity'].values.reshape(1,-1)) \n",
    "x_train_case1_quantity_normalized = normalizer.transform(X_train_case1['quantity'].values.reshape(1, -1)).reshape(-1,1)\n",
    "normalizer.fit(X_test_case1['quantity'].values.reshape(1,-1)) \n",
    "x_test_case1_quantity_normalized  = normalizer.transform(X_test_case1['quantity'].values.reshape(1, -1)).reshape(-1,1)\n",
    "x_train_case1_quantity_normalized\n"
   ]
  },
  {
   "cell_type": "markdown",
   "id": "16346c53",
   "metadata": {
    "id": "rPulbVpgcmU-",
    "papermill": {
     "duration": 0.041453,
     "end_time": "2023-04-26T11:09:38.736076",
     "exception": false,
     "start_time": "2023-04-26T11:09:38.694623",
     "status": "completed"
    },
    "tags": []
   },
   "source": [
    "## **BoW Vectorization of Cleaned_Titles and Cleaned Essays**"
   ]
  },
  {
   "cell_type": "code",
   "execution_count": 30,
   "id": "4ba2c161",
   "metadata": {
    "execution": {
     "iopub.execute_input": "2023-04-26T11:09:38.821086Z",
     "iopub.status.busy": "2023-04-26T11:09:38.820683Z",
     "iopub.status.idle": "2023-04-26T11:09:39.425673Z",
     "shell.execute_reply": "2023-04-26T11:09:39.424451Z"
    },
    "id": "Ewn_mcmawznS",
    "outputId": "d0acf062-3c07-4341-f8ce-6aaf6dc9a961",
    "papermill": {
     "duration": 0.651025,
     "end_time": "2023-04-26T11:09:39.428716",
     "exception": false,
     "start_time": "2023-04-26T11:09:38.777691",
     "status": "completed"
    },
    "tags": []
   },
   "outputs": [
    {
     "name": "stderr",
     "output_type": "stream",
     "text": [
      "/opt/conda/lib/python3.7/site-packages/sklearn/utils/deprecation.py:87: FutureWarning:\n",
      "\n",
      "Function get_feature_names is deprecated; get_feature_names is deprecated in 1.0 and will be removed in 1.2. Please use get_feature_names_out instead.\n",
      "\n"
     ]
    },
    {
     "data": {
      "text/plain": [
       "15046"
      ]
     },
     "execution_count": 30,
     "metadata": {},
     "output_type": "execute_result"
    }
   ],
   "source": [
    "# Concatenate all features in X_train_case1 cleaned titles\n",
    "\n",
    "vect = CountVectorizer()\n",
    "vect.fit(X_train_case1['cleaned_titles'])\n",
    "X_train_BoW = vect.get_feature_names()\n",
    "len(X_train_BoW)"
   ]
  },
  {
   "cell_type": "code",
   "execution_count": 31,
   "id": "fa92bf82",
   "metadata": {
    "execution": {
     "iopub.execute_input": "2023-04-26T11:09:39.524953Z",
     "iopub.status.busy": "2023-04-26T11:09:39.524531Z",
     "iopub.status.idle": "2023-04-26T11:09:49.465642Z",
     "shell.execute_reply": "2023-04-26T11:09:49.464392Z"
    },
    "id": "pNPycaOomZ8U",
    "outputId": "949349bf-36fd-4640-ad70-ca22317fd5a9",
    "papermill": {
     "duration": 9.993778,
     "end_time": "2023-04-26T11:09:49.468075",
     "exception": false,
     "start_time": "2023-04-26T11:09:39.474297",
     "status": "completed"
    },
    "tags": []
   },
   "outputs": [
    {
     "data": {
      "text/plain": [
       "66037"
      ]
     },
     "execution_count": 31,
     "metadata": {},
     "output_type": "execute_result"
    }
   ],
   "source": [
    "# Append values from cleaned_essays\n",
    "\n",
    "vect = CountVectorizer()\n",
    "vect.fit(X_train_case1['cleaned_essays'])\n",
    "X_train_BoW.extend(vect.get_feature_names())\n",
    "np.unique(X_train_BoW)\n",
    "len(X_train_BoW)"
   ]
  },
  {
   "cell_type": "code",
   "execution_count": 32,
   "id": "3f7f2a40",
   "metadata": {
    "execution": {
     "iopub.execute_input": "2023-04-26T11:09:49.620321Z",
     "iopub.status.busy": "2023-04-26T11:09:49.619868Z",
     "iopub.status.idle": "2023-04-26T11:09:49.781802Z",
     "shell.execute_reply": "2023-04-26T11:09:49.780704Z"
    },
    "id": "S2aPyqgalFL8",
    "outputId": "4586fa6d-f7bc-4f8c-f2ab-db4f72e1e8cb",
    "papermill": {
     "duration": 0.273658,
     "end_time": "2023-04-26T11:09:49.784088",
     "exception": false,
     "start_time": "2023-04-26T11:09:49.510430",
     "status": "completed"
    },
    "tags": []
   },
   "outputs": [
    {
     "data": {
      "text/plain": [
       "7939"
      ]
     },
     "execution_count": 32,
     "metadata": {},
     "output_type": "execute_result"
    }
   ],
   "source": [
    "# Concatenate all features in X_test_case1 cleaned titles\n",
    "\n",
    "vect = CountVectorizer()\n",
    "vect.fit(X_test_case1['cleaned_titles'])\n",
    "X_test_BoW = vect.get_feature_names()\n",
    "len(X_test_BoW)"
   ]
  },
  {
   "cell_type": "code",
   "execution_count": 33,
   "id": "a7c1933e",
   "metadata": {
    "execution": {
     "iopub.execute_input": "2023-04-26T11:09:49.869522Z",
     "iopub.status.busy": "2023-04-26T11:09:49.869034Z",
     "iopub.status.idle": "2023-04-26T11:09:52.415166Z",
     "shell.execute_reply": "2023-04-26T11:09:52.414319Z"
    },
    "id": "f8GPE0rknD8y",
    "outputId": "2ef7c777-a1d1-43f2-a95f-bc61616aa443",
    "papermill": {
     "duration": 2.591435,
     "end_time": "2023-04-26T11:09:52.417617",
     "exception": false,
     "start_time": "2023-04-26T11:09:49.826182",
     "status": "completed"
    },
    "tags": []
   },
   "outputs": [
    {
     "data": {
      "text/plain": [
       "38025"
      ]
     },
     "execution_count": 33,
     "metadata": {},
     "output_type": "execute_result"
    }
   ],
   "source": [
    "# Append values from cleaned_essays\n",
    "\n",
    "vect = CountVectorizer()\n",
    "vect.fit(X_test_case1['cleaned_essays'])\n",
    "X_test_BoW.extend(vect.get_feature_names())\n",
    "np.unique(X_test_BoW)\n",
    "len(X_test_BoW)"
   ]
  },
  {
   "cell_type": "code",
   "execution_count": 34,
   "id": "b77a8e0b",
   "metadata": {
    "execution": {
     "iopub.execute_input": "2023-04-26T11:09:52.505973Z",
     "iopub.status.busy": "2023-04-26T11:09:52.505530Z",
     "iopub.status.idle": "2023-04-26T11:09:53.510431Z",
     "shell.execute_reply": "2023-04-26T11:09:53.509757Z"
    },
    "id": "Mqm9UhzrlFYp",
    "outputId": "a30564e1-b927-44a7-e90d-e2da33c36574",
    "papermill": {
     "duration": 1.05075,
     "end_time": "2023-04-26T11:09:53.512355",
     "exception": false,
     "start_time": "2023-04-26T11:09:52.461605",
     "status": "completed"
    },
    "tags": []
   },
   "outputs": [
    {
     "data": {
      "text/html": [
       "<div>\n",
       "<style scoped>\n",
       "    .dataframe tbody tr th:only-of-type {\n",
       "        vertical-align: middle;\n",
       "    }\n",
       "\n",
       "    .dataframe tbody tr th {\n",
       "        vertical-align: top;\n",
       "    }\n",
       "\n",
       "    .dataframe thead th {\n",
       "        text-align: right;\n",
       "    }\n",
       "</style>\n",
       "<table border=\"1\" class=\"dataframe\">\n",
       "  <thead>\n",
       "    <tr style=\"text-align: right;\">\n",
       "      <th></th>\n",
       "      <th>term</th>\n",
       "      <th>count</th>\n",
       "    </tr>\n",
       "  </thead>\n",
       "  <tbody>\n",
       "    <tr>\n",
       "      <th>3</th>\n",
       "      <td>learning</td>\n",
       "      <td>9315</td>\n",
       "    </tr>\n",
       "    <tr>\n",
       "      <th>9</th>\n",
       "      <td>technology</td>\n",
       "      <td>5871</td>\n",
       "    </tr>\n",
       "    <tr>\n",
       "      <th>1</th>\n",
       "      <td>classroom</td>\n",
       "      <td>5674</td>\n",
       "    </tr>\n",
       "    <tr>\n",
       "      <th>8</th>\n",
       "      <td>students</td>\n",
       "      <td>5115</td>\n",
       "    </tr>\n",
       "    <tr>\n",
       "      <th>6</th>\n",
       "      <td>reading</td>\n",
       "      <td>4850</td>\n",
       "    </tr>\n",
       "    <tr>\n",
       "      <th>2</th>\n",
       "      <td>help</td>\n",
       "      <td>4419</td>\n",
       "    </tr>\n",
       "    <tr>\n",
       "      <th>0</th>\n",
       "      <td>books</td>\n",
       "      <td>4131</td>\n",
       "    </tr>\n",
       "    <tr>\n",
       "      <th>7</th>\n",
       "      <td>seating</td>\n",
       "      <td>4007</td>\n",
       "    </tr>\n",
       "    <tr>\n",
       "      <th>5</th>\n",
       "      <td>need</td>\n",
       "      <td>3697</td>\n",
       "    </tr>\n",
       "    <tr>\n",
       "      <th>4</th>\n",
       "      <td>math</td>\n",
       "      <td>3299</td>\n",
       "    </tr>\n",
       "  </tbody>\n",
       "</table>\n",
       "</div>"
      ],
      "text/plain": [
       "         term  count\n",
       "3    learning   9315\n",
       "9  technology   5871\n",
       "1   classroom   5674\n",
       "8    students   5115\n",
       "6     reading   4850\n",
       "2        help   4419\n",
       "0       books   4131\n",
       "7     seating   4007\n",
       "5        need   3697\n",
       "4        math   3299"
      ]
     },
     "execution_count": 34,
     "metadata": {},
     "output_type": "execute_result"
    }
   ],
   "source": [
    "# Most used terms in cleaned titles\n",
    "\n",
    "max_feature_length = 10\n",
    "top_words = []\n",
    "\n",
    "bow_transformer = CountVectorizer(max_features=max_feature_length,ngram_range=(1,1)).fit(donor_data_na.loc[:,'cleaned_titles'])\n",
    "bow = bow_transformer.transform([' '.join(donor_data_na.loc[:,'cleaned_titles'].values)])#This joins all the words in all the rows \n",
    "word_list = bow_transformer.get_feature_names()\n",
    "count_list = bow.toarray().sum(axis=0) \n",
    "top_counts = pd.DataFrame(zip(word_list,count_list),columns=['term','count',])\n",
    "top_counts.sort_values('count',axis=0,inplace=True, ascending=False)\n",
    "top_counts"
   ]
  },
  {
   "cell_type": "code",
   "execution_count": 35,
   "id": "3424f3d2",
   "metadata": {
    "execution": {
     "iopub.execute_input": "2023-04-26T11:09:53.599130Z",
     "iopub.status.busy": "2023-04-26T11:09:53.598218Z",
     "iopub.status.idle": "2023-04-26T11:10:17.689775Z",
     "shell.execute_reply": "2023-04-26T11:10:17.688405Z"
    },
    "id": "IAQ59_HMpbmz",
    "outputId": "ca79a456-ab08-4f7b-bd3e-327f2efb088a",
    "papermill": {
     "duration": 24.138623,
     "end_time": "2023-04-26T11:10:17.692707",
     "exception": false,
     "start_time": "2023-04-26T11:09:53.554084",
     "status": "completed"
    },
    "tags": []
   },
   "outputs": [
    {
     "name": "stderr",
     "output_type": "stream",
     "text": [
      "/opt/conda/lib/python3.7/site-packages/sklearn/utils/deprecation.py:87: FutureWarning:\n",
      "\n",
      "Function get_feature_names is deprecated; get_feature_names is deprecated in 1.0 and will be removed in 1.2. Please use get_feature_names_out instead.\n",
      "\n"
     ]
    },
    {
     "data": {
      "text/html": [
       "<div>\n",
       "<style scoped>\n",
       "    .dataframe tbody tr th:only-of-type {\n",
       "        vertical-align: middle;\n",
       "    }\n",
       "\n",
       "    .dataframe tbody tr th {\n",
       "        vertical-align: top;\n",
       "    }\n",
       "\n",
       "    .dataframe thead th {\n",
       "        text-align: right;\n",
       "    }\n",
       "</style>\n",
       "<table border=\"1\" class=\"dataframe\">\n",
       "  <thead>\n",
       "    <tr style=\"text-align: right;\">\n",
       "      <th></th>\n",
       "      <th>term</th>\n",
       "      <th>count</th>\n",
       "    </tr>\n",
       "  </thead>\n",
       "  <tbody>\n",
       "    <tr>\n",
       "      <th>8</th>\n",
       "      <td>students</td>\n",
       "      <td>790864</td>\n",
       "    </tr>\n",
       "    <tr>\n",
       "      <th>7</th>\n",
       "      <td>school</td>\n",
       "      <td>253799</td>\n",
       "    </tr>\n",
       "    <tr>\n",
       "      <th>3</th>\n",
       "      <td>learning</td>\n",
       "      <td>177495</td>\n",
       "    </tr>\n",
       "    <tr>\n",
       "      <th>0</th>\n",
       "      <td>classroom</td>\n",
       "      <td>169644</td>\n",
       "    </tr>\n",
       "    <tr>\n",
       "      <th>6</th>\n",
       "      <td>not</td>\n",
       "      <td>131423</td>\n",
       "    </tr>\n",
       "    <tr>\n",
       "      <th>2</th>\n",
       "      <td>learn</td>\n",
       "      <td>126098</td>\n",
       "    </tr>\n",
       "    <tr>\n",
       "      <th>1</th>\n",
       "      <td>help</td>\n",
       "      <td>122608</td>\n",
       "    </tr>\n",
       "    <tr>\n",
       "      <th>4</th>\n",
       "      <td>many</td>\n",
       "      <td>105414</td>\n",
       "    </tr>\n",
       "    <tr>\n",
       "      <th>5</th>\n",
       "      <td>need</td>\n",
       "      <td>92898</td>\n",
       "    </tr>\n",
       "    <tr>\n",
       "      <th>9</th>\n",
       "      <td>work</td>\n",
       "      <td>92161</td>\n",
       "    </tr>\n",
       "  </tbody>\n",
       "</table>\n",
       "</div>"
      ],
      "text/plain": [
       "        term   count\n",
       "8   students  790864\n",
       "7     school  253799\n",
       "3   learning  177495\n",
       "0  classroom  169644\n",
       "6        not  131423\n",
       "2      learn  126098\n",
       "1       help  122608\n",
       "4       many  105414\n",
       "5       need   92898\n",
       "9       work   92161"
      ]
     },
     "execution_count": 35,
     "metadata": {},
     "output_type": "execute_result"
    }
   ],
   "source": [
    "# Most used terms in cleaned essays\n",
    "\n",
    "max_feature_length = 10\n",
    "top_words = []\n",
    "\n",
    "bow_transformer = CountVectorizer(max_features=max_feature_length,ngram_range=(1,1)).fit(donor_data_na.loc[:,'cleaned_essays'])\n",
    "bow_essay = bow_transformer.transform([' '.join(donor_data_na.loc[:,'cleaned_essays'].values)])#This joins all the words in all the rows \n",
    "word_list = bow_transformer.get_feature_names()\n",
    "count_list = bow_essay.toarray().sum(axis=0) \n",
    "top_counts = pd.DataFrame(zip(word_list,count_list),columns=['term','count',])\n",
    "top_counts.sort_values('count',axis=0,inplace=True, ascending=False)\n",
    "top_counts"
   ]
  },
  {
   "cell_type": "markdown",
   "id": "34864b36",
   "metadata": {
    "id": "vSQa6EFkc2ZV",
    "papermill": {
     "duration": 0.041585,
     "end_time": "2023-04-26T11:10:17.776330",
     "exception": false,
     "start_time": "2023-04-26T11:10:17.734745",
     "status": "completed"
    },
    "tags": []
   },
   "source": [
    "### **BoW Vectorization of Cleaned_Essays**"
   ]
  },
  {
   "cell_type": "code",
   "execution_count": 36,
   "id": "b1efb0eb",
   "metadata": {
    "execution": {
     "iopub.execute_input": "2023-04-26T11:10:17.863070Z",
     "iopub.status.busy": "2023-04-26T11:10:17.862671Z",
     "iopub.status.idle": "2023-04-26T11:11:06.156262Z",
     "shell.execute_reply": "2023-04-26T11:11:06.155171Z"
    },
    "id": "ram6yb6jLNas",
    "outputId": "ba1e197b-6d90-4532-8f5a-319b51254adb",
    "papermill": {
     "duration": 48.381835,
     "end_time": "2023-04-26T11:11:06.200785",
     "exception": false,
     "start_time": "2023-04-26T11:10:17.818950",
     "status": "completed"
    },
    "tags": []
   },
   "outputs": [
    {
     "name": "stdout",
     "output_type": "stream",
     "text": [
      "Shape of matrix after BOW -> Essays: x_train:  (87364, 5000)\n",
      "Shape of matrix after BOW -> Essays: x_test :  (21841, 5000)\n"
     ]
    }
   ],
   "source": [
    "vectorizer_essay_bow_bigram = CountVectorizer(ngram_range=(2,2),min_df=10,max_features=5000)\n",
    "\n",
    "vectorizer_essay_bow_bigram.fit(X_train_case1['cleaned_essays'])\n",
    "\n",
    "x_train_case1_essays_bow_bigram = vectorizer_essay_bow_bigram.transform(X_train_case1['cleaned_essays'])\n",
    "x_test_case1_essays_bow_bigram  = vectorizer_essay_bow_bigram.transform(X_test_case1['cleaned_essays'])\n",
    "\n",
    "print(\"Shape of matrix after BOW -> Essays: x_train: \",x_train_case1_essays_bow_bigram.shape)\n",
    "print(\"Shape of matrix after BOW -> Essays: x_test : \",x_test_case1_essays_bow_bigram.shape)"
   ]
  },
  {
   "cell_type": "markdown",
   "id": "59b99ff0",
   "metadata": {
    "id": "AGCqvyN-dJme",
    "papermill": {
     "duration": 0.043439,
     "end_time": "2023-04-26T11:11:06.287088",
     "exception": false,
     "start_time": "2023-04-26T11:11:06.243649",
     "status": "completed"
    },
    "tags": []
   },
   "source": [
    "### **BoW Vectorization of Cleaned_Titles**"
   ]
  },
  {
   "cell_type": "code",
   "execution_count": 37,
   "id": "41b0cdeb",
   "metadata": {
    "execution": {
     "iopub.execute_input": "2023-04-26T11:11:06.374983Z",
     "iopub.status.busy": "2023-04-26T11:11:06.374216Z",
     "iopub.status.idle": "2023-04-26T11:11:08.361469Z",
     "shell.execute_reply": "2023-04-26T11:11:08.360761Z"
    },
    "id": "6drVwg85L_pB",
    "outputId": "0bc928f4-6154-4a08-8306-bdf9437f7f39",
    "papermill": {
     "duration": 2.034103,
     "end_time": "2023-04-26T11:11:08.363595",
     "exception": false,
     "start_time": "2023-04-26T11:11:06.329492",
     "status": "completed"
    },
    "tags": []
   },
   "outputs": [
    {
     "name": "stdout",
     "output_type": "stream",
     "text": [
      "Shape of matrix after BOW -> Titles: x_train:  (87364, 5000)\n",
      "Shape of matrix after BOW -> Titles: x_test :  (21841, 5000)\n"
     ]
    }
   ],
   "source": [
    "vectorizer_titles_bow_bigram = CountVectorizer(ngram_range=(2,2),min_df=10,max_features=5000)\n",
    "\n",
    "vectorizer_titles_bow_bigram.fit(X_train_case1['cleaned_titles'])\n",
    "\n",
    "x_train_case1_titles_bow_bigram = vectorizer_essay_bow_bigram.transform(X_train_case1['cleaned_titles'])\n",
    "x_test_case1_titles_bow_bigram  = vectorizer_essay_bow_bigram.transform(X_test_case1['cleaned_titles'])\n",
    "\n",
    "print(\"Shape of matrix after BOW -> Titles: x_train: \",x_train_case1_titles_bow_bigram.shape)\n",
    "print(\"Shape of matrix after BOW -> Titles: x_test : \",x_test_case1_titles_bow_bigram.shape)"
   ]
  },
  {
   "cell_type": "markdown",
   "id": "10cfcc54",
   "metadata": {
    "id": "BwWal97VdLx0",
    "papermill": {
     "duration": 0.042829,
     "end_time": "2023-04-26T11:11:08.449509",
     "exception": false,
     "start_time": "2023-04-26T11:11:08.406680",
     "status": "completed"
    },
    "tags": []
   },
   "source": [
    "### Concatenate all features and named it as X_train_BoW and X_Test_BoW"
   ]
  },
  {
   "cell_type": "code",
   "execution_count": 38,
   "id": "73bf3f71",
   "metadata": {
    "execution": {
     "iopub.execute_input": "2023-04-26T11:11:08.537489Z",
     "iopub.status.busy": "2023-04-26T11:11:08.536878Z",
     "iopub.status.idle": "2023-04-26T11:11:08.685364Z",
     "shell.execute_reply": "2023-04-26T11:11:08.684029Z"
    },
    "id": "nL5neTgcNGUl",
    "outputId": "d4556836-36ef-44c8-b3d0-ba4cae69eedb",
    "papermill": {
     "duration": 0.194697,
     "end_time": "2023-04-26T11:11:08.687690",
     "exception": false,
     "start_time": "2023-04-26T11:11:08.492993",
     "status": "completed"
    },
    "tags": []
   },
   "outputs": [
    {
     "name": "stdout",
     "output_type": "stream",
     "text": [
      "Type -> One Hot -> x_train:  <class 'scipy.sparse.coo.coo_matrix'>\n",
      "Type -> One Hot -> x_test :  <class 'scipy.sparse.coo.coo_matrix'>\n",
      "\n",
      "\n",
      "Shape -> One Hot -> x_train:  (87364, 10508)\n",
      "Shape -> One Hot -> x_test :  (21841, 10508)\n"
     ]
    }
   ],
   "source": [
    "X_train_BoW_merge = hstack((x_train_case1_essays_bow_bigram, x_train_case1_titles_bow_bigram, x_train_case1_categories, x_train_case1_sub_categories, x_train_case1_school_state, x_train_case1_prefix, x_train_case1_grade_category, x_train_case1_price_normalized, x_train_case1_quantity_normalized, x_train_case1_teacher_previous_proj_normalized))\n",
    "X_test_BoW_merge  = hstack((x_test_case1_essays_bow_bigram, x_test_case1_titles_bow_bigram, x_test_case1_categories, x_test_case1_sub_categories, x_test_case1_school_state, x_test_case1_prefix,x_test_case1_grade_category, x_test_case1_price_normalized, x_test_case1_quantity_normalized, x_test_case1_teacher_previous_proj_normalized))\n",
    "\n",
    "print(\"Type -> One Hot -> x_train: \",type(X_train_BoW_merge))\n",
    "print(\"Type -> One Hot -> x_test : \",type(X_test_BoW_merge))\n",
    "print(\"\\n\")\n",
    "print(\"Shape -> One Hot -> x_train: \",X_train_BoW_merge.shape)\n",
    "print(\"Shape -> One Hot -> x_test : \",X_test_BoW_merge.shape)"
   ]
  },
  {
   "cell_type": "markdown",
   "id": "b6faea57",
   "metadata": {
    "id": "8oLj-mEJreBL",
    "papermill": {
     "duration": 0.044256,
     "end_time": "2023-04-26T11:11:08.774727",
     "exception": false,
     "start_time": "2023-04-26T11:11:08.730471",
     "status": "completed"
    },
    "tags": []
   },
   "source": [
    "### **CASE: 2 - Dataset split into training and test sets. (Train:80, Test:20)**\n",
    " Train = 80 % Test = 20% [ x_train1,y_train1] = 80% ; [ x_test1,y_test1] = 20% ;"
   ]
  },
  {
   "cell_type": "code",
   "execution_count": 39,
   "id": "d3aa243b",
   "metadata": {
    "execution": {
     "iopub.execute_input": "2023-04-26T11:11:08.863059Z",
     "iopub.status.busy": "2023-04-26T11:11:08.862634Z",
     "iopub.status.idle": "2023-04-26T11:11:08.926599Z",
     "shell.execute_reply": "2023-04-26T11:11:08.925614Z"
    },
    "id": "rJY6NAn0rrWp",
    "papermill": {
     "duration": 0.110409,
     "end_time": "2023-04-26T11:11:08.928986",
     "exception": false,
     "start_time": "2023-04-26T11:11:08.818577",
     "status": "completed"
    },
    "tags": []
   },
   "outputs": [],
   "source": [
    "X_train_case2, X_test_case2, y_train_case2, y_test_case2 = train_test_split(x, y, test_size = 0.2)"
   ]
  },
  {
   "cell_type": "markdown",
   "id": "b1683268",
   "metadata": {
    "id": "dX-3ZG3idiGm",
    "papermill": {
     "duration": 0.043211,
     "end_time": "2023-04-26T11:11:09.015162",
     "exception": false,
     "start_time": "2023-04-26T11:11:08.971951",
     "status": "completed"
    },
    "tags": []
   },
   "source": [
    "### Encoding Subject Categories"
   ]
  },
  {
   "cell_type": "code",
   "execution_count": 40,
   "id": "b481ad7a",
   "metadata": {
    "execution": {
     "iopub.execute_input": "2023-04-26T11:11:09.102777Z",
     "iopub.status.busy": "2023-04-26T11:11:09.102370Z",
     "iopub.status.idle": "2023-04-26T11:11:09.787192Z",
     "shell.execute_reply": "2023-04-26T11:11:09.785822Z"
    },
    "id": "hyVv8RYNXIvf",
    "outputId": "55346ecf-b6d3-42ca-f1f1-f2a670d5f142",
    "papermill": {
     "duration": 0.731295,
     "end_time": "2023-04-26T11:11:09.789542",
     "exception": false,
     "start_time": "2023-04-26T11:11:09.058247",
     "status": "completed"
    },
    "tags": []
   },
   "outputs": [
    {
     "name": "stdout",
     "output_type": "stream",
     "text": [
      "['appliedlearning', 'appliedlearning_health_sports', 'appliedlearning_history_civics', 'appliedlearning_literacy_language', 'appliedlearning_math_science', 'appliedlearning_music_arts', 'appliedlearning_specialneeds', 'appliedlearning_warmth_care_hunger', 'health_sports', 'health_sports_appliedlearning', 'health_sports_history_civics', 'health_sports_literacy_language', 'health_sports_math_science', 'health_sports_music_arts', 'health_sports_specialneeds', 'health_sports_warmth_care_hunger', 'history_civics', 'history_civics_appliedlearning', 'history_civics_health_sports', 'history_civics_literacy_language', 'history_civics_math_science', 'history_civics_music_arts', 'history_civics_specialneeds', 'literacy_language', 'literacy_language_appliedlearning', 'literacy_language_health_sports', 'literacy_language_history_civics', 'literacy_language_math_science', 'literacy_language_music_arts', 'literacy_language_specialneeds', 'literacy_language_warmth_care_hunger', 'math_science', 'math_science_appliedlearning', 'math_science_health_sports', 'math_science_history_civics', 'math_science_literacy_language', 'math_science_music_arts', 'math_science_specialneeds', 'math_science_warmth_care_hunger', 'music_arts', 'music_arts_appliedlearning', 'music_arts_health_sports', 'music_arts_history_civics', 'music_arts_specialneeds', 'music_arts_warmth_care_hunger', 'specialneeds', 'specialneeds_health_sports', 'specialneeds_music_arts', 'specialneeds_warmth_care_hunger', 'warmth_care_hunger']\n",
      "Shape of matrix after one hot encoding -> categories: X_train_case1:  (87364, 50)\n",
      "Shape of matrix after one hot encoding -> categories: X_test_Case1 :  (21841, 50)\n"
     ]
    },
    {
     "name": "stderr",
     "output_type": "stream",
     "text": [
      "/opt/conda/lib/python3.7/site-packages/sklearn/utils/deprecation.py:87: FutureWarning:\n",
      "\n",
      "Function get_feature_names is deprecated; get_feature_names is deprecated in 1.0 and will be removed in 1.2. Please use get_feature_names_out instead.\n",
      "\n"
     ]
    }
   ],
   "source": [
    "vectorizer_sub = CountVectorizer( lowercase=False, binary=True)\n",
    "vectorizer_sub.fit(X_train_case2['project_subject_categories'].values)\n",
    "\n",
    "x_train_case2_categories = vectorizer_sub.transform(X_train_case2['project_subject_categories'].values)\n",
    "x_test_case2_categories  = vectorizer_sub.transform(X_test_case2['project_subject_categories'].values)\n",
    "\n",
    "print(vectorizer_sub.get_feature_names())\n",
    "print(\"Shape of matrix after one hot encoding -> categories: X_train_case1: \",x_train_case2_categories.shape)\n",
    "print(\"Shape of matrix after one hot encoding -> categories: X_test_Case1 : \",x_test_case2_categories.shape)"
   ]
  },
  {
   "cell_type": "markdown",
   "id": "57f97ee4",
   "metadata": {
    "id": "l6jgqV8rdo8H",
    "papermill": {
     "duration": 0.042665,
     "end_time": "2023-04-26T11:11:09.875320",
     "exception": false,
     "start_time": "2023-04-26T11:11:09.832655",
     "status": "completed"
    },
    "tags": []
   },
   "source": [
    "### Encoding Subject Sub-Categories"
   ]
  },
  {
   "cell_type": "code",
   "execution_count": 41,
   "id": "b8fe489a",
   "metadata": {
    "execution": {
     "iopub.execute_input": "2023-04-26T11:11:09.963708Z",
     "iopub.status.busy": "2023-04-26T11:11:09.963251Z",
     "iopub.status.idle": "2023-04-26T11:11:10.649074Z",
     "shell.execute_reply": "2023-04-26T11:11:10.647910Z"
    },
    "id": "RKWZk7WcXJGo",
    "outputId": "3eb642b7-b287-4e19-bd20-d72141ecc365",
    "papermill": {
     "duration": 0.73286,
     "end_time": "2023-04-26T11:11:10.651309",
     "exception": false,
     "start_time": "2023-04-26T11:11:09.918449",
     "status": "completed"
    },
    "tags": []
   },
   "outputs": [
    {
     "name": "stdout",
     "output_type": "stream",
     "text": [
      "['appliedsciences', 'appliedsciences_charactereducation', 'appliedsciences_civics_government', 'appliedsciences_college_careerprep', 'appliedsciences_communityservice', 'appliedsciences_earlydevelopment', 'appliedsciences_economics', 'appliedsciences_environmentalscience', 'appliedsciences_esl', 'appliedsciences_extracurricular', 'appliedsciences_financialliteracy', 'appliedsciences_foreignlanguages', 'appliedsciences_gym_fitness', 'appliedsciences_health_lifescience', 'appliedsciences_health_wellness', 'appliedsciences_history_geography', 'appliedsciences_literacy', 'appliedsciences_literature_writing', 'appliedsciences_mathematics', 'appliedsciences_music', 'appliedsciences_nutritioneducation', 'appliedsciences_other', 'appliedsciences_parentinvolvement', 'appliedsciences_performingarts', 'appliedsciences_socialsciences', 'appliedsciences_specialneeds', 'appliedsciences_teamsports', 'appliedsciences_visualarts', 'appliedsciences_warmth_care_hunger', 'charactereducation', 'charactereducation_civics_government', 'charactereducation_college_careerprep', 'charactereducation_communityservice', 'charactereducation_earlydevelopment', 'charactereducation_economics', 'charactereducation_environmentalscience', 'charactereducation_esl', 'charactereducation_extracurricular', 'charactereducation_financialliteracy', 'charactereducation_foreignlanguages', 'charactereducation_gym_fitness', 'charactereducation_health_lifescience', 'charactereducation_health_wellness', 'charactereducation_history_geography', 'charactereducation_literacy', 'charactereducation_literature_writing', 'charactereducation_mathematics', 'charactereducation_music', 'charactereducation_nutritioneducation', 'charactereducation_other', 'charactereducation_parentinvolvement', 'charactereducation_performingarts', 'charactereducation_socialsciences', 'charactereducation_specialneeds', 'charactereducation_teamsports', 'charactereducation_visualarts', 'charactereducation_warmth_care_hunger', 'civics_government', 'civics_government_college_careerprep', 'civics_government_communityservice', 'civics_government_economics', 'civics_government_environmentalscience', 'civics_government_esl', 'civics_government_extracurricular', 'civics_government_financialliteracy', 'civics_government_foreignlanguages', 'civics_government_health_lifescience', 'civics_government_health_wellness', 'civics_government_history_geography', 'civics_government_literacy', 'civics_government_literature_writing', 'civics_government_mathematics', 'civics_government_nutritioneducation', 'civics_government_parentinvolvement', 'civics_government_performingarts', 'civics_government_socialsciences', 'civics_government_specialneeds', 'civics_government_teamsports', 'civics_government_visualarts', 'college_careerprep', 'college_careerprep_communityservice', 'college_careerprep_earlydevelopment', 'college_careerprep_economics', 'college_careerprep_environmentalscience', 'college_careerprep_esl', 'college_careerprep_extracurricular', 'college_careerprep_financialliteracy', 'college_careerprep_foreignlanguages', 'college_careerprep_gym_fitness', 'college_careerprep_health_lifescience', 'college_careerprep_health_wellness', 'college_careerprep_history_geography', 'college_careerprep_literacy', 'college_careerprep_literature_writing', 'college_careerprep_mathematics', 'college_careerprep_music', 'college_careerprep_nutritioneducation', 'college_careerprep_other', 'college_careerprep_parentinvolvement', 'college_careerprep_performingarts', 'college_careerprep_socialsciences', 'college_careerprep_specialneeds', 'college_careerprep_teamsports', 'college_careerprep_visualarts', 'college_careerprep_warmth_care_hunger', 'communityservice', 'communityservice_earlydevelopment', 'communityservice_economics', 'communityservice_environmentalscience', 'communityservice_esl', 'communityservice_extracurricular', 'communityservice_financialliteracy', 'communityservice_gym_fitness', 'communityservice_health_lifescience', 'communityservice_health_wellness', 'communityservice_history_geography', 'communityservice_literacy', 'communityservice_literature_writing', 'communityservice_mathematics', 'communityservice_nutritioneducation', 'communityservice_other', 'communityservice_parentinvolvement', 'communityservice_performingarts', 'communityservice_socialsciences', 'communityservice_specialneeds', 'communityservice_visualarts', 'earlydevelopment', 'earlydevelopment_economics', 'earlydevelopment_environmentalscience', 'earlydevelopment_extracurricular', 'earlydevelopment_financialliteracy', 'earlydevelopment_foreignlanguages', 'earlydevelopment_gym_fitness', 'earlydevelopment_health_lifescience', 'earlydevelopment_health_wellness', 'earlydevelopment_history_geography', 'earlydevelopment_literacy', 'earlydevelopment_literature_writing', 'earlydevelopment_mathematics', 'earlydevelopment_music', 'earlydevelopment_nutritioneducation', 'earlydevelopment_other', 'earlydevelopment_parentinvolvement', 'earlydevelopment_performingarts', 'earlydevelopment_socialsciences', 'earlydevelopment_specialneeds', 'earlydevelopment_teamsports', 'earlydevelopment_visualarts', 'earlydevelopment_warmth_care_hunger', 'economics', 'economics_environmentalscience', 'economics_financialliteracy', 'economics_foreignlanguages', 'economics_health_lifescience', 'economics_history_geography', 'economics_literacy', 'economics_literature_writing', 'economics_mathematics', 'economics_nutritioneducation', 'economics_other', 'economics_socialsciences', 'economics_specialneeds', 'economics_visualarts', 'environmentalscience', 'environmentalscience_extracurricular', 'environmentalscience_financialliteracy', 'environmentalscience_foreignlanguages', 'environmentalscience_gym_fitness', 'environmentalscience_health_lifescience', 'environmentalscience_health_wellness', 'environmentalscience_history_geography', 'environmentalscience_literacy', 'environmentalscience_literature_writing', 'environmentalscience_mathematics', 'environmentalscience_music', 'environmentalscience_nutritioneducation', 'environmentalscience_other', 'environmentalscience_parentinvolvement', 'environmentalscience_performingarts', 'environmentalscience_socialsciences', 'environmentalscience_specialneeds', 'environmentalscience_teamsports', 'environmentalscience_visualarts', 'environmentalscience_warmth_care_hunger', 'esl', 'esl_earlydevelopment', 'esl_economics', 'esl_environmentalscience', 'esl_extracurricular', 'esl_financialliteracy', 'esl_foreignlanguages', 'esl_gym_fitness', 'esl_health_lifescience', 'esl_health_wellness', 'esl_history_geography', 'esl_literacy', 'esl_literature_writing', 'esl_mathematics', 'esl_music', 'esl_nutritioneducation', 'esl_other', 'esl_parentinvolvement', 'esl_performingarts', 'esl_socialsciences', 'esl_specialneeds', 'esl_teamsports', 'esl_visualarts', 'extracurricular', 'extracurricular_financialliteracy', 'extracurricular_foreignlanguages', 'extracurricular_gym_fitness', 'extracurricular_health_lifescience', 'extracurricular_health_wellness', 'extracurricular_history_geography', 'extracurricular_literacy', 'extracurricular_literature_writing', 'extracurricular_mathematics', 'extracurricular_music', 'extracurricular_nutritioneducation', 'extracurricular_other', 'extracurricular_parentinvolvement', 'extracurricular_performingarts', 'extracurricular_socialsciences', 'extracurricular_specialneeds', 'extracurricular_teamsports', 'extracurricular_visualarts', 'financialliteracy', 'financialliteracy_foreignlanguages', 'financialliteracy_health_lifescience', 'financialliteracy_health_wellness', 'financialliteracy_history_geography', 'financialliteracy_literacy', 'financialliteracy_literature_writing', 'financialliteracy_mathematics', 'financialliteracy_other', 'financialliteracy_parentinvolvement', 'financialliteracy_performingarts', 'financialliteracy_socialsciences', 'financialliteracy_specialneeds', 'financialliteracy_visualarts', 'foreignlanguages', 'foreignlanguages_health_lifescience', 'foreignlanguages_health_wellness', 'foreignlanguages_history_geography', 'foreignlanguages_literacy', 'foreignlanguages_literature_writing', 'foreignlanguages_mathematics', 'foreignlanguages_music', 'foreignlanguages_other', 'foreignlanguages_performingarts', 'foreignlanguages_socialsciences', 'foreignlanguages_specialneeds', 'foreignlanguages_visualarts', 'gym_fitness', 'gym_fitness_health_lifescience', 'gym_fitness_health_wellness', 'gym_fitness_history_geography', 'gym_fitness_literacy', 'gym_fitness_literature_writing', 'gym_fitness_mathematics', 'gym_fitness_music', 'gym_fitness_nutritioneducation', 'gym_fitness_other', 'gym_fitness_parentinvolvement', 'gym_fitness_performingarts', 'gym_fitness_socialsciences', 'gym_fitness_specialneeds', 'gym_fitness_teamsports', 'gym_fitness_visualarts', 'health_lifescience', 'health_lifescience_health_wellness', 'health_lifescience_history_geography', 'health_lifescience_literacy', 'health_lifescience_literature_writing', 'health_lifescience_mathematics', 'health_lifescience_music', 'health_lifescience_nutritioneducation', 'health_lifescience_other', 'health_lifescience_parentinvolvement', 'health_lifescience_performingarts', 'health_lifescience_socialsciences', 'health_lifescience_specialneeds', 'health_lifescience_teamsports', 'health_lifescience_visualarts', 'health_lifescience_warmth_care_hunger', 'health_wellness', 'health_wellness_history_geography', 'health_wellness_literacy', 'health_wellness_literature_writing', 'health_wellness_mathematics', 'health_wellness_music', 'health_wellness_nutritioneducation', 'health_wellness_other', 'health_wellness_parentinvolvement', 'health_wellness_performingarts', 'health_wellness_socialsciences', 'health_wellness_specialneeds', 'health_wellness_teamsports', 'health_wellness_visualarts', 'health_wellness_warmth_care_hunger', 'history_geography', 'history_geography_literacy', 'history_geography_literature_writing', 'history_geography_mathematics', 'history_geography_music', 'history_geography_other', 'history_geography_parentinvolvement', 'history_geography_performingarts', 'history_geography_socialsciences', 'history_geography_specialneeds', 'history_geography_teamsports', 'history_geography_visualarts', 'literacy', 'literacy_literature_writing', 'literacy_mathematics', 'literacy_music', 'literacy_nutritioneducation', 'literacy_other', 'literacy_parentinvolvement', 'literacy_performingarts', 'literacy_socialsciences', 'literacy_specialneeds', 'literacy_teamsports', 'literacy_visualarts', 'literacy_warmth_care_hunger', 'literature_writing', 'literature_writing_mathematics', 'literature_writing_music', 'literature_writing_nutritioneducation', 'literature_writing_other', 'literature_writing_parentinvolvement', 'literature_writing_performingarts', 'literature_writing_socialsciences', 'literature_writing_specialneeds', 'literature_writing_teamsports', 'literature_writing_visualarts', 'literature_writing_warmth_care_hunger', 'mathematics', 'mathematics_music', 'mathematics_nutritioneducation', 'mathematics_other', 'mathematics_parentinvolvement', 'mathematics_performingarts', 'mathematics_socialsciences', 'mathematics_specialneeds', 'mathematics_teamsports', 'mathematics_visualarts', 'mathematics_warmth_care_hunger', 'music', 'music_other', 'music_parentinvolvement', 'music_performingarts', 'music_socialsciences', 'music_specialneeds', 'music_teamsports', 'music_visualarts', 'nutritioneducation', 'nutritioneducation_other', 'nutritioneducation_socialsciences', 'nutritioneducation_specialneeds', 'nutritioneducation_teamsports', 'nutritioneducation_visualarts', 'nutritioneducation_warmth_care_hunger', 'other', 'other_parentinvolvement', 'other_performingarts', 'other_socialsciences', 'other_specialneeds', 'other_teamsports', 'other_visualarts', 'other_warmth_care_hunger', 'parentinvolvement', 'parentinvolvement_performingarts', 'parentinvolvement_socialsciences', 'parentinvolvement_specialneeds', 'parentinvolvement_teamsports', 'parentinvolvement_visualarts', 'parentinvolvement_warmth_care_hunger', 'performingarts', 'performingarts_socialsciences', 'performingarts_specialneeds', 'performingarts_teamsports', 'performingarts_visualarts', 'socialsciences', 'socialsciences_specialneeds', 'socialsciences_teamsports', 'socialsciences_visualarts', 'specialneeds', 'specialneeds_teamsports', 'specialneeds_visualarts', 'specialneeds_warmth_care_hunger', 'teamsports', 'teamsports_visualarts', 'visualarts', 'visualarts_warmth_care_hunger', 'warmth_care_hunger']\n",
      "Shape of matrix after one hot encoding -> sub_categories: X_train_case1:  (87364, 396)\n",
      "Shape of matrix after one hot encoding -> sub_categories: X_test_Case1 :  (21841, 396)\n"
     ]
    }
   ],
   "source": [
    "vectorizer_sub = CountVectorizer( lowercase=False, binary=True)\n",
    "vectorizer_sub.fit(X_train_case2['project_subject_subcategories'].values)\n",
    "x_train_case2_sub_categories = vectorizer_sub.transform(X_train_case2['project_subject_subcategories'].values)\n",
    "x_test_case2_sub_categories  = vectorizer_sub.transform(X_test_case2['project_subject_subcategories'].values)\n",
    "\n",
    "print(vectorizer_sub.get_feature_names())\n",
    "\n",
    "print(\"Shape of matrix after one hot encoding -> sub_categories: X_train_case1: \",x_train_case2_sub_categories.shape)\n",
    "print(\"Shape of matrix after one hot encoding -> sub_categories: X_test_Case1 : \",x_test_case2_sub_categories.shape)"
   ]
  },
  {
   "cell_type": "markdown",
   "id": "fbbd6ead",
   "metadata": {
    "id": "sv6pE59teAUO",
    "papermill": {
     "duration": 0.042908,
     "end_time": "2023-04-26T11:11:10.737459",
     "exception": false,
     "start_time": "2023-04-26T11:11:10.694551",
     "status": "completed"
    },
    "tags": []
   },
   "source": [
    "**CASE 2 : ENCODING SCHOOL STATE**"
   ]
  },
  {
   "cell_type": "code",
   "execution_count": 42,
   "id": "c282e226",
   "metadata": {
    "execution": {
     "iopub.execute_input": "2023-04-26T11:11:10.827049Z",
     "iopub.status.busy": "2023-04-26T11:11:10.826099Z",
     "iopub.status.idle": "2023-04-26T11:11:11.478735Z",
     "shell.execute_reply": "2023-04-26T11:11:11.477969Z"
    },
    "id": "SRgfqQECXJXQ",
    "outputId": "eab5f3a9-bbca-45ef-ed24-1eaf945ac5a1",
    "papermill": {
     "duration": 0.699955,
     "end_time": "2023-04-26T11:11:11.480773",
     "exception": false,
     "start_time": "2023-04-26T11:11:10.780818",
     "status": "completed"
    },
    "tags": []
   },
   "outputs": [
    {
     "name": "stdout",
     "output_type": "stream",
     "text": [
      "['ak', 'al', 'ar', 'az', 'ca', 'co', 'ct', 'dc', 'de', 'fl', 'ga', 'hi', 'ia', 'id', 'il', 'in', 'ks', 'ky', 'la', 'ma', 'md', 'me', 'mi', 'mn', 'mo', 'ms', 'mt', 'nc', 'nd', 'ne', 'nh', 'nj', 'nm', 'nv', 'ny', 'oh', 'ok', 'or', 'pa', 'ri', 'sc', 'sd', 'tn', 'tx', 'ut', 'va', 'vt', 'wa', 'wi', 'wv', 'wy']\n",
      "Shape of matrix after one hot encoding -> school_state: x_train:  (87364, 51)\n",
      "Shape of matrix after one hot encoding -> school_state: x_test :  (21841, 51)\n"
     ]
    }
   ],
   "source": [
    "vectorizer_state = CountVectorizer( lowercase=False, binary=True)\n",
    "vectorizer_state.fit(X_train_case2['school_state'])\n",
    "\n",
    "x_train_case2_school_state = vectorizer_state.transform(X_train_case2['school_state'].values)\n",
    "x_test_case2_school_state  = vectorizer_state.transform(X_test_case2['school_state'].values)\n",
    "\n",
    "print(vectorizer_state.get_feature_names())\n",
    "\n",
    "print(\"Shape of matrix after one hot encoding -> school_state: x_train: \",x_train_case2_school_state.shape)\n",
    "print(\"Shape of matrix after one hot encoding -> school_state: x_test : \",x_test_case2_school_state.shape)"
   ]
  },
  {
   "cell_type": "markdown",
   "id": "afd37da0",
   "metadata": {
    "id": "CLQ6b83deCjq",
    "papermill": {
     "duration": 0.043781,
     "end_time": "2023-04-26T11:11:11.568499",
     "exception": false,
     "start_time": "2023-04-26T11:11:11.524718",
     "status": "completed"
    },
    "tags": []
   },
   "source": [
    "**CASE 2 : ENCODING TEACHER PREFIX**"
   ]
  },
  {
   "cell_type": "code",
   "execution_count": 43,
   "id": "7edaffcf",
   "metadata": {
    "execution": {
     "iopub.execute_input": "2023-04-26T11:11:11.657033Z",
     "iopub.status.busy": "2023-04-26T11:11:11.656462Z",
     "iopub.status.idle": "2023-04-26T11:11:12.303344Z",
     "shell.execute_reply": "2023-04-26T11:11:12.302354Z"
    },
    "id": "K-5I3dFxXJlD",
    "outputId": "317dcf32-21cd-45d4-aed0-71df04370d37",
    "papermill": {
     "duration": 0.693901,
     "end_time": "2023-04-26T11:11:12.305642",
     "exception": false,
     "start_time": "2023-04-26T11:11:11.611741",
     "status": "completed"
    },
    "tags": []
   },
   "outputs": [
    {
     "name": "stdout",
     "output_type": "stream",
     "text": [
      "['dr', 'mr', 'mrs', 'ms', 'teacher']\n",
      "Shape of matrix after one hot encoding -> prefix: x_train:  (87364, 5)\n",
      "Shape of matrix after one hot encoding -> prefix: x_test :  (21841, 5)\n"
     ]
    }
   ],
   "source": [
    "vectorizer_prefix = CountVectorizer(lowercase=False, binary=True)\n",
    "\n",
    "vectorizer_prefix.fit(X_train_case2['teacher_prefix'].values)\n",
    "\n",
    "x_train_case2_prefix = vectorizer_prefix.transform(X_train_case2['teacher_prefix'].values)\n",
    "x_test_case2_prefix  = vectorizer_prefix.transform(X_test_case2['teacher_prefix'].values)\n",
    "\n",
    "print(vectorizer_prefix.get_feature_names())\n",
    "\n",
    "print(\"Shape of matrix after one hot encoding -> prefix: x_train: \",x_train_case2_prefix.shape)\n",
    "print(\"Shape of matrix after one hot encoding -> prefix: x_test : \",x_test_case2_prefix.shape)"
   ]
  },
  {
   "cell_type": "markdown",
   "id": "ef6c1d15",
   "metadata": {
    "id": "b4sWRPOSeF74",
    "papermill": {
     "duration": 0.04307,
     "end_time": "2023-04-26T11:11:12.392537",
     "exception": false,
     "start_time": "2023-04-26T11:11:12.349467",
     "status": "completed"
    },
    "tags": []
   },
   "source": [
    "**CASE 2 : ENCODING GRADE CATEGORY**"
   ]
  },
  {
   "cell_type": "code",
   "execution_count": 44,
   "id": "06e3103b",
   "metadata": {
    "execution": {
     "iopub.execute_input": "2023-04-26T11:11:12.481614Z",
     "iopub.status.busy": "2023-04-26T11:11:12.480775Z",
     "iopub.status.idle": "2023-04-26T11:11:13.148621Z",
     "shell.execute_reply": "2023-04-26T11:11:13.147449Z"
    },
    "id": "2I-uh1--XJzC",
    "outputId": "e58a37b0-800e-4e9d-82a9-cd5d9c6244c3",
    "papermill": {
     "duration": 0.71501,
     "end_time": "2023-04-26T11:11:13.151062",
     "exception": false,
     "start_time": "2023-04-26T11:11:12.436052",
     "status": "completed"
    },
    "tags": []
   },
   "outputs": [
    {
     "name": "stdout",
     "output_type": "stream",
     "text": [
      "['grades_3_5', 'grades_6_8', 'grades_9_12', 'grades_prek_2']\n",
      "Shape of matrix after one hot encoding -> project_grade: x_train :  (87364, 4)\n",
      "Shape of matrix after one hot encoding -> project_grade: x_test  :  (21841, 4)\n"
     ]
    }
   ],
   "source": [
    "vectorizer_grade = CountVectorizer(lowercase=False, binary=True)\n",
    "\n",
    "vectorizer_grade.fit(X_train_case2['project_grade_category'].values)\n",
    "\n",
    "x_train_case2_grade_category = vectorizer_grade.transform(X_train_case2['project_grade_category'].values)\n",
    "x_test_case2_grade_category  = vectorizer_grade.transform(X_test_case2['project_grade_category'].values)\n",
    "\n",
    "print(vectorizer_grade.get_feature_names())\n",
    "\n",
    "print(\"Shape of matrix after one hot encoding -> project_grade: x_train : \",x_train_case2_grade_category.shape)\n",
    "print(\"Shape of matrix after one hot encoding -> project_grade: x_test  : \",x_test_case2_grade_category.shape)\n"
   ]
  },
  {
   "cell_type": "markdown",
   "id": "b039cee0",
   "metadata": {
    "id": "9BzBP4fPeLYh",
    "papermill": {
     "duration": 0.04373,
     "end_time": "2023-04-26T11:11:13.239094",
     "exception": false,
     "start_time": "2023-04-26T11:11:13.195364",
     "status": "completed"
    },
    "tags": []
   },
   "source": [
    "**CASE 2 : ENCODING PRICE**"
   ]
  },
  {
   "cell_type": "code",
   "execution_count": 45,
   "id": "2c915a83",
   "metadata": {
    "execution": {
     "iopub.execute_input": "2023-04-26T11:11:13.328239Z",
     "iopub.status.busy": "2023-04-26T11:11:13.327792Z",
     "iopub.status.idle": "2023-04-26T11:11:13.339110Z",
     "shell.execute_reply": "2023-04-26T11:11:13.338201Z"
    },
    "id": "hGjZeCYsX8lF",
    "outputId": "6cad8d2b-086d-4b59-f22b-9c11a58d2af7",
    "papermill": {
     "duration": 0.058671,
     "end_time": "2023-04-26T11:11:13.341004",
     "exception": false,
     "start_time": "2023-04-26T11:11:13.282333",
     "status": "completed"
    },
    "tags": []
   },
   "outputs": [
    {
     "data": {
      "text/plain": [
       "array([[1.40789846e-03],\n",
       "       [7.07142313e-04],\n",
       "       [1.21495014e-03],\n",
       "       ...,\n",
       "       [8.42399873e-05],\n",
       "       [5.61293762e-03],\n",
       "       [2.15952867e-03]])"
      ]
     },
     "execution_count": 45,
     "metadata": {},
     "output_type": "execute_result"
    }
   ],
   "source": [
    "normalizer = Normalizer()\n",
    "normalizer.fit(X_train_case2['price'].values.reshape(1,-1))\n",
    "x_train_case2_price_normalized = normalizer.transform(X_train_case2['price'].values.reshape(1, -1)).reshape(-1,1)\n",
    "normalizer.fit(X_test_case2['price'].values.reshape(1,-1))\n",
    "x_test_case2_price_normalized  = normalizer.transform(X_test_case2['price'].values.reshape(1, -1)).reshape(-1,1)\n",
    "x_train_case2_price_normalized"
   ]
  },
  {
   "cell_type": "markdown",
   "id": "f0dfc13c",
   "metadata": {
    "id": "FXfZxq3FeOfM",
    "papermill": {
     "duration": 0.043081,
     "end_time": "2023-04-26T11:11:13.428264",
     "exception": false,
     "start_time": "2023-04-26T11:11:13.385183",
     "status": "completed"
    },
    "tags": []
   },
   "source": [
    "**CASE 2 : ENCODING PREVIOUS PROJECTS**"
   ]
  },
  {
   "cell_type": "code",
   "execution_count": 46,
   "id": "0d28f6e9",
   "metadata": {
    "execution": {
     "iopub.execute_input": "2023-04-26T11:11:13.516774Z",
     "iopub.status.busy": "2023-04-26T11:11:13.515880Z",
     "iopub.status.idle": "2023-04-26T11:11:13.524211Z",
     "shell.execute_reply": "2023-04-26T11:11:13.523307Z"
    },
    "id": "nvxyuBrQX9Lb",
    "papermill": {
     "duration": 0.05465,
     "end_time": "2023-04-26T11:11:13.526252",
     "exception": false,
     "start_time": "2023-04-26T11:11:13.471602",
     "status": "completed"
    },
    "tags": []
   },
   "outputs": [],
   "source": [
    "teacher_previous_proj_normalizer = Normalizer()\n",
    "teacher_previous_proj_normalizer.fit(X_train_case2['teacher_number_of_previously_posted_projects'].values.reshape(1,-1))\n",
    "x_train_case2_teacher_previous_proj_normalized = teacher_previous_proj_normalizer.transform(X_train_case2['teacher_number_of_previously_posted_projects'].values.reshape(1,- 1)).reshape(-1,1)\n",
    "teacher_previous_proj_normalizer.fit(X_test_case2['teacher_number_of_previously_posted_projects'].values.reshape(1,-1))\n",
    "x_test_case2_teacher_previous_proj_normalized  = teacher_previous_proj_normalizer.transform(X_test_case2['teacher_number_of_previously_posted_projects'].values.reshape(1,- 1)).reshape(-1,1)\n"
   ]
  },
  {
   "cell_type": "markdown",
   "id": "b93e2043",
   "metadata": {
    "id": "niDnB24UeSmP",
    "papermill": {
     "duration": 0.043244,
     "end_time": "2023-04-26T11:11:13.613210",
     "exception": false,
     "start_time": "2023-04-26T11:11:13.569966",
     "status": "completed"
    },
    "tags": []
   },
   "source": [
    "**CASE 2 : ENCODING QUANTITY**"
   ]
  },
  {
   "cell_type": "code",
   "execution_count": 47,
   "id": "f1d61fbc",
   "metadata": {
    "execution": {
     "iopub.execute_input": "2023-04-26T11:11:13.701429Z",
     "iopub.status.busy": "2023-04-26T11:11:13.700961Z",
     "iopub.status.idle": "2023-04-26T11:11:13.712982Z",
     "shell.execute_reply": "2023-04-26T11:11:13.712011Z"
    },
    "id": "m84xIhpaX_xl",
    "outputId": "94a6d6c1-ff40-41b2-e862-660ab0169cbc",
    "papermill": {
     "duration": 0.058288,
     "end_time": "2023-04-26T11:11:13.715008",
     "exception": false,
     "start_time": "2023-04-26T11:11:13.656720",
     "status": "completed"
    },
    "tags": []
   },
   "outputs": [
    {
     "data": {
      "text/plain": [
       "array([[0.00077097],\n",
       "       [0.00066083],\n",
       "       [0.00044056],\n",
       "       ...,\n",
       "       [0.00209264],\n",
       "       [0.0014318 ],\n",
       "       [0.00220278]])"
      ]
     },
     "execution_count": 47,
     "metadata": {},
     "output_type": "execute_result"
    }
   ],
   "source": [
    "normalizer = Normalizer()\n",
    "\n",
    "normalizer.fit(X_train_case2['quantity'].values.reshape(1,-1)) \n",
    "x_train_case2_quantity_normalized = normalizer.transform(X_train_case2['quantity'].values.reshape(1, -1)).reshape(-1,1)\n",
    "normalizer.fit(X_test_case2['quantity'].values.reshape(1,-1)) \n",
    "x_test_case2_quantity_normalized  = normalizer.transform(X_test_case2['quantity'].values.reshape(1, -1)).reshape(-1,1)\n",
    "x_train_case2_quantity_normalized\n"
   ]
  },
  {
   "cell_type": "markdown",
   "id": "69ee8a1c",
   "metadata": {
    "id": "UOB7IBmpgRGA",
    "papermill": {
     "duration": 0.043239,
     "end_time": "2023-04-26T11:11:13.802670",
     "exception": false,
     "start_time": "2023-04-26T11:11:13.759431",
     "status": "completed"
    },
    "tags": []
   },
   "source": [
    "**CASE 2 : TF-IDF Cleaned ESSAYS**"
   ]
  },
  {
   "cell_type": "code",
   "execution_count": 48,
   "id": "d94ae235",
   "metadata": {
    "execution": {
     "iopub.execute_input": "2023-04-26T11:11:13.891411Z",
     "iopub.status.busy": "2023-04-26T11:11:13.890834Z",
     "iopub.status.idle": "2023-04-26T11:12:02.997327Z",
     "shell.execute_reply": "2023-04-26T11:12:02.996323Z"
    },
    "id": "35EVw6bLxgyS",
    "outputId": "fd696dff-d283-41bb-8984-6f75b1c01943",
    "papermill": {
     "duration": 49.198092,
     "end_time": "2023-04-26T11:12:03.044263",
     "exception": false,
     "start_time": "2023-04-26T11:11:13.846171",
     "status": "completed"
    },
    "tags": []
   },
   "outputs": [
    {
     "name": "stdout",
     "output_type": "stream",
     "text": [
      "Shape of matrix after TF-IDF -> Essay: x_train:  (87364, 5000)\n",
      "Shape of matrix after TF-IDF -> Essay: x_test :  (21841, 5000)\n"
     ]
    }
   ],
   "source": [
    "# TF-IDF on train set of cleaned titles\n",
    "\n",
    "vectorizer_essay_tfidf_bigram = TfidfVectorizer(ngram_range=(2,2),min_df=10,max_features=5000)\n",
    "vectorizer_essay_tfidf_bigram.fit(X_train_case2['cleaned_essays'])\n",
    "x_train_case2_essays_tfidf_bigram = vectorizer_essay_tfidf_bigram.transform(X_train_case2['cleaned_essays'])\n",
    "x_test_case2_essays_tfidf_bigram  = vectorizer_essay_tfidf_bigram.transform(X_test_case2['cleaned_essays'])\n",
    "\n",
    "print(\"Shape of matrix after TF-IDF -> Essay: x_train: \",x_train_case2_essays_tfidf_bigram.shape)\n",
    "print(\"Shape of matrix after TF-IDF -> Essay: x_test : \",x_test_case2_essays_tfidf_bigram.shape)"
   ]
  },
  {
   "cell_type": "markdown",
   "id": "de705aa1",
   "metadata": {
    "id": "hmF9A61Ng8Kh",
    "papermill": {
     "duration": 0.044933,
     "end_time": "2023-04-26T11:12:03.132496",
     "exception": false,
     "start_time": "2023-04-26T11:12:03.087563",
     "status": "completed"
    },
    "tags": []
   },
   "source": [
    "**CASE 2 : TF-IDF Cleaned Titles**"
   ]
  },
  {
   "cell_type": "code",
   "execution_count": 49,
   "id": "203e90be",
   "metadata": {
    "execution": {
     "iopub.execute_input": "2023-04-26T11:12:03.221734Z",
     "iopub.status.busy": "2023-04-26T11:12:03.221317Z",
     "iopub.status.idle": "2023-04-26T11:12:05.217479Z",
     "shell.execute_reply": "2023-04-26T11:12:05.216047Z"
    },
    "id": "x6HD9JmycMex",
    "outputId": "bd12b788-0dfb-4ef6-f05d-c16d2d7320dd",
    "papermill": {
     "duration": 2.04392,
     "end_time": "2023-04-26T11:12:05.219849",
     "exception": false,
     "start_time": "2023-04-26T11:12:03.175929",
     "status": "completed"
    },
    "tags": []
   },
   "outputs": [
    {
     "name": "stdout",
     "output_type": "stream",
     "text": [
      "Shape of matrix after TF-IDF -> Titles: x_train:  (87364, 2491)\n",
      "Shape of matrix after TF-IDF -> Titles: x_test :  (21841, 2491)\n"
     ]
    }
   ],
   "source": [
    "vectorizer_titles_tfidf_bigram = TfidfVectorizer(ngram_range=(2,2),min_df=10,max_features=5000)\n",
    "vectorizer_titles_tfidf_bigram.fit(X_train_case2['cleaned_titles'])\n",
    "x_train_case2_essays_tfidf_bigram = vectorizer_titles_tfidf_bigram.transform(X_train_case2['cleaned_titles'])\n",
    "x_test_case2_essays_tfidf_bigram  = vectorizer_titles_tfidf_bigram.transform(X_test_case2['cleaned_titles'])\n",
    "\n",
    "print(\"Shape of matrix after TF-IDF -> Titles: x_train: \",x_train_case2_essays_tfidf_bigram.shape)\n",
    "print(\"Shape of matrix after TF-IDF -> Titles: x_test : \",x_test_case2_essays_tfidf_bigram.shape)"
   ]
  },
  {
   "cell_type": "markdown",
   "id": "eada549a",
   "metadata": {
    "id": "NgSfFKachSfM",
    "papermill": {
     "duration": 0.042625,
     "end_time": "2023-04-26T11:12:05.305585",
     "exception": false,
     "start_time": "2023-04-26T11:12:05.262960",
     "status": "completed"
    },
    "tags": []
   },
   "source": [
    "###**CASE 2 : Concatenate all features and named as X_train_TFIDF and X_Test_TFIDF**"
   ]
  },
  {
   "cell_type": "code",
   "execution_count": 50,
   "id": "125c5203",
   "metadata": {
    "execution": {
     "iopub.execute_input": "2023-04-26T11:12:05.393439Z",
     "iopub.status.busy": "2023-04-26T11:12:05.393002Z",
     "iopub.status.idle": "2023-04-26T11:12:05.430994Z",
     "shell.execute_reply": "2023-04-26T11:12:05.429693Z"
    },
    "id": "tNHdf-rgeX4W",
    "outputId": "28db9db4-f7d2-4d2e-a001-fc1fda067c9e",
    "papermill": {
     "duration": 0.084429,
     "end_time": "2023-04-26T11:12:05.433236",
     "exception": false,
     "start_time": "2023-04-26T11:12:05.348807",
     "status": "completed"
    },
    "tags": []
   },
   "outputs": [
    {
     "name": "stdout",
     "output_type": "stream",
     "text": [
      "Type -> One Hot -> x_train:  <class 'scipy.sparse.coo.coo_matrix'>\n",
      "Type -> One Hot -> x_test :  <class 'scipy.sparse.coo.coo_matrix'>\n",
      "\n",
      "\n",
      "Shape -> One Hot -> x_train:  (87364, 5491)\n",
      "Shape -> One Hot -> x_test :  (21841, 5491)\n"
     ]
    }
   ],
   "source": [
    "X_train_TF_IDF_merge = hstack((x_train_case2_essays_tfidf_bigram, x_train_case2_essays_tfidf_bigram, x_train_case2_categories, x_train_case2_sub_categories, x_train_case2_school_state, x_train_case2_prefix, x_train_case2_grade_category, x_train_case2_price_normalized, x_train_case2_quantity_normalized, x_train_case2_teacher_previous_proj_normalized))\n",
    "X_test_TF_IDF_merge  = hstack((x_test_case2_essays_tfidf_bigram, x_test_case2_essays_tfidf_bigram, x_test_case2_categories, x_test_case2_sub_categories, x_test_case2_school_state, x_test_case2_prefix,x_test_case2_grade_category, x_test_case2_price_normalized, x_test_case2_quantity_normalized, x_test_case2_teacher_previous_proj_normalized))\n",
    "\n",
    "print(\"Type -> One Hot -> x_train: \",type(X_train_TF_IDF_merge))\n",
    "print(\"Type -> One Hot -> x_test : \",type(X_test_TF_IDF_merge))\n",
    "print(\"\\n\")\n",
    "print(\"Shape -> One Hot -> x_train: \",X_train_TF_IDF_merge.shape)\n",
    "print(\"Shape -> One Hot -> x_test : \",X_test_TF_IDF_merge.shape)"
   ]
  },
  {
   "cell_type": "markdown",
   "id": "b3edf26c",
   "metadata": {
    "id": "fruhQDPlfgAG",
    "papermill": {
     "duration": 0.042692,
     "end_time": "2023-04-26T11:12:05.520403",
     "exception": false,
     "start_time": "2023-04-26T11:12:05.477711",
     "status": "completed"
    },
    "tags": []
   },
   "source": [
    "#Part B\n",
    "\n",
    "##Model Building\n",
    "\n",
    "### 1. Apply Decision Tree Classifier on Case_1 and Case_2 feature sets. - GridSearchCV\n",
    " CASE1: Perform hyper parameter tuning:\n",
    "Assign (best `depth` in range [5, 10, 50], and the best `min_samples_split` in range [10, 100, 500])"
   ]
  },
  {
   "cell_type": "code",
   "execution_count": 51,
   "id": "fc8f683b",
   "metadata": {
    "execution": {
     "iopub.execute_input": "2023-04-26T11:12:05.609533Z",
     "iopub.status.busy": "2023-04-26T11:12:05.608867Z",
     "iopub.status.idle": "2023-04-26T11:14:04.166476Z",
     "shell.execute_reply": "2023-04-26T11:14:04.165228Z"
    },
    "id": "vtlvAk9P_dIH",
    "outputId": "4db5c6a8-e7d8-4ed1-d268-4a74792c8279",
    "papermill": {
     "duration": 118.649388,
     "end_time": "2023-04-26T11:14:04.213039",
     "exception": false,
     "start_time": "2023-04-26T11:12:05.563651",
     "status": "completed"
    },
    "tags": []
   },
   "outputs": [
    {
     "name": "stdout",
     "output_type": "stream",
     "text": [
      "Fitting 3 folds for each of 9 candidates, totalling 27 fits\n",
      "BEST MAX DEPTH:  10  BEST SCORE:  0.6639891599991079 BEST MIN SAMPLE SPLIT:  500\n"
     ]
    }
   ],
   "source": [
    "dt_case1 = DecisionTreeClassifier(class_weight='balanced')\n",
    "parameters = {'max_depth':[5, 10, 50],'min_samples_split':[10, 100, 500]}\n",
    "clf2 = GridSearchCV(dt_case1, parameters, cv= 3, scoring='roc_auc',verbose=1,return_train_score=True,n_jobs=-1)\n",
    "\n",
    "clf2.fit(X_train_BoW_merge,y_train_case1)\n",
    "train_auc= clf2.cv_results_['mean_train_score']\n",
    "train_auc_std= clf2.cv_results_['std_train_score']\n",
    "cv_auc = clf2.cv_results_['mean_test_score']\n",
    "cv_auc_std= clf2.cv_results_['std_test_score']\n",
    "bestMaxDepth_2=clf2.best_params_['max_depth']\n",
    "bestMinSampleSplit_2=clf2.best_params_['min_samples_split']\n",
    "bestScore_2=clf2.best_score_\n",
    "case1_maxDepth = clf2.best_params_['max_depth']\n",
    "print(\"BEST MAX DEPTH: \",clf2.best_params_['max_depth'],\" BEST SCORE: \",clf2.best_score_,\"BEST MIN SAMPLE SPLIT: \",clf2.best_params_['min_samples_split'])"
   ]
  },
  {
   "cell_type": "markdown",
   "id": "5d416a08",
   "metadata": {
    "id": "m2AR5wLEZgzt",
    "papermill": {
     "duration": 0.043874,
     "end_time": "2023-04-26T11:14:04.300833",
     "exception": false,
     "start_time": "2023-04-26T11:14:04.256959",
     "status": "completed"
    },
    "tags": []
   },
   "source": [
    "### CASE1: Heat_Map"
   ]
  },
  {
   "cell_type": "code",
   "execution_count": 52,
   "id": "97e45296",
   "metadata": {
    "execution": {
     "iopub.execute_input": "2023-04-26T11:14:04.391997Z",
     "iopub.status.busy": "2023-04-26T11:14:04.391599Z",
     "iopub.status.idle": "2023-04-26T11:14:04.942854Z",
     "shell.execute_reply": "2023-04-26T11:14:04.942098Z"
    },
    "id": "v-v_WMjTNQ6n",
    "outputId": "93624c01-e4b3-4604-eddf-9a43f38d24e7",
    "papermill": {
     "duration": 0.599599,
     "end_time": "2023-04-26T11:14:04.945170",
     "exception": false,
     "start_time": "2023-04-26T11:14:04.345571",
     "status": "completed"
    },
    "tags": []
   },
   "outputs": [
    {
     "data": {
      "image/png": "[encoded data removed]",
      "text/plain": [
       "<Figure size 1440x432 with 4 Axes>"
      ]
     },
     "metadata": {
      "needs_background": "light"
     },
     "output_type": "display_data"
    }
   ],
   "source": [
    "max_scores2 = pd.DataFrame(clf2.cv_results_).groupby(['param_min_samples_split', 'param_max_depth']).max().unstack()[['mean_test_score', 'mean_train_score']]\n",
    "fig, ax = plt.subplots(1,2, figsize=(20,6))\n",
    "sns.heatmap(max_scores2.mean_train_score, annot = True, fmt='.4g', ax=ax[0],annot_kws={\"size\": 26})\n",
    "sns.heatmap(max_scores2.mean_test_score, annot = True, fmt='.4g', ax=ax[1],annot_kws={\"size\": 26},cmap=\"YlGnBu\")\n",
    "ax[0].set_title('Train Set')\n",
    "ax[1].set_title('CV Set')\n",
    "plt.show()"
   ]
  },
  {
   "cell_type": "code",
   "execution_count": 53,
   "id": "dd05c812",
   "metadata": {
    "execution": {
     "iopub.execute_input": "2023-04-26T11:14:05.038895Z",
     "iopub.status.busy": "2023-04-26T11:14:05.038512Z",
     "iopub.status.idle": "2023-04-26T11:14:05.044854Z",
     "shell.execute_reply": "2023-04-26T11:14:05.043976Z"
    },
    "id": "jStyjN-eNR44",
    "outputId": "399439f5-126f-461b-f477-069f2d7467f9",
    "papermill": {
     "duration": 0.056154,
     "end_time": "2023-04-26T11:14:05.047161",
     "exception": false,
     "start_time": "2023-04-26T11:14:04.991007",
     "status": "completed"
    },
    "tags": []
   },
   "outputs": [
    {
     "data": {
      "text/plain": [
       "array([ 2.0792892 ,  2.08298969,  2.05806343,  6.9025778 ,  6.12602599,\n",
       "        4.9476107 , 46.15959891, 35.43583385, 24.41961106])"
      ]
     },
     "execution_count": 53,
     "metadata": {},
     "output_type": "execute_result"
    }
   ],
   "source": [
    "clf2.cv_results_['mean_fit_time']"
   ]
  },
  {
   "cell_type": "markdown",
   "id": "29dcd0fd",
   "metadata": {
    "id": "ao0meaMGZxcn",
    "papermill": {
     "duration": 0.049139,
     "end_time": "2023-04-26T11:14:05.143202",
     "exception": false,
     "start_time": "2023-04-26T11:14:05.094063",
     "status": "completed"
    },
    "tags": []
   },
   "source": [
    "### CASE 1: Find the best hyper parameter which will give the maximum AUC value using k-fold cross validation(use gridsearch cv or randomsearch cv)\n",
    "\n",
    "**Using GridSearchCV**"
   ]
  },
  {
   "cell_type": "markdown",
   "id": "99dd159b",
   "metadata": {
    "id": "uFNOztuBZ1pM",
    "papermill": {
     "duration": 0.046301,
     "end_time": "2023-04-26T11:14:05.236658",
     "exception": false,
     "start_time": "2023-04-26T11:14:05.190357",
     "status": "completed"
    },
    "tags": []
   },
   "source": [
    "**CASE 1: ROC curve**"
   ]
  },
  {
   "cell_type": "code",
   "execution_count": 54,
   "id": "c926f6c8",
   "metadata": {
    "execution": {
     "iopub.execute_input": "2023-04-26T11:14:05.330178Z",
     "iopub.status.busy": "2023-04-26T11:14:05.329769Z",
     "iopub.status.idle": "2023-04-26T11:14:05.340870Z",
     "shell.execute_reply": "2023-04-26T11:14:05.340221Z"
    },
    "id": "5h6vIoM4NVQ9",
    "outputId": "9fcacb03-2168-43e5-c6b1-ecc927708ab4",
    "papermill": {
     "duration": 0.059473,
     "end_time": "2023-04-26T11:14:05.343011",
     "exception": false,
     "start_time": "2023-04-26T11:14:05.283538",
     "status": "completed"
    },
    "tags": []
   },
   "outputs": [
    {
     "data": {
      "text/plain": [
       "{'mean_fit_time': array([ 2.0792892 ,  2.08298969,  2.05806343,  6.9025778 ,  6.12602599,\n",
       "         4.9476107 , 46.15959891, 35.43583385, 24.41961106]),\n",
       " 'std_fit_time': array([0.01100434, 0.05460123, 0.09033967, 0.49233091, 0.27312708,\n",
       "        0.16000757, 1.55550029, 1.78311601, 2.60962174]),\n",
       " 'mean_score_time': array([0.02971458, 0.02908405, 0.03381554, 0.0424482 , 0.03310402,\n",
       "        0.03504244, 0.03829225, 0.03177691, 0.03434602]),\n",
       " 'std_score_time': array([0.00045533, 0.00046932, 0.00315792, 0.0135969 , 0.00046115,\n",
       "        0.00169753, 0.00114085, 0.0045748 , 0.00443431]),\n",
       " 'param_max_depth': masked_array(data=[5, 5, 5, 10, 10, 10, 50, 50, 50],\n",
       "              mask=[False, False, False, False, False, False, False, False,\n",
       "                    False],\n",
       "        fill_value='?',\n",
       "             dtype=object),\n",
       " 'param_min_samples_split': masked_array(data=[10, 100, 500, 10, 100, 500, 10, 100, 500],\n",
       "              mask=[False, False, False, False, False, False, False, False,\n",
       "                    False],\n",
       "        fill_value='?',\n",
       "             dtype=object),\n",
       " 'params': [{'max_depth': 5, 'min_samples_split': 10},\n",
       "  {'max_depth': 5, 'min_samples_split': 100},\n",
       "  {'max_depth': 5, 'min_samples_split': 500},\n",
       "  {'max_depth': 10, 'min_samples_split': 10},\n",
       "  {'max_depth': 10, 'min_samples_split': 100},\n",
       "  {'max_depth': 10, 'min_samples_split': 500},\n",
       "  {'max_depth': 50, 'min_samples_split': 10},\n",
       "  {'max_depth': 50, 'min_samples_split': 100},\n",
       "  {'max_depth': 50, 'min_samples_split': 500}],\n",
       " 'split0_test_score': array([0.66787233, 0.66716457, 0.66704357, 0.66720828, 0.66752054,\n",
       "        0.67009826, 0.59626235, 0.61672104, 0.62871649]),\n",
       " 'split1_test_score': array([0.66180336, 0.66180336, 0.66186765, 0.65949518, 0.65776577,\n",
       "        0.66097448, 0.59147056, 0.61446428, 0.62880593]),\n",
       " 'split2_test_score': array([0.65425879, 0.65438365, 0.65449111, 0.65891487, 0.65857964,\n",
       "        0.66089473, 0.5916574 , 0.60857064, 0.62446002]),\n",
       " 'mean_test_score': array([0.66131149, 0.66111719, 0.66113411, 0.66187277, 0.66128865,\n",
       "        0.66398916, 0.5931301 , 0.61325199, 0.62732748]),\n",
       " 'std_test_score': array([0.00556858, 0.0052403 , 0.0051507 , 0.0037802 , 0.00441912,\n",
       "        0.00431991, 0.00221615, 0.00343603, 0.00202793]),\n",
       " 'rank_test_score': array([3, 6, 5, 2, 4, 1, 9, 8, 7], dtype=int32),\n",
       " 'split0_train_score': array([0.66826887, 0.66815498, 0.66745032, 0.72405715, 0.71458778,\n",
       "        0.70467124, 0.91449199, 0.86107498, 0.81817309]),\n",
       " 'split1_train_score': array([0.6744772 , 0.6744772 , 0.67401696, 0.73165194, 0.72345333,\n",
       "        0.71231572, 0.9260193 , 0.88381284, 0.8361744 ]),\n",
       " 'split2_train_score': array([0.67288309, 0.67268232, 0.67240135, 0.72722256, 0.72042534,\n",
       "        0.71105669, 0.92391225, 0.87733981, 0.83598315]),\n",
       " 'mean_train_score': array([0.67187639, 0.6717715 , 0.67128954, 0.72764388, 0.71948882,\n",
       "        0.70934788, 0.92147451, 0.87407588, 0.83011021]),\n",
       " 'std_train_score': array([0.00263261, 0.00266018, 0.00279372, 0.00311484, 0.00367943,\n",
       "        0.00334659, 0.00501176, 0.0095653 , 0.00844118])}"
      ]
     },
     "execution_count": 54,
     "metadata": {},
     "output_type": "execute_result"
    }
   ],
   "source": [
    "clf2.cv_results_"
   ]
  },
  {
   "cell_type": "markdown",
   "id": "58ad8c11",
   "metadata": {
    "id": "fXd964dhZtRR",
    "papermill": {
     "duration": 0.045489,
     "end_time": "2023-04-26T11:14:05.434994",
     "exception": false,
     "start_time": "2023-04-26T11:14:05.389505",
     "status": "completed"
    },
    "tags": []
   },
   "source": [
    "**CASE1: ROC_CURVE**"
   ]
  },
  {
   "cell_type": "code",
   "execution_count": 55,
   "id": "ce9327ce",
   "metadata": {
    "execution": {
     "iopub.execute_input": "2023-04-26T11:14:05.527435Z",
     "iopub.status.busy": "2023-04-26T11:14:05.526798Z",
     "iopub.status.idle": "2023-04-26T11:14:06.589393Z",
     "shell.execute_reply": "2023-04-26T11:14:06.588251Z"
    },
    "id": "nXungy-jNcxm",
    "outputId": "a26c118c-7d17-47fa-e857-8708515aba88",
    "papermill": {
     "duration": 1.111705,
     "end_time": "2023-04-26T11:14:06.591915",
     "exception": false,
     "start_time": "2023-04-26T11:14:05.480210",
     "status": "completed"
    },
    "tags": []
   },
   "outputs": [
    {
     "name": "stderr",
     "output_type": "stream",
     "text": [
      "/opt/conda/lib/python3.7/site-packages/ipykernel_launcher.py:23: MatplotlibDeprecationWarning:\n",
      "\n",
      "The 'b' parameter of grid() has been renamed 'visible' since Matplotlib 3.5; support for the old name will be dropped two minor releases later.\n",
      "\n"
     ]
    },
    {
     "data": {
      "image/png": "[encoded data removed]",
      "text/plain": [
       "<Figure size 432x288 with 1 Axes>"
      ]
     },
     "metadata": {
      "needs_background": "light"
     },
     "output_type": "display_data"
    }
   ],
   "source": [
    "y_train_pred=clf2.predict_proba(X_train_BoW_merge)[:,1]\n",
    "predictions_train_set2=clf2.predict(X_train_BoW_merge)\n",
    "\n",
    "y_test_pred=clf2.predict_proba(X_test_BoW_merge)[:,1]\n",
    "predictions_test_set2=clf2.predict(X_test_BoW_merge)\n",
    "\n",
    "\n",
    "train_fpr, train_tpr, tr_thresholds = roc_curve(y_train_case1, y_train_pred)\n",
    "test_fpr, test_tpr, te_thresholds = roc_curve(y_test_case1, y_test_pred)\n",
    "\n",
    "ax = plt.subplot()\n",
    "\n",
    "auc_set2_train=auc(train_fpr, train_tpr)\n",
    "auc_set2_test=auc(test_fpr, test_tpr)\n",
    "case1_aucTest = auc_set2_test\n",
    "\n",
    "ax.plot(train_fpr, train_tpr, label=\"Train AUC =\"+str(auc(train_fpr, train_tpr)))\n",
    "ax.plot(test_fpr, test_tpr, label=\"Test AUC =\"+str(auc(test_fpr, test_tpr)))\n",
    "plt.legend()\n",
    "plt.xlabel(\"False Positive Rate(FPR)\")\n",
    "plt.ylabel(\"True Positive Rate(TPR)\")\n",
    "plt.title(\"AUC\")\n",
    "plt.grid(b=True, which='major', color='k', linestyle=':')\n",
    "ax.set_facecolor(\"white\")\n",
    "plt.show()"
   ]
  },
  {
   "cell_type": "markdown",
   "id": "c006bb1b",
   "metadata": {
    "id": "fOnVu-hEaCI9",
    "papermill": {
     "duration": 0.047048,
     "end_time": "2023-04-26T11:14:06.685488",
     "exception": false,
     "start_time": "2023-04-26T11:14:06.638440",
     "status": "completed"
    },
    "tags": []
   },
   "source": [
    "**CASE 1: confusion matrix**"
   ]
  },
  {
   "cell_type": "code",
   "execution_count": 56,
   "id": "58683e99",
   "metadata": {
    "execution": {
     "iopub.execute_input": "2023-04-26T11:14:06.779992Z",
     "iopub.status.busy": "2023-04-26T11:14:06.779586Z",
     "iopub.status.idle": "2023-04-26T11:14:06.786187Z",
     "shell.execute_reply": "2023-04-26T11:14:06.785231Z"
    },
    "id": "G9GtlrlUjgW9",
    "papermill": {
     "duration": 0.055991,
     "end_time": "2023-04-26T11:14:06.788168",
     "exception": false,
     "start_time": "2023-04-26T11:14:06.732177",
     "status": "completed"
    },
    "tags": []
   },
   "outputs": [],
   "source": [
    "def predict(proba, threshould, fpr, tpr):\n",
    "    t = threshould[np.argmax(tpr*(1-fpr))]\n",
    "    # (tpr*(1-fpr)) will be maximum if your fpr is very low and tpr is very high\n",
    "    print(\"the maximum value of tpr*(1-fpr)\", max(tpr*(1-fpr)), \"for threshold\", np.round(t,3))\n",
    "    predictions = []\n",
    "    for i in proba:\n",
    "        if i>=t:\n",
    "            predictions.append(1)\n",
    "        else:\n",
    "            predictions.append(0)\n",
    "\n",
    "    return predictions"
   ]
  },
  {
   "cell_type": "code",
   "execution_count": 57,
   "id": "06452322",
   "metadata": {
    "execution": {
     "iopub.execute_input": "2023-04-26T11:14:06.883330Z",
     "iopub.status.busy": "2023-04-26T11:14:06.882863Z",
     "iopub.status.idle": "2023-04-26T11:14:07.240180Z",
     "shell.execute_reply": "2023-04-26T11:14:07.239225Z"
    },
    "id": "wy1pTvcUaGCO",
    "outputId": "65918f8b-5b78-40ea-b595-acef54d0a797",
    "papermill": {
     "duration": 0.407396,
     "end_time": "2023-04-26T11:14:07.242693",
     "exception": false,
     "start_time": "2023-04-26T11:14:06.835297",
     "status": "completed"
    },
    "tags": []
   },
   "outputs": [
    {
     "name": "stdout",
     "output_type": "stream",
     "text": [
      "the maximum value of tpr*(1-fpr) 0.42426558792082825 for threshold 0.491\n",
      "[[ 8610  4534]\n",
      " [26149 48071]]\n",
      "the maximum value of tpr*(1-fpr) 0.42426558792082825 for threshold 0.491\n"
     ]
    },
    {
     "data": {
      "text/plain": [
       "<AxesSubplot:>"
      ]
     },
     "execution_count": 57,
     "metadata": {},
     "output_type": "execute_result"
    },
    {
     "data": {
      "image/png": "[encoded data removed]",
      "text/plain": [
       "<Figure size 432x288 with 2 Axes>"
      ]
     },
     "metadata": {},
     "output_type": "display_data"
    }
   ],
   "source": [
    "print(confusion_matrix(y_train_case1, predict(y_train_pred, tr_thresholds, train_fpr, train_tpr)))\n",
    "\n",
    "conf_matr_df_train_case1 = pd.DataFrame(confusion_matrix(y_train_case1, predict(y_train_pred, tr_thresholds,train_fpr, train_tpr)), range(2),range(2))\n",
    "sns.set(font_scale=1.4)#for label size\n",
    "sns.heatmap(conf_matr_df_train_case1, annot=True,annot_kws={\"size\": 26}, fmt='g',cmap=\"YlGnBu\")"
   ]
  },
  {
   "cell_type": "code",
   "execution_count": 58,
   "id": "935e8550",
   "metadata": {
    "execution": {
     "iopub.execute_input": "2023-04-26T11:14:07.340848Z",
     "iopub.status.busy": "2023-04-26T11:14:07.340435Z",
     "iopub.status.idle": "2023-04-26T11:14:07.603227Z",
     "shell.execute_reply": "2023-04-26T11:14:07.602283Z"
    },
    "id": "1KPeDnUmlqlO",
    "outputId": "7cf6cc0a-24c8-4d14-c91f-67b0dfee389f",
    "papermill": {
     "duration": 0.313923,
     "end_time": "2023-04-26T11:14:07.605650",
     "exception": false,
     "start_time": "2023-04-26T11:14:07.291727",
     "status": "completed"
    },
    "tags": []
   },
   "outputs": [
    {
     "name": "stdout",
     "output_type": "stream",
     "text": [
      "the maximum value of tpr*(1-fpr) 0.42426558792082825 for threshold 0.491\n",
      "[[2507  874]\n",
      " [9757 8703]]\n",
      "the maximum value of tpr*(1-fpr) 0.42426558792082825 for threshold 0.491\n"
     ]
    },
    {
     "data": {
      "text/plain": [
       "<AxesSubplot:>"
      ]
     },
     "execution_count": 58,
     "metadata": {},
     "output_type": "execute_result"
    },
    {
     "data": {
      "image/png": "[encoded data removed]",
      "text/plain": [
       "<Figure size 432x288 with 2 Axes>"
      ]
     },
     "metadata": {},
     "output_type": "display_data"
    }
   ],
   "source": [
    "print(confusion_matrix(y_test_case1, predict(y_test_pred, tr_thresholds, train_fpr, train_tpr)))\n",
    "\n",
    "conf_matr_df_train_case2 = pd.DataFrame(confusion_matrix(y_test_case1, predict(y_test_pred, tr_thresholds,train_fpr, train_tpr)), range(2),range(2))\n",
    "sns.set(font_scale=1.4)#for label size\n",
    "sns.heatmap(conf_matr_df_train_case2, annot=True,annot_kws={\"size\": 26}, fmt='g',cmap=\"YlGnBu\")"
   ]
  },
  {
   "cell_type": "markdown",
   "id": "a2304493",
   "metadata": {
    "id": "mIj2HF2wiDxB",
    "papermill": {
     "duration": 0.047929,
     "end_time": "2023-04-26T11:14:07.701593",
     "exception": false,
     "start_time": "2023-04-26T11:14:07.653664",
     "status": "completed"
    },
    "tags": []
   },
   "source": [
    "### GridSearchCV\n",
    "## CASE2: Perform hyper parameter tuning:\n",
    "Assign (best `depth` in range [5, 10, 50], and the best `min_samples_split` in range [10, 100, 500])"
   ]
  },
  {
   "cell_type": "code",
   "execution_count": 59,
   "id": "7ac1653a",
   "metadata": {
    "execution": {
     "iopub.execute_input": "2023-04-26T11:14:07.798249Z",
     "iopub.status.busy": "2023-04-26T11:14:07.797812Z",
     "iopub.status.idle": "2023-04-26T11:14:30.097309Z",
     "shell.execute_reply": "2023-04-26T11:14:30.095967Z"
    },
    "id": "CmOmiZiKfSte",
    "outputId": "294e1acb-c52f-4431-be3f-493bf4bdd3e5",
    "papermill": {
     "duration": 22.351137,
     "end_time": "2023-04-26T11:14:30.099588",
     "exception": false,
     "start_time": "2023-04-26T11:14:07.748451",
     "status": "completed"
    },
    "tags": []
   },
   "outputs": [
    {
     "name": "stdout",
     "output_type": "stream",
     "text": [
      "Fitting 3 folds for each of 9 candidates, totalling 27 fits\n",
      "BEST MAX DEPTH:  5  BEST SCORE:  0.6585303222627763 BEST MIN SAMPLE SPLIT:  10\n"
     ]
    }
   ],
   "source": [
    "dt_case1 = DecisionTreeClassifier(class_weight='balanced')\n",
    "parameters = {'max_depth':[5, 10, 50],'min_samples_split':[10, 100, 500]}\n",
    "clf2 = GridSearchCV(dt_case1, parameters, cv= 3, scoring='roc_auc',verbose=1,return_train_score=True,n_jobs=-1)\n",
    "\n",
    "clf2.fit(X_train_TF_IDF_merge,y_train_case2)\n",
    "train_auc= clf2.cv_results_['mean_train_score']\n",
    "train_auc_std= clf2.cv_results_['std_train_score']\n",
    "cv_auc = clf2.cv_results_['mean_test_score']\n",
    "cv_auc_std= clf2.cv_results_['std_test_score']\n",
    "bestMaxDepth_2=clf2.best_params_['max_depth']\n",
    "bestMinSampleSplit_2=clf2.best_params_['min_samples_split']\n",
    "bestScore_2=clf2.best_score_\n",
    "print(\"BEST MAX DEPTH: \",clf2.best_params_['max_depth'],\" BEST SCORE: \",clf2.best_score_,\"BEST MIN SAMPLE SPLIT: \",clf2.best_params_['min_samples_split'])"
   ]
  },
  {
   "cell_type": "markdown",
   "id": "f7b39b62",
   "metadata": {
    "id": "qTQ1Qq1YixM8",
    "papermill": {
     "duration": 0.047097,
     "end_time": "2023-04-26T11:14:30.197970",
     "exception": false,
     "start_time": "2023-04-26T11:14:30.150873",
     "status": "completed"
    },
    "tags": []
   },
   "source": [
    "**CASE 2 : HEAT MAPS**"
   ]
  },
  {
   "cell_type": "code",
   "execution_count": 60,
   "id": "767bb69d",
   "metadata": {
    "execution": {
     "iopub.execute_input": "2023-04-26T11:14:30.295366Z",
     "iopub.status.busy": "2023-04-26T11:14:30.294947Z",
     "iopub.status.idle": "2023-04-26T11:14:30.856568Z",
     "shell.execute_reply": "2023-04-26T11:14:30.855603Z"
    },
    "id": "mcPIZrqEfS61",
    "outputId": "670485b9-617e-4f0f-c579-31790e6ddb0f",
    "papermill": {
     "duration": 0.613264,
     "end_time": "2023-04-26T11:14:30.859551",
     "exception": false,
     "start_time": "2023-04-26T11:14:30.246287",
     "status": "completed"
    },
    "tags": []
   },
   "outputs": [
    {
     "data": {
      "image/png": "[encoded data removed]",
      "text/plain": [
       "<Figure size 1440x432 with 4 Axes>"
      ]
     },
     "metadata": {},
     "output_type": "display_data"
    }
   ],
   "source": [
    "sns.set()\n",
    "max_scores2 = pd.DataFrame(clf2.cv_results_).groupby(['param_min_samples_split', 'param_max_depth']).max().unstack()[['mean_test_score', 'mean_train_score']]\n",
    "fig, ax = plt.subplots(1,2, figsize=(20,6))\n",
    "sns.heatmap(max_scores2.mean_train_score, annot = True, fmt='.4g', ax=ax[0],annot_kws={\"size\": 26})\n",
    "sns.heatmap(max_scores2.mean_test_score, annot = True, fmt='.4g', ax=ax[1],annot_kws={\"size\": 26},cmap=\"YlGnBu\")\n",
    "ax[0].set_title('Train Set')\n",
    "ax[1].set_title('CV Set')\n",
    "plt.show()"
   ]
  },
  {
   "cell_type": "code",
   "execution_count": 61,
   "id": "62f7de2f",
   "metadata": {
    "execution": {
     "iopub.execute_input": "2023-04-26T11:14:30.959076Z",
     "iopub.status.busy": "2023-04-26T11:14:30.958417Z",
     "iopub.status.idle": "2023-04-26T11:14:30.964954Z",
     "shell.execute_reply": "2023-04-26T11:14:30.964195Z"
    },
    "id": "uLYzA2CWfTOr",
    "outputId": "613c9c3e-77db-494b-9f3b-1c9ec12b844f",
    "papermill": {
     "duration": 0.058236,
     "end_time": "2023-04-26T11:14:30.966903",
     "exception": false,
     "start_time": "2023-04-26T11:14:30.908667",
     "status": "completed"
    },
    "tags": []
   },
   "outputs": [
    {
     "data": {
      "text/plain": [
       "array([ 0.46591997,  0.46464101,  0.46215947,  1.57584469,  1.43573984,\n",
       "        1.18366114, 10.04119841,  6.96857746,  3.68491316])"
      ]
     },
     "execution_count": 61,
     "metadata": {},
     "output_type": "execute_result"
    }
   ],
   "source": [
    "clf2.cv_results_['mean_fit_time']"
   ]
  },
  {
   "cell_type": "markdown",
   "id": "c05b3a6f",
   "metadata": {
    "id": "yi_FmxTKi0SH",
    "papermill": {
     "duration": 0.048435,
     "end_time": "2023-04-26T11:14:31.063975",
     "exception": false,
     "start_time": "2023-04-26T11:14:31.015540",
     "status": "completed"
    },
    "tags": []
   },
   "source": [
    "**CASE 2 : RESULT**"
   ]
  },
  {
   "cell_type": "code",
   "execution_count": 62,
   "id": "bfff4686",
   "metadata": {
    "execution": {
     "iopub.execute_input": "2023-04-26T11:14:31.164366Z",
     "iopub.status.busy": "2023-04-26T11:14:31.163670Z",
     "iopub.status.idle": "2023-04-26T11:14:31.175265Z",
     "shell.execute_reply": "2023-04-26T11:14:31.174321Z"
    },
    "id": "0ADWNNixfgHn",
    "outputId": "a079027c-8ed6-439a-9d28-52b3bac241bd",
    "papermill": {
     "duration": 0.064574,
     "end_time": "2023-04-26T11:14:31.177483",
     "exception": false,
     "start_time": "2023-04-26T11:14:31.112909",
     "status": "completed"
    },
    "tags": []
   },
   "outputs": [
    {
     "data": {
      "text/plain": [
       "{'mean_fit_time': array([ 0.46591997,  0.46464101,  0.46215947,  1.57584469,  1.43573984,\n",
       "         1.18366114, 10.04119841,  6.96857746,  3.68491316]),\n",
       " 'std_fit_time': array([0.00430179, 0.01101556, 0.00656964, 0.00659629, 0.01668259,\n",
       "        0.03191234, 0.24320281, 0.42512506, 0.4523302 ]),\n",
       " 'mean_score_time': array([0.01935005, 0.01962082, 0.01854865, 0.02053658, 0.02022719,\n",
       "        0.02037009, 0.02574261, 0.02268616, 0.02118746]),\n",
       " 'std_score_time': array([4.37000552e-04, 4.69097116e-04, 3.08619955e-04, 2.20510965e-04,\n",
       "        8.00705528e-05, 1.38206083e-03, 6.73651750e-04, 2.85345546e-03,\n",
       "        3.42206465e-03]),\n",
       " 'param_max_depth': masked_array(data=[5, 5, 5, 10, 10, 10, 50, 50, 50],\n",
       "              mask=[False, False, False, False, False, False, False, False,\n",
       "                    False],\n",
       "        fill_value='?',\n",
       "             dtype=object),\n",
       " 'param_min_samples_split': masked_array(data=[10, 100, 500, 10, 100, 500, 10, 100, 500],\n",
       "              mask=[False, False, False, False, False, False, False, False,\n",
       "                    False],\n",
       "        fill_value='?',\n",
       "             dtype=object),\n",
       " 'params': [{'max_depth': 5, 'min_samples_split': 10},\n",
       "  {'max_depth': 5, 'min_samples_split': 100},\n",
       "  {'max_depth': 5, 'min_samples_split': 500},\n",
       "  {'max_depth': 10, 'min_samples_split': 10},\n",
       "  {'max_depth': 10, 'min_samples_split': 100},\n",
       "  {'max_depth': 10, 'min_samples_split': 500},\n",
       "  {'max_depth': 50, 'min_samples_split': 10},\n",
       "  {'max_depth': 50, 'min_samples_split': 100},\n",
       "  {'max_depth': 50, 'min_samples_split': 500}],\n",
       " 'split0_test_score': array([0.65822343, 0.65822343, 0.65804807, 0.64785927, 0.6465357 ,\n",
       "        0.6514715 , 0.54413171, 0.59768479, 0.6281432 ]),\n",
       " 'split1_test_score': array([0.66084291, 0.66084291, 0.66084291, 0.65466546, 0.65697681,\n",
       "        0.66174151, 0.55454997, 0.60006108, 0.63526449]),\n",
       " 'split2_test_score': array([0.65652463, 0.65650114, 0.65650114, 0.64766018, 0.65021495,\n",
       "        0.65706403, 0.56295297, 0.60041694, 0.63923965]),\n",
       " 'mean_test_score': array([0.65853032, 0.65852249, 0.65846404, 0.65006164, 0.65124249,\n",
       "        0.65675902, 0.55387822, 0.5993876 , 0.63421578]),\n",
       " 'std_test_score': array([0.00177624, 0.00178509, 0.00179676, 0.00325641, 0.00432404,\n",
       "        0.00419826, 0.00769842, 0.0012128 , 0.0045904 ]),\n",
       " 'rank_test_score': array([1, 2, 3, 6, 5, 4, 9, 8, 7], dtype=int32),\n",
       " 'split0_train_score': array([0.66903377, 0.66903377, 0.66868429, 0.72356364, 0.71423296,\n",
       "        0.70085959, 0.96585556, 0.85310354, 0.75756174]),\n",
       " 'split1_train_score': array([0.66851469, 0.66851469, 0.66851469, 0.71999457, 0.71239243,\n",
       "        0.70043414, 0.9685492 , 0.85490852, 0.75937787]),\n",
       " 'split2_train_score': array([0.66673235, 0.66661623, 0.66661623, 0.72433628, 0.71423427,\n",
       "        0.70213459, 0.96615682, 0.85370703, 0.75921341]),\n",
       " 'mean_train_score': array([0.66809361, 0.6680549 , 0.66793841, 0.7226315 , 0.71361989,\n",
       "        0.70114278, 0.96685386, 0.85390636, 0.75871767]),\n",
       " 'std_train_score': array([0.0009856 , 0.00103913, 0.00093748, 0.00189108, 0.00086794,\n",
       "        0.00072251, 0.00120508, 0.00075024, 0.00082012])}"
      ]
     },
     "execution_count": 62,
     "metadata": {},
     "output_type": "execute_result"
    }
   ],
   "source": [
    "clf2.cv_results_"
   ]
  },
  {
   "cell_type": "markdown",
   "id": "5446ad72",
   "metadata": {
    "id": "3PDZjzyWi4bc",
    "papermill": {
     "duration": 0.049538,
     "end_time": "2023-04-26T11:14:31.276985",
     "exception": false,
     "start_time": "2023-04-26T11:14:31.227447",
     "status": "completed"
    },
    "tags": []
   },
   "source": [
    "**CASE 2 : ROC CURVE**"
   ]
  },
  {
   "cell_type": "code",
   "execution_count": 63,
   "id": "e3418a70",
   "metadata": {
    "execution": {
     "iopub.execute_input": "2023-04-26T11:14:31.376624Z",
     "iopub.status.busy": "2023-04-26T11:14:31.376192Z",
     "iopub.status.idle": "2023-04-26T11:14:31.742517Z",
     "shell.execute_reply": "2023-04-26T11:14:31.741595Z"
    },
    "id": "qjbtS1jUfTpn",
    "outputId": "0780ffbe-38fe-42ef-f2e1-a694ef89794b",
    "papermill": {
     "duration": 0.418973,
     "end_time": "2023-04-26T11:14:31.744776",
     "exception": false,
     "start_time": "2023-04-26T11:14:31.325803",
     "status": "completed"
    },
    "tags": []
   },
   "outputs": [
    {
     "name": "stderr",
     "output_type": "stream",
     "text": [
      "/opt/conda/lib/python3.7/site-packages/ipykernel_launcher.py:23: MatplotlibDeprecationWarning:\n",
      "\n",
      "The 'b' parameter of grid() has been renamed 'visible' since Matplotlib 3.5; support for the old name will be dropped two minor releases later.\n",
      "\n"
     ]
    },
    {
     "data": {
      "image/png": "[encoded data removed]",
      "text/plain": [
       "<Figure size 432x288 with 1 Axes>"
      ]
     },
     "metadata": {},
     "output_type": "display_data"
    }
   ],
   "source": [
    "y_train_pred=clf2.predict_proba(X_train_TF_IDF_merge)[:,1]\n",
    "predictions_train_set2=clf2.predict(X_train_TF_IDF_merge)\n",
    "\n",
    "y_test_pred=clf2.predict_proba(X_test_TF_IDF_merge)[:,1]\n",
    "predictions_test_set2=clf2.predict(X_test_TF_IDF_merge)\n",
    "\n",
    "\n",
    "train_fpr, train_tpr, tr_thresholds = roc_curve(y_train_case2, y_train_pred)\n",
    "test_fpr, test_tpr, te_thresholds = roc_curve(y_test_case2, y_test_pred)\n",
    "\n",
    "ax = plt.subplot()\n",
    "\n",
    "auc_set2_train=auc(train_fpr, train_tpr)\n",
    "auc_set2_test=auc(test_fpr, test_tpr)\n",
    "\n",
    "\n",
    "ax.plot(train_fpr, train_tpr, label=\"Train AUC =\"+str(auc(train_fpr, train_tpr)))\n",
    "ax.plot(test_fpr, test_tpr, label=\"Test AUC =\"+str(auc(test_fpr, test_tpr)))\n",
    "plt.legend()\n",
    "plt.xlabel(\"False Positive Rate(FPR)\")\n",
    "plt.ylabel(\"True Positive Rate(TPR)\")\n",
    "plt.title(\"AUC\")\n",
    "plt.grid(b=True, which='major', color='k', linestyle=':')\n",
    "ax.set_facecolor(\"white\")\n",
    "plt.show()"
   ]
  },
  {
   "cell_type": "markdown",
   "id": "6fc66282",
   "metadata": {
    "id": "o136228-i_a_",
    "papermill": {
     "duration": 0.048963,
     "end_time": "2023-04-26T11:14:31.843605",
     "exception": false,
     "start_time": "2023-04-26T11:14:31.794642",
     "status": "completed"
    },
    "tags": []
   },
   "source": [
    "**CASE 2 : CONFUSION MATRIX**"
   ]
  },
  {
   "cell_type": "markdown",
   "id": "4d0e92f3",
   "metadata": {
    "id": "UorG5ko2lhlL",
    "papermill": {
     "duration": 0.049179,
     "end_time": "2023-04-26T11:14:31.941984",
     "exception": false,
     "start_time": "2023-04-26T11:14:31.892805",
     "status": "completed"
    },
    "tags": []
   },
   "source": [
    "Train Data"
   ]
  },
  {
   "cell_type": "code",
   "execution_count": 64,
   "id": "6317ac10",
   "metadata": {
    "execution": {
     "iopub.execute_input": "2023-04-26T11:14:32.043029Z",
     "iopub.status.busy": "2023-04-26T11:14:32.042616Z",
     "iopub.status.idle": "2023-04-26T11:14:32.381084Z",
     "shell.execute_reply": "2023-04-26T11:14:32.380130Z"
    },
    "id": "bBn2THCufT2w",
    "outputId": "176029f6-cb91-49e9-b9c8-b0e61e734eac",
    "papermill": {
     "duration": 0.391808,
     "end_time": "2023-04-26T11:14:32.383116",
     "exception": false,
     "start_time": "2023-04-26T11:14:31.991308",
     "status": "completed"
    },
    "tags": []
   },
   "outputs": [
    {
     "name": "stdout",
     "output_type": "stream",
     "text": [
      "the maximum value of tpr*(1-fpr) 0.38757967371669655 for threshold 0.479\n",
      "[[ 9053  4118]\n",
      " [32357 41836]]\n",
      "the maximum value of tpr*(1-fpr) 0.38757967371669655 for threshold 0.479\n"
     ]
    },
    {
     "data": {
      "text/plain": [
       "<AxesSubplot:>"
      ]
     },
     "execution_count": 64,
     "metadata": {},
     "output_type": "execute_result"
    },
    {
     "data": {
      "image/png": "[encoded data removed]",
      "text/plain": [
       "<Figure size 432x288 with 2 Axes>"
      ]
     },
     "metadata": {},
     "output_type": "display_data"
    }
   ],
   "source": [
    "print(confusion_matrix(y_train_case2, predict(y_train_pred, tr_thresholds, train_fpr, train_tpr)))\n",
    "\n",
    "conf_matr_df_train_case2 = pd.DataFrame(confusion_matrix(y_train_case2, predict(y_train_pred, tr_thresholds,train_fpr, train_tpr)), range(2),range(2))\n",
    "sns.set(font_scale=1.4)#for label size\n",
    "sns.heatmap(conf_matr_df_train_case2, annot=True,annot_kws={\"size\": 26}, fmt='g',cmap=\"YlGnBu\")"
   ]
  },
  {
   "cell_type": "markdown",
   "id": "3360d7d4",
   "metadata": {
    "id": "0re0XQr7lnHB",
    "papermill": {
     "duration": 0.050376,
     "end_time": "2023-04-26T11:14:32.484800",
     "exception": false,
     "start_time": "2023-04-26T11:14:32.434424",
     "status": "completed"
    },
    "tags": []
   },
   "source": [
    "Test Data"
   ]
  },
  {
   "cell_type": "code",
   "execution_count": 65,
   "id": "b7783742",
   "metadata": {
    "execution": {
     "iopub.execute_input": "2023-04-26T11:14:32.587528Z",
     "iopub.status.busy": "2023-04-26T11:14:32.586857Z",
     "iopub.status.idle": "2023-04-26T11:14:32.786879Z",
     "shell.execute_reply": "2023-04-26T11:14:32.786064Z"
    },
    "id": "3JCq9jdblEku",
    "outputId": "6279c2e7-e4ba-49ef-d039-758eb508a8f5",
    "papermill": {
     "duration": 0.254004,
     "end_time": "2023-04-26T11:14:32.788976",
     "exception": false,
     "start_time": "2023-04-26T11:14:32.534972",
     "status": "completed"
    },
    "tags": []
   },
   "outputs": [
    {
     "name": "stdout",
     "output_type": "stream",
     "text": [
      "the maximum value of tpr*(1-fpr) 0.38757967371669655 for threshold 0.479\n",
      "[[ 2671   683]\n",
      " [10990  7497]]\n",
      "the maximum value of tpr*(1-fpr) 0.38757967371669655 for threshold 0.479\n"
     ]
    },
    {
     "data": {
      "text/plain": [
       "<AxesSubplot:>"
      ]
     },
     "execution_count": 65,
     "metadata": {},
     "output_type": "execute_result"
    },
    {
     "data": {
      "image/png": "[encoded data removed]",
      "text/plain": [
       "<Figure size 432x288 with 2 Axes>"
      ]
     },
     "metadata": {},
     "output_type": "display_data"
    }
   ],
   "source": [
    "print(confusion_matrix(y_test_case2, predict(y_test_pred, tr_thresholds, train_fpr, train_tpr)))\n",
    "\n",
    "conf_matr_df_train_case2 = pd.DataFrame(confusion_matrix(y_test_case2, predict(y_test_pred, tr_thresholds,train_fpr, train_tpr)), range(2),range(2))\n",
    "sns.set(font_scale=1.4)#for label size\n",
    "sns.heatmap(conf_matr_df_train_case2, annot=True,annot_kws={\"size\": 26}, fmt='g',cmap=\"YlGnBu\")"
   ]
  },
  {
   "cell_type": "markdown",
   "id": "6b73daff",
   "metadata": {
    "id": "kWngyh4nkUEc",
    "papermill": {
     "duration": 0.051136,
     "end_time": "2023-04-26T11:14:32.947556",
     "exception": false,
     "start_time": "2023-04-26T11:14:32.896420",
     "status": "completed"
    },
    "tags": []
   },
   "source": [
    "#2. Performance Evaluation\n",
    "\n",
    "Print test Accuracy, Confusion Matrix for case 1 and case 2 separately."
   ]
  },
  {
   "cell_type": "markdown",
   "id": "d26facd1",
   "metadata": {
    "id": "bd5ZroY-L6zT",
    "papermill": {
     "duration": 0.051346,
     "end_time": "2023-04-26T11:14:33.050420",
     "exception": false,
     "start_time": "2023-04-26T11:14:32.999074",
     "status": "completed"
    },
    "tags": []
   },
   "source": [
    "**CASE 1: confusion matrix**"
   ]
  },
  {
   "cell_type": "code",
   "execution_count": 66,
   "id": "23db8fb8",
   "metadata": {
    "execution": {
     "iopub.execute_input": "2023-04-26T11:14:33.155790Z",
     "iopub.status.busy": "2023-04-26T11:14:33.155184Z",
     "iopub.status.idle": "2023-04-26T11:14:33.162211Z",
     "shell.execute_reply": "2023-04-26T11:14:33.161178Z"
    },
    "id": "P-GcKfZrL6zT",
    "papermill": {
     "duration": 0.062232,
     "end_time": "2023-04-26T11:14:33.164265",
     "exception": false,
     "start_time": "2023-04-26T11:14:33.102033",
     "status": "completed"
    },
    "tags": []
   },
   "outputs": [],
   "source": [
    "def predict(proba, threshould, fpr, tpr):\n",
    "    t = threshould[np.argmax(tpr*(1-fpr))]\n",
    "    # (tpr*(1-fpr)) will be maximum if your fpr is very low and tpr is very high\n",
    "    print(\"the maximum value of tpr*(1-fpr)\", max(tpr*(1-fpr)), \"for threshold\", np.round(t,3))\n",
    "    predictions = []\n",
    "    for i in proba:\n",
    "        if i>=t:\n",
    "            predictions.append(1)\n",
    "        else:\n",
    "            predictions.append(0)\n",
    "\n",
    "    return predictions"
   ]
  },
  {
   "cell_type": "code",
   "execution_count": 67,
   "id": "5e85cf16",
   "metadata": {
    "execution": {
     "iopub.execute_input": "2023-04-26T11:14:33.269729Z",
     "iopub.status.busy": "2023-04-26T11:14:33.269297Z",
     "iopub.status.idle": "2023-04-26T11:14:33.601024Z",
     "shell.execute_reply": "2023-04-26T11:14:33.600027Z"
    },
    "id": "6ciWxZ53L6zU",
    "outputId": "398748d7-ff4a-496d-9d48-15c086c30488",
    "papermill": {
     "duration": 0.387177,
     "end_time": "2023-04-26T11:14:33.603282",
     "exception": false,
     "start_time": "2023-04-26T11:14:33.216105",
     "status": "completed"
    },
    "tags": []
   },
   "outputs": [
    {
     "name": "stdout",
     "output_type": "stream",
     "text": [
      "the maximum value of tpr*(1-fpr) 0.38757967371669655 for threshold 0.479\n",
      "[[ 6265  6879]\n",
      " [35145 39075]]\n",
      "the maximum value of tpr*(1-fpr) 0.38757967371669655 for threshold 0.479\n"
     ]
    },
    {
     "data": {
      "text/plain": [
       "<AxesSubplot:>"
      ]
     },
     "execution_count": 67,
     "metadata": {},
     "output_type": "execute_result"
    },
    {
     "data": {
      "image/png": "[encoded data removed]",
      "text/plain": [
       "<Figure size 432x288 with 2 Axes>"
      ]
     },
     "metadata": {},
     "output_type": "display_data"
    }
   ],
   "source": [
    "print(confusion_matrix(y_train_case1, predict(y_train_pred, tr_thresholds, train_fpr, train_tpr)))\n",
    "\n",
    "conf_matr_df_train_case1 = pd.DataFrame(confusion_matrix(y_train_case1, predict(y_train_pred, tr_thresholds,train_fpr, train_tpr)), range(2),range(2))\n",
    "sns.set(font_scale=1.4)#for label size\n",
    "sns.heatmap(conf_matr_df_train_case1, annot=True,annot_kws={\"size\": 26}, fmt='g',cmap=\"YlGnBu\")"
   ]
  },
  {
   "cell_type": "code",
   "execution_count": 68,
   "id": "297ce141",
   "metadata": {
    "execution": {
     "iopub.execute_input": "2023-04-26T11:14:33.710318Z",
     "iopub.status.busy": "2023-04-26T11:14:33.709872Z",
     "iopub.status.idle": "2023-04-26T11:14:33.978288Z",
     "shell.execute_reply": "2023-04-26T11:14:33.977264Z"
    },
    "id": "WuoGcYshL6zV",
    "outputId": "6351a399-410e-4e0f-9fb4-502550574e68",
    "papermill": {
     "duration": 0.325174,
     "end_time": "2023-04-26T11:14:33.980537",
     "exception": false,
     "start_time": "2023-04-26T11:14:33.655363",
     "status": "completed"
    },
    "tags": []
   },
   "outputs": [
    {
     "name": "stdout",
     "output_type": "stream",
     "text": [
      "the maximum value of tpr*(1-fpr) 0.38757967371669655 for threshold 0.479\n",
      "[[ 2119  1262]\n",
      " [11542  6918]]\n",
      "the maximum value of tpr*(1-fpr) 0.38757967371669655 for threshold 0.479\n"
     ]
    },
    {
     "data": {
      "text/plain": [
       "<AxesSubplot:>"
      ]
     },
     "execution_count": 68,
     "metadata": {},
     "output_type": "execute_result"
    },
    {
     "data": {
      "image/png": "[encoded data removed]",
      "text/plain": [
       "<Figure size 432x288 with 2 Axes>"
      ]
     },
     "metadata": {},
     "output_type": "display_data"
    }
   ],
   "source": [
    "print(confusion_matrix(y_test_case1, predict(y_test_pred, tr_thresholds, train_fpr, train_tpr)))\n",
    "\n",
    "conf_matr_df_train_case2 = pd.DataFrame(confusion_matrix(y_test_case1, predict(y_test_pred, tr_thresholds,train_fpr, train_tpr)), range(2),range(2))\n",
    "sns.set(font_scale=1.4)#for label size\n",
    "sns.heatmap(conf_matr_df_train_case2, annot=True,annot_kws={\"size\": 26}, fmt='g',cmap=\"YlGnBu\")"
   ]
  },
  {
   "cell_type": "markdown",
   "id": "9d1a8da6",
   "metadata": {
    "id": "THyITbWsOzEx",
    "papermill": {
     "duration": 0.053109,
     "end_time": "2023-04-26T11:14:34.087128",
     "exception": false,
     "start_time": "2023-04-26T11:14:34.034019",
     "status": "completed"
    },
    "tags": []
   },
   "source": [
    "**CASE 2: confusion matrix**"
   ]
  },
  {
   "cell_type": "code",
   "execution_count": 69,
   "id": "9e9fa514",
   "metadata": {
    "execution": {
     "iopub.execute_input": "2023-04-26T11:14:34.196531Z",
     "iopub.status.busy": "2023-04-26T11:14:34.195274Z",
     "iopub.status.idle": "2023-04-26T11:14:34.201854Z",
     "shell.execute_reply": "2023-04-26T11:14:34.201110Z"
    },
    "id": "mfbbGJW-OzEx",
    "papermill": {
     "duration": 0.064014,
     "end_time": "2023-04-26T11:14:34.204007",
     "exception": false,
     "start_time": "2023-04-26T11:14:34.139993",
     "status": "completed"
    },
    "tags": []
   },
   "outputs": [],
   "source": [
    "def predict(proba, threshould, fpr, tpr):\n",
    "    t = threshould[np.argmax(tpr*(1-fpr))]\n",
    "    # (tpr*(1-fpr)) will be maximum if your fpr is very low and tpr is very high\n",
    "    print(\"the maximum value of tpr*(1-fpr)\", max(tpr*(1-fpr)), \"for threshold\", np.round(t,3))\n",
    "    predictions = []\n",
    "    for i in proba:\n",
    "        if i>=t:\n",
    "            predictions.append(1)\n",
    "        else:\n",
    "            predictions.append(0)\n",
    "\n",
    "    return predictions"
   ]
  },
  {
   "cell_type": "code",
   "execution_count": 70,
   "id": "76dabff1",
   "metadata": {
    "execution": {
     "iopub.execute_input": "2023-04-26T11:14:34.312760Z",
     "iopub.status.busy": "2023-04-26T11:14:34.311573Z",
     "iopub.status.idle": "2023-04-26T11:14:34.661304Z",
     "shell.execute_reply": "2023-04-26T11:14:34.660369Z"
    },
    "id": "ItRS8i02OzEy",
    "outputId": "32ade698-f1d7-4444-d125-2a646df7bccb",
    "papermill": {
     "duration": 0.406289,
     "end_time": "2023-04-26T11:14:34.663453",
     "exception": false,
     "start_time": "2023-04-26T11:14:34.257164",
     "status": "completed"
    },
    "tags": []
   },
   "outputs": [
    {
     "name": "stdout",
     "output_type": "stream",
     "text": [
      "the maximum value of tpr*(1-fpr) 0.38757967371669655 for threshold 0.479\n",
      "[[ 9053  4118]\n",
      " [32357 41836]]\n",
      "the maximum value of tpr*(1-fpr) 0.38757967371669655 for threshold 0.479\n"
     ]
    },
    {
     "data": {
      "text/plain": [
       "<AxesSubplot:>"
      ]
     },
     "execution_count": 70,
     "metadata": {},
     "output_type": "execute_result"
    },
    {
     "data": {
      "image/png": "[encoded data removed]",
      "text/plain": [
       "<Figure size 432x288 with 2 Axes>"
      ]
     },
     "metadata": {},
     "output_type": "display_data"
    }
   ],
   "source": [
    "print(confusion_matrix(y_train_case2, predict(y_train_pred, tr_thresholds, train_fpr, train_tpr)))\n",
    "\n",
    "conf_matr_df_train_case1 = pd.DataFrame(confusion_matrix(y_train_case2, predict(y_train_pred, tr_thresholds,train_fpr, train_tpr)), range(2),range(2))\n",
    "sns.set(font_scale=1.4)#for label size\n",
    "sns.heatmap(conf_matr_df_train_case2, annot=True,annot_kws={\"size\": 26}, fmt='g',cmap=\"YlGnBu\")"
   ]
  },
  {
   "cell_type": "code",
   "execution_count": 71,
   "id": "d2a7d5ac",
   "metadata": {
    "execution": {
     "iopub.execute_input": "2023-04-26T11:14:34.773058Z",
     "iopub.status.busy": "2023-04-26T11:14:34.772653Z",
     "iopub.status.idle": "2023-04-26T11:14:35.040667Z",
     "shell.execute_reply": "2023-04-26T11:14:35.039945Z"
    },
    "id": "e6xpVgguOzEy",
    "outputId": "b9eb0ac5-2eb6-4910-a052-0a93dbec9088",
    "papermill": {
     "duration": 0.325607,
     "end_time": "2023-04-26T11:14:35.042850",
     "exception": false,
     "start_time": "2023-04-26T11:14:34.717243",
     "status": "completed"
    },
    "tags": []
   },
   "outputs": [
    {
     "name": "stdout",
     "output_type": "stream",
     "text": [
      "the maximum value of tpr*(1-fpr) 0.38757967371669655 for threshold 0.479\n",
      "[[ 2671   683]\n",
      " [10990  7497]]\n",
      "the maximum value of tpr*(1-fpr) 0.38757967371669655 for threshold 0.479\n"
     ]
    },
    {
     "data": {
      "text/plain": [
       "<AxesSubplot:>"
      ]
     },
     "execution_count": 71,
     "metadata": {},
     "output_type": "execute_result"
    },
    {
     "data": {
      "image/png": "[encoded data removed]",
      "text/plain": [
       "<Figure size 432x288 with 2 Axes>"
      ]
     },
     "metadata": {},
     "output_type": "display_data"
    }
   ],
   "source": [
    "print(confusion_matrix(y_test_case2, predict(y_test_pred, tr_thresholds, train_fpr, train_tpr)))\n",
    "\n",
    "conf_matr_df_train_case2 = pd.DataFrame(confusion_matrix(y_test_case2, predict(y_test_pred, tr_thresholds,train_fpr, train_tpr)), range(2),range(2))\n",
    "sns.set(font_scale=1.4)#for label size\n",
    "sns.heatmap(conf_matr_df_train_case2, annot=True,annot_kws={\"size\": 26}, fmt='g',cmap=\"YlGnBu\")"
   ]
  },
  {
   "cell_type": "code",
   "execution_count": 72,
   "id": "cccfc3cf",
   "metadata": {
    "execution": {
     "iopub.execute_input": "2023-04-26T11:14:35.155412Z",
     "iopub.status.busy": "2023-04-26T11:14:35.154667Z",
     "iopub.status.idle": "2023-04-26T11:14:35.159706Z",
     "shell.execute_reply": "2023-04-26T11:14:35.159055Z"
    },
    "id": "K7ESYFO3QJC6",
    "outputId": "87bdedeb-96ba-496f-a577-c7b79c73caaf",
    "papermill": {
     "duration": 0.062824,
     "end_time": "2023-04-26T11:14:35.161652",
     "exception": false,
     "start_time": "2023-04-26T11:14:35.098828",
     "status": "completed"
    },
    "tags": []
   },
   "outputs": [
    {
     "name": "stdout",
     "output_type": "stream",
     "text": [
      "Vectoriser BoW \n",
      "Hyper parameter-max depth: 10\n",
      "Test AUC:0.644547809231564\n"
     ]
    }
   ],
   "source": [
    "print(\"Vectoriser BoW \\nHyper parameter-max depth: \" + str(case1_maxDepth) + \"\\nTest AUC:\" + str(case1_aucTest))"
   ]
  },
  {
   "cell_type": "code",
   "execution_count": 73,
   "id": "7e52c1dc",
   "metadata": {
    "execution": {
     "iopub.execute_input": "2023-04-26T11:14:35.271284Z",
     "iopub.status.busy": "2023-04-26T11:14:35.270601Z",
     "iopub.status.idle": "2023-04-26T11:14:35.275852Z",
     "shell.execute_reply": "2023-04-26T11:14:35.274783Z"
    },
    "id": "UvoNE99ZR-Cw",
    "outputId": "4fe2c5b0-cc52-4783-916f-1c363ddfc186",
    "papermill": {
     "duration": 0.06254,
     "end_time": "2023-04-26T11:14:35.278033",
     "exception": false,
     "start_time": "2023-04-26T11:14:35.215493",
     "status": "completed"
    },
    "tags": []
   },
   "outputs": [
    {
     "name": "stdout",
     "output_type": "stream",
     "text": [
      "Vectoriser TF-IDF \n",
      "Hyper parameter-max depth: 5\n",
      "Test AUC:0.6423508401639484\n"
     ]
    }
   ],
   "source": [
    "print(\"Vectoriser TF-IDF \\nHyper parameter-max depth: \" + str(clf2.best_params_['max_depth']) + \"\\nTest AUC:\" + str(auc_set2_test))"
   ]
  }
 ],
 "metadata": {
  "kernelspec": {
   "display_name": "Python 3",
   "language": "python",
   "name": "python3"
  },
  "language_info": {
   "codemirror_mode": {
    "name": "ipython",
    "version": 3
   },
   "file_extension": ".py",
   "mimetype": "text/x-python",
   "name": "python",
   "nbconvert_exporter": "python",
   "pygments_lexer": "ipython3",
   "version": "3.7.12"
  },
  "papermill": {
   "default_parameters": {},
   "duration": 344.323261,
   "end_time": "2023-04-26T11:14:38.053877",
   "environment_variables": {},
   "exception": null,
   "input_path": "__notebook__.ipynb",
   "output_path": "__notebook__.ipynb",
   "parameters": {},
   "start_time": "2023-04-26T11:08:53.730616",
   "version": "2.3.4"
  }
 },
 "nbformat": 4,
 "nbformat_minor": 5
}
